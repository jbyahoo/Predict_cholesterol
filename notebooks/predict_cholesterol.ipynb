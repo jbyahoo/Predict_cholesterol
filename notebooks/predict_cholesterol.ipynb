{
 "cells": [
  {
   "cell_type": "code",
   "execution_count": 1,
   "metadata": {},
   "outputs": [],
   "source": [
    "%load_ext autoreload\n",
    "%autoreload 2"
   ]
  },
  {
   "cell_type": "code",
   "execution_count": 2,
   "metadata": {},
   "outputs": [],
   "source": [
    "import os\n",
    "\n",
    "kaggle_username = os.environ.get(\"KAGGLE_USERNAME\")\n",
    "kaggle_key = os.environ.get(\"KAGGLE_KEY\")\n"
   ]
  },
  {
   "cell_type": "code",
   "execution_count": 3,
   "metadata": {},
   "outputs": [
    {
     "name": "stderr",
     "output_type": "stream",
     "text": [
      "\u001b[32m2025-06-06 21:53:18.168\u001b[0m | \u001b[1mINFO    \u001b[0m | \u001b[36mARISA_DSML.config\u001b[0m:\u001b[36m<module>\u001b[0m:\u001b[36m12\u001b[0m - \u001b[1mPROJ_ROOT path is: /workspaces/Predict_cholesterol\u001b[0m\n"
     ]
    }
   ],
   "source": [
    "import sys\n",
    "import os\n",
    "\n",
    "sys.path.append(os.path.abspath(\"..\"))\n",
    "\n",
    "from ARISA_DSML.preproc import get_raw_data\n",
    "from ARISA_DSML.config import RAW_DATA_DIR, target"
   ]
  },
  {
   "cell_type": "code",
   "execution_count": 4,
   "metadata": {},
   "outputs": [],
   "source": [
    "import os\n",
    "\n",
    "container_check = os.getenv(\"iscontainer\")\n",
    "if container_check == \"y\":\n",
    "    # Set Kaggle credentials from Codespaces secrets (environment variables)\n",
    "    kaggle_username = os.environ.get(\"KAGGLE_USERNAME\")\n",
    "    kaggle_key = os.environ.get(\"KAGGLE_KEY\")\n",
    "    if not kaggle_username or not kaggle_key:\n",
    "        raise ValueError(\"KAGGLE_USERNAME and/or KAGGLE_KEY environment variables are not set.\")\n",
    "\n",
    "    os.environ[\"KAGGLE_USERNAME\"] = kaggle_username\n",
    "    os.environ[\"KAGGLE_KEY\"] = kaggle_key\n"
   ]
  },
  {
   "cell_type": "code",
   "execution_count": 6,
   "metadata": {},
   "outputs": [
    {
     "ename": "FileNotFoundError",
     "evalue": "[Errno 2] No such file or directory: '../kaggle.json'",
     "output_type": "error",
     "traceback": [
      "\u001b[31m---------------------------------------------------------------------------\u001b[39m",
      "\u001b[31mFileNotFoundError\u001b[39m                         Traceback (most recent call last)",
      "\u001b[36mCell\u001b[39m\u001b[36m \u001b[39m\u001b[32mIn[6]\u001b[39m\u001b[32m, line 9\u001b[39m\n\u001b[32m      6\u001b[39m config_dir.mkdir(parents=\u001b[38;5;28;01mTrue\u001b[39;00m, exist_ok=\u001b[38;5;28;01mTrue\u001b[39;00m)\n\u001b[32m      8\u001b[39m \u001b[38;5;28;01mwith\u001b[39;00m \u001b[38;5;28mopen\u001b[39m(config_dir / \u001b[33m\"\u001b[39m\u001b[33mkaggle.json\u001b[39m\u001b[33m\"\u001b[39m, \u001b[33m\"\u001b[39m\u001b[33mw\u001b[39m\u001b[33m\"\u001b[39m) \u001b[38;5;28;01mas\u001b[39;00m dst:\n\u001b[32m----> \u001b[39m\u001b[32m9\u001b[39m     \u001b[38;5;28;01mwith\u001b[39;00m \u001b[38;5;28;43mopen\u001b[39;49m\u001b[43m(\u001b[49m\u001b[33;43m\"\u001b[39;49m\u001b[33;43m../kaggle.json\u001b[39;49m\u001b[33;43m\"\u001b[39;49m\u001b[43m,\u001b[49m\u001b[43m \u001b[49m\u001b[33;43m\"\u001b[39;49m\u001b[33;43mr\u001b[39;49m\u001b[33;43m\"\u001b[39;49m\u001b[43m)\u001b[49m \u001b[38;5;28;01mas\u001b[39;00m src:\n\u001b[32m     10\u001b[39m         dst.write(src.read())\n",
      "\u001b[36mFile \u001b[39m\u001b[32m/usr/local/lib/python3.11/site-packages/IPython/core/interactiveshell.py:327\u001b[39m, in \u001b[36m_modified_open\u001b[39m\u001b[34m(file, *args, **kwargs)\u001b[39m\n\u001b[32m    320\u001b[39m \u001b[38;5;28;01mif\u001b[39;00m file \u001b[38;5;129;01min\u001b[39;00m {\u001b[32m0\u001b[39m, \u001b[32m1\u001b[39m, \u001b[32m2\u001b[39m}:\n\u001b[32m    321\u001b[39m     \u001b[38;5;28;01mraise\u001b[39;00m \u001b[38;5;167;01mValueError\u001b[39;00m(\n\u001b[32m    322\u001b[39m         \u001b[33mf\u001b[39m\u001b[33m\"\u001b[39m\u001b[33mIPython won\u001b[39m\u001b[33m'\u001b[39m\u001b[33mt let you open fd=\u001b[39m\u001b[38;5;132;01m{\u001b[39;00mfile\u001b[38;5;132;01m}\u001b[39;00m\u001b[33m by default \u001b[39m\u001b[33m\"\u001b[39m\n\u001b[32m    323\u001b[39m         \u001b[33m\"\u001b[39m\u001b[33mas it is likely to crash IPython. If you know what you are doing, \u001b[39m\u001b[33m\"\u001b[39m\n\u001b[32m    324\u001b[39m         \u001b[33m\"\u001b[39m\u001b[33myou can use builtins\u001b[39m\u001b[33m'\u001b[39m\u001b[33m open.\u001b[39m\u001b[33m\"\u001b[39m\n\u001b[32m    325\u001b[39m     )\n\u001b[32m--> \u001b[39m\u001b[32m327\u001b[39m \u001b[38;5;28;01mreturn\u001b[39;00m \u001b[43mio_open\u001b[49m\u001b[43m(\u001b[49m\u001b[43mfile\u001b[49m\u001b[43m,\u001b[49m\u001b[43m \u001b[49m\u001b[43m*\u001b[49m\u001b[43margs\u001b[49m\u001b[43m,\u001b[49m\u001b[43m \u001b[49m\u001b[43m*\u001b[49m\u001b[43m*\u001b[49m\u001b[43mkwargs\u001b[49m\u001b[43m)\u001b[49m\n",
      "\u001b[31mFileNotFoundError\u001b[39m: [Errno 2] No such file or directory: '../kaggle.json'"
     ]
    }
   ],
   "source": [
    "import os\n",
    "from pathlib import Path\n",
    "container_check = os.getenv(\"iscontainer\")\n",
    "if container_check==\"y\":\n",
    "    config_dir = Path(\"/home/vscode/.config/kaggle\")\n",
    "    config_dir.mkdir(parents=True, exist_ok=True)\n",
    "\n",
    "    with open(config_dir / \"kaggle.json\", \"w\") as dst:\n",
    "        with open(\"../kaggle.json\", \"r\") as src:\n",
    "            dst.write(src.read())"
   ]
  },
  {
   "cell_type": "code",
   "execution_count": 5,
   "metadata": {},
   "outputs": [
    {
     "name": "stderr",
     "output_type": "stream",
     "text": [
      "\u001b[32m2025-06-06 21:53:27.205\u001b[0m | \u001b[1mINFO    \u001b[0m | \u001b[36mARISA_DSML.preproc\u001b[0m:\u001b[36mget_raw_data\u001b[0m:\u001b[36m23\u001b[0m - \u001b[1mDownloading data to: /workspaces/Predict_cholesterol/data/raw\u001b[0m\n"
     ]
    },
    {
     "name": "stdout",
     "output_type": "stream",
     "text": [
      "Dataset URL: https://www.kaggle.com/datasets/joannborkowska/cholesterol-supplementation-classification\n"
     ]
    },
    {
     "name": "stderr",
     "output_type": "stream",
     "text": [
      "\u001b[32m2025-06-06 21:53:27.776\u001b[0m | \u001b[1mINFO    \u001b[0m | \u001b[36mARISA_DSML.preproc\u001b[0m:\u001b[36mget_raw_data\u001b[0m:\u001b[36m33\u001b[0m - \u001b[1mDataset download and extraction completed successfully\u001b[0m\n"
     ]
    },
    {
     "name": "stdout",
     "output_type": "stream",
     "text": [
      "test_cholesterol.xlsx  train_choloesterol.xlsx\n"
     ]
    }
   ],
   "source": [
    "get_raw_data()\n",
    "!dir \"{RAW_DATA_DIR}\""
   ]
  },
  {
   "cell_type": "code",
   "execution_count": 6,
   "metadata": {},
   "outputs": [],
   "source": [
    "from ARISA_DSML.preproc import preprocess_df\n",
    "\n",
    "train_path = preprocess_df(RAW_DATA_DIR / \"train_choloesterol.xlsx\")"
   ]
  },
  {
   "cell_type": "code",
   "execution_count": 7,
   "metadata": {},
   "outputs": [],
   "source": [
    "import pandas as pd\n",
    "df_train = pd.read_csv(train_path)"
   ]
  },
  {
   "cell_type": "code",
   "execution_count": 8,
   "metadata": {},
   "outputs": [],
   "source": [
    "y_train = df_train.pop(target)\n",
    "X_train = df_train"
   ]
  },
  {
   "cell_type": "code",
   "execution_count": 10,
   "metadata": {},
   "outputs": [],
   "source": [
    "import os\n",
    "import mlflow\n",
    "\n",
    "# Konfiguracja z zmiennych środowiskowych\n",
    "server = os.environ[\"AZURE_DBSERVER\"]\n",
    "username = os.environ[\"AZURE_DBUSERNAME\"]\n",
    "password = os.environ[\"AZURE_DBUSERPASS\"]\n",
    "dbname = os.environ[\"AZURE_DBUSERNAME\"]\n",
    "\n",
    "# Zbuduj connection string\n",
    "sql_uri = (\n",
    "    f\"mssql+pyodbc://{username}:{password}@{server}:1433/{dbname}\"\n",
    "    \"?driver=ODBC+Driver+17+for+SQL+Server\"\n",
    ")\n",
    "\n",
    "# Ustaw tracking URI\n",
    "mlflow.set_tracking_uri(sql_uri)\n"
   ]
  },
  {
   "cell_type": "code",
   "execution_count": null,
   "metadata": {},
   "outputs": [
    {
     "name": "stderr",
     "output_type": "stream",
     "text": [
      "2025/06/06 22:03:26 WARNING mlflow.store.db.utils: SQLAlchemy engine could not be created. The following exception is caught.\n",
      "(pyodbc.ProgrammingError) ('42000', '[42000] [Microsoft][ODBC Driver 17 for SQL Server][SQL Server]Cannot open database \"GithubUser\" requested by the login. The login failed. (4060) (SQLDriverConnect)')\n",
      "(Background on this error at: https://sqlalche.me/e/20/f405)\n",
      "Operation will be retried in 0.1 seconds\n",
      "2025/06/06 22:03:26 WARNING mlflow.store.db.utils: SQLAlchemy engine could not be created. The following exception is caught.\n",
      "(pyodbc.ProgrammingError) ('42000', '[42000] [Microsoft][ODBC Driver 17 for SQL Server][SQL Server]Cannot open database \"GithubUser\" requested by the login. The login failed. (4060) (SQLDriverConnect)')\n",
      "(Background on this error at: https://sqlalche.me/e/20/f405)\n",
      "Operation will be retried in 0.3 seconds\n",
      "2025/06/06 22:03:27 WARNING mlflow.store.db.utils: SQLAlchemy engine could not be created. The following exception is caught.\n",
      "(pyodbc.ProgrammingError) ('42000', '[42000] [Microsoft][ODBC Driver 17 for SQL Server][SQL Server]Cannot open database \"GithubUser\" requested by the login. The login failed. (4060) (SQLDriverConnect)')\n",
      "(Background on this error at: https://sqlalche.me/e/20/f405)\n",
      "Operation will be retried in 0.7 seconds\n",
      "2025/06/06 22:03:29 WARNING mlflow.store.db.utils: SQLAlchemy engine could not be created. The following exception is caught.\n",
      "(pyodbc.ProgrammingError) ('42000', '[42000] [Microsoft][ODBC Driver 17 for SQL Server][SQL Server]Cannot open database \"GithubUser\" requested by the login. The login failed. (4060) (SQLDriverConnect)')\n",
      "(Background on this error at: https://sqlalche.me/e/20/f405)\n",
      "Operation will be retried in 1.5 seconds\n",
      "2025/06/06 22:03:31 WARNING mlflow.store.db.utils: SQLAlchemy engine could not be created. The following exception is caught.\n",
      "(pyodbc.ProgrammingError) ('42000', '[42000] [Microsoft][ODBC Driver 17 for SQL Server][SQL Server]Cannot open database \"GithubUser\" requested by the login. The login failed. (4060) (SQLDriverConnect)')\n",
      "(Background on this error at: https://sqlalche.me/e/20/f405)\n",
      "Operation will be retried in 3.1 seconds\n",
      "2025/06/06 22:03:34 WARNING mlflow.store.db.utils: SQLAlchemy engine could not be created. The following exception is caught.\n",
      "(pyodbc.ProgrammingError) ('42000', '[42000] [Microsoft][ODBC Driver 17 for SQL Server][SQL Server]Cannot open database \"GithubUser\" requested by the login. The login failed. (4060) (SQLDriverConnect)')\n",
      "(Background on this error at: https://sqlalche.me/e/20/f405)\n",
      "Operation will be retried in 6.3 seconds\n",
      "2025/06/06 22:03:41 WARNING mlflow.store.db.utils: SQLAlchemy engine could not be created. The following exception is caught.\n",
      "(pyodbc.ProgrammingError) ('42000', '[42000] [Microsoft][ODBC Driver 17 for SQL Server][SQL Server]Cannot open database \"GithubUser\" requested by the login. The login failed. (4060) (SQLDriverConnect)')\n",
      "(Background on this error at: https://sqlalche.me/e/20/f405)\n",
      "Operation will be retried in 12.7 seconds\n",
      "2025/06/06 22:03:54 WARNING mlflow.store.db.utils: SQLAlchemy engine could not be created. The following exception is caught.\n",
      "(pyodbc.ProgrammingError) ('42000', '[42000] [Microsoft][ODBC Driver 17 for SQL Server][SQL Server]Cannot open database \"GithubUser\" requested by the login. The login failed. (4060) (SQLDriverConnect)')\n",
      "(Background on this error at: https://sqlalche.me/e/20/f405)\n",
      "Operation will be retried in 25.5 seconds\n",
      "2025/06/06 22:04:20 WARNING mlflow.store.db.utils: SQLAlchemy engine could not be created. The following exception is caught.\n",
      "(pyodbc.ProgrammingError) ('42000', '[42000] [Microsoft][ODBC Driver 17 for SQL Server][SQL Server]Cannot open database \"GithubUser\" requested by the login. The login failed. (4060) (SQLDriverConnect)')\n",
      "(Background on this error at: https://sqlalche.me/e/20/f405)\n",
      "Operation will be retried in 51.1 seconds\n"
     ]
    }
   ],
   "source": [
    "import mlflow\n",
    "\n",
    "# Utwórz eksperyment\n",
    "mlflow.set_experiment(\"test-notebook\")\n",
    "\n",
    "with mlflow.start_run():\n",
    "    mlflow.log_param(\"test_param\", 42)\n",
    "    mlflow.log_metric(\"test_metric\", 0.95)\n",
    "    print(\"Dane zostały zapisane w Azure SQL i Azure Storage!\")\n"
   ]
  },
  {
   "cell_type": "code",
   "execution_count": 19,
   "metadata": {},
   "outputs": [
    {
     "ename": "ImportError",
     "evalue": "libodbc.so.2: cannot open shared object file: No such file or directory",
     "output_type": "error",
     "traceback": [
      "\u001b[31m---------------------------------------------------------------------------\u001b[39m",
      "\u001b[31mImportError\u001b[39m                               Traceback (most recent call last)",
      "\u001b[36mCell\u001b[39m\u001b[36m \u001b[39m\u001b[32mIn[19]\u001b[39m\u001b[32m, line 3\u001b[39m\n\u001b[32m      1\u001b[39m \u001b[38;5;28;01mfrom\u001b[39;00m\u001b[38;5;250m \u001b[39m\u001b[34;01mARISA_DSML\u001b[39;00m\u001b[34;01m.\u001b[39;00m\u001b[34;01mtrain\u001b[39;00m\u001b[38;5;250m \u001b[39m\u001b[38;5;28;01mimport\u001b[39;00m run_hyperopt\n\u001b[32m      2\u001b[39m \u001b[38;5;28;01mimport\u001b[39;00m\u001b[38;5;250m \u001b[39m\u001b[34;01mmlflow\u001b[39;00m\n\u001b[32m----> \u001b[39m\u001b[32m3\u001b[39m \u001b[43mmlflow\u001b[49m\u001b[43m.\u001b[49m\u001b[43mset_experiment\u001b[49m\u001b[43m(\u001b[49m\u001b[33;43m\"\u001b[39;49m\u001b[33;43mcholesterol_hyperparam_tuning\u001b[39;49m\u001b[33;43m\"\u001b[39;49m\u001b[43m)\u001b[49m\n\u001b[32m      5\u001b[39m best_params_path = run_hyperopt(X_train, y_train)\n",
      "\u001b[36mFile \u001b[39m\u001b[32m/usr/local/lib/python3.11/site-packages/mlflow/tracking/fluent.py:141\u001b[39m, in \u001b[36mset_experiment\u001b[39m\u001b[34m(experiment_name, experiment_id)\u001b[39m\n\u001b[32m    133\u001b[39m \u001b[38;5;28;01mif\u001b[39;00m (experiment_name \u001b[38;5;129;01mis\u001b[39;00m \u001b[38;5;129;01mnot\u001b[39;00m \u001b[38;5;28;01mNone\u001b[39;00m \u001b[38;5;129;01mand\u001b[39;00m experiment_id \u001b[38;5;129;01mis\u001b[39;00m \u001b[38;5;129;01mnot\u001b[39;00m \u001b[38;5;28;01mNone\u001b[39;00m) \u001b[38;5;129;01mor\u001b[39;00m (\n\u001b[32m    134\u001b[39m     experiment_name \u001b[38;5;129;01mis\u001b[39;00m \u001b[38;5;28;01mNone\u001b[39;00m \u001b[38;5;129;01mand\u001b[39;00m experiment_id \u001b[38;5;129;01mis\u001b[39;00m \u001b[38;5;28;01mNone\u001b[39;00m\n\u001b[32m    135\u001b[39m ):\n\u001b[32m    136\u001b[39m     \u001b[38;5;28;01mraise\u001b[39;00m MlflowException(\n\u001b[32m    137\u001b[39m         message=\u001b[33m\"\u001b[39m\u001b[33mMust specify exactly one of: `experiment_id` or `experiment_name`.\u001b[39m\u001b[33m\"\u001b[39m,\n\u001b[32m    138\u001b[39m         error_code=INVALID_PARAMETER_VALUE,\n\u001b[32m    139\u001b[39m     )\n\u001b[32m--> \u001b[39m\u001b[32m141\u001b[39m client = \u001b[43mMlflowClient\u001b[49m\u001b[43m(\u001b[49m\u001b[43m)\u001b[49m\n\u001b[32m    142\u001b[39m \u001b[38;5;28;01mif\u001b[39;00m experiment_id \u001b[38;5;129;01mis\u001b[39;00m \u001b[38;5;28;01mNone\u001b[39;00m:\n\u001b[32m    143\u001b[39m     experiment = client.get_experiment_by_name(experiment_name)\n",
      "\u001b[36mFile \u001b[39m\u001b[32m/usr/local/lib/python3.11/site-packages/mlflow/tracking/client.py:99\u001b[39m, in \u001b[36mMlflowClient.__init__\u001b[39m\u001b[34m(self, tracking_uri, registry_uri)\u001b[39m\n\u001b[32m     97\u001b[39m final_tracking_uri = utils._resolve_tracking_uri(tracking_uri)\n\u001b[32m     98\u001b[39m \u001b[38;5;28mself\u001b[39m._registry_uri = registry_utils._resolve_registry_uri(registry_uri, tracking_uri)\n\u001b[32m---> \u001b[39m\u001b[32m99\u001b[39m \u001b[38;5;28mself\u001b[39m._tracking_client = \u001b[43mTrackingServiceClient\u001b[49m\u001b[43m(\u001b[49m\u001b[43mfinal_tracking_uri\u001b[49m\u001b[43m)\u001b[49m\n",
      "\u001b[36mFile \u001b[39m\u001b[32m/usr/local/lib/python3.11/site-packages/mlflow/tracking/_tracking_service/client.py:53\u001b[39m, in \u001b[36mTrackingServiceClient.__init__\u001b[39m\u001b[34m(self, tracking_uri)\u001b[39m\n\u001b[32m     48\u001b[39m \u001b[38;5;28mself\u001b[39m.tracking_uri = tracking_uri\n\u001b[32m     49\u001b[39m \u001b[38;5;66;03m# NB: Fetch the tracking store (`self.store`) upon client initialization to ensure that\u001b[39;00m\n\u001b[32m     50\u001b[39m \u001b[38;5;66;03m# the tracking URI is valid and the store can be properly resolved. We define `store` as a\u001b[39;00m\n\u001b[32m     51\u001b[39m \u001b[38;5;66;03m# property method to ensure that the client is serializable, even if the store is not\u001b[39;00m\n\u001b[32m     52\u001b[39m \u001b[38;5;66;03m# self.store\u001b[39;00m\n\u001b[32m---> \u001b[39m\u001b[32m53\u001b[39m \u001b[38;5;28;43mself\u001b[39;49m\u001b[43m.\u001b[49m\u001b[43mstore\u001b[49m\n",
      "\u001b[36mFile \u001b[39m\u001b[32m/usr/local/lib/python3.11/site-packages/mlflow/tracking/_tracking_service/client.py:57\u001b[39m, in \u001b[36mTrackingServiceClient.store\u001b[39m\u001b[34m(self)\u001b[39m\n\u001b[32m     55\u001b[39m \u001b[38;5;129m@property\u001b[39m\n\u001b[32m     56\u001b[39m \u001b[38;5;28;01mdef\u001b[39;00m\u001b[38;5;250m \u001b[39m\u001b[34mstore\u001b[39m(\u001b[38;5;28mself\u001b[39m):\n\u001b[32m---> \u001b[39m\u001b[32m57\u001b[39m     \u001b[38;5;28;01mreturn\u001b[39;00m \u001b[43mutils\u001b[49m\u001b[43m.\u001b[49m\u001b[43m_get_store\u001b[49m\u001b[43m(\u001b[49m\u001b[38;5;28;43mself\u001b[39;49m\u001b[43m.\u001b[49m\u001b[43mtracking_uri\u001b[49m\u001b[43m)\u001b[49m\n",
      "\u001b[36mFile \u001b[39m\u001b[32m/usr/local/lib/python3.11/site-packages/mlflow/tracking/_tracking_service/utils.py:196\u001b[39m, in \u001b[36m_get_store\u001b[39m\u001b[34m(store_uri, artifact_uri)\u001b[39m\n\u001b[32m    195\u001b[39m \u001b[38;5;28;01mdef\u001b[39;00m\u001b[38;5;250m \u001b[39m\u001b[34m_get_store\u001b[39m(store_uri=\u001b[38;5;28;01mNone\u001b[39;00m, artifact_uri=\u001b[38;5;28;01mNone\u001b[39;00m):\n\u001b[32m--> \u001b[39m\u001b[32m196\u001b[39m     \u001b[38;5;28;01mreturn\u001b[39;00m \u001b[43m_tracking_store_registry\u001b[49m\u001b[43m.\u001b[49m\u001b[43mget_store\u001b[49m\u001b[43m(\u001b[49m\u001b[43mstore_uri\u001b[49m\u001b[43m,\u001b[49m\u001b[43m \u001b[49m\u001b[43martifact_uri\u001b[49m\u001b[43m)\u001b[49m\n",
      "\u001b[36mFile \u001b[39m\u001b[32m/usr/local/lib/python3.11/site-packages/mlflow/tracking/_tracking_service/registry.py:42\u001b[39m, in \u001b[36mTrackingStoreRegistry.get_store\u001b[39m\u001b[34m(self, store_uri, artifact_uri)\u001b[39m\n\u001b[32m     39\u001b[39m \u001b[38;5;28;01mfrom\u001b[39;00m\u001b[38;5;250m \u001b[39m\u001b[34;01mmlflow\u001b[39;00m\u001b[34;01m.\u001b[39;00m\u001b[34;01mtracking\u001b[39;00m\u001b[34;01m.\u001b[39;00m\u001b[34;01m_tracking_service\u001b[39;00m\u001b[38;5;250m \u001b[39m\u001b[38;5;28;01mimport\u001b[39;00m utils\n\u001b[32m     41\u001b[39m resolved_store_uri = utils._resolve_tracking_uri(store_uri)\n\u001b[32m---> \u001b[39m\u001b[32m42\u001b[39m \u001b[38;5;28;01mreturn\u001b[39;00m \u001b[38;5;28;43mself\u001b[39;49m\u001b[43m.\u001b[49m\u001b[43m_get_store_with_resolved_uri\u001b[49m\u001b[43m(\u001b[49m\u001b[43mresolved_store_uri\u001b[49m\u001b[43m,\u001b[49m\u001b[43m \u001b[49m\u001b[43martifact_uri\u001b[49m\u001b[43m)\u001b[49m\n",
      "\u001b[36mFile \u001b[39m\u001b[32m/usr/local/lib/python3.11/site-packages/mlflow/tracking/_tracking_service/registry.py:52\u001b[39m, in \u001b[36mTrackingStoreRegistry._get_store_with_resolved_uri\u001b[39m\u001b[34m(self, resolved_store_uri, artifact_uri)\u001b[39m\n\u001b[32m     46\u001b[39m \u001b[38;5;250m\u001b[39m\u001b[33;03m\"\"\"\u001b[39;00m\n\u001b[32m     47\u001b[39m \u001b[33;03mRetrieve the store associated with a resolved (non-None) store URI and an artifact URI.\u001b[39;00m\n\u001b[32m     48\u001b[39m \u001b[33;03mCaching is done on resolved URIs because the meaning of an unresolved (None) URI may change\u001b[39;00m\n\u001b[32m     49\u001b[39m \u001b[33;03mdepending on external configuration, such as environment variables\u001b[39;00m\n\u001b[32m     50\u001b[39m \u001b[33;03m\"\"\"\u001b[39;00m\n\u001b[32m     51\u001b[39m builder = \u001b[38;5;28mself\u001b[39m.get_store_builder(resolved_store_uri)\n\u001b[32m---> \u001b[39m\u001b[32m52\u001b[39m \u001b[38;5;28;01mreturn\u001b[39;00m \u001b[43mbuilder\u001b[49m\u001b[43m(\u001b[49m\u001b[43mstore_uri\u001b[49m\u001b[43m=\u001b[49m\u001b[43mresolved_store_uri\u001b[49m\u001b[43m,\u001b[49m\u001b[43m \u001b[49m\u001b[43martifact_uri\u001b[49m\u001b[43m=\u001b[49m\u001b[43martifact_uri\u001b[49m\u001b[43m)\u001b[49m\n",
      "\u001b[36mFile \u001b[39m\u001b[32m/usr/local/lib/python3.11/site-packages/mlflow/tracking/_tracking_service/utils.py:129\u001b[39m, in \u001b[36m_get_sqlalchemy_store\u001b[39m\u001b[34m(store_uri, artifact_uri)\u001b[39m\n\u001b[32m    127\u001b[39m \u001b[38;5;28;01mif\u001b[39;00m artifact_uri \u001b[38;5;129;01mis\u001b[39;00m \u001b[38;5;28;01mNone\u001b[39;00m:\n\u001b[32m    128\u001b[39m     artifact_uri = DEFAULT_LOCAL_FILE_AND_ARTIFACT_PATH\n\u001b[32m--> \u001b[39m\u001b[32m129\u001b[39m \u001b[38;5;28;01mreturn\u001b[39;00m \u001b[43mSqlAlchemyStore\u001b[49m\u001b[43m(\u001b[49m\u001b[43mstore_uri\u001b[49m\u001b[43m,\u001b[49m\u001b[43m \u001b[49m\u001b[43martifact_uri\u001b[49m\u001b[43m)\u001b[49m\n",
      "\u001b[36mFile \u001b[39m\u001b[32m/usr/local/lib/python3.11/site-packages/mlflow/store/tracking/sqlalchemy_store.py:151\u001b[39m, in \u001b[36mSqlAlchemyStore.__init__\u001b[39m\u001b[34m(self, db_uri, default_artifact_root)\u001b[39m\n\u001b[32m    142\u001b[39m     \u001b[38;5;28;01mwith\u001b[39;00m SqlAlchemyStore._db_uri_sql_alchemy_engine_map_lock:\n\u001b[32m    143\u001b[39m         \u001b[38;5;66;03m# Repeat check to prevent race conditions where one thread checks for an existing\u001b[39;00m\n\u001b[32m    144\u001b[39m         \u001b[38;5;66;03m# engine while another is creating the respective one, resulting in multiple\u001b[39;00m\n\u001b[32m    145\u001b[39m         \u001b[38;5;66;03m# engines being created. It isn't combined with the above check to prevent\u001b[39;00m\n\u001b[32m    146\u001b[39m         \u001b[38;5;66;03m# inefficiency from multiple threads waiting for the lock to check for engine\u001b[39;00m\n\u001b[32m    147\u001b[39m         \u001b[38;5;66;03m# existence if it has already been created.\u001b[39;00m\n\u001b[32m    148\u001b[39m         \u001b[38;5;28;01mif\u001b[39;00m db_uri \u001b[38;5;129;01mnot\u001b[39;00m \u001b[38;5;129;01min\u001b[39;00m SqlAlchemyStore._db_uri_sql_alchemy_engine_map:\n\u001b[32m    149\u001b[39m             SqlAlchemyStore._db_uri_sql_alchemy_engine_map[\n\u001b[32m    150\u001b[39m                 db_uri\n\u001b[32m--> \u001b[39m\u001b[32m151\u001b[39m             ] = \u001b[43mmlflow\u001b[49m\u001b[43m.\u001b[49m\u001b[43mstore\u001b[49m\u001b[43m.\u001b[49m\u001b[43mdb\u001b[49m\u001b[43m.\u001b[49m\u001b[43mutils\u001b[49m\u001b[43m.\u001b[49m\u001b[43mcreate_sqlalchemy_engine_with_retry\u001b[49m\u001b[43m(\u001b[49m\u001b[43mdb_uri\u001b[49m\u001b[43m)\u001b[49m\n\u001b[32m    152\u001b[39m \u001b[38;5;28mself\u001b[39m.engine = SqlAlchemyStore._db_uri_sql_alchemy_engine_map[db_uri]\n\u001b[32m    153\u001b[39m \u001b[38;5;66;03m# On a completely fresh MLflow installation against an empty database (verify database\u001b[39;00m\n\u001b[32m    154\u001b[39m \u001b[38;5;66;03m# emptiness by checking that 'experiments' etc aren't in the list of table names), run all\u001b[39;00m\n\u001b[32m    155\u001b[39m \u001b[38;5;66;03m# DB migrations\u001b[39;00m\n",
      "\u001b[36mFile \u001b[39m\u001b[32m/usr/local/lib/python3.11/site-packages/mlflow/store/db/utils.py:230\u001b[39m, in \u001b[36mcreate_sqlalchemy_engine_with_retry\u001b[39m\u001b[34m(db_uri)\u001b[39m\n\u001b[32m    228\u001b[39m \u001b[38;5;28;01mwhile\u001b[39;00m \u001b[38;5;28;01mTrue\u001b[39;00m:\n\u001b[32m    229\u001b[39m     attempts += \u001b[32m1\u001b[39m\n\u001b[32m--> \u001b[39m\u001b[32m230\u001b[39m     engine = \u001b[43mcreate_sqlalchemy_engine\u001b[49m\u001b[43m(\u001b[49m\u001b[43mdb_uri\u001b[49m\u001b[43m)\u001b[49m\n\u001b[32m    231\u001b[39m     \u001b[38;5;28;01mtry\u001b[39;00m:\n\u001b[32m    232\u001b[39m         sqlalchemy.inspect(engine)\n",
      "\u001b[36mFile \u001b[39m\u001b[32m/usr/local/lib/python3.11/site-packages/mlflow/store/db/utils.py:286\u001b[39m, in \u001b[36mcreate_sqlalchemy_engine\u001b[39m\u001b[34m(db_uri)\u001b[39m\n\u001b[32m    284\u001b[39m \u001b[38;5;28;01mif\u001b[39;00m pool_kwargs:\n\u001b[32m    285\u001b[39m     _logger.info(\u001b[33m\"\u001b[39m\u001b[33mCreate SQLAlchemy engine with pool options \u001b[39m\u001b[38;5;132;01m%s\u001b[39;00m\u001b[33m\"\u001b[39m, pool_kwargs)\n\u001b[32m--> \u001b[39m\u001b[32m286\u001b[39m \u001b[38;5;28;01mreturn\u001b[39;00m \u001b[43msqlalchemy\u001b[49m\u001b[43m.\u001b[49m\u001b[43mcreate_engine\u001b[49m\u001b[43m(\u001b[49m\u001b[43mdb_uri\u001b[49m\u001b[43m,\u001b[49m\u001b[43m \u001b[49m\u001b[43mpool_pre_ping\u001b[49m\u001b[43m=\u001b[49m\u001b[38;5;28;43;01mTrue\u001b[39;49;00m\u001b[43m,\u001b[49m\u001b[43m \u001b[49m\u001b[43m*\u001b[49m\u001b[43m*\u001b[49m\u001b[43mpool_kwargs\u001b[49m\u001b[43m)\u001b[49m\n",
      "\u001b[36mFile \u001b[39m\u001b[32m<string>:2\u001b[39m, in \u001b[36mcreate_engine\u001b[39m\u001b[34m(url, **kwargs)\u001b[39m\n",
      "\u001b[36mFile \u001b[39m\u001b[32m/usr/local/lib/python3.11/site-packages/sqlalchemy/util/deprecations.py:281\u001b[39m, in \u001b[36mdeprecated_params.<locals>.decorate.<locals>.warned\u001b[39m\u001b[34m(fn, *args, **kwargs)\u001b[39m\n\u001b[32m    274\u001b[39m     \u001b[38;5;28;01mif\u001b[39;00m m \u001b[38;5;129;01min\u001b[39;00m kwargs:\n\u001b[32m    275\u001b[39m         _warn_with_version(\n\u001b[32m    276\u001b[39m             messages[m],\n\u001b[32m    277\u001b[39m             versions[m],\n\u001b[32m    278\u001b[39m             version_warnings[m],\n\u001b[32m    279\u001b[39m             stacklevel=\u001b[32m3\u001b[39m,\n\u001b[32m    280\u001b[39m         )\n\u001b[32m--> \u001b[39m\u001b[32m281\u001b[39m \u001b[38;5;28;01mreturn\u001b[39;00m \u001b[43mfn\u001b[49m\u001b[43m(\u001b[49m\u001b[43m*\u001b[49m\u001b[43margs\u001b[49m\u001b[43m,\u001b[49m\u001b[43m \u001b[49m\u001b[43m*\u001b[49m\u001b[43m*\u001b[49m\u001b[43mkwargs\u001b[49m\u001b[43m)\u001b[49m\n",
      "\u001b[36mFile \u001b[39m\u001b[32m/usr/local/lib/python3.11/site-packages/sqlalchemy/engine/create.py:602\u001b[39m, in \u001b[36mcreate_engine\u001b[39m\u001b[34m(url, **kwargs)\u001b[39m\n\u001b[32m    600\u001b[39m         \u001b[38;5;28;01mif\u001b[39;00m k \u001b[38;5;129;01min\u001b[39;00m kwargs:\n\u001b[32m    601\u001b[39m             dbapi_args[k] = pop_kwarg(k)\n\u001b[32m--> \u001b[39m\u001b[32m602\u001b[39m     dbapi = \u001b[43mdbapi_meth\u001b[49m\u001b[43m(\u001b[49m\u001b[43m*\u001b[49m\u001b[43m*\u001b[49m\u001b[43mdbapi_args\u001b[49m\u001b[43m)\u001b[49m\n\u001b[32m    604\u001b[39m dialect_args[\u001b[33m\"\u001b[39m\u001b[33mdbapi\u001b[39m\u001b[33m\"\u001b[39m] = dbapi\n\u001b[32m    606\u001b[39m dialect_args.setdefault(\u001b[33m\"\u001b[39m\u001b[33mcompiler_linting\u001b[39m\u001b[33m\"\u001b[39m, compiler.NO_LINTING)\n",
      "\u001b[36mFile \u001b[39m\u001b[32m/usr/local/lib/python3.11/site-packages/sqlalchemy/connectors/pyodbc.py:60\u001b[39m, in \u001b[36mPyODBCConnector.import_dbapi\u001b[39m\u001b[34m(cls)\u001b[39m\n\u001b[32m     58\u001b[39m \u001b[38;5;129m@classmethod\u001b[39m\n\u001b[32m     59\u001b[39m \u001b[38;5;28;01mdef\u001b[39;00m\u001b[38;5;250m \u001b[39m\u001b[34mimport_dbapi\u001b[39m(\u001b[38;5;28mcls\u001b[39m) -> ModuleType:\n\u001b[32m---> \u001b[39m\u001b[32m60\u001b[39m     \u001b[38;5;28;01mreturn\u001b[39;00m \u001b[38;5;28;43m__import__\u001b[39;49m\u001b[43m(\u001b[49m\u001b[33;43m\"\u001b[39;49m\u001b[33;43mpyodbc\u001b[39;49m\u001b[33;43m\"\u001b[39;49m\u001b[43m)\u001b[49m\n",
      "\u001b[31mImportError\u001b[39m: libodbc.so.2: cannot open shared object file: No such file or directory"
     ]
    }
   ],
   "source": [
    "from ARISA_DSML.train import run_hyperopt\n",
    "import mlflow\n",
    "mlflow.set_experiment(\"cholesterol_hyperparam_tuning\")\n",
    "\n",
    "best_params_path = run_hyperopt(X_train, y_train)"
   ]
  },
  {
   "cell_type": "code",
   "execution_count": null,
   "metadata": {},
   "outputs": [],
   "source": [
    "%reload_ext autoreload"
   ]
  },
  {
   "cell_type": "code",
   "execution_count": null,
   "metadata": {},
   "outputs": [
    {
     "data": {
      "text/plain": [
       "{'depth': 5,\n",
       " 'learning_rate': 0.2995567111497413,\n",
       " 'iterations': 124,\n",
       " 'l2_leaf_reg': 0.11084080958223169,\n",
       " 'bagging_temperature': 0.9921093034173206,\n",
       " 'random_strength': 0.19224056696382372}"
      ]
     },
     "metadata": {},
     "output_type": "display_data"
    },
    {
     "data": {
      "application/vnd.jupyter.widget-view+json": {
       "model_id": "2f59ced677fb4b49a7827c27d96e657f",
       "version_major": 2,
       "version_minor": 0
      },
      "text/plain": [
       "MetricVisualizer(layout=Layout(align_self='stretch', height='500px'))"
      ]
     },
     "metadata": {},
     "output_type": "display_data"
    },
    {
     "name": "stdout",
     "output_type": "stream",
     "text": [
      "Training on fold [0/5]\n",
      "0:\tlearn: 0.9890110\ttest: 0.8000000\tbest: 0.8000000 (0)\ttotal: 1.79ms\tremaining: 220ms\n",
      "1:\tlearn: 1.0000000\ttest: 0.8000000\tbest: 0.8000000 (0)\ttotal: 3.15ms\tremaining: 192ms\n",
      "2:\tlearn: 1.0000000\ttest: 1.0000000\tbest: 1.0000000 (2)\ttotal: 4.44ms\tremaining: 179ms\n",
      "3:\tlearn: 1.0000000\ttest: 1.0000000\tbest: 1.0000000 (2)\ttotal: 5.86ms\tremaining: 176ms\n",
      "4:\tlearn: 1.0000000\ttest: 1.0000000\tbest: 1.0000000 (2)\ttotal: 7.23ms\tremaining: 172ms\n",
      "5:\tlearn: 1.0000000\ttest: 1.0000000\tbest: 1.0000000 (2)\ttotal: 8.57ms\tremaining: 169ms\n",
      "6:\tlearn: 1.0000000\ttest: 1.0000000\tbest: 1.0000000 (2)\ttotal: 9.98ms\tremaining: 167ms\n",
      "7:\tlearn: 1.0000000\ttest: 1.0000000\tbest: 1.0000000 (2)\ttotal: 11.1ms\tremaining: 160ms\n",
      "8:\tlearn: 1.0000000\ttest: 1.0000000\tbest: 1.0000000 (2)\ttotal: 12.4ms\tremaining: 159ms\n",
      "9:\tlearn: 1.0000000\ttest: 1.0000000\tbest: 1.0000000 (2)\ttotal: 13.8ms\tremaining: 157ms\n",
      "10:\tlearn: 1.0000000\ttest: 1.0000000\tbest: 1.0000000 (2)\ttotal: 15.1ms\tremaining: 156ms\n",
      "11:\tlearn: 1.0000000\ttest: 1.0000000\tbest: 1.0000000 (2)\ttotal: 16.6ms\tremaining: 155ms\n",
      "12:\tlearn: 1.0000000\ttest: 1.0000000\tbest: 1.0000000 (2)\ttotal: 18.1ms\tremaining: 155ms\n",
      "13:\tlearn: 1.0000000\ttest: 1.0000000\tbest: 1.0000000 (2)\ttotal: 19.5ms\tremaining: 153ms\n",
      "14:\tlearn: 1.0000000\ttest: 1.0000000\tbest: 1.0000000 (2)\ttotal: 21ms\tremaining: 153ms\n",
      "15:\tlearn: 1.0000000\ttest: 1.0000000\tbest: 1.0000000 (2)\ttotal: 22.4ms\tremaining: 151ms\n",
      "16:\tlearn: 1.0000000\ttest: 1.0000000\tbest: 1.0000000 (2)\ttotal: 23.7ms\tremaining: 149ms\n",
      "17:\tlearn: 1.0000000\ttest: 1.0000000\tbest: 1.0000000 (2)\ttotal: 24.9ms\tremaining: 147ms\n",
      "18:\tlearn: 1.0000000\ttest: 1.0000000\tbest: 1.0000000 (2)\ttotal: 26ms\tremaining: 144ms\n",
      "19:\tlearn: 1.0000000\ttest: 1.0000000\tbest: 1.0000000 (2)\ttotal: 27.1ms\tremaining: 141ms\n",
      "20:\tlearn: 1.0000000\ttest: 1.0000000\tbest: 1.0000000 (2)\ttotal: 28.4ms\tremaining: 139ms\n",
      "21:\tlearn: 1.0000000\ttest: 1.0000000\tbest: 1.0000000 (2)\ttotal: 29.6ms\tremaining: 137ms\n",
      "22:\tlearn: 1.0000000\ttest: 1.0000000\tbest: 1.0000000 (2)\ttotal: 30.9ms\tremaining: 136ms\n",
      "23:\tlearn: 1.0000000\ttest: 1.0000000\tbest: 1.0000000 (2)\ttotal: 32.1ms\tremaining: 134ms\n",
      "24:\tlearn: 1.0000000\ttest: 1.0000000\tbest: 1.0000000 (2)\ttotal: 33.3ms\tremaining: 132ms\n",
      "25:\tlearn: 1.0000000\ttest: 1.0000000\tbest: 1.0000000 (2)\ttotal: 34.6ms\tremaining: 130ms\n",
      "26:\tlearn: 1.0000000\ttest: 1.0000000\tbest: 1.0000000 (2)\ttotal: 35.9ms\tremaining: 129ms\n",
      "27:\tlearn: 1.0000000\ttest: 1.0000000\tbest: 1.0000000 (2)\ttotal: 36.7ms\tremaining: 126ms\n",
      "28:\tlearn: 1.0000000\ttest: 1.0000000\tbest: 1.0000000 (2)\ttotal: 38.8ms\tremaining: 127ms\n",
      "29:\tlearn: 1.0000000\ttest: 1.0000000\tbest: 1.0000000 (2)\ttotal: 40.8ms\tremaining: 128ms\n",
      "30:\tlearn: 1.0000000\ttest: 1.0000000\tbest: 1.0000000 (2)\ttotal: 41.6ms\tremaining: 125ms\n",
      "31:\tlearn: 1.0000000\ttest: 1.0000000\tbest: 1.0000000 (2)\ttotal: 42.3ms\tremaining: 122ms\n",
      "32:\tlearn: 1.0000000\ttest: 1.0000000\tbest: 1.0000000 (2)\ttotal: 43.8ms\tremaining: 121ms\n",
      "33:\tlearn: 1.0000000\ttest: 1.0000000\tbest: 1.0000000 (2)\ttotal: 44.6ms\tremaining: 118ms\n",
      "34:\tlearn: 1.0000000\ttest: 1.0000000\tbest: 1.0000000 (2)\ttotal: 46ms\tremaining: 117ms\n",
      "35:\tlearn: 1.0000000\ttest: 1.0000000\tbest: 1.0000000 (2)\ttotal: 47.7ms\tremaining: 116ms\n",
      "36:\tlearn: 1.0000000\ttest: 1.0000000\tbest: 1.0000000 (2)\ttotal: 48.5ms\tremaining: 114ms\n",
      "37:\tlearn: 1.0000000\ttest: 1.0000000\tbest: 1.0000000 (2)\ttotal: 50.1ms\tremaining: 113ms\n",
      "38:\tlearn: 1.0000000\ttest: 1.0000000\tbest: 1.0000000 (2)\ttotal: 51ms\tremaining: 111ms\n",
      "39:\tlearn: 1.0000000\ttest: 1.0000000\tbest: 1.0000000 (2)\ttotal: 52.8ms\tremaining: 111ms\n",
      "40:\tlearn: 1.0000000\ttest: 1.0000000\tbest: 1.0000000 (2)\ttotal: 54.2ms\tremaining: 110ms\n",
      "41:\tlearn: 1.0000000\ttest: 1.0000000\tbest: 1.0000000 (2)\ttotal: 55.5ms\tremaining: 108ms\n",
      "42:\tlearn: 1.0000000\ttest: 1.0000000\tbest: 1.0000000 (2)\ttotal: 56.9ms\tremaining: 107ms\n",
      "43:\tlearn: 1.0000000\ttest: 1.0000000\tbest: 1.0000000 (2)\ttotal: 57.6ms\tremaining: 105ms\n",
      "44:\tlearn: 1.0000000\ttest: 1.0000000\tbest: 1.0000000 (2)\ttotal: 59.3ms\tremaining: 104ms\n",
      "45:\tlearn: 1.0000000\ttest: 1.0000000\tbest: 1.0000000 (2)\ttotal: 60.6ms\tremaining: 103ms\n",
      "46:\tlearn: 1.0000000\ttest: 1.0000000\tbest: 1.0000000 (2)\ttotal: 62ms\tremaining: 102ms\n",
      "47:\tlearn: 1.0000000\ttest: 1.0000000\tbest: 1.0000000 (2)\ttotal: 63.3ms\tremaining: 100ms\n",
      "48:\tlearn: 1.0000000\ttest: 1.0000000\tbest: 1.0000000 (2)\ttotal: 64.6ms\tremaining: 98.9ms\n",
      "49:\tlearn: 1.0000000\ttest: 1.0000000\tbest: 1.0000000 (2)\ttotal: 65.6ms\tremaining: 97.1ms\n",
      "50:\tlearn: 1.0000000\ttest: 1.0000000\tbest: 1.0000000 (2)\ttotal: 66.9ms\tremaining: 95.7ms\n",
      "51:\tlearn: 1.0000000\ttest: 1.0000000\tbest: 1.0000000 (2)\ttotal: 68.1ms\tremaining: 94.3ms\n",
      "52:\tlearn: 1.0000000\ttest: 1.0000000\tbest: 1.0000000 (2)\ttotal: 69.2ms\tremaining: 92.7ms\n",
      "53:\tlearn: 1.0000000\ttest: 1.0000000\tbest: 1.0000000 (2)\ttotal: 70.4ms\tremaining: 91.3ms\n",
      "54:\tlearn: 1.0000000\ttest: 1.0000000\tbest: 1.0000000 (2)\ttotal: 71.7ms\tremaining: 89.9ms\n",
      "55:\tlearn: 1.0000000\ttest: 1.0000000\tbest: 1.0000000 (2)\ttotal: 72.9ms\tremaining: 88.5ms\n",
      "56:\tlearn: 1.0000000\ttest: 1.0000000\tbest: 1.0000000 (2)\ttotal: 73.6ms\tremaining: 86.5ms\n",
      "57:\tlearn: 1.0000000\ttest: 1.0000000\tbest: 1.0000000 (2)\ttotal: 74.7ms\tremaining: 85ms\n",
      "58:\tlearn: 1.0000000\ttest: 1.0000000\tbest: 1.0000000 (2)\ttotal: 75.9ms\tremaining: 83.7ms\n",
      "59:\tlearn: 1.0000000\ttest: 1.0000000\tbest: 1.0000000 (2)\ttotal: 77.2ms\tremaining: 82.3ms\n",
      "60:\tlearn: 1.0000000\ttest: 1.0000000\tbest: 1.0000000 (2)\ttotal: 78.2ms\tremaining: 80.8ms\n",
      "61:\tlearn: 1.0000000\ttest: 1.0000000\tbest: 1.0000000 (2)\ttotal: 79.4ms\tremaining: 79.4ms\n",
      "62:\tlearn: 1.0000000\ttest: 1.0000000\tbest: 1.0000000 (2)\ttotal: 80.7ms\tremaining: 78.1ms\n",
      "63:\tlearn: 1.0000000\ttest: 1.0000000\tbest: 1.0000000 (2)\ttotal: 83.4ms\tremaining: 78.2ms\n",
      "64:\tlearn: 1.0000000\ttest: 1.0000000\tbest: 1.0000000 (2)\ttotal: 84.8ms\tremaining: 76.9ms\n",
      "65:\tlearn: 1.0000000\ttest: 1.0000000\tbest: 1.0000000 (2)\ttotal: 86ms\tremaining: 75.6ms\n",
      "66:\tlearn: 1.0000000\ttest: 1.0000000\tbest: 1.0000000 (2)\ttotal: 87.4ms\tremaining: 74.3ms\n",
      "67:\tlearn: 1.0000000\ttest: 1.0000000\tbest: 1.0000000 (2)\ttotal: 88.6ms\tremaining: 72.9ms\n",
      "68:\tlearn: 1.0000000\ttest: 1.0000000\tbest: 1.0000000 (2)\ttotal: 90ms\tremaining: 71.7ms\n",
      "69:\tlearn: 1.0000000\ttest: 1.0000000\tbest: 1.0000000 (2)\ttotal: 91.4ms\tremaining: 70.5ms\n",
      "70:\tlearn: 1.0000000\ttest: 1.0000000\tbest: 1.0000000 (2)\ttotal: 92.6ms\tremaining: 69.1ms\n",
      "71:\tlearn: 1.0000000\ttest: 1.0000000\tbest: 1.0000000 (2)\ttotal: 93.5ms\tremaining: 67.5ms\n",
      "72:\tlearn: 1.0000000\ttest: 1.0000000\tbest: 1.0000000 (2)\ttotal: 94.7ms\tremaining: 66.2ms\n",
      "73:\tlearn: 1.0000000\ttest: 1.0000000\tbest: 1.0000000 (2)\ttotal: 95.8ms\tremaining: 64.7ms\n",
      "74:\tlearn: 1.0000000\ttest: 1.0000000\tbest: 1.0000000 (2)\ttotal: 97.3ms\tremaining: 63.6ms\n",
      "75:\tlearn: 1.0000000\ttest: 1.0000000\tbest: 1.0000000 (2)\ttotal: 98.9ms\tremaining: 62.5ms\n",
      "76:\tlearn: 1.0000000\ttest: 1.0000000\tbest: 1.0000000 (2)\ttotal: 100ms\tremaining: 61.1ms\n",
      "77:\tlearn: 1.0000000\ttest: 1.0000000\tbest: 1.0000000 (2)\ttotal: 101ms\tremaining: 59.8ms\n",
      "78:\tlearn: 1.0000000\ttest: 1.0000000\tbest: 1.0000000 (2)\ttotal: 103ms\tremaining: 58.6ms\n",
      "79:\tlearn: 1.0000000\ttest: 1.0000000\tbest: 1.0000000 (2)\ttotal: 104ms\tremaining: 57.3ms\n",
      "80:\tlearn: 1.0000000\ttest: 1.0000000\tbest: 1.0000000 (2)\ttotal: 105ms\tremaining: 55.9ms\n",
      "81:\tlearn: 1.0000000\ttest: 1.0000000\tbest: 1.0000000 (2)\ttotal: 106ms\tremaining: 54.5ms\n",
      "82:\tlearn: 1.0000000\ttest: 1.0000000\tbest: 1.0000000 (2)\ttotal: 108ms\tremaining: 53.1ms\n",
      "83:\tlearn: 1.0000000\ttest: 1.0000000\tbest: 1.0000000 (2)\ttotal: 109ms\tremaining: 51.8ms\n",
      "84:\tlearn: 1.0000000\ttest: 1.0000000\tbest: 1.0000000 (2)\ttotal: 110ms\tremaining: 50.5ms\n",
      "85:\tlearn: 1.0000000\ttest: 1.0000000\tbest: 1.0000000 (2)\ttotal: 111ms\tremaining: 49.2ms\n",
      "86:\tlearn: 1.0000000\ttest: 1.0000000\tbest: 1.0000000 (2)\ttotal: 112ms\tremaining: 47.7ms\n",
      "87:\tlearn: 1.0000000\ttest: 1.0000000\tbest: 1.0000000 (2)\ttotal: 113ms\tremaining: 46.2ms\n",
      "88:\tlearn: 1.0000000\ttest: 1.0000000\tbest: 1.0000000 (2)\ttotal: 115ms\tremaining: 45ms\n",
      "89:\tlearn: 1.0000000\ttest: 1.0000000\tbest: 1.0000000 (2)\ttotal: 115ms\tremaining: 43.5ms\n",
      "90:\tlearn: 1.0000000\ttest: 1.0000000\tbest: 1.0000000 (2)\ttotal: 117ms\tremaining: 42.4ms\n",
      "91:\tlearn: 1.0000000\ttest: 1.0000000\tbest: 1.0000000 (2)\ttotal: 118ms\tremaining: 41.2ms\n",
      "92:\tlearn: 1.0000000\ttest: 1.0000000\tbest: 1.0000000 (2)\ttotal: 120ms\tremaining: 39.9ms\n",
      "93:\tlearn: 1.0000000\ttest: 1.0000000\tbest: 1.0000000 (2)\ttotal: 121ms\tremaining: 38.7ms\n",
      "94:\tlearn: 1.0000000\ttest: 1.0000000\tbest: 1.0000000 (2)\ttotal: 123ms\tremaining: 37.4ms\n",
      "95:\tlearn: 1.0000000\ttest: 1.0000000\tbest: 1.0000000 (2)\ttotal: 124ms\tremaining: 36.1ms\n",
      "96:\tlearn: 1.0000000\ttest: 1.0000000\tbest: 1.0000000 (2)\ttotal: 125ms\tremaining: 34.8ms\n",
      "97:\tlearn: 1.0000000\ttest: 1.0000000\tbest: 1.0000000 (2)\ttotal: 126ms\tremaining: 33.4ms\n",
      "98:\tlearn: 1.0000000\ttest: 1.0000000\tbest: 1.0000000 (2)\ttotal: 127ms\tremaining: 32.1ms\n",
      "99:\tlearn: 1.0000000\ttest: 1.0000000\tbest: 1.0000000 (2)\ttotal: 128ms\tremaining: 30.8ms\n",
      "100:\tlearn: 1.0000000\ttest: 1.0000000\tbest: 1.0000000 (2)\ttotal: 130ms\tremaining: 29.5ms\n",
      "101:\tlearn: 1.0000000\ttest: 1.0000000\tbest: 1.0000000 (2)\ttotal: 131ms\tremaining: 28.2ms\n",
      "102:\tlearn: 1.0000000\ttest: 1.0000000\tbest: 1.0000000 (2)\ttotal: 132ms\tremaining: 26.9ms\n",
      "103:\tlearn: 1.0000000\ttest: 1.0000000\tbest: 1.0000000 (2)\ttotal: 133ms\tremaining: 25.6ms\n",
      "104:\tlearn: 1.0000000\ttest: 1.0000000\tbest: 1.0000000 (2)\ttotal: 134ms\tremaining: 24.3ms\n",
      "105:\tlearn: 1.0000000\ttest: 1.0000000\tbest: 1.0000000 (2)\ttotal: 135ms\tremaining: 23ms\n",
      "106:\tlearn: 1.0000000\ttest: 1.0000000\tbest: 1.0000000 (2)\ttotal: 136ms\tremaining: 21.7ms\n",
      "107:\tlearn: 1.0000000\ttest: 1.0000000\tbest: 1.0000000 (2)\ttotal: 138ms\tremaining: 20.4ms\n",
      "108:\tlearn: 1.0000000\ttest: 1.0000000\tbest: 1.0000000 (2)\ttotal: 139ms\tremaining: 19.1ms\n",
      "109:\tlearn: 1.0000000\ttest: 1.0000000\tbest: 1.0000000 (2)\ttotal: 141ms\tremaining: 17.9ms\n",
      "110:\tlearn: 1.0000000\ttest: 1.0000000\tbest: 1.0000000 (2)\ttotal: 142ms\tremaining: 16.7ms\n",
      "111:\tlearn: 1.0000000\ttest: 1.0000000\tbest: 1.0000000 (2)\ttotal: 143ms\tremaining: 15.4ms\n",
      "112:\tlearn: 1.0000000\ttest: 1.0000000\tbest: 1.0000000 (2)\ttotal: 144ms\tremaining: 14ms\n",
      "113:\tlearn: 1.0000000\ttest: 1.0000000\tbest: 1.0000000 (2)\ttotal: 145ms\tremaining: 12.7ms\n",
      "114:\tlearn: 1.0000000\ttest: 1.0000000\tbest: 1.0000000 (2)\ttotal: 145ms\tremaining: 11.4ms\n",
      "115:\tlearn: 1.0000000\ttest: 1.0000000\tbest: 1.0000000 (2)\ttotal: 146ms\tremaining: 10ms\n",
      "116:\tlearn: 1.0000000\ttest: 1.0000000\tbest: 1.0000000 (2)\ttotal: 146ms\tremaining: 8.75ms\n",
      "117:\tlearn: 1.0000000\ttest: 1.0000000\tbest: 1.0000000 (2)\ttotal: 147ms\tremaining: 7.47ms\n",
      "118:\tlearn: 1.0000000\ttest: 1.0000000\tbest: 1.0000000 (2)\ttotal: 147ms\tremaining: 6.2ms\n",
      "119:\tlearn: 1.0000000\ttest: 1.0000000\tbest: 1.0000000 (2)\ttotal: 148ms\tremaining: 4.93ms\n",
      "120:\tlearn: 1.0000000\ttest: 1.0000000\tbest: 1.0000000 (2)\ttotal: 149ms\tremaining: 3.69ms\n",
      "121:\tlearn: 1.0000000\ttest: 1.0000000\tbest: 1.0000000 (2)\ttotal: 149ms\tremaining: 2.45ms\n",
      "122:\tlearn: 1.0000000\ttest: 1.0000000\tbest: 1.0000000 (2)\ttotal: 150ms\tremaining: 1.22ms\n",
      "123:\tlearn: 1.0000000\ttest: 1.0000000\tbest: 1.0000000 (2)\ttotal: 150ms\tremaining: 0us\n",
      "\n",
      "bestTest = 1\n",
      "bestIteration = 2\n",
      "\n",
      "Training on fold [1/5]\n",
      "0:\tlearn: 0.9777778\ttest: 0.9090909\tbest: 0.9090909 (0)\ttotal: 744us\tremaining: 91.5ms\n",
      "1:\tlearn: 1.0000000\ttest: 1.0000000\tbest: 1.0000000 (1)\ttotal: 1.43ms\tremaining: 87.2ms\n",
      "2:\tlearn: 1.0000000\ttest: 1.0000000\tbest: 1.0000000 (1)\ttotal: 2.07ms\tremaining: 83.6ms\n",
      "3:\tlearn: 1.0000000\ttest: 1.0000000\tbest: 1.0000000 (1)\ttotal: 2.9ms\tremaining: 87.1ms\n",
      "4:\tlearn: 1.0000000\ttest: 1.0000000\tbest: 1.0000000 (1)\ttotal: 3.53ms\tremaining: 84.1ms\n",
      "5:\tlearn: 1.0000000\ttest: 1.0000000\tbest: 1.0000000 (1)\ttotal: 4.17ms\tremaining: 82ms\n",
      "6:\tlearn: 1.0000000\ttest: 1.0000000\tbest: 1.0000000 (1)\ttotal: 4.88ms\tremaining: 81.6ms\n",
      "7:\tlearn: 1.0000000\ttest: 1.0000000\tbest: 1.0000000 (1)\ttotal: 5.68ms\tremaining: 82.4ms\n",
      "8:\tlearn: 1.0000000\ttest: 1.0000000\tbest: 1.0000000 (1)\ttotal: 6.38ms\tremaining: 81.6ms\n",
      "9:\tlearn: 1.0000000\ttest: 1.0000000\tbest: 1.0000000 (1)\ttotal: 6.88ms\tremaining: 78.4ms\n",
      "10:\tlearn: 1.0000000\ttest: 1.0000000\tbest: 1.0000000 (1)\ttotal: 7.48ms\tremaining: 76.8ms\n",
      "11:\tlearn: 1.0000000\ttest: 1.0000000\tbest: 1.0000000 (1)\ttotal: 8.15ms\tremaining: 76.1ms\n",
      "12:\tlearn: 1.0000000\ttest: 1.0000000\tbest: 1.0000000 (1)\ttotal: 8.78ms\tremaining: 75ms\n",
      "13:\tlearn: 1.0000000\ttest: 1.0000000\tbest: 1.0000000 (1)\ttotal: 9.41ms\tremaining: 74ms\n",
      "14:\tlearn: 1.0000000\ttest: 1.0000000\tbest: 1.0000000 (1)\ttotal: 10ms\tremaining: 73ms\n",
      "15:\tlearn: 1.0000000\ttest: 1.0000000\tbest: 1.0000000 (1)\ttotal: 10.6ms\tremaining: 71.8ms\n",
      "16:\tlearn: 1.0000000\ttest: 1.0000000\tbest: 1.0000000 (1)\ttotal: 11.1ms\tremaining: 70.1ms\n",
      "17:\tlearn: 1.0000000\ttest: 1.0000000\tbest: 1.0000000 (1)\ttotal: 12.7ms\tremaining: 74.9ms\n",
      "18:\tlearn: 1.0000000\ttest: 1.0000000\tbest: 1.0000000 (1)\ttotal: 13.2ms\tremaining: 72.8ms\n",
      "19:\tlearn: 1.0000000\ttest: 1.0000000\tbest: 1.0000000 (1)\ttotal: 13.6ms\tremaining: 70.9ms\n",
      "20:\tlearn: 1.0000000\ttest: 1.0000000\tbest: 1.0000000 (1)\ttotal: 14.1ms\tremaining: 69.2ms\n",
      "21:\tlearn: 1.0000000\ttest: 1.0000000\tbest: 1.0000000 (1)\ttotal: 14.6ms\tremaining: 67.8ms\n",
      "22:\tlearn: 1.0000000\ttest: 1.0000000\tbest: 1.0000000 (1)\ttotal: 15.1ms\tremaining: 66.2ms\n",
      "23:\tlearn: 1.0000000\ttest: 1.0000000\tbest: 1.0000000 (1)\ttotal: 17.5ms\tremaining: 73.1ms\n",
      "24:\tlearn: 1.0000000\ttest: 1.0000000\tbest: 1.0000000 (1)\ttotal: 18.1ms\tremaining: 71.7ms\n",
      "25:\tlearn: 1.0000000\ttest: 1.0000000\tbest: 1.0000000 (1)\ttotal: 18.7ms\tremaining: 70.4ms\n",
      "26:\tlearn: 1.0000000\ttest: 1.0000000\tbest: 1.0000000 (1)\ttotal: 19.3ms\tremaining: 69.2ms\n",
      "27:\tlearn: 1.0000000\ttest: 1.0000000\tbest: 1.0000000 (1)\ttotal: 19.9ms\tremaining: 68.1ms\n",
      "28:\tlearn: 1.0000000\ttest: 1.0000000\tbest: 1.0000000 (1)\ttotal: 20.4ms\tremaining: 66.9ms\n",
      "29:\tlearn: 1.0000000\ttest: 1.0000000\tbest: 1.0000000 (1)\ttotal: 21ms\tremaining: 65.8ms\n",
      "30:\tlearn: 1.0000000\ttest: 1.0000000\tbest: 1.0000000 (1)\ttotal: 21.6ms\tremaining: 64.8ms\n",
      "31:\tlearn: 1.0000000\ttest: 1.0000000\tbest: 1.0000000 (1)\ttotal: 22.2ms\tremaining: 63.7ms\n",
      "32:\tlearn: 1.0000000\ttest: 1.0000000\tbest: 1.0000000 (1)\ttotal: 22.8ms\tremaining: 62.8ms\n",
      "33:\tlearn: 1.0000000\ttest: 1.0000000\tbest: 1.0000000 (1)\ttotal: 23.4ms\tremaining: 61.9ms\n",
      "34:\tlearn: 1.0000000\ttest: 1.0000000\tbest: 1.0000000 (1)\ttotal: 23.9ms\tremaining: 60.9ms\n",
      "35:\tlearn: 1.0000000\ttest: 1.0000000\tbest: 1.0000000 (1)\ttotal: 24.5ms\tremaining: 60ms\n",
      "36:\tlearn: 1.0000000\ttest: 1.0000000\tbest: 1.0000000 (1)\ttotal: 25.1ms\tremaining: 59ms\n",
      "37:\tlearn: 1.0000000\ttest: 1.0000000\tbest: 1.0000000 (1)\ttotal: 25.7ms\tremaining: 58.1ms\n",
      "38:\tlearn: 1.0000000\ttest: 1.0000000\tbest: 1.0000000 (1)\ttotal: 26.3ms\tremaining: 57.3ms\n",
      "39:\tlearn: 1.0000000\ttest: 1.0000000\tbest: 1.0000000 (1)\ttotal: 26.9ms\tremaining: 56.4ms\n",
      "40:\tlearn: 1.0000000\ttest: 1.0000000\tbest: 1.0000000 (1)\ttotal: 27.4ms\tremaining: 55.5ms\n",
      "41:\tlearn: 1.0000000\ttest: 1.0000000\tbest: 1.0000000 (1)\ttotal: 28ms\tremaining: 54.7ms\n",
      "42:\tlearn: 1.0000000\ttest: 1.0000000\tbest: 1.0000000 (1)\ttotal: 28.6ms\tremaining: 53.9ms\n",
      "43:\tlearn: 1.0000000\ttest: 1.0000000\tbest: 1.0000000 (1)\ttotal: 29.2ms\tremaining: 53.1ms\n",
      "44:\tlearn: 1.0000000\ttest: 1.0000000\tbest: 1.0000000 (1)\ttotal: 30.1ms\tremaining: 52.8ms\n",
      "45:\tlearn: 1.0000000\ttest: 1.0000000\tbest: 1.0000000 (1)\ttotal: 30.6ms\tremaining: 52ms\n",
      "46:\tlearn: 1.0000000\ttest: 1.0000000\tbest: 1.0000000 (1)\ttotal: 31.2ms\tremaining: 51.2ms\n",
      "47:\tlearn: 1.0000000\ttest: 1.0000000\tbest: 1.0000000 (1)\ttotal: 31.8ms\tremaining: 50.3ms\n",
      "48:\tlearn: 1.0000000\ttest: 1.0000000\tbest: 1.0000000 (1)\ttotal: 32.4ms\tremaining: 49.6ms\n",
      "49:\tlearn: 1.0000000\ttest: 1.0000000\tbest: 1.0000000 (1)\ttotal: 33ms\tremaining: 48.8ms\n",
      "50:\tlearn: 1.0000000\ttest: 1.0000000\tbest: 1.0000000 (1)\ttotal: 33.5ms\tremaining: 48ms\n",
      "51:\tlearn: 1.0000000\ttest: 1.0000000\tbest: 1.0000000 (1)\ttotal: 34.1ms\tremaining: 47.2ms\n",
      "52:\tlearn: 1.0000000\ttest: 1.0000000\tbest: 1.0000000 (1)\ttotal: 34.7ms\tremaining: 46.5ms\n",
      "53:\tlearn: 1.0000000\ttest: 1.0000000\tbest: 1.0000000 (1)\ttotal: 35.3ms\tremaining: 45.7ms\n",
      "54:\tlearn: 1.0000000\ttest: 1.0000000\tbest: 1.0000000 (1)\ttotal: 35.9ms\tremaining: 45ms\n",
      "55:\tlearn: 1.0000000\ttest: 1.0000000\tbest: 1.0000000 (1)\ttotal: 36.4ms\tremaining: 44.2ms\n",
      "56:\tlearn: 1.0000000\ttest: 1.0000000\tbest: 1.0000000 (1)\ttotal: 37ms\tremaining: 43.5ms\n",
      "57:\tlearn: 1.0000000\ttest: 1.0000000\tbest: 1.0000000 (1)\ttotal: 37.6ms\tremaining: 42.8ms\n",
      "58:\tlearn: 1.0000000\ttest: 1.0000000\tbest: 1.0000000 (1)\ttotal: 38.2ms\tremaining: 42ms\n",
      "59:\tlearn: 1.0000000\ttest: 1.0000000\tbest: 1.0000000 (1)\ttotal: 39.1ms\tremaining: 41.7ms\n",
      "60:\tlearn: 1.0000000\ttest: 1.0000000\tbest: 1.0000000 (1)\ttotal: 39.7ms\tremaining: 41ms\n",
      "61:\tlearn: 1.0000000\ttest: 1.0000000\tbest: 1.0000000 (1)\ttotal: 40.2ms\tremaining: 40.2ms\n",
      "62:\tlearn: 1.0000000\ttest: 1.0000000\tbest: 1.0000000 (1)\ttotal: 40.8ms\tremaining: 39.5ms\n",
      "63:\tlearn: 1.0000000\ttest: 1.0000000\tbest: 1.0000000 (1)\ttotal: 41.4ms\tremaining: 38.8ms\n",
      "64:\tlearn: 1.0000000\ttest: 1.0000000\tbest: 1.0000000 (1)\ttotal: 42ms\tremaining: 38.1ms\n",
      "65:\tlearn: 1.0000000\ttest: 1.0000000\tbest: 1.0000000 (1)\ttotal: 42.5ms\tremaining: 37.4ms\n",
      "66:\tlearn: 1.0000000\ttest: 1.0000000\tbest: 1.0000000 (1)\ttotal: 43.1ms\tremaining: 36.7ms\n",
      "67:\tlearn: 1.0000000\ttest: 1.0000000\tbest: 1.0000000 (1)\ttotal: 43.7ms\tremaining: 36ms\n",
      "68:\tlearn: 1.0000000\ttest: 1.0000000\tbest: 1.0000000 (1)\ttotal: 44.2ms\tremaining: 35.3ms\n",
      "69:\tlearn: 1.0000000\ttest: 1.0000000\tbest: 1.0000000 (1)\ttotal: 44.8ms\tremaining: 34.6ms\n",
      "70:\tlearn: 1.0000000\ttest: 1.0000000\tbest: 1.0000000 (1)\ttotal: 45.4ms\tremaining: 33.9ms\n",
      "71:\tlearn: 1.0000000\ttest: 1.0000000\tbest: 1.0000000 (1)\ttotal: 46ms\tremaining: 33.2ms\n",
      "72:\tlearn: 1.0000000\ttest: 1.0000000\tbest: 1.0000000 (1)\ttotal: 46.7ms\tremaining: 32.6ms\n",
      "73:\tlearn: 1.0000000\ttest: 1.0000000\tbest: 1.0000000 (1)\ttotal: 47.4ms\tremaining: 32ms\n",
      "74:\tlearn: 1.0000000\ttest: 1.0000000\tbest: 1.0000000 (1)\ttotal: 48.5ms\tremaining: 31.7ms\n",
      "75:\tlearn: 1.0000000\ttest: 1.0000000\tbest: 1.0000000 (1)\ttotal: 49.9ms\tremaining: 31.5ms\n",
      "76:\tlearn: 1.0000000\ttest: 1.0000000\tbest: 1.0000000 (1)\ttotal: 50.6ms\tremaining: 30.9ms\n",
      "77:\tlearn: 1.0000000\ttest: 1.0000000\tbest: 1.0000000 (1)\ttotal: 51.4ms\tremaining: 30.3ms\n",
      "78:\tlearn: 1.0000000\ttest: 1.0000000\tbest: 1.0000000 (1)\ttotal: 54.8ms\tremaining: 31.2ms\n",
      "79:\tlearn: 1.0000000\ttest: 1.0000000\tbest: 1.0000000 (1)\ttotal: 55.4ms\tremaining: 30.5ms\n",
      "80:\tlearn: 1.0000000\ttest: 1.0000000\tbest: 1.0000000 (1)\ttotal: 56.9ms\tremaining: 30.2ms\n",
      "81:\tlearn: 1.0000000\ttest: 1.0000000\tbest: 1.0000000 (1)\ttotal: 58.1ms\tremaining: 29.8ms\n",
      "82:\tlearn: 1.0000000\ttest: 1.0000000\tbest: 1.0000000 (1)\ttotal: 59.3ms\tremaining: 29.3ms\n",
      "83:\tlearn: 1.0000000\ttest: 1.0000000\tbest: 1.0000000 (1)\ttotal: 60.1ms\tremaining: 28.6ms\n",
      "84:\tlearn: 1.0000000\ttest: 1.0000000\tbest: 1.0000000 (1)\ttotal: 61.8ms\tremaining: 28.4ms\n",
      "85:\tlearn: 1.0000000\ttest: 1.0000000\tbest: 1.0000000 (1)\ttotal: 62.4ms\tremaining: 27.6ms\n",
      "86:\tlearn: 1.0000000\ttest: 1.0000000\tbest: 1.0000000 (1)\ttotal: 63ms\tremaining: 26.8ms\n",
      "87:\tlearn: 1.0000000\ttest: 1.0000000\tbest: 1.0000000 (1)\ttotal: 63.6ms\tremaining: 26ms\n",
      "88:\tlearn: 1.0000000\ttest: 1.0000000\tbest: 1.0000000 (1)\ttotal: 64.2ms\tremaining: 25.2ms\n",
      "89:\tlearn: 1.0000000\ttest: 1.0000000\tbest: 1.0000000 (1)\ttotal: 64.8ms\tremaining: 24.5ms\n",
      "90:\tlearn: 1.0000000\ttest: 1.0000000\tbest: 1.0000000 (1)\ttotal: 65.3ms\tremaining: 23.7ms\n",
      "91:\tlearn: 1.0000000\ttest: 1.0000000\tbest: 1.0000000 (1)\ttotal: 65.9ms\tremaining: 22.9ms\n",
      "92:\tlearn: 1.0000000\ttest: 1.0000000\tbest: 1.0000000 (1)\ttotal: 66.5ms\tremaining: 22.2ms\n",
      "93:\tlearn: 1.0000000\ttest: 1.0000000\tbest: 1.0000000 (1)\ttotal: 67.1ms\tremaining: 21.4ms\n",
      "94:\tlearn: 1.0000000\ttest: 1.0000000\tbest: 1.0000000 (1)\ttotal: 67.7ms\tremaining: 20.7ms\n",
      "95:\tlearn: 1.0000000\ttest: 1.0000000\tbest: 1.0000000 (1)\ttotal: 68.2ms\tremaining: 19.9ms\n",
      "96:\tlearn: 1.0000000\ttest: 1.0000000\tbest: 1.0000000 (1)\ttotal: 68.8ms\tremaining: 19.2ms\n",
      "97:\tlearn: 1.0000000\ttest: 1.0000000\tbest: 1.0000000 (1)\ttotal: 69.4ms\tremaining: 18.4ms\n",
      "98:\tlearn: 1.0000000\ttest: 1.0000000\tbest: 1.0000000 (1)\ttotal: 70ms\tremaining: 17.7ms\n",
      "99:\tlearn: 1.0000000\ttest: 1.0000000\tbest: 1.0000000 (1)\ttotal: 70.6ms\tremaining: 16.9ms\n",
      "100:\tlearn: 1.0000000\ttest: 1.0000000\tbest: 1.0000000 (1)\ttotal: 71.1ms\tremaining: 16.2ms\n",
      "101:\tlearn: 1.0000000\ttest: 1.0000000\tbest: 1.0000000 (1)\ttotal: 71.6ms\tremaining: 15.4ms\n",
      "102:\tlearn: 1.0000000\ttest: 1.0000000\tbest: 1.0000000 (1)\ttotal: 72.8ms\tremaining: 14.8ms\n",
      "103:\tlearn: 1.0000000\ttest: 1.0000000\tbest: 1.0000000 (1)\ttotal: 73.4ms\tremaining: 14.1ms\n",
      "104:\tlearn: 1.0000000\ttest: 1.0000000\tbest: 1.0000000 (1)\ttotal: 74ms\tremaining: 13.4ms\n",
      "105:\tlearn: 1.0000000\ttest: 1.0000000\tbest: 1.0000000 (1)\ttotal: 74.5ms\tremaining: 12.7ms\n",
      "106:\tlearn: 1.0000000\ttest: 1.0000000\tbest: 1.0000000 (1)\ttotal: 75.1ms\tremaining: 11.9ms\n",
      "107:\tlearn: 1.0000000\ttest: 1.0000000\tbest: 1.0000000 (1)\ttotal: 75.7ms\tremaining: 11.2ms\n",
      "108:\tlearn: 1.0000000\ttest: 1.0000000\tbest: 1.0000000 (1)\ttotal: 76.3ms\tremaining: 10.5ms\n",
      "109:\tlearn: 1.0000000\ttest: 1.0000000\tbest: 1.0000000 (1)\ttotal: 76.9ms\tremaining: 9.78ms\n",
      "110:\tlearn: 1.0000000\ttest: 1.0000000\tbest: 1.0000000 (1)\ttotal: 77.5ms\tremaining: 9.07ms\n",
      "111:\tlearn: 1.0000000\ttest: 1.0000000\tbest: 1.0000000 (1)\ttotal: 78ms\tremaining: 8.36ms\n",
      "112:\tlearn: 1.0000000\ttest: 1.0000000\tbest: 1.0000000 (1)\ttotal: 78.6ms\tremaining: 7.65ms\n",
      "113:\tlearn: 1.0000000\ttest: 1.0000000\tbest: 1.0000000 (1)\ttotal: 79.2ms\tremaining: 6.95ms\n",
      "114:\tlearn: 1.0000000\ttest: 1.0000000\tbest: 1.0000000 (1)\ttotal: 79.7ms\tremaining: 6.24ms\n",
      "115:\tlearn: 1.0000000\ttest: 1.0000000\tbest: 1.0000000 (1)\ttotal: 80.7ms\tremaining: 5.57ms\n",
      "116:\tlearn: 1.0000000\ttest: 1.0000000\tbest: 1.0000000 (1)\ttotal: 81.3ms\tremaining: 4.87ms\n",
      "117:\tlearn: 1.0000000\ttest: 1.0000000\tbest: 1.0000000 (1)\ttotal: 81.9ms\tremaining: 4.17ms\n",
      "118:\tlearn: 1.0000000\ttest: 1.0000000\tbest: 1.0000000 (1)\ttotal: 82.5ms\tremaining: 3.47ms\n",
      "119:\tlearn: 1.0000000\ttest: 1.0000000\tbest: 1.0000000 (1)\ttotal: 83.1ms\tremaining: 2.77ms\n",
      "120:\tlearn: 1.0000000\ttest: 1.0000000\tbest: 1.0000000 (1)\ttotal: 83.7ms\tremaining: 2.07ms\n",
      "121:\tlearn: 1.0000000\ttest: 1.0000000\tbest: 1.0000000 (1)\ttotal: 84.2ms\tremaining: 1.38ms\n",
      "122:\tlearn: 1.0000000\ttest: 1.0000000\tbest: 1.0000000 (1)\ttotal: 84.8ms\tremaining: 689us\n",
      "123:\tlearn: 1.0000000\ttest: 1.0000000\tbest: 1.0000000 (1)\ttotal: 85.4ms\tremaining: 0us\n",
      "\n",
      "bestTest = 1\n",
      "bestIteration = 1\n",
      "\n",
      "Training on fold [2/5]\n",
      "0:\tlearn: 1.0000000\ttest: 0.8571429\tbest: 0.8571429 (0)\ttotal: 719us\tremaining: 88.4ms\n",
      "1:\tlearn: 1.0000000\ttest: 0.9565217\tbest: 0.9565217 (1)\ttotal: 1.36ms\tremaining: 83ms\n",
      "2:\tlearn: 1.0000000\ttest: 1.0000000\tbest: 1.0000000 (2)\ttotal: 2.03ms\tremaining: 81.8ms\n",
      "3:\tlearn: 1.0000000\ttest: 1.0000000\tbest: 1.0000000 (2)\ttotal: 2.7ms\tremaining: 80.9ms\n",
      "4:\tlearn: 1.0000000\ttest: 1.0000000\tbest: 1.0000000 (2)\ttotal: 3.64ms\tremaining: 86.7ms\n",
      "5:\tlearn: 1.0000000\ttest: 1.0000000\tbest: 1.0000000 (2)\ttotal: 4.3ms\tremaining: 84.5ms\n",
      "6:\tlearn: 1.0000000\ttest: 1.0000000\tbest: 1.0000000 (2)\ttotal: 4.91ms\tremaining: 82.1ms\n",
      "7:\tlearn: 1.0000000\ttest: 1.0000000\tbest: 1.0000000 (2)\ttotal: 5.59ms\tremaining: 81.1ms\n",
      "8:\tlearn: 1.0000000\ttest: 1.0000000\tbest: 1.0000000 (2)\ttotal: 6.24ms\tremaining: 79.7ms\n",
      "9:\tlearn: 1.0000000\ttest: 1.0000000\tbest: 1.0000000 (2)\ttotal: 6.86ms\tremaining: 78.2ms\n",
      "10:\tlearn: 1.0000000\ttest: 1.0000000\tbest: 1.0000000 (2)\ttotal: 7.49ms\tremaining: 77ms\n",
      "11:\tlearn: 1.0000000\ttest: 1.0000000\tbest: 1.0000000 (2)\ttotal: 8.13ms\tremaining: 75.9ms\n",
      "12:\tlearn: 1.0000000\ttest: 1.0000000\tbest: 1.0000000 (2)\ttotal: 8.78ms\tremaining: 74.9ms\n",
      "13:\tlearn: 1.0000000\ttest: 1.0000000\tbest: 1.0000000 (2)\ttotal: 9.4ms\tremaining: 73.9ms\n",
      "14:\tlearn: 1.0000000\ttest: 1.0000000\tbest: 1.0000000 (2)\ttotal: 10ms\tremaining: 72.9ms\n",
      "15:\tlearn: 1.0000000\ttest: 1.0000000\tbest: 1.0000000 (2)\ttotal: 10.6ms\tremaining: 71.7ms\n",
      "16:\tlearn: 1.0000000\ttest: 1.0000000\tbest: 1.0000000 (2)\ttotal: 11.2ms\tremaining: 70.5ms\n",
      "17:\tlearn: 1.0000000\ttest: 1.0000000\tbest: 1.0000000 (2)\ttotal: 11.8ms\tremaining: 69.4ms\n",
      "18:\tlearn: 1.0000000\ttest: 1.0000000\tbest: 1.0000000 (2)\ttotal: 12.4ms\tremaining: 68.5ms\n",
      "19:\tlearn: 1.0000000\ttest: 1.0000000\tbest: 1.0000000 (2)\ttotal: 13ms\tremaining: 67.4ms\n",
      "20:\tlearn: 1.0000000\ttest: 1.0000000\tbest: 1.0000000 (2)\ttotal: 13.5ms\tremaining: 66.4ms\n",
      "21:\tlearn: 1.0000000\ttest: 1.0000000\tbest: 1.0000000 (2)\ttotal: 14.1ms\tremaining: 65.6ms\n",
      "22:\tlearn: 1.0000000\ttest: 1.0000000\tbest: 1.0000000 (2)\ttotal: 14.7ms\tremaining: 64.7ms\n",
      "23:\tlearn: 1.0000000\ttest: 1.0000000\tbest: 1.0000000 (2)\ttotal: 15.3ms\tremaining: 63.8ms\n",
      "24:\tlearn: 1.0000000\ttest: 1.0000000\tbest: 1.0000000 (2)\ttotal: 15.9ms\tremaining: 63ms\n",
      "25:\tlearn: 1.0000000\ttest: 1.0000000\tbest: 1.0000000 (2)\ttotal: 16.5ms\tremaining: 62.1ms\n",
      "26:\tlearn: 1.0000000\ttest: 1.0000000\tbest: 1.0000000 (2)\ttotal: 17.1ms\tremaining: 61.3ms\n",
      "27:\tlearn: 1.0000000\ttest: 1.0000000\tbest: 1.0000000 (2)\ttotal: 17.7ms\tremaining: 60.6ms\n",
      "28:\tlearn: 1.0000000\ttest: 1.0000000\tbest: 1.0000000 (2)\ttotal: 18.2ms\tremaining: 59.7ms\n",
      "29:\tlearn: 1.0000000\ttest: 1.0000000\tbest: 1.0000000 (2)\ttotal: 18.8ms\tremaining: 59ms\n",
      "30:\tlearn: 1.0000000\ttest: 1.0000000\tbest: 1.0000000 (2)\ttotal: 19.4ms\tremaining: 58.2ms\n",
      "31:\tlearn: 1.0000000\ttest: 1.0000000\tbest: 1.0000000 (2)\ttotal: 20ms\tremaining: 57.5ms\n",
      "32:\tlearn: 1.0000000\ttest: 1.0000000\tbest: 1.0000000 (2)\ttotal: 20.5ms\tremaining: 56.4ms\n",
      "33:\tlearn: 1.0000000\ttest: 1.0000000\tbest: 1.0000000 (2)\ttotal: 21ms\tremaining: 55.6ms\n",
      "34:\tlearn: 1.0000000\ttest: 1.0000000\tbest: 1.0000000 (2)\ttotal: 21.5ms\tremaining: 54.6ms\n",
      "35:\tlearn: 1.0000000\ttest: 1.0000000\tbest: 1.0000000 (2)\ttotal: 22.8ms\tremaining: 55.8ms\n",
      "36:\tlearn: 1.0000000\ttest: 1.0000000\tbest: 1.0000000 (2)\ttotal: 23.4ms\tremaining: 55ms\n",
      "37:\tlearn: 1.0000000\ttest: 1.0000000\tbest: 1.0000000 (2)\ttotal: 24ms\tremaining: 54.3ms\n",
      "38:\tlearn: 1.0000000\ttest: 1.0000000\tbest: 1.0000000 (2)\ttotal: 24.6ms\tremaining: 53.5ms\n",
      "39:\tlearn: 1.0000000\ttest: 1.0000000\tbest: 1.0000000 (2)\ttotal: 25.1ms\tremaining: 52.8ms\n",
      "40:\tlearn: 1.0000000\ttest: 1.0000000\tbest: 1.0000000 (2)\ttotal: 25.7ms\tremaining: 52.1ms\n",
      "41:\tlearn: 1.0000000\ttest: 1.0000000\tbest: 1.0000000 (2)\ttotal: 26.3ms\tremaining: 51.4ms\n",
      "42:\tlearn: 1.0000000\ttest: 1.0000000\tbest: 1.0000000 (2)\ttotal: 26.9ms\tremaining: 50.6ms\n",
      "43:\tlearn: 1.0000000\ttest: 1.0000000\tbest: 1.0000000 (2)\ttotal: 27.5ms\tremaining: 49.9ms\n",
      "44:\tlearn: 1.0000000\ttest: 1.0000000\tbest: 1.0000000 (2)\ttotal: 28ms\tremaining: 49.2ms\n",
      "45:\tlearn: 1.0000000\ttest: 1.0000000\tbest: 1.0000000 (2)\ttotal: 28.6ms\tremaining: 48.5ms\n",
      "46:\tlearn: 1.0000000\ttest: 1.0000000\tbest: 1.0000000 (2)\ttotal: 29.2ms\tremaining: 47.8ms\n",
      "47:\tlearn: 1.0000000\ttest: 1.0000000\tbest: 1.0000000 (2)\ttotal: 29.8ms\tremaining: 47.2ms\n",
      "48:\tlearn: 1.0000000\ttest: 1.0000000\tbest: 1.0000000 (2)\ttotal: 30.4ms\tremaining: 46.5ms\n",
      "49:\tlearn: 1.0000000\ttest: 1.0000000\tbest: 1.0000000 (2)\ttotal: 31ms\tremaining: 45.8ms\n",
      "50:\tlearn: 1.0000000\ttest: 1.0000000\tbest: 1.0000000 (2)\ttotal: 31.5ms\tremaining: 45.2ms\n",
      "51:\tlearn: 1.0000000\ttest: 1.0000000\tbest: 1.0000000 (2)\ttotal: 32.1ms\tremaining: 44.5ms\n",
      "52:\tlearn: 1.0000000\ttest: 1.0000000\tbest: 1.0000000 (2)\ttotal: 32.7ms\tremaining: 43.8ms\n",
      "53:\tlearn: 1.0000000\ttest: 1.0000000\tbest: 1.0000000 (2)\ttotal: 33.3ms\tremaining: 43.1ms\n",
      "54:\tlearn: 1.0000000\ttest: 1.0000000\tbest: 1.0000000 (2)\ttotal: 33.9ms\tremaining: 42.5ms\n",
      "55:\tlearn: 1.0000000\ttest: 1.0000000\tbest: 1.0000000 (2)\ttotal: 34.4ms\tremaining: 41.8ms\n",
      "56:\tlearn: 1.0000000\ttest: 1.0000000\tbest: 1.0000000 (2)\ttotal: 35ms\tremaining: 41.2ms\n",
      "57:\tlearn: 1.0000000\ttest: 1.0000000\tbest: 1.0000000 (2)\ttotal: 35.6ms\tremaining: 40.5ms\n",
      "58:\tlearn: 1.0000000\ttest: 1.0000000\tbest: 1.0000000 (2)\ttotal: 36.2ms\tremaining: 39.8ms\n",
      "59:\tlearn: 1.0000000\ttest: 1.0000000\tbest: 1.0000000 (2)\ttotal: 36.7ms\tremaining: 39.2ms\n",
      "60:\tlearn: 1.0000000\ttest: 1.0000000\tbest: 1.0000000 (2)\ttotal: 37.3ms\tremaining: 38.5ms\n",
      "61:\tlearn: 1.0000000\ttest: 1.0000000\tbest: 1.0000000 (2)\ttotal: 37.9ms\tremaining: 37.9ms\n",
      "62:\tlearn: 1.0000000\ttest: 1.0000000\tbest: 1.0000000 (2)\ttotal: 38.5ms\tremaining: 37.3ms\n",
      "63:\tlearn: 1.0000000\ttest: 1.0000000\tbest: 1.0000000 (2)\ttotal: 39.1ms\tremaining: 36.6ms\n",
      "64:\tlearn: 1.0000000\ttest: 1.0000000\tbest: 1.0000000 (2)\ttotal: 39.7ms\tremaining: 36ms\n",
      "65:\tlearn: 1.0000000\ttest: 1.0000000\tbest: 1.0000000 (2)\ttotal: 40.2ms\tremaining: 35.3ms\n",
      "66:\tlearn: 1.0000000\ttest: 1.0000000\tbest: 1.0000000 (2)\ttotal: 40.8ms\tremaining: 34.7ms\n",
      "67:\tlearn: 1.0000000\ttest: 1.0000000\tbest: 1.0000000 (2)\ttotal: 41.4ms\tremaining: 34.1ms\n",
      "68:\tlearn: 1.0000000\ttest: 1.0000000\tbest: 1.0000000 (2)\ttotal: 42ms\tremaining: 33.5ms\n",
      "69:\tlearn: 1.0000000\ttest: 1.0000000\tbest: 1.0000000 (2)\ttotal: 42.6ms\tremaining: 32.8ms\n",
      "70:\tlearn: 1.0000000\ttest: 1.0000000\tbest: 1.0000000 (2)\ttotal: 43.1ms\tremaining: 32.2ms\n",
      "71:\tlearn: 1.0000000\ttest: 1.0000000\tbest: 1.0000000 (2)\ttotal: 43.7ms\tremaining: 31.6ms\n",
      "72:\tlearn: 1.0000000\ttest: 1.0000000\tbest: 1.0000000 (2)\ttotal: 44.3ms\tremaining: 30.9ms\n",
      "73:\tlearn: 1.0000000\ttest: 1.0000000\tbest: 1.0000000 (2)\ttotal: 44.9ms\tremaining: 30.3ms\n",
      "74:\tlearn: 1.0000000\ttest: 1.0000000\tbest: 1.0000000 (2)\ttotal: 45.5ms\tremaining: 29.7ms\n",
      "75:\tlearn: 1.0000000\ttest: 1.0000000\tbest: 1.0000000 (2)\ttotal: 46ms\tremaining: 29.1ms\n",
      "76:\tlearn: 1.0000000\ttest: 1.0000000\tbest: 1.0000000 (2)\ttotal: 46.6ms\tremaining: 28.5ms\n",
      "77:\tlearn: 1.0000000\ttest: 1.0000000\tbest: 1.0000000 (2)\ttotal: 47.2ms\tremaining: 27.8ms\n",
      "78:\tlearn: 1.0000000\ttest: 1.0000000\tbest: 1.0000000 (2)\ttotal: 47.8ms\tremaining: 27.2ms\n",
      "79:\tlearn: 1.0000000\ttest: 1.0000000\tbest: 1.0000000 (2)\ttotal: 48.4ms\tremaining: 26.6ms\n",
      "80:\tlearn: 1.0000000\ttest: 1.0000000\tbest: 1.0000000 (2)\ttotal: 48.9ms\tremaining: 26ms\n",
      "81:\tlearn: 1.0000000\ttest: 1.0000000\tbest: 1.0000000 (2)\ttotal: 49.5ms\tremaining: 25.4ms\n",
      "82:\tlearn: 1.0000000\ttest: 1.0000000\tbest: 1.0000000 (2)\ttotal: 50.1ms\tremaining: 24.8ms\n",
      "83:\tlearn: 1.0000000\ttest: 1.0000000\tbest: 1.0000000 (2)\ttotal: 50.7ms\tremaining: 24.1ms\n",
      "84:\tlearn: 1.0000000\ttest: 1.0000000\tbest: 1.0000000 (2)\ttotal: 51.3ms\tremaining: 23.5ms\n",
      "85:\tlearn: 1.0000000\ttest: 1.0000000\tbest: 1.0000000 (2)\ttotal: 51.9ms\tremaining: 22.9ms\n",
      "86:\tlearn: 1.0000000\ttest: 1.0000000\tbest: 1.0000000 (2)\ttotal: 52.5ms\tremaining: 22.3ms\n",
      "87:\tlearn: 1.0000000\ttest: 1.0000000\tbest: 1.0000000 (2)\ttotal: 53ms\tremaining: 21.7ms\n",
      "88:\tlearn: 1.0000000\ttest: 1.0000000\tbest: 1.0000000 (2)\ttotal: 53.6ms\tremaining: 21.1ms\n",
      "89:\tlearn: 1.0000000\ttest: 1.0000000\tbest: 1.0000000 (2)\ttotal: 54.2ms\tremaining: 20.5ms\n",
      "90:\tlearn: 1.0000000\ttest: 1.0000000\tbest: 1.0000000 (2)\ttotal: 54.8ms\tremaining: 19.9ms\n",
      "91:\tlearn: 1.0000000\ttest: 1.0000000\tbest: 1.0000000 (2)\ttotal: 55.4ms\tremaining: 19.3ms\n",
      "92:\tlearn: 1.0000000\ttest: 1.0000000\tbest: 1.0000000 (2)\ttotal: 55.9ms\tremaining: 18.6ms\n",
      "93:\tlearn: 1.0000000\ttest: 1.0000000\tbest: 1.0000000 (2)\ttotal: 56.5ms\tremaining: 18ms\n",
      "94:\tlearn: 1.0000000\ttest: 1.0000000\tbest: 1.0000000 (2)\ttotal: 57.1ms\tremaining: 17.4ms\n",
      "95:\tlearn: 1.0000000\ttest: 1.0000000\tbest: 1.0000000 (2)\ttotal: 57.7ms\tremaining: 16.8ms\n",
      "96:\tlearn: 1.0000000\ttest: 1.0000000\tbest: 1.0000000 (2)\ttotal: 58.4ms\tremaining: 16.3ms\n",
      "97:\tlearn: 1.0000000\ttest: 1.0000000\tbest: 1.0000000 (2)\ttotal: 59ms\tremaining: 15.6ms\n",
      "98:\tlearn: 1.0000000\ttest: 1.0000000\tbest: 1.0000000 (2)\ttotal: 59.9ms\tremaining: 15.1ms\n",
      "99:\tlearn: 1.0000000\ttest: 1.0000000\tbest: 1.0000000 (2)\ttotal: 61.2ms\tremaining: 14.7ms\n",
      "100:\tlearn: 1.0000000\ttest: 1.0000000\tbest: 1.0000000 (2)\ttotal: 61.9ms\tremaining: 14.1ms\n",
      "101:\tlearn: 1.0000000\ttest: 1.0000000\tbest: 1.0000000 (2)\ttotal: 62.5ms\tremaining: 13.5ms\n",
      "102:\tlearn: 1.0000000\ttest: 1.0000000\tbest: 1.0000000 (2)\ttotal: 63ms\tremaining: 12.9ms\n",
      "103:\tlearn: 1.0000000\ttest: 1.0000000\tbest: 1.0000000 (2)\ttotal: 63.6ms\tremaining: 12.2ms\n",
      "104:\tlearn: 1.0000000\ttest: 1.0000000\tbest: 1.0000000 (2)\ttotal: 64.2ms\tremaining: 11.6ms\n",
      "105:\tlearn: 1.0000000\ttest: 1.0000000\tbest: 1.0000000 (2)\ttotal: 64.8ms\tremaining: 11ms\n",
      "106:\tlearn: 1.0000000\ttest: 1.0000000\tbest: 1.0000000 (2)\ttotal: 65.4ms\tremaining: 10.4ms\n",
      "107:\tlearn: 1.0000000\ttest: 1.0000000\tbest: 1.0000000 (2)\ttotal: 66ms\tremaining: 9.77ms\n",
      "108:\tlearn: 1.0000000\ttest: 1.0000000\tbest: 1.0000000 (2)\ttotal: 66.5ms\tremaining: 9.16ms\n",
      "109:\tlearn: 1.0000000\ttest: 1.0000000\tbest: 1.0000000 (2)\ttotal: 67.1ms\tremaining: 8.54ms\n",
      "110:\tlearn: 1.0000000\ttest: 1.0000000\tbest: 1.0000000 (2)\ttotal: 67.7ms\tremaining: 7.93ms\n",
      "111:\tlearn: 1.0000000\ttest: 1.0000000\tbest: 1.0000000 (2)\ttotal: 68.3ms\tremaining: 7.32ms\n",
      "112:\tlearn: 1.0000000\ttest: 1.0000000\tbest: 1.0000000 (2)\ttotal: 68.9ms\tremaining: 6.7ms\n",
      "113:\tlearn: 1.0000000\ttest: 1.0000000\tbest: 1.0000000 (2)\ttotal: 69.5ms\tremaining: 6.09ms\n",
      "114:\tlearn: 1.0000000\ttest: 1.0000000\tbest: 1.0000000 (2)\ttotal: 70ms\tremaining: 5.48ms\n",
      "115:\tlearn: 1.0000000\ttest: 1.0000000\tbest: 1.0000000 (2)\ttotal: 70.6ms\tremaining: 4.87ms\n",
      "116:\tlearn: 1.0000000\ttest: 1.0000000\tbest: 1.0000000 (2)\ttotal: 71.2ms\tremaining: 4.26ms\n",
      "117:\tlearn: 1.0000000\ttest: 1.0000000\tbest: 1.0000000 (2)\ttotal: 71.8ms\tremaining: 3.65ms\n",
      "118:\tlearn: 1.0000000\ttest: 1.0000000\tbest: 1.0000000 (2)\ttotal: 72.4ms\tremaining: 3.04ms\n",
      "119:\tlearn: 1.0000000\ttest: 1.0000000\tbest: 1.0000000 (2)\ttotal: 72.9ms\tremaining: 2.43ms\n",
      "120:\tlearn: 1.0000000\ttest: 1.0000000\tbest: 1.0000000 (2)\ttotal: 73.5ms\tremaining: 1.82ms\n",
      "121:\tlearn: 1.0000000\ttest: 1.0000000\tbest: 1.0000000 (2)\ttotal: 74.1ms\tremaining: 1.21ms\n",
      "122:\tlearn: 1.0000000\ttest: 1.0000000\tbest: 1.0000000 (2)\ttotal: 74.7ms\tremaining: 607us\n",
      "123:\tlearn: 1.0000000\ttest: 1.0000000\tbest: 1.0000000 (2)\ttotal: 75.3ms\tremaining: 0us\n",
      "\n",
      "bestTest = 1\n",
      "bestIteration = 2\n",
      "\n",
      "Training on fold [3/5]\n",
      "0:\tlearn: 1.0000000\ttest: 1.0000000\tbest: 1.0000000 (0)\ttotal: 1.03ms\tremaining: 127ms\n",
      "1:\tlearn: 1.0000000\ttest: 1.0000000\tbest: 1.0000000 (0)\ttotal: 2.33ms\tremaining: 142ms\n",
      "2:\tlearn: 1.0000000\ttest: 1.0000000\tbest: 1.0000000 (0)\ttotal: 3.76ms\tremaining: 152ms\n",
      "3:\tlearn: 1.0000000\ttest: 1.0000000\tbest: 1.0000000 (0)\ttotal: 4.92ms\tremaining: 148ms\n",
      "4:\tlearn: 1.0000000\ttest: 1.0000000\tbest: 1.0000000 (0)\ttotal: 6.06ms\tremaining: 144ms\n",
      "5:\tlearn: 1.0000000\ttest: 1.0000000\tbest: 1.0000000 (0)\ttotal: 7.44ms\tremaining: 146ms\n",
      "6:\tlearn: 1.0000000\ttest: 1.0000000\tbest: 1.0000000 (0)\ttotal: 9.07ms\tremaining: 152ms\n",
      "7:\tlearn: 1.0000000\ttest: 1.0000000\tbest: 1.0000000 (0)\ttotal: 10.4ms\tremaining: 151ms\n",
      "8:\tlearn: 1.0000000\ttest: 1.0000000\tbest: 1.0000000 (0)\ttotal: 11.8ms\tremaining: 151ms\n",
      "9:\tlearn: 1.0000000\ttest: 1.0000000\tbest: 1.0000000 (0)\ttotal: 13ms\tremaining: 148ms\n",
      "10:\tlearn: 1.0000000\ttest: 1.0000000\tbest: 1.0000000 (0)\ttotal: 14.4ms\tremaining: 148ms\n",
      "11:\tlearn: 1.0000000\ttest: 1.0000000\tbest: 1.0000000 (0)\ttotal: 16ms\tremaining: 149ms\n",
      "12:\tlearn: 1.0000000\ttest: 1.0000000\tbest: 1.0000000 (0)\ttotal: 17.4ms\tremaining: 149ms\n",
      "13:\tlearn: 1.0000000\ttest: 1.0000000\tbest: 1.0000000 (0)\ttotal: 18.5ms\tremaining: 146ms\n",
      "14:\tlearn: 1.0000000\ttest: 1.0000000\tbest: 1.0000000 (0)\ttotal: 19.1ms\tremaining: 139ms\n",
      "15:\tlearn: 1.0000000\ttest: 1.0000000\tbest: 1.0000000 (0)\ttotal: 19.8ms\tremaining: 134ms\n",
      "16:\tlearn: 1.0000000\ttest: 1.0000000\tbest: 1.0000000 (0)\ttotal: 20.5ms\tremaining: 129ms\n",
      "17:\tlearn: 1.0000000\ttest: 1.0000000\tbest: 1.0000000 (0)\ttotal: 21.1ms\tremaining: 124ms\n",
      "18:\tlearn: 1.0000000\ttest: 1.0000000\tbest: 1.0000000 (0)\ttotal: 21.7ms\tremaining: 120ms\n",
      "19:\tlearn: 1.0000000\ttest: 1.0000000\tbest: 1.0000000 (0)\ttotal: 22.3ms\tremaining: 116ms\n",
      "20:\tlearn: 1.0000000\ttest: 1.0000000\tbest: 1.0000000 (0)\ttotal: 22.9ms\tremaining: 112ms\n",
      "21:\tlearn: 1.0000000\ttest: 1.0000000\tbest: 1.0000000 (0)\ttotal: 23.5ms\tremaining: 109ms\n",
      "22:\tlearn: 1.0000000\ttest: 1.0000000\tbest: 1.0000000 (0)\ttotal: 24.1ms\tremaining: 106ms\n",
      "23:\tlearn: 1.0000000\ttest: 1.0000000\tbest: 1.0000000 (0)\ttotal: 24.7ms\tremaining: 103ms\n",
      "24:\tlearn: 1.0000000\ttest: 1.0000000\tbest: 1.0000000 (0)\ttotal: 25.3ms\tremaining: 100ms\n",
      "25:\tlearn: 1.0000000\ttest: 1.0000000\tbest: 1.0000000 (0)\ttotal: 25.9ms\tremaining: 97.5ms\n",
      "26:\tlearn: 1.0000000\ttest: 1.0000000\tbest: 1.0000000 (0)\ttotal: 26.4ms\tremaining: 94.9ms\n",
      "27:\tlearn: 1.0000000\ttest: 1.0000000\tbest: 1.0000000 (0)\ttotal: 27ms\tremaining: 92.6ms\n",
      "28:\tlearn: 1.0000000\ttest: 1.0000000\tbest: 1.0000000 (0)\ttotal: 27.6ms\tremaining: 90.5ms\n",
      "29:\tlearn: 1.0000000\ttest: 1.0000000\tbest: 1.0000000 (0)\ttotal: 28.3ms\tremaining: 88.7ms\n",
      "30:\tlearn: 1.0000000\ttest: 1.0000000\tbest: 1.0000000 (0)\ttotal: 28.8ms\tremaining: 86.3ms\n",
      "31:\tlearn: 1.0000000\ttest: 1.0000000\tbest: 1.0000000 (0)\ttotal: 29.7ms\tremaining: 85.4ms\n",
      "32:\tlearn: 1.0000000\ttest: 1.0000000\tbest: 1.0000000 (0)\ttotal: 30.3ms\tremaining: 83.6ms\n",
      "33:\tlearn: 1.0000000\ttest: 1.0000000\tbest: 1.0000000 (0)\ttotal: 30.9ms\tremaining: 81.8ms\n",
      "34:\tlearn: 1.0000000\ttest: 1.0000000\tbest: 1.0000000 (0)\ttotal: 31.5ms\tremaining: 80ms\n",
      "35:\tlearn: 1.0000000\ttest: 1.0000000\tbest: 1.0000000 (0)\ttotal: 32.1ms\tremaining: 78.4ms\n",
      "36:\tlearn: 1.0000000\ttest: 1.0000000\tbest: 1.0000000 (0)\ttotal: 32.5ms\tremaining: 76.5ms\n",
      "37:\tlearn: 1.0000000\ttest: 1.0000000\tbest: 1.0000000 (0)\ttotal: 33.4ms\tremaining: 75.6ms\n",
      "38:\tlearn: 1.0000000\ttest: 1.0000000\tbest: 1.0000000 (0)\ttotal: 33.9ms\tremaining: 73.8ms\n",
      "39:\tlearn: 1.0000000\ttest: 1.0000000\tbest: 1.0000000 (0)\ttotal: 35ms\tremaining: 73.5ms\n",
      "40:\tlearn: 1.0000000\ttest: 1.0000000\tbest: 1.0000000 (0)\ttotal: 35.6ms\tremaining: 72ms\n",
      "41:\tlearn: 1.0000000\ttest: 1.0000000\tbest: 1.0000000 (0)\ttotal: 36.2ms\tremaining: 70.6ms\n",
      "42:\tlearn: 1.0000000\ttest: 1.0000000\tbest: 1.0000000 (0)\ttotal: 36.7ms\tremaining: 69.2ms\n",
      "43:\tlearn: 1.0000000\ttest: 1.0000000\tbest: 1.0000000 (0)\ttotal: 37.3ms\tremaining: 67.9ms\n",
      "44:\tlearn: 1.0000000\ttest: 1.0000000\tbest: 1.0000000 (0)\ttotal: 37.9ms\tremaining: 66.5ms\n",
      "45:\tlearn: 1.0000000\ttest: 1.0000000\tbest: 1.0000000 (0)\ttotal: 38.5ms\tremaining: 65.2ms\n",
      "46:\tlearn: 1.0000000\ttest: 1.0000000\tbest: 1.0000000 (0)\ttotal: 39ms\tremaining: 64ms\n",
      "47:\tlearn: 1.0000000\ttest: 1.0000000\tbest: 1.0000000 (0)\ttotal: 39.6ms\tremaining: 62.7ms\n",
      "48:\tlearn: 1.0000000\ttest: 1.0000000\tbest: 1.0000000 (0)\ttotal: 40.2ms\tremaining: 61.5ms\n",
      "49:\tlearn: 1.0000000\ttest: 1.0000000\tbest: 1.0000000 (0)\ttotal: 40.8ms\tremaining: 60.4ms\n",
      "50:\tlearn: 1.0000000\ttest: 1.0000000\tbest: 1.0000000 (0)\ttotal: 41.4ms\tremaining: 59.2ms\n",
      "51:\tlearn: 1.0000000\ttest: 1.0000000\tbest: 1.0000000 (0)\ttotal: 41.9ms\tremaining: 58.1ms\n",
      "52:\tlearn: 1.0000000\ttest: 1.0000000\tbest: 1.0000000 (0)\ttotal: 42.5ms\tremaining: 57ms\n",
      "53:\tlearn: 1.0000000\ttest: 1.0000000\tbest: 1.0000000 (0)\ttotal: 43.1ms\tremaining: 55.9ms\n",
      "54:\tlearn: 1.0000000\ttest: 1.0000000\tbest: 1.0000000 (0)\ttotal: 43.7ms\tremaining: 54.8ms\n",
      "55:\tlearn: 1.0000000\ttest: 1.0000000\tbest: 1.0000000 (0)\ttotal: 44.3ms\tremaining: 53.8ms\n",
      "56:\tlearn: 1.0000000\ttest: 1.0000000\tbest: 1.0000000 (0)\ttotal: 44.9ms\tremaining: 52.8ms\n",
      "57:\tlearn: 1.0000000\ttest: 1.0000000\tbest: 1.0000000 (0)\ttotal: 45.5ms\tremaining: 51.8ms\n",
      "58:\tlearn: 1.0000000\ttest: 1.0000000\tbest: 1.0000000 (0)\ttotal: 46.1ms\tremaining: 50.8ms\n",
      "59:\tlearn: 1.0000000\ttest: 1.0000000\tbest: 1.0000000 (0)\ttotal: 46.7ms\tremaining: 49.8ms\n",
      "60:\tlearn: 1.0000000\ttest: 1.0000000\tbest: 1.0000000 (0)\ttotal: 47.2ms\tremaining: 48.8ms\n",
      "61:\tlearn: 1.0000000\ttest: 1.0000000\tbest: 1.0000000 (0)\ttotal: 47.9ms\tremaining: 47.9ms\n",
      "62:\tlearn: 1.0000000\ttest: 1.0000000\tbest: 1.0000000 (0)\ttotal: 48.5ms\tremaining: 47ms\n",
      "63:\tlearn: 1.0000000\ttest: 1.0000000\tbest: 1.0000000 (0)\ttotal: 49.9ms\tremaining: 46.8ms\n",
      "64:\tlearn: 1.0000000\ttest: 1.0000000\tbest: 1.0000000 (0)\ttotal: 50.6ms\tremaining: 45.9ms\n",
      "65:\tlearn: 1.0000000\ttest: 1.0000000\tbest: 1.0000000 (0)\ttotal: 51.2ms\tremaining: 45ms\n",
      "66:\tlearn: 1.0000000\ttest: 1.0000000\tbest: 1.0000000 (0)\ttotal: 51.6ms\tremaining: 43.9ms\n",
      "67:\tlearn: 1.0000000\ttest: 1.0000000\tbest: 1.0000000 (0)\ttotal: 52.1ms\tremaining: 42.9ms\n",
      "68:\tlearn: 1.0000000\ttest: 1.0000000\tbest: 1.0000000 (0)\ttotal: 52.8ms\tremaining: 42.1ms\n",
      "69:\tlearn: 1.0000000\ttest: 1.0000000\tbest: 1.0000000 (0)\ttotal: 53.4ms\tremaining: 41.2ms\n",
      "70:\tlearn: 1.0000000\ttest: 1.0000000\tbest: 1.0000000 (0)\ttotal: 55.1ms\tremaining: 41.1ms\n",
      "71:\tlearn: 1.0000000\ttest: 1.0000000\tbest: 1.0000000 (0)\ttotal: 57.7ms\tremaining: 41.7ms\n",
      "72:\tlearn: 1.0000000\ttest: 1.0000000\tbest: 1.0000000 (0)\ttotal: 58.4ms\tremaining: 40.8ms\n",
      "73:\tlearn: 1.0000000\ttest: 1.0000000\tbest: 1.0000000 (0)\ttotal: 58.9ms\tremaining: 39.8ms\n",
      "74:\tlearn: 1.0000000\ttest: 1.0000000\tbest: 1.0000000 (0)\ttotal: 59.6ms\tremaining: 38.9ms\n",
      "75:\tlearn: 1.0000000\ttest: 1.0000000\tbest: 1.0000000 (0)\ttotal: 60.2ms\tremaining: 38ms\n",
      "76:\tlearn: 1.0000000\ttest: 1.0000000\tbest: 1.0000000 (0)\ttotal: 60.8ms\tremaining: 37.1ms\n",
      "77:\tlearn: 1.0000000\ttest: 1.0000000\tbest: 1.0000000 (0)\ttotal: 61.2ms\tremaining: 36.1ms\n",
      "78:\tlearn: 1.0000000\ttest: 1.0000000\tbest: 1.0000000 (0)\ttotal: 63.5ms\tremaining: 36.2ms\n",
      "79:\tlearn: 1.0000000\ttest: 1.0000000\tbest: 1.0000000 (0)\ttotal: 64.1ms\tremaining: 35.3ms\n",
      "80:\tlearn: 1.0000000\ttest: 1.0000000\tbest: 1.0000000 (0)\ttotal: 65.6ms\tremaining: 34.8ms\n",
      "81:\tlearn: 1.0000000\ttest: 1.0000000\tbest: 1.0000000 (0)\ttotal: 66.2ms\tremaining: 33.9ms\n",
      "82:\tlearn: 1.0000000\ttest: 1.0000000\tbest: 1.0000000 (0)\ttotal: 66.8ms\tremaining: 33ms\n",
      "83:\tlearn: 1.0000000\ttest: 1.0000000\tbest: 1.0000000 (0)\ttotal: 67.4ms\tremaining: 32.1ms\n",
      "84:\tlearn: 1.0000000\ttest: 1.0000000\tbest: 1.0000000 (0)\ttotal: 68.1ms\tremaining: 31.2ms\n",
      "85:\tlearn: 1.0000000\ttest: 1.0000000\tbest: 1.0000000 (0)\ttotal: 68.7ms\tremaining: 30.4ms\n",
      "86:\tlearn: 1.0000000\ttest: 1.0000000\tbest: 1.0000000 (0)\ttotal: 69.4ms\tremaining: 29.5ms\n",
      "87:\tlearn: 1.0000000\ttest: 1.0000000\tbest: 1.0000000 (0)\ttotal: 70ms\tremaining: 28.6ms\n",
      "88:\tlearn: 1.0000000\ttest: 1.0000000\tbest: 1.0000000 (0)\ttotal: 70.6ms\tremaining: 27.8ms\n",
      "89:\tlearn: 1.0000000\ttest: 1.0000000\tbest: 1.0000000 (0)\ttotal: 71.1ms\tremaining: 26.9ms\n",
      "90:\tlearn: 1.0000000\ttest: 1.0000000\tbest: 1.0000000 (0)\ttotal: 71.6ms\tremaining: 25.9ms\n",
      "91:\tlearn: 1.0000000\ttest: 1.0000000\tbest: 1.0000000 (0)\ttotal: 72ms\tremaining: 25ms\n",
      "92:\tlearn: 1.0000000\ttest: 1.0000000\tbest: 1.0000000 (0)\ttotal: 72.5ms\tremaining: 24.2ms\n",
      "93:\tlearn: 1.0000000\ttest: 1.0000000\tbest: 1.0000000 (0)\ttotal: 72.9ms\tremaining: 23.3ms\n",
      "94:\tlearn: 1.0000000\ttest: 1.0000000\tbest: 1.0000000 (0)\ttotal: 74.6ms\tremaining: 22.8ms\n",
      "95:\tlearn: 1.0000000\ttest: 1.0000000\tbest: 1.0000000 (0)\ttotal: 75ms\tremaining: 21.9ms\n",
      "96:\tlearn: 1.0000000\ttest: 1.0000000\tbest: 1.0000000 (0)\ttotal: 75.5ms\tremaining: 21ms\n",
      "97:\tlearn: 1.0000000\ttest: 1.0000000\tbest: 1.0000000 (0)\ttotal: 75.9ms\tremaining: 20.1ms\n",
      "98:\tlearn: 1.0000000\ttest: 1.0000000\tbest: 1.0000000 (0)\ttotal: 76.4ms\tremaining: 19.3ms\n",
      "99:\tlearn: 1.0000000\ttest: 1.0000000\tbest: 1.0000000 (0)\ttotal: 79.1ms\tremaining: 19ms\n",
      "100:\tlearn: 1.0000000\ttest: 1.0000000\tbest: 1.0000000 (0)\ttotal: 79.7ms\tremaining: 18.1ms\n",
      "101:\tlearn: 1.0000000\ttest: 1.0000000\tbest: 1.0000000 (0)\ttotal: 80.3ms\tremaining: 17.3ms\n",
      "102:\tlearn: 1.0000000\ttest: 1.0000000\tbest: 1.0000000 (0)\ttotal: 80.8ms\tremaining: 16.5ms\n",
      "103:\tlearn: 1.0000000\ttest: 1.0000000\tbest: 1.0000000 (0)\ttotal: 81.2ms\tremaining: 15.6ms\n",
      "104:\tlearn: 1.0000000\ttest: 1.0000000\tbest: 1.0000000 (0)\ttotal: 81.7ms\tremaining: 14.8ms\n",
      "105:\tlearn: 1.0000000\ttest: 1.0000000\tbest: 1.0000000 (0)\ttotal: 82.1ms\tremaining: 13.9ms\n",
      "106:\tlearn: 1.0000000\ttest: 1.0000000\tbest: 1.0000000 (0)\ttotal: 82.6ms\tremaining: 13.1ms\n",
      "107:\tlearn: 1.0000000\ttest: 1.0000000\tbest: 1.0000000 (0)\ttotal: 83ms\tremaining: 12.3ms\n",
      "108:\tlearn: 1.0000000\ttest: 1.0000000\tbest: 1.0000000 (0)\ttotal: 85.1ms\tremaining: 11.7ms\n",
      "109:\tlearn: 1.0000000\ttest: 1.0000000\tbest: 1.0000000 (0)\ttotal: 85.5ms\tremaining: 10.9ms\n",
      "110:\tlearn: 1.0000000\ttest: 1.0000000\tbest: 1.0000000 (0)\ttotal: 85.9ms\tremaining: 10.1ms\n",
      "111:\tlearn: 1.0000000\ttest: 1.0000000\tbest: 1.0000000 (0)\ttotal: 86.4ms\tremaining: 9.26ms\n",
      "112:\tlearn: 1.0000000\ttest: 1.0000000\tbest: 1.0000000 (0)\ttotal: 86.8ms\tremaining: 8.45ms\n",
      "113:\tlearn: 1.0000000\ttest: 1.0000000\tbest: 1.0000000 (0)\ttotal: 87.3ms\tremaining: 7.66ms\n",
      "114:\tlearn: 1.0000000\ttest: 1.0000000\tbest: 1.0000000 (0)\ttotal: 89.3ms\tremaining: 6.99ms\n",
      "115:\tlearn: 1.0000000\ttest: 1.0000000\tbest: 1.0000000 (0)\ttotal: 89.8ms\tremaining: 6.19ms\n",
      "116:\tlearn: 1.0000000\ttest: 1.0000000\tbest: 1.0000000 (0)\ttotal: 90.3ms\tremaining: 5.4ms\n",
      "117:\tlearn: 1.0000000\ttest: 1.0000000\tbest: 1.0000000 (0)\ttotal: 90.8ms\tremaining: 4.61ms\n",
      "118:\tlearn: 1.0000000\ttest: 1.0000000\tbest: 1.0000000 (0)\ttotal: 91.2ms\tremaining: 3.83ms\n",
      "119:\tlearn: 1.0000000\ttest: 1.0000000\tbest: 1.0000000 (0)\ttotal: 91.7ms\tremaining: 3.06ms\n",
      "120:\tlearn: 1.0000000\ttest: 1.0000000\tbest: 1.0000000 (0)\ttotal: 93.3ms\tremaining: 2.31ms\n",
      "121:\tlearn: 1.0000000\ttest: 1.0000000\tbest: 1.0000000 (0)\ttotal: 93.8ms\tremaining: 1.54ms\n",
      "122:\tlearn: 1.0000000\ttest: 1.0000000\tbest: 1.0000000 (0)\ttotal: 94.2ms\tremaining: 765us\n",
      "123:\tlearn: 1.0000000\ttest: 1.0000000\tbest: 1.0000000 (0)\ttotal: 94.7ms\tremaining: 0us\n",
      "\n",
      "bestTest = 1\n",
      "bestIteration = 0\n",
      "\n",
      "Training on fold [4/5]\n",
      "0:\tlearn: 0.9894737\ttest: 1.0000000\tbest: 1.0000000 (0)\ttotal: 713us\tremaining: 87.8ms\n",
      "1:\tlearn: 1.0000000\ttest: 1.0000000\tbest: 1.0000000 (0)\ttotal: 1.36ms\tremaining: 83ms\n",
      "2:\tlearn: 1.0000000\ttest: 1.0000000\tbest: 1.0000000 (0)\ttotal: 2.02ms\tremaining: 81.4ms\n",
      "3:\tlearn: 1.0000000\ttest: 1.0000000\tbest: 1.0000000 (0)\ttotal: 2.67ms\tremaining: 80.3ms\n",
      "4:\tlearn: 1.0000000\ttest: 1.0000000\tbest: 1.0000000 (0)\ttotal: 3.33ms\tremaining: 79.3ms\n",
      "5:\tlearn: 1.0000000\ttest: 1.0000000\tbest: 1.0000000 (0)\ttotal: 4.95ms\tremaining: 97.4ms\n",
      "6:\tlearn: 1.0000000\ttest: 1.0000000\tbest: 1.0000000 (0)\ttotal: 5.59ms\tremaining: 93.4ms\n",
      "7:\tlearn: 1.0000000\ttest: 1.0000000\tbest: 1.0000000 (0)\ttotal: 6.26ms\tremaining: 90.8ms\n",
      "8:\tlearn: 1.0000000\ttest: 1.0000000\tbest: 1.0000000 (0)\ttotal: 8.17ms\tremaining: 104ms\n",
      "9:\tlearn: 1.0000000\ttest: 1.0000000\tbest: 1.0000000 (0)\ttotal: 8.82ms\tremaining: 101ms\n",
      "10:\tlearn: 1.0000000\ttest: 1.0000000\tbest: 1.0000000 (0)\ttotal: 9.59ms\tremaining: 98.5ms\n",
      "11:\tlearn: 1.0000000\ttest: 1.0000000\tbest: 1.0000000 (0)\ttotal: 10.3ms\tremaining: 96ms\n",
      "12:\tlearn: 1.0000000\ttest: 1.0000000\tbest: 1.0000000 (0)\ttotal: 10.9ms\tremaining: 93.2ms\n",
      "13:\tlearn: 1.0000000\ttest: 1.0000000\tbest: 1.0000000 (0)\ttotal: 11.7ms\tremaining: 92.2ms\n",
      "14:\tlearn: 1.0000000\ttest: 1.0000000\tbest: 1.0000000 (0)\ttotal: 12.3ms\tremaining: 89.3ms\n",
      "15:\tlearn: 1.0000000\ttest: 1.0000000\tbest: 1.0000000 (0)\ttotal: 12.8ms\tremaining: 86.3ms\n",
      "16:\tlearn: 1.0000000\ttest: 1.0000000\tbest: 1.0000000 (0)\ttotal: 13.3ms\tremaining: 83.9ms\n",
      "17:\tlearn: 1.0000000\ttest: 1.0000000\tbest: 1.0000000 (0)\ttotal: 13.8ms\tremaining: 81.5ms\n",
      "18:\tlearn: 1.0000000\ttest: 1.0000000\tbest: 1.0000000 (0)\ttotal: 14.3ms\tremaining: 79.2ms\n",
      "19:\tlearn: 1.0000000\ttest: 1.0000000\tbest: 1.0000000 (0)\ttotal: 16.6ms\tremaining: 86.4ms\n",
      "20:\tlearn: 1.0000000\ttest: 1.0000000\tbest: 1.0000000 (0)\ttotal: 17.1ms\tremaining: 83.7ms\n",
      "21:\tlearn: 1.0000000\ttest: 1.0000000\tbest: 1.0000000 (0)\ttotal: 17.5ms\tremaining: 81.4ms\n",
      "22:\tlearn: 1.0000000\ttest: 1.0000000\tbest: 1.0000000 (0)\ttotal: 18ms\tremaining: 79.1ms\n",
      "23:\tlearn: 1.0000000\ttest: 1.0000000\tbest: 1.0000000 (0)\ttotal: 18.5ms\tremaining: 76.9ms\n",
      "24:\tlearn: 1.0000000\ttest: 1.0000000\tbest: 1.0000000 (0)\ttotal: 18.9ms\tremaining: 75ms\n",
      "25:\tlearn: 1.0000000\ttest: 1.0000000\tbest: 1.0000000 (0)\ttotal: 20.7ms\tremaining: 78ms\n",
      "26:\tlearn: 1.0000000\ttest: 1.0000000\tbest: 1.0000000 (0)\ttotal: 21.3ms\tremaining: 76.4ms\n",
      "27:\tlearn: 1.0000000\ttest: 1.0000000\tbest: 1.0000000 (0)\ttotal: 21.8ms\tremaining: 74.9ms\n",
      "28:\tlearn: 1.0000000\ttest: 1.0000000\tbest: 1.0000000 (0)\ttotal: 22.4ms\tremaining: 73.5ms\n",
      "29:\tlearn: 1.0000000\ttest: 1.0000000\tbest: 1.0000000 (0)\ttotal: 23ms\tremaining: 72ms\n",
      "30:\tlearn: 1.0000000\ttest: 1.0000000\tbest: 1.0000000 (0)\ttotal: 23.6ms\tremaining: 70.7ms\n",
      "31:\tlearn: 1.0000000\ttest: 1.0000000\tbest: 1.0000000 (0)\ttotal: 24.2ms\tremaining: 69.5ms\n",
      "32:\tlearn: 1.0000000\ttest: 1.0000000\tbest: 1.0000000 (0)\ttotal: 24.8ms\tremaining: 68.3ms\n",
      "33:\tlearn: 1.0000000\ttest: 1.0000000\tbest: 1.0000000 (0)\ttotal: 25.3ms\tremaining: 67.1ms\n",
      "34:\tlearn: 1.0000000\ttest: 1.0000000\tbest: 1.0000000 (0)\ttotal: 25.9ms\tremaining: 66ms\n",
      "35:\tlearn: 1.0000000\ttest: 1.0000000\tbest: 1.0000000 (0)\ttotal: 26.5ms\tremaining: 64.9ms\n",
      "36:\tlearn: 1.0000000\ttest: 1.0000000\tbest: 1.0000000 (0)\ttotal: 27.1ms\tremaining: 63.7ms\n",
      "37:\tlearn: 1.0000000\ttest: 1.0000000\tbest: 1.0000000 (0)\ttotal: 27.7ms\tremaining: 62.7ms\n",
      "38:\tlearn: 1.0000000\ttest: 1.0000000\tbest: 1.0000000 (0)\ttotal: 28.3ms\tremaining: 61.6ms\n",
      "39:\tlearn: 1.0000000\ttest: 1.0000000\tbest: 1.0000000 (0)\ttotal: 28.9ms\tremaining: 60.6ms\n",
      "40:\tlearn: 1.0000000\ttest: 1.0000000\tbest: 1.0000000 (0)\ttotal: 29.4ms\tremaining: 59.6ms\n",
      "41:\tlearn: 1.0000000\ttest: 1.0000000\tbest: 1.0000000 (0)\ttotal: 30ms\tremaining: 58.6ms\n",
      "42:\tlearn: 1.0000000\ttest: 1.0000000\tbest: 1.0000000 (0)\ttotal: 30.6ms\tremaining: 57.6ms\n",
      "43:\tlearn: 1.0000000\ttest: 1.0000000\tbest: 1.0000000 (0)\ttotal: 31.1ms\tremaining: 56.6ms\n",
      "44:\tlearn: 1.0000000\ttest: 1.0000000\tbest: 1.0000000 (0)\ttotal: 31.7ms\tremaining: 55.7ms\n",
      "45:\tlearn: 1.0000000\ttest: 1.0000000\tbest: 1.0000000 (0)\ttotal: 32.4ms\tremaining: 54.9ms\n",
      "46:\tlearn: 1.0000000\ttest: 1.0000000\tbest: 1.0000000 (0)\ttotal: 33ms\tremaining: 54ms\n",
      "47:\tlearn: 1.0000000\ttest: 1.0000000\tbest: 1.0000000 (0)\ttotal: 33.6ms\tremaining: 53.1ms\n",
      "48:\tlearn: 1.0000000\ttest: 1.0000000\tbest: 1.0000000 (0)\ttotal: 34.1ms\tremaining: 52.3ms\n",
      "49:\tlearn: 1.0000000\ttest: 1.0000000\tbest: 1.0000000 (0)\ttotal: 34.7ms\tremaining: 51.4ms\n",
      "50:\tlearn: 1.0000000\ttest: 1.0000000\tbest: 1.0000000 (0)\ttotal: 35.3ms\tremaining: 50.5ms\n",
      "51:\tlearn: 1.0000000\ttest: 1.0000000\tbest: 1.0000000 (0)\ttotal: 35.9ms\tremaining: 49.7ms\n",
      "52:\tlearn: 1.0000000\ttest: 1.0000000\tbest: 1.0000000 (0)\ttotal: 36.5ms\tremaining: 48.9ms\n",
      "53:\tlearn: 1.0000000\ttest: 1.0000000\tbest: 1.0000000 (0)\ttotal: 37.1ms\tremaining: 48ms\n",
      "54:\tlearn: 1.0000000\ttest: 1.0000000\tbest: 1.0000000 (0)\ttotal: 37.6ms\tremaining: 47.2ms\n",
      "55:\tlearn: 1.0000000\ttest: 1.0000000\tbest: 1.0000000 (0)\ttotal: 38.2ms\tremaining: 46.4ms\n",
      "56:\tlearn: 1.0000000\ttest: 1.0000000\tbest: 1.0000000 (0)\ttotal: 38.8ms\tremaining: 45.6ms\n",
      "57:\tlearn: 1.0000000\ttest: 1.0000000\tbest: 1.0000000 (0)\ttotal: 39.7ms\tremaining: 45.2ms\n",
      "58:\tlearn: 1.0000000\ttest: 1.0000000\tbest: 1.0000000 (0)\ttotal: 40.3ms\tremaining: 44.4ms\n",
      "59:\tlearn: 1.0000000\ttest: 1.0000000\tbest: 1.0000000 (0)\ttotal: 40.9ms\tremaining: 43.6ms\n",
      "60:\tlearn: 1.0000000\ttest: 1.0000000\tbest: 1.0000000 (0)\ttotal: 41.4ms\tremaining: 42.8ms\n",
      "61:\tlearn: 1.0000000\ttest: 1.0000000\tbest: 1.0000000 (0)\ttotal: 42ms\tremaining: 42ms\n",
      "62:\tlearn: 1.0000000\ttest: 1.0000000\tbest: 1.0000000 (0)\ttotal: 42.6ms\tremaining: 41.3ms\n",
      "63:\tlearn: 1.0000000\ttest: 1.0000000\tbest: 1.0000000 (0)\ttotal: 43.2ms\tremaining: 40.5ms\n",
      "64:\tlearn: 1.0000000\ttest: 1.0000000\tbest: 1.0000000 (0)\ttotal: 43.8ms\tremaining: 39.7ms\n",
      "65:\tlearn: 1.0000000\ttest: 1.0000000\tbest: 1.0000000 (0)\ttotal: 44.9ms\tremaining: 39.4ms\n",
      "66:\tlearn: 1.0000000\ttest: 1.0000000\tbest: 1.0000000 (0)\ttotal: 46ms\tremaining: 39.2ms\n",
      "67:\tlearn: 1.0000000\ttest: 1.0000000\tbest: 1.0000000 (0)\ttotal: 46.8ms\tremaining: 38.6ms\n",
      "68:\tlearn: 1.0000000\ttest: 1.0000000\tbest: 1.0000000 (0)\ttotal: 47.4ms\tremaining: 37.8ms\n",
      "69:\tlearn: 1.0000000\ttest: 1.0000000\tbest: 1.0000000 (0)\ttotal: 48ms\tremaining: 37.1ms\n",
      "70:\tlearn: 1.0000000\ttest: 1.0000000\tbest: 1.0000000 (0)\ttotal: 48.6ms\tremaining: 36.3ms\n",
      "71:\tlearn: 1.0000000\ttest: 1.0000000\tbest: 1.0000000 (0)\ttotal: 49.2ms\tremaining: 35.5ms\n",
      "72:\tlearn: 1.0000000\ttest: 1.0000000\tbest: 1.0000000 (0)\ttotal: 49.8ms\tremaining: 34.8ms\n",
      "73:\tlearn: 1.0000000\ttest: 1.0000000\tbest: 1.0000000 (0)\ttotal: 50.4ms\tremaining: 34.1ms\n",
      "74:\tlearn: 1.0000000\ttest: 1.0000000\tbest: 1.0000000 (0)\ttotal: 51ms\tremaining: 33.3ms\n",
      "75:\tlearn: 1.0000000\ttest: 1.0000000\tbest: 1.0000000 (0)\ttotal: 51.6ms\tremaining: 32.6ms\n",
      "76:\tlearn: 1.0000000\ttest: 1.0000000\tbest: 1.0000000 (0)\ttotal: 52.1ms\tremaining: 31.8ms\n",
      "77:\tlearn: 1.0000000\ttest: 1.0000000\tbest: 1.0000000 (0)\ttotal: 52.7ms\tremaining: 31.1ms\n",
      "78:\tlearn: 1.0000000\ttest: 1.0000000\tbest: 1.0000000 (0)\ttotal: 53.3ms\tremaining: 30.3ms\n",
      "79:\tlearn: 1.0000000\ttest: 1.0000000\tbest: 1.0000000 (0)\ttotal: 53.8ms\tremaining: 29.6ms\n",
      "80:\tlearn: 1.0000000\ttest: 1.0000000\tbest: 1.0000000 (0)\ttotal: 54.5ms\tremaining: 28.9ms\n",
      "81:\tlearn: 1.0000000\ttest: 1.0000000\tbest: 1.0000000 (0)\ttotal: 55.1ms\tremaining: 28.2ms\n",
      "82:\tlearn: 1.0000000\ttest: 1.0000000\tbest: 1.0000000 (0)\ttotal: 55.6ms\tremaining: 27.5ms\n",
      "83:\tlearn: 1.0000000\ttest: 1.0000000\tbest: 1.0000000 (0)\ttotal: 56.8ms\tremaining: 27.1ms\n",
      "84:\tlearn: 1.0000000\ttest: 1.0000000\tbest: 1.0000000 (0)\ttotal: 60ms\tremaining: 27.5ms\n",
      "85:\tlearn: 1.0000000\ttest: 1.0000000\tbest: 1.0000000 (0)\ttotal: 60.6ms\tremaining: 26.8ms\n",
      "86:\tlearn: 1.0000000\ttest: 1.0000000\tbest: 1.0000000 (0)\ttotal: 61.2ms\tremaining: 26ms\n",
      "87:\tlearn: 1.0000000\ttest: 1.0000000\tbest: 1.0000000 (0)\ttotal: 61.8ms\tremaining: 25.3ms\n",
      "88:\tlearn: 1.0000000\ttest: 1.0000000\tbest: 1.0000000 (0)\ttotal: 62.4ms\tremaining: 24.5ms\n",
      "89:\tlearn: 1.0000000\ttest: 1.0000000\tbest: 1.0000000 (0)\ttotal: 63ms\tremaining: 23.8ms\n",
      "90:\tlearn: 1.0000000\ttest: 1.0000000\tbest: 1.0000000 (0)\ttotal: 63.5ms\tremaining: 23ms\n",
      "91:\tlearn: 1.0000000\ttest: 1.0000000\tbest: 1.0000000 (0)\ttotal: 64.1ms\tremaining: 22.3ms\n",
      "92:\tlearn: 1.0000000\ttest: 1.0000000\tbest: 1.0000000 (0)\ttotal: 64.7ms\tremaining: 21.6ms\n",
      "93:\tlearn: 1.0000000\ttest: 1.0000000\tbest: 1.0000000 (0)\ttotal: 65.3ms\tremaining: 20.8ms\n",
      "94:\tlearn: 1.0000000\ttest: 1.0000000\tbest: 1.0000000 (0)\ttotal: 65.9ms\tremaining: 20.1ms\n",
      "95:\tlearn: 1.0000000\ttest: 1.0000000\tbest: 1.0000000 (0)\ttotal: 66.5ms\tremaining: 19.4ms\n",
      "96:\tlearn: 1.0000000\ttest: 1.0000000\tbest: 1.0000000 (0)\ttotal: 67.1ms\tremaining: 18.7ms\n",
      "97:\tlearn: 1.0000000\ttest: 1.0000000\tbest: 1.0000000 (0)\ttotal: 67.7ms\tremaining: 18ms\n",
      "98:\tlearn: 1.0000000\ttest: 1.0000000\tbest: 1.0000000 (0)\ttotal: 68.3ms\tremaining: 17.2ms\n",
      "99:\tlearn: 1.0000000\ttest: 1.0000000\tbest: 1.0000000 (0)\ttotal: 68.8ms\tremaining: 16.5ms\n",
      "100:\tlearn: 1.0000000\ttest: 1.0000000\tbest: 1.0000000 (0)\ttotal: 69.4ms\tremaining: 15.8ms\n",
      "101:\tlearn: 1.0000000\ttest: 1.0000000\tbest: 1.0000000 (0)\ttotal: 70ms\tremaining: 15.1ms\n",
      "102:\tlearn: 1.0000000\ttest: 1.0000000\tbest: 1.0000000 (0)\ttotal: 70.6ms\tremaining: 14.4ms\n",
      "103:\tlearn: 1.0000000\ttest: 1.0000000\tbest: 1.0000000 (0)\ttotal: 71.2ms\tremaining: 13.7ms\n",
      "104:\tlearn: 1.0000000\ttest: 1.0000000\tbest: 1.0000000 (0)\ttotal: 71.8ms\tremaining: 13ms\n",
      "105:\tlearn: 1.0000000\ttest: 1.0000000\tbest: 1.0000000 (0)\ttotal: 72.4ms\tremaining: 12.3ms\n",
      "106:\tlearn: 1.0000000\ttest: 1.0000000\tbest: 1.0000000 (0)\ttotal: 73.4ms\tremaining: 11.7ms\n",
      "107:\tlearn: 1.0000000\ttest: 1.0000000\tbest: 1.0000000 (0)\ttotal: 74.2ms\tremaining: 11ms\n",
      "108:\tlearn: 1.0000000\ttest: 1.0000000\tbest: 1.0000000 (0)\ttotal: 74.8ms\tremaining: 10.3ms\n",
      "109:\tlearn: 1.0000000\ttest: 1.0000000\tbest: 1.0000000 (0)\ttotal: 75.5ms\tremaining: 9.61ms\n",
      "110:\tlearn: 1.0000000\ttest: 1.0000000\tbest: 1.0000000 (0)\ttotal: 76.1ms\tremaining: 8.92ms\n",
      "111:\tlearn: 1.0000000\ttest: 1.0000000\tbest: 1.0000000 (0)\ttotal: 76.8ms\tremaining: 8.22ms\n",
      "112:\tlearn: 1.0000000\ttest: 1.0000000\tbest: 1.0000000 (0)\ttotal: 77.4ms\tremaining: 7.54ms\n",
      "113:\tlearn: 1.0000000\ttest: 1.0000000\tbest: 1.0000000 (0)\ttotal: 78.1ms\tremaining: 6.85ms\n",
      "114:\tlearn: 1.0000000\ttest: 1.0000000\tbest: 1.0000000 (0)\ttotal: 78.6ms\tremaining: 6.15ms\n",
      "115:\tlearn: 1.0000000\ttest: 1.0000000\tbest: 1.0000000 (0)\ttotal: 79.3ms\tremaining: 5.47ms\n",
      "116:\tlearn: 1.0000000\ttest: 1.0000000\tbest: 1.0000000 (0)\ttotal: 81.2ms\tremaining: 4.86ms\n",
      "117:\tlearn: 1.0000000\ttest: 1.0000000\tbest: 1.0000000 (0)\ttotal: 81.9ms\tremaining: 4.16ms\n",
      "118:\tlearn: 1.0000000\ttest: 1.0000000\tbest: 1.0000000 (0)\ttotal: 82.5ms\tremaining: 3.46ms\n",
      "119:\tlearn: 1.0000000\ttest: 1.0000000\tbest: 1.0000000 (0)\ttotal: 85ms\tremaining: 2.83ms\n",
      "120:\tlearn: 1.0000000\ttest: 1.0000000\tbest: 1.0000000 (0)\ttotal: 85.7ms\tremaining: 2.12ms\n",
      "121:\tlearn: 1.0000000\ttest: 1.0000000\tbest: 1.0000000 (0)\ttotal: 86.9ms\tremaining: 1.43ms\n",
      "122:\tlearn: 1.0000000\ttest: 1.0000000\tbest: 1.0000000 (0)\ttotal: 87.5ms\tremaining: 711us\n",
      "123:\tlearn: 1.0000000\ttest: 1.0000000\tbest: 1.0000000 (0)\ttotal: 88.2ms\tremaining: 0us\n",
      "\n",
      "bestTest = 1\n",
      "bestIteration = 0\n",
      "\n"
     ]
    }
   ],
   "source": [
    "import joblib\n",
    "from ARISA_DSML.train import train_cv\n",
    "params = joblib.load(best_params_path)\n",
    "display(params)\n",
    "n_folds = 5\n",
    "cv_output_path = train_cv(X_train, y_train, params, n=n_folds)\n"
   ]
  },
  {
   "cell_type": "code",
   "execution_count": null,
   "metadata": {},
   "outputs": [
    {
     "data": {
      "application/vnd.plotly.v1+json": {
       "config": {
        "plotlyServerURL": "https://plot.ly"
       },
       "data": [
        {
         "line": {
          "color": "blue"
         },
         "mode": "lines",
         "name": "Mean F1 Score",
         "type": "scatter",
         "x": [
          0,
          1,
          2,
          3,
          4,
          5,
          6,
          7,
          8,
          9,
          10,
          11,
          12,
          13,
          14,
          15,
          16,
          17,
          18,
          19,
          20,
          21,
          22,
          23,
          24,
          25,
          26,
          27,
          28,
          29,
          30,
          31,
          32,
          33,
          34,
          35,
          36,
          37,
          38,
          39,
          40,
          41,
          42,
          43,
          44,
          45,
          46,
          47,
          48,
          49,
          50,
          51,
          52,
          53,
          54,
          55,
          56,
          57,
          58,
          59,
          60,
          61,
          62,
          63,
          64,
          65,
          66,
          67,
          68,
          69,
          70,
          71,
          72,
          73,
          74,
          75,
          76,
          77,
          78,
          79,
          80,
          81,
          82,
          83,
          84,
          85,
          86,
          87,
          88,
          89,
          90,
          91,
          92,
          93,
          94,
          95,
          96,
          97,
          98,
          99,
          100,
          101,
          102,
          103,
          104,
          105,
          106,
          107,
          108,
          109,
          110,
          111,
          112,
          113,
          114,
          115,
          116,
          117,
          118,
          119,
          120,
          121,
          122,
          123
         ],
         "y": [
          0.9132467532467532,
          0.9513043478260867,
          1,
          1,
          1,
          1,
          1,
          1,
          1,
          1,
          1,
          1,
          1,
          1,
          1,
          1,
          1,
          1,
          1,
          1,
          1,
          1,
          1,
          1,
          1,
          1,
          1,
          1,
          1,
          1,
          1,
          1,
          1,
          1,
          1,
          1,
          1,
          1,
          1,
          1,
          1,
          1,
          1,
          1,
          1,
          1,
          1,
          1,
          1,
          1,
          1,
          1,
          1,
          1,
          1,
          1,
          1,
          1,
          1,
          1,
          1,
          1,
          1,
          1,
          1,
          1,
          1,
          1,
          1,
          1,
          1,
          1,
          1,
          1,
          1,
          1,
          1,
          1,
          1,
          1,
          1,
          1,
          1,
          1,
          1,
          1,
          1,
          1,
          1,
          1,
          1,
          1,
          1,
          1,
          1,
          1,
          1,
          1,
          1,
          1,
          1,
          1,
          1,
          1,
          1,
          1,
          1,
          1,
          1,
          1,
          1,
          1,
          1,
          1,
          1,
          1,
          1,
          1,
          1,
          1,
          1,
          1,
          1,
          1
         ]
        },
        {
         "fill": "toself",
         "fillcolor": "rgba(0, 0, 255, 0.2)",
         "line": {
          "color": "rgba(255, 255, 255, 0)"
         },
         "showlegend": false,
         "type": "scatter",
         "x": [
          0,
          1,
          2,
          3,
          4,
          5,
          6,
          7,
          8,
          9,
          10,
          11,
          12,
          13,
          14,
          15,
          16,
          17,
          18,
          19,
          20,
          21,
          22,
          23,
          24,
          25,
          26,
          27,
          28,
          29,
          30,
          31,
          32,
          33,
          34,
          35,
          36,
          37,
          38,
          39,
          40,
          41,
          42,
          43,
          44,
          45,
          46,
          47,
          48,
          49,
          50,
          51,
          52,
          53,
          54,
          55,
          56,
          57,
          58,
          59,
          60,
          61,
          62,
          63,
          64,
          65,
          66,
          67,
          68,
          69,
          70,
          71,
          72,
          73,
          74,
          75,
          76,
          77,
          78,
          79,
          80,
          81,
          82,
          83,
          84,
          85,
          86,
          87,
          88,
          89,
          90,
          91,
          92,
          93,
          94,
          95,
          96,
          97,
          98,
          99,
          100,
          101,
          102,
          103,
          104,
          105,
          106,
          107,
          108,
          109,
          110,
          111,
          112,
          113,
          114,
          115,
          116,
          117,
          118,
          119,
          120,
          121,
          122,
          123,
          123,
          122,
          121,
          120,
          119,
          118,
          117,
          116,
          115,
          114,
          113,
          112,
          111,
          110,
          109,
          108,
          107,
          106,
          105,
          104,
          103,
          102,
          101,
          100,
          99,
          98,
          97,
          96,
          95,
          94,
          93,
          92,
          91,
          90,
          89,
          88,
          87,
          86,
          85,
          84,
          83,
          82,
          81,
          80,
          79,
          78,
          77,
          76,
          75,
          74,
          73,
          72,
          71,
          70,
          69,
          68,
          67,
          66,
          65,
          64,
          63,
          62,
          61,
          60,
          59,
          58,
          57,
          56,
          55,
          54,
          53,
          52,
          51,
          50,
          49,
          48,
          47,
          46,
          45,
          44,
          43,
          42,
          41,
          40,
          39,
          38,
          37,
          36,
          35,
          34,
          33,
          32,
          31,
          30,
          29,
          28,
          27,
          26,
          25,
          24,
          23,
          22,
          21,
          20,
          19,
          18,
          17,
          16,
          15,
          14,
          13,
          12,
          11,
          10,
          9,
          8,
          7,
          6,
          5,
          4,
          3,
          2,
          1,
          0
         ],
         "y": [
          1.0013404490542213,
          1.0379559872581083,
          1,
          1,
          1,
          1,
          1,
          1,
          1,
          1,
          1,
          1,
          1,
          1,
          1,
          1,
          1,
          1,
          1,
          1,
          1,
          1,
          1,
          1,
          1,
          1,
          1,
          1,
          1,
          1,
          1,
          1,
          1,
          1,
          1,
          1,
          1,
          1,
          1,
          1,
          1,
          1,
          1,
          1,
          1,
          1,
          1,
          1,
          1,
          1,
          1,
          1,
          1,
          1,
          1,
          1,
          1,
          1,
          1,
          1,
          1,
          1,
          1,
          1,
          1,
          1,
          1,
          1,
          1,
          1,
          1,
          1,
          1,
          1,
          1,
          1,
          1,
          1,
          1,
          1,
          1,
          1,
          1,
          1,
          1,
          1,
          1,
          1,
          1,
          1,
          1,
          1,
          1,
          1,
          1,
          1,
          1,
          1,
          1,
          1,
          1,
          1,
          1,
          1,
          1,
          1,
          1,
          1,
          1,
          1,
          1,
          1,
          1,
          1,
          1,
          1,
          1,
          1,
          1,
          1,
          1,
          1,
          1,
          1,
          0.8251530574392852,
          0.8646527083940652,
          1,
          1,
          1,
          1,
          1,
          1,
          1,
          1,
          1,
          1,
          1,
          1,
          1,
          1,
          1,
          1,
          1,
          1,
          1,
          1,
          1,
          1,
          1,
          1,
          1,
          1,
          1,
          1,
          1,
          1,
          1,
          1,
          1,
          1,
          1,
          1,
          1,
          1,
          1,
          1,
          1,
          1,
          1,
          1,
          1,
          1,
          1,
          1,
          1,
          1,
          1,
          1,
          1,
          1,
          1,
          1,
          1,
          1,
          1,
          1,
          1,
          1,
          1,
          1,
          1,
          1,
          1,
          1,
          1,
          1,
          1,
          1,
          1,
          1,
          1,
          1,
          1,
          1,
          1,
          1,
          1,
          1,
          1,
          1,
          1,
          1,
          1,
          1,
          1,
          1,
          1,
          1,
          1,
          1,
          1,
          1,
          1,
          1,
          1,
          1,
          1,
          1,
          1,
          1,
          1,
          1,
          1,
          1,
          1,
          1,
          1,
          1,
          1,
          1,
          1,
          1,
          1,
          1,
          1,
          1,
          1,
          1
         ]
        }
       ],
       "layout": {
        "template": {
         "data": {
          "bar": [
           {
            "error_x": {
             "color": "#2a3f5f"
            },
            "error_y": {
             "color": "#2a3f5f"
            },
            "marker": {
             "line": {
              "color": "white",
              "width": 0.5
             },
             "pattern": {
              "fillmode": "overlay",
              "size": 10,
              "solidity": 0.2
             }
            },
            "type": "bar"
           }
          ],
          "barpolar": [
           {
            "marker": {
             "line": {
              "color": "white",
              "width": 0.5
             },
             "pattern": {
              "fillmode": "overlay",
              "size": 10,
              "solidity": 0.2
             }
            },
            "type": "barpolar"
           }
          ],
          "carpet": [
           {
            "aaxis": {
             "endlinecolor": "#2a3f5f",
             "gridcolor": "#C8D4E3",
             "linecolor": "#C8D4E3",
             "minorgridcolor": "#C8D4E3",
             "startlinecolor": "#2a3f5f"
            },
            "baxis": {
             "endlinecolor": "#2a3f5f",
             "gridcolor": "#C8D4E3",
             "linecolor": "#C8D4E3",
             "minorgridcolor": "#C8D4E3",
             "startlinecolor": "#2a3f5f"
            },
            "type": "carpet"
           }
          ],
          "choropleth": [
           {
            "colorbar": {
             "outlinewidth": 0,
             "ticks": ""
            },
            "type": "choropleth"
           }
          ],
          "contour": [
           {
            "colorbar": {
             "outlinewidth": 0,
             "ticks": ""
            },
            "colorscale": [
             [
              0,
              "#0d0887"
             ],
             [
              0.1111111111111111,
              "#46039f"
             ],
             [
              0.2222222222222222,
              "#7201a8"
             ],
             [
              0.3333333333333333,
              "#9c179e"
             ],
             [
              0.4444444444444444,
              "#bd3786"
             ],
             [
              0.5555555555555556,
              "#d8576b"
             ],
             [
              0.6666666666666666,
              "#ed7953"
             ],
             [
              0.7777777777777778,
              "#fb9f3a"
             ],
             [
              0.8888888888888888,
              "#fdca26"
             ],
             [
              1,
              "#f0f921"
             ]
            ],
            "type": "contour"
           }
          ],
          "contourcarpet": [
           {
            "colorbar": {
             "outlinewidth": 0,
             "ticks": ""
            },
            "type": "contourcarpet"
           }
          ],
          "heatmap": [
           {
            "colorbar": {
             "outlinewidth": 0,
             "ticks": ""
            },
            "colorscale": [
             [
              0,
              "#0d0887"
             ],
             [
              0.1111111111111111,
              "#46039f"
             ],
             [
              0.2222222222222222,
              "#7201a8"
             ],
             [
              0.3333333333333333,
              "#9c179e"
             ],
             [
              0.4444444444444444,
              "#bd3786"
             ],
             [
              0.5555555555555556,
              "#d8576b"
             ],
             [
              0.6666666666666666,
              "#ed7953"
             ],
             [
              0.7777777777777778,
              "#fb9f3a"
             ],
             [
              0.8888888888888888,
              "#fdca26"
             ],
             [
              1,
              "#f0f921"
             ]
            ],
            "type": "heatmap"
           }
          ],
          "heatmapgl": [
           {
            "colorbar": {
             "outlinewidth": 0,
             "ticks": ""
            },
            "colorscale": [
             [
              0,
              "#0d0887"
             ],
             [
              0.1111111111111111,
              "#46039f"
             ],
             [
              0.2222222222222222,
              "#7201a8"
             ],
             [
              0.3333333333333333,
              "#9c179e"
             ],
             [
              0.4444444444444444,
              "#bd3786"
             ],
             [
              0.5555555555555556,
              "#d8576b"
             ],
             [
              0.6666666666666666,
              "#ed7953"
             ],
             [
              0.7777777777777778,
              "#fb9f3a"
             ],
             [
              0.8888888888888888,
              "#fdca26"
             ],
             [
              1,
              "#f0f921"
             ]
            ],
            "type": "heatmapgl"
           }
          ],
          "histogram": [
           {
            "marker": {
             "pattern": {
              "fillmode": "overlay",
              "size": 10,
              "solidity": 0.2
             }
            },
            "type": "histogram"
           }
          ],
          "histogram2d": [
           {
            "colorbar": {
             "outlinewidth": 0,
             "ticks": ""
            },
            "colorscale": [
             [
              0,
              "#0d0887"
             ],
             [
              0.1111111111111111,
              "#46039f"
             ],
             [
              0.2222222222222222,
              "#7201a8"
             ],
             [
              0.3333333333333333,
              "#9c179e"
             ],
             [
              0.4444444444444444,
              "#bd3786"
             ],
             [
              0.5555555555555556,
              "#d8576b"
             ],
             [
              0.6666666666666666,
              "#ed7953"
             ],
             [
              0.7777777777777778,
              "#fb9f3a"
             ],
             [
              0.8888888888888888,
              "#fdca26"
             ],
             [
              1,
              "#f0f921"
             ]
            ],
            "type": "histogram2d"
           }
          ],
          "histogram2dcontour": [
           {
            "colorbar": {
             "outlinewidth": 0,
             "ticks": ""
            },
            "colorscale": [
             [
              0,
              "#0d0887"
             ],
             [
              0.1111111111111111,
              "#46039f"
             ],
             [
              0.2222222222222222,
              "#7201a8"
             ],
             [
              0.3333333333333333,
              "#9c179e"
             ],
             [
              0.4444444444444444,
              "#bd3786"
             ],
             [
              0.5555555555555556,
              "#d8576b"
             ],
             [
              0.6666666666666666,
              "#ed7953"
             ],
             [
              0.7777777777777778,
              "#fb9f3a"
             ],
             [
              0.8888888888888888,
              "#fdca26"
             ],
             [
              1,
              "#f0f921"
             ]
            ],
            "type": "histogram2dcontour"
           }
          ],
          "mesh3d": [
           {
            "colorbar": {
             "outlinewidth": 0,
             "ticks": ""
            },
            "type": "mesh3d"
           }
          ],
          "parcoords": [
           {
            "line": {
             "colorbar": {
              "outlinewidth": 0,
              "ticks": ""
             }
            },
            "type": "parcoords"
           }
          ],
          "pie": [
           {
            "automargin": true,
            "type": "pie"
           }
          ],
          "scatter": [
           {
            "fillpattern": {
             "fillmode": "overlay",
             "size": 10,
             "solidity": 0.2
            },
            "type": "scatter"
           }
          ],
          "scatter3d": [
           {
            "line": {
             "colorbar": {
              "outlinewidth": 0,
              "ticks": ""
             }
            },
            "marker": {
             "colorbar": {
              "outlinewidth": 0,
              "ticks": ""
             }
            },
            "type": "scatter3d"
           }
          ],
          "scattercarpet": [
           {
            "marker": {
             "colorbar": {
              "outlinewidth": 0,
              "ticks": ""
             }
            },
            "type": "scattercarpet"
           }
          ],
          "scattergeo": [
           {
            "marker": {
             "colorbar": {
              "outlinewidth": 0,
              "ticks": ""
             }
            },
            "type": "scattergeo"
           }
          ],
          "scattergl": [
           {
            "marker": {
             "colorbar": {
              "outlinewidth": 0,
              "ticks": ""
             }
            },
            "type": "scattergl"
           }
          ],
          "scattermapbox": [
           {
            "marker": {
             "colorbar": {
              "outlinewidth": 0,
              "ticks": ""
             }
            },
            "type": "scattermapbox"
           }
          ],
          "scatterpolar": [
           {
            "marker": {
             "colorbar": {
              "outlinewidth": 0,
              "ticks": ""
             }
            },
            "type": "scatterpolar"
           }
          ],
          "scatterpolargl": [
           {
            "marker": {
             "colorbar": {
              "outlinewidth": 0,
              "ticks": ""
             }
            },
            "type": "scatterpolargl"
           }
          ],
          "scatterternary": [
           {
            "marker": {
             "colorbar": {
              "outlinewidth": 0,
              "ticks": ""
             }
            },
            "type": "scatterternary"
           }
          ],
          "surface": [
           {
            "colorbar": {
             "outlinewidth": 0,
             "ticks": ""
            },
            "colorscale": [
             [
              0,
              "#0d0887"
             ],
             [
              0.1111111111111111,
              "#46039f"
             ],
             [
              0.2222222222222222,
              "#7201a8"
             ],
             [
              0.3333333333333333,
              "#9c179e"
             ],
             [
              0.4444444444444444,
              "#bd3786"
             ],
             [
              0.5555555555555556,
              "#d8576b"
             ],
             [
              0.6666666666666666,
              "#ed7953"
             ],
             [
              0.7777777777777778,
              "#fb9f3a"
             ],
             [
              0.8888888888888888,
              "#fdca26"
             ],
             [
              1,
              "#f0f921"
             ]
            ],
            "type": "surface"
           }
          ],
          "table": [
           {
            "cells": {
             "fill": {
              "color": "#EBF0F8"
             },
             "line": {
              "color": "white"
             }
            },
            "header": {
             "fill": {
              "color": "#C8D4E3"
             },
             "line": {
              "color": "white"
             }
            },
            "type": "table"
           }
          ]
         },
         "layout": {
          "annotationdefaults": {
           "arrowcolor": "#2a3f5f",
           "arrowhead": 0,
           "arrowwidth": 1
          },
          "autotypenumbers": "strict",
          "coloraxis": {
           "colorbar": {
            "outlinewidth": 0,
            "ticks": ""
           }
          },
          "colorscale": {
           "diverging": [
            [
             0,
             "#8e0152"
            ],
            [
             0.1,
             "#c51b7d"
            ],
            [
             0.2,
             "#de77ae"
            ],
            [
             0.3,
             "#f1b6da"
            ],
            [
             0.4,
             "#fde0ef"
            ],
            [
             0.5,
             "#f7f7f7"
            ],
            [
             0.6,
             "#e6f5d0"
            ],
            [
             0.7,
             "#b8e186"
            ],
            [
             0.8,
             "#7fbc41"
            ],
            [
             0.9,
             "#4d9221"
            ],
            [
             1,
             "#276419"
            ]
           ],
           "sequential": [
            [
             0,
             "#0d0887"
            ],
            [
             0.1111111111111111,
             "#46039f"
            ],
            [
             0.2222222222222222,
             "#7201a8"
            ],
            [
             0.3333333333333333,
             "#9c179e"
            ],
            [
             0.4444444444444444,
             "#bd3786"
            ],
            [
             0.5555555555555556,
             "#d8576b"
            ],
            [
             0.6666666666666666,
             "#ed7953"
            ],
            [
             0.7777777777777778,
             "#fb9f3a"
            ],
            [
             0.8888888888888888,
             "#fdca26"
            ],
            [
             1,
             "#f0f921"
            ]
           ],
           "sequentialminus": [
            [
             0,
             "#0d0887"
            ],
            [
             0.1111111111111111,
             "#46039f"
            ],
            [
             0.2222222222222222,
             "#7201a8"
            ],
            [
             0.3333333333333333,
             "#9c179e"
            ],
            [
             0.4444444444444444,
             "#bd3786"
            ],
            [
             0.5555555555555556,
             "#d8576b"
            ],
            [
             0.6666666666666666,
             "#ed7953"
            ],
            [
             0.7777777777777778,
             "#fb9f3a"
            ],
            [
             0.8888888888888888,
             "#fdca26"
            ],
            [
             1,
             "#f0f921"
            ]
           ]
          },
          "colorway": [
           "#636efa",
           "#EF553B",
           "#00cc96",
           "#ab63fa",
           "#FFA15A",
           "#19d3f3",
           "#FF6692",
           "#B6E880",
           "#FF97FF",
           "#FECB52"
          ],
          "font": {
           "color": "#2a3f5f"
          },
          "geo": {
           "bgcolor": "white",
           "lakecolor": "white",
           "landcolor": "white",
           "showlakes": true,
           "showland": true,
           "subunitcolor": "#C8D4E3"
          },
          "hoverlabel": {
           "align": "left"
          },
          "hovermode": "closest",
          "mapbox": {
           "style": "light"
          },
          "paper_bgcolor": "white",
          "plot_bgcolor": "white",
          "polar": {
           "angularaxis": {
            "gridcolor": "#EBF0F8",
            "linecolor": "#EBF0F8",
            "ticks": ""
           },
           "bgcolor": "white",
           "radialaxis": {
            "gridcolor": "#EBF0F8",
            "linecolor": "#EBF0F8",
            "ticks": ""
           }
          },
          "scene": {
           "xaxis": {
            "backgroundcolor": "white",
            "gridcolor": "#DFE8F3",
            "gridwidth": 2,
            "linecolor": "#EBF0F8",
            "showbackground": true,
            "ticks": "",
            "zerolinecolor": "#EBF0F8"
           },
           "yaxis": {
            "backgroundcolor": "white",
            "gridcolor": "#DFE8F3",
            "gridwidth": 2,
            "linecolor": "#EBF0F8",
            "showbackground": true,
            "ticks": "",
            "zerolinecolor": "#EBF0F8"
           },
           "zaxis": {
            "backgroundcolor": "white",
            "gridcolor": "#DFE8F3",
            "gridwidth": 2,
            "linecolor": "#EBF0F8",
            "showbackground": true,
            "ticks": "",
            "zerolinecolor": "#EBF0F8"
           }
          },
          "shapedefaults": {
           "line": {
            "color": "#2a3f5f"
           }
          },
          "ternary": {
           "aaxis": {
            "gridcolor": "#DFE8F3",
            "linecolor": "#A2B1C6",
            "ticks": ""
           },
           "baxis": {
            "gridcolor": "#DFE8F3",
            "linecolor": "#A2B1C6",
            "ticks": ""
           },
           "bgcolor": "white",
           "caxis": {
            "gridcolor": "#DFE8F3",
            "linecolor": "#A2B1C6",
            "ticks": ""
           }
          },
          "title": {
           "x": 0.05
          },
          "xaxis": {
           "automargin": true,
           "gridcolor": "#EBF0F8",
           "linecolor": "#EBF0F8",
           "ticks": "",
           "title": {
            "standoff": 15
           },
           "zerolinecolor": "#EBF0F8",
           "zerolinewidth": 2
          },
          "yaxis": {
           "automargin": true,
           "gridcolor": "#EBF0F8",
           "linecolor": "#EBF0F8",
           "ticks": "",
           "title": {
            "standoff": 15
           },
           "zerolinecolor": "#EBF0F8",
           "zerolinewidth": 2
          }
         }
        },
        "title": {
         "text": "Cross-Validation (N=5) Mean F1 score with Error Bands"
        },
        "xaxis": {
         "title": {
          "text": "Training Steps"
         }
        },
        "yaxis": {
         "range": [
          0.5,
          1
         ],
         "title": {
          "text": "Performance Score"
         }
        }
       }
      },
      "text/html": [
       "<div>                            <div id=\"7330e998-4457-4e12-bba5-801e3570c0d8\" class=\"plotly-graph-div\" style=\"height:525px; width:100%;\"></div>            <script type=\"text/javascript\">                require([\"plotly\"], function(Plotly) {                    window.PLOTLYENV=window.PLOTLYENV || {};                                    if (document.getElementById(\"7330e998-4457-4e12-bba5-801e3570c0d8\")) {                    Plotly.newPlot(                        \"7330e998-4457-4e12-bba5-801e3570c0d8\",                        [{\"line\":{\"color\":\"blue\"},\"mode\":\"lines\",\"name\":\"Mean F1 Score\",\"x\":[0,1,2,3,4,5,6,7,8,9,10,11,12,13,14,15,16,17,18,19,20,21,22,23,24,25,26,27,28,29,30,31,32,33,34,35,36,37,38,39,40,41,42,43,44,45,46,47,48,49,50,51,52,53,54,55,56,57,58,59,60,61,62,63,64,65,66,67,68,69,70,71,72,73,74,75,76,77,78,79,80,81,82,83,84,85,86,87,88,89,90,91,92,93,94,95,96,97,98,99,100,101,102,103,104,105,106,107,108,109,110,111,112,113,114,115,116,117,118,119,120,121,122,123],\"y\":[0.9132467532467532,0.9513043478260867,1.0,1.0,1.0,1.0,1.0,1.0,1.0,1.0,1.0,1.0,1.0,1.0,1.0,1.0,1.0,1.0,1.0,1.0,1.0,1.0,1.0,1.0,1.0,1.0,1.0,1.0,1.0,1.0,1.0,1.0,1.0,1.0,1.0,1.0,1.0,1.0,1.0,1.0,1.0,1.0,1.0,1.0,1.0,1.0,1.0,1.0,1.0,1.0,1.0,1.0,1.0,1.0,1.0,1.0,1.0,1.0,1.0,1.0,1.0,1.0,1.0,1.0,1.0,1.0,1.0,1.0,1.0,1.0,1.0,1.0,1.0,1.0,1.0,1.0,1.0,1.0,1.0,1.0,1.0,1.0,1.0,1.0,1.0,1.0,1.0,1.0,1.0,1.0,1.0,1.0,1.0,1.0,1.0,1.0,1.0,1.0,1.0,1.0,1.0,1.0,1.0,1.0,1.0,1.0,1.0,1.0,1.0,1.0,1.0,1.0,1.0,1.0,1.0,1.0,1.0,1.0,1.0,1.0,1.0,1.0,1.0,1.0],\"type\":\"scatter\"},{\"fill\":\"toself\",\"fillcolor\":\"rgba(0, 0, 255, 0.2)\",\"line\":{\"color\":\"rgba(255, 255, 255, 0)\"},\"showlegend\":false,\"x\":[0,1,2,3,4,5,6,7,8,9,10,11,12,13,14,15,16,17,18,19,20,21,22,23,24,25,26,27,28,29,30,31,32,33,34,35,36,37,38,39,40,41,42,43,44,45,46,47,48,49,50,51,52,53,54,55,56,57,58,59,60,61,62,63,64,65,66,67,68,69,70,71,72,73,74,75,76,77,78,79,80,81,82,83,84,85,86,87,88,89,90,91,92,93,94,95,96,97,98,99,100,101,102,103,104,105,106,107,108,109,110,111,112,113,114,115,116,117,118,119,120,121,122,123,123,122,121,120,119,118,117,116,115,114,113,112,111,110,109,108,107,106,105,104,103,102,101,100,99,98,97,96,95,94,93,92,91,90,89,88,87,86,85,84,83,82,81,80,79,78,77,76,75,74,73,72,71,70,69,68,67,66,65,64,63,62,61,60,59,58,57,56,55,54,53,52,51,50,49,48,47,46,45,44,43,42,41,40,39,38,37,36,35,34,33,32,31,30,29,28,27,26,25,24,23,22,21,20,19,18,17,16,15,14,13,12,11,10,9,8,7,6,5,4,3,2,1,0],\"y\":[1.0013404490542213,1.0379559872581083,1.0,1.0,1.0,1.0,1.0,1.0,1.0,1.0,1.0,1.0,1.0,1.0,1.0,1.0,1.0,1.0,1.0,1.0,1.0,1.0,1.0,1.0,1.0,1.0,1.0,1.0,1.0,1.0,1.0,1.0,1.0,1.0,1.0,1.0,1.0,1.0,1.0,1.0,1.0,1.0,1.0,1.0,1.0,1.0,1.0,1.0,1.0,1.0,1.0,1.0,1.0,1.0,1.0,1.0,1.0,1.0,1.0,1.0,1.0,1.0,1.0,1.0,1.0,1.0,1.0,1.0,1.0,1.0,1.0,1.0,1.0,1.0,1.0,1.0,1.0,1.0,1.0,1.0,1.0,1.0,1.0,1.0,1.0,1.0,1.0,1.0,1.0,1.0,1.0,1.0,1.0,1.0,1.0,1.0,1.0,1.0,1.0,1.0,1.0,1.0,1.0,1.0,1.0,1.0,1.0,1.0,1.0,1.0,1.0,1.0,1.0,1.0,1.0,1.0,1.0,1.0,1.0,1.0,1.0,1.0,1.0,1.0,0.8251530574392852,0.8646527083940652,1.0,1.0,1.0,1.0,1.0,1.0,1.0,1.0,1.0,1.0,1.0,1.0,1.0,1.0,1.0,1.0,1.0,1.0,1.0,1.0,1.0,1.0,1.0,1.0,1.0,1.0,1.0,1.0,1.0,1.0,1.0,1.0,1.0,1.0,1.0,1.0,1.0,1.0,1.0,1.0,1.0,1.0,1.0,1.0,1.0,1.0,1.0,1.0,1.0,1.0,1.0,1.0,1.0,1.0,1.0,1.0,1.0,1.0,1.0,1.0,1.0,1.0,1.0,1.0,1.0,1.0,1.0,1.0,1.0,1.0,1.0,1.0,1.0,1.0,1.0,1.0,1.0,1.0,1.0,1.0,1.0,1.0,1.0,1.0,1.0,1.0,1.0,1.0,1.0,1.0,1.0,1.0,1.0,1.0,1.0,1.0,1.0,1.0,1.0,1.0,1.0,1.0,1.0,1.0,1.0,1.0,1.0,1.0,1.0,1.0,1.0,1.0,1.0,1.0,1.0,1.0,1.0,1.0,1.0,1.0,1.0,1.0],\"type\":\"scatter\"}],                        {\"template\":{\"data\":{\"barpolar\":[{\"marker\":{\"line\":{\"color\":\"white\",\"width\":0.5},\"pattern\":{\"fillmode\":\"overlay\",\"size\":10,\"solidity\":0.2}},\"type\":\"barpolar\"}],\"bar\":[{\"error_x\":{\"color\":\"#2a3f5f\"},\"error_y\":{\"color\":\"#2a3f5f\"},\"marker\":{\"line\":{\"color\":\"white\",\"width\":0.5},\"pattern\":{\"fillmode\":\"overlay\",\"size\":10,\"solidity\":0.2}},\"type\":\"bar\"}],\"carpet\":[{\"aaxis\":{\"endlinecolor\":\"#2a3f5f\",\"gridcolor\":\"#C8D4E3\",\"linecolor\":\"#C8D4E3\",\"minorgridcolor\":\"#C8D4E3\",\"startlinecolor\":\"#2a3f5f\"},\"baxis\":{\"endlinecolor\":\"#2a3f5f\",\"gridcolor\":\"#C8D4E3\",\"linecolor\":\"#C8D4E3\",\"minorgridcolor\":\"#C8D4E3\",\"startlinecolor\":\"#2a3f5f\"},\"type\":\"carpet\"}],\"choropleth\":[{\"colorbar\":{\"outlinewidth\":0,\"ticks\":\"\"},\"type\":\"choropleth\"}],\"contourcarpet\":[{\"colorbar\":{\"outlinewidth\":0,\"ticks\":\"\"},\"type\":\"contourcarpet\"}],\"contour\":[{\"colorbar\":{\"outlinewidth\":0,\"ticks\":\"\"},\"colorscale\":[[0.0,\"#0d0887\"],[0.1111111111111111,\"#46039f\"],[0.2222222222222222,\"#7201a8\"],[0.3333333333333333,\"#9c179e\"],[0.4444444444444444,\"#bd3786\"],[0.5555555555555556,\"#d8576b\"],[0.6666666666666666,\"#ed7953\"],[0.7777777777777778,\"#fb9f3a\"],[0.8888888888888888,\"#fdca26\"],[1.0,\"#f0f921\"]],\"type\":\"contour\"}],\"heatmapgl\":[{\"colorbar\":{\"outlinewidth\":0,\"ticks\":\"\"},\"colorscale\":[[0.0,\"#0d0887\"],[0.1111111111111111,\"#46039f\"],[0.2222222222222222,\"#7201a8\"],[0.3333333333333333,\"#9c179e\"],[0.4444444444444444,\"#bd3786\"],[0.5555555555555556,\"#d8576b\"],[0.6666666666666666,\"#ed7953\"],[0.7777777777777778,\"#fb9f3a\"],[0.8888888888888888,\"#fdca26\"],[1.0,\"#f0f921\"]],\"type\":\"heatmapgl\"}],\"heatmap\":[{\"colorbar\":{\"outlinewidth\":0,\"ticks\":\"\"},\"colorscale\":[[0.0,\"#0d0887\"],[0.1111111111111111,\"#46039f\"],[0.2222222222222222,\"#7201a8\"],[0.3333333333333333,\"#9c179e\"],[0.4444444444444444,\"#bd3786\"],[0.5555555555555556,\"#d8576b\"],[0.6666666666666666,\"#ed7953\"],[0.7777777777777778,\"#fb9f3a\"],[0.8888888888888888,\"#fdca26\"],[1.0,\"#f0f921\"]],\"type\":\"heatmap\"}],\"histogram2dcontour\":[{\"colorbar\":{\"outlinewidth\":0,\"ticks\":\"\"},\"colorscale\":[[0.0,\"#0d0887\"],[0.1111111111111111,\"#46039f\"],[0.2222222222222222,\"#7201a8\"],[0.3333333333333333,\"#9c179e\"],[0.4444444444444444,\"#bd3786\"],[0.5555555555555556,\"#d8576b\"],[0.6666666666666666,\"#ed7953\"],[0.7777777777777778,\"#fb9f3a\"],[0.8888888888888888,\"#fdca26\"],[1.0,\"#f0f921\"]],\"type\":\"histogram2dcontour\"}],\"histogram2d\":[{\"colorbar\":{\"outlinewidth\":0,\"ticks\":\"\"},\"colorscale\":[[0.0,\"#0d0887\"],[0.1111111111111111,\"#46039f\"],[0.2222222222222222,\"#7201a8\"],[0.3333333333333333,\"#9c179e\"],[0.4444444444444444,\"#bd3786\"],[0.5555555555555556,\"#d8576b\"],[0.6666666666666666,\"#ed7953\"],[0.7777777777777778,\"#fb9f3a\"],[0.8888888888888888,\"#fdca26\"],[1.0,\"#f0f921\"]],\"type\":\"histogram2d\"}],\"histogram\":[{\"marker\":{\"pattern\":{\"fillmode\":\"overlay\",\"size\":10,\"solidity\":0.2}},\"type\":\"histogram\"}],\"mesh3d\":[{\"colorbar\":{\"outlinewidth\":0,\"ticks\":\"\"},\"type\":\"mesh3d\"}],\"parcoords\":[{\"line\":{\"colorbar\":{\"outlinewidth\":0,\"ticks\":\"\"}},\"type\":\"parcoords\"}],\"pie\":[{\"automargin\":true,\"type\":\"pie\"}],\"scatter3d\":[{\"line\":{\"colorbar\":{\"outlinewidth\":0,\"ticks\":\"\"}},\"marker\":{\"colorbar\":{\"outlinewidth\":0,\"ticks\":\"\"}},\"type\":\"scatter3d\"}],\"scattercarpet\":[{\"marker\":{\"colorbar\":{\"outlinewidth\":0,\"ticks\":\"\"}},\"type\":\"scattercarpet\"}],\"scattergeo\":[{\"marker\":{\"colorbar\":{\"outlinewidth\":0,\"ticks\":\"\"}},\"type\":\"scattergeo\"}],\"scattergl\":[{\"marker\":{\"colorbar\":{\"outlinewidth\":0,\"ticks\":\"\"}},\"type\":\"scattergl\"}],\"scattermapbox\":[{\"marker\":{\"colorbar\":{\"outlinewidth\":0,\"ticks\":\"\"}},\"type\":\"scattermapbox\"}],\"scatterpolargl\":[{\"marker\":{\"colorbar\":{\"outlinewidth\":0,\"ticks\":\"\"}},\"type\":\"scatterpolargl\"}],\"scatterpolar\":[{\"marker\":{\"colorbar\":{\"outlinewidth\":0,\"ticks\":\"\"}},\"type\":\"scatterpolar\"}],\"scatter\":[{\"fillpattern\":{\"fillmode\":\"overlay\",\"size\":10,\"solidity\":0.2},\"type\":\"scatter\"}],\"scatterternary\":[{\"marker\":{\"colorbar\":{\"outlinewidth\":0,\"ticks\":\"\"}},\"type\":\"scatterternary\"}],\"surface\":[{\"colorbar\":{\"outlinewidth\":0,\"ticks\":\"\"},\"colorscale\":[[0.0,\"#0d0887\"],[0.1111111111111111,\"#46039f\"],[0.2222222222222222,\"#7201a8\"],[0.3333333333333333,\"#9c179e\"],[0.4444444444444444,\"#bd3786\"],[0.5555555555555556,\"#d8576b\"],[0.6666666666666666,\"#ed7953\"],[0.7777777777777778,\"#fb9f3a\"],[0.8888888888888888,\"#fdca26\"],[1.0,\"#f0f921\"]],\"type\":\"surface\"}],\"table\":[{\"cells\":{\"fill\":{\"color\":\"#EBF0F8\"},\"line\":{\"color\":\"white\"}},\"header\":{\"fill\":{\"color\":\"#C8D4E3\"},\"line\":{\"color\":\"white\"}},\"type\":\"table\"}]},\"layout\":{\"annotationdefaults\":{\"arrowcolor\":\"#2a3f5f\",\"arrowhead\":0,\"arrowwidth\":1},\"autotypenumbers\":\"strict\",\"coloraxis\":{\"colorbar\":{\"outlinewidth\":0,\"ticks\":\"\"}},\"colorscale\":{\"diverging\":[[0,\"#8e0152\"],[0.1,\"#c51b7d\"],[0.2,\"#de77ae\"],[0.3,\"#f1b6da\"],[0.4,\"#fde0ef\"],[0.5,\"#f7f7f7\"],[0.6,\"#e6f5d0\"],[0.7,\"#b8e186\"],[0.8,\"#7fbc41\"],[0.9,\"#4d9221\"],[1,\"#276419\"]],\"sequential\":[[0.0,\"#0d0887\"],[0.1111111111111111,\"#46039f\"],[0.2222222222222222,\"#7201a8\"],[0.3333333333333333,\"#9c179e\"],[0.4444444444444444,\"#bd3786\"],[0.5555555555555556,\"#d8576b\"],[0.6666666666666666,\"#ed7953\"],[0.7777777777777778,\"#fb9f3a\"],[0.8888888888888888,\"#fdca26\"],[1.0,\"#f0f921\"]],\"sequentialminus\":[[0.0,\"#0d0887\"],[0.1111111111111111,\"#46039f\"],[0.2222222222222222,\"#7201a8\"],[0.3333333333333333,\"#9c179e\"],[0.4444444444444444,\"#bd3786\"],[0.5555555555555556,\"#d8576b\"],[0.6666666666666666,\"#ed7953\"],[0.7777777777777778,\"#fb9f3a\"],[0.8888888888888888,\"#fdca26\"],[1.0,\"#f0f921\"]]},\"colorway\":[\"#636efa\",\"#EF553B\",\"#00cc96\",\"#ab63fa\",\"#FFA15A\",\"#19d3f3\",\"#FF6692\",\"#B6E880\",\"#FF97FF\",\"#FECB52\"],\"font\":{\"color\":\"#2a3f5f\"},\"geo\":{\"bgcolor\":\"white\",\"lakecolor\":\"white\",\"landcolor\":\"white\",\"showlakes\":true,\"showland\":true,\"subunitcolor\":\"#C8D4E3\"},\"hoverlabel\":{\"align\":\"left\"},\"hovermode\":\"closest\",\"mapbox\":{\"style\":\"light\"},\"paper_bgcolor\":\"white\",\"plot_bgcolor\":\"white\",\"polar\":{\"angularaxis\":{\"gridcolor\":\"#EBF0F8\",\"linecolor\":\"#EBF0F8\",\"ticks\":\"\"},\"bgcolor\":\"white\",\"radialaxis\":{\"gridcolor\":\"#EBF0F8\",\"linecolor\":\"#EBF0F8\",\"ticks\":\"\"}},\"scene\":{\"xaxis\":{\"backgroundcolor\":\"white\",\"gridcolor\":\"#DFE8F3\",\"gridwidth\":2,\"linecolor\":\"#EBF0F8\",\"showbackground\":true,\"ticks\":\"\",\"zerolinecolor\":\"#EBF0F8\"},\"yaxis\":{\"backgroundcolor\":\"white\",\"gridcolor\":\"#DFE8F3\",\"gridwidth\":2,\"linecolor\":\"#EBF0F8\",\"showbackground\":true,\"ticks\":\"\",\"zerolinecolor\":\"#EBF0F8\"},\"zaxis\":{\"backgroundcolor\":\"white\",\"gridcolor\":\"#DFE8F3\",\"gridwidth\":2,\"linecolor\":\"#EBF0F8\",\"showbackground\":true,\"ticks\":\"\",\"zerolinecolor\":\"#EBF0F8\"}},\"shapedefaults\":{\"line\":{\"color\":\"#2a3f5f\"}},\"ternary\":{\"aaxis\":{\"gridcolor\":\"#DFE8F3\",\"linecolor\":\"#A2B1C6\",\"ticks\":\"\"},\"baxis\":{\"gridcolor\":\"#DFE8F3\",\"linecolor\":\"#A2B1C6\",\"ticks\":\"\"},\"bgcolor\":\"white\",\"caxis\":{\"gridcolor\":\"#DFE8F3\",\"linecolor\":\"#A2B1C6\",\"ticks\":\"\"}},\"title\":{\"x\":0.05},\"xaxis\":{\"automargin\":true,\"gridcolor\":\"#EBF0F8\",\"linecolor\":\"#EBF0F8\",\"ticks\":\"\",\"title\":{\"standoff\":15},\"zerolinecolor\":\"#EBF0F8\",\"zerolinewidth\":2},\"yaxis\":{\"automargin\":true,\"gridcolor\":\"#EBF0F8\",\"linecolor\":\"#EBF0F8\",\"ticks\":\"\",\"title\":{\"standoff\":15},\"zerolinecolor\":\"#EBF0F8\",\"zerolinewidth\":2}}},\"title\":{\"text\":\"Cross-Validation (N=5) Mean F1 score with Error Bands\"},\"xaxis\":{\"title\":{\"text\":\"Training Steps\"}},\"yaxis\":{\"title\":{\"text\":\"Performance Score\"},\"range\":[0.5,1]}},                        {\"responsive\": true}                    ).then(function(){\n",
       "                            \n",
       "var gd = document.getElementById('7330e998-4457-4e12-bba5-801e3570c0d8');\n",
       "var x = new MutationObserver(function (mutations, observer) {{\n",
       "        var display = window.getComputedStyle(gd).display;\n",
       "        if (!display || display === 'none') {{\n",
       "            console.log([gd, 'removed!']);\n",
       "            Plotly.purge(gd);\n",
       "            observer.disconnect();\n",
       "        }}\n",
       "}});\n",
       "\n",
       "// Listen for the removal of the full notebook cells\n",
       "var notebookContainer = gd.closest('#notebook-container');\n",
       "if (notebookContainer) {{\n",
       "    x.observe(notebookContainer, {childList: true});\n",
       "}}\n",
       "\n",
       "// Listen for the clearing of the current output cell\n",
       "var outputEl = gd.closest('.output');\n",
       "if (outputEl) {{\n",
       "    x.observe(outputEl, {childList: true});\n",
       "}}\n",
       "\n",
       "                        })                };                });            </script>        </div>"
      ]
     },
     "metadata": {},
     "output_type": "display_data"
    },
    {
     "data": {
      "application/vnd.plotly.v1+json": {
       "config": {
        "plotlyServerURL": "https://plot.ly"
       },
       "data": [
        {
         "line": {
          "color": "blue"
         },
         "mode": "lines",
         "name": "Mean F1 Score",
         "type": "scatter",
         "x": [
          0,
          1,
          2,
          3,
          4,
          5,
          6,
          7,
          8,
          9,
          10,
          11,
          12,
          13,
          14,
          15,
          16,
          17,
          18,
          19,
          20,
          21,
          22,
          23,
          24,
          25,
          26,
          27,
          28,
          29,
          30,
          31,
          32,
          33,
          34,
          35,
          36,
          37,
          38,
          39,
          40,
          41,
          42,
          43,
          44,
          45,
          46,
          47,
          48,
          49,
          50,
          51,
          52,
          53,
          54,
          55,
          56,
          57,
          58,
          59,
          60,
          61,
          62,
          63,
          64,
          65,
          66,
          67,
          68,
          69,
          70,
          71,
          72,
          73,
          74,
          75,
          76,
          77,
          78,
          79,
          80,
          81,
          82,
          83,
          84,
          85,
          86,
          87,
          88,
          89,
          90,
          91,
          92,
          93,
          94,
          95,
          96,
          97,
          98,
          99,
          100,
          101,
          102,
          103,
          104,
          105,
          106,
          107,
          108,
          109,
          110,
          111,
          112,
          113,
          114,
          115,
          116,
          117,
          118,
          119,
          120,
          121,
          122,
          123
         ],
         "y": [
          0.9132467532467532,
          0.9513043478260867,
          1,
          1,
          1,
          1,
          1,
          1,
          1,
          1,
          1,
          1,
          1,
          1,
          1,
          1,
          1,
          1,
          1,
          1,
          1,
          1,
          1,
          1,
          1,
          1,
          1,
          1,
          1,
          1,
          1,
          1,
          1,
          1,
          1,
          1,
          1,
          1,
          1,
          1,
          1,
          1,
          1,
          1,
          1,
          1,
          1,
          1,
          1,
          1,
          1,
          1,
          1,
          1,
          1,
          1,
          1,
          1,
          1,
          1,
          1,
          1,
          1,
          1,
          1,
          1,
          1,
          1,
          1,
          1,
          1,
          1,
          1,
          1,
          1,
          1,
          1,
          1,
          1,
          1,
          1,
          1,
          1,
          1,
          1,
          1,
          1,
          1,
          1,
          1,
          1,
          1,
          1,
          1,
          1,
          1,
          1,
          1,
          1,
          1,
          1,
          1,
          1,
          1,
          1,
          1,
          1,
          1,
          1,
          1,
          1,
          1,
          1,
          1,
          1,
          1,
          1,
          1,
          1,
          1,
          1,
          1,
          1,
          1
         ]
        },
        {
         "fill": "toself",
         "fillcolor": "rgba(0, 0, 255, 0.2)",
         "line": {
          "color": "rgba(255, 255, 255, 0)"
         },
         "showlegend": false,
         "type": "scatter",
         "x": [
          0,
          1,
          2,
          3,
          4,
          5,
          6,
          7,
          8,
          9,
          10,
          11,
          12,
          13,
          14,
          15,
          16,
          17,
          18,
          19,
          20,
          21,
          22,
          23,
          24,
          25,
          26,
          27,
          28,
          29,
          30,
          31,
          32,
          33,
          34,
          35,
          36,
          37,
          38,
          39,
          40,
          41,
          42,
          43,
          44,
          45,
          46,
          47,
          48,
          49,
          50,
          51,
          52,
          53,
          54,
          55,
          56,
          57,
          58,
          59,
          60,
          61,
          62,
          63,
          64,
          65,
          66,
          67,
          68,
          69,
          70,
          71,
          72,
          73,
          74,
          75,
          76,
          77,
          78,
          79,
          80,
          81,
          82,
          83,
          84,
          85,
          86,
          87,
          88,
          89,
          90,
          91,
          92,
          93,
          94,
          95,
          96,
          97,
          98,
          99,
          100,
          101,
          102,
          103,
          104,
          105,
          106,
          107,
          108,
          109,
          110,
          111,
          112,
          113,
          114,
          115,
          116,
          117,
          118,
          119,
          120,
          121,
          122,
          123,
          123,
          122,
          121,
          120,
          119,
          118,
          117,
          116,
          115,
          114,
          113,
          112,
          111,
          110,
          109,
          108,
          107,
          106,
          105,
          104,
          103,
          102,
          101,
          100,
          99,
          98,
          97,
          96,
          95,
          94,
          93,
          92,
          91,
          90,
          89,
          88,
          87,
          86,
          85,
          84,
          83,
          82,
          81,
          80,
          79,
          78,
          77,
          76,
          75,
          74,
          73,
          72,
          71,
          70,
          69,
          68,
          67,
          66,
          65,
          64,
          63,
          62,
          61,
          60,
          59,
          58,
          57,
          56,
          55,
          54,
          53,
          52,
          51,
          50,
          49,
          48,
          47,
          46,
          45,
          44,
          43,
          42,
          41,
          40,
          39,
          38,
          37,
          36,
          35,
          34,
          33,
          32,
          31,
          30,
          29,
          28,
          27,
          26,
          25,
          24,
          23,
          22,
          21,
          20,
          19,
          18,
          17,
          16,
          15,
          14,
          13,
          12,
          11,
          10,
          9,
          8,
          7,
          6,
          5,
          4,
          3,
          2,
          1,
          0
         ],
         "y": [
          1.0013404490542213,
          1.0379559872581083,
          1,
          1,
          1,
          1,
          1,
          1,
          1,
          1,
          1,
          1,
          1,
          1,
          1,
          1,
          1,
          1,
          1,
          1,
          1,
          1,
          1,
          1,
          1,
          1,
          1,
          1,
          1,
          1,
          1,
          1,
          1,
          1,
          1,
          1,
          1,
          1,
          1,
          1,
          1,
          1,
          1,
          1,
          1,
          1,
          1,
          1,
          1,
          1,
          1,
          1,
          1,
          1,
          1,
          1,
          1,
          1,
          1,
          1,
          1,
          1,
          1,
          1,
          1,
          1,
          1,
          1,
          1,
          1,
          1,
          1,
          1,
          1,
          1,
          1,
          1,
          1,
          1,
          1,
          1,
          1,
          1,
          1,
          1,
          1,
          1,
          1,
          1,
          1,
          1,
          1,
          1,
          1,
          1,
          1,
          1,
          1,
          1,
          1,
          1,
          1,
          1,
          1,
          1,
          1,
          1,
          1,
          1,
          1,
          1,
          1,
          1,
          1,
          1,
          1,
          1,
          1,
          1,
          1,
          1,
          1,
          1,
          1,
          0.8251530574392852,
          0.8646527083940652,
          1,
          1,
          1,
          1,
          1,
          1,
          1,
          1,
          1,
          1,
          1,
          1,
          1,
          1,
          1,
          1,
          1,
          1,
          1,
          1,
          1,
          1,
          1,
          1,
          1,
          1,
          1,
          1,
          1,
          1,
          1,
          1,
          1,
          1,
          1,
          1,
          1,
          1,
          1,
          1,
          1,
          1,
          1,
          1,
          1,
          1,
          1,
          1,
          1,
          1,
          1,
          1,
          1,
          1,
          1,
          1,
          1,
          1,
          1,
          1,
          1,
          1,
          1,
          1,
          1,
          1,
          1,
          1,
          1,
          1,
          1,
          1,
          1,
          1,
          1,
          1,
          1,
          1,
          1,
          1,
          1,
          1,
          1,
          1,
          1,
          1,
          1,
          1,
          1,
          1,
          1,
          1,
          1,
          1,
          1,
          1,
          1,
          1,
          1,
          1,
          1,
          1,
          1,
          1,
          1,
          1,
          1,
          1,
          1,
          1,
          1,
          1,
          1,
          1,
          1,
          1,
          1,
          1,
          1,
          1,
          1,
          1
         ]
        }
       ],
       "layout": {
        "template": {
         "data": {
          "bar": [
           {
            "error_x": {
             "color": "#2a3f5f"
            },
            "error_y": {
             "color": "#2a3f5f"
            },
            "marker": {
             "line": {
              "color": "white",
              "width": 0.5
             },
             "pattern": {
              "fillmode": "overlay",
              "size": 10,
              "solidity": 0.2
             }
            },
            "type": "bar"
           }
          ],
          "barpolar": [
           {
            "marker": {
             "line": {
              "color": "white",
              "width": 0.5
             },
             "pattern": {
              "fillmode": "overlay",
              "size": 10,
              "solidity": 0.2
             }
            },
            "type": "barpolar"
           }
          ],
          "carpet": [
           {
            "aaxis": {
             "endlinecolor": "#2a3f5f",
             "gridcolor": "#C8D4E3",
             "linecolor": "#C8D4E3",
             "minorgridcolor": "#C8D4E3",
             "startlinecolor": "#2a3f5f"
            },
            "baxis": {
             "endlinecolor": "#2a3f5f",
             "gridcolor": "#C8D4E3",
             "linecolor": "#C8D4E3",
             "minorgridcolor": "#C8D4E3",
             "startlinecolor": "#2a3f5f"
            },
            "type": "carpet"
           }
          ],
          "choropleth": [
           {
            "colorbar": {
             "outlinewidth": 0,
             "ticks": ""
            },
            "type": "choropleth"
           }
          ],
          "contour": [
           {
            "colorbar": {
             "outlinewidth": 0,
             "ticks": ""
            },
            "colorscale": [
             [
              0,
              "#0d0887"
             ],
             [
              0.1111111111111111,
              "#46039f"
             ],
             [
              0.2222222222222222,
              "#7201a8"
             ],
             [
              0.3333333333333333,
              "#9c179e"
             ],
             [
              0.4444444444444444,
              "#bd3786"
             ],
             [
              0.5555555555555556,
              "#d8576b"
             ],
             [
              0.6666666666666666,
              "#ed7953"
             ],
             [
              0.7777777777777778,
              "#fb9f3a"
             ],
             [
              0.8888888888888888,
              "#fdca26"
             ],
             [
              1,
              "#f0f921"
             ]
            ],
            "type": "contour"
           }
          ],
          "contourcarpet": [
           {
            "colorbar": {
             "outlinewidth": 0,
             "ticks": ""
            },
            "type": "contourcarpet"
           }
          ],
          "heatmap": [
           {
            "colorbar": {
             "outlinewidth": 0,
             "ticks": ""
            },
            "colorscale": [
             [
              0,
              "#0d0887"
             ],
             [
              0.1111111111111111,
              "#46039f"
             ],
             [
              0.2222222222222222,
              "#7201a8"
             ],
             [
              0.3333333333333333,
              "#9c179e"
             ],
             [
              0.4444444444444444,
              "#bd3786"
             ],
             [
              0.5555555555555556,
              "#d8576b"
             ],
             [
              0.6666666666666666,
              "#ed7953"
             ],
             [
              0.7777777777777778,
              "#fb9f3a"
             ],
             [
              0.8888888888888888,
              "#fdca26"
             ],
             [
              1,
              "#f0f921"
             ]
            ],
            "type": "heatmap"
           }
          ],
          "heatmapgl": [
           {
            "colorbar": {
             "outlinewidth": 0,
             "ticks": ""
            },
            "colorscale": [
             [
              0,
              "#0d0887"
             ],
             [
              0.1111111111111111,
              "#46039f"
             ],
             [
              0.2222222222222222,
              "#7201a8"
             ],
             [
              0.3333333333333333,
              "#9c179e"
             ],
             [
              0.4444444444444444,
              "#bd3786"
             ],
             [
              0.5555555555555556,
              "#d8576b"
             ],
             [
              0.6666666666666666,
              "#ed7953"
             ],
             [
              0.7777777777777778,
              "#fb9f3a"
             ],
             [
              0.8888888888888888,
              "#fdca26"
             ],
             [
              1,
              "#f0f921"
             ]
            ],
            "type": "heatmapgl"
           }
          ],
          "histogram": [
           {
            "marker": {
             "pattern": {
              "fillmode": "overlay",
              "size": 10,
              "solidity": 0.2
             }
            },
            "type": "histogram"
           }
          ],
          "histogram2d": [
           {
            "colorbar": {
             "outlinewidth": 0,
             "ticks": ""
            },
            "colorscale": [
             [
              0,
              "#0d0887"
             ],
             [
              0.1111111111111111,
              "#46039f"
             ],
             [
              0.2222222222222222,
              "#7201a8"
             ],
             [
              0.3333333333333333,
              "#9c179e"
             ],
             [
              0.4444444444444444,
              "#bd3786"
             ],
             [
              0.5555555555555556,
              "#d8576b"
             ],
             [
              0.6666666666666666,
              "#ed7953"
             ],
             [
              0.7777777777777778,
              "#fb9f3a"
             ],
             [
              0.8888888888888888,
              "#fdca26"
             ],
             [
              1,
              "#f0f921"
             ]
            ],
            "type": "histogram2d"
           }
          ],
          "histogram2dcontour": [
           {
            "colorbar": {
             "outlinewidth": 0,
             "ticks": ""
            },
            "colorscale": [
             [
              0,
              "#0d0887"
             ],
             [
              0.1111111111111111,
              "#46039f"
             ],
             [
              0.2222222222222222,
              "#7201a8"
             ],
             [
              0.3333333333333333,
              "#9c179e"
             ],
             [
              0.4444444444444444,
              "#bd3786"
             ],
             [
              0.5555555555555556,
              "#d8576b"
             ],
             [
              0.6666666666666666,
              "#ed7953"
             ],
             [
              0.7777777777777778,
              "#fb9f3a"
             ],
             [
              0.8888888888888888,
              "#fdca26"
             ],
             [
              1,
              "#f0f921"
             ]
            ],
            "type": "histogram2dcontour"
           }
          ],
          "mesh3d": [
           {
            "colorbar": {
             "outlinewidth": 0,
             "ticks": ""
            },
            "type": "mesh3d"
           }
          ],
          "parcoords": [
           {
            "line": {
             "colorbar": {
              "outlinewidth": 0,
              "ticks": ""
             }
            },
            "type": "parcoords"
           }
          ],
          "pie": [
           {
            "automargin": true,
            "type": "pie"
           }
          ],
          "scatter": [
           {
            "fillpattern": {
             "fillmode": "overlay",
             "size": 10,
             "solidity": 0.2
            },
            "type": "scatter"
           }
          ],
          "scatter3d": [
           {
            "line": {
             "colorbar": {
              "outlinewidth": 0,
              "ticks": ""
             }
            },
            "marker": {
             "colorbar": {
              "outlinewidth": 0,
              "ticks": ""
             }
            },
            "type": "scatter3d"
           }
          ],
          "scattercarpet": [
           {
            "marker": {
             "colorbar": {
              "outlinewidth": 0,
              "ticks": ""
             }
            },
            "type": "scattercarpet"
           }
          ],
          "scattergeo": [
           {
            "marker": {
             "colorbar": {
              "outlinewidth": 0,
              "ticks": ""
             }
            },
            "type": "scattergeo"
           }
          ],
          "scattergl": [
           {
            "marker": {
             "colorbar": {
              "outlinewidth": 0,
              "ticks": ""
             }
            },
            "type": "scattergl"
           }
          ],
          "scattermapbox": [
           {
            "marker": {
             "colorbar": {
              "outlinewidth": 0,
              "ticks": ""
             }
            },
            "type": "scattermapbox"
           }
          ],
          "scatterpolar": [
           {
            "marker": {
             "colorbar": {
              "outlinewidth": 0,
              "ticks": ""
             }
            },
            "type": "scatterpolar"
           }
          ],
          "scatterpolargl": [
           {
            "marker": {
             "colorbar": {
              "outlinewidth": 0,
              "ticks": ""
             }
            },
            "type": "scatterpolargl"
           }
          ],
          "scatterternary": [
           {
            "marker": {
             "colorbar": {
              "outlinewidth": 0,
              "ticks": ""
             }
            },
            "type": "scatterternary"
           }
          ],
          "surface": [
           {
            "colorbar": {
             "outlinewidth": 0,
             "ticks": ""
            },
            "colorscale": [
             [
              0,
              "#0d0887"
             ],
             [
              0.1111111111111111,
              "#46039f"
             ],
             [
              0.2222222222222222,
              "#7201a8"
             ],
             [
              0.3333333333333333,
              "#9c179e"
             ],
             [
              0.4444444444444444,
              "#bd3786"
             ],
             [
              0.5555555555555556,
              "#d8576b"
             ],
             [
              0.6666666666666666,
              "#ed7953"
             ],
             [
              0.7777777777777778,
              "#fb9f3a"
             ],
             [
              0.8888888888888888,
              "#fdca26"
             ],
             [
              1,
              "#f0f921"
             ]
            ],
            "type": "surface"
           }
          ],
          "table": [
           {
            "cells": {
             "fill": {
              "color": "#EBF0F8"
             },
             "line": {
              "color": "white"
             }
            },
            "header": {
             "fill": {
              "color": "#C8D4E3"
             },
             "line": {
              "color": "white"
             }
            },
            "type": "table"
           }
          ]
         },
         "layout": {
          "annotationdefaults": {
           "arrowcolor": "#2a3f5f",
           "arrowhead": 0,
           "arrowwidth": 1
          },
          "autotypenumbers": "strict",
          "coloraxis": {
           "colorbar": {
            "outlinewidth": 0,
            "ticks": ""
           }
          },
          "colorscale": {
           "diverging": [
            [
             0,
             "#8e0152"
            ],
            [
             0.1,
             "#c51b7d"
            ],
            [
             0.2,
             "#de77ae"
            ],
            [
             0.3,
             "#f1b6da"
            ],
            [
             0.4,
             "#fde0ef"
            ],
            [
             0.5,
             "#f7f7f7"
            ],
            [
             0.6,
             "#e6f5d0"
            ],
            [
             0.7,
             "#b8e186"
            ],
            [
             0.8,
             "#7fbc41"
            ],
            [
             0.9,
             "#4d9221"
            ],
            [
             1,
             "#276419"
            ]
           ],
           "sequential": [
            [
             0,
             "#0d0887"
            ],
            [
             0.1111111111111111,
             "#46039f"
            ],
            [
             0.2222222222222222,
             "#7201a8"
            ],
            [
             0.3333333333333333,
             "#9c179e"
            ],
            [
             0.4444444444444444,
             "#bd3786"
            ],
            [
             0.5555555555555556,
             "#d8576b"
            ],
            [
             0.6666666666666666,
             "#ed7953"
            ],
            [
             0.7777777777777778,
             "#fb9f3a"
            ],
            [
             0.8888888888888888,
             "#fdca26"
            ],
            [
             1,
             "#f0f921"
            ]
           ],
           "sequentialminus": [
            [
             0,
             "#0d0887"
            ],
            [
             0.1111111111111111,
             "#46039f"
            ],
            [
             0.2222222222222222,
             "#7201a8"
            ],
            [
             0.3333333333333333,
             "#9c179e"
            ],
            [
             0.4444444444444444,
             "#bd3786"
            ],
            [
             0.5555555555555556,
             "#d8576b"
            ],
            [
             0.6666666666666666,
             "#ed7953"
            ],
            [
             0.7777777777777778,
             "#fb9f3a"
            ],
            [
             0.8888888888888888,
             "#fdca26"
            ],
            [
             1,
             "#f0f921"
            ]
           ]
          },
          "colorway": [
           "#636efa",
           "#EF553B",
           "#00cc96",
           "#ab63fa",
           "#FFA15A",
           "#19d3f3",
           "#FF6692",
           "#B6E880",
           "#FF97FF",
           "#FECB52"
          ],
          "font": {
           "color": "#2a3f5f"
          },
          "geo": {
           "bgcolor": "white",
           "lakecolor": "white",
           "landcolor": "white",
           "showlakes": true,
           "showland": true,
           "subunitcolor": "#C8D4E3"
          },
          "hoverlabel": {
           "align": "left"
          },
          "hovermode": "closest",
          "mapbox": {
           "style": "light"
          },
          "paper_bgcolor": "white",
          "plot_bgcolor": "white",
          "polar": {
           "angularaxis": {
            "gridcolor": "#EBF0F8",
            "linecolor": "#EBF0F8",
            "ticks": ""
           },
           "bgcolor": "white",
           "radialaxis": {
            "gridcolor": "#EBF0F8",
            "linecolor": "#EBF0F8",
            "ticks": ""
           }
          },
          "scene": {
           "xaxis": {
            "backgroundcolor": "white",
            "gridcolor": "#DFE8F3",
            "gridwidth": 2,
            "linecolor": "#EBF0F8",
            "showbackground": true,
            "ticks": "",
            "zerolinecolor": "#EBF0F8"
           },
           "yaxis": {
            "backgroundcolor": "white",
            "gridcolor": "#DFE8F3",
            "gridwidth": 2,
            "linecolor": "#EBF0F8",
            "showbackground": true,
            "ticks": "",
            "zerolinecolor": "#EBF0F8"
           },
           "zaxis": {
            "backgroundcolor": "white",
            "gridcolor": "#DFE8F3",
            "gridwidth": 2,
            "linecolor": "#EBF0F8",
            "showbackground": true,
            "ticks": "",
            "zerolinecolor": "#EBF0F8"
           }
          },
          "shapedefaults": {
           "line": {
            "color": "#2a3f5f"
           }
          },
          "ternary": {
           "aaxis": {
            "gridcolor": "#DFE8F3",
            "linecolor": "#A2B1C6",
            "ticks": ""
           },
           "baxis": {
            "gridcolor": "#DFE8F3",
            "linecolor": "#A2B1C6",
            "ticks": ""
           },
           "bgcolor": "white",
           "caxis": {
            "gridcolor": "#DFE8F3",
            "linecolor": "#A2B1C6",
            "ticks": ""
           }
          },
          "title": {
           "x": 0.05
          },
          "xaxis": {
           "automargin": true,
           "gridcolor": "#EBF0F8",
           "linecolor": "#EBF0F8",
           "ticks": "",
           "title": {
            "standoff": 15
           },
           "zerolinecolor": "#EBF0F8",
           "zerolinewidth": 2
          },
          "yaxis": {
           "automargin": true,
           "gridcolor": "#EBF0F8",
           "linecolor": "#EBF0F8",
           "ticks": "",
           "title": {
            "standoff": 15
           },
           "zerolinecolor": "#EBF0F8",
           "zerolinewidth": 2
          }
         }
        },
        "title": {
         "text": "Cross-Validation (N=5) Mean F1 score with Error Bands"
        },
        "xaxis": {
         "title": {
          "text": "Training Steps"
         }
        },
        "yaxis": {
         "range": [
          0.5,
          1
         ],
         "title": {
          "text": "Performance Score"
         }
        }
       }
      },
      "text/html": [
       "<div>                            <div id=\"9dce8e47-e6d5-4a39-b817-832f02cc3311\" class=\"plotly-graph-div\" style=\"height:525px; width:100%;\"></div>            <script type=\"text/javascript\">                require([\"plotly\"], function(Plotly) {                    window.PLOTLYENV=window.PLOTLYENV || {};                                    if (document.getElementById(\"9dce8e47-e6d5-4a39-b817-832f02cc3311\")) {                    Plotly.newPlot(                        \"9dce8e47-e6d5-4a39-b817-832f02cc3311\",                        [{\"line\":{\"color\":\"blue\"},\"mode\":\"lines\",\"name\":\"Mean F1 Score\",\"x\":[0,1,2,3,4,5,6,7,8,9,10,11,12,13,14,15,16,17,18,19,20,21,22,23,24,25,26,27,28,29,30,31,32,33,34,35,36,37,38,39,40,41,42,43,44,45,46,47,48,49,50,51,52,53,54,55,56,57,58,59,60,61,62,63,64,65,66,67,68,69,70,71,72,73,74,75,76,77,78,79,80,81,82,83,84,85,86,87,88,89,90,91,92,93,94,95,96,97,98,99,100,101,102,103,104,105,106,107,108,109,110,111,112,113,114,115,116,117,118,119,120,121,122,123],\"y\":[0.9132467532467532,0.9513043478260867,1.0,1.0,1.0,1.0,1.0,1.0,1.0,1.0,1.0,1.0,1.0,1.0,1.0,1.0,1.0,1.0,1.0,1.0,1.0,1.0,1.0,1.0,1.0,1.0,1.0,1.0,1.0,1.0,1.0,1.0,1.0,1.0,1.0,1.0,1.0,1.0,1.0,1.0,1.0,1.0,1.0,1.0,1.0,1.0,1.0,1.0,1.0,1.0,1.0,1.0,1.0,1.0,1.0,1.0,1.0,1.0,1.0,1.0,1.0,1.0,1.0,1.0,1.0,1.0,1.0,1.0,1.0,1.0,1.0,1.0,1.0,1.0,1.0,1.0,1.0,1.0,1.0,1.0,1.0,1.0,1.0,1.0,1.0,1.0,1.0,1.0,1.0,1.0,1.0,1.0,1.0,1.0,1.0,1.0,1.0,1.0,1.0,1.0,1.0,1.0,1.0,1.0,1.0,1.0,1.0,1.0,1.0,1.0,1.0,1.0,1.0,1.0,1.0,1.0,1.0,1.0,1.0,1.0,1.0,1.0,1.0,1.0],\"type\":\"scatter\"},{\"fill\":\"toself\",\"fillcolor\":\"rgba(0, 0, 255, 0.2)\",\"line\":{\"color\":\"rgba(255, 255, 255, 0)\"},\"showlegend\":false,\"x\":[0,1,2,3,4,5,6,7,8,9,10,11,12,13,14,15,16,17,18,19,20,21,22,23,24,25,26,27,28,29,30,31,32,33,34,35,36,37,38,39,40,41,42,43,44,45,46,47,48,49,50,51,52,53,54,55,56,57,58,59,60,61,62,63,64,65,66,67,68,69,70,71,72,73,74,75,76,77,78,79,80,81,82,83,84,85,86,87,88,89,90,91,92,93,94,95,96,97,98,99,100,101,102,103,104,105,106,107,108,109,110,111,112,113,114,115,116,117,118,119,120,121,122,123,123,122,121,120,119,118,117,116,115,114,113,112,111,110,109,108,107,106,105,104,103,102,101,100,99,98,97,96,95,94,93,92,91,90,89,88,87,86,85,84,83,82,81,80,79,78,77,76,75,74,73,72,71,70,69,68,67,66,65,64,63,62,61,60,59,58,57,56,55,54,53,52,51,50,49,48,47,46,45,44,43,42,41,40,39,38,37,36,35,34,33,32,31,30,29,28,27,26,25,24,23,22,21,20,19,18,17,16,15,14,13,12,11,10,9,8,7,6,5,4,3,2,1,0],\"y\":[1.0013404490542213,1.0379559872581083,1.0,1.0,1.0,1.0,1.0,1.0,1.0,1.0,1.0,1.0,1.0,1.0,1.0,1.0,1.0,1.0,1.0,1.0,1.0,1.0,1.0,1.0,1.0,1.0,1.0,1.0,1.0,1.0,1.0,1.0,1.0,1.0,1.0,1.0,1.0,1.0,1.0,1.0,1.0,1.0,1.0,1.0,1.0,1.0,1.0,1.0,1.0,1.0,1.0,1.0,1.0,1.0,1.0,1.0,1.0,1.0,1.0,1.0,1.0,1.0,1.0,1.0,1.0,1.0,1.0,1.0,1.0,1.0,1.0,1.0,1.0,1.0,1.0,1.0,1.0,1.0,1.0,1.0,1.0,1.0,1.0,1.0,1.0,1.0,1.0,1.0,1.0,1.0,1.0,1.0,1.0,1.0,1.0,1.0,1.0,1.0,1.0,1.0,1.0,1.0,1.0,1.0,1.0,1.0,1.0,1.0,1.0,1.0,1.0,1.0,1.0,1.0,1.0,1.0,1.0,1.0,1.0,1.0,1.0,1.0,1.0,1.0,0.8251530574392852,0.8646527083940652,1.0,1.0,1.0,1.0,1.0,1.0,1.0,1.0,1.0,1.0,1.0,1.0,1.0,1.0,1.0,1.0,1.0,1.0,1.0,1.0,1.0,1.0,1.0,1.0,1.0,1.0,1.0,1.0,1.0,1.0,1.0,1.0,1.0,1.0,1.0,1.0,1.0,1.0,1.0,1.0,1.0,1.0,1.0,1.0,1.0,1.0,1.0,1.0,1.0,1.0,1.0,1.0,1.0,1.0,1.0,1.0,1.0,1.0,1.0,1.0,1.0,1.0,1.0,1.0,1.0,1.0,1.0,1.0,1.0,1.0,1.0,1.0,1.0,1.0,1.0,1.0,1.0,1.0,1.0,1.0,1.0,1.0,1.0,1.0,1.0,1.0,1.0,1.0,1.0,1.0,1.0,1.0,1.0,1.0,1.0,1.0,1.0,1.0,1.0,1.0,1.0,1.0,1.0,1.0,1.0,1.0,1.0,1.0,1.0,1.0,1.0,1.0,1.0,1.0,1.0,1.0,1.0,1.0,1.0,1.0,1.0,1.0],\"type\":\"scatter\"}],                        {\"template\":{\"data\":{\"barpolar\":[{\"marker\":{\"line\":{\"color\":\"white\",\"width\":0.5},\"pattern\":{\"fillmode\":\"overlay\",\"size\":10,\"solidity\":0.2}},\"type\":\"barpolar\"}],\"bar\":[{\"error_x\":{\"color\":\"#2a3f5f\"},\"error_y\":{\"color\":\"#2a3f5f\"},\"marker\":{\"line\":{\"color\":\"white\",\"width\":0.5},\"pattern\":{\"fillmode\":\"overlay\",\"size\":10,\"solidity\":0.2}},\"type\":\"bar\"}],\"carpet\":[{\"aaxis\":{\"endlinecolor\":\"#2a3f5f\",\"gridcolor\":\"#C8D4E3\",\"linecolor\":\"#C8D4E3\",\"minorgridcolor\":\"#C8D4E3\",\"startlinecolor\":\"#2a3f5f\"},\"baxis\":{\"endlinecolor\":\"#2a3f5f\",\"gridcolor\":\"#C8D4E3\",\"linecolor\":\"#C8D4E3\",\"minorgridcolor\":\"#C8D4E3\",\"startlinecolor\":\"#2a3f5f\"},\"type\":\"carpet\"}],\"choropleth\":[{\"colorbar\":{\"outlinewidth\":0,\"ticks\":\"\"},\"type\":\"choropleth\"}],\"contourcarpet\":[{\"colorbar\":{\"outlinewidth\":0,\"ticks\":\"\"},\"type\":\"contourcarpet\"}],\"contour\":[{\"colorbar\":{\"outlinewidth\":0,\"ticks\":\"\"},\"colorscale\":[[0.0,\"#0d0887\"],[0.1111111111111111,\"#46039f\"],[0.2222222222222222,\"#7201a8\"],[0.3333333333333333,\"#9c179e\"],[0.4444444444444444,\"#bd3786\"],[0.5555555555555556,\"#d8576b\"],[0.6666666666666666,\"#ed7953\"],[0.7777777777777778,\"#fb9f3a\"],[0.8888888888888888,\"#fdca26\"],[1.0,\"#f0f921\"]],\"type\":\"contour\"}],\"heatmapgl\":[{\"colorbar\":{\"outlinewidth\":0,\"ticks\":\"\"},\"colorscale\":[[0.0,\"#0d0887\"],[0.1111111111111111,\"#46039f\"],[0.2222222222222222,\"#7201a8\"],[0.3333333333333333,\"#9c179e\"],[0.4444444444444444,\"#bd3786\"],[0.5555555555555556,\"#d8576b\"],[0.6666666666666666,\"#ed7953\"],[0.7777777777777778,\"#fb9f3a\"],[0.8888888888888888,\"#fdca26\"],[1.0,\"#f0f921\"]],\"type\":\"heatmapgl\"}],\"heatmap\":[{\"colorbar\":{\"outlinewidth\":0,\"ticks\":\"\"},\"colorscale\":[[0.0,\"#0d0887\"],[0.1111111111111111,\"#46039f\"],[0.2222222222222222,\"#7201a8\"],[0.3333333333333333,\"#9c179e\"],[0.4444444444444444,\"#bd3786\"],[0.5555555555555556,\"#d8576b\"],[0.6666666666666666,\"#ed7953\"],[0.7777777777777778,\"#fb9f3a\"],[0.8888888888888888,\"#fdca26\"],[1.0,\"#f0f921\"]],\"type\":\"heatmap\"}],\"histogram2dcontour\":[{\"colorbar\":{\"outlinewidth\":0,\"ticks\":\"\"},\"colorscale\":[[0.0,\"#0d0887\"],[0.1111111111111111,\"#46039f\"],[0.2222222222222222,\"#7201a8\"],[0.3333333333333333,\"#9c179e\"],[0.4444444444444444,\"#bd3786\"],[0.5555555555555556,\"#d8576b\"],[0.6666666666666666,\"#ed7953\"],[0.7777777777777778,\"#fb9f3a\"],[0.8888888888888888,\"#fdca26\"],[1.0,\"#f0f921\"]],\"type\":\"histogram2dcontour\"}],\"histogram2d\":[{\"colorbar\":{\"outlinewidth\":0,\"ticks\":\"\"},\"colorscale\":[[0.0,\"#0d0887\"],[0.1111111111111111,\"#46039f\"],[0.2222222222222222,\"#7201a8\"],[0.3333333333333333,\"#9c179e\"],[0.4444444444444444,\"#bd3786\"],[0.5555555555555556,\"#d8576b\"],[0.6666666666666666,\"#ed7953\"],[0.7777777777777778,\"#fb9f3a\"],[0.8888888888888888,\"#fdca26\"],[1.0,\"#f0f921\"]],\"type\":\"histogram2d\"}],\"histogram\":[{\"marker\":{\"pattern\":{\"fillmode\":\"overlay\",\"size\":10,\"solidity\":0.2}},\"type\":\"histogram\"}],\"mesh3d\":[{\"colorbar\":{\"outlinewidth\":0,\"ticks\":\"\"},\"type\":\"mesh3d\"}],\"parcoords\":[{\"line\":{\"colorbar\":{\"outlinewidth\":0,\"ticks\":\"\"}},\"type\":\"parcoords\"}],\"pie\":[{\"automargin\":true,\"type\":\"pie\"}],\"scatter3d\":[{\"line\":{\"colorbar\":{\"outlinewidth\":0,\"ticks\":\"\"}},\"marker\":{\"colorbar\":{\"outlinewidth\":0,\"ticks\":\"\"}},\"type\":\"scatter3d\"}],\"scattercarpet\":[{\"marker\":{\"colorbar\":{\"outlinewidth\":0,\"ticks\":\"\"}},\"type\":\"scattercarpet\"}],\"scattergeo\":[{\"marker\":{\"colorbar\":{\"outlinewidth\":0,\"ticks\":\"\"}},\"type\":\"scattergeo\"}],\"scattergl\":[{\"marker\":{\"colorbar\":{\"outlinewidth\":0,\"ticks\":\"\"}},\"type\":\"scattergl\"}],\"scattermapbox\":[{\"marker\":{\"colorbar\":{\"outlinewidth\":0,\"ticks\":\"\"}},\"type\":\"scattermapbox\"}],\"scatterpolargl\":[{\"marker\":{\"colorbar\":{\"outlinewidth\":0,\"ticks\":\"\"}},\"type\":\"scatterpolargl\"}],\"scatterpolar\":[{\"marker\":{\"colorbar\":{\"outlinewidth\":0,\"ticks\":\"\"}},\"type\":\"scatterpolar\"}],\"scatter\":[{\"fillpattern\":{\"fillmode\":\"overlay\",\"size\":10,\"solidity\":0.2},\"type\":\"scatter\"}],\"scatterternary\":[{\"marker\":{\"colorbar\":{\"outlinewidth\":0,\"ticks\":\"\"}},\"type\":\"scatterternary\"}],\"surface\":[{\"colorbar\":{\"outlinewidth\":0,\"ticks\":\"\"},\"colorscale\":[[0.0,\"#0d0887\"],[0.1111111111111111,\"#46039f\"],[0.2222222222222222,\"#7201a8\"],[0.3333333333333333,\"#9c179e\"],[0.4444444444444444,\"#bd3786\"],[0.5555555555555556,\"#d8576b\"],[0.6666666666666666,\"#ed7953\"],[0.7777777777777778,\"#fb9f3a\"],[0.8888888888888888,\"#fdca26\"],[1.0,\"#f0f921\"]],\"type\":\"surface\"}],\"table\":[{\"cells\":{\"fill\":{\"color\":\"#EBF0F8\"},\"line\":{\"color\":\"white\"}},\"header\":{\"fill\":{\"color\":\"#C8D4E3\"},\"line\":{\"color\":\"white\"}},\"type\":\"table\"}]},\"layout\":{\"annotationdefaults\":{\"arrowcolor\":\"#2a3f5f\",\"arrowhead\":0,\"arrowwidth\":1},\"autotypenumbers\":\"strict\",\"coloraxis\":{\"colorbar\":{\"outlinewidth\":0,\"ticks\":\"\"}},\"colorscale\":{\"diverging\":[[0,\"#8e0152\"],[0.1,\"#c51b7d\"],[0.2,\"#de77ae\"],[0.3,\"#f1b6da\"],[0.4,\"#fde0ef\"],[0.5,\"#f7f7f7\"],[0.6,\"#e6f5d0\"],[0.7,\"#b8e186\"],[0.8,\"#7fbc41\"],[0.9,\"#4d9221\"],[1,\"#276419\"]],\"sequential\":[[0.0,\"#0d0887\"],[0.1111111111111111,\"#46039f\"],[0.2222222222222222,\"#7201a8\"],[0.3333333333333333,\"#9c179e\"],[0.4444444444444444,\"#bd3786\"],[0.5555555555555556,\"#d8576b\"],[0.6666666666666666,\"#ed7953\"],[0.7777777777777778,\"#fb9f3a\"],[0.8888888888888888,\"#fdca26\"],[1.0,\"#f0f921\"]],\"sequentialminus\":[[0.0,\"#0d0887\"],[0.1111111111111111,\"#46039f\"],[0.2222222222222222,\"#7201a8\"],[0.3333333333333333,\"#9c179e\"],[0.4444444444444444,\"#bd3786\"],[0.5555555555555556,\"#d8576b\"],[0.6666666666666666,\"#ed7953\"],[0.7777777777777778,\"#fb9f3a\"],[0.8888888888888888,\"#fdca26\"],[1.0,\"#f0f921\"]]},\"colorway\":[\"#636efa\",\"#EF553B\",\"#00cc96\",\"#ab63fa\",\"#FFA15A\",\"#19d3f3\",\"#FF6692\",\"#B6E880\",\"#FF97FF\",\"#FECB52\"],\"font\":{\"color\":\"#2a3f5f\"},\"geo\":{\"bgcolor\":\"white\",\"lakecolor\":\"white\",\"landcolor\":\"white\",\"showlakes\":true,\"showland\":true,\"subunitcolor\":\"#C8D4E3\"},\"hoverlabel\":{\"align\":\"left\"},\"hovermode\":\"closest\",\"mapbox\":{\"style\":\"light\"},\"paper_bgcolor\":\"white\",\"plot_bgcolor\":\"white\",\"polar\":{\"angularaxis\":{\"gridcolor\":\"#EBF0F8\",\"linecolor\":\"#EBF0F8\",\"ticks\":\"\"},\"bgcolor\":\"white\",\"radialaxis\":{\"gridcolor\":\"#EBF0F8\",\"linecolor\":\"#EBF0F8\",\"ticks\":\"\"}},\"scene\":{\"xaxis\":{\"backgroundcolor\":\"white\",\"gridcolor\":\"#DFE8F3\",\"gridwidth\":2,\"linecolor\":\"#EBF0F8\",\"showbackground\":true,\"ticks\":\"\",\"zerolinecolor\":\"#EBF0F8\"},\"yaxis\":{\"backgroundcolor\":\"white\",\"gridcolor\":\"#DFE8F3\",\"gridwidth\":2,\"linecolor\":\"#EBF0F8\",\"showbackground\":true,\"ticks\":\"\",\"zerolinecolor\":\"#EBF0F8\"},\"zaxis\":{\"backgroundcolor\":\"white\",\"gridcolor\":\"#DFE8F3\",\"gridwidth\":2,\"linecolor\":\"#EBF0F8\",\"showbackground\":true,\"ticks\":\"\",\"zerolinecolor\":\"#EBF0F8\"}},\"shapedefaults\":{\"line\":{\"color\":\"#2a3f5f\"}},\"ternary\":{\"aaxis\":{\"gridcolor\":\"#DFE8F3\",\"linecolor\":\"#A2B1C6\",\"ticks\":\"\"},\"baxis\":{\"gridcolor\":\"#DFE8F3\",\"linecolor\":\"#A2B1C6\",\"ticks\":\"\"},\"bgcolor\":\"white\",\"caxis\":{\"gridcolor\":\"#DFE8F3\",\"linecolor\":\"#A2B1C6\",\"ticks\":\"\"}},\"title\":{\"x\":0.05},\"xaxis\":{\"automargin\":true,\"gridcolor\":\"#EBF0F8\",\"linecolor\":\"#EBF0F8\",\"ticks\":\"\",\"title\":{\"standoff\":15},\"zerolinecolor\":\"#EBF0F8\",\"zerolinewidth\":2},\"yaxis\":{\"automargin\":true,\"gridcolor\":\"#EBF0F8\",\"linecolor\":\"#EBF0F8\",\"ticks\":\"\",\"title\":{\"standoff\":15},\"zerolinecolor\":\"#EBF0F8\",\"zerolinewidth\":2}}},\"title\":{\"text\":\"Cross-Validation (N=5) Mean F1 score with Error Bands\"},\"xaxis\":{\"title\":{\"text\":\"Training Steps\"}},\"yaxis\":{\"title\":{\"text\":\"Performance Score\"},\"range\":[0.5,1]}},                        {\"responsive\": true}                    ).then(function(){\n",
       "                            \n",
       "var gd = document.getElementById('9dce8e47-e6d5-4a39-b817-832f02cc3311');\n",
       "var x = new MutationObserver(function (mutations, observer) {{\n",
       "        var display = window.getComputedStyle(gd).display;\n",
       "        if (!display || display === 'none') {{\n",
       "            console.log([gd, 'removed!']);\n",
       "            Plotly.purge(gd);\n",
       "            observer.disconnect();\n",
       "        }}\n",
       "}});\n",
       "\n",
       "// Listen for the removal of the full notebook cells\n",
       "var notebookContainer = gd.closest('#notebook-container');\n",
       "if (notebookContainer) {{\n",
       "    x.observe(notebookContainer, {childList: true});\n",
       "}}\n",
       "\n",
       "// Listen for the clearing of the current output cell\n",
       "var outputEl = gd.closest('.output');\n",
       "if (outputEl) {{\n",
       "    x.observe(outputEl, {childList: true});\n",
       "}}\n",
       "\n",
       "                        })                };                });            </script>        </div>"
      ]
     },
     "metadata": {},
     "output_type": "display_data"
    }
   ],
   "source": [
    "from ARISA_DSML.train import plot_error_scatter\n",
    "cv_results = pd.read_csv(cv_output_path)\n",
    "plot_error_scatter(\n",
    "    df_plot=cv_results,\n",
    "    name=\"Mean F1 Score\",\n",
    "    title=\"Cross-Validation (N=5) Mean F1 score with Error Bands\",\n",
    "    xtitle=\"Training Steps\",\n",
    "    ytitle=\"Performance Score\",\n",
    "    yaxis_range=[0.5, 1],\n",
    ")"
   ]
  },
  {
   "cell_type": "code",
   "execution_count": null,
   "metadata": {},
   "outputs": [
    {
     "data": {
      "application/vnd.plotly.v1+json": {
       "config": {
        "plotlyServerURL": "https://plot.ly"
       },
       "data": [
        {
         "line": {
          "color": "blue"
         },
         "mode": "lines",
         "name": "Mean logloss",
         "type": "scatter",
         "x": [
          0,
          1,
          2,
          3,
          4,
          5,
          6,
          7,
          8,
          9,
          10,
          11,
          12,
          13,
          14,
          15,
          16,
          17,
          18,
          19,
          20,
          21,
          22,
          23,
          24,
          25,
          26,
          27,
          28,
          29,
          30,
          31,
          32,
          33,
          34,
          35,
          36,
          37,
          38,
          39,
          40,
          41,
          42,
          43,
          44,
          45,
          46,
          47,
          48,
          49,
          50,
          51,
          52,
          53,
          54,
          55,
          56,
          57,
          58,
          59,
          60,
          61,
          62,
          63,
          64,
          65,
          66,
          67,
          68,
          69,
          70,
          71,
          72,
          73,
          74,
          75,
          76,
          77,
          78,
          79,
          80,
          81,
          82,
          83,
          84,
          85,
          86,
          87,
          88,
          89,
          90,
          91,
          92,
          93,
          94,
          95,
          96,
          97,
          98,
          99,
          100,
          101,
          102,
          103,
          104,
          105,
          106,
          107,
          108,
          109,
          110,
          111,
          112,
          113,
          114,
          115,
          116,
          117,
          118,
          119,
          120,
          121,
          122,
          123
         ],
         "y": [
          0.2711255577636066,
          0.1222877357253707,
          0.0645381935276502,
          0.0377379165038937,
          0.0310291872701033,
          0.0240783027968858,
          0.0207127871001906,
          0.017967443705339,
          0.0161011503043023,
          0.0151830295644431,
          0.0144819874391178,
          0.0133409127832384,
          0.0122430061546699,
          0.0118320830386068,
          0.0116050316300795,
          0.0113148043429019,
          0.0112036347748444,
          0.0112034498202727,
          0.0111842788712399,
          0.0111660585252188,
          0.011056481916448,
          0.0110563598160969,
          0.0110562069226778,
          0.0110561612429767,
          0.011056056835009,
          0.0110560352211583,
          0.0110559962306547,
          0.0110559766734119,
          0.0110559576733145,
          0.0110559576733145,
          0.0110559410233232,
          0.0110559410233232,
          0.0110558680567089,
          0.0110557951085161,
          0.0110557951085161,
          0.0110557951085161,
          0.0110557951085161,
          0.0110557951085161,
          0.0110557951085161,
          0.0110557951085161,
          0.0110557951085161,
          0.0110557951085161,
          0.0110557951085161,
          0.0110557951085161,
          0.0110557951085161,
          0.0110557951085161,
          0.0110557951085161,
          0.0110557951085161,
          0.0110557951085161,
          0.0110557951085161,
          0.0110557951085161,
          0.0110557951085161,
          0.0110557951085161,
          0.0110557951085161,
          0.0110557726928863,
          0.0110557531494158,
          0.0110557414738292,
          0.0110557414738292,
          0.0110557414738292,
          0.0110557414738292,
          0.0110557414738292,
          0.0110557414738292,
          0.0110557414738292,
          0.0110557304664051,
          0.0110557304664051,
          0.0110557304664051,
          0.0110557304664051,
          0.0110557304664051,
          0.0110557304664051,
          0.0110557304664051,
          0.0110557304664051,
          0.0110557304664051,
          0.0110557304664051,
          0.0110557304664051,
          0.0110557304664051,
          0.0110557304664051,
          0.0110557304664051,
          0.0110557304664051,
          0.0110557304664051,
          0.0110557304664051,
          0.0110557304664051,
          0.0110557304664051,
          0.0110557304664051,
          0.0110557304664051,
          0.0110557304664051,
          0.0110557304664051,
          0.0110557304664051,
          0.0110557304664051,
          0.0110557304664051,
          0.0110557304664051,
          0.0110557304664051,
          0.0110557304664051,
          0.0110557304664051,
          0.0110557304664051,
          0.0110557304664051,
          0.0110557304664051,
          0.0110557304664051,
          0.0110557304664051,
          0.0110557304664051,
          0.0110557304664051,
          0.0110557304664051,
          0.0110557304664051,
          0.0110557304664051,
          0.0110557304664051,
          0.0110557304664051,
          0.0110557304664051,
          0.0110557304664051,
          0.0110557304664051,
          0.0110557304664051,
          0.0110557304664051,
          0.0110557304664051,
          0.0110557304664051,
          0.0110557304664051,
          0.0110557304664051,
          0.0110557304664051,
          0.0110557304664051,
          0.0110557304664051,
          0.0110557304664051,
          0.0110557266311488,
          0.0110557266311488,
          0.0110557266311488,
          0.0110557266311488,
          0.0110557266311488,
          0.0110557266311488
         ]
        },
        {
         "fill": "toself",
         "fillcolor": "rgba(0, 0, 255, 0.2)",
         "line": {
          "color": "rgba(255, 255, 255, 0)"
         },
         "showlegend": false,
         "type": "scatter",
         "x": [
          0,
          1,
          2,
          3,
          4,
          5,
          6,
          7,
          8,
          9,
          10,
          11,
          12,
          13,
          14,
          15,
          16,
          17,
          18,
          19,
          20,
          21,
          22,
          23,
          24,
          25,
          26,
          27,
          28,
          29,
          30,
          31,
          32,
          33,
          34,
          35,
          36,
          37,
          38,
          39,
          40,
          41,
          42,
          43,
          44,
          45,
          46,
          47,
          48,
          49,
          50,
          51,
          52,
          53,
          54,
          55,
          56,
          57,
          58,
          59,
          60,
          61,
          62,
          63,
          64,
          65,
          66,
          67,
          68,
          69,
          70,
          71,
          72,
          73,
          74,
          75,
          76,
          77,
          78,
          79,
          80,
          81,
          82,
          83,
          84,
          85,
          86,
          87,
          88,
          89,
          90,
          91,
          92,
          93,
          94,
          95,
          96,
          97,
          98,
          99,
          100,
          101,
          102,
          103,
          104,
          105,
          106,
          107,
          108,
          109,
          110,
          111,
          112,
          113,
          114,
          115,
          116,
          117,
          118,
          119,
          120,
          121,
          122,
          123,
          123,
          122,
          121,
          120,
          119,
          118,
          117,
          116,
          115,
          114,
          113,
          112,
          111,
          110,
          109,
          108,
          107,
          106,
          105,
          104,
          103,
          102,
          101,
          100,
          99,
          98,
          97,
          96,
          95,
          94,
          93,
          92,
          91,
          90,
          89,
          88,
          87,
          86,
          85,
          84,
          83,
          82,
          81,
          80,
          79,
          78,
          77,
          76,
          75,
          74,
          73,
          72,
          71,
          70,
          69,
          68,
          67,
          66,
          65,
          64,
          63,
          62,
          61,
          60,
          59,
          58,
          57,
          56,
          55,
          54,
          53,
          52,
          51,
          50,
          49,
          48,
          47,
          46,
          45,
          44,
          43,
          42,
          41,
          40,
          39,
          38,
          37,
          36,
          35,
          34,
          33,
          32,
          31,
          30,
          29,
          28,
          27,
          26,
          25,
          24,
          23,
          22,
          21,
          20,
          19,
          18,
          17,
          16,
          15,
          14,
          13,
          12,
          11,
          10,
          9,
          8,
          7,
          6,
          5,
          4,
          3,
          2,
          1,
          0
         ],
         "y": [
          0.36265961597441837,
          0.1997519773321335,
          0.1049813065971815,
          0.0639840545898802,
          0.056785605662561606,
          0.044639448248445,
          0.0394797899017279,
          0.0347982709289168,
          0.0318362516392482,
          0.0306298349088956,
          0.0293524822738066,
          0.0270497336457531,
          0.024975708084852,
          0.0243864125747994,
          0.0239548031883304,
          0.0234187741981755,
          0.0233845609264019,
          0.0233843711573811,
          0.0233613498717683,
          0.023362111666865498,
          0.023325221636693,
          0.0233249953042668,
          0.0233246858502499,
          0.0233246835697852,
          0.0233246114319556,
          0.023324611609113602,
          0.0233246119290832,
          0.0233246120897627,
          0.0233246122459835,
          0.0233246122459835,
          0.023324612382978,
          0.023324612382978,
          0.0233245892933244,
          0.0233245662114663,
          0.0233245662114663,
          0.0233245662114663,
          0.0233245662114663,
          0.0233245662114663,
          0.0233245662114663,
          0.0233245662114663,
          0.0233245662114663,
          0.0233245662114663,
          0.0233245662114663,
          0.0233245662114663,
          0.0233245662114663,
          0.0233245662114663,
          0.0233245662114663,
          0.0233245662114663,
          0.0233245662114663,
          0.0233245662114663,
          0.0233245662114663,
          0.0233245662114663,
          0.0233245662114663,
          0.0233245662114663,
          0.0233245663955251,
          0.023324566556133103,
          0.0233245666521422,
          0.0233245666521422,
          0.0233245666521422,
          0.0233245666521422,
          0.0233245666521422,
          0.0233245666521422,
          0.0233245666521422,
          0.023324566742697297,
          0.023324566742697297,
          0.023324566742697297,
          0.023324566742697297,
          0.023324566742697297,
          0.023324566742697297,
          0.023324566742697297,
          0.023324566742697297,
          0.023324566742697297,
          0.023324566742697297,
          0.023324566742697297,
          0.023324566742697297,
          0.023324566742697297,
          0.023324566742697297,
          0.023324566742697297,
          0.023324566742697297,
          0.023324566742697297,
          0.023324566742697297,
          0.023324566742697297,
          0.023324566742697297,
          0.023324566742697297,
          0.023324566742697297,
          0.023324566742697297,
          0.023324566742697297,
          0.023324566742697297,
          0.023324566742697297,
          0.023324566742697297,
          0.023324566742697297,
          0.023324566742697297,
          0.023324566742697297,
          0.023324566742697297,
          0.023324566742697297,
          0.023324566742697297,
          0.023324566742697297,
          0.023324566742697297,
          0.023324566742697297,
          0.023324566742697297,
          0.023324566742697297,
          0.023324566742697297,
          0.023324566742697297,
          0.023324566742697297,
          0.023324566742697297,
          0.023324566742697297,
          0.023324566742697297,
          0.023324566742697297,
          0.023324566742697297,
          0.023324566742697297,
          0.023324566742697297,
          0.023324566742697297,
          0.023324566742697297,
          0.023324566742697297,
          0.023324566742697297,
          0.023324566742697297,
          0.023324566742697297,
          0.023324566742697297,
          0.0233245667742582,
          0.0233245667742582,
          0.0233245667742582,
          0.0233245667742582,
          0.0233245667742582,
          0.0233245667742582,
          0.1795914995527948,
          0.04482349411860791,
          0.024095080458118895,
          0.0114917784179072,
          0.005272768877644999,
          0.0035171573453266006,
          0.001945784298653299,
          0.001136616481761197,
          0.00036604896935640147,
          -0.0002637757800093999,
          -0.00038850739557100104,
          -0.0003679080792763009,
          -0.0004896957755122014,
          -0.0007222464975858,
          -0.0007447399281713986,
          -0.0007891655123716985,
          -0.0009772913767131016,
          -0.0009774715168356998,
          -0.0009927921292884993,
          -0.0010299946164278994,
          -0.001212257803796999,
          -0.0012122756720730002,
          -0.0012122720048943006,
          -0.0012123610838318012,
          -0.0012124977619376014,
          -0.001212541166796999,
          -0.0012126194677737987,
          -0.0012126587429388998,
          -0.0012126968993544998,
          -0.0012126968993544998,
          -0.0012127303363316001,
          -0.0012127303363316001,
          -0.0012128531799065999,
          -0.0012129759944340991,
          -0.0012129759944340991,
          -0.0012129759944340991,
          -0.0012129759944340991,
          -0.0012129759944340991,
          -0.0012129759944340991,
          -0.0012129759944340991,
          -0.0012129759944340991,
          -0.0012129759944340991,
          -0.0012129759944340991,
          -0.0012129759944340991,
          -0.0012129759944340991,
          -0.0012129759944340991,
          -0.0012129759944340991,
          -0.0012129759944340991,
          -0.0012129759944340991,
          -0.0012129759944340991,
          -0.0012129759944340991,
          -0.0012129759944340991,
          -0.0012129759944340991,
          -0.0012129759944340991,
          -0.001213021009752499,
          -0.0012130602573014997,
          -0.0012130837044837996,
          -0.0012130837044837996,
          -0.0012130837044837996,
          -0.0012130837044837996,
          -0.0012130837044837996,
          -0.0012130837044837996,
          -0.0012130837044837996,
          -0.0012131058098870991,
          -0.0012131058098870991,
          -0.0012131058098870991,
          -0.0012131058098870991,
          -0.0012131058098870991,
          -0.0012131058098870991,
          -0.0012131058098870991,
          -0.0012131058098870991,
          -0.0012131058098870991,
          -0.0012131058098870991,
          -0.0012131058098870991,
          -0.0012131058098870991,
          -0.0012131058098870991,
          -0.0012131058098870991,
          -0.0012131058098870991,
          -0.0012131058098870991,
          -0.0012131058098870991,
          -0.0012131058098870991,
          -0.0012131058098870991,
          -0.0012131058098870991,
          -0.0012131058098870991,
          -0.0012131058098870991,
          -0.0012131058098870991,
          -0.0012131058098870991,
          -0.0012131058098870991,
          -0.0012131058098870991,
          -0.0012131058098870991,
          -0.0012131058098870991,
          -0.0012131058098870991,
          -0.0012131058098870991,
          -0.0012131058098870991,
          -0.0012131058098870991,
          -0.0012131058098870991,
          -0.0012131058098870991,
          -0.0012131058098870991,
          -0.0012131058098870991,
          -0.0012131058098870991,
          -0.0012131058098870991,
          -0.0012131058098870991,
          -0.0012131058098870991,
          -0.0012131058098870991,
          -0.0012131058098870991,
          -0.0012131058098870991,
          -0.0012131058098870991,
          -0.0012131058098870991,
          -0.0012131058098870991,
          -0.0012131058098870991,
          -0.0012131058098870991,
          -0.0012131058098870991,
          -0.0012131058098870991,
          -0.0012131058098870991,
          -0.0012131058098870991,
          -0.0012131058098870991,
          -0.0012131058098870991,
          -0.0012131058098870991,
          -0.0012131135119606007,
          -0.0012131135119606007,
          -0.0012131135119606007,
          -0.0012131135119606007,
          -0.0012131135119606007,
          -0.0012131135119606007
         ]
        }
       ],
       "layout": {
        "template": {
         "data": {
          "bar": [
           {
            "error_x": {
             "color": "#2a3f5f"
            },
            "error_y": {
             "color": "#2a3f5f"
            },
            "marker": {
             "line": {
              "color": "white",
              "width": 0.5
             },
             "pattern": {
              "fillmode": "overlay",
              "size": 10,
              "solidity": 0.2
             }
            },
            "type": "bar"
           }
          ],
          "barpolar": [
           {
            "marker": {
             "line": {
              "color": "white",
              "width": 0.5
             },
             "pattern": {
              "fillmode": "overlay",
              "size": 10,
              "solidity": 0.2
             }
            },
            "type": "barpolar"
           }
          ],
          "carpet": [
           {
            "aaxis": {
             "endlinecolor": "#2a3f5f",
             "gridcolor": "#C8D4E3",
             "linecolor": "#C8D4E3",
             "minorgridcolor": "#C8D4E3",
             "startlinecolor": "#2a3f5f"
            },
            "baxis": {
             "endlinecolor": "#2a3f5f",
             "gridcolor": "#C8D4E3",
             "linecolor": "#C8D4E3",
             "minorgridcolor": "#C8D4E3",
             "startlinecolor": "#2a3f5f"
            },
            "type": "carpet"
           }
          ],
          "choropleth": [
           {
            "colorbar": {
             "outlinewidth": 0,
             "ticks": ""
            },
            "type": "choropleth"
           }
          ],
          "contour": [
           {
            "colorbar": {
             "outlinewidth": 0,
             "ticks": ""
            },
            "colorscale": [
             [
              0,
              "#0d0887"
             ],
             [
              0.1111111111111111,
              "#46039f"
             ],
             [
              0.2222222222222222,
              "#7201a8"
             ],
             [
              0.3333333333333333,
              "#9c179e"
             ],
             [
              0.4444444444444444,
              "#bd3786"
             ],
             [
              0.5555555555555556,
              "#d8576b"
             ],
             [
              0.6666666666666666,
              "#ed7953"
             ],
             [
              0.7777777777777778,
              "#fb9f3a"
             ],
             [
              0.8888888888888888,
              "#fdca26"
             ],
             [
              1,
              "#f0f921"
             ]
            ],
            "type": "contour"
           }
          ],
          "contourcarpet": [
           {
            "colorbar": {
             "outlinewidth": 0,
             "ticks": ""
            },
            "type": "contourcarpet"
           }
          ],
          "heatmap": [
           {
            "colorbar": {
             "outlinewidth": 0,
             "ticks": ""
            },
            "colorscale": [
             [
              0,
              "#0d0887"
             ],
             [
              0.1111111111111111,
              "#46039f"
             ],
             [
              0.2222222222222222,
              "#7201a8"
             ],
             [
              0.3333333333333333,
              "#9c179e"
             ],
             [
              0.4444444444444444,
              "#bd3786"
             ],
             [
              0.5555555555555556,
              "#d8576b"
             ],
             [
              0.6666666666666666,
              "#ed7953"
             ],
             [
              0.7777777777777778,
              "#fb9f3a"
             ],
             [
              0.8888888888888888,
              "#fdca26"
             ],
             [
              1,
              "#f0f921"
             ]
            ],
            "type": "heatmap"
           }
          ],
          "heatmapgl": [
           {
            "colorbar": {
             "outlinewidth": 0,
             "ticks": ""
            },
            "colorscale": [
             [
              0,
              "#0d0887"
             ],
             [
              0.1111111111111111,
              "#46039f"
             ],
             [
              0.2222222222222222,
              "#7201a8"
             ],
             [
              0.3333333333333333,
              "#9c179e"
             ],
             [
              0.4444444444444444,
              "#bd3786"
             ],
             [
              0.5555555555555556,
              "#d8576b"
             ],
             [
              0.6666666666666666,
              "#ed7953"
             ],
             [
              0.7777777777777778,
              "#fb9f3a"
             ],
             [
              0.8888888888888888,
              "#fdca26"
             ],
             [
              1,
              "#f0f921"
             ]
            ],
            "type": "heatmapgl"
           }
          ],
          "histogram": [
           {
            "marker": {
             "pattern": {
              "fillmode": "overlay",
              "size": 10,
              "solidity": 0.2
             }
            },
            "type": "histogram"
           }
          ],
          "histogram2d": [
           {
            "colorbar": {
             "outlinewidth": 0,
             "ticks": ""
            },
            "colorscale": [
             [
              0,
              "#0d0887"
             ],
             [
              0.1111111111111111,
              "#46039f"
             ],
             [
              0.2222222222222222,
              "#7201a8"
             ],
             [
              0.3333333333333333,
              "#9c179e"
             ],
             [
              0.4444444444444444,
              "#bd3786"
             ],
             [
              0.5555555555555556,
              "#d8576b"
             ],
             [
              0.6666666666666666,
              "#ed7953"
             ],
             [
              0.7777777777777778,
              "#fb9f3a"
             ],
             [
              0.8888888888888888,
              "#fdca26"
             ],
             [
              1,
              "#f0f921"
             ]
            ],
            "type": "histogram2d"
           }
          ],
          "histogram2dcontour": [
           {
            "colorbar": {
             "outlinewidth": 0,
             "ticks": ""
            },
            "colorscale": [
             [
              0,
              "#0d0887"
             ],
             [
              0.1111111111111111,
              "#46039f"
             ],
             [
              0.2222222222222222,
              "#7201a8"
             ],
             [
              0.3333333333333333,
              "#9c179e"
             ],
             [
              0.4444444444444444,
              "#bd3786"
             ],
             [
              0.5555555555555556,
              "#d8576b"
             ],
             [
              0.6666666666666666,
              "#ed7953"
             ],
             [
              0.7777777777777778,
              "#fb9f3a"
             ],
             [
              0.8888888888888888,
              "#fdca26"
             ],
             [
              1,
              "#f0f921"
             ]
            ],
            "type": "histogram2dcontour"
           }
          ],
          "mesh3d": [
           {
            "colorbar": {
             "outlinewidth": 0,
             "ticks": ""
            },
            "type": "mesh3d"
           }
          ],
          "parcoords": [
           {
            "line": {
             "colorbar": {
              "outlinewidth": 0,
              "ticks": ""
             }
            },
            "type": "parcoords"
           }
          ],
          "pie": [
           {
            "automargin": true,
            "type": "pie"
           }
          ],
          "scatter": [
           {
            "fillpattern": {
             "fillmode": "overlay",
             "size": 10,
             "solidity": 0.2
            },
            "type": "scatter"
           }
          ],
          "scatter3d": [
           {
            "line": {
             "colorbar": {
              "outlinewidth": 0,
              "ticks": ""
             }
            },
            "marker": {
             "colorbar": {
              "outlinewidth": 0,
              "ticks": ""
             }
            },
            "type": "scatter3d"
           }
          ],
          "scattercarpet": [
           {
            "marker": {
             "colorbar": {
              "outlinewidth": 0,
              "ticks": ""
             }
            },
            "type": "scattercarpet"
           }
          ],
          "scattergeo": [
           {
            "marker": {
             "colorbar": {
              "outlinewidth": 0,
              "ticks": ""
             }
            },
            "type": "scattergeo"
           }
          ],
          "scattergl": [
           {
            "marker": {
             "colorbar": {
              "outlinewidth": 0,
              "ticks": ""
             }
            },
            "type": "scattergl"
           }
          ],
          "scattermapbox": [
           {
            "marker": {
             "colorbar": {
              "outlinewidth": 0,
              "ticks": ""
             }
            },
            "type": "scattermapbox"
           }
          ],
          "scatterpolar": [
           {
            "marker": {
             "colorbar": {
              "outlinewidth": 0,
              "ticks": ""
             }
            },
            "type": "scatterpolar"
           }
          ],
          "scatterpolargl": [
           {
            "marker": {
             "colorbar": {
              "outlinewidth": 0,
              "ticks": ""
             }
            },
            "type": "scatterpolargl"
           }
          ],
          "scatterternary": [
           {
            "marker": {
             "colorbar": {
              "outlinewidth": 0,
              "ticks": ""
             }
            },
            "type": "scatterternary"
           }
          ],
          "surface": [
           {
            "colorbar": {
             "outlinewidth": 0,
             "ticks": ""
            },
            "colorscale": [
             [
              0,
              "#0d0887"
             ],
             [
              0.1111111111111111,
              "#46039f"
             ],
             [
              0.2222222222222222,
              "#7201a8"
             ],
             [
              0.3333333333333333,
              "#9c179e"
             ],
             [
              0.4444444444444444,
              "#bd3786"
             ],
             [
              0.5555555555555556,
              "#d8576b"
             ],
             [
              0.6666666666666666,
              "#ed7953"
             ],
             [
              0.7777777777777778,
              "#fb9f3a"
             ],
             [
              0.8888888888888888,
              "#fdca26"
             ],
             [
              1,
              "#f0f921"
             ]
            ],
            "type": "surface"
           }
          ],
          "table": [
           {
            "cells": {
             "fill": {
              "color": "#EBF0F8"
             },
             "line": {
              "color": "white"
             }
            },
            "header": {
             "fill": {
              "color": "#C8D4E3"
             },
             "line": {
              "color": "white"
             }
            },
            "type": "table"
           }
          ]
         },
         "layout": {
          "annotationdefaults": {
           "arrowcolor": "#2a3f5f",
           "arrowhead": 0,
           "arrowwidth": 1
          },
          "autotypenumbers": "strict",
          "coloraxis": {
           "colorbar": {
            "outlinewidth": 0,
            "ticks": ""
           }
          },
          "colorscale": {
           "diverging": [
            [
             0,
             "#8e0152"
            ],
            [
             0.1,
             "#c51b7d"
            ],
            [
             0.2,
             "#de77ae"
            ],
            [
             0.3,
             "#f1b6da"
            ],
            [
             0.4,
             "#fde0ef"
            ],
            [
             0.5,
             "#f7f7f7"
            ],
            [
             0.6,
             "#e6f5d0"
            ],
            [
             0.7,
             "#b8e186"
            ],
            [
             0.8,
             "#7fbc41"
            ],
            [
             0.9,
             "#4d9221"
            ],
            [
             1,
             "#276419"
            ]
           ],
           "sequential": [
            [
             0,
             "#0d0887"
            ],
            [
             0.1111111111111111,
             "#46039f"
            ],
            [
             0.2222222222222222,
             "#7201a8"
            ],
            [
             0.3333333333333333,
             "#9c179e"
            ],
            [
             0.4444444444444444,
             "#bd3786"
            ],
            [
             0.5555555555555556,
             "#d8576b"
            ],
            [
             0.6666666666666666,
             "#ed7953"
            ],
            [
             0.7777777777777778,
             "#fb9f3a"
            ],
            [
             0.8888888888888888,
             "#fdca26"
            ],
            [
             1,
             "#f0f921"
            ]
           ],
           "sequentialminus": [
            [
             0,
             "#0d0887"
            ],
            [
             0.1111111111111111,
             "#46039f"
            ],
            [
             0.2222222222222222,
             "#7201a8"
            ],
            [
             0.3333333333333333,
             "#9c179e"
            ],
            [
             0.4444444444444444,
             "#bd3786"
            ],
            [
             0.5555555555555556,
             "#d8576b"
            ],
            [
             0.6666666666666666,
             "#ed7953"
            ],
            [
             0.7777777777777778,
             "#fb9f3a"
            ],
            [
             0.8888888888888888,
             "#fdca26"
            ],
            [
             1,
             "#f0f921"
            ]
           ]
          },
          "colorway": [
           "#636efa",
           "#EF553B",
           "#00cc96",
           "#ab63fa",
           "#FFA15A",
           "#19d3f3",
           "#FF6692",
           "#B6E880",
           "#FF97FF",
           "#FECB52"
          ],
          "font": {
           "color": "#2a3f5f"
          },
          "geo": {
           "bgcolor": "white",
           "lakecolor": "white",
           "landcolor": "white",
           "showlakes": true,
           "showland": true,
           "subunitcolor": "#C8D4E3"
          },
          "hoverlabel": {
           "align": "left"
          },
          "hovermode": "closest",
          "mapbox": {
           "style": "light"
          },
          "paper_bgcolor": "white",
          "plot_bgcolor": "white",
          "polar": {
           "angularaxis": {
            "gridcolor": "#EBF0F8",
            "linecolor": "#EBF0F8",
            "ticks": ""
           },
           "bgcolor": "white",
           "radialaxis": {
            "gridcolor": "#EBF0F8",
            "linecolor": "#EBF0F8",
            "ticks": ""
           }
          },
          "scene": {
           "xaxis": {
            "backgroundcolor": "white",
            "gridcolor": "#DFE8F3",
            "gridwidth": 2,
            "linecolor": "#EBF0F8",
            "showbackground": true,
            "ticks": "",
            "zerolinecolor": "#EBF0F8"
           },
           "yaxis": {
            "backgroundcolor": "white",
            "gridcolor": "#DFE8F3",
            "gridwidth": 2,
            "linecolor": "#EBF0F8",
            "showbackground": true,
            "ticks": "",
            "zerolinecolor": "#EBF0F8"
           },
           "zaxis": {
            "backgroundcolor": "white",
            "gridcolor": "#DFE8F3",
            "gridwidth": 2,
            "linecolor": "#EBF0F8",
            "showbackground": true,
            "ticks": "",
            "zerolinecolor": "#EBF0F8"
           }
          },
          "shapedefaults": {
           "line": {
            "color": "#2a3f5f"
           }
          },
          "ternary": {
           "aaxis": {
            "gridcolor": "#DFE8F3",
            "linecolor": "#A2B1C6",
            "ticks": ""
           },
           "baxis": {
            "gridcolor": "#DFE8F3",
            "linecolor": "#A2B1C6",
            "ticks": ""
           },
           "bgcolor": "white",
           "caxis": {
            "gridcolor": "#DFE8F3",
            "linecolor": "#A2B1C6",
            "ticks": ""
           }
          },
          "title": {
           "x": 0.05
          },
          "xaxis": {
           "automargin": true,
           "gridcolor": "#EBF0F8",
           "linecolor": "#EBF0F8",
           "ticks": "",
           "title": {
            "standoff": 15
           },
           "zerolinecolor": "#EBF0F8",
           "zerolinewidth": 2
          },
          "yaxis": {
           "automargin": true,
           "gridcolor": "#EBF0F8",
           "linecolor": "#EBF0F8",
           "ticks": "",
           "title": {
            "standoff": 15
           },
           "zerolinecolor": "#EBF0F8",
           "zerolinewidth": 2
          }
         }
        },
        "title": {
         "text": "Cross-Validation (N=5) Mean Logloss with Error Bands"
        },
        "xaxis": {
         "title": {
          "text": "Training Steps"
         }
        },
        "yaxis": {
         "title": {
          "text": "Logloss"
         }
        }
       }
      },
      "text/html": [
       "<div>                            <div id=\"265a4555-ede1-4e6d-ae4f-844bc34c8c09\" class=\"plotly-graph-div\" style=\"height:525px; width:100%;\"></div>            <script type=\"text/javascript\">                require([\"plotly\"], function(Plotly) {                    window.PLOTLYENV=window.PLOTLYENV || {};                                    if (document.getElementById(\"265a4555-ede1-4e6d-ae4f-844bc34c8c09\")) {                    Plotly.newPlot(                        \"265a4555-ede1-4e6d-ae4f-844bc34c8c09\",                        [{\"line\":{\"color\":\"blue\"},\"mode\":\"lines\",\"name\":\"Mean logloss\",\"x\":[0,1,2,3,4,5,6,7,8,9,10,11,12,13,14,15,16,17,18,19,20,21,22,23,24,25,26,27,28,29,30,31,32,33,34,35,36,37,38,39,40,41,42,43,44,45,46,47,48,49,50,51,52,53,54,55,56,57,58,59,60,61,62,63,64,65,66,67,68,69,70,71,72,73,74,75,76,77,78,79,80,81,82,83,84,85,86,87,88,89,90,91,92,93,94,95,96,97,98,99,100,101,102,103,104,105,106,107,108,109,110,111,112,113,114,115,116,117,118,119,120,121,122,123],\"y\":[0.2711255577636066,0.1222877357253707,0.0645381935276502,0.0377379165038937,0.0310291872701033,0.0240783027968858,0.0207127871001906,0.017967443705339,0.0161011503043023,0.0151830295644431,0.0144819874391178,0.0133409127832384,0.0122430061546699,0.0118320830386068,0.0116050316300795,0.0113148043429019,0.0112036347748444,0.0112034498202727,0.0111842788712399,0.0111660585252188,0.011056481916448,0.0110563598160969,0.0110562069226778,0.0110561612429767,0.011056056835009,0.0110560352211583,0.0110559962306547,0.0110559766734119,0.0110559576733145,0.0110559576733145,0.0110559410233232,0.0110559410233232,0.0110558680567089,0.0110557951085161,0.0110557951085161,0.0110557951085161,0.0110557951085161,0.0110557951085161,0.0110557951085161,0.0110557951085161,0.0110557951085161,0.0110557951085161,0.0110557951085161,0.0110557951085161,0.0110557951085161,0.0110557951085161,0.0110557951085161,0.0110557951085161,0.0110557951085161,0.0110557951085161,0.0110557951085161,0.0110557951085161,0.0110557951085161,0.0110557951085161,0.0110557726928863,0.0110557531494158,0.0110557414738292,0.0110557414738292,0.0110557414738292,0.0110557414738292,0.0110557414738292,0.0110557414738292,0.0110557414738292,0.0110557304664051,0.0110557304664051,0.0110557304664051,0.0110557304664051,0.0110557304664051,0.0110557304664051,0.0110557304664051,0.0110557304664051,0.0110557304664051,0.0110557304664051,0.0110557304664051,0.0110557304664051,0.0110557304664051,0.0110557304664051,0.0110557304664051,0.0110557304664051,0.0110557304664051,0.0110557304664051,0.0110557304664051,0.0110557304664051,0.0110557304664051,0.0110557304664051,0.0110557304664051,0.0110557304664051,0.0110557304664051,0.0110557304664051,0.0110557304664051,0.0110557304664051,0.0110557304664051,0.0110557304664051,0.0110557304664051,0.0110557304664051,0.0110557304664051,0.0110557304664051,0.0110557304664051,0.0110557304664051,0.0110557304664051,0.0110557304664051,0.0110557304664051,0.0110557304664051,0.0110557304664051,0.0110557304664051,0.0110557304664051,0.0110557304664051,0.0110557304664051,0.0110557304664051,0.0110557304664051,0.0110557304664051,0.0110557304664051,0.0110557304664051,0.0110557304664051,0.0110557304664051,0.0110557304664051,0.0110557304664051,0.0110557304664051,0.0110557266311488,0.0110557266311488,0.0110557266311488,0.0110557266311488,0.0110557266311488,0.0110557266311488],\"type\":\"scatter\"},{\"fill\":\"toself\",\"fillcolor\":\"rgba(0, 0, 255, 0.2)\",\"line\":{\"color\":\"rgba(255, 255, 255, 0)\"},\"showlegend\":false,\"x\":[0,1,2,3,4,5,6,7,8,9,10,11,12,13,14,15,16,17,18,19,20,21,22,23,24,25,26,27,28,29,30,31,32,33,34,35,36,37,38,39,40,41,42,43,44,45,46,47,48,49,50,51,52,53,54,55,56,57,58,59,60,61,62,63,64,65,66,67,68,69,70,71,72,73,74,75,76,77,78,79,80,81,82,83,84,85,86,87,88,89,90,91,92,93,94,95,96,97,98,99,100,101,102,103,104,105,106,107,108,109,110,111,112,113,114,115,116,117,118,119,120,121,122,123,123,122,121,120,119,118,117,116,115,114,113,112,111,110,109,108,107,106,105,104,103,102,101,100,99,98,97,96,95,94,93,92,91,90,89,88,87,86,85,84,83,82,81,80,79,78,77,76,75,74,73,72,71,70,69,68,67,66,65,64,63,62,61,60,59,58,57,56,55,54,53,52,51,50,49,48,47,46,45,44,43,42,41,40,39,38,37,36,35,34,33,32,31,30,29,28,27,26,25,24,23,22,21,20,19,18,17,16,15,14,13,12,11,10,9,8,7,6,5,4,3,2,1,0],\"y\":[0.36265961597441837,0.1997519773321335,0.1049813065971815,0.0639840545898802,0.056785605662561606,0.044639448248445,0.0394797899017279,0.0347982709289168,0.0318362516392482,0.0306298349088956,0.0293524822738066,0.0270497336457531,0.024975708084852,0.0243864125747994,0.0239548031883304,0.0234187741981755,0.0233845609264019,0.0233843711573811,0.0233613498717683,0.023362111666865498,0.023325221636693,0.0233249953042668,0.0233246858502499,0.0233246835697852,0.0233246114319556,0.023324611609113602,0.0233246119290832,0.0233246120897627,0.0233246122459835,0.0233246122459835,0.023324612382978,0.023324612382978,0.0233245892933244,0.0233245662114663,0.0233245662114663,0.0233245662114663,0.0233245662114663,0.0233245662114663,0.0233245662114663,0.0233245662114663,0.0233245662114663,0.0233245662114663,0.0233245662114663,0.0233245662114663,0.0233245662114663,0.0233245662114663,0.0233245662114663,0.0233245662114663,0.0233245662114663,0.0233245662114663,0.0233245662114663,0.0233245662114663,0.0233245662114663,0.0233245662114663,0.0233245663955251,0.023324566556133103,0.0233245666521422,0.0233245666521422,0.0233245666521422,0.0233245666521422,0.0233245666521422,0.0233245666521422,0.0233245666521422,0.023324566742697297,0.023324566742697297,0.023324566742697297,0.023324566742697297,0.023324566742697297,0.023324566742697297,0.023324566742697297,0.023324566742697297,0.023324566742697297,0.023324566742697297,0.023324566742697297,0.023324566742697297,0.023324566742697297,0.023324566742697297,0.023324566742697297,0.023324566742697297,0.023324566742697297,0.023324566742697297,0.023324566742697297,0.023324566742697297,0.023324566742697297,0.023324566742697297,0.023324566742697297,0.023324566742697297,0.023324566742697297,0.023324566742697297,0.023324566742697297,0.023324566742697297,0.023324566742697297,0.023324566742697297,0.023324566742697297,0.023324566742697297,0.023324566742697297,0.023324566742697297,0.023324566742697297,0.023324566742697297,0.023324566742697297,0.023324566742697297,0.023324566742697297,0.023324566742697297,0.023324566742697297,0.023324566742697297,0.023324566742697297,0.023324566742697297,0.023324566742697297,0.023324566742697297,0.023324566742697297,0.023324566742697297,0.023324566742697297,0.023324566742697297,0.023324566742697297,0.023324566742697297,0.023324566742697297,0.023324566742697297,0.023324566742697297,0.0233245667742582,0.0233245667742582,0.0233245667742582,0.0233245667742582,0.0233245667742582,0.0233245667742582,0.1795914995527948,0.04482349411860791,0.024095080458118895,0.0114917784179072,0.005272768877644999,0.0035171573453266006,0.001945784298653299,0.001136616481761197,0.00036604896935640147,-0.0002637757800093999,-0.00038850739557100104,-0.0003679080792763009,-0.0004896957755122014,-0.0007222464975858,-0.0007447399281713986,-0.0007891655123716985,-0.0009772913767131016,-0.0009774715168356998,-0.0009927921292884993,-0.0010299946164278994,-0.001212257803796999,-0.0012122756720730002,-0.0012122720048943006,-0.0012123610838318012,-0.0012124977619376014,-0.001212541166796999,-0.0012126194677737987,-0.0012126587429388998,-0.0012126968993544998,-0.0012126968993544998,-0.0012127303363316001,-0.0012127303363316001,-0.0012128531799065999,-0.0012129759944340991,-0.0012129759944340991,-0.0012129759944340991,-0.0012129759944340991,-0.0012129759944340991,-0.0012129759944340991,-0.0012129759944340991,-0.0012129759944340991,-0.0012129759944340991,-0.0012129759944340991,-0.0012129759944340991,-0.0012129759944340991,-0.0012129759944340991,-0.0012129759944340991,-0.0012129759944340991,-0.0012129759944340991,-0.0012129759944340991,-0.0012129759944340991,-0.0012129759944340991,-0.0012129759944340991,-0.0012129759944340991,-0.001213021009752499,-0.0012130602573014997,-0.0012130837044837996,-0.0012130837044837996,-0.0012130837044837996,-0.0012130837044837996,-0.0012130837044837996,-0.0012130837044837996,-0.0012130837044837996,-0.0012131058098870991,-0.0012131058098870991,-0.0012131058098870991,-0.0012131058098870991,-0.0012131058098870991,-0.0012131058098870991,-0.0012131058098870991,-0.0012131058098870991,-0.0012131058098870991,-0.0012131058098870991,-0.0012131058098870991,-0.0012131058098870991,-0.0012131058098870991,-0.0012131058098870991,-0.0012131058098870991,-0.0012131058098870991,-0.0012131058098870991,-0.0012131058098870991,-0.0012131058098870991,-0.0012131058098870991,-0.0012131058098870991,-0.0012131058098870991,-0.0012131058098870991,-0.0012131058098870991,-0.0012131058098870991,-0.0012131058098870991,-0.0012131058098870991,-0.0012131058098870991,-0.0012131058098870991,-0.0012131058098870991,-0.0012131058098870991,-0.0012131058098870991,-0.0012131058098870991,-0.0012131058098870991,-0.0012131058098870991,-0.0012131058098870991,-0.0012131058098870991,-0.0012131058098870991,-0.0012131058098870991,-0.0012131058098870991,-0.0012131058098870991,-0.0012131058098870991,-0.0012131058098870991,-0.0012131058098870991,-0.0012131058098870991,-0.0012131058098870991,-0.0012131058098870991,-0.0012131058098870991,-0.0012131058098870991,-0.0012131058098870991,-0.0012131058098870991,-0.0012131058098870991,-0.0012131058098870991,-0.0012131058098870991,-0.0012131058098870991,-0.0012131135119606007,-0.0012131135119606007,-0.0012131135119606007,-0.0012131135119606007,-0.0012131135119606007,-0.0012131135119606007],\"type\":\"scatter\"}],                        {\"template\":{\"data\":{\"barpolar\":[{\"marker\":{\"line\":{\"color\":\"white\",\"width\":0.5},\"pattern\":{\"fillmode\":\"overlay\",\"size\":10,\"solidity\":0.2}},\"type\":\"barpolar\"}],\"bar\":[{\"error_x\":{\"color\":\"#2a3f5f\"},\"error_y\":{\"color\":\"#2a3f5f\"},\"marker\":{\"line\":{\"color\":\"white\",\"width\":0.5},\"pattern\":{\"fillmode\":\"overlay\",\"size\":10,\"solidity\":0.2}},\"type\":\"bar\"}],\"carpet\":[{\"aaxis\":{\"endlinecolor\":\"#2a3f5f\",\"gridcolor\":\"#C8D4E3\",\"linecolor\":\"#C8D4E3\",\"minorgridcolor\":\"#C8D4E3\",\"startlinecolor\":\"#2a3f5f\"},\"baxis\":{\"endlinecolor\":\"#2a3f5f\",\"gridcolor\":\"#C8D4E3\",\"linecolor\":\"#C8D4E3\",\"minorgridcolor\":\"#C8D4E3\",\"startlinecolor\":\"#2a3f5f\"},\"type\":\"carpet\"}],\"choropleth\":[{\"colorbar\":{\"outlinewidth\":0,\"ticks\":\"\"},\"type\":\"choropleth\"}],\"contourcarpet\":[{\"colorbar\":{\"outlinewidth\":0,\"ticks\":\"\"},\"type\":\"contourcarpet\"}],\"contour\":[{\"colorbar\":{\"outlinewidth\":0,\"ticks\":\"\"},\"colorscale\":[[0.0,\"#0d0887\"],[0.1111111111111111,\"#46039f\"],[0.2222222222222222,\"#7201a8\"],[0.3333333333333333,\"#9c179e\"],[0.4444444444444444,\"#bd3786\"],[0.5555555555555556,\"#d8576b\"],[0.6666666666666666,\"#ed7953\"],[0.7777777777777778,\"#fb9f3a\"],[0.8888888888888888,\"#fdca26\"],[1.0,\"#f0f921\"]],\"type\":\"contour\"}],\"heatmapgl\":[{\"colorbar\":{\"outlinewidth\":0,\"ticks\":\"\"},\"colorscale\":[[0.0,\"#0d0887\"],[0.1111111111111111,\"#46039f\"],[0.2222222222222222,\"#7201a8\"],[0.3333333333333333,\"#9c179e\"],[0.4444444444444444,\"#bd3786\"],[0.5555555555555556,\"#d8576b\"],[0.6666666666666666,\"#ed7953\"],[0.7777777777777778,\"#fb9f3a\"],[0.8888888888888888,\"#fdca26\"],[1.0,\"#f0f921\"]],\"type\":\"heatmapgl\"}],\"heatmap\":[{\"colorbar\":{\"outlinewidth\":0,\"ticks\":\"\"},\"colorscale\":[[0.0,\"#0d0887\"],[0.1111111111111111,\"#46039f\"],[0.2222222222222222,\"#7201a8\"],[0.3333333333333333,\"#9c179e\"],[0.4444444444444444,\"#bd3786\"],[0.5555555555555556,\"#d8576b\"],[0.6666666666666666,\"#ed7953\"],[0.7777777777777778,\"#fb9f3a\"],[0.8888888888888888,\"#fdca26\"],[1.0,\"#f0f921\"]],\"type\":\"heatmap\"}],\"histogram2dcontour\":[{\"colorbar\":{\"outlinewidth\":0,\"ticks\":\"\"},\"colorscale\":[[0.0,\"#0d0887\"],[0.1111111111111111,\"#46039f\"],[0.2222222222222222,\"#7201a8\"],[0.3333333333333333,\"#9c179e\"],[0.4444444444444444,\"#bd3786\"],[0.5555555555555556,\"#d8576b\"],[0.6666666666666666,\"#ed7953\"],[0.7777777777777778,\"#fb9f3a\"],[0.8888888888888888,\"#fdca26\"],[1.0,\"#f0f921\"]],\"type\":\"histogram2dcontour\"}],\"histogram2d\":[{\"colorbar\":{\"outlinewidth\":0,\"ticks\":\"\"},\"colorscale\":[[0.0,\"#0d0887\"],[0.1111111111111111,\"#46039f\"],[0.2222222222222222,\"#7201a8\"],[0.3333333333333333,\"#9c179e\"],[0.4444444444444444,\"#bd3786\"],[0.5555555555555556,\"#d8576b\"],[0.6666666666666666,\"#ed7953\"],[0.7777777777777778,\"#fb9f3a\"],[0.8888888888888888,\"#fdca26\"],[1.0,\"#f0f921\"]],\"type\":\"histogram2d\"}],\"histogram\":[{\"marker\":{\"pattern\":{\"fillmode\":\"overlay\",\"size\":10,\"solidity\":0.2}},\"type\":\"histogram\"}],\"mesh3d\":[{\"colorbar\":{\"outlinewidth\":0,\"ticks\":\"\"},\"type\":\"mesh3d\"}],\"parcoords\":[{\"line\":{\"colorbar\":{\"outlinewidth\":0,\"ticks\":\"\"}},\"type\":\"parcoords\"}],\"pie\":[{\"automargin\":true,\"type\":\"pie\"}],\"scatter3d\":[{\"line\":{\"colorbar\":{\"outlinewidth\":0,\"ticks\":\"\"}},\"marker\":{\"colorbar\":{\"outlinewidth\":0,\"ticks\":\"\"}},\"type\":\"scatter3d\"}],\"scattercarpet\":[{\"marker\":{\"colorbar\":{\"outlinewidth\":0,\"ticks\":\"\"}},\"type\":\"scattercarpet\"}],\"scattergeo\":[{\"marker\":{\"colorbar\":{\"outlinewidth\":0,\"ticks\":\"\"}},\"type\":\"scattergeo\"}],\"scattergl\":[{\"marker\":{\"colorbar\":{\"outlinewidth\":0,\"ticks\":\"\"}},\"type\":\"scattergl\"}],\"scattermapbox\":[{\"marker\":{\"colorbar\":{\"outlinewidth\":0,\"ticks\":\"\"}},\"type\":\"scattermapbox\"}],\"scatterpolargl\":[{\"marker\":{\"colorbar\":{\"outlinewidth\":0,\"ticks\":\"\"}},\"type\":\"scatterpolargl\"}],\"scatterpolar\":[{\"marker\":{\"colorbar\":{\"outlinewidth\":0,\"ticks\":\"\"}},\"type\":\"scatterpolar\"}],\"scatter\":[{\"fillpattern\":{\"fillmode\":\"overlay\",\"size\":10,\"solidity\":0.2},\"type\":\"scatter\"}],\"scatterternary\":[{\"marker\":{\"colorbar\":{\"outlinewidth\":0,\"ticks\":\"\"}},\"type\":\"scatterternary\"}],\"surface\":[{\"colorbar\":{\"outlinewidth\":0,\"ticks\":\"\"},\"colorscale\":[[0.0,\"#0d0887\"],[0.1111111111111111,\"#46039f\"],[0.2222222222222222,\"#7201a8\"],[0.3333333333333333,\"#9c179e\"],[0.4444444444444444,\"#bd3786\"],[0.5555555555555556,\"#d8576b\"],[0.6666666666666666,\"#ed7953\"],[0.7777777777777778,\"#fb9f3a\"],[0.8888888888888888,\"#fdca26\"],[1.0,\"#f0f921\"]],\"type\":\"surface\"}],\"table\":[{\"cells\":{\"fill\":{\"color\":\"#EBF0F8\"},\"line\":{\"color\":\"white\"}},\"header\":{\"fill\":{\"color\":\"#C8D4E3\"},\"line\":{\"color\":\"white\"}},\"type\":\"table\"}]},\"layout\":{\"annotationdefaults\":{\"arrowcolor\":\"#2a3f5f\",\"arrowhead\":0,\"arrowwidth\":1},\"autotypenumbers\":\"strict\",\"coloraxis\":{\"colorbar\":{\"outlinewidth\":0,\"ticks\":\"\"}},\"colorscale\":{\"diverging\":[[0,\"#8e0152\"],[0.1,\"#c51b7d\"],[0.2,\"#de77ae\"],[0.3,\"#f1b6da\"],[0.4,\"#fde0ef\"],[0.5,\"#f7f7f7\"],[0.6,\"#e6f5d0\"],[0.7,\"#b8e186\"],[0.8,\"#7fbc41\"],[0.9,\"#4d9221\"],[1,\"#276419\"]],\"sequential\":[[0.0,\"#0d0887\"],[0.1111111111111111,\"#46039f\"],[0.2222222222222222,\"#7201a8\"],[0.3333333333333333,\"#9c179e\"],[0.4444444444444444,\"#bd3786\"],[0.5555555555555556,\"#d8576b\"],[0.6666666666666666,\"#ed7953\"],[0.7777777777777778,\"#fb9f3a\"],[0.8888888888888888,\"#fdca26\"],[1.0,\"#f0f921\"]],\"sequentialminus\":[[0.0,\"#0d0887\"],[0.1111111111111111,\"#46039f\"],[0.2222222222222222,\"#7201a8\"],[0.3333333333333333,\"#9c179e\"],[0.4444444444444444,\"#bd3786\"],[0.5555555555555556,\"#d8576b\"],[0.6666666666666666,\"#ed7953\"],[0.7777777777777778,\"#fb9f3a\"],[0.8888888888888888,\"#fdca26\"],[1.0,\"#f0f921\"]]},\"colorway\":[\"#636efa\",\"#EF553B\",\"#00cc96\",\"#ab63fa\",\"#FFA15A\",\"#19d3f3\",\"#FF6692\",\"#B6E880\",\"#FF97FF\",\"#FECB52\"],\"font\":{\"color\":\"#2a3f5f\"},\"geo\":{\"bgcolor\":\"white\",\"lakecolor\":\"white\",\"landcolor\":\"white\",\"showlakes\":true,\"showland\":true,\"subunitcolor\":\"#C8D4E3\"},\"hoverlabel\":{\"align\":\"left\"},\"hovermode\":\"closest\",\"mapbox\":{\"style\":\"light\"},\"paper_bgcolor\":\"white\",\"plot_bgcolor\":\"white\",\"polar\":{\"angularaxis\":{\"gridcolor\":\"#EBF0F8\",\"linecolor\":\"#EBF0F8\",\"ticks\":\"\"},\"bgcolor\":\"white\",\"radialaxis\":{\"gridcolor\":\"#EBF0F8\",\"linecolor\":\"#EBF0F8\",\"ticks\":\"\"}},\"scene\":{\"xaxis\":{\"backgroundcolor\":\"white\",\"gridcolor\":\"#DFE8F3\",\"gridwidth\":2,\"linecolor\":\"#EBF0F8\",\"showbackground\":true,\"ticks\":\"\",\"zerolinecolor\":\"#EBF0F8\"},\"yaxis\":{\"backgroundcolor\":\"white\",\"gridcolor\":\"#DFE8F3\",\"gridwidth\":2,\"linecolor\":\"#EBF0F8\",\"showbackground\":true,\"ticks\":\"\",\"zerolinecolor\":\"#EBF0F8\"},\"zaxis\":{\"backgroundcolor\":\"white\",\"gridcolor\":\"#DFE8F3\",\"gridwidth\":2,\"linecolor\":\"#EBF0F8\",\"showbackground\":true,\"ticks\":\"\",\"zerolinecolor\":\"#EBF0F8\"}},\"shapedefaults\":{\"line\":{\"color\":\"#2a3f5f\"}},\"ternary\":{\"aaxis\":{\"gridcolor\":\"#DFE8F3\",\"linecolor\":\"#A2B1C6\",\"ticks\":\"\"},\"baxis\":{\"gridcolor\":\"#DFE8F3\",\"linecolor\":\"#A2B1C6\",\"ticks\":\"\"},\"bgcolor\":\"white\",\"caxis\":{\"gridcolor\":\"#DFE8F3\",\"linecolor\":\"#A2B1C6\",\"ticks\":\"\"}},\"title\":{\"x\":0.05},\"xaxis\":{\"automargin\":true,\"gridcolor\":\"#EBF0F8\",\"linecolor\":\"#EBF0F8\",\"ticks\":\"\",\"title\":{\"standoff\":15},\"zerolinecolor\":\"#EBF0F8\",\"zerolinewidth\":2},\"yaxis\":{\"automargin\":true,\"gridcolor\":\"#EBF0F8\",\"linecolor\":\"#EBF0F8\",\"ticks\":\"\",\"title\":{\"standoff\":15},\"zerolinecolor\":\"#EBF0F8\",\"zerolinewidth\":2}}},\"title\":{\"text\":\"Cross-Validation (N=5) Mean Logloss with Error Bands\"},\"xaxis\":{\"title\":{\"text\":\"Training Steps\"}},\"yaxis\":{\"title\":{\"text\":\"Logloss\"}}},                        {\"responsive\": true}                    ).then(function(){\n",
       "                            \n",
       "var gd = document.getElementById('265a4555-ede1-4e6d-ae4f-844bc34c8c09');\n",
       "var x = new MutationObserver(function (mutations, observer) {{\n",
       "        var display = window.getComputedStyle(gd).display;\n",
       "        if (!display || display === 'none') {{\n",
       "            console.log([gd, 'removed!']);\n",
       "            Plotly.purge(gd);\n",
       "            observer.disconnect();\n",
       "        }}\n",
       "}});\n",
       "\n",
       "// Listen for the removal of the full notebook cells\n",
       "var notebookContainer = gd.closest('#notebook-container');\n",
       "if (notebookContainer) {{\n",
       "    x.observe(notebookContainer, {childList: true});\n",
       "}}\n",
       "\n",
       "// Listen for the clearing of the current output cell\n",
       "var outputEl = gd.closest('.output');\n",
       "if (outputEl) {{\n",
       "    x.observe(outputEl, {childList: true});\n",
       "}}\n",
       "\n",
       "                        })                };                });            </script>        </div>"
      ]
     },
     "metadata": {},
     "output_type": "display_data"
    },
    {
     "data": {
      "application/vnd.plotly.v1+json": {
       "config": {
        "plotlyServerURL": "https://plot.ly"
       },
       "data": [
        {
         "line": {
          "color": "blue"
         },
         "mode": "lines",
         "name": "Mean logloss",
         "type": "scatter",
         "x": [
          0,
          1,
          2,
          3,
          4,
          5,
          6,
          7,
          8,
          9,
          10,
          11,
          12,
          13,
          14,
          15,
          16,
          17,
          18,
          19,
          20,
          21,
          22,
          23,
          24,
          25,
          26,
          27,
          28,
          29,
          30,
          31,
          32,
          33,
          34,
          35,
          36,
          37,
          38,
          39,
          40,
          41,
          42,
          43,
          44,
          45,
          46,
          47,
          48,
          49,
          50,
          51,
          52,
          53,
          54,
          55,
          56,
          57,
          58,
          59,
          60,
          61,
          62,
          63,
          64,
          65,
          66,
          67,
          68,
          69,
          70,
          71,
          72,
          73,
          74,
          75,
          76,
          77,
          78,
          79,
          80,
          81,
          82,
          83,
          84,
          85,
          86,
          87,
          88,
          89,
          90,
          91,
          92,
          93,
          94,
          95,
          96,
          97,
          98,
          99,
          100,
          101,
          102,
          103,
          104,
          105,
          106,
          107,
          108,
          109,
          110,
          111,
          112,
          113,
          114,
          115,
          116,
          117,
          118,
          119,
          120,
          121,
          122,
          123
         ],
         "y": [
          0.2711255577636066,
          0.1222877357253707,
          0.0645381935276502,
          0.0377379165038937,
          0.0310291872701033,
          0.0240783027968858,
          0.0207127871001906,
          0.017967443705339,
          0.0161011503043023,
          0.0151830295644431,
          0.0144819874391178,
          0.0133409127832384,
          0.0122430061546699,
          0.0118320830386068,
          0.0116050316300795,
          0.0113148043429019,
          0.0112036347748444,
          0.0112034498202727,
          0.0111842788712399,
          0.0111660585252188,
          0.011056481916448,
          0.0110563598160969,
          0.0110562069226778,
          0.0110561612429767,
          0.011056056835009,
          0.0110560352211583,
          0.0110559962306547,
          0.0110559766734119,
          0.0110559576733145,
          0.0110559576733145,
          0.0110559410233232,
          0.0110559410233232,
          0.0110558680567089,
          0.0110557951085161,
          0.0110557951085161,
          0.0110557951085161,
          0.0110557951085161,
          0.0110557951085161,
          0.0110557951085161,
          0.0110557951085161,
          0.0110557951085161,
          0.0110557951085161,
          0.0110557951085161,
          0.0110557951085161,
          0.0110557951085161,
          0.0110557951085161,
          0.0110557951085161,
          0.0110557951085161,
          0.0110557951085161,
          0.0110557951085161,
          0.0110557951085161,
          0.0110557951085161,
          0.0110557951085161,
          0.0110557951085161,
          0.0110557726928863,
          0.0110557531494158,
          0.0110557414738292,
          0.0110557414738292,
          0.0110557414738292,
          0.0110557414738292,
          0.0110557414738292,
          0.0110557414738292,
          0.0110557414738292,
          0.0110557304664051,
          0.0110557304664051,
          0.0110557304664051,
          0.0110557304664051,
          0.0110557304664051,
          0.0110557304664051,
          0.0110557304664051,
          0.0110557304664051,
          0.0110557304664051,
          0.0110557304664051,
          0.0110557304664051,
          0.0110557304664051,
          0.0110557304664051,
          0.0110557304664051,
          0.0110557304664051,
          0.0110557304664051,
          0.0110557304664051,
          0.0110557304664051,
          0.0110557304664051,
          0.0110557304664051,
          0.0110557304664051,
          0.0110557304664051,
          0.0110557304664051,
          0.0110557304664051,
          0.0110557304664051,
          0.0110557304664051,
          0.0110557304664051,
          0.0110557304664051,
          0.0110557304664051,
          0.0110557304664051,
          0.0110557304664051,
          0.0110557304664051,
          0.0110557304664051,
          0.0110557304664051,
          0.0110557304664051,
          0.0110557304664051,
          0.0110557304664051,
          0.0110557304664051,
          0.0110557304664051,
          0.0110557304664051,
          0.0110557304664051,
          0.0110557304664051,
          0.0110557304664051,
          0.0110557304664051,
          0.0110557304664051,
          0.0110557304664051,
          0.0110557304664051,
          0.0110557304664051,
          0.0110557304664051,
          0.0110557304664051,
          0.0110557304664051,
          0.0110557304664051,
          0.0110557304664051,
          0.0110557304664051,
          0.0110557304664051,
          0.0110557266311488,
          0.0110557266311488,
          0.0110557266311488,
          0.0110557266311488,
          0.0110557266311488,
          0.0110557266311488
         ]
        },
        {
         "fill": "toself",
         "fillcolor": "rgba(0, 0, 255, 0.2)",
         "line": {
          "color": "rgba(255, 255, 255, 0)"
         },
         "showlegend": false,
         "type": "scatter",
         "x": [
          0,
          1,
          2,
          3,
          4,
          5,
          6,
          7,
          8,
          9,
          10,
          11,
          12,
          13,
          14,
          15,
          16,
          17,
          18,
          19,
          20,
          21,
          22,
          23,
          24,
          25,
          26,
          27,
          28,
          29,
          30,
          31,
          32,
          33,
          34,
          35,
          36,
          37,
          38,
          39,
          40,
          41,
          42,
          43,
          44,
          45,
          46,
          47,
          48,
          49,
          50,
          51,
          52,
          53,
          54,
          55,
          56,
          57,
          58,
          59,
          60,
          61,
          62,
          63,
          64,
          65,
          66,
          67,
          68,
          69,
          70,
          71,
          72,
          73,
          74,
          75,
          76,
          77,
          78,
          79,
          80,
          81,
          82,
          83,
          84,
          85,
          86,
          87,
          88,
          89,
          90,
          91,
          92,
          93,
          94,
          95,
          96,
          97,
          98,
          99,
          100,
          101,
          102,
          103,
          104,
          105,
          106,
          107,
          108,
          109,
          110,
          111,
          112,
          113,
          114,
          115,
          116,
          117,
          118,
          119,
          120,
          121,
          122,
          123,
          123,
          122,
          121,
          120,
          119,
          118,
          117,
          116,
          115,
          114,
          113,
          112,
          111,
          110,
          109,
          108,
          107,
          106,
          105,
          104,
          103,
          102,
          101,
          100,
          99,
          98,
          97,
          96,
          95,
          94,
          93,
          92,
          91,
          90,
          89,
          88,
          87,
          86,
          85,
          84,
          83,
          82,
          81,
          80,
          79,
          78,
          77,
          76,
          75,
          74,
          73,
          72,
          71,
          70,
          69,
          68,
          67,
          66,
          65,
          64,
          63,
          62,
          61,
          60,
          59,
          58,
          57,
          56,
          55,
          54,
          53,
          52,
          51,
          50,
          49,
          48,
          47,
          46,
          45,
          44,
          43,
          42,
          41,
          40,
          39,
          38,
          37,
          36,
          35,
          34,
          33,
          32,
          31,
          30,
          29,
          28,
          27,
          26,
          25,
          24,
          23,
          22,
          21,
          20,
          19,
          18,
          17,
          16,
          15,
          14,
          13,
          12,
          11,
          10,
          9,
          8,
          7,
          6,
          5,
          4,
          3,
          2,
          1,
          0
         ],
         "y": [
          0.36265961597441837,
          0.1997519773321335,
          0.1049813065971815,
          0.0639840545898802,
          0.056785605662561606,
          0.044639448248445,
          0.0394797899017279,
          0.0347982709289168,
          0.0318362516392482,
          0.0306298349088956,
          0.0293524822738066,
          0.0270497336457531,
          0.024975708084852,
          0.0243864125747994,
          0.0239548031883304,
          0.0234187741981755,
          0.0233845609264019,
          0.0233843711573811,
          0.0233613498717683,
          0.023362111666865498,
          0.023325221636693,
          0.0233249953042668,
          0.0233246858502499,
          0.0233246835697852,
          0.0233246114319556,
          0.023324611609113602,
          0.0233246119290832,
          0.0233246120897627,
          0.0233246122459835,
          0.0233246122459835,
          0.023324612382978,
          0.023324612382978,
          0.0233245892933244,
          0.0233245662114663,
          0.0233245662114663,
          0.0233245662114663,
          0.0233245662114663,
          0.0233245662114663,
          0.0233245662114663,
          0.0233245662114663,
          0.0233245662114663,
          0.0233245662114663,
          0.0233245662114663,
          0.0233245662114663,
          0.0233245662114663,
          0.0233245662114663,
          0.0233245662114663,
          0.0233245662114663,
          0.0233245662114663,
          0.0233245662114663,
          0.0233245662114663,
          0.0233245662114663,
          0.0233245662114663,
          0.0233245662114663,
          0.0233245663955251,
          0.023324566556133103,
          0.0233245666521422,
          0.0233245666521422,
          0.0233245666521422,
          0.0233245666521422,
          0.0233245666521422,
          0.0233245666521422,
          0.0233245666521422,
          0.023324566742697297,
          0.023324566742697297,
          0.023324566742697297,
          0.023324566742697297,
          0.023324566742697297,
          0.023324566742697297,
          0.023324566742697297,
          0.023324566742697297,
          0.023324566742697297,
          0.023324566742697297,
          0.023324566742697297,
          0.023324566742697297,
          0.023324566742697297,
          0.023324566742697297,
          0.023324566742697297,
          0.023324566742697297,
          0.023324566742697297,
          0.023324566742697297,
          0.023324566742697297,
          0.023324566742697297,
          0.023324566742697297,
          0.023324566742697297,
          0.023324566742697297,
          0.023324566742697297,
          0.023324566742697297,
          0.023324566742697297,
          0.023324566742697297,
          0.023324566742697297,
          0.023324566742697297,
          0.023324566742697297,
          0.023324566742697297,
          0.023324566742697297,
          0.023324566742697297,
          0.023324566742697297,
          0.023324566742697297,
          0.023324566742697297,
          0.023324566742697297,
          0.023324566742697297,
          0.023324566742697297,
          0.023324566742697297,
          0.023324566742697297,
          0.023324566742697297,
          0.023324566742697297,
          0.023324566742697297,
          0.023324566742697297,
          0.023324566742697297,
          0.023324566742697297,
          0.023324566742697297,
          0.023324566742697297,
          0.023324566742697297,
          0.023324566742697297,
          0.023324566742697297,
          0.023324566742697297,
          0.023324566742697297,
          0.023324566742697297,
          0.0233245667742582,
          0.0233245667742582,
          0.0233245667742582,
          0.0233245667742582,
          0.0233245667742582,
          0.0233245667742582,
          0.1795914995527948,
          0.04482349411860791,
          0.024095080458118895,
          0.0114917784179072,
          0.005272768877644999,
          0.0035171573453266006,
          0.001945784298653299,
          0.001136616481761197,
          0.00036604896935640147,
          -0.0002637757800093999,
          -0.00038850739557100104,
          -0.0003679080792763009,
          -0.0004896957755122014,
          -0.0007222464975858,
          -0.0007447399281713986,
          -0.0007891655123716985,
          -0.0009772913767131016,
          -0.0009774715168356998,
          -0.0009927921292884993,
          -0.0010299946164278994,
          -0.001212257803796999,
          -0.0012122756720730002,
          -0.0012122720048943006,
          -0.0012123610838318012,
          -0.0012124977619376014,
          -0.001212541166796999,
          -0.0012126194677737987,
          -0.0012126587429388998,
          -0.0012126968993544998,
          -0.0012126968993544998,
          -0.0012127303363316001,
          -0.0012127303363316001,
          -0.0012128531799065999,
          -0.0012129759944340991,
          -0.0012129759944340991,
          -0.0012129759944340991,
          -0.0012129759944340991,
          -0.0012129759944340991,
          -0.0012129759944340991,
          -0.0012129759944340991,
          -0.0012129759944340991,
          -0.0012129759944340991,
          -0.0012129759944340991,
          -0.0012129759944340991,
          -0.0012129759944340991,
          -0.0012129759944340991,
          -0.0012129759944340991,
          -0.0012129759944340991,
          -0.0012129759944340991,
          -0.0012129759944340991,
          -0.0012129759944340991,
          -0.0012129759944340991,
          -0.0012129759944340991,
          -0.0012129759944340991,
          -0.001213021009752499,
          -0.0012130602573014997,
          -0.0012130837044837996,
          -0.0012130837044837996,
          -0.0012130837044837996,
          -0.0012130837044837996,
          -0.0012130837044837996,
          -0.0012130837044837996,
          -0.0012130837044837996,
          -0.0012131058098870991,
          -0.0012131058098870991,
          -0.0012131058098870991,
          -0.0012131058098870991,
          -0.0012131058098870991,
          -0.0012131058098870991,
          -0.0012131058098870991,
          -0.0012131058098870991,
          -0.0012131058098870991,
          -0.0012131058098870991,
          -0.0012131058098870991,
          -0.0012131058098870991,
          -0.0012131058098870991,
          -0.0012131058098870991,
          -0.0012131058098870991,
          -0.0012131058098870991,
          -0.0012131058098870991,
          -0.0012131058098870991,
          -0.0012131058098870991,
          -0.0012131058098870991,
          -0.0012131058098870991,
          -0.0012131058098870991,
          -0.0012131058098870991,
          -0.0012131058098870991,
          -0.0012131058098870991,
          -0.0012131058098870991,
          -0.0012131058098870991,
          -0.0012131058098870991,
          -0.0012131058098870991,
          -0.0012131058098870991,
          -0.0012131058098870991,
          -0.0012131058098870991,
          -0.0012131058098870991,
          -0.0012131058098870991,
          -0.0012131058098870991,
          -0.0012131058098870991,
          -0.0012131058098870991,
          -0.0012131058098870991,
          -0.0012131058098870991,
          -0.0012131058098870991,
          -0.0012131058098870991,
          -0.0012131058098870991,
          -0.0012131058098870991,
          -0.0012131058098870991,
          -0.0012131058098870991,
          -0.0012131058098870991,
          -0.0012131058098870991,
          -0.0012131058098870991,
          -0.0012131058098870991,
          -0.0012131058098870991,
          -0.0012131058098870991,
          -0.0012131058098870991,
          -0.0012131058098870991,
          -0.0012131058098870991,
          -0.0012131058098870991,
          -0.0012131135119606007,
          -0.0012131135119606007,
          -0.0012131135119606007,
          -0.0012131135119606007,
          -0.0012131135119606007,
          -0.0012131135119606007
         ]
        }
       ],
       "layout": {
        "template": {
         "data": {
          "bar": [
           {
            "error_x": {
             "color": "#2a3f5f"
            },
            "error_y": {
             "color": "#2a3f5f"
            },
            "marker": {
             "line": {
              "color": "white",
              "width": 0.5
             },
             "pattern": {
              "fillmode": "overlay",
              "size": 10,
              "solidity": 0.2
             }
            },
            "type": "bar"
           }
          ],
          "barpolar": [
           {
            "marker": {
             "line": {
              "color": "white",
              "width": 0.5
             },
             "pattern": {
              "fillmode": "overlay",
              "size": 10,
              "solidity": 0.2
             }
            },
            "type": "barpolar"
           }
          ],
          "carpet": [
           {
            "aaxis": {
             "endlinecolor": "#2a3f5f",
             "gridcolor": "#C8D4E3",
             "linecolor": "#C8D4E3",
             "minorgridcolor": "#C8D4E3",
             "startlinecolor": "#2a3f5f"
            },
            "baxis": {
             "endlinecolor": "#2a3f5f",
             "gridcolor": "#C8D4E3",
             "linecolor": "#C8D4E3",
             "minorgridcolor": "#C8D4E3",
             "startlinecolor": "#2a3f5f"
            },
            "type": "carpet"
           }
          ],
          "choropleth": [
           {
            "colorbar": {
             "outlinewidth": 0,
             "ticks": ""
            },
            "type": "choropleth"
           }
          ],
          "contour": [
           {
            "colorbar": {
             "outlinewidth": 0,
             "ticks": ""
            },
            "colorscale": [
             [
              0,
              "#0d0887"
             ],
             [
              0.1111111111111111,
              "#46039f"
             ],
             [
              0.2222222222222222,
              "#7201a8"
             ],
             [
              0.3333333333333333,
              "#9c179e"
             ],
             [
              0.4444444444444444,
              "#bd3786"
             ],
             [
              0.5555555555555556,
              "#d8576b"
             ],
             [
              0.6666666666666666,
              "#ed7953"
             ],
             [
              0.7777777777777778,
              "#fb9f3a"
             ],
             [
              0.8888888888888888,
              "#fdca26"
             ],
             [
              1,
              "#f0f921"
             ]
            ],
            "type": "contour"
           }
          ],
          "contourcarpet": [
           {
            "colorbar": {
             "outlinewidth": 0,
             "ticks": ""
            },
            "type": "contourcarpet"
           }
          ],
          "heatmap": [
           {
            "colorbar": {
             "outlinewidth": 0,
             "ticks": ""
            },
            "colorscale": [
             [
              0,
              "#0d0887"
             ],
             [
              0.1111111111111111,
              "#46039f"
             ],
             [
              0.2222222222222222,
              "#7201a8"
             ],
             [
              0.3333333333333333,
              "#9c179e"
             ],
             [
              0.4444444444444444,
              "#bd3786"
             ],
             [
              0.5555555555555556,
              "#d8576b"
             ],
             [
              0.6666666666666666,
              "#ed7953"
             ],
             [
              0.7777777777777778,
              "#fb9f3a"
             ],
             [
              0.8888888888888888,
              "#fdca26"
             ],
             [
              1,
              "#f0f921"
             ]
            ],
            "type": "heatmap"
           }
          ],
          "heatmapgl": [
           {
            "colorbar": {
             "outlinewidth": 0,
             "ticks": ""
            },
            "colorscale": [
             [
              0,
              "#0d0887"
             ],
             [
              0.1111111111111111,
              "#46039f"
             ],
             [
              0.2222222222222222,
              "#7201a8"
             ],
             [
              0.3333333333333333,
              "#9c179e"
             ],
             [
              0.4444444444444444,
              "#bd3786"
             ],
             [
              0.5555555555555556,
              "#d8576b"
             ],
             [
              0.6666666666666666,
              "#ed7953"
             ],
             [
              0.7777777777777778,
              "#fb9f3a"
             ],
             [
              0.8888888888888888,
              "#fdca26"
             ],
             [
              1,
              "#f0f921"
             ]
            ],
            "type": "heatmapgl"
           }
          ],
          "histogram": [
           {
            "marker": {
             "pattern": {
              "fillmode": "overlay",
              "size": 10,
              "solidity": 0.2
             }
            },
            "type": "histogram"
           }
          ],
          "histogram2d": [
           {
            "colorbar": {
             "outlinewidth": 0,
             "ticks": ""
            },
            "colorscale": [
             [
              0,
              "#0d0887"
             ],
             [
              0.1111111111111111,
              "#46039f"
             ],
             [
              0.2222222222222222,
              "#7201a8"
             ],
             [
              0.3333333333333333,
              "#9c179e"
             ],
             [
              0.4444444444444444,
              "#bd3786"
             ],
             [
              0.5555555555555556,
              "#d8576b"
             ],
             [
              0.6666666666666666,
              "#ed7953"
             ],
             [
              0.7777777777777778,
              "#fb9f3a"
             ],
             [
              0.8888888888888888,
              "#fdca26"
             ],
             [
              1,
              "#f0f921"
             ]
            ],
            "type": "histogram2d"
           }
          ],
          "histogram2dcontour": [
           {
            "colorbar": {
             "outlinewidth": 0,
             "ticks": ""
            },
            "colorscale": [
             [
              0,
              "#0d0887"
             ],
             [
              0.1111111111111111,
              "#46039f"
             ],
             [
              0.2222222222222222,
              "#7201a8"
             ],
             [
              0.3333333333333333,
              "#9c179e"
             ],
             [
              0.4444444444444444,
              "#bd3786"
             ],
             [
              0.5555555555555556,
              "#d8576b"
             ],
             [
              0.6666666666666666,
              "#ed7953"
             ],
             [
              0.7777777777777778,
              "#fb9f3a"
             ],
             [
              0.8888888888888888,
              "#fdca26"
             ],
             [
              1,
              "#f0f921"
             ]
            ],
            "type": "histogram2dcontour"
           }
          ],
          "mesh3d": [
           {
            "colorbar": {
             "outlinewidth": 0,
             "ticks": ""
            },
            "type": "mesh3d"
           }
          ],
          "parcoords": [
           {
            "line": {
             "colorbar": {
              "outlinewidth": 0,
              "ticks": ""
             }
            },
            "type": "parcoords"
           }
          ],
          "pie": [
           {
            "automargin": true,
            "type": "pie"
           }
          ],
          "scatter": [
           {
            "fillpattern": {
             "fillmode": "overlay",
             "size": 10,
             "solidity": 0.2
            },
            "type": "scatter"
           }
          ],
          "scatter3d": [
           {
            "line": {
             "colorbar": {
              "outlinewidth": 0,
              "ticks": ""
             }
            },
            "marker": {
             "colorbar": {
              "outlinewidth": 0,
              "ticks": ""
             }
            },
            "type": "scatter3d"
           }
          ],
          "scattercarpet": [
           {
            "marker": {
             "colorbar": {
              "outlinewidth": 0,
              "ticks": ""
             }
            },
            "type": "scattercarpet"
           }
          ],
          "scattergeo": [
           {
            "marker": {
             "colorbar": {
              "outlinewidth": 0,
              "ticks": ""
             }
            },
            "type": "scattergeo"
           }
          ],
          "scattergl": [
           {
            "marker": {
             "colorbar": {
              "outlinewidth": 0,
              "ticks": ""
             }
            },
            "type": "scattergl"
           }
          ],
          "scattermapbox": [
           {
            "marker": {
             "colorbar": {
              "outlinewidth": 0,
              "ticks": ""
             }
            },
            "type": "scattermapbox"
           }
          ],
          "scatterpolar": [
           {
            "marker": {
             "colorbar": {
              "outlinewidth": 0,
              "ticks": ""
             }
            },
            "type": "scatterpolar"
           }
          ],
          "scatterpolargl": [
           {
            "marker": {
             "colorbar": {
              "outlinewidth": 0,
              "ticks": ""
             }
            },
            "type": "scatterpolargl"
           }
          ],
          "scatterternary": [
           {
            "marker": {
             "colorbar": {
              "outlinewidth": 0,
              "ticks": ""
             }
            },
            "type": "scatterternary"
           }
          ],
          "surface": [
           {
            "colorbar": {
             "outlinewidth": 0,
             "ticks": ""
            },
            "colorscale": [
             [
              0,
              "#0d0887"
             ],
             [
              0.1111111111111111,
              "#46039f"
             ],
             [
              0.2222222222222222,
              "#7201a8"
             ],
             [
              0.3333333333333333,
              "#9c179e"
             ],
             [
              0.4444444444444444,
              "#bd3786"
             ],
             [
              0.5555555555555556,
              "#d8576b"
             ],
             [
              0.6666666666666666,
              "#ed7953"
             ],
             [
              0.7777777777777778,
              "#fb9f3a"
             ],
             [
              0.8888888888888888,
              "#fdca26"
             ],
             [
              1,
              "#f0f921"
             ]
            ],
            "type": "surface"
           }
          ],
          "table": [
           {
            "cells": {
             "fill": {
              "color": "#EBF0F8"
             },
             "line": {
              "color": "white"
             }
            },
            "header": {
             "fill": {
              "color": "#C8D4E3"
             },
             "line": {
              "color": "white"
             }
            },
            "type": "table"
           }
          ]
         },
         "layout": {
          "annotationdefaults": {
           "arrowcolor": "#2a3f5f",
           "arrowhead": 0,
           "arrowwidth": 1
          },
          "autotypenumbers": "strict",
          "coloraxis": {
           "colorbar": {
            "outlinewidth": 0,
            "ticks": ""
           }
          },
          "colorscale": {
           "diverging": [
            [
             0,
             "#8e0152"
            ],
            [
             0.1,
             "#c51b7d"
            ],
            [
             0.2,
             "#de77ae"
            ],
            [
             0.3,
             "#f1b6da"
            ],
            [
             0.4,
             "#fde0ef"
            ],
            [
             0.5,
             "#f7f7f7"
            ],
            [
             0.6,
             "#e6f5d0"
            ],
            [
             0.7,
             "#b8e186"
            ],
            [
             0.8,
             "#7fbc41"
            ],
            [
             0.9,
             "#4d9221"
            ],
            [
             1,
             "#276419"
            ]
           ],
           "sequential": [
            [
             0,
             "#0d0887"
            ],
            [
             0.1111111111111111,
             "#46039f"
            ],
            [
             0.2222222222222222,
             "#7201a8"
            ],
            [
             0.3333333333333333,
             "#9c179e"
            ],
            [
             0.4444444444444444,
             "#bd3786"
            ],
            [
             0.5555555555555556,
             "#d8576b"
            ],
            [
             0.6666666666666666,
             "#ed7953"
            ],
            [
             0.7777777777777778,
             "#fb9f3a"
            ],
            [
             0.8888888888888888,
             "#fdca26"
            ],
            [
             1,
             "#f0f921"
            ]
           ],
           "sequentialminus": [
            [
             0,
             "#0d0887"
            ],
            [
             0.1111111111111111,
             "#46039f"
            ],
            [
             0.2222222222222222,
             "#7201a8"
            ],
            [
             0.3333333333333333,
             "#9c179e"
            ],
            [
             0.4444444444444444,
             "#bd3786"
            ],
            [
             0.5555555555555556,
             "#d8576b"
            ],
            [
             0.6666666666666666,
             "#ed7953"
            ],
            [
             0.7777777777777778,
             "#fb9f3a"
            ],
            [
             0.8888888888888888,
             "#fdca26"
            ],
            [
             1,
             "#f0f921"
            ]
           ]
          },
          "colorway": [
           "#636efa",
           "#EF553B",
           "#00cc96",
           "#ab63fa",
           "#FFA15A",
           "#19d3f3",
           "#FF6692",
           "#B6E880",
           "#FF97FF",
           "#FECB52"
          ],
          "font": {
           "color": "#2a3f5f"
          },
          "geo": {
           "bgcolor": "white",
           "lakecolor": "white",
           "landcolor": "white",
           "showlakes": true,
           "showland": true,
           "subunitcolor": "#C8D4E3"
          },
          "hoverlabel": {
           "align": "left"
          },
          "hovermode": "closest",
          "mapbox": {
           "style": "light"
          },
          "paper_bgcolor": "white",
          "plot_bgcolor": "white",
          "polar": {
           "angularaxis": {
            "gridcolor": "#EBF0F8",
            "linecolor": "#EBF0F8",
            "ticks": ""
           },
           "bgcolor": "white",
           "radialaxis": {
            "gridcolor": "#EBF0F8",
            "linecolor": "#EBF0F8",
            "ticks": ""
           }
          },
          "scene": {
           "xaxis": {
            "backgroundcolor": "white",
            "gridcolor": "#DFE8F3",
            "gridwidth": 2,
            "linecolor": "#EBF0F8",
            "showbackground": true,
            "ticks": "",
            "zerolinecolor": "#EBF0F8"
           },
           "yaxis": {
            "backgroundcolor": "white",
            "gridcolor": "#DFE8F3",
            "gridwidth": 2,
            "linecolor": "#EBF0F8",
            "showbackground": true,
            "ticks": "",
            "zerolinecolor": "#EBF0F8"
           },
           "zaxis": {
            "backgroundcolor": "white",
            "gridcolor": "#DFE8F3",
            "gridwidth": 2,
            "linecolor": "#EBF0F8",
            "showbackground": true,
            "ticks": "",
            "zerolinecolor": "#EBF0F8"
           }
          },
          "shapedefaults": {
           "line": {
            "color": "#2a3f5f"
           }
          },
          "ternary": {
           "aaxis": {
            "gridcolor": "#DFE8F3",
            "linecolor": "#A2B1C6",
            "ticks": ""
           },
           "baxis": {
            "gridcolor": "#DFE8F3",
            "linecolor": "#A2B1C6",
            "ticks": ""
           },
           "bgcolor": "white",
           "caxis": {
            "gridcolor": "#DFE8F3",
            "linecolor": "#A2B1C6",
            "ticks": ""
           }
          },
          "title": {
           "x": 0.05
          },
          "xaxis": {
           "automargin": true,
           "gridcolor": "#EBF0F8",
           "linecolor": "#EBF0F8",
           "ticks": "",
           "title": {
            "standoff": 15
           },
           "zerolinecolor": "#EBF0F8",
           "zerolinewidth": 2
          },
          "yaxis": {
           "automargin": true,
           "gridcolor": "#EBF0F8",
           "linecolor": "#EBF0F8",
           "ticks": "",
           "title": {
            "standoff": 15
           },
           "zerolinecolor": "#EBF0F8",
           "zerolinewidth": 2
          }
         }
        },
        "title": {
         "text": "Cross-Validation (N=5) Mean Logloss with Error Bands"
        },
        "xaxis": {
         "title": {
          "text": "Training Steps"
         }
        },
        "yaxis": {
         "title": {
          "text": "Logloss"
         }
        }
       }
      },
      "text/html": [
       "<div>                            <div id=\"ecee5b2a-ad59-4193-bb76-4f3fb2754b00\" class=\"plotly-graph-div\" style=\"height:525px; width:100%;\"></div>            <script type=\"text/javascript\">                require([\"plotly\"], function(Plotly) {                    window.PLOTLYENV=window.PLOTLYENV || {};                                    if (document.getElementById(\"ecee5b2a-ad59-4193-bb76-4f3fb2754b00\")) {                    Plotly.newPlot(                        \"ecee5b2a-ad59-4193-bb76-4f3fb2754b00\",                        [{\"line\":{\"color\":\"blue\"},\"mode\":\"lines\",\"name\":\"Mean logloss\",\"x\":[0,1,2,3,4,5,6,7,8,9,10,11,12,13,14,15,16,17,18,19,20,21,22,23,24,25,26,27,28,29,30,31,32,33,34,35,36,37,38,39,40,41,42,43,44,45,46,47,48,49,50,51,52,53,54,55,56,57,58,59,60,61,62,63,64,65,66,67,68,69,70,71,72,73,74,75,76,77,78,79,80,81,82,83,84,85,86,87,88,89,90,91,92,93,94,95,96,97,98,99,100,101,102,103,104,105,106,107,108,109,110,111,112,113,114,115,116,117,118,119,120,121,122,123],\"y\":[0.2711255577636066,0.1222877357253707,0.0645381935276502,0.0377379165038937,0.0310291872701033,0.0240783027968858,0.0207127871001906,0.017967443705339,0.0161011503043023,0.0151830295644431,0.0144819874391178,0.0133409127832384,0.0122430061546699,0.0118320830386068,0.0116050316300795,0.0113148043429019,0.0112036347748444,0.0112034498202727,0.0111842788712399,0.0111660585252188,0.011056481916448,0.0110563598160969,0.0110562069226778,0.0110561612429767,0.011056056835009,0.0110560352211583,0.0110559962306547,0.0110559766734119,0.0110559576733145,0.0110559576733145,0.0110559410233232,0.0110559410233232,0.0110558680567089,0.0110557951085161,0.0110557951085161,0.0110557951085161,0.0110557951085161,0.0110557951085161,0.0110557951085161,0.0110557951085161,0.0110557951085161,0.0110557951085161,0.0110557951085161,0.0110557951085161,0.0110557951085161,0.0110557951085161,0.0110557951085161,0.0110557951085161,0.0110557951085161,0.0110557951085161,0.0110557951085161,0.0110557951085161,0.0110557951085161,0.0110557951085161,0.0110557726928863,0.0110557531494158,0.0110557414738292,0.0110557414738292,0.0110557414738292,0.0110557414738292,0.0110557414738292,0.0110557414738292,0.0110557414738292,0.0110557304664051,0.0110557304664051,0.0110557304664051,0.0110557304664051,0.0110557304664051,0.0110557304664051,0.0110557304664051,0.0110557304664051,0.0110557304664051,0.0110557304664051,0.0110557304664051,0.0110557304664051,0.0110557304664051,0.0110557304664051,0.0110557304664051,0.0110557304664051,0.0110557304664051,0.0110557304664051,0.0110557304664051,0.0110557304664051,0.0110557304664051,0.0110557304664051,0.0110557304664051,0.0110557304664051,0.0110557304664051,0.0110557304664051,0.0110557304664051,0.0110557304664051,0.0110557304664051,0.0110557304664051,0.0110557304664051,0.0110557304664051,0.0110557304664051,0.0110557304664051,0.0110557304664051,0.0110557304664051,0.0110557304664051,0.0110557304664051,0.0110557304664051,0.0110557304664051,0.0110557304664051,0.0110557304664051,0.0110557304664051,0.0110557304664051,0.0110557304664051,0.0110557304664051,0.0110557304664051,0.0110557304664051,0.0110557304664051,0.0110557304664051,0.0110557304664051,0.0110557304664051,0.0110557304664051,0.0110557304664051,0.0110557304664051,0.0110557266311488,0.0110557266311488,0.0110557266311488,0.0110557266311488,0.0110557266311488,0.0110557266311488],\"type\":\"scatter\"},{\"fill\":\"toself\",\"fillcolor\":\"rgba(0, 0, 255, 0.2)\",\"line\":{\"color\":\"rgba(255, 255, 255, 0)\"},\"showlegend\":false,\"x\":[0,1,2,3,4,5,6,7,8,9,10,11,12,13,14,15,16,17,18,19,20,21,22,23,24,25,26,27,28,29,30,31,32,33,34,35,36,37,38,39,40,41,42,43,44,45,46,47,48,49,50,51,52,53,54,55,56,57,58,59,60,61,62,63,64,65,66,67,68,69,70,71,72,73,74,75,76,77,78,79,80,81,82,83,84,85,86,87,88,89,90,91,92,93,94,95,96,97,98,99,100,101,102,103,104,105,106,107,108,109,110,111,112,113,114,115,116,117,118,119,120,121,122,123,123,122,121,120,119,118,117,116,115,114,113,112,111,110,109,108,107,106,105,104,103,102,101,100,99,98,97,96,95,94,93,92,91,90,89,88,87,86,85,84,83,82,81,80,79,78,77,76,75,74,73,72,71,70,69,68,67,66,65,64,63,62,61,60,59,58,57,56,55,54,53,52,51,50,49,48,47,46,45,44,43,42,41,40,39,38,37,36,35,34,33,32,31,30,29,28,27,26,25,24,23,22,21,20,19,18,17,16,15,14,13,12,11,10,9,8,7,6,5,4,3,2,1,0],\"y\":[0.36265961597441837,0.1997519773321335,0.1049813065971815,0.0639840545898802,0.056785605662561606,0.044639448248445,0.0394797899017279,0.0347982709289168,0.0318362516392482,0.0306298349088956,0.0293524822738066,0.0270497336457531,0.024975708084852,0.0243864125747994,0.0239548031883304,0.0234187741981755,0.0233845609264019,0.0233843711573811,0.0233613498717683,0.023362111666865498,0.023325221636693,0.0233249953042668,0.0233246858502499,0.0233246835697852,0.0233246114319556,0.023324611609113602,0.0233246119290832,0.0233246120897627,0.0233246122459835,0.0233246122459835,0.023324612382978,0.023324612382978,0.0233245892933244,0.0233245662114663,0.0233245662114663,0.0233245662114663,0.0233245662114663,0.0233245662114663,0.0233245662114663,0.0233245662114663,0.0233245662114663,0.0233245662114663,0.0233245662114663,0.0233245662114663,0.0233245662114663,0.0233245662114663,0.0233245662114663,0.0233245662114663,0.0233245662114663,0.0233245662114663,0.0233245662114663,0.0233245662114663,0.0233245662114663,0.0233245662114663,0.0233245663955251,0.023324566556133103,0.0233245666521422,0.0233245666521422,0.0233245666521422,0.0233245666521422,0.0233245666521422,0.0233245666521422,0.0233245666521422,0.023324566742697297,0.023324566742697297,0.023324566742697297,0.023324566742697297,0.023324566742697297,0.023324566742697297,0.023324566742697297,0.023324566742697297,0.023324566742697297,0.023324566742697297,0.023324566742697297,0.023324566742697297,0.023324566742697297,0.023324566742697297,0.023324566742697297,0.023324566742697297,0.023324566742697297,0.023324566742697297,0.023324566742697297,0.023324566742697297,0.023324566742697297,0.023324566742697297,0.023324566742697297,0.023324566742697297,0.023324566742697297,0.023324566742697297,0.023324566742697297,0.023324566742697297,0.023324566742697297,0.023324566742697297,0.023324566742697297,0.023324566742697297,0.023324566742697297,0.023324566742697297,0.023324566742697297,0.023324566742697297,0.023324566742697297,0.023324566742697297,0.023324566742697297,0.023324566742697297,0.023324566742697297,0.023324566742697297,0.023324566742697297,0.023324566742697297,0.023324566742697297,0.023324566742697297,0.023324566742697297,0.023324566742697297,0.023324566742697297,0.023324566742697297,0.023324566742697297,0.023324566742697297,0.023324566742697297,0.023324566742697297,0.023324566742697297,0.0233245667742582,0.0233245667742582,0.0233245667742582,0.0233245667742582,0.0233245667742582,0.0233245667742582,0.1795914995527948,0.04482349411860791,0.024095080458118895,0.0114917784179072,0.005272768877644999,0.0035171573453266006,0.001945784298653299,0.001136616481761197,0.00036604896935640147,-0.0002637757800093999,-0.00038850739557100104,-0.0003679080792763009,-0.0004896957755122014,-0.0007222464975858,-0.0007447399281713986,-0.0007891655123716985,-0.0009772913767131016,-0.0009774715168356998,-0.0009927921292884993,-0.0010299946164278994,-0.001212257803796999,-0.0012122756720730002,-0.0012122720048943006,-0.0012123610838318012,-0.0012124977619376014,-0.001212541166796999,-0.0012126194677737987,-0.0012126587429388998,-0.0012126968993544998,-0.0012126968993544998,-0.0012127303363316001,-0.0012127303363316001,-0.0012128531799065999,-0.0012129759944340991,-0.0012129759944340991,-0.0012129759944340991,-0.0012129759944340991,-0.0012129759944340991,-0.0012129759944340991,-0.0012129759944340991,-0.0012129759944340991,-0.0012129759944340991,-0.0012129759944340991,-0.0012129759944340991,-0.0012129759944340991,-0.0012129759944340991,-0.0012129759944340991,-0.0012129759944340991,-0.0012129759944340991,-0.0012129759944340991,-0.0012129759944340991,-0.0012129759944340991,-0.0012129759944340991,-0.0012129759944340991,-0.001213021009752499,-0.0012130602573014997,-0.0012130837044837996,-0.0012130837044837996,-0.0012130837044837996,-0.0012130837044837996,-0.0012130837044837996,-0.0012130837044837996,-0.0012130837044837996,-0.0012131058098870991,-0.0012131058098870991,-0.0012131058098870991,-0.0012131058098870991,-0.0012131058098870991,-0.0012131058098870991,-0.0012131058098870991,-0.0012131058098870991,-0.0012131058098870991,-0.0012131058098870991,-0.0012131058098870991,-0.0012131058098870991,-0.0012131058098870991,-0.0012131058098870991,-0.0012131058098870991,-0.0012131058098870991,-0.0012131058098870991,-0.0012131058098870991,-0.0012131058098870991,-0.0012131058098870991,-0.0012131058098870991,-0.0012131058098870991,-0.0012131058098870991,-0.0012131058098870991,-0.0012131058098870991,-0.0012131058098870991,-0.0012131058098870991,-0.0012131058098870991,-0.0012131058098870991,-0.0012131058098870991,-0.0012131058098870991,-0.0012131058098870991,-0.0012131058098870991,-0.0012131058098870991,-0.0012131058098870991,-0.0012131058098870991,-0.0012131058098870991,-0.0012131058098870991,-0.0012131058098870991,-0.0012131058098870991,-0.0012131058098870991,-0.0012131058098870991,-0.0012131058098870991,-0.0012131058098870991,-0.0012131058098870991,-0.0012131058098870991,-0.0012131058098870991,-0.0012131058098870991,-0.0012131058098870991,-0.0012131058098870991,-0.0012131058098870991,-0.0012131058098870991,-0.0012131058098870991,-0.0012131058098870991,-0.0012131058098870991,-0.0012131135119606007,-0.0012131135119606007,-0.0012131135119606007,-0.0012131135119606007,-0.0012131135119606007,-0.0012131135119606007],\"type\":\"scatter\"}],                        {\"template\":{\"data\":{\"barpolar\":[{\"marker\":{\"line\":{\"color\":\"white\",\"width\":0.5},\"pattern\":{\"fillmode\":\"overlay\",\"size\":10,\"solidity\":0.2}},\"type\":\"barpolar\"}],\"bar\":[{\"error_x\":{\"color\":\"#2a3f5f\"},\"error_y\":{\"color\":\"#2a3f5f\"},\"marker\":{\"line\":{\"color\":\"white\",\"width\":0.5},\"pattern\":{\"fillmode\":\"overlay\",\"size\":10,\"solidity\":0.2}},\"type\":\"bar\"}],\"carpet\":[{\"aaxis\":{\"endlinecolor\":\"#2a3f5f\",\"gridcolor\":\"#C8D4E3\",\"linecolor\":\"#C8D4E3\",\"minorgridcolor\":\"#C8D4E3\",\"startlinecolor\":\"#2a3f5f\"},\"baxis\":{\"endlinecolor\":\"#2a3f5f\",\"gridcolor\":\"#C8D4E3\",\"linecolor\":\"#C8D4E3\",\"minorgridcolor\":\"#C8D4E3\",\"startlinecolor\":\"#2a3f5f\"},\"type\":\"carpet\"}],\"choropleth\":[{\"colorbar\":{\"outlinewidth\":0,\"ticks\":\"\"},\"type\":\"choropleth\"}],\"contourcarpet\":[{\"colorbar\":{\"outlinewidth\":0,\"ticks\":\"\"},\"type\":\"contourcarpet\"}],\"contour\":[{\"colorbar\":{\"outlinewidth\":0,\"ticks\":\"\"},\"colorscale\":[[0.0,\"#0d0887\"],[0.1111111111111111,\"#46039f\"],[0.2222222222222222,\"#7201a8\"],[0.3333333333333333,\"#9c179e\"],[0.4444444444444444,\"#bd3786\"],[0.5555555555555556,\"#d8576b\"],[0.6666666666666666,\"#ed7953\"],[0.7777777777777778,\"#fb9f3a\"],[0.8888888888888888,\"#fdca26\"],[1.0,\"#f0f921\"]],\"type\":\"contour\"}],\"heatmapgl\":[{\"colorbar\":{\"outlinewidth\":0,\"ticks\":\"\"},\"colorscale\":[[0.0,\"#0d0887\"],[0.1111111111111111,\"#46039f\"],[0.2222222222222222,\"#7201a8\"],[0.3333333333333333,\"#9c179e\"],[0.4444444444444444,\"#bd3786\"],[0.5555555555555556,\"#d8576b\"],[0.6666666666666666,\"#ed7953\"],[0.7777777777777778,\"#fb9f3a\"],[0.8888888888888888,\"#fdca26\"],[1.0,\"#f0f921\"]],\"type\":\"heatmapgl\"}],\"heatmap\":[{\"colorbar\":{\"outlinewidth\":0,\"ticks\":\"\"},\"colorscale\":[[0.0,\"#0d0887\"],[0.1111111111111111,\"#46039f\"],[0.2222222222222222,\"#7201a8\"],[0.3333333333333333,\"#9c179e\"],[0.4444444444444444,\"#bd3786\"],[0.5555555555555556,\"#d8576b\"],[0.6666666666666666,\"#ed7953\"],[0.7777777777777778,\"#fb9f3a\"],[0.8888888888888888,\"#fdca26\"],[1.0,\"#f0f921\"]],\"type\":\"heatmap\"}],\"histogram2dcontour\":[{\"colorbar\":{\"outlinewidth\":0,\"ticks\":\"\"},\"colorscale\":[[0.0,\"#0d0887\"],[0.1111111111111111,\"#46039f\"],[0.2222222222222222,\"#7201a8\"],[0.3333333333333333,\"#9c179e\"],[0.4444444444444444,\"#bd3786\"],[0.5555555555555556,\"#d8576b\"],[0.6666666666666666,\"#ed7953\"],[0.7777777777777778,\"#fb9f3a\"],[0.8888888888888888,\"#fdca26\"],[1.0,\"#f0f921\"]],\"type\":\"histogram2dcontour\"}],\"histogram2d\":[{\"colorbar\":{\"outlinewidth\":0,\"ticks\":\"\"},\"colorscale\":[[0.0,\"#0d0887\"],[0.1111111111111111,\"#46039f\"],[0.2222222222222222,\"#7201a8\"],[0.3333333333333333,\"#9c179e\"],[0.4444444444444444,\"#bd3786\"],[0.5555555555555556,\"#d8576b\"],[0.6666666666666666,\"#ed7953\"],[0.7777777777777778,\"#fb9f3a\"],[0.8888888888888888,\"#fdca26\"],[1.0,\"#f0f921\"]],\"type\":\"histogram2d\"}],\"histogram\":[{\"marker\":{\"pattern\":{\"fillmode\":\"overlay\",\"size\":10,\"solidity\":0.2}},\"type\":\"histogram\"}],\"mesh3d\":[{\"colorbar\":{\"outlinewidth\":0,\"ticks\":\"\"},\"type\":\"mesh3d\"}],\"parcoords\":[{\"line\":{\"colorbar\":{\"outlinewidth\":0,\"ticks\":\"\"}},\"type\":\"parcoords\"}],\"pie\":[{\"automargin\":true,\"type\":\"pie\"}],\"scatter3d\":[{\"line\":{\"colorbar\":{\"outlinewidth\":0,\"ticks\":\"\"}},\"marker\":{\"colorbar\":{\"outlinewidth\":0,\"ticks\":\"\"}},\"type\":\"scatter3d\"}],\"scattercarpet\":[{\"marker\":{\"colorbar\":{\"outlinewidth\":0,\"ticks\":\"\"}},\"type\":\"scattercarpet\"}],\"scattergeo\":[{\"marker\":{\"colorbar\":{\"outlinewidth\":0,\"ticks\":\"\"}},\"type\":\"scattergeo\"}],\"scattergl\":[{\"marker\":{\"colorbar\":{\"outlinewidth\":0,\"ticks\":\"\"}},\"type\":\"scattergl\"}],\"scattermapbox\":[{\"marker\":{\"colorbar\":{\"outlinewidth\":0,\"ticks\":\"\"}},\"type\":\"scattermapbox\"}],\"scatterpolargl\":[{\"marker\":{\"colorbar\":{\"outlinewidth\":0,\"ticks\":\"\"}},\"type\":\"scatterpolargl\"}],\"scatterpolar\":[{\"marker\":{\"colorbar\":{\"outlinewidth\":0,\"ticks\":\"\"}},\"type\":\"scatterpolar\"}],\"scatter\":[{\"fillpattern\":{\"fillmode\":\"overlay\",\"size\":10,\"solidity\":0.2},\"type\":\"scatter\"}],\"scatterternary\":[{\"marker\":{\"colorbar\":{\"outlinewidth\":0,\"ticks\":\"\"}},\"type\":\"scatterternary\"}],\"surface\":[{\"colorbar\":{\"outlinewidth\":0,\"ticks\":\"\"},\"colorscale\":[[0.0,\"#0d0887\"],[0.1111111111111111,\"#46039f\"],[0.2222222222222222,\"#7201a8\"],[0.3333333333333333,\"#9c179e\"],[0.4444444444444444,\"#bd3786\"],[0.5555555555555556,\"#d8576b\"],[0.6666666666666666,\"#ed7953\"],[0.7777777777777778,\"#fb9f3a\"],[0.8888888888888888,\"#fdca26\"],[1.0,\"#f0f921\"]],\"type\":\"surface\"}],\"table\":[{\"cells\":{\"fill\":{\"color\":\"#EBF0F8\"},\"line\":{\"color\":\"white\"}},\"header\":{\"fill\":{\"color\":\"#C8D4E3\"},\"line\":{\"color\":\"white\"}},\"type\":\"table\"}]},\"layout\":{\"annotationdefaults\":{\"arrowcolor\":\"#2a3f5f\",\"arrowhead\":0,\"arrowwidth\":1},\"autotypenumbers\":\"strict\",\"coloraxis\":{\"colorbar\":{\"outlinewidth\":0,\"ticks\":\"\"}},\"colorscale\":{\"diverging\":[[0,\"#8e0152\"],[0.1,\"#c51b7d\"],[0.2,\"#de77ae\"],[0.3,\"#f1b6da\"],[0.4,\"#fde0ef\"],[0.5,\"#f7f7f7\"],[0.6,\"#e6f5d0\"],[0.7,\"#b8e186\"],[0.8,\"#7fbc41\"],[0.9,\"#4d9221\"],[1,\"#276419\"]],\"sequential\":[[0.0,\"#0d0887\"],[0.1111111111111111,\"#46039f\"],[0.2222222222222222,\"#7201a8\"],[0.3333333333333333,\"#9c179e\"],[0.4444444444444444,\"#bd3786\"],[0.5555555555555556,\"#d8576b\"],[0.6666666666666666,\"#ed7953\"],[0.7777777777777778,\"#fb9f3a\"],[0.8888888888888888,\"#fdca26\"],[1.0,\"#f0f921\"]],\"sequentialminus\":[[0.0,\"#0d0887\"],[0.1111111111111111,\"#46039f\"],[0.2222222222222222,\"#7201a8\"],[0.3333333333333333,\"#9c179e\"],[0.4444444444444444,\"#bd3786\"],[0.5555555555555556,\"#d8576b\"],[0.6666666666666666,\"#ed7953\"],[0.7777777777777778,\"#fb9f3a\"],[0.8888888888888888,\"#fdca26\"],[1.0,\"#f0f921\"]]},\"colorway\":[\"#636efa\",\"#EF553B\",\"#00cc96\",\"#ab63fa\",\"#FFA15A\",\"#19d3f3\",\"#FF6692\",\"#B6E880\",\"#FF97FF\",\"#FECB52\"],\"font\":{\"color\":\"#2a3f5f\"},\"geo\":{\"bgcolor\":\"white\",\"lakecolor\":\"white\",\"landcolor\":\"white\",\"showlakes\":true,\"showland\":true,\"subunitcolor\":\"#C8D4E3\"},\"hoverlabel\":{\"align\":\"left\"},\"hovermode\":\"closest\",\"mapbox\":{\"style\":\"light\"},\"paper_bgcolor\":\"white\",\"plot_bgcolor\":\"white\",\"polar\":{\"angularaxis\":{\"gridcolor\":\"#EBF0F8\",\"linecolor\":\"#EBF0F8\",\"ticks\":\"\"},\"bgcolor\":\"white\",\"radialaxis\":{\"gridcolor\":\"#EBF0F8\",\"linecolor\":\"#EBF0F8\",\"ticks\":\"\"}},\"scene\":{\"xaxis\":{\"backgroundcolor\":\"white\",\"gridcolor\":\"#DFE8F3\",\"gridwidth\":2,\"linecolor\":\"#EBF0F8\",\"showbackground\":true,\"ticks\":\"\",\"zerolinecolor\":\"#EBF0F8\"},\"yaxis\":{\"backgroundcolor\":\"white\",\"gridcolor\":\"#DFE8F3\",\"gridwidth\":2,\"linecolor\":\"#EBF0F8\",\"showbackground\":true,\"ticks\":\"\",\"zerolinecolor\":\"#EBF0F8\"},\"zaxis\":{\"backgroundcolor\":\"white\",\"gridcolor\":\"#DFE8F3\",\"gridwidth\":2,\"linecolor\":\"#EBF0F8\",\"showbackground\":true,\"ticks\":\"\",\"zerolinecolor\":\"#EBF0F8\"}},\"shapedefaults\":{\"line\":{\"color\":\"#2a3f5f\"}},\"ternary\":{\"aaxis\":{\"gridcolor\":\"#DFE8F3\",\"linecolor\":\"#A2B1C6\",\"ticks\":\"\"},\"baxis\":{\"gridcolor\":\"#DFE8F3\",\"linecolor\":\"#A2B1C6\",\"ticks\":\"\"},\"bgcolor\":\"white\",\"caxis\":{\"gridcolor\":\"#DFE8F3\",\"linecolor\":\"#A2B1C6\",\"ticks\":\"\"}},\"title\":{\"x\":0.05},\"xaxis\":{\"automargin\":true,\"gridcolor\":\"#EBF0F8\",\"linecolor\":\"#EBF0F8\",\"ticks\":\"\",\"title\":{\"standoff\":15},\"zerolinecolor\":\"#EBF0F8\",\"zerolinewidth\":2},\"yaxis\":{\"automargin\":true,\"gridcolor\":\"#EBF0F8\",\"linecolor\":\"#EBF0F8\",\"ticks\":\"\",\"title\":{\"standoff\":15},\"zerolinecolor\":\"#EBF0F8\",\"zerolinewidth\":2}}},\"title\":{\"text\":\"Cross-Validation (N=5) Mean Logloss with Error Bands\"},\"xaxis\":{\"title\":{\"text\":\"Training Steps\"}},\"yaxis\":{\"title\":{\"text\":\"Logloss\"}}},                        {\"responsive\": true}                    ).then(function(){\n",
       "                            \n",
       "var gd = document.getElementById('ecee5b2a-ad59-4193-bb76-4f3fb2754b00');\n",
       "var x = new MutationObserver(function (mutations, observer) {{\n",
       "        var display = window.getComputedStyle(gd).display;\n",
       "        if (!display || display === 'none') {{\n",
       "            console.log([gd, 'removed!']);\n",
       "            Plotly.purge(gd);\n",
       "            observer.disconnect();\n",
       "        }}\n",
       "}});\n",
       "\n",
       "// Listen for the removal of the full notebook cells\n",
       "var notebookContainer = gd.closest('#notebook-container');\n",
       "if (notebookContainer) {{\n",
       "    x.observe(notebookContainer, {childList: true});\n",
       "}}\n",
       "\n",
       "// Listen for the clearing of the current output cell\n",
       "var outputEl = gd.closest('.output');\n",
       "if (outputEl) {{\n",
       "    x.observe(outputEl, {childList: true});\n",
       "}}\n",
       "\n",
       "                        })                };                });            </script>        </div>"
      ]
     },
     "metadata": {},
     "output_type": "display_data"
    }
   ],
   "source": [
    "plot_error_scatter(\n",
    "    df_plot=cv_results,\n",
    "    x=\"iterations\",\n",
    "    y=\"test-Logloss-mean\",\n",
    "    err=\"test-Logloss-std\",\n",
    "    name=\"Mean logloss\",\n",
    "    title=\"Cross-Validation (N=5) Mean Logloss with Error Bands\",\n",
    "    xtitle=\"Training Steps\",\n",
    "    ytitle=\"Logloss\",\n",
    ")"
   ]
  },
  {
   "cell_type": "code",
   "execution_count": null,
   "metadata": {},
   "outputs": [
    {
     "data": {
      "application/vnd.jupyter.widget-view+json": {
       "model_id": "e1d7a95937794d3a9af1cd9c64b17c0d",
       "version_major": 2,
       "version_minor": 0
      },
      "text/plain": [
       "MetricVisualizer(layout=Layout(align_self='stretch', height='500px'))"
      ]
     },
     "metadata": {},
     "output_type": "display_data"
    },
    {
     "name": "stderr",
     "output_type": "stream",
     "text": [
      "\u001b[32m2025-05-17 20:10:07.134\u001b[0m | \u001b[33m\u001b[1mWARNING \u001b[0m | \u001b[36mARISA_DSML.train\u001b[0m:\u001b[36mtrain\u001b[0m:\u001b[36m148\u001b[0m - \u001b[33m\u001b[1mcv_results is not a DataFrame. Skipping cv metrics and plots.\u001b[0m\n"
     ]
    },
    {
     "name": "stdout",
     "output_type": "stream",
     "text": [
      "0:\tlearn: 0.9747899\ttotal: 1.25ms\tremaining: 154ms\n",
      "50:\tlearn: 1.0000000\ttotal: 31.4ms\tremaining: 45ms\n",
      "100:\tlearn: 1.0000000\ttotal: 48.8ms\tremaining: 11.1ms\n",
      "123:\tlearn: 1.0000000\ttotal: 67.6ms\tremaining: 0us\n"
     ]
    },
    {
     "name": "stderr",
     "output_type": "stream",
     "text": [
      "/home/codespace/.python/current/lib/python3.12/site-packages/mlflow/types/utils.py:452: UserWarning:\n",
      "\n",
      "Hint: Inferred schema contains integer column(s). Integer columns in Python cannot represent missing values. If your input data contains missing values at inference time, it will be encoded as floats and will cause a schema enforcement error. The best way to avoid this problem is to infer the model schema based on a realistic data sample (training dataset) that includes missing values. Alternatively, you can declare integer columns as doubles (float64) whenever these columns may have missing values. See `Handling Integers With Missing Values <https://www.mlflow.org/docs/latest/models.html#handling-integers-with-missing-values>`_ for more details.\n",
      "\n",
      "Registered model 'cholesterol-pred-bclass' already exists. Creating a new version of this model...\n",
      "2025/05/17 20:10:10 INFO mlflow.store.model_registry.abstract_store: Waiting up to 300 seconds for model version to finish creation. Model name: cholesterol-pred-bclass, version 3\n",
      "Created version '3' of model 'cholesterol-pred-bclass'.\n",
      "/workspaces/Predict_cholesterol/ARISA_MLOps-Structure/ARISA_DSML/train.py:158: FutureWarning:\n",
      "\n",
      "``mlflow.tracking.client.MlflowClient.get_latest_versions`` is deprecated since 2.9.0. Model registry stages will be removed in a future major release. To learn more about the deprecation of model registry stages, see our migration guide here: https://mlflow.org/docs/latest/model-registry.html#migrating-from-stages\n",
      "\n",
      "/home/codespace/.python/current/lib/python3.12/site-packages/nannyml/chunk.py:181: UserWarning:\n",
      "\n",
      "The resulting number of chunks is too low. Please consider splitting your data in a different way or continue at your own risk.\n",
      "\n",
      "/home/codespace/.python/current/lib/python3.12/site-packages/nannyml/chunk.py:181: UserWarning:\n",
      "\n",
      "The resulting number of chunks is too low. Please consider splitting your data in a different way or continue at your own risk.\n",
      "\n",
      "/home/codespace/.python/current/lib/python3.12/site-packages/nannyml/chunk.py:181: UserWarning:\n",
      "\n",
      "The resulting number of chunks is too low. Please consider splitting your data in a different way or continue at your own risk.\n",
      "\n",
      "/home/codespace/.python/current/lib/python3.12/site-packages/nannyml/chunk.py:181: UserWarning:\n",
      "\n",
      "The resulting number of chunks is too low. Please consider splitting your data in a different way or continue at your own risk.\n",
      "\n",
      "/home/codespace/.python/current/lib/python3.12/site-packages/nannyml/chunk.py:181: UserWarning:\n",
      "\n",
      "The resulting number of chunks is too low. Please consider splitting your data in a different way or continue at your own risk.\n",
      "\n",
      "/home/codespace/.python/current/lib/python3.12/site-packages/nannyml/chunk.py:181: UserWarning:\n",
      "\n",
      "The resulting number of chunks is too low. Please consider splitting your data in a different way or continue at your own risk.\n",
      "\n",
      "/home/codespace/.python/current/lib/python3.12/site-packages/nannyml/chunk.py:181: UserWarning:\n",
      "\n",
      "The resulting number of chunks is too low. Please consider splitting your data in a different way or continue at your own risk.\n",
      "\n",
      "/home/codespace/.python/current/lib/python3.12/site-packages/nannyml/chunk.py:181: UserWarning:\n",
      "\n",
      "The resulting number of chunks is too low. Please consider splitting your data in a different way or continue at your own risk.\n",
      "\n",
      "/home/codespace/.python/current/lib/python3.12/site-packages/nannyml/chunk.py:181: UserWarning:\n",
      "\n",
      "The resulting number of chunks is too low. Please consider splitting your data in a different way or continue at your own risk.\n",
      "\n",
      "/home/codespace/.python/current/lib/python3.12/site-packages/nannyml/chunk.py:181: UserWarning:\n",
      "\n",
      "The resulting number of chunks is too low. Please consider splitting your data in a different way or continue at your own risk.\n",
      "\n",
      "/home/codespace/.python/current/lib/python3.12/site-packages/nannyml/chunk.py:181: UserWarning:\n",
      "\n",
      "The resulting number of chunks is too low. Please consider splitting your data in a different way or continue at your own risk.\n",
      "\n",
      "INFO:nannyml.base:fitting nannyml.performance_estimation.confidence_based.cbpe.CBPE\n",
      "/home/codespace/.python/current/lib/python3.12/site-packages/nannyml/chunk.py:181: UserWarning:\n",
      "\n",
      "The resulting number of chunks is too low. Please consider splitting your data in a different way or continue at your own risk.\n",
      "\n",
      "WARNING:nannyml.performance_estimation.confidence_based.metrics:roc_auc upper threshold value 1.0 overridden by upper threshold value limit 1\n",
      "/home/codespace/.python/current/lib/python3.12/site-packages/nannyml/chunk.py:181: UserWarning:\n",
      "\n",
      "The resulting number of chunks is too low. Please consider splitting your data in a different way or continue at your own risk.\n",
      "\n",
      "INFO:nannyml.io.store.base:storing object \"<nannyml.drift.univariate.calculator.UnivariateDriftCalculator object at 0x75cae704d910>\" to store \"nannyml.io.store.file_store.FilesystemStore\"\n",
      "INFO:nannyml.io.store.base:storing object \"nannyml.performance_estimation.confidence_based.cbpe.CBPE\" to store \"nannyml.io.store.file_store.FilesystemStore\"\n"
     ]
    },
    {
     "name": "stdout",
     "output_type": "stream",
     "text": [
      "🏃 View run delightful-sow-916 at: http://127.0.0.1:5000/#/experiments/927657685548945580/runs/7c13a907a5e14c4184eba86b2319b2d2\n",
      "🧪 View experiment at: http://127.0.0.1:5000/#/experiments/927657685548945580\n"
     ]
    }
   ],
   "source": [
    "from ARISA_DSML.train import train\n",
    "\n",
    "model_path, model_params_path = train(X_train, y_train, params)"
   ]
  },
  {
   "cell_type": "code",
   "execution_count": null,
   "metadata": {},
   "outputs": [],
   "source": [
    "dataset_test_path = RAW_DATA_DIR / \"test_cholesterol.xlsx\"\n",
    "preprocced_test_path = preprocess_df(dataset_test_path)\n",
    "df_test = pd.read_csv(preprocced_test_path)\n"
   ]
  },
  {
   "cell_type": "code",
   "execution_count": null,
   "metadata": {},
   "outputs": [
    {
     "data": {
      "text/plain": [
       "{'depth': 5,\n",
       " 'learning_rate': 0.2995567111497413,\n",
       " 'iterations': 124,\n",
       " 'l2_leaf_reg': 0.11084080958223169,\n",
       " 'bagging_temperature': 0.9921093034173206,\n",
       " 'random_strength': 0.19224056696382372,\n",
       " 'eval_metric': 'F1',\n",
       " 'loss_function': 'Logloss'}"
      ]
     },
     "metadata": {},
     "output_type": "display_data"
    },
    {
     "data": {
      "image/png": "[encoded data removed]",
      "text/plain": [
       "<Figure size 800x590 with 2 Axes>"
      ]
     },
     "metadata": {},
     "output_type": "display_data"
    }
   ],
   "source": [
    "from ARISA_DSML.predict import predict\n",
    "from catboost import CatBoostClassifier\n",
    "\n",
    "params = joblib.load(model_params_path)\n",
    "display(params)\n",
    "from_file = CatBoostClassifier()\n",
    "model = from_file.load_model(str(model_path))\n",
    "preds_path = predict(model, df_test, params)"
   ]
  }
 ],
 "metadata": {
  "kernelspec": {
   "display_name": "Python 3",
   "language": "python",
   "name": "python3"
  },
  "language_info": {
   "codemirror_mode": {
    "name": "ipython",
    "version": 3
   },
   "file_extension": ".py",
   "mimetype": "text/x-python",
   "name": "python",
   "nbconvert_exporter": "python",
   "pygments_lexer": "ipython3",
   "version": "3.11.13"
  }
 },
 "nbformat": 4,
 "nbformat_minor": 2
}

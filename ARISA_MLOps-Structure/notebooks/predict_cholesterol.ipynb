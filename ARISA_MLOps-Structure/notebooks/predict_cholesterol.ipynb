{
 "cells": [
  {
   "cell_type": "code",
   "execution_count": 17,
   "metadata": {},
   "outputs": [
    {
     "name": "stdout",
     "output_type": "stream",
     "text": [
      "The autoreload extension is already loaded. To reload it, use:\n",
      "  %reload_ext autoreload\n"
     ]
    }
   ],
   "source": [
    "%load_ext autoreload\n",
    "%autoreload 2"
   ]
  },
  {
   "cell_type": "code",
   "execution_count": 18,
   "metadata": {},
   "outputs": [],
   "source": [
    "import sys\n",
    "import os\n",
    "\n",
    "sys.path.append(os.path.abspath(\"..\"))\n",
    "\n",
    "from ARISA_DSML.preproc import get_raw_data\n",
    "from ARISA_DSML.config import RAW_DATA_DIR, target"
   ]
  },
  {
   "cell_type": "code",
   "execution_count": 19,
   "metadata": {},
   "outputs": [],
   "source": [
    "import os\n",
    "from pathlib import Path\n",
    "container_check = os.getenv(\"iscontainer\")\n",
    "if container_check==\"y\":\n",
    "    config_dir = Path(\"/home/vscode/.config/kaggle\")\n",
    "    config_dir.mkdir(parents=True, exist_ok=True)\n",
    "\n",
    "    with open(config_dir / \"kaggle.json\", \"w\") as dst:\n",
    "        with open(\"../kaggle.json\", \"r\") as src:\n",
    "            dst.write(src.read())"
   ]
  },
  {
   "cell_type": "code",
   "execution_count": 20,
   "metadata": {},
   "outputs": [
    {
     "name": "stderr",
     "output_type": "stream",
     "text": [
      "\u001b[32m2025-05-08 20:13:40.855\u001b[0m | \u001b[1mINFO    \u001b[0m | \u001b[36mARISA_DSML.preproc\u001b[0m:\u001b[36mget_raw_data\u001b[0m:\u001b[36m21\u001b[0m - \u001b[1mDownloading data to: /workspaces/Predict_cholesterol/ARISA_MLOps-Structure/data/raw\u001b[0m\n"
     ]
    },
    {
     "name": "stdout",
     "output_type": "stream",
     "text": [
      "Dataset URL: https://www.kaggle.com/datasets/joannborkowska/cholesterol-supplementation-classification\n"
     ]
    },
    {
     "name": "stderr",
     "output_type": "stream",
     "text": [
      "\u001b[32m2025-05-08 20:13:41.434\u001b[0m | \u001b[1mINFO    \u001b[0m | \u001b[36mARISA_DSML.preproc\u001b[0m:\u001b[36mget_raw_data\u001b[0m:\u001b[36m33\u001b[0m - \u001b[1mDataset download and extraction completed successfully\u001b[0m\n"
     ]
    },
    {
     "name": "stdout",
     "output_type": "stream",
     "text": [
      "test_cholesterol.xlsx  train_choloesterol.xlsx\n"
     ]
    }
   ],
   "source": [
    "get_raw_data()\n",
    "!dir \"{RAW_DATA_DIR}\""
   ]
  },
  {
   "cell_type": "code",
   "execution_count": 21,
   "metadata": {},
   "outputs": [],
   "source": [
    "from ARISA_DSML.preproc import preprocess_df\n",
    "\n",
    "train_path = preprocess_df(RAW_DATA_DIR / \"train_choloesterol.xlsx\")"
   ]
  },
  {
   "cell_type": "code",
   "execution_count": 22,
   "metadata": {},
   "outputs": [],
   "source": [
    "import pandas as pd\n",
    "df_train = pd.read_csv(train_path)"
   ]
  },
  {
   "cell_type": "code",
   "execution_count": 23,
   "metadata": {},
   "outputs": [],
   "source": [
    "y_train = df_train.pop(target)\n",
    "X_train = df_train"
   ]
  },
  {
   "cell_type": "code",
   "execution_count": 24,
   "metadata": {},
   "outputs": [
    {
     "name": "stderr",
     "output_type": "stream",
     "text": [
      "\u001b[32m2025-05-08 20:13:43.028\u001b[0m | \u001b[1mINFO    \u001b[0m | \u001b[36mARISA_DSML.train\u001b[0m:\u001b[36mrun_hyperopt\u001b[0m:\u001b[36m69\u001b[0m - \u001b[1mBest Parameters: {'depth': 5, 'learning_rate': 0.2995567111497413, 'iterations': 124, 'l2_leaf_reg': 0.11084080958223169, 'bagging_temperature': 0.9921093034173206, 'random_strength': 0.19224056696382372}\u001b[0m\n"
     ]
    }
   ],
   "source": [
    "from ARISA_DSML.train import run_hyperopt\n",
    "\n",
    "best_params_path = run_hyperopt(X_train, y_train)"
   ]
  },
  {
   "cell_type": "code",
   "execution_count": 25,
   "metadata": {},
   "outputs": [],
   "source": [
    "%reload_ext autoreload"
   ]
  },
  {
   "cell_type": "code",
   "execution_count": 26,
   "metadata": {},
   "outputs": [
    {
     "data": {
      "text/plain": [
       "{'depth': 5,\n",
       " 'learning_rate': 0.2995567111497413,\n",
       " 'iterations': 124,\n",
       " 'l2_leaf_reg': 0.11084080958223169,\n",
       " 'bagging_temperature': 0.9921093034173206,\n",
       " 'random_strength': 0.19224056696382372}"
      ]
     },
     "metadata": {},
     "output_type": "display_data"
    },
    {
     "name": "stdout",
     "output_type": "stream",
     "text": [
      "Training on fold [0/5]\n"
     ]
    },
    {
     "data": {
      "application/vnd.jupyter.widget-view+json": {
       "model_id": "ca106b8c87904e2899dd61605f8e62bf",
       "version_major": 2,
       "version_minor": 0
      },
      "text/plain": [
       "MetricVisualizer(layout=Layout(align_self='stretch', height='500px'))"
      ]
     },
     "metadata": {},
     "output_type": "display_data"
    },
    {
     "name": "stdout",
     "output_type": "stream",
     "text": [
      "0:\tlearn: 0.9890110\ttest: 0.8000000\tbest: 0.8000000 (0)\ttotal: 3.04ms\tremaining: 374ms\n",
      "1:\tlearn: 1.0000000\ttest: 0.8000000\tbest: 0.8000000 (0)\ttotal: 4.51ms\tremaining: 275ms\n",
      "2:\tlearn: 1.0000000\ttest: 1.0000000\tbest: 1.0000000 (2)\ttotal: 5.2ms\tremaining: 210ms\n",
      "3:\tlearn: 1.0000000\ttest: 1.0000000\tbest: 1.0000000 (2)\ttotal: 5.94ms\tremaining: 178ms\n",
      "4:\tlearn: 1.0000000\ttest: 1.0000000\tbest: 1.0000000 (2)\ttotal: 6.58ms\tremaining: 157ms\n",
      "5:\tlearn: 1.0000000\ttest: 1.0000000\tbest: 1.0000000 (2)\ttotal: 7.18ms\tremaining: 141ms\n",
      "6:\tlearn: 1.0000000\ttest: 1.0000000\tbest: 1.0000000 (2)\ttotal: 7.78ms\tremaining: 130ms\n",
      "7:\tlearn: 1.0000000\ttest: 1.0000000\tbest: 1.0000000 (2)\ttotal: 8.4ms\tremaining: 122ms\n",
      "8:\tlearn: 1.0000000\ttest: 1.0000000\tbest: 1.0000000 (2)\ttotal: 9ms\tremaining: 115ms\n",
      "9:\tlearn: 1.0000000\ttest: 1.0000000\tbest: 1.0000000 (2)\ttotal: 9.59ms\tremaining: 109ms\n",
      "10:\tlearn: 1.0000000\ttest: 1.0000000\tbest: 1.0000000 (2)\ttotal: 10.2ms\tremaining: 105ms\n",
      "11:\tlearn: 1.0000000\ttest: 1.0000000\tbest: 1.0000000 (2)\ttotal: 10.8ms\tremaining: 101ms\n",
      "12:\tlearn: 1.0000000\ttest: 1.0000000\tbest: 1.0000000 (2)\ttotal: 11.4ms\tremaining: 97.3ms\n",
      "13:\tlearn: 1.0000000\ttest: 1.0000000\tbest: 1.0000000 (2)\ttotal: 13.1ms\tremaining: 103ms\n",
      "14:\tlearn: 1.0000000\ttest: 1.0000000\tbest: 1.0000000 (2)\ttotal: 13.7ms\tremaining: 99.9ms\n",
      "15:\tlearn: 1.0000000\ttest: 1.0000000\tbest: 1.0000000 (2)\ttotal: 14.3ms\tremaining: 96.7ms\n",
      "16:\tlearn: 1.0000000\ttest: 1.0000000\tbest: 1.0000000 (2)\ttotal: 14.9ms\tremaining: 93.8ms\n",
      "17:\tlearn: 1.0000000\ttest: 1.0000000\tbest: 1.0000000 (2)\ttotal: 15.4ms\tremaining: 91ms\n",
      "18:\tlearn: 1.0000000\ttest: 1.0000000\tbest: 1.0000000 (2)\ttotal: 16ms\tremaining: 88.2ms\n",
      "19:\tlearn: 1.0000000\ttest: 1.0000000\tbest: 1.0000000 (2)\ttotal: 16.5ms\tremaining: 85.8ms\n",
      "20:\tlearn: 1.0000000\ttest: 1.0000000\tbest: 1.0000000 (2)\ttotal: 17ms\tremaining: 83.5ms\n",
      "21:\tlearn: 1.0000000\ttest: 1.0000000\tbest: 1.0000000 (2)\ttotal: 17.6ms\tremaining: 81.5ms\n",
      "22:\tlearn: 1.0000000\ttest: 1.0000000\tbest: 1.0000000 (2)\ttotal: 18.1ms\tremaining: 79.5ms\n",
      "23:\tlearn: 1.0000000\ttest: 1.0000000\tbest: 1.0000000 (2)\ttotal: 18.6ms\tremaining: 77.6ms\n",
      "24:\tlearn: 1.0000000\ttest: 1.0000000\tbest: 1.0000000 (2)\ttotal: 19.2ms\tremaining: 75.9ms\n",
      "25:\tlearn: 1.0000000\ttest: 1.0000000\tbest: 1.0000000 (2)\ttotal: 19.7ms\tremaining: 74.2ms\n",
      "26:\tlearn: 1.0000000\ttest: 1.0000000\tbest: 1.0000000 (2)\ttotal: 20.2ms\tremaining: 72.6ms\n",
      "27:\tlearn: 1.0000000\ttest: 1.0000000\tbest: 1.0000000 (2)\ttotal: 20.8ms\tremaining: 71.1ms\n",
      "28:\tlearn: 1.0000000\ttest: 1.0000000\tbest: 1.0000000 (2)\ttotal: 21.3ms\tremaining: 69.7ms\n",
      "29:\tlearn: 1.0000000\ttest: 1.0000000\tbest: 1.0000000 (2)\ttotal: 21.8ms\tremaining: 68.3ms\n",
      "30:\tlearn: 1.0000000\ttest: 1.0000000\tbest: 1.0000000 (2)\ttotal: 22.3ms\tremaining: 67ms\n",
      "31:\tlearn: 1.0000000\ttest: 1.0000000\tbest: 1.0000000 (2)\ttotal: 22.8ms\tremaining: 65.7ms\n",
      "32:\tlearn: 1.0000000\ttest: 1.0000000\tbest: 1.0000000 (2)\ttotal: 23.4ms\tremaining: 64.6ms\n",
      "33:\tlearn: 1.0000000\ttest: 1.0000000\tbest: 1.0000000 (2)\ttotal: 24ms\tremaining: 63.5ms\n",
      "34:\tlearn: 1.0000000\ttest: 1.0000000\tbest: 1.0000000 (2)\ttotal: 24.6ms\tremaining: 62.4ms\n",
      "35:\tlearn: 1.0000000\ttest: 1.0000000\tbest: 1.0000000 (2)\ttotal: 25.1ms\tremaining: 61.3ms\n",
      "36:\tlearn: 1.0000000\ttest: 1.0000000\tbest: 1.0000000 (2)\ttotal: 25.6ms\tremaining: 60.2ms\n",
      "37:\tlearn: 1.0000000\ttest: 1.0000000\tbest: 1.0000000 (2)\ttotal: 26.1ms\tremaining: 59.1ms\n",
      "38:\tlearn: 1.0000000\ttest: 1.0000000\tbest: 1.0000000 (2)\ttotal: 27ms\tremaining: 58.8ms\n",
      "39:\tlearn: 1.0000000\ttest: 1.0000000\tbest: 1.0000000 (2)\ttotal: 28.1ms\tremaining: 59ms\n",
      "40:\tlearn: 1.0000000\ttest: 1.0000000\tbest: 1.0000000 (2)\ttotal: 29ms\tremaining: 58.7ms\n",
      "41:\tlearn: 1.0000000\ttest: 1.0000000\tbest: 1.0000000 (2)\ttotal: 30ms\tremaining: 58.6ms\n",
      "42:\tlearn: 1.0000000\ttest: 1.0000000\tbest: 1.0000000 (2)\ttotal: 30.8ms\tremaining: 58ms\n",
      "43:\tlearn: 1.0000000\ttest: 1.0000000\tbest: 1.0000000 (2)\ttotal: 31.6ms\tremaining: 57.4ms\n",
      "44:\tlearn: 1.0000000\ttest: 1.0000000\tbest: 1.0000000 (2)\ttotal: 32.4ms\tremaining: 56.9ms\n",
      "45:\tlearn: 1.0000000\ttest: 1.0000000\tbest: 1.0000000 (2)\ttotal: 33.2ms\tremaining: 56.3ms\n",
      "46:\tlearn: 1.0000000\ttest: 1.0000000\tbest: 1.0000000 (2)\ttotal: 34ms\tremaining: 55.7ms\n",
      "47:\tlearn: 1.0000000\ttest: 1.0000000\tbest: 1.0000000 (2)\ttotal: 34.8ms\tremaining: 55.1ms\n",
      "48:\tlearn: 1.0000000\ttest: 1.0000000\tbest: 1.0000000 (2)\ttotal: 35.6ms\tremaining: 54.4ms\n",
      "49:\tlearn: 1.0000000\ttest: 1.0000000\tbest: 1.0000000 (2)\ttotal: 36.3ms\tremaining: 53.8ms\n",
      "50:\tlearn: 1.0000000\ttest: 1.0000000\tbest: 1.0000000 (2)\ttotal: 37.1ms\tremaining: 53.1ms\n",
      "51:\tlearn: 1.0000000\ttest: 1.0000000\tbest: 1.0000000 (2)\ttotal: 37.9ms\tremaining: 52.4ms\n",
      "52:\tlearn: 1.0000000\ttest: 1.0000000\tbest: 1.0000000 (2)\ttotal: 38.7ms\tremaining: 51.8ms\n",
      "53:\tlearn: 1.0000000\ttest: 1.0000000\tbest: 1.0000000 (2)\ttotal: 39.5ms\tremaining: 51.1ms\n",
      "54:\tlearn: 1.0000000\ttest: 1.0000000\tbest: 1.0000000 (2)\ttotal: 40.2ms\tremaining: 50.5ms\n",
      "55:\tlearn: 1.0000000\ttest: 1.0000000\tbest: 1.0000000 (2)\ttotal: 41ms\tremaining: 49.8ms\n",
      "56:\tlearn: 1.0000000\ttest: 1.0000000\tbest: 1.0000000 (2)\ttotal: 41.8ms\tremaining: 49.2ms\n",
      "57:\tlearn: 1.0000000\ttest: 1.0000000\tbest: 1.0000000 (2)\ttotal: 42.6ms\tremaining: 48.5ms\n",
      "58:\tlearn: 1.0000000\ttest: 1.0000000\tbest: 1.0000000 (2)\ttotal: 43.4ms\tremaining: 47.8ms\n",
      "59:\tlearn: 1.0000000\ttest: 1.0000000\tbest: 1.0000000 (2)\ttotal: 44.2ms\tremaining: 47.2ms\n",
      "60:\tlearn: 1.0000000\ttest: 1.0000000\tbest: 1.0000000 (2)\ttotal: 45ms\tremaining: 46.5ms\n",
      "61:\tlearn: 1.0000000\ttest: 1.0000000\tbest: 1.0000000 (2)\ttotal: 45.8ms\tremaining: 45.8ms\n",
      "62:\tlearn: 1.0000000\ttest: 1.0000000\tbest: 1.0000000 (2)\ttotal: 46.6ms\tremaining: 45.1ms\n",
      "63:\tlearn: 1.0000000\ttest: 1.0000000\tbest: 1.0000000 (2)\ttotal: 49.2ms\tremaining: 46.1ms\n",
      "64:\tlearn: 1.0000000\ttest: 1.0000000\tbest: 1.0000000 (2)\ttotal: 50.1ms\tremaining: 45.5ms\n",
      "65:\tlearn: 1.0000000\ttest: 1.0000000\tbest: 1.0000000 (2)\ttotal: 50.9ms\tremaining: 44.8ms\n",
      "66:\tlearn: 1.0000000\ttest: 1.0000000\tbest: 1.0000000 (2)\ttotal: 51.7ms\tremaining: 44ms\n",
      "67:\tlearn: 1.0000000\ttest: 1.0000000\tbest: 1.0000000 (2)\ttotal: 52.7ms\tremaining: 43.4ms\n",
      "68:\tlearn: 1.0000000\ttest: 1.0000000\tbest: 1.0000000 (2)\ttotal: 53.5ms\tremaining: 42.6ms\n",
      "69:\tlearn: 1.0000000\ttest: 1.0000000\tbest: 1.0000000 (2)\ttotal: 54.3ms\tremaining: 41.9ms\n",
      "70:\tlearn: 1.0000000\ttest: 1.0000000\tbest: 1.0000000 (2)\ttotal: 55.1ms\tremaining: 41.1ms\n",
      "71:\tlearn: 1.0000000\ttest: 1.0000000\tbest: 1.0000000 (2)\ttotal: 55.9ms\tremaining: 40.4ms\n",
      "72:\tlearn: 1.0000000\ttest: 1.0000000\tbest: 1.0000000 (2)\ttotal: 56.7ms\tremaining: 39.6ms\n",
      "73:\tlearn: 1.0000000\ttest: 1.0000000\tbest: 1.0000000 (2)\ttotal: 57.5ms\tremaining: 38.9ms\n",
      "74:\tlearn: 1.0000000\ttest: 1.0000000\tbest: 1.0000000 (2)\ttotal: 58.2ms\tremaining: 38.1ms\n",
      "75:\tlearn: 1.0000000\ttest: 1.0000000\tbest: 1.0000000 (2)\ttotal: 59ms\tremaining: 37.2ms\n",
      "76:\tlearn: 1.0000000\ttest: 1.0000000\tbest: 1.0000000 (2)\ttotal: 59.7ms\tremaining: 36.5ms\n",
      "77:\tlearn: 1.0000000\ttest: 1.0000000\tbest: 1.0000000 (2)\ttotal: 60.5ms\tremaining: 35.7ms\n",
      "78:\tlearn: 1.0000000\ttest: 1.0000000\tbest: 1.0000000 (2)\ttotal: 61.3ms\tremaining: 34.9ms\n",
      "79:\tlearn: 1.0000000\ttest: 1.0000000\tbest: 1.0000000 (2)\ttotal: 62.1ms\tremaining: 34.2ms\n",
      "80:\tlearn: 1.0000000\ttest: 1.0000000\tbest: 1.0000000 (2)\ttotal: 62.9ms\tremaining: 33.4ms\n",
      "81:\tlearn: 1.0000000\ttest: 1.0000000\tbest: 1.0000000 (2)\ttotal: 63.8ms\tremaining: 32.7ms\n",
      "82:\tlearn: 1.0000000\ttest: 1.0000000\tbest: 1.0000000 (2)\ttotal: 64.6ms\tremaining: 31.9ms\n",
      "83:\tlearn: 1.0000000\ttest: 1.0000000\tbest: 1.0000000 (2)\ttotal: 65.4ms\tremaining: 31.1ms\n",
      "84:\tlearn: 1.0000000\ttest: 1.0000000\tbest: 1.0000000 (2)\ttotal: 66.2ms\tremaining: 30.4ms\n",
      "85:\tlearn: 1.0000000\ttest: 1.0000000\tbest: 1.0000000 (2)\ttotal: 66.9ms\tremaining: 29.6ms\n",
      "86:\tlearn: 1.0000000\ttest: 1.0000000\tbest: 1.0000000 (2)\ttotal: 67.7ms\tremaining: 28.8ms\n",
      "87:\tlearn: 1.0000000\ttest: 1.0000000\tbest: 1.0000000 (2)\ttotal: 68.2ms\tremaining: 27.9ms\n",
      "88:\tlearn: 1.0000000\ttest: 1.0000000\tbest: 1.0000000 (2)\ttotal: 68.7ms\tremaining: 27ms\n",
      "89:\tlearn: 1.0000000\ttest: 1.0000000\tbest: 1.0000000 (2)\ttotal: 69.2ms\tremaining: 26.2ms\n",
      "90:\tlearn: 1.0000000\ttest: 1.0000000\tbest: 1.0000000 (2)\ttotal: 69.8ms\tremaining: 25.3ms\n",
      "91:\tlearn: 1.0000000\ttest: 1.0000000\tbest: 1.0000000 (2)\ttotal: 70.3ms\tremaining: 24.5ms\n",
      "92:\tlearn: 1.0000000\ttest: 1.0000000\tbest: 1.0000000 (2)\ttotal: 70.8ms\tremaining: 23.6ms\n",
      "93:\tlearn: 1.0000000\ttest: 1.0000000\tbest: 1.0000000 (2)\ttotal: 71.4ms\tremaining: 22.8ms\n",
      "94:\tlearn: 1.0000000\ttest: 1.0000000\tbest: 1.0000000 (2)\ttotal: 71.9ms\tremaining: 21.9ms\n",
      "95:\tlearn: 1.0000000\ttest: 1.0000000\tbest: 1.0000000 (2)\ttotal: 72.4ms\tremaining: 21.1ms\n",
      "96:\tlearn: 1.0000000\ttest: 1.0000000\tbest: 1.0000000 (2)\ttotal: 73ms\tremaining: 20.3ms\n",
      "97:\tlearn: 1.0000000\ttest: 1.0000000\tbest: 1.0000000 (2)\ttotal: 73.5ms\tremaining: 19.5ms\n",
      "98:\tlearn: 1.0000000\ttest: 1.0000000\tbest: 1.0000000 (2)\ttotal: 74ms\tremaining: 18.7ms\n",
      "99:\tlearn: 1.0000000\ttest: 1.0000000\tbest: 1.0000000 (2)\ttotal: 74.5ms\tremaining: 17.9ms\n",
      "100:\tlearn: 1.0000000\ttest: 1.0000000\tbest: 1.0000000 (2)\ttotal: 75.1ms\tremaining: 17.1ms\n",
      "101:\tlearn: 1.0000000\ttest: 1.0000000\tbest: 1.0000000 (2)\ttotal: 75.6ms\tremaining: 16.3ms\n",
      "102:\tlearn: 1.0000000\ttest: 1.0000000\tbest: 1.0000000 (2)\ttotal: 76.1ms\tremaining: 15.5ms\n",
      "103:\tlearn: 1.0000000\ttest: 1.0000000\tbest: 1.0000000 (2)\ttotal: 76.6ms\tremaining: 14.7ms\n",
      "104:\tlearn: 1.0000000\ttest: 1.0000000\tbest: 1.0000000 (2)\ttotal: 77.2ms\tremaining: 14ms\n",
      "105:\tlearn: 1.0000000\ttest: 1.0000000\tbest: 1.0000000 (2)\ttotal: 77.7ms\tremaining: 13.2ms\n",
      "106:\tlearn: 1.0000000\ttest: 1.0000000\tbest: 1.0000000 (2)\ttotal: 78.2ms\tremaining: 12.4ms\n",
      "107:\tlearn: 1.0000000\ttest: 1.0000000\tbest: 1.0000000 (2)\ttotal: 78.8ms\tremaining: 11.7ms\n",
      "108:\tlearn: 1.0000000\ttest: 1.0000000\tbest: 1.0000000 (2)\ttotal: 79.3ms\tremaining: 10.9ms\n",
      "109:\tlearn: 1.0000000\ttest: 1.0000000\tbest: 1.0000000 (2)\ttotal: 79.8ms\tremaining: 10.2ms\n",
      "110:\tlearn: 1.0000000\ttest: 1.0000000\tbest: 1.0000000 (2)\ttotal: 80.4ms\tremaining: 9.41ms\n",
      "111:\tlearn: 1.0000000\ttest: 1.0000000\tbest: 1.0000000 (2)\ttotal: 81ms\tremaining: 8.68ms\n",
      "112:\tlearn: 1.0000000\ttest: 1.0000000\tbest: 1.0000000 (2)\ttotal: 81.6ms\tremaining: 7.94ms\n",
      "113:\tlearn: 1.0000000\ttest: 1.0000000\tbest: 1.0000000 (2)\ttotal: 82.2ms\tremaining: 7.21ms\n",
      "114:\tlearn: 1.0000000\ttest: 1.0000000\tbest: 1.0000000 (2)\ttotal: 82.8ms\tremaining: 6.48ms\n",
      "115:\tlearn: 1.0000000\ttest: 1.0000000\tbest: 1.0000000 (2)\ttotal: 83.3ms\tremaining: 5.75ms\n",
      "116:\tlearn: 1.0000000\ttest: 1.0000000\tbest: 1.0000000 (2)\ttotal: 83.9ms\tremaining: 5.02ms\n",
      "117:\tlearn: 1.0000000\ttest: 1.0000000\tbest: 1.0000000 (2)\ttotal: 84.6ms\tremaining: 4.3ms\n",
      "118:\tlearn: 1.0000000\ttest: 1.0000000\tbest: 1.0000000 (2)\ttotal: 85.1ms\tremaining: 3.58ms\n",
      "119:\tlearn: 1.0000000\ttest: 1.0000000\tbest: 1.0000000 (2)\ttotal: 85.7ms\tremaining: 2.86ms\n",
      "120:\tlearn: 1.0000000\ttest: 1.0000000\tbest: 1.0000000 (2)\ttotal: 86.3ms\tremaining: 2.14ms\n",
      "121:\tlearn: 1.0000000\ttest: 1.0000000\tbest: 1.0000000 (2)\ttotal: 90.3ms\tremaining: 1.48ms\n",
      "122:\tlearn: 1.0000000\ttest: 1.0000000\tbest: 1.0000000 (2)\ttotal: 90.8ms\tremaining: 737us\n",
      "123:\tlearn: 1.0000000\ttest: 1.0000000\tbest: 1.0000000 (2)\ttotal: 91.2ms\tremaining: 0us\n",
      "\n",
      "bestTest = 1\n",
      "bestIteration = 2\n",
      "\n",
      "Training on fold [1/5]\n",
      "0:\tlearn: 0.9777778\ttest: 0.9090909\tbest: 0.9090909 (0)\ttotal: 1.25ms\tremaining: 153ms\n",
      "1:\tlearn: 1.0000000\ttest: 1.0000000\tbest: 1.0000000 (1)\ttotal: 1.97ms\tremaining: 120ms\n",
      "2:\tlearn: 1.0000000\ttest: 1.0000000\tbest: 1.0000000 (1)\ttotal: 2.67ms\tremaining: 108ms\n",
      "3:\tlearn: 1.0000000\ttest: 1.0000000\tbest: 1.0000000 (1)\ttotal: 3.32ms\tremaining: 99.5ms\n",
      "4:\tlearn: 1.0000000\ttest: 1.0000000\tbest: 1.0000000 (1)\ttotal: 3.92ms\tremaining: 93.4ms\n",
      "5:\tlearn: 1.0000000\ttest: 1.0000000\tbest: 1.0000000 (1)\ttotal: 4.53ms\tremaining: 89ms\n",
      "6:\tlearn: 1.0000000\ttest: 1.0000000\tbest: 1.0000000 (1)\ttotal: 5.13ms\tremaining: 85.8ms\n",
      "7:\tlearn: 1.0000000\ttest: 1.0000000\tbest: 1.0000000 (1)\ttotal: 5.72ms\tremaining: 83ms\n",
      "8:\tlearn: 1.0000000\ttest: 1.0000000\tbest: 1.0000000 (1)\ttotal: 6.31ms\tremaining: 80.7ms\n",
      "9:\tlearn: 1.0000000\ttest: 1.0000000\tbest: 1.0000000 (1)\ttotal: 6.92ms\tremaining: 78.8ms\n",
      "10:\tlearn: 1.0000000\ttest: 1.0000000\tbest: 1.0000000 (1)\ttotal: 7.51ms\tremaining: 77.1ms\n",
      "11:\tlearn: 1.0000000\ttest: 1.0000000\tbest: 1.0000000 (1)\ttotal: 8.13ms\tremaining: 75.9ms\n",
      "12:\tlearn: 1.0000000\ttest: 1.0000000\tbest: 1.0000000 (1)\ttotal: 8.73ms\tremaining: 74.6ms\n",
      "13:\tlearn: 1.0000000\ttest: 1.0000000\tbest: 1.0000000 (1)\ttotal: 10.3ms\tremaining: 81.3ms\n",
      "14:\tlearn: 1.0000000\ttest: 1.0000000\tbest: 1.0000000 (1)\ttotal: 11.5ms\tremaining: 83.4ms\n",
      "15:\tlearn: 1.0000000\ttest: 1.0000000\tbest: 1.0000000 (1)\ttotal: 12.5ms\tremaining: 84.1ms\n",
      "16:\tlearn: 1.0000000\ttest: 1.0000000\tbest: 1.0000000 (1)\ttotal: 13.8ms\tremaining: 86.8ms\n",
      "17:\tlearn: 1.0000000\ttest: 1.0000000\tbest: 1.0000000 (1)\ttotal: 15ms\tremaining: 88.4ms\n",
      "18:\tlearn: 1.0000000\ttest: 1.0000000\tbest: 1.0000000 (1)\ttotal: 16.1ms\tremaining: 89.2ms\n",
      "19:\tlearn: 1.0000000\ttest: 1.0000000\tbest: 1.0000000 (1)\ttotal: 17.3ms\tremaining: 89.7ms\n",
      "20:\tlearn: 1.0000000\ttest: 1.0000000\tbest: 1.0000000 (1)\ttotal: 18.6ms\tremaining: 91.2ms\n",
      "21:\tlearn: 1.0000000\ttest: 1.0000000\tbest: 1.0000000 (1)\ttotal: 19.8ms\tremaining: 91.7ms\n",
      "22:\tlearn: 1.0000000\ttest: 1.0000000\tbest: 1.0000000 (1)\ttotal: 20.8ms\tremaining: 91.3ms\n",
      "23:\tlearn: 1.0000000\ttest: 1.0000000\tbest: 1.0000000 (1)\ttotal: 22ms\tremaining: 91.5ms\n",
      "24:\tlearn: 1.0000000\ttest: 1.0000000\tbest: 1.0000000 (1)\ttotal: 23.1ms\tremaining: 91.4ms\n",
      "25:\tlearn: 1.0000000\ttest: 1.0000000\tbest: 1.0000000 (1)\ttotal: 24.2ms\tremaining: 91.2ms\n",
      "26:\tlearn: 1.0000000\ttest: 1.0000000\tbest: 1.0000000 (1)\ttotal: 25.4ms\tremaining: 91.2ms\n",
      "27:\tlearn: 1.0000000\ttest: 1.0000000\tbest: 1.0000000 (1)\ttotal: 26.4ms\tremaining: 90.6ms\n",
      "28:\tlearn: 1.0000000\ttest: 1.0000000\tbest: 1.0000000 (1)\ttotal: 27.5ms\tremaining: 90.1ms\n",
      "29:\tlearn: 1.0000000\ttest: 1.0000000\tbest: 1.0000000 (1)\ttotal: 28.8ms\tremaining: 90.3ms\n",
      "30:\tlearn: 1.0000000\ttest: 1.0000000\tbest: 1.0000000 (1)\ttotal: 30.1ms\tremaining: 90.4ms\n",
      "31:\tlearn: 1.0000000\ttest: 1.0000000\tbest: 1.0000000 (1)\ttotal: 31.4ms\tremaining: 90.2ms\n",
      "32:\tlearn: 1.0000000\ttest: 1.0000000\tbest: 1.0000000 (1)\ttotal: 32.5ms\tremaining: 89.7ms\n",
      "33:\tlearn: 1.0000000\ttest: 1.0000000\tbest: 1.0000000 (1)\ttotal: 33.8ms\tremaining: 89.4ms\n",
      "34:\tlearn: 1.0000000\ttest: 1.0000000\tbest: 1.0000000 (1)\ttotal: 34.9ms\tremaining: 88.7ms\n",
      "35:\tlearn: 1.0000000\ttest: 1.0000000\tbest: 1.0000000 (1)\ttotal: 35.9ms\tremaining: 87.8ms\n",
      "36:\tlearn: 1.0000000\ttest: 1.0000000\tbest: 1.0000000 (1)\ttotal: 37.4ms\tremaining: 88ms\n",
      "37:\tlearn: 1.0000000\ttest: 1.0000000\tbest: 1.0000000 (1)\ttotal: 38.6ms\tremaining: 87.3ms\n",
      "38:\tlearn: 1.0000000\ttest: 1.0000000\tbest: 1.0000000 (1)\ttotal: 39.6ms\tremaining: 86.4ms\n",
      "39:\tlearn: 1.0000000\ttest: 1.0000000\tbest: 1.0000000 (1)\ttotal: 40.8ms\tremaining: 85.6ms\n",
      "40:\tlearn: 1.0000000\ttest: 1.0000000\tbest: 1.0000000 (1)\ttotal: 42.2ms\tremaining: 85.3ms\n",
      "41:\tlearn: 1.0000000\ttest: 1.0000000\tbest: 1.0000000 (1)\ttotal: 45.2ms\tremaining: 88.2ms\n",
      "42:\tlearn: 1.0000000\ttest: 1.0000000\tbest: 1.0000000 (1)\ttotal: 46.3ms\tremaining: 87.3ms\n",
      "43:\tlearn: 1.0000000\ttest: 1.0000000\tbest: 1.0000000 (1)\ttotal: 47.4ms\tremaining: 86.2ms\n",
      "44:\tlearn: 1.0000000\ttest: 1.0000000\tbest: 1.0000000 (1)\ttotal: 48.5ms\tremaining: 85.2ms\n",
      "45:\tlearn: 1.0000000\ttest: 1.0000000\tbest: 1.0000000 (1)\ttotal: 49.7ms\tremaining: 84.3ms\n",
      "46:\tlearn: 1.0000000\ttest: 1.0000000\tbest: 1.0000000 (1)\ttotal: 50.9ms\tremaining: 83.3ms\n",
      "47:\tlearn: 1.0000000\ttest: 1.0000000\tbest: 1.0000000 (1)\ttotal: 52.1ms\tremaining: 82.6ms\n",
      "48:\tlearn: 1.0000000\ttest: 1.0000000\tbest: 1.0000000 (1)\ttotal: 53.1ms\tremaining: 81.3ms\n",
      "49:\tlearn: 1.0000000\ttest: 1.0000000\tbest: 1.0000000 (1)\ttotal: 54.2ms\tremaining: 80.2ms\n",
      "50:\tlearn: 1.0000000\ttest: 1.0000000\tbest: 1.0000000 (1)\ttotal: 54.9ms\tremaining: 78.6ms\n",
      "51:\tlearn: 1.0000000\ttest: 1.0000000\tbest: 1.0000000 (1)\ttotal: 56.5ms\tremaining: 78.2ms\n",
      "52:\tlearn: 1.0000000\ttest: 1.0000000\tbest: 1.0000000 (1)\ttotal: 57.6ms\tremaining: 77.2ms\n",
      "53:\tlearn: 1.0000000\ttest: 1.0000000\tbest: 1.0000000 (1)\ttotal: 58.8ms\tremaining: 76.3ms\n",
      "54:\tlearn: 1.0000000\ttest: 1.0000000\tbest: 1.0000000 (1)\ttotal: 60ms\tremaining: 75.3ms\n",
      "55:\tlearn: 1.0000000\ttest: 1.0000000\tbest: 1.0000000 (1)\ttotal: 61.4ms\tremaining: 74.5ms\n",
      "56:\tlearn: 1.0000000\ttest: 1.0000000\tbest: 1.0000000 (1)\ttotal: 62.6ms\tremaining: 73.6ms\n",
      "57:\tlearn: 1.0000000\ttest: 1.0000000\tbest: 1.0000000 (1)\ttotal: 63.7ms\tremaining: 72.5ms\n",
      "58:\tlearn: 1.0000000\ttest: 1.0000000\tbest: 1.0000000 (1)\ttotal: 64.3ms\tremaining: 70.8ms\n",
      "59:\tlearn: 1.0000000\ttest: 1.0000000\tbest: 1.0000000 (1)\ttotal: 65.2ms\tremaining: 69.6ms\n",
      "60:\tlearn: 1.0000000\ttest: 1.0000000\tbest: 1.0000000 (1)\ttotal: 66.2ms\tremaining: 68.4ms\n",
      "61:\tlearn: 1.0000000\ttest: 1.0000000\tbest: 1.0000000 (1)\ttotal: 67.6ms\tremaining: 67.6ms\n",
      "62:\tlearn: 1.0000000\ttest: 1.0000000\tbest: 1.0000000 (1)\ttotal: 68.3ms\tremaining: 66.1ms\n",
      "63:\tlearn: 1.0000000\ttest: 1.0000000\tbest: 1.0000000 (1)\ttotal: 70ms\tremaining: 65.6ms\n",
      "64:\tlearn: 1.0000000\ttest: 1.0000000\tbest: 1.0000000 (1)\ttotal: 70.7ms\tremaining: 64.2ms\n",
      "65:\tlearn: 1.0000000\ttest: 1.0000000\tbest: 1.0000000 (1)\ttotal: 71.7ms\tremaining: 63ms\n",
      "66:\tlearn: 1.0000000\ttest: 1.0000000\tbest: 1.0000000 (1)\ttotal: 72.7ms\tremaining: 61.8ms\n",
      "67:\tlearn: 1.0000000\ttest: 1.0000000\tbest: 1.0000000 (1)\ttotal: 74ms\tremaining: 61ms\n",
      "68:\tlearn: 1.0000000\ttest: 1.0000000\tbest: 1.0000000 (1)\ttotal: 74.9ms\tremaining: 59.7ms\n",
      "69:\tlearn: 1.0000000\ttest: 1.0000000\tbest: 1.0000000 (1)\ttotal: 75.7ms\tremaining: 58.4ms\n",
      "70:\tlearn: 1.0000000\ttest: 1.0000000\tbest: 1.0000000 (1)\ttotal: 76.5ms\tremaining: 57.1ms\n",
      "71:\tlearn: 1.0000000\ttest: 1.0000000\tbest: 1.0000000 (1)\ttotal: 77.3ms\tremaining: 55.8ms\n",
      "72:\tlearn: 1.0000000\ttest: 1.0000000\tbest: 1.0000000 (1)\ttotal: 78.1ms\tremaining: 54.6ms\n",
      "73:\tlearn: 1.0000000\ttest: 1.0000000\tbest: 1.0000000 (1)\ttotal: 79.6ms\tremaining: 53.8ms\n",
      "74:\tlearn: 1.0000000\ttest: 1.0000000\tbest: 1.0000000 (1)\ttotal: 81.2ms\tremaining: 53.1ms\n",
      "75:\tlearn: 1.0000000\ttest: 1.0000000\tbest: 1.0000000 (1)\ttotal: 82.7ms\tremaining: 52.2ms\n",
      "76:\tlearn: 1.0000000\ttest: 1.0000000\tbest: 1.0000000 (1)\ttotal: 83.5ms\tremaining: 50.9ms\n",
      "77:\tlearn: 1.0000000\ttest: 1.0000000\tbest: 1.0000000 (1)\ttotal: 84.2ms\tremaining: 49.7ms\n",
      "78:\tlearn: 1.0000000\ttest: 1.0000000\tbest: 1.0000000 (1)\ttotal: 84.9ms\tremaining: 48.4ms\n",
      "79:\tlearn: 1.0000000\ttest: 1.0000000\tbest: 1.0000000 (1)\ttotal: 85.6ms\tremaining: 47.1ms\n",
      "80:\tlearn: 1.0000000\ttest: 1.0000000\tbest: 1.0000000 (1)\ttotal: 86.3ms\tremaining: 45.8ms\n",
      "81:\tlearn: 1.0000000\ttest: 1.0000000\tbest: 1.0000000 (1)\ttotal: 87.6ms\tremaining: 44.9ms\n",
      "82:\tlearn: 1.0000000\ttest: 1.0000000\tbest: 1.0000000 (1)\ttotal: 88.9ms\tremaining: 43.9ms\n",
      "83:\tlearn: 1.0000000\ttest: 1.0000000\tbest: 1.0000000 (1)\ttotal: 89.6ms\tremaining: 42.7ms\n",
      "84:\tlearn: 1.0000000\ttest: 1.0000000\tbest: 1.0000000 (1)\ttotal: 90.1ms\tremaining: 41.3ms\n",
      "85:\tlearn: 1.0000000\ttest: 1.0000000\tbest: 1.0000000 (1)\ttotal: 92.2ms\tremaining: 40.7ms\n",
      "86:\tlearn: 1.0000000\ttest: 1.0000000\tbest: 1.0000000 (1)\ttotal: 92.7ms\tremaining: 39.4ms\n",
      "87:\tlearn: 1.0000000\ttest: 1.0000000\tbest: 1.0000000 (1)\ttotal: 93.2ms\tremaining: 38.1ms\n",
      "88:\tlearn: 1.0000000\ttest: 1.0000000\tbest: 1.0000000 (1)\ttotal: 93.8ms\tremaining: 36.9ms\n",
      "89:\tlearn: 1.0000000\ttest: 1.0000000\tbest: 1.0000000 (1)\ttotal: 94.3ms\tremaining: 35.6ms\n",
      "90:\tlearn: 1.0000000\ttest: 1.0000000\tbest: 1.0000000 (1)\ttotal: 94.8ms\tremaining: 34.4ms\n",
      "91:\tlearn: 1.0000000\ttest: 1.0000000\tbest: 1.0000000 (1)\ttotal: 95.4ms\tremaining: 33.2ms\n",
      "92:\tlearn: 1.0000000\ttest: 1.0000000\tbest: 1.0000000 (1)\ttotal: 95.9ms\tremaining: 32ms\n",
      "93:\tlearn: 1.0000000\ttest: 1.0000000\tbest: 1.0000000 (1)\ttotal: 96.5ms\tremaining: 30.8ms\n",
      "94:\tlearn: 1.0000000\ttest: 1.0000000\tbest: 1.0000000 (1)\ttotal: 97ms\tremaining: 29.6ms\n",
      "95:\tlearn: 1.0000000\ttest: 1.0000000\tbest: 1.0000000 (1)\ttotal: 97.5ms\tremaining: 28.4ms\n",
      "96:\tlearn: 1.0000000\ttest: 1.0000000\tbest: 1.0000000 (1)\ttotal: 98ms\tremaining: 27.3ms\n",
      "97:\tlearn: 1.0000000\ttest: 1.0000000\tbest: 1.0000000 (1)\ttotal: 98.6ms\tremaining: 26.2ms\n",
      "98:\tlearn: 1.0000000\ttest: 1.0000000\tbest: 1.0000000 (1)\ttotal: 99.1ms\tremaining: 25ms\n",
      "99:\tlearn: 1.0000000\ttest: 1.0000000\tbest: 1.0000000 (1)\ttotal: 99.6ms\tremaining: 23.9ms\n",
      "100:\tlearn: 1.0000000\ttest: 1.0000000\tbest: 1.0000000 (1)\ttotal: 100ms\tremaining: 22.8ms\n",
      "101:\tlearn: 1.0000000\ttest: 1.0000000\tbest: 1.0000000 (1)\ttotal: 101ms\tremaining: 21.7ms\n",
      "102:\tlearn: 1.0000000\ttest: 1.0000000\tbest: 1.0000000 (1)\ttotal: 101ms\tremaining: 20.6ms\n",
      "103:\tlearn: 1.0000000\ttest: 1.0000000\tbest: 1.0000000 (1)\ttotal: 102ms\tremaining: 19.6ms\n",
      "104:\tlearn: 1.0000000\ttest: 1.0000000\tbest: 1.0000000 (1)\ttotal: 102ms\tremaining: 18.5ms\n",
      "105:\tlearn: 1.0000000\ttest: 1.0000000\tbest: 1.0000000 (1)\ttotal: 103ms\tremaining: 17.5ms\n",
      "106:\tlearn: 1.0000000\ttest: 1.0000000\tbest: 1.0000000 (1)\ttotal: 104ms\tremaining: 16.4ms\n",
      "107:\tlearn: 1.0000000\ttest: 1.0000000\tbest: 1.0000000 (1)\ttotal: 104ms\tremaining: 15.4ms\n",
      "108:\tlearn: 1.0000000\ttest: 1.0000000\tbest: 1.0000000 (1)\ttotal: 105ms\tremaining: 14.5ms\n",
      "109:\tlearn: 1.0000000\ttest: 1.0000000\tbest: 1.0000000 (1)\ttotal: 106ms\tremaining: 13.5ms\n",
      "110:\tlearn: 1.0000000\ttest: 1.0000000\tbest: 1.0000000 (1)\ttotal: 107ms\tremaining: 12.5ms\n",
      "111:\tlearn: 1.0000000\ttest: 1.0000000\tbest: 1.0000000 (1)\ttotal: 107ms\tremaining: 11.5ms\n",
      "112:\tlearn: 1.0000000\ttest: 1.0000000\tbest: 1.0000000 (1)\ttotal: 108ms\tremaining: 10.5ms\n",
      "113:\tlearn: 1.0000000\ttest: 1.0000000\tbest: 1.0000000 (1)\ttotal: 108ms\tremaining: 9.5ms\n",
      "114:\tlearn: 1.0000000\ttest: 1.0000000\tbest: 1.0000000 (1)\ttotal: 109ms\tremaining: 8.52ms\n",
      "115:\tlearn: 1.0000000\ttest: 1.0000000\tbest: 1.0000000 (1)\ttotal: 109ms\tremaining: 7.55ms\n",
      "116:\tlearn: 1.0000000\ttest: 1.0000000\tbest: 1.0000000 (1)\ttotal: 110ms\tremaining: 6.58ms\n",
      "117:\tlearn: 1.0000000\ttest: 1.0000000\tbest: 1.0000000 (1)\ttotal: 110ms\tremaining: 5.62ms\n",
      "118:\tlearn: 1.0000000\ttest: 1.0000000\tbest: 1.0000000 (1)\ttotal: 111ms\tremaining: 4.66ms\n",
      "119:\tlearn: 1.0000000\ttest: 1.0000000\tbest: 1.0000000 (1)\ttotal: 112ms\tremaining: 3.72ms\n",
      "120:\tlearn: 1.0000000\ttest: 1.0000000\tbest: 1.0000000 (1)\ttotal: 112ms\tremaining: 2.78ms\n",
      "121:\tlearn: 1.0000000\ttest: 1.0000000\tbest: 1.0000000 (1)\ttotal: 113ms\tremaining: 1.84ms\n",
      "122:\tlearn: 1.0000000\ttest: 1.0000000\tbest: 1.0000000 (1)\ttotal: 113ms\tremaining: 919us\n",
      "123:\tlearn: 1.0000000\ttest: 1.0000000\tbest: 1.0000000 (1)\ttotal: 114ms\tremaining: 0us\n",
      "\n",
      "bestTest = 1\n",
      "bestIteration = 1\n",
      "\n",
      "Training on fold [2/5]\n",
      "0:\tlearn: 1.0000000\ttest: 0.8571429\tbest: 0.8571429 (0)\ttotal: 711us\tremaining: 87.5ms\n",
      "1:\tlearn: 1.0000000\ttest: 0.9565217\tbest: 0.9565217 (1)\ttotal: 1.32ms\tremaining: 80.6ms\n",
      "2:\tlearn: 1.0000000\ttest: 1.0000000\tbest: 1.0000000 (2)\ttotal: 1.92ms\tremaining: 77.5ms\n",
      "3:\tlearn: 1.0000000\ttest: 1.0000000\tbest: 1.0000000 (2)\ttotal: 2.54ms\tremaining: 76.2ms\n",
      "4:\tlearn: 1.0000000\ttest: 1.0000000\tbest: 1.0000000 (2)\ttotal: 3.19ms\tremaining: 75.9ms\n",
      "5:\tlearn: 1.0000000\ttest: 1.0000000\tbest: 1.0000000 (2)\ttotal: 3.78ms\tremaining: 74.4ms\n",
      "6:\tlearn: 1.0000000\ttest: 1.0000000\tbest: 1.0000000 (2)\ttotal: 4.39ms\tremaining: 73.4ms\n",
      "7:\tlearn: 1.0000000\ttest: 1.0000000\tbest: 1.0000000 (2)\ttotal: 5ms\tremaining: 72.4ms\n",
      "8:\tlearn: 1.0000000\ttest: 1.0000000\tbest: 1.0000000 (2)\ttotal: 5.58ms\tremaining: 71.3ms\n",
      "9:\tlearn: 1.0000000\ttest: 1.0000000\tbest: 1.0000000 (2)\ttotal: 6.18ms\tremaining: 70.5ms\n",
      "10:\tlearn: 1.0000000\ttest: 1.0000000\tbest: 1.0000000 (2)\ttotal: 6.78ms\tremaining: 69.7ms\n",
      "11:\tlearn: 1.0000000\ttest: 1.0000000\tbest: 1.0000000 (2)\ttotal: 7.4ms\tremaining: 69ms\n",
      "12:\tlearn: 1.0000000\ttest: 1.0000000\tbest: 1.0000000 (2)\ttotal: 8ms\tremaining: 68.3ms\n",
      "13:\tlearn: 1.0000000\ttest: 1.0000000\tbest: 1.0000000 (2)\ttotal: 8.6ms\tremaining: 67.6ms\n",
      "14:\tlearn: 1.0000000\ttest: 1.0000000\tbest: 1.0000000 (2)\ttotal: 9.19ms\tremaining: 66.8ms\n",
      "15:\tlearn: 1.0000000\ttest: 1.0000000\tbest: 1.0000000 (2)\ttotal: 9.74ms\tremaining: 65.7ms\n",
      "16:\tlearn: 1.0000000\ttest: 1.0000000\tbest: 1.0000000 (2)\ttotal: 10.3ms\tremaining: 64.7ms\n",
      "17:\tlearn: 1.0000000\ttest: 1.0000000\tbest: 1.0000000 (2)\ttotal: 10.8ms\tremaining: 63.6ms\n",
      "18:\tlearn: 1.0000000\ttest: 1.0000000\tbest: 1.0000000 (2)\ttotal: 11.3ms\tremaining: 62.7ms\n",
      "19:\tlearn: 1.0000000\ttest: 1.0000000\tbest: 1.0000000 (2)\ttotal: 11.9ms\tremaining: 61.7ms\n",
      "20:\tlearn: 1.0000000\ttest: 1.0000000\tbest: 1.0000000 (2)\ttotal: 12.4ms\tremaining: 61.1ms\n",
      "21:\tlearn: 1.0000000\ttest: 1.0000000\tbest: 1.0000000 (2)\ttotal: 13ms\tremaining: 60.5ms\n",
      "22:\tlearn: 1.0000000\ttest: 1.0000000\tbest: 1.0000000 (2)\ttotal: 13.7ms\tremaining: 59.9ms\n",
      "23:\tlearn: 1.0000000\ttest: 1.0000000\tbest: 1.0000000 (2)\ttotal: 16.2ms\tremaining: 67.5ms\n",
      "24:\tlearn: 1.0000000\ttest: 1.0000000\tbest: 1.0000000 (2)\ttotal: 16.9ms\tremaining: 66.7ms\n",
      "25:\tlearn: 1.0000000\ttest: 1.0000000\tbest: 1.0000000 (2)\ttotal: 17.5ms\tremaining: 65.9ms\n",
      "26:\tlearn: 1.0000000\ttest: 1.0000000\tbest: 1.0000000 (2)\ttotal: 18ms\tremaining: 64.5ms\n",
      "27:\tlearn: 1.0000000\ttest: 1.0000000\tbest: 1.0000000 (2)\ttotal: 18.6ms\tremaining: 63.7ms\n",
      "28:\tlearn: 1.0000000\ttest: 1.0000000\tbest: 1.0000000 (2)\ttotal: 19ms\tremaining: 62.3ms\n",
      "29:\tlearn: 1.0000000\ttest: 1.0000000\tbest: 1.0000000 (2)\ttotal: 21.4ms\tremaining: 67ms\n",
      "30:\tlearn: 1.0000000\ttest: 1.0000000\tbest: 1.0000000 (2)\ttotal: 22.1ms\tremaining: 66.3ms\n",
      "31:\tlearn: 1.0000000\ttest: 1.0000000\tbest: 1.0000000 (2)\ttotal: 22.7ms\tremaining: 65.3ms\n",
      "32:\tlearn: 1.0000000\ttest: 1.0000000\tbest: 1.0000000 (2)\ttotal: 23.4ms\tremaining: 64.4ms\n",
      "33:\tlearn: 1.0000000\ttest: 1.0000000\tbest: 1.0000000 (2)\ttotal: 24.1ms\tremaining: 63.7ms\n",
      "34:\tlearn: 1.0000000\ttest: 1.0000000\tbest: 1.0000000 (2)\ttotal: 24.7ms\tremaining: 62.8ms\n",
      "35:\tlearn: 1.0000000\ttest: 1.0000000\tbest: 1.0000000 (2)\ttotal: 25.3ms\tremaining: 61.8ms\n",
      "36:\tlearn: 1.0000000\ttest: 1.0000000\tbest: 1.0000000 (2)\ttotal: 26.2ms\tremaining: 61.6ms\n",
      "37:\tlearn: 1.0000000\ttest: 1.0000000\tbest: 1.0000000 (2)\ttotal: 27.6ms\tremaining: 62.5ms\n",
      "38:\tlearn: 1.0000000\ttest: 1.0000000\tbest: 1.0000000 (2)\ttotal: 28.2ms\tremaining: 61.5ms\n",
      "39:\tlearn: 1.0000000\ttest: 1.0000000\tbest: 1.0000000 (2)\ttotal: 28.7ms\tremaining: 60.2ms\n",
      "40:\tlearn: 1.0000000\ttest: 1.0000000\tbest: 1.0000000 (2)\ttotal: 29.3ms\tremaining: 59.3ms\n",
      "41:\tlearn: 1.0000000\ttest: 1.0000000\tbest: 1.0000000 (2)\ttotal: 29.9ms\tremaining: 58.4ms\n",
      "42:\tlearn: 1.0000000\ttest: 1.0000000\tbest: 1.0000000 (2)\ttotal: 31.3ms\tremaining: 59ms\n",
      "43:\tlearn: 1.0000000\ttest: 1.0000000\tbest: 1.0000000 (2)\ttotal: 33.3ms\tremaining: 60.5ms\n",
      "44:\tlearn: 1.0000000\ttest: 1.0000000\tbest: 1.0000000 (2)\ttotal: 34.2ms\tremaining: 60ms\n",
      "45:\tlearn: 1.0000000\ttest: 1.0000000\tbest: 1.0000000 (2)\ttotal: 34.9ms\tremaining: 59.1ms\n",
      "46:\tlearn: 1.0000000\ttest: 1.0000000\tbest: 1.0000000 (2)\ttotal: 36.9ms\tremaining: 60.4ms\n",
      "47:\tlearn: 1.0000000\ttest: 1.0000000\tbest: 1.0000000 (2)\ttotal: 37.5ms\tremaining: 59.4ms\n",
      "48:\tlearn: 1.0000000\ttest: 1.0000000\tbest: 1.0000000 (2)\ttotal: 38ms\tremaining: 58.1ms\n",
      "49:\tlearn: 1.0000000\ttest: 1.0000000\tbest: 1.0000000 (2)\ttotal: 38.6ms\tremaining: 57.1ms\n",
      "50:\tlearn: 1.0000000\ttest: 1.0000000\tbest: 1.0000000 (2)\ttotal: 41ms\tremaining: 58.7ms\n",
      "51:\tlearn: 1.0000000\ttest: 1.0000000\tbest: 1.0000000 (2)\ttotal: 41.5ms\tremaining: 57.4ms\n",
      "52:\tlearn: 1.0000000\ttest: 1.0000000\tbest: 1.0000000 (2)\ttotal: 41.9ms\tremaining: 56.2ms\n",
      "53:\tlearn: 1.0000000\ttest: 1.0000000\tbest: 1.0000000 (2)\ttotal: 42.4ms\tremaining: 55ms\n",
      "54:\tlearn: 1.0000000\ttest: 1.0000000\tbest: 1.0000000 (2)\ttotal: 43ms\tremaining: 53.9ms\n",
      "55:\tlearn: 1.0000000\ttest: 1.0000000\tbest: 1.0000000 (2)\ttotal: 43.6ms\tremaining: 53ms\n",
      "56:\tlearn: 1.0000000\ttest: 1.0000000\tbest: 1.0000000 (2)\ttotal: 44.3ms\tremaining: 52ms\n",
      "57:\tlearn: 1.0000000\ttest: 1.0000000\tbest: 1.0000000 (2)\ttotal: 44.9ms\tremaining: 51.1ms\n",
      "58:\tlearn: 1.0000000\ttest: 1.0000000\tbest: 1.0000000 (2)\ttotal: 46.8ms\tremaining: 51.6ms\n",
      "59:\tlearn: 1.0000000\ttest: 1.0000000\tbest: 1.0000000 (2)\ttotal: 47.3ms\tremaining: 50.4ms\n",
      "60:\tlearn: 1.0000000\ttest: 1.0000000\tbest: 1.0000000 (2)\ttotal: 47.7ms\tremaining: 49.3ms\n",
      "61:\tlearn: 1.0000000\ttest: 1.0000000\tbest: 1.0000000 (2)\ttotal: 48.2ms\tremaining: 48.2ms\n",
      "62:\tlearn: 1.0000000\ttest: 1.0000000\tbest: 1.0000000 (2)\ttotal: 48.7ms\tremaining: 47.1ms\n",
      "63:\tlearn: 1.0000000\ttest: 1.0000000\tbest: 1.0000000 (2)\ttotal: 49.3ms\tremaining: 46.2ms\n",
      "64:\tlearn: 1.0000000\ttest: 1.0000000\tbest: 1.0000000 (2)\ttotal: 49.8ms\tremaining: 45.2ms\n",
      "65:\tlearn: 1.0000000\ttest: 1.0000000\tbest: 1.0000000 (2)\ttotal: 50.5ms\tremaining: 44.4ms\n",
      "66:\tlearn: 1.0000000\ttest: 1.0000000\tbest: 1.0000000 (2)\ttotal: 51.1ms\tremaining: 43.5ms\n",
      "67:\tlearn: 1.0000000\ttest: 1.0000000\tbest: 1.0000000 (2)\ttotal: 54.5ms\tremaining: 44.9ms\n",
      "68:\tlearn: 1.0000000\ttest: 1.0000000\tbest: 1.0000000 (2)\ttotal: 55.1ms\tremaining: 43.9ms\n",
      "69:\tlearn: 1.0000000\ttest: 1.0000000\tbest: 1.0000000 (2)\ttotal: 58.3ms\tremaining: 45ms\n",
      "70:\tlearn: 1.0000000\ttest: 1.0000000\tbest: 1.0000000 (2)\ttotal: 58.9ms\tremaining: 44ms\n",
      "71:\tlearn: 1.0000000\ttest: 1.0000000\tbest: 1.0000000 (2)\ttotal: 61.3ms\tremaining: 44.3ms\n",
      "72:\tlearn: 1.0000000\ttest: 1.0000000\tbest: 1.0000000 (2)\ttotal: 61.8ms\tremaining: 43.2ms\n",
      "73:\tlearn: 1.0000000\ttest: 1.0000000\tbest: 1.0000000 (2)\ttotal: 62.4ms\tremaining: 42.1ms\n",
      "74:\tlearn: 1.0000000\ttest: 1.0000000\tbest: 1.0000000 (2)\ttotal: 62.9ms\tremaining: 41.1ms\n",
      "75:\tlearn: 1.0000000\ttest: 1.0000000\tbest: 1.0000000 (2)\ttotal: 63.4ms\tremaining: 40.1ms\n",
      "76:\tlearn: 1.0000000\ttest: 1.0000000\tbest: 1.0000000 (2)\ttotal: 64ms\tremaining: 39ms\n",
      "77:\tlearn: 1.0000000\ttest: 1.0000000\tbest: 1.0000000 (2)\ttotal: 64.5ms\tremaining: 38ms\n",
      "78:\tlearn: 1.0000000\ttest: 1.0000000\tbest: 1.0000000 (2)\ttotal: 65ms\tremaining: 37ms\n",
      "79:\tlearn: 1.0000000\ttest: 1.0000000\tbest: 1.0000000 (2)\ttotal: 65.5ms\tremaining: 36ms\n",
      "80:\tlearn: 1.0000000\ttest: 1.0000000\tbest: 1.0000000 (2)\ttotal: 66.1ms\tremaining: 35.1ms\n",
      "81:\tlearn: 1.0000000\ttest: 1.0000000\tbest: 1.0000000 (2)\ttotal: 66.6ms\tremaining: 34.1ms\n",
      "82:\tlearn: 1.0000000\ttest: 1.0000000\tbest: 1.0000000 (2)\ttotal: 67.2ms\tremaining: 33.2ms\n",
      "83:\tlearn: 1.0000000\ttest: 1.0000000\tbest: 1.0000000 (2)\ttotal: 67.7ms\tremaining: 32.2ms\n",
      "84:\tlearn: 1.0000000\ttest: 1.0000000\tbest: 1.0000000 (2)\ttotal: 68.3ms\tremaining: 31.3ms\n",
      "85:\tlearn: 1.0000000\ttest: 1.0000000\tbest: 1.0000000 (2)\ttotal: 68.8ms\tremaining: 30.4ms\n",
      "86:\tlearn: 1.0000000\ttest: 1.0000000\tbest: 1.0000000 (2)\ttotal: 69.3ms\tremaining: 29.5ms\n",
      "87:\tlearn: 1.0000000\ttest: 1.0000000\tbest: 1.0000000 (2)\ttotal: 69.8ms\tremaining: 28.6ms\n",
      "88:\tlearn: 1.0000000\ttest: 1.0000000\tbest: 1.0000000 (2)\ttotal: 70.4ms\tremaining: 27.7ms\n",
      "89:\tlearn: 1.0000000\ttest: 1.0000000\tbest: 1.0000000 (2)\ttotal: 70.9ms\tremaining: 26.8ms\n",
      "90:\tlearn: 1.0000000\ttest: 1.0000000\tbest: 1.0000000 (2)\ttotal: 71.4ms\tremaining: 25.9ms\n",
      "91:\tlearn: 1.0000000\ttest: 1.0000000\tbest: 1.0000000 (2)\ttotal: 72ms\tremaining: 25ms\n",
      "92:\tlearn: 1.0000000\ttest: 1.0000000\tbest: 1.0000000 (2)\ttotal: 72.5ms\tremaining: 24.2ms\n",
      "93:\tlearn: 1.0000000\ttest: 1.0000000\tbest: 1.0000000 (2)\ttotal: 73.1ms\tremaining: 23.3ms\n",
      "94:\tlearn: 1.0000000\ttest: 1.0000000\tbest: 1.0000000 (2)\ttotal: 73.6ms\tremaining: 22.5ms\n",
      "95:\tlearn: 1.0000000\ttest: 1.0000000\tbest: 1.0000000 (2)\ttotal: 74.1ms\tremaining: 21.6ms\n",
      "96:\tlearn: 1.0000000\ttest: 1.0000000\tbest: 1.0000000 (2)\ttotal: 74.6ms\tremaining: 20.8ms\n",
      "97:\tlearn: 1.0000000\ttest: 1.0000000\tbest: 1.0000000 (2)\ttotal: 75.2ms\tremaining: 19.9ms\n",
      "98:\tlearn: 1.0000000\ttest: 1.0000000\tbest: 1.0000000 (2)\ttotal: 75.7ms\tremaining: 19.1ms\n",
      "99:\tlearn: 1.0000000\ttest: 1.0000000\tbest: 1.0000000 (2)\ttotal: 76.2ms\tremaining: 18.3ms\n",
      "100:\tlearn: 1.0000000\ttest: 1.0000000\tbest: 1.0000000 (2)\ttotal: 76.7ms\tremaining: 17.5ms\n",
      "101:\tlearn: 1.0000000\ttest: 1.0000000\tbest: 1.0000000 (2)\ttotal: 77.3ms\tremaining: 16.7ms\n",
      "102:\tlearn: 1.0000000\ttest: 1.0000000\tbest: 1.0000000 (2)\ttotal: 77.8ms\tremaining: 15.9ms\n",
      "103:\tlearn: 1.0000000\ttest: 1.0000000\tbest: 1.0000000 (2)\ttotal: 78.3ms\tremaining: 15.1ms\n",
      "104:\tlearn: 1.0000000\ttest: 1.0000000\tbest: 1.0000000 (2)\ttotal: 78.8ms\tremaining: 14.3ms\n",
      "105:\tlearn: 1.0000000\ttest: 1.0000000\tbest: 1.0000000 (2)\ttotal: 79.3ms\tremaining: 13.5ms\n",
      "106:\tlearn: 1.0000000\ttest: 1.0000000\tbest: 1.0000000 (2)\ttotal: 79.9ms\tremaining: 12.7ms\n",
      "107:\tlearn: 1.0000000\ttest: 1.0000000\tbest: 1.0000000 (2)\ttotal: 80.4ms\tremaining: 11.9ms\n",
      "108:\tlearn: 1.0000000\ttest: 1.0000000\tbest: 1.0000000 (2)\ttotal: 80.9ms\tremaining: 11.1ms\n",
      "109:\tlearn: 1.0000000\ttest: 1.0000000\tbest: 1.0000000 (2)\ttotal: 81.5ms\tremaining: 10.4ms\n",
      "110:\tlearn: 1.0000000\ttest: 1.0000000\tbest: 1.0000000 (2)\ttotal: 82ms\tremaining: 9.6ms\n",
      "111:\tlearn: 1.0000000\ttest: 1.0000000\tbest: 1.0000000 (2)\ttotal: 82.5ms\tremaining: 8.84ms\n",
      "112:\tlearn: 1.0000000\ttest: 1.0000000\tbest: 1.0000000 (2)\ttotal: 83ms\tremaining: 8.08ms\n",
      "113:\tlearn: 1.0000000\ttest: 1.0000000\tbest: 1.0000000 (2)\ttotal: 83.6ms\tremaining: 7.33ms\n",
      "114:\tlearn: 1.0000000\ttest: 1.0000000\tbest: 1.0000000 (2)\ttotal: 84.1ms\tremaining: 6.58ms\n",
      "115:\tlearn: 1.0000000\ttest: 1.0000000\tbest: 1.0000000 (2)\ttotal: 84.6ms\tremaining: 5.83ms\n",
      "116:\tlearn: 1.0000000\ttest: 1.0000000\tbest: 1.0000000 (2)\ttotal: 85.1ms\tremaining: 5.09ms\n",
      "117:\tlearn: 1.0000000\ttest: 1.0000000\tbest: 1.0000000 (2)\ttotal: 85.6ms\tremaining: 4.35ms\n",
      "118:\tlearn: 1.0000000\ttest: 1.0000000\tbest: 1.0000000 (2)\ttotal: 86.2ms\tremaining: 3.62ms\n",
      "119:\tlearn: 1.0000000\ttest: 1.0000000\tbest: 1.0000000 (2)\ttotal: 86.7ms\tremaining: 2.89ms\n",
      "120:\tlearn: 1.0000000\ttest: 1.0000000\tbest: 1.0000000 (2)\ttotal: 87.2ms\tremaining: 2.16ms\n",
      "121:\tlearn: 1.0000000\ttest: 1.0000000\tbest: 1.0000000 (2)\ttotal: 87.7ms\tremaining: 1.44ms\n",
      "122:\tlearn: 1.0000000\ttest: 1.0000000\tbest: 1.0000000 (2)\ttotal: 88.3ms\tremaining: 717us\n",
      "123:\tlearn: 1.0000000\ttest: 1.0000000\tbest: 1.0000000 (2)\ttotal: 88.9ms\tremaining: 0us\n",
      "\n",
      "bestTest = 1\n",
      "bestIteration = 2\n",
      "\n",
      "Training on fold [3/5]\n",
      "0:\tlearn: 1.0000000\ttest: 1.0000000\tbest: 1.0000000 (0)\ttotal: 1.66ms\tremaining: 204ms\n",
      "1:\tlearn: 1.0000000\ttest: 1.0000000\tbest: 1.0000000 (0)\ttotal: 3.08ms\tremaining: 188ms\n",
      "2:\tlearn: 1.0000000\ttest: 1.0000000\tbest: 1.0000000 (0)\ttotal: 3.89ms\tremaining: 157ms\n",
      "3:\tlearn: 1.0000000\ttest: 1.0000000\tbest: 1.0000000 (0)\ttotal: 4.56ms\tremaining: 137ms\n",
      "4:\tlearn: 1.0000000\ttest: 1.0000000\tbest: 1.0000000 (0)\ttotal: 5.24ms\tremaining: 125ms\n",
      "5:\tlearn: 1.0000000\ttest: 1.0000000\tbest: 1.0000000 (0)\ttotal: 5.87ms\tremaining: 115ms\n",
      "6:\tlearn: 1.0000000\ttest: 1.0000000\tbest: 1.0000000 (0)\ttotal: 6.54ms\tremaining: 109ms\n",
      "7:\tlearn: 1.0000000\ttest: 1.0000000\tbest: 1.0000000 (0)\ttotal: 7.2ms\tremaining: 104ms\n",
      "8:\tlearn: 1.0000000\ttest: 1.0000000\tbest: 1.0000000 (0)\ttotal: 7.88ms\tremaining: 101ms\n",
      "9:\tlearn: 1.0000000\ttest: 1.0000000\tbest: 1.0000000 (0)\ttotal: 8.75ms\tremaining: 99.8ms\n",
      "10:\tlearn: 1.0000000\ttest: 1.0000000\tbest: 1.0000000 (0)\ttotal: 9.27ms\tremaining: 95.2ms\n",
      "11:\tlearn: 1.0000000\ttest: 1.0000000\tbest: 1.0000000 (0)\ttotal: 9.76ms\tremaining: 91.1ms\n",
      "12:\tlearn: 1.0000000\ttest: 1.0000000\tbest: 1.0000000 (0)\ttotal: 11.5ms\tremaining: 98ms\n",
      "13:\tlearn: 1.0000000\ttest: 1.0000000\tbest: 1.0000000 (0)\ttotal: 12.1ms\tremaining: 95.1ms\n",
      "14:\tlearn: 1.0000000\ttest: 1.0000000\tbest: 1.0000000 (0)\ttotal: 12.6ms\tremaining: 91.6ms\n",
      "15:\tlearn: 1.0000000\ttest: 1.0000000\tbest: 1.0000000 (0)\ttotal: 13.1ms\tremaining: 88.5ms\n",
      "16:\tlearn: 1.0000000\ttest: 1.0000000\tbest: 1.0000000 (0)\ttotal: 14.8ms\tremaining: 93ms\n",
      "17:\tlearn: 1.0000000\ttest: 1.0000000\tbest: 1.0000000 (0)\ttotal: 15.3ms\tremaining: 90.2ms\n",
      "18:\tlearn: 1.0000000\ttest: 1.0000000\tbest: 1.0000000 (0)\ttotal: 15.9ms\tremaining: 87.8ms\n",
      "19:\tlearn: 1.0000000\ttest: 1.0000000\tbest: 1.0000000 (0)\ttotal: 16.4ms\tremaining: 85.4ms\n",
      "20:\tlearn: 1.0000000\ttest: 1.0000000\tbest: 1.0000000 (0)\ttotal: 17ms\tremaining: 83.2ms\n",
      "21:\tlearn: 1.0000000\ttest: 1.0000000\tbest: 1.0000000 (0)\ttotal: 17.5ms\tremaining: 81.2ms\n",
      "22:\tlearn: 1.0000000\ttest: 1.0000000\tbest: 1.0000000 (0)\ttotal: 18ms\tremaining: 79.2ms\n",
      "23:\tlearn: 1.0000000\ttest: 1.0000000\tbest: 1.0000000 (0)\ttotal: 18.6ms\tremaining: 77.5ms\n",
      "24:\tlearn: 1.0000000\ttest: 1.0000000\tbest: 1.0000000 (0)\ttotal: 19.2ms\tremaining: 75.8ms\n",
      "25:\tlearn: 1.0000000\ttest: 1.0000000\tbest: 1.0000000 (0)\ttotal: 19.7ms\tremaining: 74.2ms\n",
      "26:\tlearn: 1.0000000\ttest: 1.0000000\tbest: 1.0000000 (0)\ttotal: 20.2ms\tremaining: 72.7ms\n",
      "27:\tlearn: 1.0000000\ttest: 1.0000000\tbest: 1.0000000 (0)\ttotal: 20.8ms\tremaining: 71.3ms\n",
      "28:\tlearn: 1.0000000\ttest: 1.0000000\tbest: 1.0000000 (0)\ttotal: 21.3ms\tremaining: 69.9ms\n",
      "29:\tlearn: 1.0000000\ttest: 1.0000000\tbest: 1.0000000 (0)\ttotal: 21.9ms\tremaining: 68.5ms\n",
      "30:\tlearn: 1.0000000\ttest: 1.0000000\tbest: 1.0000000 (0)\ttotal: 22.4ms\tremaining: 67.2ms\n",
      "31:\tlearn: 1.0000000\ttest: 1.0000000\tbest: 1.0000000 (0)\ttotal: 22.9ms\tremaining: 66ms\n",
      "32:\tlearn: 1.0000000\ttest: 1.0000000\tbest: 1.0000000 (0)\ttotal: 23.5ms\tremaining: 64.7ms\n",
      "33:\tlearn: 1.0000000\ttest: 1.0000000\tbest: 1.0000000 (0)\ttotal: 24ms\tremaining: 63.6ms\n",
      "34:\tlearn: 1.0000000\ttest: 1.0000000\tbest: 1.0000000 (0)\ttotal: 24.5ms\tremaining: 62.4ms\n",
      "35:\tlearn: 1.0000000\ttest: 1.0000000\tbest: 1.0000000 (0)\ttotal: 25.1ms\tremaining: 61.3ms\n",
      "36:\tlearn: 1.0000000\ttest: 1.0000000\tbest: 1.0000000 (0)\ttotal: 25.6ms\tremaining: 60.2ms\n",
      "37:\tlearn: 1.0000000\ttest: 1.0000000\tbest: 1.0000000 (0)\ttotal: 26.2ms\tremaining: 59.2ms\n",
      "38:\tlearn: 1.0000000\ttest: 1.0000000\tbest: 1.0000000 (0)\ttotal: 26.7ms\tremaining: 58.2ms\n",
      "39:\tlearn: 1.0000000\ttest: 1.0000000\tbest: 1.0000000 (0)\ttotal: 27.2ms\tremaining: 57.2ms\n",
      "40:\tlearn: 1.0000000\ttest: 1.0000000\tbest: 1.0000000 (0)\ttotal: 27.8ms\tremaining: 56.2ms\n",
      "41:\tlearn: 1.0000000\ttest: 1.0000000\tbest: 1.0000000 (0)\ttotal: 28.3ms\tremaining: 55.3ms\n",
      "42:\tlearn: 1.0000000\ttest: 1.0000000\tbest: 1.0000000 (0)\ttotal: 28.8ms\tremaining: 54.3ms\n",
      "43:\tlearn: 1.0000000\ttest: 1.0000000\tbest: 1.0000000 (0)\ttotal: 29.4ms\tremaining: 53.4ms\n",
      "44:\tlearn: 1.0000000\ttest: 1.0000000\tbest: 1.0000000 (0)\ttotal: 29.9ms\tremaining: 52.5ms\n",
      "45:\tlearn: 1.0000000\ttest: 1.0000000\tbest: 1.0000000 (0)\ttotal: 30.4ms\tremaining: 51.6ms\n",
      "46:\tlearn: 1.0000000\ttest: 1.0000000\tbest: 1.0000000 (0)\ttotal: 31ms\tremaining: 50.7ms\n",
      "47:\tlearn: 1.0000000\ttest: 1.0000000\tbest: 1.0000000 (0)\ttotal: 31.5ms\tremaining: 49.9ms\n",
      "48:\tlearn: 1.0000000\ttest: 1.0000000\tbest: 1.0000000 (0)\ttotal: 32ms\tremaining: 49ms\n",
      "49:\tlearn: 1.0000000\ttest: 1.0000000\tbest: 1.0000000 (0)\ttotal: 32.6ms\tremaining: 48.2ms\n",
      "50:\tlearn: 1.0000000\ttest: 1.0000000\tbest: 1.0000000 (0)\ttotal: 33.1ms\tremaining: 47.4ms\n",
      "51:\tlearn: 1.0000000\ttest: 1.0000000\tbest: 1.0000000 (0)\ttotal: 33.6ms\tremaining: 46.6ms\n",
      "52:\tlearn: 1.0000000\ttest: 1.0000000\tbest: 1.0000000 (0)\ttotal: 34.2ms\tremaining: 45.8ms\n",
      "53:\tlearn: 1.0000000\ttest: 1.0000000\tbest: 1.0000000 (0)\ttotal: 34.7ms\tremaining: 45ms\n",
      "54:\tlearn: 1.0000000\ttest: 1.0000000\tbest: 1.0000000 (0)\ttotal: 35.2ms\tremaining: 44.2ms\n",
      "55:\tlearn: 1.0000000\ttest: 1.0000000\tbest: 1.0000000 (0)\ttotal: 35.8ms\tremaining: 43.5ms\n",
      "56:\tlearn: 1.0000000\ttest: 1.0000000\tbest: 1.0000000 (0)\ttotal: 36.3ms\tremaining: 42.7ms\n",
      "57:\tlearn: 1.0000000\ttest: 1.0000000\tbest: 1.0000000 (0)\ttotal: 37.2ms\tremaining: 42.4ms\n",
      "58:\tlearn: 1.0000000\ttest: 1.0000000\tbest: 1.0000000 (0)\ttotal: 38.4ms\tremaining: 42.3ms\n",
      "59:\tlearn: 1.0000000\ttest: 1.0000000\tbest: 1.0000000 (0)\ttotal: 39ms\tremaining: 41.6ms\n",
      "60:\tlearn: 1.0000000\ttest: 1.0000000\tbest: 1.0000000 (0)\ttotal: 39.7ms\tremaining: 41ms\n",
      "61:\tlearn: 1.0000000\ttest: 1.0000000\tbest: 1.0000000 (0)\ttotal: 40.7ms\tremaining: 40.7ms\n",
      "62:\tlearn: 1.0000000\ttest: 1.0000000\tbest: 1.0000000 (0)\ttotal: 41.8ms\tremaining: 40.5ms\n",
      "63:\tlearn: 1.0000000\ttest: 1.0000000\tbest: 1.0000000 (0)\ttotal: 42.8ms\tremaining: 40.2ms\n",
      "64:\tlearn: 1.0000000\ttest: 1.0000000\tbest: 1.0000000 (0)\ttotal: 43.8ms\tremaining: 39.7ms\n",
      "65:\tlearn: 1.0000000\ttest: 1.0000000\tbest: 1.0000000 (0)\ttotal: 46.4ms\tremaining: 40.8ms\n",
      "66:\tlearn: 1.0000000\ttest: 1.0000000\tbest: 1.0000000 (0)\ttotal: 47.6ms\tremaining: 40.5ms\n",
      "67:\tlearn: 1.0000000\ttest: 1.0000000\tbest: 1.0000000 (0)\ttotal: 48.7ms\tremaining: 40.1ms\n",
      "68:\tlearn: 1.0000000\ttest: 1.0000000\tbest: 1.0000000 (0)\ttotal: 49.7ms\tremaining: 39.7ms\n",
      "69:\tlearn: 1.0000000\ttest: 1.0000000\tbest: 1.0000000 (0)\ttotal: 51.4ms\tremaining: 39.7ms\n",
      "70:\tlearn: 1.0000000\ttest: 1.0000000\tbest: 1.0000000 (0)\ttotal: 53.1ms\tremaining: 39.6ms\n",
      "71:\tlearn: 1.0000000\ttest: 1.0000000\tbest: 1.0000000 (0)\ttotal: 54.5ms\tremaining: 39.3ms\n",
      "72:\tlearn: 1.0000000\ttest: 1.0000000\tbest: 1.0000000 (0)\ttotal: 55.3ms\tremaining: 38.6ms\n",
      "73:\tlearn: 1.0000000\ttest: 1.0000000\tbest: 1.0000000 (0)\ttotal: 56.1ms\tremaining: 37.9ms\n",
      "74:\tlearn: 1.0000000\ttest: 1.0000000\tbest: 1.0000000 (0)\ttotal: 56.9ms\tremaining: 37.2ms\n",
      "75:\tlearn: 1.0000000\ttest: 1.0000000\tbest: 1.0000000 (0)\ttotal: 57.8ms\tremaining: 36.5ms\n",
      "76:\tlearn: 1.0000000\ttest: 1.0000000\tbest: 1.0000000 (0)\ttotal: 58.7ms\tremaining: 35.8ms\n",
      "77:\tlearn: 1.0000000\ttest: 1.0000000\tbest: 1.0000000 (0)\ttotal: 59.4ms\tremaining: 35.1ms\n",
      "78:\tlearn: 1.0000000\ttest: 1.0000000\tbest: 1.0000000 (0)\ttotal: 60.3ms\tremaining: 34.3ms\n",
      "79:\tlearn: 1.0000000\ttest: 1.0000000\tbest: 1.0000000 (0)\ttotal: 61.1ms\tremaining: 33.6ms\n",
      "80:\tlearn: 1.0000000\ttest: 1.0000000\tbest: 1.0000000 (0)\ttotal: 62.1ms\tremaining: 33ms\n",
      "81:\tlearn: 1.0000000\ttest: 1.0000000\tbest: 1.0000000 (0)\ttotal: 63ms\tremaining: 32.3ms\n",
      "82:\tlearn: 1.0000000\ttest: 1.0000000\tbest: 1.0000000 (0)\ttotal: 63.9ms\tremaining: 31.5ms\n",
      "83:\tlearn: 1.0000000\ttest: 1.0000000\tbest: 1.0000000 (0)\ttotal: 64.7ms\tremaining: 30.8ms\n",
      "84:\tlearn: 1.0000000\ttest: 1.0000000\tbest: 1.0000000 (0)\ttotal: 68.5ms\tremaining: 31.4ms\n",
      "85:\tlearn: 1.0000000\ttest: 1.0000000\tbest: 1.0000000 (0)\ttotal: 69.2ms\tremaining: 30.6ms\n",
      "86:\tlearn: 1.0000000\ttest: 1.0000000\tbest: 1.0000000 (0)\ttotal: 71.3ms\tremaining: 30.3ms\n",
      "87:\tlearn: 1.0000000\ttest: 1.0000000\tbest: 1.0000000 (0)\ttotal: 72.3ms\tremaining: 29.6ms\n",
      "88:\tlearn: 1.0000000\ttest: 1.0000000\tbest: 1.0000000 (0)\ttotal: 73.1ms\tremaining: 28.8ms\n",
      "89:\tlearn: 1.0000000\ttest: 1.0000000\tbest: 1.0000000 (0)\ttotal: 73.9ms\tremaining: 27.9ms\n",
      "90:\tlearn: 1.0000000\ttest: 1.0000000\tbest: 1.0000000 (0)\ttotal: 74.7ms\tremaining: 27.1ms\n",
      "91:\tlearn: 1.0000000\ttest: 1.0000000\tbest: 1.0000000 (0)\ttotal: 75.4ms\tremaining: 26.2ms\n",
      "92:\tlearn: 1.0000000\ttest: 1.0000000\tbest: 1.0000000 (0)\ttotal: 76.3ms\tremaining: 25.4ms\n",
      "93:\tlearn: 1.0000000\ttest: 1.0000000\tbest: 1.0000000 (0)\ttotal: 77.2ms\tremaining: 24.6ms\n",
      "94:\tlearn: 1.0000000\ttest: 1.0000000\tbest: 1.0000000 (0)\ttotal: 77.9ms\tremaining: 23.8ms\n",
      "95:\tlearn: 1.0000000\ttest: 1.0000000\tbest: 1.0000000 (0)\ttotal: 78.9ms\tremaining: 23ms\n",
      "96:\tlearn: 1.0000000\ttest: 1.0000000\tbest: 1.0000000 (0)\ttotal: 79.6ms\tremaining: 22.2ms\n",
      "97:\tlearn: 1.0000000\ttest: 1.0000000\tbest: 1.0000000 (0)\ttotal: 80.4ms\tremaining: 21.3ms\n",
      "98:\tlearn: 1.0000000\ttest: 1.0000000\tbest: 1.0000000 (0)\ttotal: 81.2ms\tremaining: 20.5ms\n",
      "99:\tlearn: 1.0000000\ttest: 1.0000000\tbest: 1.0000000 (0)\ttotal: 82.1ms\tremaining: 19.7ms\n",
      "100:\tlearn: 1.0000000\ttest: 1.0000000\tbest: 1.0000000 (0)\ttotal: 82.9ms\tremaining: 18.9ms\n",
      "101:\tlearn: 1.0000000\ttest: 1.0000000\tbest: 1.0000000 (0)\ttotal: 83.8ms\tremaining: 18.1ms\n",
      "102:\tlearn: 1.0000000\ttest: 1.0000000\tbest: 1.0000000 (0)\ttotal: 84.6ms\tremaining: 17.2ms\n",
      "103:\tlearn: 1.0000000\ttest: 1.0000000\tbest: 1.0000000 (0)\ttotal: 85.4ms\tremaining: 16.4ms\n",
      "104:\tlearn: 1.0000000\ttest: 1.0000000\tbest: 1.0000000 (0)\ttotal: 86.2ms\tremaining: 15.6ms\n",
      "105:\tlearn: 1.0000000\ttest: 1.0000000\tbest: 1.0000000 (0)\ttotal: 87ms\tremaining: 14.8ms\n",
      "106:\tlearn: 1.0000000\ttest: 1.0000000\tbest: 1.0000000 (0)\ttotal: 87.8ms\tremaining: 14ms\n",
      "107:\tlearn: 1.0000000\ttest: 1.0000000\tbest: 1.0000000 (0)\ttotal: 88.7ms\tremaining: 13.1ms\n",
      "108:\tlearn: 1.0000000\ttest: 1.0000000\tbest: 1.0000000 (0)\ttotal: 89.4ms\tremaining: 12.3ms\n",
      "109:\tlearn: 1.0000000\ttest: 1.0000000\tbest: 1.0000000 (0)\ttotal: 90.2ms\tremaining: 11.5ms\n",
      "110:\tlearn: 1.0000000\ttest: 1.0000000\tbest: 1.0000000 (0)\ttotal: 91ms\tremaining: 10.7ms\n",
      "111:\tlearn: 1.0000000\ttest: 1.0000000\tbest: 1.0000000 (0)\ttotal: 91.7ms\tremaining: 9.83ms\n",
      "112:\tlearn: 1.0000000\ttest: 1.0000000\tbest: 1.0000000 (0)\ttotal: 92.5ms\tremaining: 9ms\n",
      "113:\tlearn: 1.0000000\ttest: 1.0000000\tbest: 1.0000000 (0)\ttotal: 93.3ms\tremaining: 8.18ms\n",
      "114:\tlearn: 1.0000000\ttest: 1.0000000\tbest: 1.0000000 (0)\ttotal: 94.2ms\tremaining: 7.37ms\n",
      "115:\tlearn: 1.0000000\ttest: 1.0000000\tbest: 1.0000000 (0)\ttotal: 95ms\tremaining: 6.55ms\n",
      "116:\tlearn: 1.0000000\ttest: 1.0000000\tbest: 1.0000000 (0)\ttotal: 95.8ms\tremaining: 5.73ms\n",
      "117:\tlearn: 1.0000000\ttest: 1.0000000\tbest: 1.0000000 (0)\ttotal: 96.7ms\tremaining: 4.92ms\n",
      "118:\tlearn: 1.0000000\ttest: 1.0000000\tbest: 1.0000000 (0)\ttotal: 97.6ms\tremaining: 4.1ms\n",
      "119:\tlearn: 1.0000000\ttest: 1.0000000\tbest: 1.0000000 (0)\ttotal: 98.5ms\tremaining: 3.28ms\n",
      "120:\tlearn: 1.0000000\ttest: 1.0000000\tbest: 1.0000000 (0)\ttotal: 99.3ms\tremaining: 2.46ms\n",
      "121:\tlearn: 1.0000000\ttest: 1.0000000\tbest: 1.0000000 (0)\ttotal: 100ms\tremaining: 1.64ms\n",
      "122:\tlearn: 1.0000000\ttest: 1.0000000\tbest: 1.0000000 (0)\ttotal: 101ms\tremaining: 819us\n",
      "123:\tlearn: 1.0000000\ttest: 1.0000000\tbest: 1.0000000 (0)\ttotal: 102ms\tremaining: 0us\n",
      "\n",
      "bestTest = 1\n",
      "bestIteration = 0\n",
      "\n",
      "Training on fold [4/5]\n",
      "0:\tlearn: 0.9894737\ttest: 1.0000000\tbest: 1.0000000 (0)\ttotal: 1.25ms\tremaining: 154ms\n",
      "1:\tlearn: 1.0000000\ttest: 1.0000000\tbest: 1.0000000 (0)\ttotal: 2.22ms\tremaining: 135ms\n",
      "2:\tlearn: 1.0000000\ttest: 1.0000000\tbest: 1.0000000 (0)\ttotal: 3.17ms\tremaining: 128ms\n",
      "3:\tlearn: 1.0000000\ttest: 1.0000000\tbest: 1.0000000 (0)\ttotal: 4.13ms\tremaining: 124ms\n",
      "4:\tlearn: 1.0000000\ttest: 1.0000000\tbest: 1.0000000 (0)\ttotal: 5.04ms\tremaining: 120ms\n",
      "5:\tlearn: 1.0000000\ttest: 1.0000000\tbest: 1.0000000 (0)\ttotal: 5.95ms\tremaining: 117ms\n",
      "6:\tlearn: 1.0000000\ttest: 1.0000000\tbest: 1.0000000 (0)\ttotal: 6.84ms\tremaining: 114ms\n",
      "7:\tlearn: 1.0000000\ttest: 1.0000000\tbest: 1.0000000 (0)\ttotal: 7.7ms\tremaining: 112ms\n",
      "8:\tlearn: 1.0000000\ttest: 1.0000000\tbest: 1.0000000 (0)\ttotal: 8.59ms\tremaining: 110ms\n",
      "9:\tlearn: 1.0000000\ttest: 1.0000000\tbest: 1.0000000 (0)\ttotal: 9.54ms\tremaining: 109ms\n",
      "10:\tlearn: 1.0000000\ttest: 1.0000000\tbest: 1.0000000 (0)\ttotal: 10.5ms\tremaining: 108ms\n",
      "11:\tlearn: 1.0000000\ttest: 1.0000000\tbest: 1.0000000 (0)\ttotal: 11.3ms\tremaining: 106ms\n",
      "12:\tlearn: 1.0000000\ttest: 1.0000000\tbest: 1.0000000 (0)\ttotal: 12.3ms\tremaining: 105ms\n",
      "13:\tlearn: 1.0000000\ttest: 1.0000000\tbest: 1.0000000 (0)\ttotal: 13.2ms\tremaining: 104ms\n",
      "14:\tlearn: 1.0000000\ttest: 1.0000000\tbest: 1.0000000 (0)\ttotal: 14.2ms\tremaining: 103ms\n",
      "15:\tlearn: 1.0000000\ttest: 1.0000000\tbest: 1.0000000 (0)\ttotal: 15ms\tremaining: 101ms\n",
      "16:\tlearn: 1.0000000\ttest: 1.0000000\tbest: 1.0000000 (0)\ttotal: 15.8ms\tremaining: 99.6ms\n",
      "17:\tlearn: 1.0000000\ttest: 1.0000000\tbest: 1.0000000 (0)\ttotal: 16.5ms\tremaining: 97.4ms\n",
      "18:\tlearn: 1.0000000\ttest: 1.0000000\tbest: 1.0000000 (0)\ttotal: 17.1ms\tremaining: 94.5ms\n",
      "19:\tlearn: 1.0000000\ttest: 1.0000000\tbest: 1.0000000 (0)\ttotal: 17.7ms\tremaining: 92.1ms\n",
      "20:\tlearn: 1.0000000\ttest: 1.0000000\tbest: 1.0000000 (0)\ttotal: 18.3ms\tremaining: 89.5ms\n",
      "21:\tlearn: 1.0000000\ttest: 1.0000000\tbest: 1.0000000 (0)\ttotal: 18.8ms\tremaining: 87.1ms\n",
      "22:\tlearn: 1.0000000\ttest: 1.0000000\tbest: 1.0000000 (0)\ttotal: 19.3ms\tremaining: 84.9ms\n",
      "23:\tlearn: 1.0000000\ttest: 1.0000000\tbest: 1.0000000 (0)\ttotal: 19.9ms\tremaining: 82.8ms\n",
      "24:\tlearn: 1.0000000\ttest: 1.0000000\tbest: 1.0000000 (0)\ttotal: 20.4ms\tremaining: 80.9ms\n",
      "25:\tlearn: 1.0000000\ttest: 1.0000000\tbest: 1.0000000 (0)\ttotal: 21ms\tremaining: 79ms\n",
      "26:\tlearn: 1.0000000\ttest: 1.0000000\tbest: 1.0000000 (0)\ttotal: 21.5ms\tremaining: 77.2ms\n",
      "27:\tlearn: 1.0000000\ttest: 1.0000000\tbest: 1.0000000 (0)\ttotal: 22ms\tremaining: 75.5ms\n",
      "28:\tlearn: 1.0000000\ttest: 1.0000000\tbest: 1.0000000 (0)\ttotal: 22.6ms\tremaining: 73.9ms\n",
      "29:\tlearn: 1.0000000\ttest: 1.0000000\tbest: 1.0000000 (0)\ttotal: 23.1ms\tremaining: 72.3ms\n",
      "30:\tlearn: 1.0000000\ttest: 1.0000000\tbest: 1.0000000 (0)\ttotal: 23.6ms\tremaining: 70.8ms\n",
      "31:\tlearn: 1.0000000\ttest: 1.0000000\tbest: 1.0000000 (0)\ttotal: 24.1ms\tremaining: 69.4ms\n",
      "32:\tlearn: 1.0000000\ttest: 1.0000000\tbest: 1.0000000 (0)\ttotal: 24.7ms\tremaining: 68.1ms\n",
      "33:\tlearn: 1.0000000\ttest: 1.0000000\tbest: 1.0000000 (0)\ttotal: 25.2ms\tremaining: 66.8ms\n",
      "34:\tlearn: 1.0000000\ttest: 1.0000000\tbest: 1.0000000 (0)\ttotal: 25.8ms\tremaining: 65.5ms\n",
      "35:\tlearn: 1.0000000\ttest: 1.0000000\tbest: 1.0000000 (0)\ttotal: 26.3ms\tremaining: 64.3ms\n",
      "36:\tlearn: 1.0000000\ttest: 1.0000000\tbest: 1.0000000 (0)\ttotal: 26.8ms\tremaining: 63.1ms\n",
      "37:\tlearn: 1.0000000\ttest: 1.0000000\tbest: 1.0000000 (0)\ttotal: 27.4ms\tremaining: 62ms\n",
      "38:\tlearn: 1.0000000\ttest: 1.0000000\tbest: 1.0000000 (0)\ttotal: 27.9ms\tremaining: 60.9ms\n",
      "39:\tlearn: 1.0000000\ttest: 1.0000000\tbest: 1.0000000 (0)\ttotal: 28.5ms\tremaining: 59.7ms\n",
      "40:\tlearn: 1.0000000\ttest: 1.0000000\tbest: 1.0000000 (0)\ttotal: 29ms\tremaining: 58.7ms\n",
      "41:\tlearn: 1.0000000\ttest: 1.0000000\tbest: 1.0000000 (0)\ttotal: 29.5ms\tremaining: 57.6ms\n",
      "42:\tlearn: 1.0000000\ttest: 1.0000000\tbest: 1.0000000 (0)\ttotal: 30.1ms\tremaining: 56.6ms\n",
      "43:\tlearn: 1.0000000\ttest: 1.0000000\tbest: 1.0000000 (0)\ttotal: 30.6ms\tremaining: 55.6ms\n",
      "44:\tlearn: 1.0000000\ttest: 1.0000000\tbest: 1.0000000 (0)\ttotal: 31.1ms\tremaining: 54.6ms\n",
      "45:\tlearn: 1.0000000\ttest: 1.0000000\tbest: 1.0000000 (0)\ttotal: 31.7ms\tremaining: 53.7ms\n",
      "46:\tlearn: 1.0000000\ttest: 1.0000000\tbest: 1.0000000 (0)\ttotal: 32.2ms\tremaining: 52.7ms\n",
      "47:\tlearn: 1.0000000\ttest: 1.0000000\tbest: 1.0000000 (0)\ttotal: 32.7ms\tremaining: 51.8ms\n",
      "48:\tlearn: 1.0000000\ttest: 1.0000000\tbest: 1.0000000 (0)\ttotal: 33.3ms\tremaining: 50.9ms\n",
      "49:\tlearn: 1.0000000\ttest: 1.0000000\tbest: 1.0000000 (0)\ttotal: 33.8ms\tremaining: 50ms\n",
      "50:\tlearn: 1.0000000\ttest: 1.0000000\tbest: 1.0000000 (0)\ttotal: 34.3ms\tremaining: 49.1ms\n",
      "51:\tlearn: 1.0000000\ttest: 1.0000000\tbest: 1.0000000 (0)\ttotal: 34.9ms\tremaining: 48.3ms\n",
      "52:\tlearn: 1.0000000\ttest: 1.0000000\tbest: 1.0000000 (0)\ttotal: 35.4ms\tremaining: 47.4ms\n",
      "53:\tlearn: 1.0000000\ttest: 1.0000000\tbest: 1.0000000 (0)\ttotal: 35.9ms\tremaining: 46.6ms\n",
      "54:\tlearn: 1.0000000\ttest: 1.0000000\tbest: 1.0000000 (0)\ttotal: 36.4ms\tremaining: 45.7ms\n",
      "55:\tlearn: 1.0000000\ttest: 1.0000000\tbest: 1.0000000 (0)\ttotal: 37ms\tremaining: 44.9ms\n",
      "56:\tlearn: 1.0000000\ttest: 1.0000000\tbest: 1.0000000 (0)\ttotal: 37.5ms\tremaining: 44.1ms\n",
      "57:\tlearn: 1.0000000\ttest: 1.0000000\tbest: 1.0000000 (0)\ttotal: 38ms\tremaining: 43.3ms\n",
      "58:\tlearn: 1.0000000\ttest: 1.0000000\tbest: 1.0000000 (0)\ttotal: 38.6ms\tremaining: 42.5ms\n",
      "59:\tlearn: 1.0000000\ttest: 1.0000000\tbest: 1.0000000 (0)\ttotal: 39.1ms\tremaining: 41.7ms\n",
      "60:\tlearn: 1.0000000\ttest: 1.0000000\tbest: 1.0000000 (0)\ttotal: 39.6ms\tremaining: 40.9ms\n",
      "61:\tlearn: 1.0000000\ttest: 1.0000000\tbest: 1.0000000 (0)\ttotal: 40.2ms\tremaining: 40.2ms\n",
      "62:\tlearn: 1.0000000\ttest: 1.0000000\tbest: 1.0000000 (0)\ttotal: 40.7ms\tremaining: 39.4ms\n",
      "63:\tlearn: 1.0000000\ttest: 1.0000000\tbest: 1.0000000 (0)\ttotal: 41.2ms\tremaining: 38.7ms\n",
      "64:\tlearn: 1.0000000\ttest: 1.0000000\tbest: 1.0000000 (0)\ttotal: 41.8ms\tremaining: 37.9ms\n",
      "65:\tlearn: 1.0000000\ttest: 1.0000000\tbest: 1.0000000 (0)\ttotal: 42.3ms\tremaining: 37.2ms\n",
      "66:\tlearn: 1.0000000\ttest: 1.0000000\tbest: 1.0000000 (0)\ttotal: 42.9ms\tremaining: 36.5ms\n",
      "67:\tlearn: 1.0000000\ttest: 1.0000000\tbest: 1.0000000 (0)\ttotal: 43.4ms\tremaining: 35.7ms\n",
      "68:\tlearn: 1.0000000\ttest: 1.0000000\tbest: 1.0000000 (0)\ttotal: 43.9ms\tremaining: 35ms\n",
      "69:\tlearn: 1.0000000\ttest: 1.0000000\tbest: 1.0000000 (0)\ttotal: 44.5ms\tremaining: 34.3ms\n",
      "70:\tlearn: 1.0000000\ttest: 1.0000000\tbest: 1.0000000 (0)\ttotal: 45.1ms\tremaining: 33.7ms\n",
      "71:\tlearn: 1.0000000\ttest: 1.0000000\tbest: 1.0000000 (0)\ttotal: 45.9ms\tremaining: 33.1ms\n",
      "72:\tlearn: 1.0000000\ttest: 1.0000000\tbest: 1.0000000 (0)\ttotal: 46.5ms\tremaining: 32.5ms\n",
      "73:\tlearn: 1.0000000\ttest: 1.0000000\tbest: 1.0000000 (0)\ttotal: 47.4ms\tremaining: 32ms\n",
      "74:\tlearn: 1.0000000\ttest: 1.0000000\tbest: 1.0000000 (0)\ttotal: 48.3ms\tremaining: 31.6ms\n",
      "75:\tlearn: 1.0000000\ttest: 1.0000000\tbest: 1.0000000 (0)\ttotal: 49.2ms\tremaining: 31.1ms\n",
      "76:\tlearn: 1.0000000\ttest: 1.0000000\tbest: 1.0000000 (0)\ttotal: 50ms\tremaining: 30.5ms\n",
      "77:\tlearn: 1.0000000\ttest: 1.0000000\tbest: 1.0000000 (0)\ttotal: 50.8ms\tremaining: 29.9ms\n",
      "78:\tlearn: 1.0000000\ttest: 1.0000000\tbest: 1.0000000 (0)\ttotal: 51.6ms\tremaining: 29.4ms\n",
      "79:\tlearn: 1.0000000\ttest: 1.0000000\tbest: 1.0000000 (0)\ttotal: 52.3ms\tremaining: 28.8ms\n",
      "80:\tlearn: 1.0000000\ttest: 1.0000000\tbest: 1.0000000 (0)\ttotal: 52.9ms\tremaining: 28.1ms\n",
      "81:\tlearn: 1.0000000\ttest: 1.0000000\tbest: 1.0000000 (0)\ttotal: 53.5ms\tremaining: 27.4ms\n",
      "82:\tlearn: 1.0000000\ttest: 1.0000000\tbest: 1.0000000 (0)\ttotal: 54ms\tremaining: 26.7ms\n",
      "83:\tlearn: 1.0000000\ttest: 1.0000000\tbest: 1.0000000 (0)\ttotal: 54.6ms\tremaining: 26ms\n",
      "84:\tlearn: 1.0000000\ttest: 1.0000000\tbest: 1.0000000 (0)\ttotal: 55.2ms\tremaining: 25.3ms\n",
      "85:\tlearn: 1.0000000\ttest: 1.0000000\tbest: 1.0000000 (0)\ttotal: 55.7ms\tremaining: 24.6ms\n",
      "86:\tlearn: 1.0000000\ttest: 1.0000000\tbest: 1.0000000 (0)\ttotal: 56.2ms\tremaining: 23.9ms\n",
      "87:\tlearn: 1.0000000\ttest: 1.0000000\tbest: 1.0000000 (0)\ttotal: 56.7ms\tremaining: 23.2ms\n",
      "88:\tlearn: 1.0000000\ttest: 1.0000000\tbest: 1.0000000 (0)\ttotal: 57.3ms\tremaining: 22.5ms\n",
      "89:\tlearn: 1.0000000\ttest: 1.0000000\tbest: 1.0000000 (0)\ttotal: 57.9ms\tremaining: 21.9ms\n",
      "90:\tlearn: 1.0000000\ttest: 1.0000000\tbest: 1.0000000 (0)\ttotal: 58.4ms\tremaining: 21.2ms\n",
      "91:\tlearn: 1.0000000\ttest: 1.0000000\tbest: 1.0000000 (0)\ttotal: 59ms\tremaining: 20.5ms\n",
      "92:\tlearn: 1.0000000\ttest: 1.0000000\tbest: 1.0000000 (0)\ttotal: 59.5ms\tremaining: 19.8ms\n",
      "93:\tlearn: 1.0000000\ttest: 1.0000000\tbest: 1.0000000 (0)\ttotal: 60ms\tremaining: 19.2ms\n",
      "94:\tlearn: 1.0000000\ttest: 1.0000000\tbest: 1.0000000 (0)\ttotal: 60.6ms\tremaining: 18.5ms\n",
      "95:\tlearn: 1.0000000\ttest: 1.0000000\tbest: 1.0000000 (0)\ttotal: 61.1ms\tremaining: 17.8ms\n",
      "96:\tlearn: 1.0000000\ttest: 1.0000000\tbest: 1.0000000 (0)\ttotal: 61.6ms\tremaining: 17.1ms\n",
      "97:\tlearn: 1.0000000\ttest: 1.0000000\tbest: 1.0000000 (0)\ttotal: 62.1ms\tremaining: 16.5ms\n",
      "98:\tlearn: 1.0000000\ttest: 1.0000000\tbest: 1.0000000 (0)\ttotal: 62.7ms\tremaining: 15.8ms\n",
      "99:\tlearn: 1.0000000\ttest: 1.0000000\tbest: 1.0000000 (0)\ttotal: 63.2ms\tremaining: 15.2ms\n",
      "100:\tlearn: 1.0000000\ttest: 1.0000000\tbest: 1.0000000 (0)\ttotal: 63.7ms\tremaining: 14.5ms\n",
      "101:\tlearn: 1.0000000\ttest: 1.0000000\tbest: 1.0000000 (0)\ttotal: 64.3ms\tremaining: 13.9ms\n",
      "102:\tlearn: 1.0000000\ttest: 1.0000000\tbest: 1.0000000 (0)\ttotal: 64.8ms\tremaining: 13.2ms\n",
      "103:\tlearn: 1.0000000\ttest: 1.0000000\tbest: 1.0000000 (0)\ttotal: 65.3ms\tremaining: 12.6ms\n",
      "104:\tlearn: 1.0000000\ttest: 1.0000000\tbest: 1.0000000 (0)\ttotal: 65.8ms\tremaining: 11.9ms\n",
      "105:\tlearn: 1.0000000\ttest: 1.0000000\tbest: 1.0000000 (0)\ttotal: 66.4ms\tremaining: 11.3ms\n",
      "106:\tlearn: 1.0000000\ttest: 1.0000000\tbest: 1.0000000 (0)\ttotal: 66.9ms\tremaining: 10.6ms\n",
      "107:\tlearn: 1.0000000\ttest: 1.0000000\tbest: 1.0000000 (0)\ttotal: 67.5ms\tremaining: 9.99ms\n",
      "108:\tlearn: 1.0000000\ttest: 1.0000000\tbest: 1.0000000 (0)\ttotal: 68ms\tremaining: 9.36ms\n",
      "109:\tlearn: 1.0000000\ttest: 1.0000000\tbest: 1.0000000 (0)\ttotal: 68.5ms\tremaining: 8.72ms\n",
      "110:\tlearn: 1.0000000\ttest: 1.0000000\tbest: 1.0000000 (0)\ttotal: 69.1ms\tremaining: 8.09ms\n",
      "111:\tlearn: 1.0000000\ttest: 1.0000000\tbest: 1.0000000 (0)\ttotal: 69.6ms\tremaining: 7.46ms\n",
      "112:\tlearn: 1.0000000\ttest: 1.0000000\tbest: 1.0000000 (0)\ttotal: 70.1ms\tremaining: 6.83ms\n",
      "113:\tlearn: 1.0000000\ttest: 1.0000000\tbest: 1.0000000 (0)\ttotal: 70.7ms\tremaining: 6.2ms\n",
      "114:\tlearn: 1.0000000\ttest: 1.0000000\tbest: 1.0000000 (0)\ttotal: 71.2ms\tremaining: 5.57ms\n",
      "115:\tlearn: 1.0000000\ttest: 1.0000000\tbest: 1.0000000 (0)\ttotal: 71.7ms\tremaining: 4.95ms\n",
      "116:\tlearn: 1.0000000\ttest: 1.0000000\tbest: 1.0000000 (0)\ttotal: 72.2ms\tremaining: 4.32ms\n",
      "117:\tlearn: 1.0000000\ttest: 1.0000000\tbest: 1.0000000 (0)\ttotal: 72.8ms\tremaining: 3.7ms\n",
      "118:\tlearn: 1.0000000\ttest: 1.0000000\tbest: 1.0000000 (0)\ttotal: 73.3ms\tremaining: 3.08ms\n",
      "119:\tlearn: 1.0000000\ttest: 1.0000000\tbest: 1.0000000 (0)\ttotal: 73.9ms\tremaining: 2.46ms\n",
      "120:\tlearn: 1.0000000\ttest: 1.0000000\tbest: 1.0000000 (0)\ttotal: 74.4ms\tremaining: 1.84ms\n",
      "121:\tlearn: 1.0000000\ttest: 1.0000000\tbest: 1.0000000 (0)\ttotal: 74.9ms\tremaining: 1.23ms\n",
      "122:\tlearn: 1.0000000\ttest: 1.0000000\tbest: 1.0000000 (0)\ttotal: 75.5ms\tremaining: 613us\n",
      "123:\tlearn: 1.0000000\ttest: 1.0000000\tbest: 1.0000000 (0)\ttotal: 76ms\tremaining: 0us\n",
      "\n",
      "bestTest = 1\n",
      "bestIteration = 0\n",
      "\n"
     ]
    }
   ],
   "source": [
    "import joblib\n",
    "from ARISA_DSML.train import train_cv\n",
    "params = joblib.load(best_params_path)\n",
    "display(params)\n",
    "n_folds = 5\n",
    "cv_output_path = train_cv(X_train, y_train, params, n=n_folds)\n"
   ]
  },
  {
   "cell_type": "code",
   "execution_count": 27,
   "metadata": {},
   "outputs": [
    {
     "data": {
      "application/vnd.plotly.v1+json": {
       "config": {
        "plotlyServerURL": "https://plot.ly"
       },
       "data": [
        {
         "line": {
          "color": "blue"
         },
         "mode": "lines",
         "name": "Mean F1 Score",
         "type": "scatter",
         "x": [
          0,
          1,
          2,
          3,
          4,
          5,
          6,
          7,
          8,
          9,
          10,
          11,
          12,
          13,
          14,
          15,
          16,
          17,
          18,
          19,
          20,
          21,
          22,
          23,
          24,
          25,
          26,
          27,
          28,
          29,
          30,
          31,
          32,
          33,
          34,
          35,
          36,
          37,
          38,
          39,
          40,
          41,
          42,
          43,
          44,
          45,
          46,
          47,
          48,
          49,
          50,
          51,
          52,
          53,
          54,
          55,
          56,
          57,
          58,
          59,
          60,
          61,
          62,
          63,
          64,
          65,
          66,
          67,
          68,
          69,
          70,
          71,
          72,
          73,
          74,
          75,
          76,
          77,
          78,
          79,
          80,
          81,
          82,
          83,
          84,
          85,
          86,
          87,
          88,
          89,
          90,
          91,
          92,
          93,
          94,
          95,
          96,
          97,
          98,
          99,
          100,
          101,
          102,
          103,
          104,
          105,
          106,
          107,
          108,
          109,
          110,
          111,
          112,
          113,
          114,
          115,
          116,
          117,
          118,
          119,
          120,
          121,
          122,
          123
         ],
         "y": [
          0.9132467532467532,
          0.9513043478260867,
          1,
          1,
          1,
          1,
          1,
          1,
          1,
          1,
          1,
          1,
          1,
          1,
          1,
          1,
          1,
          1,
          1,
          1,
          1,
          1,
          1,
          1,
          1,
          1,
          1,
          1,
          1,
          1,
          1,
          1,
          1,
          1,
          1,
          1,
          1,
          1,
          1,
          1,
          1,
          1,
          1,
          1,
          1,
          1,
          1,
          1,
          1,
          1,
          1,
          1,
          1,
          1,
          1,
          1,
          1,
          1,
          1,
          1,
          1,
          1,
          1,
          1,
          1,
          1,
          1,
          1,
          1,
          1,
          1,
          1,
          1,
          1,
          1,
          1,
          1,
          1,
          1,
          1,
          1,
          1,
          1,
          1,
          1,
          1,
          1,
          1,
          1,
          1,
          1,
          1,
          1,
          1,
          1,
          1,
          1,
          1,
          1,
          1,
          1,
          1,
          1,
          1,
          1,
          1,
          1,
          1,
          1,
          1,
          1,
          1,
          1,
          1,
          1,
          1,
          1,
          1,
          1,
          1,
          1,
          1,
          1,
          1
         ]
        },
        {
         "fill": "toself",
         "fillcolor": "rgba(0, 0, 255, 0.2)",
         "line": {
          "color": "rgba(255, 255, 255, 0)"
         },
         "showlegend": false,
         "type": "scatter",
         "x": [
          0.9132467532467532,
          0.9513043478260867,
          1,
          1,
          1,
          1,
          1,
          1,
          1,
          1,
          1,
          1,
          1,
          1,
          1,
          1,
          1,
          1,
          1,
          1,
          1,
          1,
          1,
          1,
          1,
          1,
          1,
          1,
          1,
          1,
          1,
          1,
          1,
          1,
          1,
          1,
          1,
          1,
          1,
          1,
          1,
          1,
          1,
          1,
          1,
          1,
          1,
          1,
          1,
          1,
          1,
          1,
          1,
          1,
          1,
          1,
          1,
          1,
          1,
          1,
          1,
          1,
          1,
          1,
          1,
          1,
          1,
          1,
          1,
          1,
          1,
          1,
          1,
          1,
          1,
          1,
          1,
          1,
          1,
          1,
          1,
          1,
          1,
          1,
          1,
          1,
          1,
          1,
          1,
          1,
          1,
          1,
          1,
          1,
          1,
          1,
          1,
          1,
          1,
          1,
          1,
          1,
          1,
          1,
          1,
          1,
          1,
          1,
          1,
          1,
          1,
          1,
          1,
          1,
          1,
          1,
          1,
          1,
          1,
          1,
          1,
          1,
          1,
          1,
          123,
          122,
          121,
          120,
          119,
          118,
          117,
          116,
          115,
          114,
          113,
          112,
          111,
          110,
          109,
          108,
          107,
          106,
          105,
          104,
          103,
          102,
          101,
          100,
          99,
          98,
          97,
          96,
          95,
          94,
          93,
          92,
          91,
          90,
          89,
          88,
          87,
          86,
          85,
          84,
          83,
          82,
          81,
          80,
          79,
          78,
          77,
          76,
          75,
          74,
          73,
          72,
          71,
          70,
          69,
          68,
          67,
          66,
          65,
          64,
          63,
          62,
          61,
          60,
          59,
          58,
          57,
          56,
          55,
          54,
          53,
          52,
          51,
          50,
          49,
          48,
          47,
          46,
          45,
          44,
          43,
          42,
          41,
          40,
          39,
          38,
          37,
          36,
          35,
          34,
          33,
          32,
          31,
          30,
          29,
          28,
          27,
          26,
          25,
          24,
          23,
          22,
          21,
          20,
          19,
          18,
          17,
          16,
          15,
          14,
          13,
          12,
          11,
          10,
          9,
          8,
          7,
          6,
          5,
          4,
          3,
          2,
          1,
          0
         ],
         "y": [
          1.0013404490542213,
          1.0379559872581083,
          1,
          1,
          1,
          1,
          1,
          1,
          1,
          1,
          1,
          1,
          1,
          1,
          1,
          1,
          1,
          1,
          1,
          1,
          1,
          1,
          1,
          1,
          1,
          1,
          1,
          1,
          1,
          1,
          1,
          1,
          1,
          1,
          1,
          1,
          1,
          1,
          1,
          1,
          1,
          1,
          1,
          1,
          1,
          1,
          1,
          1,
          1,
          1,
          1,
          1,
          1,
          1,
          1,
          1,
          1,
          1,
          1,
          1,
          1,
          1,
          1,
          1,
          1,
          1,
          1,
          1,
          1,
          1,
          1,
          1,
          1,
          1,
          1,
          1,
          1,
          1,
          1,
          1,
          1,
          1,
          1,
          1,
          1,
          1,
          1,
          1,
          1,
          1,
          1,
          1,
          1,
          1,
          1,
          1,
          1,
          1,
          1,
          1,
          1,
          1,
          1,
          1,
          1,
          1,
          1,
          1,
          1,
          1,
          1,
          1,
          1,
          1,
          1,
          1,
          1,
          1,
          1,
          1,
          1,
          1,
          1,
          1,
          0.8251530574392852,
          0.8646527083940652,
          1,
          1,
          1,
          1,
          1,
          1,
          1,
          1,
          1,
          1,
          1,
          1,
          1,
          1,
          1,
          1,
          1,
          1,
          1,
          1,
          1,
          1,
          1,
          1,
          1,
          1,
          1,
          1,
          1,
          1,
          1,
          1,
          1,
          1,
          1,
          1,
          1,
          1,
          1,
          1,
          1,
          1,
          1,
          1,
          1,
          1,
          1,
          1,
          1,
          1,
          1,
          1,
          1,
          1,
          1,
          1,
          1,
          1,
          1,
          1,
          1,
          1,
          1,
          1,
          1,
          1,
          1,
          1,
          1,
          1,
          1,
          1,
          1,
          1,
          1,
          1,
          1,
          1,
          1,
          1,
          1,
          1,
          1,
          1,
          1,
          1,
          1,
          1,
          1,
          1,
          1,
          1,
          1,
          1,
          1,
          1,
          1,
          1,
          1,
          1,
          1,
          1,
          1,
          1,
          1,
          1,
          1,
          1,
          1,
          1,
          1,
          1,
          1,
          1,
          1,
          1,
          1,
          1,
          1,
          1,
          1,
          1
         ]
        }
       ],
       "layout": {
        "template": {
         "data": {
          "bar": [
           {
            "error_x": {
             "color": "#2a3f5f"
            },
            "error_y": {
             "color": "#2a3f5f"
            },
            "marker": {
             "line": {
              "color": "white",
              "width": 0.5
             },
             "pattern": {
              "fillmode": "overlay",
              "size": 10,
              "solidity": 0.2
             }
            },
            "type": "bar"
           }
          ],
          "barpolar": [
           {
            "marker": {
             "line": {
              "color": "white",
              "width": 0.5
             },
             "pattern": {
              "fillmode": "overlay",
              "size": 10,
              "solidity": 0.2
             }
            },
            "type": "barpolar"
           }
          ],
          "carpet": [
           {
            "aaxis": {
             "endlinecolor": "#2a3f5f",
             "gridcolor": "#C8D4E3",
             "linecolor": "#C8D4E3",
             "minorgridcolor": "#C8D4E3",
             "startlinecolor": "#2a3f5f"
            },
            "baxis": {
             "endlinecolor": "#2a3f5f",
             "gridcolor": "#C8D4E3",
             "linecolor": "#C8D4E3",
             "minorgridcolor": "#C8D4E3",
             "startlinecolor": "#2a3f5f"
            },
            "type": "carpet"
           }
          ],
          "choropleth": [
           {
            "colorbar": {
             "outlinewidth": 0,
             "ticks": ""
            },
            "type": "choropleth"
           }
          ],
          "contour": [
           {
            "colorbar": {
             "outlinewidth": 0,
             "ticks": ""
            },
            "colorscale": [
             [
              0,
              "#0d0887"
             ],
             [
              0.1111111111111111,
              "#46039f"
             ],
             [
              0.2222222222222222,
              "#7201a8"
             ],
             [
              0.3333333333333333,
              "#9c179e"
             ],
             [
              0.4444444444444444,
              "#bd3786"
             ],
             [
              0.5555555555555556,
              "#d8576b"
             ],
             [
              0.6666666666666666,
              "#ed7953"
             ],
             [
              0.7777777777777778,
              "#fb9f3a"
             ],
             [
              0.8888888888888888,
              "#fdca26"
             ],
             [
              1,
              "#f0f921"
             ]
            ],
            "type": "contour"
           }
          ],
          "contourcarpet": [
           {
            "colorbar": {
             "outlinewidth": 0,
             "ticks": ""
            },
            "type": "contourcarpet"
           }
          ],
          "heatmap": [
           {
            "colorbar": {
             "outlinewidth": 0,
             "ticks": ""
            },
            "colorscale": [
             [
              0,
              "#0d0887"
             ],
             [
              0.1111111111111111,
              "#46039f"
             ],
             [
              0.2222222222222222,
              "#7201a8"
             ],
             [
              0.3333333333333333,
              "#9c179e"
             ],
             [
              0.4444444444444444,
              "#bd3786"
             ],
             [
              0.5555555555555556,
              "#d8576b"
             ],
             [
              0.6666666666666666,
              "#ed7953"
             ],
             [
              0.7777777777777778,
              "#fb9f3a"
             ],
             [
              0.8888888888888888,
              "#fdca26"
             ],
             [
              1,
              "#f0f921"
             ]
            ],
            "type": "heatmap"
           }
          ],
          "heatmapgl": [
           {
            "colorbar": {
             "outlinewidth": 0,
             "ticks": ""
            },
            "colorscale": [
             [
              0,
              "#0d0887"
             ],
             [
              0.1111111111111111,
              "#46039f"
             ],
             [
              0.2222222222222222,
              "#7201a8"
             ],
             [
              0.3333333333333333,
              "#9c179e"
             ],
             [
              0.4444444444444444,
              "#bd3786"
             ],
             [
              0.5555555555555556,
              "#d8576b"
             ],
             [
              0.6666666666666666,
              "#ed7953"
             ],
             [
              0.7777777777777778,
              "#fb9f3a"
             ],
             [
              0.8888888888888888,
              "#fdca26"
             ],
             [
              1,
              "#f0f921"
             ]
            ],
            "type": "heatmapgl"
           }
          ],
          "histogram": [
           {
            "marker": {
             "pattern": {
              "fillmode": "overlay",
              "size": 10,
              "solidity": 0.2
             }
            },
            "type": "histogram"
           }
          ],
          "histogram2d": [
           {
            "colorbar": {
             "outlinewidth": 0,
             "ticks": ""
            },
            "colorscale": [
             [
              0,
              "#0d0887"
             ],
             [
              0.1111111111111111,
              "#46039f"
             ],
             [
              0.2222222222222222,
              "#7201a8"
             ],
             [
              0.3333333333333333,
              "#9c179e"
             ],
             [
              0.4444444444444444,
              "#bd3786"
             ],
             [
              0.5555555555555556,
              "#d8576b"
             ],
             [
              0.6666666666666666,
              "#ed7953"
             ],
             [
              0.7777777777777778,
              "#fb9f3a"
             ],
             [
              0.8888888888888888,
              "#fdca26"
             ],
             [
              1,
              "#f0f921"
             ]
            ],
            "type": "histogram2d"
           }
          ],
          "histogram2dcontour": [
           {
            "colorbar": {
             "outlinewidth": 0,
             "ticks": ""
            },
            "colorscale": [
             [
              0,
              "#0d0887"
             ],
             [
              0.1111111111111111,
              "#46039f"
             ],
             [
              0.2222222222222222,
              "#7201a8"
             ],
             [
              0.3333333333333333,
              "#9c179e"
             ],
             [
              0.4444444444444444,
              "#bd3786"
             ],
             [
              0.5555555555555556,
              "#d8576b"
             ],
             [
              0.6666666666666666,
              "#ed7953"
             ],
             [
              0.7777777777777778,
              "#fb9f3a"
             ],
             [
              0.8888888888888888,
              "#fdca26"
             ],
             [
              1,
              "#f0f921"
             ]
            ],
            "type": "histogram2dcontour"
           }
          ],
          "mesh3d": [
           {
            "colorbar": {
             "outlinewidth": 0,
             "ticks": ""
            },
            "type": "mesh3d"
           }
          ],
          "parcoords": [
           {
            "line": {
             "colorbar": {
              "outlinewidth": 0,
              "ticks": ""
             }
            },
            "type": "parcoords"
           }
          ],
          "pie": [
           {
            "automargin": true,
            "type": "pie"
           }
          ],
          "scatter": [
           {
            "fillpattern": {
             "fillmode": "overlay",
             "size": 10,
             "solidity": 0.2
            },
            "type": "scatter"
           }
          ],
          "scatter3d": [
           {
            "line": {
             "colorbar": {
              "outlinewidth": 0,
              "ticks": ""
             }
            },
            "marker": {
             "colorbar": {
              "outlinewidth": 0,
              "ticks": ""
             }
            },
            "type": "scatter3d"
           }
          ],
          "scattercarpet": [
           {
            "marker": {
             "colorbar": {
              "outlinewidth": 0,
              "ticks": ""
             }
            },
            "type": "scattercarpet"
           }
          ],
          "scattergeo": [
           {
            "marker": {
             "colorbar": {
              "outlinewidth": 0,
              "ticks": ""
             }
            },
            "type": "scattergeo"
           }
          ],
          "scattergl": [
           {
            "marker": {
             "colorbar": {
              "outlinewidth": 0,
              "ticks": ""
             }
            },
            "type": "scattergl"
           }
          ],
          "scattermapbox": [
           {
            "marker": {
             "colorbar": {
              "outlinewidth": 0,
              "ticks": ""
             }
            },
            "type": "scattermapbox"
           }
          ],
          "scatterpolar": [
           {
            "marker": {
             "colorbar": {
              "outlinewidth": 0,
              "ticks": ""
             }
            },
            "type": "scatterpolar"
           }
          ],
          "scatterpolargl": [
           {
            "marker": {
             "colorbar": {
              "outlinewidth": 0,
              "ticks": ""
             }
            },
            "type": "scatterpolargl"
           }
          ],
          "scatterternary": [
           {
            "marker": {
             "colorbar": {
              "outlinewidth": 0,
              "ticks": ""
             }
            },
            "type": "scatterternary"
           }
          ],
          "surface": [
           {
            "colorbar": {
             "outlinewidth": 0,
             "ticks": ""
            },
            "colorscale": [
             [
              0,
              "#0d0887"
             ],
             [
              0.1111111111111111,
              "#46039f"
             ],
             [
              0.2222222222222222,
              "#7201a8"
             ],
             [
              0.3333333333333333,
              "#9c179e"
             ],
             [
              0.4444444444444444,
              "#bd3786"
             ],
             [
              0.5555555555555556,
              "#d8576b"
             ],
             [
              0.6666666666666666,
              "#ed7953"
             ],
             [
              0.7777777777777778,
              "#fb9f3a"
             ],
             [
              0.8888888888888888,
              "#fdca26"
             ],
             [
              1,
              "#f0f921"
             ]
            ],
            "type": "surface"
           }
          ],
          "table": [
           {
            "cells": {
             "fill": {
              "color": "#EBF0F8"
             },
             "line": {
              "color": "white"
             }
            },
            "header": {
             "fill": {
              "color": "#C8D4E3"
             },
             "line": {
              "color": "white"
             }
            },
            "type": "table"
           }
          ]
         },
         "layout": {
          "annotationdefaults": {
           "arrowcolor": "#2a3f5f",
           "arrowhead": 0,
           "arrowwidth": 1
          },
          "autotypenumbers": "strict",
          "coloraxis": {
           "colorbar": {
            "outlinewidth": 0,
            "ticks": ""
           }
          },
          "colorscale": {
           "diverging": [
            [
             0,
             "#8e0152"
            ],
            [
             0.1,
             "#c51b7d"
            ],
            [
             0.2,
             "#de77ae"
            ],
            [
             0.3,
             "#f1b6da"
            ],
            [
             0.4,
             "#fde0ef"
            ],
            [
             0.5,
             "#f7f7f7"
            ],
            [
             0.6,
             "#e6f5d0"
            ],
            [
             0.7,
             "#b8e186"
            ],
            [
             0.8,
             "#7fbc41"
            ],
            [
             0.9,
             "#4d9221"
            ],
            [
             1,
             "#276419"
            ]
           ],
           "sequential": [
            [
             0,
             "#0d0887"
            ],
            [
             0.1111111111111111,
             "#46039f"
            ],
            [
             0.2222222222222222,
             "#7201a8"
            ],
            [
             0.3333333333333333,
             "#9c179e"
            ],
            [
             0.4444444444444444,
             "#bd3786"
            ],
            [
             0.5555555555555556,
             "#d8576b"
            ],
            [
             0.6666666666666666,
             "#ed7953"
            ],
            [
             0.7777777777777778,
             "#fb9f3a"
            ],
            [
             0.8888888888888888,
             "#fdca26"
            ],
            [
             1,
             "#f0f921"
            ]
           ],
           "sequentialminus": [
            [
             0,
             "#0d0887"
            ],
            [
             0.1111111111111111,
             "#46039f"
            ],
            [
             0.2222222222222222,
             "#7201a8"
            ],
            [
             0.3333333333333333,
             "#9c179e"
            ],
            [
             0.4444444444444444,
             "#bd3786"
            ],
            [
             0.5555555555555556,
             "#d8576b"
            ],
            [
             0.6666666666666666,
             "#ed7953"
            ],
            [
             0.7777777777777778,
             "#fb9f3a"
            ],
            [
             0.8888888888888888,
             "#fdca26"
            ],
            [
             1,
             "#f0f921"
            ]
           ]
          },
          "colorway": [
           "#636efa",
           "#EF553B",
           "#00cc96",
           "#ab63fa",
           "#FFA15A",
           "#19d3f3",
           "#FF6692",
           "#B6E880",
           "#FF97FF",
           "#FECB52"
          ],
          "font": {
           "color": "#2a3f5f"
          },
          "geo": {
           "bgcolor": "white",
           "lakecolor": "white",
           "landcolor": "white",
           "showlakes": true,
           "showland": true,
           "subunitcolor": "#C8D4E3"
          },
          "hoverlabel": {
           "align": "left"
          },
          "hovermode": "closest",
          "mapbox": {
           "style": "light"
          },
          "paper_bgcolor": "white",
          "plot_bgcolor": "white",
          "polar": {
           "angularaxis": {
            "gridcolor": "#EBF0F8",
            "linecolor": "#EBF0F8",
            "ticks": ""
           },
           "bgcolor": "white",
           "radialaxis": {
            "gridcolor": "#EBF0F8",
            "linecolor": "#EBF0F8",
            "ticks": ""
           }
          },
          "scene": {
           "xaxis": {
            "backgroundcolor": "white",
            "gridcolor": "#DFE8F3",
            "gridwidth": 2,
            "linecolor": "#EBF0F8",
            "showbackground": true,
            "ticks": "",
            "zerolinecolor": "#EBF0F8"
           },
           "yaxis": {
            "backgroundcolor": "white",
            "gridcolor": "#DFE8F3",
            "gridwidth": 2,
            "linecolor": "#EBF0F8",
            "showbackground": true,
            "ticks": "",
            "zerolinecolor": "#EBF0F8"
           },
           "zaxis": {
            "backgroundcolor": "white",
            "gridcolor": "#DFE8F3",
            "gridwidth": 2,
            "linecolor": "#EBF0F8",
            "showbackground": true,
            "ticks": "",
            "zerolinecolor": "#EBF0F8"
           }
          },
          "shapedefaults": {
           "line": {
            "color": "#2a3f5f"
           }
          },
          "ternary": {
           "aaxis": {
            "gridcolor": "#DFE8F3",
            "linecolor": "#A2B1C6",
            "ticks": ""
           },
           "baxis": {
            "gridcolor": "#DFE8F3",
            "linecolor": "#A2B1C6",
            "ticks": ""
           },
           "bgcolor": "white",
           "caxis": {
            "gridcolor": "#DFE8F3",
            "linecolor": "#A2B1C6",
            "ticks": ""
           }
          },
          "title": {
           "x": 0.05
          },
          "xaxis": {
           "automargin": true,
           "gridcolor": "#EBF0F8",
           "linecolor": "#EBF0F8",
           "ticks": "",
           "title": {
            "standoff": 15
           },
           "zerolinecolor": "#EBF0F8",
           "zerolinewidth": 2
          },
          "yaxis": {
           "automargin": true,
           "gridcolor": "#EBF0F8",
           "linecolor": "#EBF0F8",
           "ticks": "",
           "title": {
            "standoff": 15
           },
           "zerolinecolor": "#EBF0F8",
           "zerolinewidth": 2
          }
         }
        },
        "title": {
         "text": "Cross-Validation (N=5) Mean F1 score with Error Bands"
        },
        "xaxis": {
         "title": {
          "text": "Training Steps"
         }
        },
        "yaxis": {
         "range": [
          0.5,
          1
         ],
         "title": {
          "text": "Performance Score"
         }
        }
       }
      },
      "text/html": [
       "<div>                            <div id=\"6b6088c9-f697-450c-a2ef-9ec99eed6506\" class=\"plotly-graph-div\" style=\"height:525px; width:100%;\"></div>            <script type=\"text/javascript\">                require([\"plotly\"], function(Plotly) {                    window.PLOTLYENV=window.PLOTLYENV || {};                                    if (document.getElementById(\"6b6088c9-f697-450c-a2ef-9ec99eed6506\")) {                    Plotly.newPlot(                        \"6b6088c9-f697-450c-a2ef-9ec99eed6506\",                        [{\"line\":{\"color\":\"blue\"},\"mode\":\"lines\",\"name\":\"Mean F1 Score\",\"x\":[0,1,2,3,4,5,6,7,8,9,10,11,12,13,14,15,16,17,18,19,20,21,22,23,24,25,26,27,28,29,30,31,32,33,34,35,36,37,38,39,40,41,42,43,44,45,46,47,48,49,50,51,52,53,54,55,56,57,58,59,60,61,62,63,64,65,66,67,68,69,70,71,72,73,74,75,76,77,78,79,80,81,82,83,84,85,86,87,88,89,90,91,92,93,94,95,96,97,98,99,100,101,102,103,104,105,106,107,108,109,110,111,112,113,114,115,116,117,118,119,120,121,122,123],\"y\":[0.9132467532467532,0.9513043478260867,1.0,1.0,1.0,1.0,1.0,1.0,1.0,1.0,1.0,1.0,1.0,1.0,1.0,1.0,1.0,1.0,1.0,1.0,1.0,1.0,1.0,1.0,1.0,1.0,1.0,1.0,1.0,1.0,1.0,1.0,1.0,1.0,1.0,1.0,1.0,1.0,1.0,1.0,1.0,1.0,1.0,1.0,1.0,1.0,1.0,1.0,1.0,1.0,1.0,1.0,1.0,1.0,1.0,1.0,1.0,1.0,1.0,1.0,1.0,1.0,1.0,1.0,1.0,1.0,1.0,1.0,1.0,1.0,1.0,1.0,1.0,1.0,1.0,1.0,1.0,1.0,1.0,1.0,1.0,1.0,1.0,1.0,1.0,1.0,1.0,1.0,1.0,1.0,1.0,1.0,1.0,1.0,1.0,1.0,1.0,1.0,1.0,1.0,1.0,1.0,1.0,1.0,1.0,1.0,1.0,1.0,1.0,1.0,1.0,1.0,1.0,1.0,1.0,1.0,1.0,1.0,1.0,1.0,1.0,1.0,1.0,1.0],\"type\":\"scatter\"},{\"fill\":\"toself\",\"fillcolor\":\"rgba(0, 0, 255, 0.2)\",\"line\":{\"color\":\"rgba(255, 255, 255, 0)\"},\"showlegend\":false,\"x\":[0.9132467532467532,0.9513043478260867,1.0,1.0,1.0,1.0,1.0,1.0,1.0,1.0,1.0,1.0,1.0,1.0,1.0,1.0,1.0,1.0,1.0,1.0,1.0,1.0,1.0,1.0,1.0,1.0,1.0,1.0,1.0,1.0,1.0,1.0,1.0,1.0,1.0,1.0,1.0,1.0,1.0,1.0,1.0,1.0,1.0,1.0,1.0,1.0,1.0,1.0,1.0,1.0,1.0,1.0,1.0,1.0,1.0,1.0,1.0,1.0,1.0,1.0,1.0,1.0,1.0,1.0,1.0,1.0,1.0,1.0,1.0,1.0,1.0,1.0,1.0,1.0,1.0,1.0,1.0,1.0,1.0,1.0,1.0,1.0,1.0,1.0,1.0,1.0,1.0,1.0,1.0,1.0,1.0,1.0,1.0,1.0,1.0,1.0,1.0,1.0,1.0,1.0,1.0,1.0,1.0,1.0,1.0,1.0,1.0,1.0,1.0,1.0,1.0,1.0,1.0,1.0,1.0,1.0,1.0,1.0,1.0,1.0,1.0,1.0,1.0,1.0,123.0,122.0,121.0,120.0,119.0,118.0,117.0,116.0,115.0,114.0,113.0,112.0,111.0,110.0,109.0,108.0,107.0,106.0,105.0,104.0,103.0,102.0,101.0,100.0,99.0,98.0,97.0,96.0,95.0,94.0,93.0,92.0,91.0,90.0,89.0,88.0,87.0,86.0,85.0,84.0,83.0,82.0,81.0,80.0,79.0,78.0,77.0,76.0,75.0,74.0,73.0,72.0,71.0,70.0,69.0,68.0,67.0,66.0,65.0,64.0,63.0,62.0,61.0,60.0,59.0,58.0,57.0,56.0,55.0,54.0,53.0,52.0,51.0,50.0,49.0,48.0,47.0,46.0,45.0,44.0,43.0,42.0,41.0,40.0,39.0,38.0,37.0,36.0,35.0,34.0,33.0,32.0,31.0,30.0,29.0,28.0,27.0,26.0,25.0,24.0,23.0,22.0,21.0,20.0,19.0,18.0,17.0,16.0,15.0,14.0,13.0,12.0,11.0,10.0,9.0,8.0,7.0,6.0,5.0,4.0,3.0,2.0,1.0,0.0],\"y\":[1.0013404490542213,1.0379559872581083,1.0,1.0,1.0,1.0,1.0,1.0,1.0,1.0,1.0,1.0,1.0,1.0,1.0,1.0,1.0,1.0,1.0,1.0,1.0,1.0,1.0,1.0,1.0,1.0,1.0,1.0,1.0,1.0,1.0,1.0,1.0,1.0,1.0,1.0,1.0,1.0,1.0,1.0,1.0,1.0,1.0,1.0,1.0,1.0,1.0,1.0,1.0,1.0,1.0,1.0,1.0,1.0,1.0,1.0,1.0,1.0,1.0,1.0,1.0,1.0,1.0,1.0,1.0,1.0,1.0,1.0,1.0,1.0,1.0,1.0,1.0,1.0,1.0,1.0,1.0,1.0,1.0,1.0,1.0,1.0,1.0,1.0,1.0,1.0,1.0,1.0,1.0,1.0,1.0,1.0,1.0,1.0,1.0,1.0,1.0,1.0,1.0,1.0,1.0,1.0,1.0,1.0,1.0,1.0,1.0,1.0,1.0,1.0,1.0,1.0,1.0,1.0,1.0,1.0,1.0,1.0,1.0,1.0,1.0,1.0,1.0,1.0,0.8251530574392852,0.8646527083940652,1.0,1.0,1.0,1.0,1.0,1.0,1.0,1.0,1.0,1.0,1.0,1.0,1.0,1.0,1.0,1.0,1.0,1.0,1.0,1.0,1.0,1.0,1.0,1.0,1.0,1.0,1.0,1.0,1.0,1.0,1.0,1.0,1.0,1.0,1.0,1.0,1.0,1.0,1.0,1.0,1.0,1.0,1.0,1.0,1.0,1.0,1.0,1.0,1.0,1.0,1.0,1.0,1.0,1.0,1.0,1.0,1.0,1.0,1.0,1.0,1.0,1.0,1.0,1.0,1.0,1.0,1.0,1.0,1.0,1.0,1.0,1.0,1.0,1.0,1.0,1.0,1.0,1.0,1.0,1.0,1.0,1.0,1.0,1.0,1.0,1.0,1.0,1.0,1.0,1.0,1.0,1.0,1.0,1.0,1.0,1.0,1.0,1.0,1.0,1.0,1.0,1.0,1.0,1.0,1.0,1.0,1.0,1.0,1.0,1.0,1.0,1.0,1.0,1.0,1.0,1.0,1.0,1.0,1.0,1.0,1.0,1.0],\"type\":\"scatter\"}],                        {\"template\":{\"data\":{\"barpolar\":[{\"marker\":{\"line\":{\"color\":\"white\",\"width\":0.5},\"pattern\":{\"fillmode\":\"overlay\",\"size\":10,\"solidity\":0.2}},\"type\":\"barpolar\"}],\"bar\":[{\"error_x\":{\"color\":\"#2a3f5f\"},\"error_y\":{\"color\":\"#2a3f5f\"},\"marker\":{\"line\":{\"color\":\"white\",\"width\":0.5},\"pattern\":{\"fillmode\":\"overlay\",\"size\":10,\"solidity\":0.2}},\"type\":\"bar\"}],\"carpet\":[{\"aaxis\":{\"endlinecolor\":\"#2a3f5f\",\"gridcolor\":\"#C8D4E3\",\"linecolor\":\"#C8D4E3\",\"minorgridcolor\":\"#C8D4E3\",\"startlinecolor\":\"#2a3f5f\"},\"baxis\":{\"endlinecolor\":\"#2a3f5f\",\"gridcolor\":\"#C8D4E3\",\"linecolor\":\"#C8D4E3\",\"minorgridcolor\":\"#C8D4E3\",\"startlinecolor\":\"#2a3f5f\"},\"type\":\"carpet\"}],\"choropleth\":[{\"colorbar\":{\"outlinewidth\":0,\"ticks\":\"\"},\"type\":\"choropleth\"}],\"contourcarpet\":[{\"colorbar\":{\"outlinewidth\":0,\"ticks\":\"\"},\"type\":\"contourcarpet\"}],\"contour\":[{\"colorbar\":{\"outlinewidth\":0,\"ticks\":\"\"},\"colorscale\":[[0.0,\"#0d0887\"],[0.1111111111111111,\"#46039f\"],[0.2222222222222222,\"#7201a8\"],[0.3333333333333333,\"#9c179e\"],[0.4444444444444444,\"#bd3786\"],[0.5555555555555556,\"#d8576b\"],[0.6666666666666666,\"#ed7953\"],[0.7777777777777778,\"#fb9f3a\"],[0.8888888888888888,\"#fdca26\"],[1.0,\"#f0f921\"]],\"type\":\"contour\"}],\"heatmapgl\":[{\"colorbar\":{\"outlinewidth\":0,\"ticks\":\"\"},\"colorscale\":[[0.0,\"#0d0887\"],[0.1111111111111111,\"#46039f\"],[0.2222222222222222,\"#7201a8\"],[0.3333333333333333,\"#9c179e\"],[0.4444444444444444,\"#bd3786\"],[0.5555555555555556,\"#d8576b\"],[0.6666666666666666,\"#ed7953\"],[0.7777777777777778,\"#fb9f3a\"],[0.8888888888888888,\"#fdca26\"],[1.0,\"#f0f921\"]],\"type\":\"heatmapgl\"}],\"heatmap\":[{\"colorbar\":{\"outlinewidth\":0,\"ticks\":\"\"},\"colorscale\":[[0.0,\"#0d0887\"],[0.1111111111111111,\"#46039f\"],[0.2222222222222222,\"#7201a8\"],[0.3333333333333333,\"#9c179e\"],[0.4444444444444444,\"#bd3786\"],[0.5555555555555556,\"#d8576b\"],[0.6666666666666666,\"#ed7953\"],[0.7777777777777778,\"#fb9f3a\"],[0.8888888888888888,\"#fdca26\"],[1.0,\"#f0f921\"]],\"type\":\"heatmap\"}],\"histogram2dcontour\":[{\"colorbar\":{\"outlinewidth\":0,\"ticks\":\"\"},\"colorscale\":[[0.0,\"#0d0887\"],[0.1111111111111111,\"#46039f\"],[0.2222222222222222,\"#7201a8\"],[0.3333333333333333,\"#9c179e\"],[0.4444444444444444,\"#bd3786\"],[0.5555555555555556,\"#d8576b\"],[0.6666666666666666,\"#ed7953\"],[0.7777777777777778,\"#fb9f3a\"],[0.8888888888888888,\"#fdca26\"],[1.0,\"#f0f921\"]],\"type\":\"histogram2dcontour\"}],\"histogram2d\":[{\"colorbar\":{\"outlinewidth\":0,\"ticks\":\"\"},\"colorscale\":[[0.0,\"#0d0887\"],[0.1111111111111111,\"#46039f\"],[0.2222222222222222,\"#7201a8\"],[0.3333333333333333,\"#9c179e\"],[0.4444444444444444,\"#bd3786\"],[0.5555555555555556,\"#d8576b\"],[0.6666666666666666,\"#ed7953\"],[0.7777777777777778,\"#fb9f3a\"],[0.8888888888888888,\"#fdca26\"],[1.0,\"#f0f921\"]],\"type\":\"histogram2d\"}],\"histogram\":[{\"marker\":{\"pattern\":{\"fillmode\":\"overlay\",\"size\":10,\"solidity\":0.2}},\"type\":\"histogram\"}],\"mesh3d\":[{\"colorbar\":{\"outlinewidth\":0,\"ticks\":\"\"},\"type\":\"mesh3d\"}],\"parcoords\":[{\"line\":{\"colorbar\":{\"outlinewidth\":0,\"ticks\":\"\"}},\"type\":\"parcoords\"}],\"pie\":[{\"automargin\":true,\"type\":\"pie\"}],\"scatter3d\":[{\"line\":{\"colorbar\":{\"outlinewidth\":0,\"ticks\":\"\"}},\"marker\":{\"colorbar\":{\"outlinewidth\":0,\"ticks\":\"\"}},\"type\":\"scatter3d\"}],\"scattercarpet\":[{\"marker\":{\"colorbar\":{\"outlinewidth\":0,\"ticks\":\"\"}},\"type\":\"scattercarpet\"}],\"scattergeo\":[{\"marker\":{\"colorbar\":{\"outlinewidth\":0,\"ticks\":\"\"}},\"type\":\"scattergeo\"}],\"scattergl\":[{\"marker\":{\"colorbar\":{\"outlinewidth\":0,\"ticks\":\"\"}},\"type\":\"scattergl\"}],\"scattermapbox\":[{\"marker\":{\"colorbar\":{\"outlinewidth\":0,\"ticks\":\"\"}},\"type\":\"scattermapbox\"}],\"scatterpolargl\":[{\"marker\":{\"colorbar\":{\"outlinewidth\":0,\"ticks\":\"\"}},\"type\":\"scatterpolargl\"}],\"scatterpolar\":[{\"marker\":{\"colorbar\":{\"outlinewidth\":0,\"ticks\":\"\"}},\"type\":\"scatterpolar\"}],\"scatter\":[{\"fillpattern\":{\"fillmode\":\"overlay\",\"size\":10,\"solidity\":0.2},\"type\":\"scatter\"}],\"scatterternary\":[{\"marker\":{\"colorbar\":{\"outlinewidth\":0,\"ticks\":\"\"}},\"type\":\"scatterternary\"}],\"surface\":[{\"colorbar\":{\"outlinewidth\":0,\"ticks\":\"\"},\"colorscale\":[[0.0,\"#0d0887\"],[0.1111111111111111,\"#46039f\"],[0.2222222222222222,\"#7201a8\"],[0.3333333333333333,\"#9c179e\"],[0.4444444444444444,\"#bd3786\"],[0.5555555555555556,\"#d8576b\"],[0.6666666666666666,\"#ed7953\"],[0.7777777777777778,\"#fb9f3a\"],[0.8888888888888888,\"#fdca26\"],[1.0,\"#f0f921\"]],\"type\":\"surface\"}],\"table\":[{\"cells\":{\"fill\":{\"color\":\"#EBF0F8\"},\"line\":{\"color\":\"white\"}},\"header\":{\"fill\":{\"color\":\"#C8D4E3\"},\"line\":{\"color\":\"white\"}},\"type\":\"table\"}]},\"layout\":{\"annotationdefaults\":{\"arrowcolor\":\"#2a3f5f\",\"arrowhead\":0,\"arrowwidth\":1},\"autotypenumbers\":\"strict\",\"coloraxis\":{\"colorbar\":{\"outlinewidth\":0,\"ticks\":\"\"}},\"colorscale\":{\"diverging\":[[0,\"#8e0152\"],[0.1,\"#c51b7d\"],[0.2,\"#de77ae\"],[0.3,\"#f1b6da\"],[0.4,\"#fde0ef\"],[0.5,\"#f7f7f7\"],[0.6,\"#e6f5d0\"],[0.7,\"#b8e186\"],[0.8,\"#7fbc41\"],[0.9,\"#4d9221\"],[1,\"#276419\"]],\"sequential\":[[0.0,\"#0d0887\"],[0.1111111111111111,\"#46039f\"],[0.2222222222222222,\"#7201a8\"],[0.3333333333333333,\"#9c179e\"],[0.4444444444444444,\"#bd3786\"],[0.5555555555555556,\"#d8576b\"],[0.6666666666666666,\"#ed7953\"],[0.7777777777777778,\"#fb9f3a\"],[0.8888888888888888,\"#fdca26\"],[1.0,\"#f0f921\"]],\"sequentialminus\":[[0.0,\"#0d0887\"],[0.1111111111111111,\"#46039f\"],[0.2222222222222222,\"#7201a8\"],[0.3333333333333333,\"#9c179e\"],[0.4444444444444444,\"#bd3786\"],[0.5555555555555556,\"#d8576b\"],[0.6666666666666666,\"#ed7953\"],[0.7777777777777778,\"#fb9f3a\"],[0.8888888888888888,\"#fdca26\"],[1.0,\"#f0f921\"]]},\"colorway\":[\"#636efa\",\"#EF553B\",\"#00cc96\",\"#ab63fa\",\"#FFA15A\",\"#19d3f3\",\"#FF6692\",\"#B6E880\",\"#FF97FF\",\"#FECB52\"],\"font\":{\"color\":\"#2a3f5f\"},\"geo\":{\"bgcolor\":\"white\",\"lakecolor\":\"white\",\"landcolor\":\"white\",\"showlakes\":true,\"showland\":true,\"subunitcolor\":\"#C8D4E3\"},\"hoverlabel\":{\"align\":\"left\"},\"hovermode\":\"closest\",\"mapbox\":{\"style\":\"light\"},\"paper_bgcolor\":\"white\",\"plot_bgcolor\":\"white\",\"polar\":{\"angularaxis\":{\"gridcolor\":\"#EBF0F8\",\"linecolor\":\"#EBF0F8\",\"ticks\":\"\"},\"bgcolor\":\"white\",\"radialaxis\":{\"gridcolor\":\"#EBF0F8\",\"linecolor\":\"#EBF0F8\",\"ticks\":\"\"}},\"scene\":{\"xaxis\":{\"backgroundcolor\":\"white\",\"gridcolor\":\"#DFE8F3\",\"gridwidth\":2,\"linecolor\":\"#EBF0F8\",\"showbackground\":true,\"ticks\":\"\",\"zerolinecolor\":\"#EBF0F8\"},\"yaxis\":{\"backgroundcolor\":\"white\",\"gridcolor\":\"#DFE8F3\",\"gridwidth\":2,\"linecolor\":\"#EBF0F8\",\"showbackground\":true,\"ticks\":\"\",\"zerolinecolor\":\"#EBF0F8\"},\"zaxis\":{\"backgroundcolor\":\"white\",\"gridcolor\":\"#DFE8F3\",\"gridwidth\":2,\"linecolor\":\"#EBF0F8\",\"showbackground\":true,\"ticks\":\"\",\"zerolinecolor\":\"#EBF0F8\"}},\"shapedefaults\":{\"line\":{\"color\":\"#2a3f5f\"}},\"ternary\":{\"aaxis\":{\"gridcolor\":\"#DFE8F3\",\"linecolor\":\"#A2B1C6\",\"ticks\":\"\"},\"baxis\":{\"gridcolor\":\"#DFE8F3\",\"linecolor\":\"#A2B1C6\",\"ticks\":\"\"},\"bgcolor\":\"white\",\"caxis\":{\"gridcolor\":\"#DFE8F3\",\"linecolor\":\"#A2B1C6\",\"ticks\":\"\"}},\"title\":{\"x\":0.05},\"xaxis\":{\"automargin\":true,\"gridcolor\":\"#EBF0F8\",\"linecolor\":\"#EBF0F8\",\"ticks\":\"\",\"title\":{\"standoff\":15},\"zerolinecolor\":\"#EBF0F8\",\"zerolinewidth\":2},\"yaxis\":{\"automargin\":true,\"gridcolor\":\"#EBF0F8\",\"linecolor\":\"#EBF0F8\",\"ticks\":\"\",\"title\":{\"standoff\":15},\"zerolinecolor\":\"#EBF0F8\",\"zerolinewidth\":2}}},\"title\":{\"text\":\"Cross-Validation (N=5) Mean F1 score with Error Bands\"},\"xaxis\":{\"title\":{\"text\":\"Training Steps\"}},\"yaxis\":{\"title\":{\"text\":\"Performance Score\"},\"range\":[0.5,1]}},                        {\"responsive\": true}                    ).then(function(){\n",
       "                            \n",
       "var gd = document.getElementById('6b6088c9-f697-450c-a2ef-9ec99eed6506');\n",
       "var x = new MutationObserver(function (mutations, observer) {{\n",
       "        var display = window.getComputedStyle(gd).display;\n",
       "        if (!display || display === 'none') {{\n",
       "            console.log([gd, 'removed!']);\n",
       "            Plotly.purge(gd);\n",
       "            observer.disconnect();\n",
       "        }}\n",
       "}});\n",
       "\n",
       "// Listen for the removal of the full notebook cells\n",
       "var notebookContainer = gd.closest('#notebook-container');\n",
       "if (notebookContainer) {{\n",
       "    x.observe(notebookContainer, {childList: true});\n",
       "}}\n",
       "\n",
       "// Listen for the clearing of the current output cell\n",
       "var outputEl = gd.closest('.output');\n",
       "if (outputEl) {{\n",
       "    x.observe(outputEl, {childList: true});\n",
       "}}\n",
       "\n",
       "                        })                };                });            </script>        </div>"
      ]
     },
     "metadata": {},
     "output_type": "display_data"
    },
    {
     "data": {
      "application/vnd.plotly.v1+json": {
       "config": {
        "plotlyServerURL": "https://plot.ly"
       },
       "data": [
        {
         "line": {
          "color": "blue"
         },
         "mode": "lines",
         "name": "Mean F1 Score",
         "type": "scatter",
         "x": [
          0,
          1,
          2,
          3,
          4,
          5,
          6,
          7,
          8,
          9,
          10,
          11,
          12,
          13,
          14,
          15,
          16,
          17,
          18,
          19,
          20,
          21,
          22,
          23,
          24,
          25,
          26,
          27,
          28,
          29,
          30,
          31,
          32,
          33,
          34,
          35,
          36,
          37,
          38,
          39,
          40,
          41,
          42,
          43,
          44,
          45,
          46,
          47,
          48,
          49,
          50,
          51,
          52,
          53,
          54,
          55,
          56,
          57,
          58,
          59,
          60,
          61,
          62,
          63,
          64,
          65,
          66,
          67,
          68,
          69,
          70,
          71,
          72,
          73,
          74,
          75,
          76,
          77,
          78,
          79,
          80,
          81,
          82,
          83,
          84,
          85,
          86,
          87,
          88,
          89,
          90,
          91,
          92,
          93,
          94,
          95,
          96,
          97,
          98,
          99,
          100,
          101,
          102,
          103,
          104,
          105,
          106,
          107,
          108,
          109,
          110,
          111,
          112,
          113,
          114,
          115,
          116,
          117,
          118,
          119,
          120,
          121,
          122,
          123
         ],
         "y": [
          0.9132467532467532,
          0.9513043478260867,
          1,
          1,
          1,
          1,
          1,
          1,
          1,
          1,
          1,
          1,
          1,
          1,
          1,
          1,
          1,
          1,
          1,
          1,
          1,
          1,
          1,
          1,
          1,
          1,
          1,
          1,
          1,
          1,
          1,
          1,
          1,
          1,
          1,
          1,
          1,
          1,
          1,
          1,
          1,
          1,
          1,
          1,
          1,
          1,
          1,
          1,
          1,
          1,
          1,
          1,
          1,
          1,
          1,
          1,
          1,
          1,
          1,
          1,
          1,
          1,
          1,
          1,
          1,
          1,
          1,
          1,
          1,
          1,
          1,
          1,
          1,
          1,
          1,
          1,
          1,
          1,
          1,
          1,
          1,
          1,
          1,
          1,
          1,
          1,
          1,
          1,
          1,
          1,
          1,
          1,
          1,
          1,
          1,
          1,
          1,
          1,
          1,
          1,
          1,
          1,
          1,
          1,
          1,
          1,
          1,
          1,
          1,
          1,
          1,
          1,
          1,
          1,
          1,
          1,
          1,
          1,
          1,
          1,
          1,
          1,
          1,
          1
         ]
        },
        {
         "fill": "toself",
         "fillcolor": "rgba(0, 0, 255, 0.2)",
         "line": {
          "color": "rgba(255, 255, 255, 0)"
         },
         "showlegend": false,
         "type": "scatter",
         "x": [
          0.9132467532467532,
          0.9513043478260867,
          1,
          1,
          1,
          1,
          1,
          1,
          1,
          1,
          1,
          1,
          1,
          1,
          1,
          1,
          1,
          1,
          1,
          1,
          1,
          1,
          1,
          1,
          1,
          1,
          1,
          1,
          1,
          1,
          1,
          1,
          1,
          1,
          1,
          1,
          1,
          1,
          1,
          1,
          1,
          1,
          1,
          1,
          1,
          1,
          1,
          1,
          1,
          1,
          1,
          1,
          1,
          1,
          1,
          1,
          1,
          1,
          1,
          1,
          1,
          1,
          1,
          1,
          1,
          1,
          1,
          1,
          1,
          1,
          1,
          1,
          1,
          1,
          1,
          1,
          1,
          1,
          1,
          1,
          1,
          1,
          1,
          1,
          1,
          1,
          1,
          1,
          1,
          1,
          1,
          1,
          1,
          1,
          1,
          1,
          1,
          1,
          1,
          1,
          1,
          1,
          1,
          1,
          1,
          1,
          1,
          1,
          1,
          1,
          1,
          1,
          1,
          1,
          1,
          1,
          1,
          1,
          1,
          1,
          1,
          1,
          1,
          1,
          123,
          122,
          121,
          120,
          119,
          118,
          117,
          116,
          115,
          114,
          113,
          112,
          111,
          110,
          109,
          108,
          107,
          106,
          105,
          104,
          103,
          102,
          101,
          100,
          99,
          98,
          97,
          96,
          95,
          94,
          93,
          92,
          91,
          90,
          89,
          88,
          87,
          86,
          85,
          84,
          83,
          82,
          81,
          80,
          79,
          78,
          77,
          76,
          75,
          74,
          73,
          72,
          71,
          70,
          69,
          68,
          67,
          66,
          65,
          64,
          63,
          62,
          61,
          60,
          59,
          58,
          57,
          56,
          55,
          54,
          53,
          52,
          51,
          50,
          49,
          48,
          47,
          46,
          45,
          44,
          43,
          42,
          41,
          40,
          39,
          38,
          37,
          36,
          35,
          34,
          33,
          32,
          31,
          30,
          29,
          28,
          27,
          26,
          25,
          24,
          23,
          22,
          21,
          20,
          19,
          18,
          17,
          16,
          15,
          14,
          13,
          12,
          11,
          10,
          9,
          8,
          7,
          6,
          5,
          4,
          3,
          2,
          1,
          0
         ],
         "y": [
          1.0013404490542213,
          1.0379559872581083,
          1,
          1,
          1,
          1,
          1,
          1,
          1,
          1,
          1,
          1,
          1,
          1,
          1,
          1,
          1,
          1,
          1,
          1,
          1,
          1,
          1,
          1,
          1,
          1,
          1,
          1,
          1,
          1,
          1,
          1,
          1,
          1,
          1,
          1,
          1,
          1,
          1,
          1,
          1,
          1,
          1,
          1,
          1,
          1,
          1,
          1,
          1,
          1,
          1,
          1,
          1,
          1,
          1,
          1,
          1,
          1,
          1,
          1,
          1,
          1,
          1,
          1,
          1,
          1,
          1,
          1,
          1,
          1,
          1,
          1,
          1,
          1,
          1,
          1,
          1,
          1,
          1,
          1,
          1,
          1,
          1,
          1,
          1,
          1,
          1,
          1,
          1,
          1,
          1,
          1,
          1,
          1,
          1,
          1,
          1,
          1,
          1,
          1,
          1,
          1,
          1,
          1,
          1,
          1,
          1,
          1,
          1,
          1,
          1,
          1,
          1,
          1,
          1,
          1,
          1,
          1,
          1,
          1,
          1,
          1,
          1,
          1,
          0.8251530574392852,
          0.8646527083940652,
          1,
          1,
          1,
          1,
          1,
          1,
          1,
          1,
          1,
          1,
          1,
          1,
          1,
          1,
          1,
          1,
          1,
          1,
          1,
          1,
          1,
          1,
          1,
          1,
          1,
          1,
          1,
          1,
          1,
          1,
          1,
          1,
          1,
          1,
          1,
          1,
          1,
          1,
          1,
          1,
          1,
          1,
          1,
          1,
          1,
          1,
          1,
          1,
          1,
          1,
          1,
          1,
          1,
          1,
          1,
          1,
          1,
          1,
          1,
          1,
          1,
          1,
          1,
          1,
          1,
          1,
          1,
          1,
          1,
          1,
          1,
          1,
          1,
          1,
          1,
          1,
          1,
          1,
          1,
          1,
          1,
          1,
          1,
          1,
          1,
          1,
          1,
          1,
          1,
          1,
          1,
          1,
          1,
          1,
          1,
          1,
          1,
          1,
          1,
          1,
          1,
          1,
          1,
          1,
          1,
          1,
          1,
          1,
          1,
          1,
          1,
          1,
          1,
          1,
          1,
          1,
          1,
          1,
          1,
          1,
          1,
          1
         ]
        }
       ],
       "layout": {
        "template": {
         "data": {
          "bar": [
           {
            "error_x": {
             "color": "#2a3f5f"
            },
            "error_y": {
             "color": "#2a3f5f"
            },
            "marker": {
             "line": {
              "color": "white",
              "width": 0.5
             },
             "pattern": {
              "fillmode": "overlay",
              "size": 10,
              "solidity": 0.2
             }
            },
            "type": "bar"
           }
          ],
          "barpolar": [
           {
            "marker": {
             "line": {
              "color": "white",
              "width": 0.5
             },
             "pattern": {
              "fillmode": "overlay",
              "size": 10,
              "solidity": 0.2
             }
            },
            "type": "barpolar"
           }
          ],
          "carpet": [
           {
            "aaxis": {
             "endlinecolor": "#2a3f5f",
             "gridcolor": "#C8D4E3",
             "linecolor": "#C8D4E3",
             "minorgridcolor": "#C8D4E3",
             "startlinecolor": "#2a3f5f"
            },
            "baxis": {
             "endlinecolor": "#2a3f5f",
             "gridcolor": "#C8D4E3",
             "linecolor": "#C8D4E3",
             "minorgridcolor": "#C8D4E3",
             "startlinecolor": "#2a3f5f"
            },
            "type": "carpet"
           }
          ],
          "choropleth": [
           {
            "colorbar": {
             "outlinewidth": 0,
             "ticks": ""
            },
            "type": "choropleth"
           }
          ],
          "contour": [
           {
            "colorbar": {
             "outlinewidth": 0,
             "ticks": ""
            },
            "colorscale": [
             [
              0,
              "#0d0887"
             ],
             [
              0.1111111111111111,
              "#46039f"
             ],
             [
              0.2222222222222222,
              "#7201a8"
             ],
             [
              0.3333333333333333,
              "#9c179e"
             ],
             [
              0.4444444444444444,
              "#bd3786"
             ],
             [
              0.5555555555555556,
              "#d8576b"
             ],
             [
              0.6666666666666666,
              "#ed7953"
             ],
             [
              0.7777777777777778,
              "#fb9f3a"
             ],
             [
              0.8888888888888888,
              "#fdca26"
             ],
             [
              1,
              "#f0f921"
             ]
            ],
            "type": "contour"
           }
          ],
          "contourcarpet": [
           {
            "colorbar": {
             "outlinewidth": 0,
             "ticks": ""
            },
            "type": "contourcarpet"
           }
          ],
          "heatmap": [
           {
            "colorbar": {
             "outlinewidth": 0,
             "ticks": ""
            },
            "colorscale": [
             [
              0,
              "#0d0887"
             ],
             [
              0.1111111111111111,
              "#46039f"
             ],
             [
              0.2222222222222222,
              "#7201a8"
             ],
             [
              0.3333333333333333,
              "#9c179e"
             ],
             [
              0.4444444444444444,
              "#bd3786"
             ],
             [
              0.5555555555555556,
              "#d8576b"
             ],
             [
              0.6666666666666666,
              "#ed7953"
             ],
             [
              0.7777777777777778,
              "#fb9f3a"
             ],
             [
              0.8888888888888888,
              "#fdca26"
             ],
             [
              1,
              "#f0f921"
             ]
            ],
            "type": "heatmap"
           }
          ],
          "heatmapgl": [
           {
            "colorbar": {
             "outlinewidth": 0,
             "ticks": ""
            },
            "colorscale": [
             [
              0,
              "#0d0887"
             ],
             [
              0.1111111111111111,
              "#46039f"
             ],
             [
              0.2222222222222222,
              "#7201a8"
             ],
             [
              0.3333333333333333,
              "#9c179e"
             ],
             [
              0.4444444444444444,
              "#bd3786"
             ],
             [
              0.5555555555555556,
              "#d8576b"
             ],
             [
              0.6666666666666666,
              "#ed7953"
             ],
             [
              0.7777777777777778,
              "#fb9f3a"
             ],
             [
              0.8888888888888888,
              "#fdca26"
             ],
             [
              1,
              "#f0f921"
             ]
            ],
            "type": "heatmapgl"
           }
          ],
          "histogram": [
           {
            "marker": {
             "pattern": {
              "fillmode": "overlay",
              "size": 10,
              "solidity": 0.2
             }
            },
            "type": "histogram"
           }
          ],
          "histogram2d": [
           {
            "colorbar": {
             "outlinewidth": 0,
             "ticks": ""
            },
            "colorscale": [
             [
              0,
              "#0d0887"
             ],
             [
              0.1111111111111111,
              "#46039f"
             ],
             [
              0.2222222222222222,
              "#7201a8"
             ],
             [
              0.3333333333333333,
              "#9c179e"
             ],
             [
              0.4444444444444444,
              "#bd3786"
             ],
             [
              0.5555555555555556,
              "#d8576b"
             ],
             [
              0.6666666666666666,
              "#ed7953"
             ],
             [
              0.7777777777777778,
              "#fb9f3a"
             ],
             [
              0.8888888888888888,
              "#fdca26"
             ],
             [
              1,
              "#f0f921"
             ]
            ],
            "type": "histogram2d"
           }
          ],
          "histogram2dcontour": [
           {
            "colorbar": {
             "outlinewidth": 0,
             "ticks": ""
            },
            "colorscale": [
             [
              0,
              "#0d0887"
             ],
             [
              0.1111111111111111,
              "#46039f"
             ],
             [
              0.2222222222222222,
              "#7201a8"
             ],
             [
              0.3333333333333333,
              "#9c179e"
             ],
             [
              0.4444444444444444,
              "#bd3786"
             ],
             [
              0.5555555555555556,
              "#d8576b"
             ],
             [
              0.6666666666666666,
              "#ed7953"
             ],
             [
              0.7777777777777778,
              "#fb9f3a"
             ],
             [
              0.8888888888888888,
              "#fdca26"
             ],
             [
              1,
              "#f0f921"
             ]
            ],
            "type": "histogram2dcontour"
           }
          ],
          "mesh3d": [
           {
            "colorbar": {
             "outlinewidth": 0,
             "ticks": ""
            },
            "type": "mesh3d"
           }
          ],
          "parcoords": [
           {
            "line": {
             "colorbar": {
              "outlinewidth": 0,
              "ticks": ""
             }
            },
            "type": "parcoords"
           }
          ],
          "pie": [
           {
            "automargin": true,
            "type": "pie"
           }
          ],
          "scatter": [
           {
            "fillpattern": {
             "fillmode": "overlay",
             "size": 10,
             "solidity": 0.2
            },
            "type": "scatter"
           }
          ],
          "scatter3d": [
           {
            "line": {
             "colorbar": {
              "outlinewidth": 0,
              "ticks": ""
             }
            },
            "marker": {
             "colorbar": {
              "outlinewidth": 0,
              "ticks": ""
             }
            },
            "type": "scatter3d"
           }
          ],
          "scattercarpet": [
           {
            "marker": {
             "colorbar": {
              "outlinewidth": 0,
              "ticks": ""
             }
            },
            "type": "scattercarpet"
           }
          ],
          "scattergeo": [
           {
            "marker": {
             "colorbar": {
              "outlinewidth": 0,
              "ticks": ""
             }
            },
            "type": "scattergeo"
           }
          ],
          "scattergl": [
           {
            "marker": {
             "colorbar": {
              "outlinewidth": 0,
              "ticks": ""
             }
            },
            "type": "scattergl"
           }
          ],
          "scattermapbox": [
           {
            "marker": {
             "colorbar": {
              "outlinewidth": 0,
              "ticks": ""
             }
            },
            "type": "scattermapbox"
           }
          ],
          "scatterpolar": [
           {
            "marker": {
             "colorbar": {
              "outlinewidth": 0,
              "ticks": ""
             }
            },
            "type": "scatterpolar"
           }
          ],
          "scatterpolargl": [
           {
            "marker": {
             "colorbar": {
              "outlinewidth": 0,
              "ticks": ""
             }
            },
            "type": "scatterpolargl"
           }
          ],
          "scatterternary": [
           {
            "marker": {
             "colorbar": {
              "outlinewidth": 0,
              "ticks": ""
             }
            },
            "type": "scatterternary"
           }
          ],
          "surface": [
           {
            "colorbar": {
             "outlinewidth": 0,
             "ticks": ""
            },
            "colorscale": [
             [
              0,
              "#0d0887"
             ],
             [
              0.1111111111111111,
              "#46039f"
             ],
             [
              0.2222222222222222,
              "#7201a8"
             ],
             [
              0.3333333333333333,
              "#9c179e"
             ],
             [
              0.4444444444444444,
              "#bd3786"
             ],
             [
              0.5555555555555556,
              "#d8576b"
             ],
             [
              0.6666666666666666,
              "#ed7953"
             ],
             [
              0.7777777777777778,
              "#fb9f3a"
             ],
             [
              0.8888888888888888,
              "#fdca26"
             ],
             [
              1,
              "#f0f921"
             ]
            ],
            "type": "surface"
           }
          ],
          "table": [
           {
            "cells": {
             "fill": {
              "color": "#EBF0F8"
             },
             "line": {
              "color": "white"
             }
            },
            "header": {
             "fill": {
              "color": "#C8D4E3"
             },
             "line": {
              "color": "white"
             }
            },
            "type": "table"
           }
          ]
         },
         "layout": {
          "annotationdefaults": {
           "arrowcolor": "#2a3f5f",
           "arrowhead": 0,
           "arrowwidth": 1
          },
          "autotypenumbers": "strict",
          "coloraxis": {
           "colorbar": {
            "outlinewidth": 0,
            "ticks": ""
           }
          },
          "colorscale": {
           "diverging": [
            [
             0,
             "#8e0152"
            ],
            [
             0.1,
             "#c51b7d"
            ],
            [
             0.2,
             "#de77ae"
            ],
            [
             0.3,
             "#f1b6da"
            ],
            [
             0.4,
             "#fde0ef"
            ],
            [
             0.5,
             "#f7f7f7"
            ],
            [
             0.6,
             "#e6f5d0"
            ],
            [
             0.7,
             "#b8e186"
            ],
            [
             0.8,
             "#7fbc41"
            ],
            [
             0.9,
             "#4d9221"
            ],
            [
             1,
             "#276419"
            ]
           ],
           "sequential": [
            [
             0,
             "#0d0887"
            ],
            [
             0.1111111111111111,
             "#46039f"
            ],
            [
             0.2222222222222222,
             "#7201a8"
            ],
            [
             0.3333333333333333,
             "#9c179e"
            ],
            [
             0.4444444444444444,
             "#bd3786"
            ],
            [
             0.5555555555555556,
             "#d8576b"
            ],
            [
             0.6666666666666666,
             "#ed7953"
            ],
            [
             0.7777777777777778,
             "#fb9f3a"
            ],
            [
             0.8888888888888888,
             "#fdca26"
            ],
            [
             1,
             "#f0f921"
            ]
           ],
           "sequentialminus": [
            [
             0,
             "#0d0887"
            ],
            [
             0.1111111111111111,
             "#46039f"
            ],
            [
             0.2222222222222222,
             "#7201a8"
            ],
            [
             0.3333333333333333,
             "#9c179e"
            ],
            [
             0.4444444444444444,
             "#bd3786"
            ],
            [
             0.5555555555555556,
             "#d8576b"
            ],
            [
             0.6666666666666666,
             "#ed7953"
            ],
            [
             0.7777777777777778,
             "#fb9f3a"
            ],
            [
             0.8888888888888888,
             "#fdca26"
            ],
            [
             1,
             "#f0f921"
            ]
           ]
          },
          "colorway": [
           "#636efa",
           "#EF553B",
           "#00cc96",
           "#ab63fa",
           "#FFA15A",
           "#19d3f3",
           "#FF6692",
           "#B6E880",
           "#FF97FF",
           "#FECB52"
          ],
          "font": {
           "color": "#2a3f5f"
          },
          "geo": {
           "bgcolor": "white",
           "lakecolor": "white",
           "landcolor": "white",
           "showlakes": true,
           "showland": true,
           "subunitcolor": "#C8D4E3"
          },
          "hoverlabel": {
           "align": "left"
          },
          "hovermode": "closest",
          "mapbox": {
           "style": "light"
          },
          "paper_bgcolor": "white",
          "plot_bgcolor": "white",
          "polar": {
           "angularaxis": {
            "gridcolor": "#EBF0F8",
            "linecolor": "#EBF0F8",
            "ticks": ""
           },
           "bgcolor": "white",
           "radialaxis": {
            "gridcolor": "#EBF0F8",
            "linecolor": "#EBF0F8",
            "ticks": ""
           }
          },
          "scene": {
           "xaxis": {
            "backgroundcolor": "white",
            "gridcolor": "#DFE8F3",
            "gridwidth": 2,
            "linecolor": "#EBF0F8",
            "showbackground": true,
            "ticks": "",
            "zerolinecolor": "#EBF0F8"
           },
           "yaxis": {
            "backgroundcolor": "white",
            "gridcolor": "#DFE8F3",
            "gridwidth": 2,
            "linecolor": "#EBF0F8",
            "showbackground": true,
            "ticks": "",
            "zerolinecolor": "#EBF0F8"
           },
           "zaxis": {
            "backgroundcolor": "white",
            "gridcolor": "#DFE8F3",
            "gridwidth": 2,
            "linecolor": "#EBF0F8",
            "showbackground": true,
            "ticks": "",
            "zerolinecolor": "#EBF0F8"
           }
          },
          "shapedefaults": {
           "line": {
            "color": "#2a3f5f"
           }
          },
          "ternary": {
           "aaxis": {
            "gridcolor": "#DFE8F3",
            "linecolor": "#A2B1C6",
            "ticks": ""
           },
           "baxis": {
            "gridcolor": "#DFE8F3",
            "linecolor": "#A2B1C6",
            "ticks": ""
           },
           "bgcolor": "white",
           "caxis": {
            "gridcolor": "#DFE8F3",
            "linecolor": "#A2B1C6",
            "ticks": ""
           }
          },
          "title": {
           "x": 0.05
          },
          "xaxis": {
           "automargin": true,
           "gridcolor": "#EBF0F8",
           "linecolor": "#EBF0F8",
           "ticks": "",
           "title": {
            "standoff": 15
           },
           "zerolinecolor": "#EBF0F8",
           "zerolinewidth": 2
          },
          "yaxis": {
           "automargin": true,
           "gridcolor": "#EBF0F8",
           "linecolor": "#EBF0F8",
           "ticks": "",
           "title": {
            "standoff": 15
           },
           "zerolinecolor": "#EBF0F8",
           "zerolinewidth": 2
          }
         }
        },
        "title": {
         "text": "Cross-Validation (N=5) Mean F1 score with Error Bands"
        },
        "xaxis": {
         "title": {
          "text": "Training Steps"
         }
        },
        "yaxis": {
         "range": [
          0.5,
          1
         ],
         "title": {
          "text": "Performance Score"
         }
        }
       }
      },
      "text/html": [
       "<div>                            <div id=\"8eb2c7e6-004f-4b04-b78e-9537862fdae9\" class=\"plotly-graph-div\" style=\"height:525px; width:100%;\"></div>            <script type=\"text/javascript\">                require([\"plotly\"], function(Plotly) {                    window.PLOTLYENV=window.PLOTLYENV || {};                                    if (document.getElementById(\"8eb2c7e6-004f-4b04-b78e-9537862fdae9\")) {                    Plotly.newPlot(                        \"8eb2c7e6-004f-4b04-b78e-9537862fdae9\",                        [{\"line\":{\"color\":\"blue\"},\"mode\":\"lines\",\"name\":\"Mean F1 Score\",\"x\":[0,1,2,3,4,5,6,7,8,9,10,11,12,13,14,15,16,17,18,19,20,21,22,23,24,25,26,27,28,29,30,31,32,33,34,35,36,37,38,39,40,41,42,43,44,45,46,47,48,49,50,51,52,53,54,55,56,57,58,59,60,61,62,63,64,65,66,67,68,69,70,71,72,73,74,75,76,77,78,79,80,81,82,83,84,85,86,87,88,89,90,91,92,93,94,95,96,97,98,99,100,101,102,103,104,105,106,107,108,109,110,111,112,113,114,115,116,117,118,119,120,121,122,123],\"y\":[0.9132467532467532,0.9513043478260867,1.0,1.0,1.0,1.0,1.0,1.0,1.0,1.0,1.0,1.0,1.0,1.0,1.0,1.0,1.0,1.0,1.0,1.0,1.0,1.0,1.0,1.0,1.0,1.0,1.0,1.0,1.0,1.0,1.0,1.0,1.0,1.0,1.0,1.0,1.0,1.0,1.0,1.0,1.0,1.0,1.0,1.0,1.0,1.0,1.0,1.0,1.0,1.0,1.0,1.0,1.0,1.0,1.0,1.0,1.0,1.0,1.0,1.0,1.0,1.0,1.0,1.0,1.0,1.0,1.0,1.0,1.0,1.0,1.0,1.0,1.0,1.0,1.0,1.0,1.0,1.0,1.0,1.0,1.0,1.0,1.0,1.0,1.0,1.0,1.0,1.0,1.0,1.0,1.0,1.0,1.0,1.0,1.0,1.0,1.0,1.0,1.0,1.0,1.0,1.0,1.0,1.0,1.0,1.0,1.0,1.0,1.0,1.0,1.0,1.0,1.0,1.0,1.0,1.0,1.0,1.0,1.0,1.0,1.0,1.0,1.0,1.0],\"type\":\"scatter\"},{\"fill\":\"toself\",\"fillcolor\":\"rgba(0, 0, 255, 0.2)\",\"line\":{\"color\":\"rgba(255, 255, 255, 0)\"},\"showlegend\":false,\"x\":[0.9132467532467532,0.9513043478260867,1.0,1.0,1.0,1.0,1.0,1.0,1.0,1.0,1.0,1.0,1.0,1.0,1.0,1.0,1.0,1.0,1.0,1.0,1.0,1.0,1.0,1.0,1.0,1.0,1.0,1.0,1.0,1.0,1.0,1.0,1.0,1.0,1.0,1.0,1.0,1.0,1.0,1.0,1.0,1.0,1.0,1.0,1.0,1.0,1.0,1.0,1.0,1.0,1.0,1.0,1.0,1.0,1.0,1.0,1.0,1.0,1.0,1.0,1.0,1.0,1.0,1.0,1.0,1.0,1.0,1.0,1.0,1.0,1.0,1.0,1.0,1.0,1.0,1.0,1.0,1.0,1.0,1.0,1.0,1.0,1.0,1.0,1.0,1.0,1.0,1.0,1.0,1.0,1.0,1.0,1.0,1.0,1.0,1.0,1.0,1.0,1.0,1.0,1.0,1.0,1.0,1.0,1.0,1.0,1.0,1.0,1.0,1.0,1.0,1.0,1.0,1.0,1.0,1.0,1.0,1.0,1.0,1.0,1.0,1.0,1.0,1.0,123.0,122.0,121.0,120.0,119.0,118.0,117.0,116.0,115.0,114.0,113.0,112.0,111.0,110.0,109.0,108.0,107.0,106.0,105.0,104.0,103.0,102.0,101.0,100.0,99.0,98.0,97.0,96.0,95.0,94.0,93.0,92.0,91.0,90.0,89.0,88.0,87.0,86.0,85.0,84.0,83.0,82.0,81.0,80.0,79.0,78.0,77.0,76.0,75.0,74.0,73.0,72.0,71.0,70.0,69.0,68.0,67.0,66.0,65.0,64.0,63.0,62.0,61.0,60.0,59.0,58.0,57.0,56.0,55.0,54.0,53.0,52.0,51.0,50.0,49.0,48.0,47.0,46.0,45.0,44.0,43.0,42.0,41.0,40.0,39.0,38.0,37.0,36.0,35.0,34.0,33.0,32.0,31.0,30.0,29.0,28.0,27.0,26.0,25.0,24.0,23.0,22.0,21.0,20.0,19.0,18.0,17.0,16.0,15.0,14.0,13.0,12.0,11.0,10.0,9.0,8.0,7.0,6.0,5.0,4.0,3.0,2.0,1.0,0.0],\"y\":[1.0013404490542213,1.0379559872581083,1.0,1.0,1.0,1.0,1.0,1.0,1.0,1.0,1.0,1.0,1.0,1.0,1.0,1.0,1.0,1.0,1.0,1.0,1.0,1.0,1.0,1.0,1.0,1.0,1.0,1.0,1.0,1.0,1.0,1.0,1.0,1.0,1.0,1.0,1.0,1.0,1.0,1.0,1.0,1.0,1.0,1.0,1.0,1.0,1.0,1.0,1.0,1.0,1.0,1.0,1.0,1.0,1.0,1.0,1.0,1.0,1.0,1.0,1.0,1.0,1.0,1.0,1.0,1.0,1.0,1.0,1.0,1.0,1.0,1.0,1.0,1.0,1.0,1.0,1.0,1.0,1.0,1.0,1.0,1.0,1.0,1.0,1.0,1.0,1.0,1.0,1.0,1.0,1.0,1.0,1.0,1.0,1.0,1.0,1.0,1.0,1.0,1.0,1.0,1.0,1.0,1.0,1.0,1.0,1.0,1.0,1.0,1.0,1.0,1.0,1.0,1.0,1.0,1.0,1.0,1.0,1.0,1.0,1.0,1.0,1.0,1.0,0.8251530574392852,0.8646527083940652,1.0,1.0,1.0,1.0,1.0,1.0,1.0,1.0,1.0,1.0,1.0,1.0,1.0,1.0,1.0,1.0,1.0,1.0,1.0,1.0,1.0,1.0,1.0,1.0,1.0,1.0,1.0,1.0,1.0,1.0,1.0,1.0,1.0,1.0,1.0,1.0,1.0,1.0,1.0,1.0,1.0,1.0,1.0,1.0,1.0,1.0,1.0,1.0,1.0,1.0,1.0,1.0,1.0,1.0,1.0,1.0,1.0,1.0,1.0,1.0,1.0,1.0,1.0,1.0,1.0,1.0,1.0,1.0,1.0,1.0,1.0,1.0,1.0,1.0,1.0,1.0,1.0,1.0,1.0,1.0,1.0,1.0,1.0,1.0,1.0,1.0,1.0,1.0,1.0,1.0,1.0,1.0,1.0,1.0,1.0,1.0,1.0,1.0,1.0,1.0,1.0,1.0,1.0,1.0,1.0,1.0,1.0,1.0,1.0,1.0,1.0,1.0,1.0,1.0,1.0,1.0,1.0,1.0,1.0,1.0,1.0,1.0],\"type\":\"scatter\"}],                        {\"template\":{\"data\":{\"barpolar\":[{\"marker\":{\"line\":{\"color\":\"white\",\"width\":0.5},\"pattern\":{\"fillmode\":\"overlay\",\"size\":10,\"solidity\":0.2}},\"type\":\"barpolar\"}],\"bar\":[{\"error_x\":{\"color\":\"#2a3f5f\"},\"error_y\":{\"color\":\"#2a3f5f\"},\"marker\":{\"line\":{\"color\":\"white\",\"width\":0.5},\"pattern\":{\"fillmode\":\"overlay\",\"size\":10,\"solidity\":0.2}},\"type\":\"bar\"}],\"carpet\":[{\"aaxis\":{\"endlinecolor\":\"#2a3f5f\",\"gridcolor\":\"#C8D4E3\",\"linecolor\":\"#C8D4E3\",\"minorgridcolor\":\"#C8D4E3\",\"startlinecolor\":\"#2a3f5f\"},\"baxis\":{\"endlinecolor\":\"#2a3f5f\",\"gridcolor\":\"#C8D4E3\",\"linecolor\":\"#C8D4E3\",\"minorgridcolor\":\"#C8D4E3\",\"startlinecolor\":\"#2a3f5f\"},\"type\":\"carpet\"}],\"choropleth\":[{\"colorbar\":{\"outlinewidth\":0,\"ticks\":\"\"},\"type\":\"choropleth\"}],\"contourcarpet\":[{\"colorbar\":{\"outlinewidth\":0,\"ticks\":\"\"},\"type\":\"contourcarpet\"}],\"contour\":[{\"colorbar\":{\"outlinewidth\":0,\"ticks\":\"\"},\"colorscale\":[[0.0,\"#0d0887\"],[0.1111111111111111,\"#46039f\"],[0.2222222222222222,\"#7201a8\"],[0.3333333333333333,\"#9c179e\"],[0.4444444444444444,\"#bd3786\"],[0.5555555555555556,\"#d8576b\"],[0.6666666666666666,\"#ed7953\"],[0.7777777777777778,\"#fb9f3a\"],[0.8888888888888888,\"#fdca26\"],[1.0,\"#f0f921\"]],\"type\":\"contour\"}],\"heatmapgl\":[{\"colorbar\":{\"outlinewidth\":0,\"ticks\":\"\"},\"colorscale\":[[0.0,\"#0d0887\"],[0.1111111111111111,\"#46039f\"],[0.2222222222222222,\"#7201a8\"],[0.3333333333333333,\"#9c179e\"],[0.4444444444444444,\"#bd3786\"],[0.5555555555555556,\"#d8576b\"],[0.6666666666666666,\"#ed7953\"],[0.7777777777777778,\"#fb9f3a\"],[0.8888888888888888,\"#fdca26\"],[1.0,\"#f0f921\"]],\"type\":\"heatmapgl\"}],\"heatmap\":[{\"colorbar\":{\"outlinewidth\":0,\"ticks\":\"\"},\"colorscale\":[[0.0,\"#0d0887\"],[0.1111111111111111,\"#46039f\"],[0.2222222222222222,\"#7201a8\"],[0.3333333333333333,\"#9c179e\"],[0.4444444444444444,\"#bd3786\"],[0.5555555555555556,\"#d8576b\"],[0.6666666666666666,\"#ed7953\"],[0.7777777777777778,\"#fb9f3a\"],[0.8888888888888888,\"#fdca26\"],[1.0,\"#f0f921\"]],\"type\":\"heatmap\"}],\"histogram2dcontour\":[{\"colorbar\":{\"outlinewidth\":0,\"ticks\":\"\"},\"colorscale\":[[0.0,\"#0d0887\"],[0.1111111111111111,\"#46039f\"],[0.2222222222222222,\"#7201a8\"],[0.3333333333333333,\"#9c179e\"],[0.4444444444444444,\"#bd3786\"],[0.5555555555555556,\"#d8576b\"],[0.6666666666666666,\"#ed7953\"],[0.7777777777777778,\"#fb9f3a\"],[0.8888888888888888,\"#fdca26\"],[1.0,\"#f0f921\"]],\"type\":\"histogram2dcontour\"}],\"histogram2d\":[{\"colorbar\":{\"outlinewidth\":0,\"ticks\":\"\"},\"colorscale\":[[0.0,\"#0d0887\"],[0.1111111111111111,\"#46039f\"],[0.2222222222222222,\"#7201a8\"],[0.3333333333333333,\"#9c179e\"],[0.4444444444444444,\"#bd3786\"],[0.5555555555555556,\"#d8576b\"],[0.6666666666666666,\"#ed7953\"],[0.7777777777777778,\"#fb9f3a\"],[0.8888888888888888,\"#fdca26\"],[1.0,\"#f0f921\"]],\"type\":\"histogram2d\"}],\"histogram\":[{\"marker\":{\"pattern\":{\"fillmode\":\"overlay\",\"size\":10,\"solidity\":0.2}},\"type\":\"histogram\"}],\"mesh3d\":[{\"colorbar\":{\"outlinewidth\":0,\"ticks\":\"\"},\"type\":\"mesh3d\"}],\"parcoords\":[{\"line\":{\"colorbar\":{\"outlinewidth\":0,\"ticks\":\"\"}},\"type\":\"parcoords\"}],\"pie\":[{\"automargin\":true,\"type\":\"pie\"}],\"scatter3d\":[{\"line\":{\"colorbar\":{\"outlinewidth\":0,\"ticks\":\"\"}},\"marker\":{\"colorbar\":{\"outlinewidth\":0,\"ticks\":\"\"}},\"type\":\"scatter3d\"}],\"scattercarpet\":[{\"marker\":{\"colorbar\":{\"outlinewidth\":0,\"ticks\":\"\"}},\"type\":\"scattercarpet\"}],\"scattergeo\":[{\"marker\":{\"colorbar\":{\"outlinewidth\":0,\"ticks\":\"\"}},\"type\":\"scattergeo\"}],\"scattergl\":[{\"marker\":{\"colorbar\":{\"outlinewidth\":0,\"ticks\":\"\"}},\"type\":\"scattergl\"}],\"scattermapbox\":[{\"marker\":{\"colorbar\":{\"outlinewidth\":0,\"ticks\":\"\"}},\"type\":\"scattermapbox\"}],\"scatterpolargl\":[{\"marker\":{\"colorbar\":{\"outlinewidth\":0,\"ticks\":\"\"}},\"type\":\"scatterpolargl\"}],\"scatterpolar\":[{\"marker\":{\"colorbar\":{\"outlinewidth\":0,\"ticks\":\"\"}},\"type\":\"scatterpolar\"}],\"scatter\":[{\"fillpattern\":{\"fillmode\":\"overlay\",\"size\":10,\"solidity\":0.2},\"type\":\"scatter\"}],\"scatterternary\":[{\"marker\":{\"colorbar\":{\"outlinewidth\":0,\"ticks\":\"\"}},\"type\":\"scatterternary\"}],\"surface\":[{\"colorbar\":{\"outlinewidth\":0,\"ticks\":\"\"},\"colorscale\":[[0.0,\"#0d0887\"],[0.1111111111111111,\"#46039f\"],[0.2222222222222222,\"#7201a8\"],[0.3333333333333333,\"#9c179e\"],[0.4444444444444444,\"#bd3786\"],[0.5555555555555556,\"#d8576b\"],[0.6666666666666666,\"#ed7953\"],[0.7777777777777778,\"#fb9f3a\"],[0.8888888888888888,\"#fdca26\"],[1.0,\"#f0f921\"]],\"type\":\"surface\"}],\"table\":[{\"cells\":{\"fill\":{\"color\":\"#EBF0F8\"},\"line\":{\"color\":\"white\"}},\"header\":{\"fill\":{\"color\":\"#C8D4E3\"},\"line\":{\"color\":\"white\"}},\"type\":\"table\"}]},\"layout\":{\"annotationdefaults\":{\"arrowcolor\":\"#2a3f5f\",\"arrowhead\":0,\"arrowwidth\":1},\"autotypenumbers\":\"strict\",\"coloraxis\":{\"colorbar\":{\"outlinewidth\":0,\"ticks\":\"\"}},\"colorscale\":{\"diverging\":[[0,\"#8e0152\"],[0.1,\"#c51b7d\"],[0.2,\"#de77ae\"],[0.3,\"#f1b6da\"],[0.4,\"#fde0ef\"],[0.5,\"#f7f7f7\"],[0.6,\"#e6f5d0\"],[0.7,\"#b8e186\"],[0.8,\"#7fbc41\"],[0.9,\"#4d9221\"],[1,\"#276419\"]],\"sequential\":[[0.0,\"#0d0887\"],[0.1111111111111111,\"#46039f\"],[0.2222222222222222,\"#7201a8\"],[0.3333333333333333,\"#9c179e\"],[0.4444444444444444,\"#bd3786\"],[0.5555555555555556,\"#d8576b\"],[0.6666666666666666,\"#ed7953\"],[0.7777777777777778,\"#fb9f3a\"],[0.8888888888888888,\"#fdca26\"],[1.0,\"#f0f921\"]],\"sequentialminus\":[[0.0,\"#0d0887\"],[0.1111111111111111,\"#46039f\"],[0.2222222222222222,\"#7201a8\"],[0.3333333333333333,\"#9c179e\"],[0.4444444444444444,\"#bd3786\"],[0.5555555555555556,\"#d8576b\"],[0.6666666666666666,\"#ed7953\"],[0.7777777777777778,\"#fb9f3a\"],[0.8888888888888888,\"#fdca26\"],[1.0,\"#f0f921\"]]},\"colorway\":[\"#636efa\",\"#EF553B\",\"#00cc96\",\"#ab63fa\",\"#FFA15A\",\"#19d3f3\",\"#FF6692\",\"#B6E880\",\"#FF97FF\",\"#FECB52\"],\"font\":{\"color\":\"#2a3f5f\"},\"geo\":{\"bgcolor\":\"white\",\"lakecolor\":\"white\",\"landcolor\":\"white\",\"showlakes\":true,\"showland\":true,\"subunitcolor\":\"#C8D4E3\"},\"hoverlabel\":{\"align\":\"left\"},\"hovermode\":\"closest\",\"mapbox\":{\"style\":\"light\"},\"paper_bgcolor\":\"white\",\"plot_bgcolor\":\"white\",\"polar\":{\"angularaxis\":{\"gridcolor\":\"#EBF0F8\",\"linecolor\":\"#EBF0F8\",\"ticks\":\"\"},\"bgcolor\":\"white\",\"radialaxis\":{\"gridcolor\":\"#EBF0F8\",\"linecolor\":\"#EBF0F8\",\"ticks\":\"\"}},\"scene\":{\"xaxis\":{\"backgroundcolor\":\"white\",\"gridcolor\":\"#DFE8F3\",\"gridwidth\":2,\"linecolor\":\"#EBF0F8\",\"showbackground\":true,\"ticks\":\"\",\"zerolinecolor\":\"#EBF0F8\"},\"yaxis\":{\"backgroundcolor\":\"white\",\"gridcolor\":\"#DFE8F3\",\"gridwidth\":2,\"linecolor\":\"#EBF0F8\",\"showbackground\":true,\"ticks\":\"\",\"zerolinecolor\":\"#EBF0F8\"},\"zaxis\":{\"backgroundcolor\":\"white\",\"gridcolor\":\"#DFE8F3\",\"gridwidth\":2,\"linecolor\":\"#EBF0F8\",\"showbackground\":true,\"ticks\":\"\",\"zerolinecolor\":\"#EBF0F8\"}},\"shapedefaults\":{\"line\":{\"color\":\"#2a3f5f\"}},\"ternary\":{\"aaxis\":{\"gridcolor\":\"#DFE8F3\",\"linecolor\":\"#A2B1C6\",\"ticks\":\"\"},\"baxis\":{\"gridcolor\":\"#DFE8F3\",\"linecolor\":\"#A2B1C6\",\"ticks\":\"\"},\"bgcolor\":\"white\",\"caxis\":{\"gridcolor\":\"#DFE8F3\",\"linecolor\":\"#A2B1C6\",\"ticks\":\"\"}},\"title\":{\"x\":0.05},\"xaxis\":{\"automargin\":true,\"gridcolor\":\"#EBF0F8\",\"linecolor\":\"#EBF0F8\",\"ticks\":\"\",\"title\":{\"standoff\":15},\"zerolinecolor\":\"#EBF0F8\",\"zerolinewidth\":2},\"yaxis\":{\"automargin\":true,\"gridcolor\":\"#EBF0F8\",\"linecolor\":\"#EBF0F8\",\"ticks\":\"\",\"title\":{\"standoff\":15},\"zerolinecolor\":\"#EBF0F8\",\"zerolinewidth\":2}}},\"title\":{\"text\":\"Cross-Validation (N=5) Mean F1 score with Error Bands\"},\"xaxis\":{\"title\":{\"text\":\"Training Steps\"}},\"yaxis\":{\"title\":{\"text\":\"Performance Score\"},\"range\":[0.5,1]}},                        {\"responsive\": true}                    ).then(function(){\n",
       "                            \n",
       "var gd = document.getElementById('8eb2c7e6-004f-4b04-b78e-9537862fdae9');\n",
       "var x = new MutationObserver(function (mutations, observer) {{\n",
       "        var display = window.getComputedStyle(gd).display;\n",
       "        if (!display || display === 'none') {{\n",
       "            console.log([gd, 'removed!']);\n",
       "            Plotly.purge(gd);\n",
       "            observer.disconnect();\n",
       "        }}\n",
       "}});\n",
       "\n",
       "// Listen for the removal of the full notebook cells\n",
       "var notebookContainer = gd.closest('#notebook-container');\n",
       "if (notebookContainer) {{\n",
       "    x.observe(notebookContainer, {childList: true});\n",
       "}}\n",
       "\n",
       "// Listen for the clearing of the current output cell\n",
       "var outputEl = gd.closest('.output');\n",
       "if (outputEl) {{\n",
       "    x.observe(outputEl, {childList: true});\n",
       "}}\n",
       "\n",
       "                        })                };                });            </script>        </div>"
      ]
     },
     "metadata": {},
     "output_type": "display_data"
    }
   ],
   "source": [
    "from ARISA_DSML.train import plot_error_scatter\n",
    "cv_results = pd.read_csv(cv_output_path)\n",
    "plot_error_scatter(\n",
    "    df_plot=cv_results,\n",
    "    name=\"Mean F1 Score\",\n",
    "    title=\"Cross-Validation (N=5) Mean F1 score with Error Bands\",\n",
    "    xtitle=\"Training Steps\",\n",
    "    ytitle=\"Performance Score\",\n",
    "    yaxis_range=[0.5, 1],\n",
    ")"
   ]
  },
  {
   "cell_type": "code",
   "execution_count": 28,
   "metadata": {},
   "outputs": [
    {
     "data": {
      "application/vnd.plotly.v1+json": {
       "config": {
        "plotlyServerURL": "https://plot.ly"
       },
       "data": [
        {
         "line": {
          "color": "blue"
         },
         "mode": "lines",
         "name": "Mean logloss",
         "type": "scatter",
         "x": [
          0,
          1,
          2,
          3,
          4,
          5,
          6,
          7,
          8,
          9,
          10,
          11,
          12,
          13,
          14,
          15,
          16,
          17,
          18,
          19,
          20,
          21,
          22,
          23,
          24,
          25,
          26,
          27,
          28,
          29,
          30,
          31,
          32,
          33,
          34,
          35,
          36,
          37,
          38,
          39,
          40,
          41,
          42,
          43,
          44,
          45,
          46,
          47,
          48,
          49,
          50,
          51,
          52,
          53,
          54,
          55,
          56,
          57,
          58,
          59,
          60,
          61,
          62,
          63,
          64,
          65,
          66,
          67,
          68,
          69,
          70,
          71,
          72,
          73,
          74,
          75,
          76,
          77,
          78,
          79,
          80,
          81,
          82,
          83,
          84,
          85,
          86,
          87,
          88,
          89,
          90,
          91,
          92,
          93,
          94,
          95,
          96,
          97,
          98,
          99,
          100,
          101,
          102,
          103,
          104,
          105,
          106,
          107,
          108,
          109,
          110,
          111,
          112,
          113,
          114,
          115,
          116,
          117,
          118,
          119,
          120,
          121,
          122,
          123
         ],
         "y": [
          0.2711255577636066,
          0.1222877357253707,
          0.0645381935276502,
          0.0377379165038937,
          0.0310291872701033,
          0.0240783027968858,
          0.0207127871001906,
          0.017967443705339,
          0.0161011503043023,
          0.0151830295644431,
          0.0144819874391178,
          0.0133409127832384,
          0.0122430061546699,
          0.0118320830386068,
          0.0116050316300795,
          0.0113148043429019,
          0.0112036347748444,
          0.0112034498202727,
          0.0111842788712399,
          0.0111660585252188,
          0.011056481916448,
          0.0110563598160969,
          0.0110562069226778,
          0.0110561612429767,
          0.011056056835009,
          0.0110560352211583,
          0.0110559962306547,
          0.0110559766734119,
          0.0110559576733145,
          0.0110559576733145,
          0.0110559410233232,
          0.0110559410233232,
          0.0110558680567089,
          0.0110557951085161,
          0.0110557951085161,
          0.0110557951085161,
          0.0110557951085161,
          0.0110557951085161,
          0.0110557951085161,
          0.0110557951085161,
          0.0110557951085161,
          0.0110557951085161,
          0.0110557951085161,
          0.0110557951085161,
          0.0110557951085161,
          0.0110557951085161,
          0.0110557951085161,
          0.0110557951085161,
          0.0110557951085161,
          0.0110557951085161,
          0.0110557951085161,
          0.0110557951085161,
          0.0110557951085161,
          0.0110557951085161,
          0.0110557726928863,
          0.0110557531494158,
          0.0110557414738292,
          0.0110557414738292,
          0.0110557414738292,
          0.0110557414738292,
          0.0110557414738292,
          0.0110557414738292,
          0.0110557414738292,
          0.0110557304664051,
          0.0110557304664051,
          0.0110557304664051,
          0.0110557304664051,
          0.0110557304664051,
          0.0110557304664051,
          0.0110557304664051,
          0.0110557304664051,
          0.0110557304664051,
          0.0110557304664051,
          0.0110557304664051,
          0.0110557304664051,
          0.0110557304664051,
          0.0110557304664051,
          0.0110557304664051,
          0.0110557304664051,
          0.0110557304664051,
          0.0110557304664051,
          0.0110557304664051,
          0.0110557304664051,
          0.0110557304664051,
          0.0110557304664051,
          0.0110557304664051,
          0.0110557304664051,
          0.0110557304664051,
          0.0110557304664051,
          0.0110557304664051,
          0.0110557304664051,
          0.0110557304664051,
          0.0110557304664051,
          0.0110557304664051,
          0.0110557304664051,
          0.0110557304664051,
          0.0110557304664051,
          0.0110557304664051,
          0.0110557304664051,
          0.0110557304664051,
          0.0110557304664051,
          0.0110557304664051,
          0.0110557304664051,
          0.0110557304664051,
          0.0110557304664051,
          0.0110557304664051,
          0.0110557304664051,
          0.0110557304664051,
          0.0110557304664051,
          0.0110557304664051,
          0.0110557304664051,
          0.0110557304664051,
          0.0110557304664051,
          0.0110557304664051,
          0.0110557304664051,
          0.0110557304664051,
          0.0110557304664051,
          0.0110557304664051,
          0.0110557266311488,
          0.0110557266311488,
          0.0110557266311488,
          0.0110557266311488,
          0.0110557266311488,
          0.0110557266311488
         ]
        },
        {
         "fill": "toself",
         "fillcolor": "rgba(0, 0, 255, 0.2)",
         "line": {
          "color": "rgba(255, 255, 255, 0)"
         },
         "showlegend": false,
         "type": "scatter",
         "x": [
          0.2711255577636066,
          0.1222877357253707,
          0.0645381935276502,
          0.0377379165038937,
          0.0310291872701033,
          0.0240783027968858,
          0.0207127871001906,
          0.017967443705339,
          0.0161011503043023,
          0.0151830295644431,
          0.0144819874391178,
          0.0133409127832384,
          0.0122430061546699,
          0.0118320830386068,
          0.0116050316300795,
          0.0113148043429019,
          0.0112036347748444,
          0.0112034498202727,
          0.0111842788712399,
          0.0111660585252188,
          0.011056481916448,
          0.0110563598160969,
          0.0110562069226778,
          0.0110561612429767,
          0.011056056835009,
          0.0110560352211583,
          0.0110559962306547,
          0.0110559766734119,
          0.0110559576733145,
          0.0110559576733145,
          0.0110559410233232,
          0.0110559410233232,
          0.0110558680567089,
          0.0110557951085161,
          0.0110557951085161,
          0.0110557951085161,
          0.0110557951085161,
          0.0110557951085161,
          0.0110557951085161,
          0.0110557951085161,
          0.0110557951085161,
          0.0110557951085161,
          0.0110557951085161,
          0.0110557951085161,
          0.0110557951085161,
          0.0110557951085161,
          0.0110557951085161,
          0.0110557951085161,
          0.0110557951085161,
          0.0110557951085161,
          0.0110557951085161,
          0.0110557951085161,
          0.0110557951085161,
          0.0110557951085161,
          0.0110557726928863,
          0.0110557531494158,
          0.0110557414738292,
          0.0110557414738292,
          0.0110557414738292,
          0.0110557414738292,
          0.0110557414738292,
          0.0110557414738292,
          0.0110557414738292,
          0.0110557304664051,
          0.0110557304664051,
          0.0110557304664051,
          0.0110557304664051,
          0.0110557304664051,
          0.0110557304664051,
          0.0110557304664051,
          0.0110557304664051,
          0.0110557304664051,
          0.0110557304664051,
          0.0110557304664051,
          0.0110557304664051,
          0.0110557304664051,
          0.0110557304664051,
          0.0110557304664051,
          0.0110557304664051,
          0.0110557304664051,
          0.0110557304664051,
          0.0110557304664051,
          0.0110557304664051,
          0.0110557304664051,
          0.0110557304664051,
          0.0110557304664051,
          0.0110557304664051,
          0.0110557304664051,
          0.0110557304664051,
          0.0110557304664051,
          0.0110557304664051,
          0.0110557304664051,
          0.0110557304664051,
          0.0110557304664051,
          0.0110557304664051,
          0.0110557304664051,
          0.0110557304664051,
          0.0110557304664051,
          0.0110557304664051,
          0.0110557304664051,
          0.0110557304664051,
          0.0110557304664051,
          0.0110557304664051,
          0.0110557304664051,
          0.0110557304664051,
          0.0110557304664051,
          0.0110557304664051,
          0.0110557304664051,
          0.0110557304664051,
          0.0110557304664051,
          0.0110557304664051,
          0.0110557304664051,
          0.0110557304664051,
          0.0110557304664051,
          0.0110557304664051,
          0.0110557304664051,
          0.0110557304664051,
          0.0110557304664051,
          0.0110557266311488,
          0.0110557266311488,
          0.0110557266311488,
          0.0110557266311488,
          0.0110557266311488,
          0.0110557266311488,
          123,
          122,
          121,
          120,
          119,
          118,
          117,
          116,
          115,
          114,
          113,
          112,
          111,
          110,
          109,
          108,
          107,
          106,
          105,
          104,
          103,
          102,
          101,
          100,
          99,
          98,
          97,
          96,
          95,
          94,
          93,
          92,
          91,
          90,
          89,
          88,
          87,
          86,
          85,
          84,
          83,
          82,
          81,
          80,
          79,
          78,
          77,
          76,
          75,
          74,
          73,
          72,
          71,
          70,
          69,
          68,
          67,
          66,
          65,
          64,
          63,
          62,
          61,
          60,
          59,
          58,
          57,
          56,
          55,
          54,
          53,
          52,
          51,
          50,
          49,
          48,
          47,
          46,
          45,
          44,
          43,
          42,
          41,
          40,
          39,
          38,
          37,
          36,
          35,
          34,
          33,
          32,
          31,
          30,
          29,
          28,
          27,
          26,
          25,
          24,
          23,
          22,
          21,
          20,
          19,
          18,
          17,
          16,
          15,
          14,
          13,
          12,
          11,
          10,
          9,
          8,
          7,
          6,
          5,
          4,
          3,
          2,
          1,
          0
         ],
         "y": [
          0.36265961597441837,
          0.1997519773321335,
          0.1049813065971815,
          0.0639840545898802,
          0.056785605662561606,
          0.044639448248445,
          0.0394797899017279,
          0.0347982709289168,
          0.0318362516392482,
          0.0306298349088956,
          0.0293524822738066,
          0.0270497336457531,
          0.024975708084852,
          0.0243864125747994,
          0.0239548031883304,
          0.0234187741981755,
          0.0233845609264019,
          0.0233843711573811,
          0.0233613498717683,
          0.023362111666865498,
          0.023325221636693,
          0.0233249953042668,
          0.0233246858502499,
          0.0233246835697852,
          0.0233246114319556,
          0.023324611609113602,
          0.0233246119290832,
          0.0233246120897627,
          0.0233246122459835,
          0.0233246122459835,
          0.023324612382978,
          0.023324612382978,
          0.0233245892933244,
          0.0233245662114663,
          0.0233245662114663,
          0.0233245662114663,
          0.0233245662114663,
          0.0233245662114663,
          0.0233245662114663,
          0.0233245662114663,
          0.0233245662114663,
          0.0233245662114663,
          0.0233245662114663,
          0.0233245662114663,
          0.0233245662114663,
          0.0233245662114663,
          0.0233245662114663,
          0.0233245662114663,
          0.0233245662114663,
          0.0233245662114663,
          0.0233245662114663,
          0.0233245662114663,
          0.0233245662114663,
          0.0233245662114663,
          0.0233245663955251,
          0.023324566556133103,
          0.0233245666521422,
          0.0233245666521422,
          0.0233245666521422,
          0.0233245666521422,
          0.0233245666521422,
          0.0233245666521422,
          0.0233245666521422,
          0.023324566742697297,
          0.023324566742697297,
          0.023324566742697297,
          0.023324566742697297,
          0.023324566742697297,
          0.023324566742697297,
          0.023324566742697297,
          0.023324566742697297,
          0.023324566742697297,
          0.023324566742697297,
          0.023324566742697297,
          0.023324566742697297,
          0.023324566742697297,
          0.023324566742697297,
          0.023324566742697297,
          0.023324566742697297,
          0.023324566742697297,
          0.023324566742697297,
          0.023324566742697297,
          0.023324566742697297,
          0.023324566742697297,
          0.023324566742697297,
          0.023324566742697297,
          0.023324566742697297,
          0.023324566742697297,
          0.023324566742697297,
          0.023324566742697297,
          0.023324566742697297,
          0.023324566742697297,
          0.023324566742697297,
          0.023324566742697297,
          0.023324566742697297,
          0.023324566742697297,
          0.023324566742697297,
          0.023324566742697297,
          0.023324566742697297,
          0.023324566742697297,
          0.023324566742697297,
          0.023324566742697297,
          0.023324566742697297,
          0.023324566742697297,
          0.023324566742697297,
          0.023324566742697297,
          0.023324566742697297,
          0.023324566742697297,
          0.023324566742697297,
          0.023324566742697297,
          0.023324566742697297,
          0.023324566742697297,
          0.023324566742697297,
          0.023324566742697297,
          0.023324566742697297,
          0.023324566742697297,
          0.023324566742697297,
          0.023324566742697297,
          0.0233245667742582,
          0.0233245667742582,
          0.0233245667742582,
          0.0233245667742582,
          0.0233245667742582,
          0.0233245667742582,
          0.1795914995527948,
          0.04482349411860791,
          0.024095080458118895,
          0.0114917784179072,
          0.005272768877644999,
          0.0035171573453266006,
          0.001945784298653299,
          0.001136616481761197,
          0.00036604896935640147,
          -0.0002637757800093999,
          -0.00038850739557100104,
          -0.0003679080792763009,
          -0.0004896957755122014,
          -0.0007222464975858,
          -0.0007447399281713986,
          -0.0007891655123716985,
          -0.0009772913767131016,
          -0.0009774715168356998,
          -0.0009927921292884993,
          -0.0010299946164278994,
          -0.001212257803796999,
          -0.0012122756720730002,
          -0.0012122720048943006,
          -0.0012123610838318012,
          -0.0012124977619376014,
          -0.001212541166796999,
          -0.0012126194677737987,
          -0.0012126587429388998,
          -0.0012126968993544998,
          -0.0012126968993544998,
          -0.0012127303363316001,
          -0.0012127303363316001,
          -0.0012128531799065999,
          -0.0012129759944340991,
          -0.0012129759944340991,
          -0.0012129759944340991,
          -0.0012129759944340991,
          -0.0012129759944340991,
          -0.0012129759944340991,
          -0.0012129759944340991,
          -0.0012129759944340991,
          -0.0012129759944340991,
          -0.0012129759944340991,
          -0.0012129759944340991,
          -0.0012129759944340991,
          -0.0012129759944340991,
          -0.0012129759944340991,
          -0.0012129759944340991,
          -0.0012129759944340991,
          -0.0012129759944340991,
          -0.0012129759944340991,
          -0.0012129759944340991,
          -0.0012129759944340991,
          -0.0012129759944340991,
          -0.001213021009752499,
          -0.0012130602573014997,
          -0.0012130837044837996,
          -0.0012130837044837996,
          -0.0012130837044837996,
          -0.0012130837044837996,
          -0.0012130837044837996,
          -0.0012130837044837996,
          -0.0012130837044837996,
          -0.0012131058098870991,
          -0.0012131058098870991,
          -0.0012131058098870991,
          -0.0012131058098870991,
          -0.0012131058098870991,
          -0.0012131058098870991,
          -0.0012131058098870991,
          -0.0012131058098870991,
          -0.0012131058098870991,
          -0.0012131058098870991,
          -0.0012131058098870991,
          -0.0012131058098870991,
          -0.0012131058098870991,
          -0.0012131058098870991,
          -0.0012131058098870991,
          -0.0012131058098870991,
          -0.0012131058098870991,
          -0.0012131058098870991,
          -0.0012131058098870991,
          -0.0012131058098870991,
          -0.0012131058098870991,
          -0.0012131058098870991,
          -0.0012131058098870991,
          -0.0012131058098870991,
          -0.0012131058098870991,
          -0.0012131058098870991,
          -0.0012131058098870991,
          -0.0012131058098870991,
          -0.0012131058098870991,
          -0.0012131058098870991,
          -0.0012131058098870991,
          -0.0012131058098870991,
          -0.0012131058098870991,
          -0.0012131058098870991,
          -0.0012131058098870991,
          -0.0012131058098870991,
          -0.0012131058098870991,
          -0.0012131058098870991,
          -0.0012131058098870991,
          -0.0012131058098870991,
          -0.0012131058098870991,
          -0.0012131058098870991,
          -0.0012131058098870991,
          -0.0012131058098870991,
          -0.0012131058098870991,
          -0.0012131058098870991,
          -0.0012131058098870991,
          -0.0012131058098870991,
          -0.0012131058098870991,
          -0.0012131058098870991,
          -0.0012131058098870991,
          -0.0012131058098870991,
          -0.0012131058098870991,
          -0.0012131058098870991,
          -0.0012131058098870991,
          -0.0012131135119606007,
          -0.0012131135119606007,
          -0.0012131135119606007,
          -0.0012131135119606007,
          -0.0012131135119606007,
          -0.0012131135119606007
         ]
        }
       ],
       "layout": {
        "template": {
         "data": {
          "bar": [
           {
            "error_x": {
             "color": "#2a3f5f"
            },
            "error_y": {
             "color": "#2a3f5f"
            },
            "marker": {
             "line": {
              "color": "white",
              "width": 0.5
             },
             "pattern": {
              "fillmode": "overlay",
              "size": 10,
              "solidity": 0.2
             }
            },
            "type": "bar"
           }
          ],
          "barpolar": [
           {
            "marker": {
             "line": {
              "color": "white",
              "width": 0.5
             },
             "pattern": {
              "fillmode": "overlay",
              "size": 10,
              "solidity": 0.2
             }
            },
            "type": "barpolar"
           }
          ],
          "carpet": [
           {
            "aaxis": {
             "endlinecolor": "#2a3f5f",
             "gridcolor": "#C8D4E3",
             "linecolor": "#C8D4E3",
             "minorgridcolor": "#C8D4E3",
             "startlinecolor": "#2a3f5f"
            },
            "baxis": {
             "endlinecolor": "#2a3f5f",
             "gridcolor": "#C8D4E3",
             "linecolor": "#C8D4E3",
             "minorgridcolor": "#C8D4E3",
             "startlinecolor": "#2a3f5f"
            },
            "type": "carpet"
           }
          ],
          "choropleth": [
           {
            "colorbar": {
             "outlinewidth": 0,
             "ticks": ""
            },
            "type": "choropleth"
           }
          ],
          "contour": [
           {
            "colorbar": {
             "outlinewidth": 0,
             "ticks": ""
            },
            "colorscale": [
             [
              0,
              "#0d0887"
             ],
             [
              0.1111111111111111,
              "#46039f"
             ],
             [
              0.2222222222222222,
              "#7201a8"
             ],
             [
              0.3333333333333333,
              "#9c179e"
             ],
             [
              0.4444444444444444,
              "#bd3786"
             ],
             [
              0.5555555555555556,
              "#d8576b"
             ],
             [
              0.6666666666666666,
              "#ed7953"
             ],
             [
              0.7777777777777778,
              "#fb9f3a"
             ],
             [
              0.8888888888888888,
              "#fdca26"
             ],
             [
              1,
              "#f0f921"
             ]
            ],
            "type": "contour"
           }
          ],
          "contourcarpet": [
           {
            "colorbar": {
             "outlinewidth": 0,
             "ticks": ""
            },
            "type": "contourcarpet"
           }
          ],
          "heatmap": [
           {
            "colorbar": {
             "outlinewidth": 0,
             "ticks": ""
            },
            "colorscale": [
             [
              0,
              "#0d0887"
             ],
             [
              0.1111111111111111,
              "#46039f"
             ],
             [
              0.2222222222222222,
              "#7201a8"
             ],
             [
              0.3333333333333333,
              "#9c179e"
             ],
             [
              0.4444444444444444,
              "#bd3786"
             ],
             [
              0.5555555555555556,
              "#d8576b"
             ],
             [
              0.6666666666666666,
              "#ed7953"
             ],
             [
              0.7777777777777778,
              "#fb9f3a"
             ],
             [
              0.8888888888888888,
              "#fdca26"
             ],
             [
              1,
              "#f0f921"
             ]
            ],
            "type": "heatmap"
           }
          ],
          "heatmapgl": [
           {
            "colorbar": {
             "outlinewidth": 0,
             "ticks": ""
            },
            "colorscale": [
             [
              0,
              "#0d0887"
             ],
             [
              0.1111111111111111,
              "#46039f"
             ],
             [
              0.2222222222222222,
              "#7201a8"
             ],
             [
              0.3333333333333333,
              "#9c179e"
             ],
             [
              0.4444444444444444,
              "#bd3786"
             ],
             [
              0.5555555555555556,
              "#d8576b"
             ],
             [
              0.6666666666666666,
              "#ed7953"
             ],
             [
              0.7777777777777778,
              "#fb9f3a"
             ],
             [
              0.8888888888888888,
              "#fdca26"
             ],
             [
              1,
              "#f0f921"
             ]
            ],
            "type": "heatmapgl"
           }
          ],
          "histogram": [
           {
            "marker": {
             "pattern": {
              "fillmode": "overlay",
              "size": 10,
              "solidity": 0.2
             }
            },
            "type": "histogram"
           }
          ],
          "histogram2d": [
           {
            "colorbar": {
             "outlinewidth": 0,
             "ticks": ""
            },
            "colorscale": [
             [
              0,
              "#0d0887"
             ],
             [
              0.1111111111111111,
              "#46039f"
             ],
             [
              0.2222222222222222,
              "#7201a8"
             ],
             [
              0.3333333333333333,
              "#9c179e"
             ],
             [
              0.4444444444444444,
              "#bd3786"
             ],
             [
              0.5555555555555556,
              "#d8576b"
             ],
             [
              0.6666666666666666,
              "#ed7953"
             ],
             [
              0.7777777777777778,
              "#fb9f3a"
             ],
             [
              0.8888888888888888,
              "#fdca26"
             ],
             [
              1,
              "#f0f921"
             ]
            ],
            "type": "histogram2d"
           }
          ],
          "histogram2dcontour": [
           {
            "colorbar": {
             "outlinewidth": 0,
             "ticks": ""
            },
            "colorscale": [
             [
              0,
              "#0d0887"
             ],
             [
              0.1111111111111111,
              "#46039f"
             ],
             [
              0.2222222222222222,
              "#7201a8"
             ],
             [
              0.3333333333333333,
              "#9c179e"
             ],
             [
              0.4444444444444444,
              "#bd3786"
             ],
             [
              0.5555555555555556,
              "#d8576b"
             ],
             [
              0.6666666666666666,
              "#ed7953"
             ],
             [
              0.7777777777777778,
              "#fb9f3a"
             ],
             [
              0.8888888888888888,
              "#fdca26"
             ],
             [
              1,
              "#f0f921"
             ]
            ],
            "type": "histogram2dcontour"
           }
          ],
          "mesh3d": [
           {
            "colorbar": {
             "outlinewidth": 0,
             "ticks": ""
            },
            "type": "mesh3d"
           }
          ],
          "parcoords": [
           {
            "line": {
             "colorbar": {
              "outlinewidth": 0,
              "ticks": ""
             }
            },
            "type": "parcoords"
           }
          ],
          "pie": [
           {
            "automargin": true,
            "type": "pie"
           }
          ],
          "scatter": [
           {
            "fillpattern": {
             "fillmode": "overlay",
             "size": 10,
             "solidity": 0.2
            },
            "type": "scatter"
           }
          ],
          "scatter3d": [
           {
            "line": {
             "colorbar": {
              "outlinewidth": 0,
              "ticks": ""
             }
            },
            "marker": {
             "colorbar": {
              "outlinewidth": 0,
              "ticks": ""
             }
            },
            "type": "scatter3d"
           }
          ],
          "scattercarpet": [
           {
            "marker": {
             "colorbar": {
              "outlinewidth": 0,
              "ticks": ""
             }
            },
            "type": "scattercarpet"
           }
          ],
          "scattergeo": [
           {
            "marker": {
             "colorbar": {
              "outlinewidth": 0,
              "ticks": ""
             }
            },
            "type": "scattergeo"
           }
          ],
          "scattergl": [
           {
            "marker": {
             "colorbar": {
              "outlinewidth": 0,
              "ticks": ""
             }
            },
            "type": "scattergl"
           }
          ],
          "scattermapbox": [
           {
            "marker": {
             "colorbar": {
              "outlinewidth": 0,
              "ticks": ""
             }
            },
            "type": "scattermapbox"
           }
          ],
          "scatterpolar": [
           {
            "marker": {
             "colorbar": {
              "outlinewidth": 0,
              "ticks": ""
             }
            },
            "type": "scatterpolar"
           }
          ],
          "scatterpolargl": [
           {
            "marker": {
             "colorbar": {
              "outlinewidth": 0,
              "ticks": ""
             }
            },
            "type": "scatterpolargl"
           }
          ],
          "scatterternary": [
           {
            "marker": {
             "colorbar": {
              "outlinewidth": 0,
              "ticks": ""
             }
            },
            "type": "scatterternary"
           }
          ],
          "surface": [
           {
            "colorbar": {
             "outlinewidth": 0,
             "ticks": ""
            },
            "colorscale": [
             [
              0,
              "#0d0887"
             ],
             [
              0.1111111111111111,
              "#46039f"
             ],
             [
              0.2222222222222222,
              "#7201a8"
             ],
             [
              0.3333333333333333,
              "#9c179e"
             ],
             [
              0.4444444444444444,
              "#bd3786"
             ],
             [
              0.5555555555555556,
              "#d8576b"
             ],
             [
              0.6666666666666666,
              "#ed7953"
             ],
             [
              0.7777777777777778,
              "#fb9f3a"
             ],
             [
              0.8888888888888888,
              "#fdca26"
             ],
             [
              1,
              "#f0f921"
             ]
            ],
            "type": "surface"
           }
          ],
          "table": [
           {
            "cells": {
             "fill": {
              "color": "#EBF0F8"
             },
             "line": {
              "color": "white"
             }
            },
            "header": {
             "fill": {
              "color": "#C8D4E3"
             },
             "line": {
              "color": "white"
             }
            },
            "type": "table"
           }
          ]
         },
         "layout": {
          "annotationdefaults": {
           "arrowcolor": "#2a3f5f",
           "arrowhead": 0,
           "arrowwidth": 1
          },
          "autotypenumbers": "strict",
          "coloraxis": {
           "colorbar": {
            "outlinewidth": 0,
            "ticks": ""
           }
          },
          "colorscale": {
           "diverging": [
            [
             0,
             "#8e0152"
            ],
            [
             0.1,
             "#c51b7d"
            ],
            [
             0.2,
             "#de77ae"
            ],
            [
             0.3,
             "#f1b6da"
            ],
            [
             0.4,
             "#fde0ef"
            ],
            [
             0.5,
             "#f7f7f7"
            ],
            [
             0.6,
             "#e6f5d0"
            ],
            [
             0.7,
             "#b8e186"
            ],
            [
             0.8,
             "#7fbc41"
            ],
            [
             0.9,
             "#4d9221"
            ],
            [
             1,
             "#276419"
            ]
           ],
           "sequential": [
            [
             0,
             "#0d0887"
            ],
            [
             0.1111111111111111,
             "#46039f"
            ],
            [
             0.2222222222222222,
             "#7201a8"
            ],
            [
             0.3333333333333333,
             "#9c179e"
            ],
            [
             0.4444444444444444,
             "#bd3786"
            ],
            [
             0.5555555555555556,
             "#d8576b"
            ],
            [
             0.6666666666666666,
             "#ed7953"
            ],
            [
             0.7777777777777778,
             "#fb9f3a"
            ],
            [
             0.8888888888888888,
             "#fdca26"
            ],
            [
             1,
             "#f0f921"
            ]
           ],
           "sequentialminus": [
            [
             0,
             "#0d0887"
            ],
            [
             0.1111111111111111,
             "#46039f"
            ],
            [
             0.2222222222222222,
             "#7201a8"
            ],
            [
             0.3333333333333333,
             "#9c179e"
            ],
            [
             0.4444444444444444,
             "#bd3786"
            ],
            [
             0.5555555555555556,
             "#d8576b"
            ],
            [
             0.6666666666666666,
             "#ed7953"
            ],
            [
             0.7777777777777778,
             "#fb9f3a"
            ],
            [
             0.8888888888888888,
             "#fdca26"
            ],
            [
             1,
             "#f0f921"
            ]
           ]
          },
          "colorway": [
           "#636efa",
           "#EF553B",
           "#00cc96",
           "#ab63fa",
           "#FFA15A",
           "#19d3f3",
           "#FF6692",
           "#B6E880",
           "#FF97FF",
           "#FECB52"
          ],
          "font": {
           "color": "#2a3f5f"
          },
          "geo": {
           "bgcolor": "white",
           "lakecolor": "white",
           "landcolor": "white",
           "showlakes": true,
           "showland": true,
           "subunitcolor": "#C8D4E3"
          },
          "hoverlabel": {
           "align": "left"
          },
          "hovermode": "closest",
          "mapbox": {
           "style": "light"
          },
          "paper_bgcolor": "white",
          "plot_bgcolor": "white",
          "polar": {
           "angularaxis": {
            "gridcolor": "#EBF0F8",
            "linecolor": "#EBF0F8",
            "ticks": ""
           },
           "bgcolor": "white",
           "radialaxis": {
            "gridcolor": "#EBF0F8",
            "linecolor": "#EBF0F8",
            "ticks": ""
           }
          },
          "scene": {
           "xaxis": {
            "backgroundcolor": "white",
            "gridcolor": "#DFE8F3",
            "gridwidth": 2,
            "linecolor": "#EBF0F8",
            "showbackground": true,
            "ticks": "",
            "zerolinecolor": "#EBF0F8"
           },
           "yaxis": {
            "backgroundcolor": "white",
            "gridcolor": "#DFE8F3",
            "gridwidth": 2,
            "linecolor": "#EBF0F8",
            "showbackground": true,
            "ticks": "",
            "zerolinecolor": "#EBF0F8"
           },
           "zaxis": {
            "backgroundcolor": "white",
            "gridcolor": "#DFE8F3",
            "gridwidth": 2,
            "linecolor": "#EBF0F8",
            "showbackground": true,
            "ticks": "",
            "zerolinecolor": "#EBF0F8"
           }
          },
          "shapedefaults": {
           "line": {
            "color": "#2a3f5f"
           }
          },
          "ternary": {
           "aaxis": {
            "gridcolor": "#DFE8F3",
            "linecolor": "#A2B1C6",
            "ticks": ""
           },
           "baxis": {
            "gridcolor": "#DFE8F3",
            "linecolor": "#A2B1C6",
            "ticks": ""
           },
           "bgcolor": "white",
           "caxis": {
            "gridcolor": "#DFE8F3",
            "linecolor": "#A2B1C6",
            "ticks": ""
           }
          },
          "title": {
           "x": 0.05
          },
          "xaxis": {
           "automargin": true,
           "gridcolor": "#EBF0F8",
           "linecolor": "#EBF0F8",
           "ticks": "",
           "title": {
            "standoff": 15
           },
           "zerolinecolor": "#EBF0F8",
           "zerolinewidth": 2
          },
          "yaxis": {
           "automargin": true,
           "gridcolor": "#EBF0F8",
           "linecolor": "#EBF0F8",
           "ticks": "",
           "title": {
            "standoff": 15
           },
           "zerolinecolor": "#EBF0F8",
           "zerolinewidth": 2
          }
         }
        },
        "title": {
         "text": "Cross-Validation (N=5) Mean Logloss with Error Bands"
        },
        "xaxis": {
         "title": {
          "text": "Training Steps"
         }
        },
        "yaxis": {
         "title": {
          "text": "Logloss"
         }
        }
       }
      },
      "text/html": [
       "<div>                            <div id=\"c22350e2-bb0a-4fc6-8844-acfb644f69b0\" class=\"plotly-graph-div\" style=\"height:525px; width:100%;\"></div>            <script type=\"text/javascript\">                require([\"plotly\"], function(Plotly) {                    window.PLOTLYENV=window.PLOTLYENV || {};                                    if (document.getElementById(\"c22350e2-bb0a-4fc6-8844-acfb644f69b0\")) {                    Plotly.newPlot(                        \"c22350e2-bb0a-4fc6-8844-acfb644f69b0\",                        [{\"line\":{\"color\":\"blue\"},\"mode\":\"lines\",\"name\":\"Mean logloss\",\"x\":[0,1,2,3,4,5,6,7,8,9,10,11,12,13,14,15,16,17,18,19,20,21,22,23,24,25,26,27,28,29,30,31,32,33,34,35,36,37,38,39,40,41,42,43,44,45,46,47,48,49,50,51,52,53,54,55,56,57,58,59,60,61,62,63,64,65,66,67,68,69,70,71,72,73,74,75,76,77,78,79,80,81,82,83,84,85,86,87,88,89,90,91,92,93,94,95,96,97,98,99,100,101,102,103,104,105,106,107,108,109,110,111,112,113,114,115,116,117,118,119,120,121,122,123],\"y\":[0.2711255577636066,0.1222877357253707,0.0645381935276502,0.0377379165038937,0.0310291872701033,0.0240783027968858,0.0207127871001906,0.017967443705339,0.0161011503043023,0.0151830295644431,0.0144819874391178,0.0133409127832384,0.0122430061546699,0.0118320830386068,0.0116050316300795,0.0113148043429019,0.0112036347748444,0.0112034498202727,0.0111842788712399,0.0111660585252188,0.011056481916448,0.0110563598160969,0.0110562069226778,0.0110561612429767,0.011056056835009,0.0110560352211583,0.0110559962306547,0.0110559766734119,0.0110559576733145,0.0110559576733145,0.0110559410233232,0.0110559410233232,0.0110558680567089,0.0110557951085161,0.0110557951085161,0.0110557951085161,0.0110557951085161,0.0110557951085161,0.0110557951085161,0.0110557951085161,0.0110557951085161,0.0110557951085161,0.0110557951085161,0.0110557951085161,0.0110557951085161,0.0110557951085161,0.0110557951085161,0.0110557951085161,0.0110557951085161,0.0110557951085161,0.0110557951085161,0.0110557951085161,0.0110557951085161,0.0110557951085161,0.0110557726928863,0.0110557531494158,0.0110557414738292,0.0110557414738292,0.0110557414738292,0.0110557414738292,0.0110557414738292,0.0110557414738292,0.0110557414738292,0.0110557304664051,0.0110557304664051,0.0110557304664051,0.0110557304664051,0.0110557304664051,0.0110557304664051,0.0110557304664051,0.0110557304664051,0.0110557304664051,0.0110557304664051,0.0110557304664051,0.0110557304664051,0.0110557304664051,0.0110557304664051,0.0110557304664051,0.0110557304664051,0.0110557304664051,0.0110557304664051,0.0110557304664051,0.0110557304664051,0.0110557304664051,0.0110557304664051,0.0110557304664051,0.0110557304664051,0.0110557304664051,0.0110557304664051,0.0110557304664051,0.0110557304664051,0.0110557304664051,0.0110557304664051,0.0110557304664051,0.0110557304664051,0.0110557304664051,0.0110557304664051,0.0110557304664051,0.0110557304664051,0.0110557304664051,0.0110557304664051,0.0110557304664051,0.0110557304664051,0.0110557304664051,0.0110557304664051,0.0110557304664051,0.0110557304664051,0.0110557304664051,0.0110557304664051,0.0110557304664051,0.0110557304664051,0.0110557304664051,0.0110557304664051,0.0110557304664051,0.0110557304664051,0.0110557304664051,0.0110557304664051,0.0110557304664051,0.0110557266311488,0.0110557266311488,0.0110557266311488,0.0110557266311488,0.0110557266311488,0.0110557266311488],\"type\":\"scatter\"},{\"fill\":\"toself\",\"fillcolor\":\"rgba(0, 0, 255, 0.2)\",\"line\":{\"color\":\"rgba(255, 255, 255, 0)\"},\"showlegend\":false,\"x\":[0.2711255577636066,0.1222877357253707,0.0645381935276502,0.0377379165038937,0.0310291872701033,0.0240783027968858,0.0207127871001906,0.017967443705339,0.0161011503043023,0.0151830295644431,0.0144819874391178,0.0133409127832384,0.0122430061546699,0.0118320830386068,0.0116050316300795,0.0113148043429019,0.0112036347748444,0.0112034498202727,0.0111842788712399,0.0111660585252188,0.011056481916448,0.0110563598160969,0.0110562069226778,0.0110561612429767,0.011056056835009,0.0110560352211583,0.0110559962306547,0.0110559766734119,0.0110559576733145,0.0110559576733145,0.0110559410233232,0.0110559410233232,0.0110558680567089,0.0110557951085161,0.0110557951085161,0.0110557951085161,0.0110557951085161,0.0110557951085161,0.0110557951085161,0.0110557951085161,0.0110557951085161,0.0110557951085161,0.0110557951085161,0.0110557951085161,0.0110557951085161,0.0110557951085161,0.0110557951085161,0.0110557951085161,0.0110557951085161,0.0110557951085161,0.0110557951085161,0.0110557951085161,0.0110557951085161,0.0110557951085161,0.0110557726928863,0.0110557531494158,0.0110557414738292,0.0110557414738292,0.0110557414738292,0.0110557414738292,0.0110557414738292,0.0110557414738292,0.0110557414738292,0.0110557304664051,0.0110557304664051,0.0110557304664051,0.0110557304664051,0.0110557304664051,0.0110557304664051,0.0110557304664051,0.0110557304664051,0.0110557304664051,0.0110557304664051,0.0110557304664051,0.0110557304664051,0.0110557304664051,0.0110557304664051,0.0110557304664051,0.0110557304664051,0.0110557304664051,0.0110557304664051,0.0110557304664051,0.0110557304664051,0.0110557304664051,0.0110557304664051,0.0110557304664051,0.0110557304664051,0.0110557304664051,0.0110557304664051,0.0110557304664051,0.0110557304664051,0.0110557304664051,0.0110557304664051,0.0110557304664051,0.0110557304664051,0.0110557304664051,0.0110557304664051,0.0110557304664051,0.0110557304664051,0.0110557304664051,0.0110557304664051,0.0110557304664051,0.0110557304664051,0.0110557304664051,0.0110557304664051,0.0110557304664051,0.0110557304664051,0.0110557304664051,0.0110557304664051,0.0110557304664051,0.0110557304664051,0.0110557304664051,0.0110557304664051,0.0110557304664051,0.0110557304664051,0.0110557304664051,0.0110557304664051,0.0110557304664051,0.0110557266311488,0.0110557266311488,0.0110557266311488,0.0110557266311488,0.0110557266311488,0.0110557266311488,123.0,122.0,121.0,120.0,119.0,118.0,117.0,116.0,115.0,114.0,113.0,112.0,111.0,110.0,109.0,108.0,107.0,106.0,105.0,104.0,103.0,102.0,101.0,100.0,99.0,98.0,97.0,96.0,95.0,94.0,93.0,92.0,91.0,90.0,89.0,88.0,87.0,86.0,85.0,84.0,83.0,82.0,81.0,80.0,79.0,78.0,77.0,76.0,75.0,74.0,73.0,72.0,71.0,70.0,69.0,68.0,67.0,66.0,65.0,64.0,63.0,62.0,61.0,60.0,59.0,58.0,57.0,56.0,55.0,54.0,53.0,52.0,51.0,50.0,49.0,48.0,47.0,46.0,45.0,44.0,43.0,42.0,41.0,40.0,39.0,38.0,37.0,36.0,35.0,34.0,33.0,32.0,31.0,30.0,29.0,28.0,27.0,26.0,25.0,24.0,23.0,22.0,21.0,20.0,19.0,18.0,17.0,16.0,15.0,14.0,13.0,12.0,11.0,10.0,9.0,8.0,7.0,6.0,5.0,4.0,3.0,2.0,1.0,0.0],\"y\":[0.36265961597441837,0.1997519773321335,0.1049813065971815,0.0639840545898802,0.056785605662561606,0.044639448248445,0.0394797899017279,0.0347982709289168,0.0318362516392482,0.0306298349088956,0.0293524822738066,0.0270497336457531,0.024975708084852,0.0243864125747994,0.0239548031883304,0.0234187741981755,0.0233845609264019,0.0233843711573811,0.0233613498717683,0.023362111666865498,0.023325221636693,0.0233249953042668,0.0233246858502499,0.0233246835697852,0.0233246114319556,0.023324611609113602,0.0233246119290832,0.0233246120897627,0.0233246122459835,0.0233246122459835,0.023324612382978,0.023324612382978,0.0233245892933244,0.0233245662114663,0.0233245662114663,0.0233245662114663,0.0233245662114663,0.0233245662114663,0.0233245662114663,0.0233245662114663,0.0233245662114663,0.0233245662114663,0.0233245662114663,0.0233245662114663,0.0233245662114663,0.0233245662114663,0.0233245662114663,0.0233245662114663,0.0233245662114663,0.0233245662114663,0.0233245662114663,0.0233245662114663,0.0233245662114663,0.0233245662114663,0.0233245663955251,0.023324566556133103,0.0233245666521422,0.0233245666521422,0.0233245666521422,0.0233245666521422,0.0233245666521422,0.0233245666521422,0.0233245666521422,0.023324566742697297,0.023324566742697297,0.023324566742697297,0.023324566742697297,0.023324566742697297,0.023324566742697297,0.023324566742697297,0.023324566742697297,0.023324566742697297,0.023324566742697297,0.023324566742697297,0.023324566742697297,0.023324566742697297,0.023324566742697297,0.023324566742697297,0.023324566742697297,0.023324566742697297,0.023324566742697297,0.023324566742697297,0.023324566742697297,0.023324566742697297,0.023324566742697297,0.023324566742697297,0.023324566742697297,0.023324566742697297,0.023324566742697297,0.023324566742697297,0.023324566742697297,0.023324566742697297,0.023324566742697297,0.023324566742697297,0.023324566742697297,0.023324566742697297,0.023324566742697297,0.023324566742697297,0.023324566742697297,0.023324566742697297,0.023324566742697297,0.023324566742697297,0.023324566742697297,0.023324566742697297,0.023324566742697297,0.023324566742697297,0.023324566742697297,0.023324566742697297,0.023324566742697297,0.023324566742697297,0.023324566742697297,0.023324566742697297,0.023324566742697297,0.023324566742697297,0.023324566742697297,0.023324566742697297,0.023324566742697297,0.023324566742697297,0.0233245667742582,0.0233245667742582,0.0233245667742582,0.0233245667742582,0.0233245667742582,0.0233245667742582,0.1795914995527948,0.04482349411860791,0.024095080458118895,0.0114917784179072,0.005272768877644999,0.0035171573453266006,0.001945784298653299,0.001136616481761197,0.00036604896935640147,-0.0002637757800093999,-0.00038850739557100104,-0.0003679080792763009,-0.0004896957755122014,-0.0007222464975858,-0.0007447399281713986,-0.0007891655123716985,-0.0009772913767131016,-0.0009774715168356998,-0.0009927921292884993,-0.0010299946164278994,-0.001212257803796999,-0.0012122756720730002,-0.0012122720048943006,-0.0012123610838318012,-0.0012124977619376014,-0.001212541166796999,-0.0012126194677737987,-0.0012126587429388998,-0.0012126968993544998,-0.0012126968993544998,-0.0012127303363316001,-0.0012127303363316001,-0.0012128531799065999,-0.0012129759944340991,-0.0012129759944340991,-0.0012129759944340991,-0.0012129759944340991,-0.0012129759944340991,-0.0012129759944340991,-0.0012129759944340991,-0.0012129759944340991,-0.0012129759944340991,-0.0012129759944340991,-0.0012129759944340991,-0.0012129759944340991,-0.0012129759944340991,-0.0012129759944340991,-0.0012129759944340991,-0.0012129759944340991,-0.0012129759944340991,-0.0012129759944340991,-0.0012129759944340991,-0.0012129759944340991,-0.0012129759944340991,-0.001213021009752499,-0.0012130602573014997,-0.0012130837044837996,-0.0012130837044837996,-0.0012130837044837996,-0.0012130837044837996,-0.0012130837044837996,-0.0012130837044837996,-0.0012130837044837996,-0.0012131058098870991,-0.0012131058098870991,-0.0012131058098870991,-0.0012131058098870991,-0.0012131058098870991,-0.0012131058098870991,-0.0012131058098870991,-0.0012131058098870991,-0.0012131058098870991,-0.0012131058098870991,-0.0012131058098870991,-0.0012131058098870991,-0.0012131058098870991,-0.0012131058098870991,-0.0012131058098870991,-0.0012131058098870991,-0.0012131058098870991,-0.0012131058098870991,-0.0012131058098870991,-0.0012131058098870991,-0.0012131058098870991,-0.0012131058098870991,-0.0012131058098870991,-0.0012131058098870991,-0.0012131058098870991,-0.0012131058098870991,-0.0012131058098870991,-0.0012131058098870991,-0.0012131058098870991,-0.0012131058098870991,-0.0012131058098870991,-0.0012131058098870991,-0.0012131058098870991,-0.0012131058098870991,-0.0012131058098870991,-0.0012131058098870991,-0.0012131058098870991,-0.0012131058098870991,-0.0012131058098870991,-0.0012131058098870991,-0.0012131058098870991,-0.0012131058098870991,-0.0012131058098870991,-0.0012131058098870991,-0.0012131058098870991,-0.0012131058098870991,-0.0012131058098870991,-0.0012131058098870991,-0.0012131058098870991,-0.0012131058098870991,-0.0012131058098870991,-0.0012131058098870991,-0.0012131058098870991,-0.0012131058098870991,-0.0012131058098870991,-0.0012131135119606007,-0.0012131135119606007,-0.0012131135119606007,-0.0012131135119606007,-0.0012131135119606007,-0.0012131135119606007],\"type\":\"scatter\"}],                        {\"template\":{\"data\":{\"barpolar\":[{\"marker\":{\"line\":{\"color\":\"white\",\"width\":0.5},\"pattern\":{\"fillmode\":\"overlay\",\"size\":10,\"solidity\":0.2}},\"type\":\"barpolar\"}],\"bar\":[{\"error_x\":{\"color\":\"#2a3f5f\"},\"error_y\":{\"color\":\"#2a3f5f\"},\"marker\":{\"line\":{\"color\":\"white\",\"width\":0.5},\"pattern\":{\"fillmode\":\"overlay\",\"size\":10,\"solidity\":0.2}},\"type\":\"bar\"}],\"carpet\":[{\"aaxis\":{\"endlinecolor\":\"#2a3f5f\",\"gridcolor\":\"#C8D4E3\",\"linecolor\":\"#C8D4E3\",\"minorgridcolor\":\"#C8D4E3\",\"startlinecolor\":\"#2a3f5f\"},\"baxis\":{\"endlinecolor\":\"#2a3f5f\",\"gridcolor\":\"#C8D4E3\",\"linecolor\":\"#C8D4E3\",\"minorgridcolor\":\"#C8D4E3\",\"startlinecolor\":\"#2a3f5f\"},\"type\":\"carpet\"}],\"choropleth\":[{\"colorbar\":{\"outlinewidth\":0,\"ticks\":\"\"},\"type\":\"choropleth\"}],\"contourcarpet\":[{\"colorbar\":{\"outlinewidth\":0,\"ticks\":\"\"},\"type\":\"contourcarpet\"}],\"contour\":[{\"colorbar\":{\"outlinewidth\":0,\"ticks\":\"\"},\"colorscale\":[[0.0,\"#0d0887\"],[0.1111111111111111,\"#46039f\"],[0.2222222222222222,\"#7201a8\"],[0.3333333333333333,\"#9c179e\"],[0.4444444444444444,\"#bd3786\"],[0.5555555555555556,\"#d8576b\"],[0.6666666666666666,\"#ed7953\"],[0.7777777777777778,\"#fb9f3a\"],[0.8888888888888888,\"#fdca26\"],[1.0,\"#f0f921\"]],\"type\":\"contour\"}],\"heatmapgl\":[{\"colorbar\":{\"outlinewidth\":0,\"ticks\":\"\"},\"colorscale\":[[0.0,\"#0d0887\"],[0.1111111111111111,\"#46039f\"],[0.2222222222222222,\"#7201a8\"],[0.3333333333333333,\"#9c179e\"],[0.4444444444444444,\"#bd3786\"],[0.5555555555555556,\"#d8576b\"],[0.6666666666666666,\"#ed7953\"],[0.7777777777777778,\"#fb9f3a\"],[0.8888888888888888,\"#fdca26\"],[1.0,\"#f0f921\"]],\"type\":\"heatmapgl\"}],\"heatmap\":[{\"colorbar\":{\"outlinewidth\":0,\"ticks\":\"\"},\"colorscale\":[[0.0,\"#0d0887\"],[0.1111111111111111,\"#46039f\"],[0.2222222222222222,\"#7201a8\"],[0.3333333333333333,\"#9c179e\"],[0.4444444444444444,\"#bd3786\"],[0.5555555555555556,\"#d8576b\"],[0.6666666666666666,\"#ed7953\"],[0.7777777777777778,\"#fb9f3a\"],[0.8888888888888888,\"#fdca26\"],[1.0,\"#f0f921\"]],\"type\":\"heatmap\"}],\"histogram2dcontour\":[{\"colorbar\":{\"outlinewidth\":0,\"ticks\":\"\"},\"colorscale\":[[0.0,\"#0d0887\"],[0.1111111111111111,\"#46039f\"],[0.2222222222222222,\"#7201a8\"],[0.3333333333333333,\"#9c179e\"],[0.4444444444444444,\"#bd3786\"],[0.5555555555555556,\"#d8576b\"],[0.6666666666666666,\"#ed7953\"],[0.7777777777777778,\"#fb9f3a\"],[0.8888888888888888,\"#fdca26\"],[1.0,\"#f0f921\"]],\"type\":\"histogram2dcontour\"}],\"histogram2d\":[{\"colorbar\":{\"outlinewidth\":0,\"ticks\":\"\"},\"colorscale\":[[0.0,\"#0d0887\"],[0.1111111111111111,\"#46039f\"],[0.2222222222222222,\"#7201a8\"],[0.3333333333333333,\"#9c179e\"],[0.4444444444444444,\"#bd3786\"],[0.5555555555555556,\"#d8576b\"],[0.6666666666666666,\"#ed7953\"],[0.7777777777777778,\"#fb9f3a\"],[0.8888888888888888,\"#fdca26\"],[1.0,\"#f0f921\"]],\"type\":\"histogram2d\"}],\"histogram\":[{\"marker\":{\"pattern\":{\"fillmode\":\"overlay\",\"size\":10,\"solidity\":0.2}},\"type\":\"histogram\"}],\"mesh3d\":[{\"colorbar\":{\"outlinewidth\":0,\"ticks\":\"\"},\"type\":\"mesh3d\"}],\"parcoords\":[{\"line\":{\"colorbar\":{\"outlinewidth\":0,\"ticks\":\"\"}},\"type\":\"parcoords\"}],\"pie\":[{\"automargin\":true,\"type\":\"pie\"}],\"scatter3d\":[{\"line\":{\"colorbar\":{\"outlinewidth\":0,\"ticks\":\"\"}},\"marker\":{\"colorbar\":{\"outlinewidth\":0,\"ticks\":\"\"}},\"type\":\"scatter3d\"}],\"scattercarpet\":[{\"marker\":{\"colorbar\":{\"outlinewidth\":0,\"ticks\":\"\"}},\"type\":\"scattercarpet\"}],\"scattergeo\":[{\"marker\":{\"colorbar\":{\"outlinewidth\":0,\"ticks\":\"\"}},\"type\":\"scattergeo\"}],\"scattergl\":[{\"marker\":{\"colorbar\":{\"outlinewidth\":0,\"ticks\":\"\"}},\"type\":\"scattergl\"}],\"scattermapbox\":[{\"marker\":{\"colorbar\":{\"outlinewidth\":0,\"ticks\":\"\"}},\"type\":\"scattermapbox\"}],\"scatterpolargl\":[{\"marker\":{\"colorbar\":{\"outlinewidth\":0,\"ticks\":\"\"}},\"type\":\"scatterpolargl\"}],\"scatterpolar\":[{\"marker\":{\"colorbar\":{\"outlinewidth\":0,\"ticks\":\"\"}},\"type\":\"scatterpolar\"}],\"scatter\":[{\"fillpattern\":{\"fillmode\":\"overlay\",\"size\":10,\"solidity\":0.2},\"type\":\"scatter\"}],\"scatterternary\":[{\"marker\":{\"colorbar\":{\"outlinewidth\":0,\"ticks\":\"\"}},\"type\":\"scatterternary\"}],\"surface\":[{\"colorbar\":{\"outlinewidth\":0,\"ticks\":\"\"},\"colorscale\":[[0.0,\"#0d0887\"],[0.1111111111111111,\"#46039f\"],[0.2222222222222222,\"#7201a8\"],[0.3333333333333333,\"#9c179e\"],[0.4444444444444444,\"#bd3786\"],[0.5555555555555556,\"#d8576b\"],[0.6666666666666666,\"#ed7953\"],[0.7777777777777778,\"#fb9f3a\"],[0.8888888888888888,\"#fdca26\"],[1.0,\"#f0f921\"]],\"type\":\"surface\"}],\"table\":[{\"cells\":{\"fill\":{\"color\":\"#EBF0F8\"},\"line\":{\"color\":\"white\"}},\"header\":{\"fill\":{\"color\":\"#C8D4E3\"},\"line\":{\"color\":\"white\"}},\"type\":\"table\"}]},\"layout\":{\"annotationdefaults\":{\"arrowcolor\":\"#2a3f5f\",\"arrowhead\":0,\"arrowwidth\":1},\"autotypenumbers\":\"strict\",\"coloraxis\":{\"colorbar\":{\"outlinewidth\":0,\"ticks\":\"\"}},\"colorscale\":{\"diverging\":[[0,\"#8e0152\"],[0.1,\"#c51b7d\"],[0.2,\"#de77ae\"],[0.3,\"#f1b6da\"],[0.4,\"#fde0ef\"],[0.5,\"#f7f7f7\"],[0.6,\"#e6f5d0\"],[0.7,\"#b8e186\"],[0.8,\"#7fbc41\"],[0.9,\"#4d9221\"],[1,\"#276419\"]],\"sequential\":[[0.0,\"#0d0887\"],[0.1111111111111111,\"#46039f\"],[0.2222222222222222,\"#7201a8\"],[0.3333333333333333,\"#9c179e\"],[0.4444444444444444,\"#bd3786\"],[0.5555555555555556,\"#d8576b\"],[0.6666666666666666,\"#ed7953\"],[0.7777777777777778,\"#fb9f3a\"],[0.8888888888888888,\"#fdca26\"],[1.0,\"#f0f921\"]],\"sequentialminus\":[[0.0,\"#0d0887\"],[0.1111111111111111,\"#46039f\"],[0.2222222222222222,\"#7201a8\"],[0.3333333333333333,\"#9c179e\"],[0.4444444444444444,\"#bd3786\"],[0.5555555555555556,\"#d8576b\"],[0.6666666666666666,\"#ed7953\"],[0.7777777777777778,\"#fb9f3a\"],[0.8888888888888888,\"#fdca26\"],[1.0,\"#f0f921\"]]},\"colorway\":[\"#636efa\",\"#EF553B\",\"#00cc96\",\"#ab63fa\",\"#FFA15A\",\"#19d3f3\",\"#FF6692\",\"#B6E880\",\"#FF97FF\",\"#FECB52\"],\"font\":{\"color\":\"#2a3f5f\"},\"geo\":{\"bgcolor\":\"white\",\"lakecolor\":\"white\",\"landcolor\":\"white\",\"showlakes\":true,\"showland\":true,\"subunitcolor\":\"#C8D4E3\"},\"hoverlabel\":{\"align\":\"left\"},\"hovermode\":\"closest\",\"mapbox\":{\"style\":\"light\"},\"paper_bgcolor\":\"white\",\"plot_bgcolor\":\"white\",\"polar\":{\"angularaxis\":{\"gridcolor\":\"#EBF0F8\",\"linecolor\":\"#EBF0F8\",\"ticks\":\"\"},\"bgcolor\":\"white\",\"radialaxis\":{\"gridcolor\":\"#EBF0F8\",\"linecolor\":\"#EBF0F8\",\"ticks\":\"\"}},\"scene\":{\"xaxis\":{\"backgroundcolor\":\"white\",\"gridcolor\":\"#DFE8F3\",\"gridwidth\":2,\"linecolor\":\"#EBF0F8\",\"showbackground\":true,\"ticks\":\"\",\"zerolinecolor\":\"#EBF0F8\"},\"yaxis\":{\"backgroundcolor\":\"white\",\"gridcolor\":\"#DFE8F3\",\"gridwidth\":2,\"linecolor\":\"#EBF0F8\",\"showbackground\":true,\"ticks\":\"\",\"zerolinecolor\":\"#EBF0F8\"},\"zaxis\":{\"backgroundcolor\":\"white\",\"gridcolor\":\"#DFE8F3\",\"gridwidth\":2,\"linecolor\":\"#EBF0F8\",\"showbackground\":true,\"ticks\":\"\",\"zerolinecolor\":\"#EBF0F8\"}},\"shapedefaults\":{\"line\":{\"color\":\"#2a3f5f\"}},\"ternary\":{\"aaxis\":{\"gridcolor\":\"#DFE8F3\",\"linecolor\":\"#A2B1C6\",\"ticks\":\"\"},\"baxis\":{\"gridcolor\":\"#DFE8F3\",\"linecolor\":\"#A2B1C6\",\"ticks\":\"\"},\"bgcolor\":\"white\",\"caxis\":{\"gridcolor\":\"#DFE8F3\",\"linecolor\":\"#A2B1C6\",\"ticks\":\"\"}},\"title\":{\"x\":0.05},\"xaxis\":{\"automargin\":true,\"gridcolor\":\"#EBF0F8\",\"linecolor\":\"#EBF0F8\",\"ticks\":\"\",\"title\":{\"standoff\":15},\"zerolinecolor\":\"#EBF0F8\",\"zerolinewidth\":2},\"yaxis\":{\"automargin\":true,\"gridcolor\":\"#EBF0F8\",\"linecolor\":\"#EBF0F8\",\"ticks\":\"\",\"title\":{\"standoff\":15},\"zerolinecolor\":\"#EBF0F8\",\"zerolinewidth\":2}}},\"title\":{\"text\":\"Cross-Validation (N=5) Mean Logloss with Error Bands\"},\"xaxis\":{\"title\":{\"text\":\"Training Steps\"}},\"yaxis\":{\"title\":{\"text\":\"Logloss\"}}},                        {\"responsive\": true}                    ).then(function(){\n",
       "                            \n",
       "var gd = document.getElementById('c22350e2-bb0a-4fc6-8844-acfb644f69b0');\n",
       "var x = new MutationObserver(function (mutations, observer) {{\n",
       "        var display = window.getComputedStyle(gd).display;\n",
       "        if (!display || display === 'none') {{\n",
       "            console.log([gd, 'removed!']);\n",
       "            Plotly.purge(gd);\n",
       "            observer.disconnect();\n",
       "        }}\n",
       "}});\n",
       "\n",
       "// Listen for the removal of the full notebook cells\n",
       "var notebookContainer = gd.closest('#notebook-container');\n",
       "if (notebookContainer) {{\n",
       "    x.observe(notebookContainer, {childList: true});\n",
       "}}\n",
       "\n",
       "// Listen for the clearing of the current output cell\n",
       "var outputEl = gd.closest('.output');\n",
       "if (outputEl) {{\n",
       "    x.observe(outputEl, {childList: true});\n",
       "}}\n",
       "\n",
       "                        })                };                });            </script>        </div>"
      ]
     },
     "metadata": {},
     "output_type": "display_data"
    },
    {
     "data": {
      "application/vnd.plotly.v1+json": {
       "config": {
        "plotlyServerURL": "https://plot.ly"
       },
       "data": [
        {
         "line": {
          "color": "blue"
         },
         "mode": "lines",
         "name": "Mean logloss",
         "type": "scatter",
         "x": [
          0,
          1,
          2,
          3,
          4,
          5,
          6,
          7,
          8,
          9,
          10,
          11,
          12,
          13,
          14,
          15,
          16,
          17,
          18,
          19,
          20,
          21,
          22,
          23,
          24,
          25,
          26,
          27,
          28,
          29,
          30,
          31,
          32,
          33,
          34,
          35,
          36,
          37,
          38,
          39,
          40,
          41,
          42,
          43,
          44,
          45,
          46,
          47,
          48,
          49,
          50,
          51,
          52,
          53,
          54,
          55,
          56,
          57,
          58,
          59,
          60,
          61,
          62,
          63,
          64,
          65,
          66,
          67,
          68,
          69,
          70,
          71,
          72,
          73,
          74,
          75,
          76,
          77,
          78,
          79,
          80,
          81,
          82,
          83,
          84,
          85,
          86,
          87,
          88,
          89,
          90,
          91,
          92,
          93,
          94,
          95,
          96,
          97,
          98,
          99,
          100,
          101,
          102,
          103,
          104,
          105,
          106,
          107,
          108,
          109,
          110,
          111,
          112,
          113,
          114,
          115,
          116,
          117,
          118,
          119,
          120,
          121,
          122,
          123
         ],
         "y": [
          0.2711255577636066,
          0.1222877357253707,
          0.0645381935276502,
          0.0377379165038937,
          0.0310291872701033,
          0.0240783027968858,
          0.0207127871001906,
          0.017967443705339,
          0.0161011503043023,
          0.0151830295644431,
          0.0144819874391178,
          0.0133409127832384,
          0.0122430061546699,
          0.0118320830386068,
          0.0116050316300795,
          0.0113148043429019,
          0.0112036347748444,
          0.0112034498202727,
          0.0111842788712399,
          0.0111660585252188,
          0.011056481916448,
          0.0110563598160969,
          0.0110562069226778,
          0.0110561612429767,
          0.011056056835009,
          0.0110560352211583,
          0.0110559962306547,
          0.0110559766734119,
          0.0110559576733145,
          0.0110559576733145,
          0.0110559410233232,
          0.0110559410233232,
          0.0110558680567089,
          0.0110557951085161,
          0.0110557951085161,
          0.0110557951085161,
          0.0110557951085161,
          0.0110557951085161,
          0.0110557951085161,
          0.0110557951085161,
          0.0110557951085161,
          0.0110557951085161,
          0.0110557951085161,
          0.0110557951085161,
          0.0110557951085161,
          0.0110557951085161,
          0.0110557951085161,
          0.0110557951085161,
          0.0110557951085161,
          0.0110557951085161,
          0.0110557951085161,
          0.0110557951085161,
          0.0110557951085161,
          0.0110557951085161,
          0.0110557726928863,
          0.0110557531494158,
          0.0110557414738292,
          0.0110557414738292,
          0.0110557414738292,
          0.0110557414738292,
          0.0110557414738292,
          0.0110557414738292,
          0.0110557414738292,
          0.0110557304664051,
          0.0110557304664051,
          0.0110557304664051,
          0.0110557304664051,
          0.0110557304664051,
          0.0110557304664051,
          0.0110557304664051,
          0.0110557304664051,
          0.0110557304664051,
          0.0110557304664051,
          0.0110557304664051,
          0.0110557304664051,
          0.0110557304664051,
          0.0110557304664051,
          0.0110557304664051,
          0.0110557304664051,
          0.0110557304664051,
          0.0110557304664051,
          0.0110557304664051,
          0.0110557304664051,
          0.0110557304664051,
          0.0110557304664051,
          0.0110557304664051,
          0.0110557304664051,
          0.0110557304664051,
          0.0110557304664051,
          0.0110557304664051,
          0.0110557304664051,
          0.0110557304664051,
          0.0110557304664051,
          0.0110557304664051,
          0.0110557304664051,
          0.0110557304664051,
          0.0110557304664051,
          0.0110557304664051,
          0.0110557304664051,
          0.0110557304664051,
          0.0110557304664051,
          0.0110557304664051,
          0.0110557304664051,
          0.0110557304664051,
          0.0110557304664051,
          0.0110557304664051,
          0.0110557304664051,
          0.0110557304664051,
          0.0110557304664051,
          0.0110557304664051,
          0.0110557304664051,
          0.0110557304664051,
          0.0110557304664051,
          0.0110557304664051,
          0.0110557304664051,
          0.0110557304664051,
          0.0110557304664051,
          0.0110557304664051,
          0.0110557266311488,
          0.0110557266311488,
          0.0110557266311488,
          0.0110557266311488,
          0.0110557266311488,
          0.0110557266311488
         ]
        },
        {
         "fill": "toself",
         "fillcolor": "rgba(0, 0, 255, 0.2)",
         "line": {
          "color": "rgba(255, 255, 255, 0)"
         },
         "showlegend": false,
         "type": "scatter",
         "x": [
          0.2711255577636066,
          0.1222877357253707,
          0.0645381935276502,
          0.0377379165038937,
          0.0310291872701033,
          0.0240783027968858,
          0.0207127871001906,
          0.017967443705339,
          0.0161011503043023,
          0.0151830295644431,
          0.0144819874391178,
          0.0133409127832384,
          0.0122430061546699,
          0.0118320830386068,
          0.0116050316300795,
          0.0113148043429019,
          0.0112036347748444,
          0.0112034498202727,
          0.0111842788712399,
          0.0111660585252188,
          0.011056481916448,
          0.0110563598160969,
          0.0110562069226778,
          0.0110561612429767,
          0.011056056835009,
          0.0110560352211583,
          0.0110559962306547,
          0.0110559766734119,
          0.0110559576733145,
          0.0110559576733145,
          0.0110559410233232,
          0.0110559410233232,
          0.0110558680567089,
          0.0110557951085161,
          0.0110557951085161,
          0.0110557951085161,
          0.0110557951085161,
          0.0110557951085161,
          0.0110557951085161,
          0.0110557951085161,
          0.0110557951085161,
          0.0110557951085161,
          0.0110557951085161,
          0.0110557951085161,
          0.0110557951085161,
          0.0110557951085161,
          0.0110557951085161,
          0.0110557951085161,
          0.0110557951085161,
          0.0110557951085161,
          0.0110557951085161,
          0.0110557951085161,
          0.0110557951085161,
          0.0110557951085161,
          0.0110557726928863,
          0.0110557531494158,
          0.0110557414738292,
          0.0110557414738292,
          0.0110557414738292,
          0.0110557414738292,
          0.0110557414738292,
          0.0110557414738292,
          0.0110557414738292,
          0.0110557304664051,
          0.0110557304664051,
          0.0110557304664051,
          0.0110557304664051,
          0.0110557304664051,
          0.0110557304664051,
          0.0110557304664051,
          0.0110557304664051,
          0.0110557304664051,
          0.0110557304664051,
          0.0110557304664051,
          0.0110557304664051,
          0.0110557304664051,
          0.0110557304664051,
          0.0110557304664051,
          0.0110557304664051,
          0.0110557304664051,
          0.0110557304664051,
          0.0110557304664051,
          0.0110557304664051,
          0.0110557304664051,
          0.0110557304664051,
          0.0110557304664051,
          0.0110557304664051,
          0.0110557304664051,
          0.0110557304664051,
          0.0110557304664051,
          0.0110557304664051,
          0.0110557304664051,
          0.0110557304664051,
          0.0110557304664051,
          0.0110557304664051,
          0.0110557304664051,
          0.0110557304664051,
          0.0110557304664051,
          0.0110557304664051,
          0.0110557304664051,
          0.0110557304664051,
          0.0110557304664051,
          0.0110557304664051,
          0.0110557304664051,
          0.0110557304664051,
          0.0110557304664051,
          0.0110557304664051,
          0.0110557304664051,
          0.0110557304664051,
          0.0110557304664051,
          0.0110557304664051,
          0.0110557304664051,
          0.0110557304664051,
          0.0110557304664051,
          0.0110557304664051,
          0.0110557304664051,
          0.0110557304664051,
          0.0110557304664051,
          0.0110557266311488,
          0.0110557266311488,
          0.0110557266311488,
          0.0110557266311488,
          0.0110557266311488,
          0.0110557266311488,
          123,
          122,
          121,
          120,
          119,
          118,
          117,
          116,
          115,
          114,
          113,
          112,
          111,
          110,
          109,
          108,
          107,
          106,
          105,
          104,
          103,
          102,
          101,
          100,
          99,
          98,
          97,
          96,
          95,
          94,
          93,
          92,
          91,
          90,
          89,
          88,
          87,
          86,
          85,
          84,
          83,
          82,
          81,
          80,
          79,
          78,
          77,
          76,
          75,
          74,
          73,
          72,
          71,
          70,
          69,
          68,
          67,
          66,
          65,
          64,
          63,
          62,
          61,
          60,
          59,
          58,
          57,
          56,
          55,
          54,
          53,
          52,
          51,
          50,
          49,
          48,
          47,
          46,
          45,
          44,
          43,
          42,
          41,
          40,
          39,
          38,
          37,
          36,
          35,
          34,
          33,
          32,
          31,
          30,
          29,
          28,
          27,
          26,
          25,
          24,
          23,
          22,
          21,
          20,
          19,
          18,
          17,
          16,
          15,
          14,
          13,
          12,
          11,
          10,
          9,
          8,
          7,
          6,
          5,
          4,
          3,
          2,
          1,
          0
         ],
         "y": [
          0.36265961597441837,
          0.1997519773321335,
          0.1049813065971815,
          0.0639840545898802,
          0.056785605662561606,
          0.044639448248445,
          0.0394797899017279,
          0.0347982709289168,
          0.0318362516392482,
          0.0306298349088956,
          0.0293524822738066,
          0.0270497336457531,
          0.024975708084852,
          0.0243864125747994,
          0.0239548031883304,
          0.0234187741981755,
          0.0233845609264019,
          0.0233843711573811,
          0.0233613498717683,
          0.023362111666865498,
          0.023325221636693,
          0.0233249953042668,
          0.0233246858502499,
          0.0233246835697852,
          0.0233246114319556,
          0.023324611609113602,
          0.0233246119290832,
          0.0233246120897627,
          0.0233246122459835,
          0.0233246122459835,
          0.023324612382978,
          0.023324612382978,
          0.0233245892933244,
          0.0233245662114663,
          0.0233245662114663,
          0.0233245662114663,
          0.0233245662114663,
          0.0233245662114663,
          0.0233245662114663,
          0.0233245662114663,
          0.0233245662114663,
          0.0233245662114663,
          0.0233245662114663,
          0.0233245662114663,
          0.0233245662114663,
          0.0233245662114663,
          0.0233245662114663,
          0.0233245662114663,
          0.0233245662114663,
          0.0233245662114663,
          0.0233245662114663,
          0.0233245662114663,
          0.0233245662114663,
          0.0233245662114663,
          0.0233245663955251,
          0.023324566556133103,
          0.0233245666521422,
          0.0233245666521422,
          0.0233245666521422,
          0.0233245666521422,
          0.0233245666521422,
          0.0233245666521422,
          0.0233245666521422,
          0.023324566742697297,
          0.023324566742697297,
          0.023324566742697297,
          0.023324566742697297,
          0.023324566742697297,
          0.023324566742697297,
          0.023324566742697297,
          0.023324566742697297,
          0.023324566742697297,
          0.023324566742697297,
          0.023324566742697297,
          0.023324566742697297,
          0.023324566742697297,
          0.023324566742697297,
          0.023324566742697297,
          0.023324566742697297,
          0.023324566742697297,
          0.023324566742697297,
          0.023324566742697297,
          0.023324566742697297,
          0.023324566742697297,
          0.023324566742697297,
          0.023324566742697297,
          0.023324566742697297,
          0.023324566742697297,
          0.023324566742697297,
          0.023324566742697297,
          0.023324566742697297,
          0.023324566742697297,
          0.023324566742697297,
          0.023324566742697297,
          0.023324566742697297,
          0.023324566742697297,
          0.023324566742697297,
          0.023324566742697297,
          0.023324566742697297,
          0.023324566742697297,
          0.023324566742697297,
          0.023324566742697297,
          0.023324566742697297,
          0.023324566742697297,
          0.023324566742697297,
          0.023324566742697297,
          0.023324566742697297,
          0.023324566742697297,
          0.023324566742697297,
          0.023324566742697297,
          0.023324566742697297,
          0.023324566742697297,
          0.023324566742697297,
          0.023324566742697297,
          0.023324566742697297,
          0.023324566742697297,
          0.023324566742697297,
          0.023324566742697297,
          0.0233245667742582,
          0.0233245667742582,
          0.0233245667742582,
          0.0233245667742582,
          0.0233245667742582,
          0.0233245667742582,
          0.1795914995527948,
          0.04482349411860791,
          0.024095080458118895,
          0.0114917784179072,
          0.005272768877644999,
          0.0035171573453266006,
          0.001945784298653299,
          0.001136616481761197,
          0.00036604896935640147,
          -0.0002637757800093999,
          -0.00038850739557100104,
          -0.0003679080792763009,
          -0.0004896957755122014,
          -0.0007222464975858,
          -0.0007447399281713986,
          -0.0007891655123716985,
          -0.0009772913767131016,
          -0.0009774715168356998,
          -0.0009927921292884993,
          -0.0010299946164278994,
          -0.001212257803796999,
          -0.0012122756720730002,
          -0.0012122720048943006,
          -0.0012123610838318012,
          -0.0012124977619376014,
          -0.001212541166796999,
          -0.0012126194677737987,
          -0.0012126587429388998,
          -0.0012126968993544998,
          -0.0012126968993544998,
          -0.0012127303363316001,
          -0.0012127303363316001,
          -0.0012128531799065999,
          -0.0012129759944340991,
          -0.0012129759944340991,
          -0.0012129759944340991,
          -0.0012129759944340991,
          -0.0012129759944340991,
          -0.0012129759944340991,
          -0.0012129759944340991,
          -0.0012129759944340991,
          -0.0012129759944340991,
          -0.0012129759944340991,
          -0.0012129759944340991,
          -0.0012129759944340991,
          -0.0012129759944340991,
          -0.0012129759944340991,
          -0.0012129759944340991,
          -0.0012129759944340991,
          -0.0012129759944340991,
          -0.0012129759944340991,
          -0.0012129759944340991,
          -0.0012129759944340991,
          -0.0012129759944340991,
          -0.001213021009752499,
          -0.0012130602573014997,
          -0.0012130837044837996,
          -0.0012130837044837996,
          -0.0012130837044837996,
          -0.0012130837044837996,
          -0.0012130837044837996,
          -0.0012130837044837996,
          -0.0012130837044837996,
          -0.0012131058098870991,
          -0.0012131058098870991,
          -0.0012131058098870991,
          -0.0012131058098870991,
          -0.0012131058098870991,
          -0.0012131058098870991,
          -0.0012131058098870991,
          -0.0012131058098870991,
          -0.0012131058098870991,
          -0.0012131058098870991,
          -0.0012131058098870991,
          -0.0012131058098870991,
          -0.0012131058098870991,
          -0.0012131058098870991,
          -0.0012131058098870991,
          -0.0012131058098870991,
          -0.0012131058098870991,
          -0.0012131058098870991,
          -0.0012131058098870991,
          -0.0012131058098870991,
          -0.0012131058098870991,
          -0.0012131058098870991,
          -0.0012131058098870991,
          -0.0012131058098870991,
          -0.0012131058098870991,
          -0.0012131058098870991,
          -0.0012131058098870991,
          -0.0012131058098870991,
          -0.0012131058098870991,
          -0.0012131058098870991,
          -0.0012131058098870991,
          -0.0012131058098870991,
          -0.0012131058098870991,
          -0.0012131058098870991,
          -0.0012131058098870991,
          -0.0012131058098870991,
          -0.0012131058098870991,
          -0.0012131058098870991,
          -0.0012131058098870991,
          -0.0012131058098870991,
          -0.0012131058098870991,
          -0.0012131058098870991,
          -0.0012131058098870991,
          -0.0012131058098870991,
          -0.0012131058098870991,
          -0.0012131058098870991,
          -0.0012131058098870991,
          -0.0012131058098870991,
          -0.0012131058098870991,
          -0.0012131058098870991,
          -0.0012131058098870991,
          -0.0012131058098870991,
          -0.0012131058098870991,
          -0.0012131058098870991,
          -0.0012131058098870991,
          -0.0012131135119606007,
          -0.0012131135119606007,
          -0.0012131135119606007,
          -0.0012131135119606007,
          -0.0012131135119606007,
          -0.0012131135119606007
         ]
        }
       ],
       "layout": {
        "template": {
         "data": {
          "bar": [
           {
            "error_x": {
             "color": "#2a3f5f"
            },
            "error_y": {
             "color": "#2a3f5f"
            },
            "marker": {
             "line": {
              "color": "white",
              "width": 0.5
             },
             "pattern": {
              "fillmode": "overlay",
              "size": 10,
              "solidity": 0.2
             }
            },
            "type": "bar"
           }
          ],
          "barpolar": [
           {
            "marker": {
             "line": {
              "color": "white",
              "width": 0.5
             },
             "pattern": {
              "fillmode": "overlay",
              "size": 10,
              "solidity": 0.2
             }
            },
            "type": "barpolar"
           }
          ],
          "carpet": [
           {
            "aaxis": {
             "endlinecolor": "#2a3f5f",
             "gridcolor": "#C8D4E3",
             "linecolor": "#C8D4E3",
             "minorgridcolor": "#C8D4E3",
             "startlinecolor": "#2a3f5f"
            },
            "baxis": {
             "endlinecolor": "#2a3f5f",
             "gridcolor": "#C8D4E3",
             "linecolor": "#C8D4E3",
             "minorgridcolor": "#C8D4E3",
             "startlinecolor": "#2a3f5f"
            },
            "type": "carpet"
           }
          ],
          "choropleth": [
           {
            "colorbar": {
             "outlinewidth": 0,
             "ticks": ""
            },
            "type": "choropleth"
           }
          ],
          "contour": [
           {
            "colorbar": {
             "outlinewidth": 0,
             "ticks": ""
            },
            "colorscale": [
             [
              0,
              "#0d0887"
             ],
             [
              0.1111111111111111,
              "#46039f"
             ],
             [
              0.2222222222222222,
              "#7201a8"
             ],
             [
              0.3333333333333333,
              "#9c179e"
             ],
             [
              0.4444444444444444,
              "#bd3786"
             ],
             [
              0.5555555555555556,
              "#d8576b"
             ],
             [
              0.6666666666666666,
              "#ed7953"
             ],
             [
              0.7777777777777778,
              "#fb9f3a"
             ],
             [
              0.8888888888888888,
              "#fdca26"
             ],
             [
              1,
              "#f0f921"
             ]
            ],
            "type": "contour"
           }
          ],
          "contourcarpet": [
           {
            "colorbar": {
             "outlinewidth": 0,
             "ticks": ""
            },
            "type": "contourcarpet"
           }
          ],
          "heatmap": [
           {
            "colorbar": {
             "outlinewidth": 0,
             "ticks": ""
            },
            "colorscale": [
             [
              0,
              "#0d0887"
             ],
             [
              0.1111111111111111,
              "#46039f"
             ],
             [
              0.2222222222222222,
              "#7201a8"
             ],
             [
              0.3333333333333333,
              "#9c179e"
             ],
             [
              0.4444444444444444,
              "#bd3786"
             ],
             [
              0.5555555555555556,
              "#d8576b"
             ],
             [
              0.6666666666666666,
              "#ed7953"
             ],
             [
              0.7777777777777778,
              "#fb9f3a"
             ],
             [
              0.8888888888888888,
              "#fdca26"
             ],
             [
              1,
              "#f0f921"
             ]
            ],
            "type": "heatmap"
           }
          ],
          "heatmapgl": [
           {
            "colorbar": {
             "outlinewidth": 0,
             "ticks": ""
            },
            "colorscale": [
             [
              0,
              "#0d0887"
             ],
             [
              0.1111111111111111,
              "#46039f"
             ],
             [
              0.2222222222222222,
              "#7201a8"
             ],
             [
              0.3333333333333333,
              "#9c179e"
             ],
             [
              0.4444444444444444,
              "#bd3786"
             ],
             [
              0.5555555555555556,
              "#d8576b"
             ],
             [
              0.6666666666666666,
              "#ed7953"
             ],
             [
              0.7777777777777778,
              "#fb9f3a"
             ],
             [
              0.8888888888888888,
              "#fdca26"
             ],
             [
              1,
              "#f0f921"
             ]
            ],
            "type": "heatmapgl"
           }
          ],
          "histogram": [
           {
            "marker": {
             "pattern": {
              "fillmode": "overlay",
              "size": 10,
              "solidity": 0.2
             }
            },
            "type": "histogram"
           }
          ],
          "histogram2d": [
           {
            "colorbar": {
             "outlinewidth": 0,
             "ticks": ""
            },
            "colorscale": [
             [
              0,
              "#0d0887"
             ],
             [
              0.1111111111111111,
              "#46039f"
             ],
             [
              0.2222222222222222,
              "#7201a8"
             ],
             [
              0.3333333333333333,
              "#9c179e"
             ],
             [
              0.4444444444444444,
              "#bd3786"
             ],
             [
              0.5555555555555556,
              "#d8576b"
             ],
             [
              0.6666666666666666,
              "#ed7953"
             ],
             [
              0.7777777777777778,
              "#fb9f3a"
             ],
             [
              0.8888888888888888,
              "#fdca26"
             ],
             [
              1,
              "#f0f921"
             ]
            ],
            "type": "histogram2d"
           }
          ],
          "histogram2dcontour": [
           {
            "colorbar": {
             "outlinewidth": 0,
             "ticks": ""
            },
            "colorscale": [
             [
              0,
              "#0d0887"
             ],
             [
              0.1111111111111111,
              "#46039f"
             ],
             [
              0.2222222222222222,
              "#7201a8"
             ],
             [
              0.3333333333333333,
              "#9c179e"
             ],
             [
              0.4444444444444444,
              "#bd3786"
             ],
             [
              0.5555555555555556,
              "#d8576b"
             ],
             [
              0.6666666666666666,
              "#ed7953"
             ],
             [
              0.7777777777777778,
              "#fb9f3a"
             ],
             [
              0.8888888888888888,
              "#fdca26"
             ],
             [
              1,
              "#f0f921"
             ]
            ],
            "type": "histogram2dcontour"
           }
          ],
          "mesh3d": [
           {
            "colorbar": {
             "outlinewidth": 0,
             "ticks": ""
            },
            "type": "mesh3d"
           }
          ],
          "parcoords": [
           {
            "line": {
             "colorbar": {
              "outlinewidth": 0,
              "ticks": ""
             }
            },
            "type": "parcoords"
           }
          ],
          "pie": [
           {
            "automargin": true,
            "type": "pie"
           }
          ],
          "scatter": [
           {
            "fillpattern": {
             "fillmode": "overlay",
             "size": 10,
             "solidity": 0.2
            },
            "type": "scatter"
           }
          ],
          "scatter3d": [
           {
            "line": {
             "colorbar": {
              "outlinewidth": 0,
              "ticks": ""
             }
            },
            "marker": {
             "colorbar": {
              "outlinewidth": 0,
              "ticks": ""
             }
            },
            "type": "scatter3d"
           }
          ],
          "scattercarpet": [
           {
            "marker": {
             "colorbar": {
              "outlinewidth": 0,
              "ticks": ""
             }
            },
            "type": "scattercarpet"
           }
          ],
          "scattergeo": [
           {
            "marker": {
             "colorbar": {
              "outlinewidth": 0,
              "ticks": ""
             }
            },
            "type": "scattergeo"
           }
          ],
          "scattergl": [
           {
            "marker": {
             "colorbar": {
              "outlinewidth": 0,
              "ticks": ""
             }
            },
            "type": "scattergl"
           }
          ],
          "scattermapbox": [
           {
            "marker": {
             "colorbar": {
              "outlinewidth": 0,
              "ticks": ""
             }
            },
            "type": "scattermapbox"
           }
          ],
          "scatterpolar": [
           {
            "marker": {
             "colorbar": {
              "outlinewidth": 0,
              "ticks": ""
             }
            },
            "type": "scatterpolar"
           }
          ],
          "scatterpolargl": [
           {
            "marker": {
             "colorbar": {
              "outlinewidth": 0,
              "ticks": ""
             }
            },
            "type": "scatterpolargl"
           }
          ],
          "scatterternary": [
           {
            "marker": {
             "colorbar": {
              "outlinewidth": 0,
              "ticks": ""
             }
            },
            "type": "scatterternary"
           }
          ],
          "surface": [
           {
            "colorbar": {
             "outlinewidth": 0,
             "ticks": ""
            },
            "colorscale": [
             [
              0,
              "#0d0887"
             ],
             [
              0.1111111111111111,
              "#46039f"
             ],
             [
              0.2222222222222222,
              "#7201a8"
             ],
             [
              0.3333333333333333,
              "#9c179e"
             ],
             [
              0.4444444444444444,
              "#bd3786"
             ],
             [
              0.5555555555555556,
              "#d8576b"
             ],
             [
              0.6666666666666666,
              "#ed7953"
             ],
             [
              0.7777777777777778,
              "#fb9f3a"
             ],
             [
              0.8888888888888888,
              "#fdca26"
             ],
             [
              1,
              "#f0f921"
             ]
            ],
            "type": "surface"
           }
          ],
          "table": [
           {
            "cells": {
             "fill": {
              "color": "#EBF0F8"
             },
             "line": {
              "color": "white"
             }
            },
            "header": {
             "fill": {
              "color": "#C8D4E3"
             },
             "line": {
              "color": "white"
             }
            },
            "type": "table"
           }
          ]
         },
         "layout": {
          "annotationdefaults": {
           "arrowcolor": "#2a3f5f",
           "arrowhead": 0,
           "arrowwidth": 1
          },
          "autotypenumbers": "strict",
          "coloraxis": {
           "colorbar": {
            "outlinewidth": 0,
            "ticks": ""
           }
          },
          "colorscale": {
           "diverging": [
            [
             0,
             "#8e0152"
            ],
            [
             0.1,
             "#c51b7d"
            ],
            [
             0.2,
             "#de77ae"
            ],
            [
             0.3,
             "#f1b6da"
            ],
            [
             0.4,
             "#fde0ef"
            ],
            [
             0.5,
             "#f7f7f7"
            ],
            [
             0.6,
             "#e6f5d0"
            ],
            [
             0.7,
             "#b8e186"
            ],
            [
             0.8,
             "#7fbc41"
            ],
            [
             0.9,
             "#4d9221"
            ],
            [
             1,
             "#276419"
            ]
           ],
           "sequential": [
            [
             0,
             "#0d0887"
            ],
            [
             0.1111111111111111,
             "#46039f"
            ],
            [
             0.2222222222222222,
             "#7201a8"
            ],
            [
             0.3333333333333333,
             "#9c179e"
            ],
            [
             0.4444444444444444,
             "#bd3786"
            ],
            [
             0.5555555555555556,
             "#d8576b"
            ],
            [
             0.6666666666666666,
             "#ed7953"
            ],
            [
             0.7777777777777778,
             "#fb9f3a"
            ],
            [
             0.8888888888888888,
             "#fdca26"
            ],
            [
             1,
             "#f0f921"
            ]
           ],
           "sequentialminus": [
            [
             0,
             "#0d0887"
            ],
            [
             0.1111111111111111,
             "#46039f"
            ],
            [
             0.2222222222222222,
             "#7201a8"
            ],
            [
             0.3333333333333333,
             "#9c179e"
            ],
            [
             0.4444444444444444,
             "#bd3786"
            ],
            [
             0.5555555555555556,
             "#d8576b"
            ],
            [
             0.6666666666666666,
             "#ed7953"
            ],
            [
             0.7777777777777778,
             "#fb9f3a"
            ],
            [
             0.8888888888888888,
             "#fdca26"
            ],
            [
             1,
             "#f0f921"
            ]
           ]
          },
          "colorway": [
           "#636efa",
           "#EF553B",
           "#00cc96",
           "#ab63fa",
           "#FFA15A",
           "#19d3f3",
           "#FF6692",
           "#B6E880",
           "#FF97FF",
           "#FECB52"
          ],
          "font": {
           "color": "#2a3f5f"
          },
          "geo": {
           "bgcolor": "white",
           "lakecolor": "white",
           "landcolor": "white",
           "showlakes": true,
           "showland": true,
           "subunitcolor": "#C8D4E3"
          },
          "hoverlabel": {
           "align": "left"
          },
          "hovermode": "closest",
          "mapbox": {
           "style": "light"
          },
          "paper_bgcolor": "white",
          "plot_bgcolor": "white",
          "polar": {
           "angularaxis": {
            "gridcolor": "#EBF0F8",
            "linecolor": "#EBF0F8",
            "ticks": ""
           },
           "bgcolor": "white",
           "radialaxis": {
            "gridcolor": "#EBF0F8",
            "linecolor": "#EBF0F8",
            "ticks": ""
           }
          },
          "scene": {
           "xaxis": {
            "backgroundcolor": "white",
            "gridcolor": "#DFE8F3",
            "gridwidth": 2,
            "linecolor": "#EBF0F8",
            "showbackground": true,
            "ticks": "",
            "zerolinecolor": "#EBF0F8"
           },
           "yaxis": {
            "backgroundcolor": "white",
            "gridcolor": "#DFE8F3",
            "gridwidth": 2,
            "linecolor": "#EBF0F8",
            "showbackground": true,
            "ticks": "",
            "zerolinecolor": "#EBF0F8"
           },
           "zaxis": {
            "backgroundcolor": "white",
            "gridcolor": "#DFE8F3",
            "gridwidth": 2,
            "linecolor": "#EBF0F8",
            "showbackground": true,
            "ticks": "",
            "zerolinecolor": "#EBF0F8"
           }
          },
          "shapedefaults": {
           "line": {
            "color": "#2a3f5f"
           }
          },
          "ternary": {
           "aaxis": {
            "gridcolor": "#DFE8F3",
            "linecolor": "#A2B1C6",
            "ticks": ""
           },
           "baxis": {
            "gridcolor": "#DFE8F3",
            "linecolor": "#A2B1C6",
            "ticks": ""
           },
           "bgcolor": "white",
           "caxis": {
            "gridcolor": "#DFE8F3",
            "linecolor": "#A2B1C6",
            "ticks": ""
           }
          },
          "title": {
           "x": 0.05
          },
          "xaxis": {
           "automargin": true,
           "gridcolor": "#EBF0F8",
           "linecolor": "#EBF0F8",
           "ticks": "",
           "title": {
            "standoff": 15
           },
           "zerolinecolor": "#EBF0F8",
           "zerolinewidth": 2
          },
          "yaxis": {
           "automargin": true,
           "gridcolor": "#EBF0F8",
           "linecolor": "#EBF0F8",
           "ticks": "",
           "title": {
            "standoff": 15
           },
           "zerolinecolor": "#EBF0F8",
           "zerolinewidth": 2
          }
         }
        },
        "title": {
         "text": "Cross-Validation (N=5) Mean Logloss with Error Bands"
        },
        "xaxis": {
         "title": {
          "text": "Training Steps"
         }
        },
        "yaxis": {
         "title": {
          "text": "Logloss"
         }
        }
       }
      },
      "text/html": [
       "<div>                            <div id=\"fbb271e6-4e42-4f01-80fa-c8347a9d72d3\" class=\"plotly-graph-div\" style=\"height:525px; width:100%;\"></div>            <script type=\"text/javascript\">                require([\"plotly\"], function(Plotly) {                    window.PLOTLYENV=window.PLOTLYENV || {};                                    if (document.getElementById(\"fbb271e6-4e42-4f01-80fa-c8347a9d72d3\")) {                    Plotly.newPlot(                        \"fbb271e6-4e42-4f01-80fa-c8347a9d72d3\",                        [{\"line\":{\"color\":\"blue\"},\"mode\":\"lines\",\"name\":\"Mean logloss\",\"x\":[0,1,2,3,4,5,6,7,8,9,10,11,12,13,14,15,16,17,18,19,20,21,22,23,24,25,26,27,28,29,30,31,32,33,34,35,36,37,38,39,40,41,42,43,44,45,46,47,48,49,50,51,52,53,54,55,56,57,58,59,60,61,62,63,64,65,66,67,68,69,70,71,72,73,74,75,76,77,78,79,80,81,82,83,84,85,86,87,88,89,90,91,92,93,94,95,96,97,98,99,100,101,102,103,104,105,106,107,108,109,110,111,112,113,114,115,116,117,118,119,120,121,122,123],\"y\":[0.2711255577636066,0.1222877357253707,0.0645381935276502,0.0377379165038937,0.0310291872701033,0.0240783027968858,0.0207127871001906,0.017967443705339,0.0161011503043023,0.0151830295644431,0.0144819874391178,0.0133409127832384,0.0122430061546699,0.0118320830386068,0.0116050316300795,0.0113148043429019,0.0112036347748444,0.0112034498202727,0.0111842788712399,0.0111660585252188,0.011056481916448,0.0110563598160969,0.0110562069226778,0.0110561612429767,0.011056056835009,0.0110560352211583,0.0110559962306547,0.0110559766734119,0.0110559576733145,0.0110559576733145,0.0110559410233232,0.0110559410233232,0.0110558680567089,0.0110557951085161,0.0110557951085161,0.0110557951085161,0.0110557951085161,0.0110557951085161,0.0110557951085161,0.0110557951085161,0.0110557951085161,0.0110557951085161,0.0110557951085161,0.0110557951085161,0.0110557951085161,0.0110557951085161,0.0110557951085161,0.0110557951085161,0.0110557951085161,0.0110557951085161,0.0110557951085161,0.0110557951085161,0.0110557951085161,0.0110557951085161,0.0110557726928863,0.0110557531494158,0.0110557414738292,0.0110557414738292,0.0110557414738292,0.0110557414738292,0.0110557414738292,0.0110557414738292,0.0110557414738292,0.0110557304664051,0.0110557304664051,0.0110557304664051,0.0110557304664051,0.0110557304664051,0.0110557304664051,0.0110557304664051,0.0110557304664051,0.0110557304664051,0.0110557304664051,0.0110557304664051,0.0110557304664051,0.0110557304664051,0.0110557304664051,0.0110557304664051,0.0110557304664051,0.0110557304664051,0.0110557304664051,0.0110557304664051,0.0110557304664051,0.0110557304664051,0.0110557304664051,0.0110557304664051,0.0110557304664051,0.0110557304664051,0.0110557304664051,0.0110557304664051,0.0110557304664051,0.0110557304664051,0.0110557304664051,0.0110557304664051,0.0110557304664051,0.0110557304664051,0.0110557304664051,0.0110557304664051,0.0110557304664051,0.0110557304664051,0.0110557304664051,0.0110557304664051,0.0110557304664051,0.0110557304664051,0.0110557304664051,0.0110557304664051,0.0110557304664051,0.0110557304664051,0.0110557304664051,0.0110557304664051,0.0110557304664051,0.0110557304664051,0.0110557304664051,0.0110557304664051,0.0110557304664051,0.0110557304664051,0.0110557304664051,0.0110557304664051,0.0110557266311488,0.0110557266311488,0.0110557266311488,0.0110557266311488,0.0110557266311488,0.0110557266311488],\"type\":\"scatter\"},{\"fill\":\"toself\",\"fillcolor\":\"rgba(0, 0, 255, 0.2)\",\"line\":{\"color\":\"rgba(255, 255, 255, 0)\"},\"showlegend\":false,\"x\":[0.2711255577636066,0.1222877357253707,0.0645381935276502,0.0377379165038937,0.0310291872701033,0.0240783027968858,0.0207127871001906,0.017967443705339,0.0161011503043023,0.0151830295644431,0.0144819874391178,0.0133409127832384,0.0122430061546699,0.0118320830386068,0.0116050316300795,0.0113148043429019,0.0112036347748444,0.0112034498202727,0.0111842788712399,0.0111660585252188,0.011056481916448,0.0110563598160969,0.0110562069226778,0.0110561612429767,0.011056056835009,0.0110560352211583,0.0110559962306547,0.0110559766734119,0.0110559576733145,0.0110559576733145,0.0110559410233232,0.0110559410233232,0.0110558680567089,0.0110557951085161,0.0110557951085161,0.0110557951085161,0.0110557951085161,0.0110557951085161,0.0110557951085161,0.0110557951085161,0.0110557951085161,0.0110557951085161,0.0110557951085161,0.0110557951085161,0.0110557951085161,0.0110557951085161,0.0110557951085161,0.0110557951085161,0.0110557951085161,0.0110557951085161,0.0110557951085161,0.0110557951085161,0.0110557951085161,0.0110557951085161,0.0110557726928863,0.0110557531494158,0.0110557414738292,0.0110557414738292,0.0110557414738292,0.0110557414738292,0.0110557414738292,0.0110557414738292,0.0110557414738292,0.0110557304664051,0.0110557304664051,0.0110557304664051,0.0110557304664051,0.0110557304664051,0.0110557304664051,0.0110557304664051,0.0110557304664051,0.0110557304664051,0.0110557304664051,0.0110557304664051,0.0110557304664051,0.0110557304664051,0.0110557304664051,0.0110557304664051,0.0110557304664051,0.0110557304664051,0.0110557304664051,0.0110557304664051,0.0110557304664051,0.0110557304664051,0.0110557304664051,0.0110557304664051,0.0110557304664051,0.0110557304664051,0.0110557304664051,0.0110557304664051,0.0110557304664051,0.0110557304664051,0.0110557304664051,0.0110557304664051,0.0110557304664051,0.0110557304664051,0.0110557304664051,0.0110557304664051,0.0110557304664051,0.0110557304664051,0.0110557304664051,0.0110557304664051,0.0110557304664051,0.0110557304664051,0.0110557304664051,0.0110557304664051,0.0110557304664051,0.0110557304664051,0.0110557304664051,0.0110557304664051,0.0110557304664051,0.0110557304664051,0.0110557304664051,0.0110557304664051,0.0110557304664051,0.0110557304664051,0.0110557304664051,0.0110557304664051,0.0110557266311488,0.0110557266311488,0.0110557266311488,0.0110557266311488,0.0110557266311488,0.0110557266311488,123.0,122.0,121.0,120.0,119.0,118.0,117.0,116.0,115.0,114.0,113.0,112.0,111.0,110.0,109.0,108.0,107.0,106.0,105.0,104.0,103.0,102.0,101.0,100.0,99.0,98.0,97.0,96.0,95.0,94.0,93.0,92.0,91.0,90.0,89.0,88.0,87.0,86.0,85.0,84.0,83.0,82.0,81.0,80.0,79.0,78.0,77.0,76.0,75.0,74.0,73.0,72.0,71.0,70.0,69.0,68.0,67.0,66.0,65.0,64.0,63.0,62.0,61.0,60.0,59.0,58.0,57.0,56.0,55.0,54.0,53.0,52.0,51.0,50.0,49.0,48.0,47.0,46.0,45.0,44.0,43.0,42.0,41.0,40.0,39.0,38.0,37.0,36.0,35.0,34.0,33.0,32.0,31.0,30.0,29.0,28.0,27.0,26.0,25.0,24.0,23.0,22.0,21.0,20.0,19.0,18.0,17.0,16.0,15.0,14.0,13.0,12.0,11.0,10.0,9.0,8.0,7.0,6.0,5.0,4.0,3.0,2.0,1.0,0.0],\"y\":[0.36265961597441837,0.1997519773321335,0.1049813065971815,0.0639840545898802,0.056785605662561606,0.044639448248445,0.0394797899017279,0.0347982709289168,0.0318362516392482,0.0306298349088956,0.0293524822738066,0.0270497336457531,0.024975708084852,0.0243864125747994,0.0239548031883304,0.0234187741981755,0.0233845609264019,0.0233843711573811,0.0233613498717683,0.023362111666865498,0.023325221636693,0.0233249953042668,0.0233246858502499,0.0233246835697852,0.0233246114319556,0.023324611609113602,0.0233246119290832,0.0233246120897627,0.0233246122459835,0.0233246122459835,0.023324612382978,0.023324612382978,0.0233245892933244,0.0233245662114663,0.0233245662114663,0.0233245662114663,0.0233245662114663,0.0233245662114663,0.0233245662114663,0.0233245662114663,0.0233245662114663,0.0233245662114663,0.0233245662114663,0.0233245662114663,0.0233245662114663,0.0233245662114663,0.0233245662114663,0.0233245662114663,0.0233245662114663,0.0233245662114663,0.0233245662114663,0.0233245662114663,0.0233245662114663,0.0233245662114663,0.0233245663955251,0.023324566556133103,0.0233245666521422,0.0233245666521422,0.0233245666521422,0.0233245666521422,0.0233245666521422,0.0233245666521422,0.0233245666521422,0.023324566742697297,0.023324566742697297,0.023324566742697297,0.023324566742697297,0.023324566742697297,0.023324566742697297,0.023324566742697297,0.023324566742697297,0.023324566742697297,0.023324566742697297,0.023324566742697297,0.023324566742697297,0.023324566742697297,0.023324566742697297,0.023324566742697297,0.023324566742697297,0.023324566742697297,0.023324566742697297,0.023324566742697297,0.023324566742697297,0.023324566742697297,0.023324566742697297,0.023324566742697297,0.023324566742697297,0.023324566742697297,0.023324566742697297,0.023324566742697297,0.023324566742697297,0.023324566742697297,0.023324566742697297,0.023324566742697297,0.023324566742697297,0.023324566742697297,0.023324566742697297,0.023324566742697297,0.023324566742697297,0.023324566742697297,0.023324566742697297,0.023324566742697297,0.023324566742697297,0.023324566742697297,0.023324566742697297,0.023324566742697297,0.023324566742697297,0.023324566742697297,0.023324566742697297,0.023324566742697297,0.023324566742697297,0.023324566742697297,0.023324566742697297,0.023324566742697297,0.023324566742697297,0.023324566742697297,0.023324566742697297,0.023324566742697297,0.0233245667742582,0.0233245667742582,0.0233245667742582,0.0233245667742582,0.0233245667742582,0.0233245667742582,0.1795914995527948,0.04482349411860791,0.024095080458118895,0.0114917784179072,0.005272768877644999,0.0035171573453266006,0.001945784298653299,0.001136616481761197,0.00036604896935640147,-0.0002637757800093999,-0.00038850739557100104,-0.0003679080792763009,-0.0004896957755122014,-0.0007222464975858,-0.0007447399281713986,-0.0007891655123716985,-0.0009772913767131016,-0.0009774715168356998,-0.0009927921292884993,-0.0010299946164278994,-0.001212257803796999,-0.0012122756720730002,-0.0012122720048943006,-0.0012123610838318012,-0.0012124977619376014,-0.001212541166796999,-0.0012126194677737987,-0.0012126587429388998,-0.0012126968993544998,-0.0012126968993544998,-0.0012127303363316001,-0.0012127303363316001,-0.0012128531799065999,-0.0012129759944340991,-0.0012129759944340991,-0.0012129759944340991,-0.0012129759944340991,-0.0012129759944340991,-0.0012129759944340991,-0.0012129759944340991,-0.0012129759944340991,-0.0012129759944340991,-0.0012129759944340991,-0.0012129759944340991,-0.0012129759944340991,-0.0012129759944340991,-0.0012129759944340991,-0.0012129759944340991,-0.0012129759944340991,-0.0012129759944340991,-0.0012129759944340991,-0.0012129759944340991,-0.0012129759944340991,-0.0012129759944340991,-0.001213021009752499,-0.0012130602573014997,-0.0012130837044837996,-0.0012130837044837996,-0.0012130837044837996,-0.0012130837044837996,-0.0012130837044837996,-0.0012130837044837996,-0.0012130837044837996,-0.0012131058098870991,-0.0012131058098870991,-0.0012131058098870991,-0.0012131058098870991,-0.0012131058098870991,-0.0012131058098870991,-0.0012131058098870991,-0.0012131058098870991,-0.0012131058098870991,-0.0012131058098870991,-0.0012131058098870991,-0.0012131058098870991,-0.0012131058098870991,-0.0012131058098870991,-0.0012131058098870991,-0.0012131058098870991,-0.0012131058098870991,-0.0012131058098870991,-0.0012131058098870991,-0.0012131058098870991,-0.0012131058098870991,-0.0012131058098870991,-0.0012131058098870991,-0.0012131058098870991,-0.0012131058098870991,-0.0012131058098870991,-0.0012131058098870991,-0.0012131058098870991,-0.0012131058098870991,-0.0012131058098870991,-0.0012131058098870991,-0.0012131058098870991,-0.0012131058098870991,-0.0012131058098870991,-0.0012131058098870991,-0.0012131058098870991,-0.0012131058098870991,-0.0012131058098870991,-0.0012131058098870991,-0.0012131058098870991,-0.0012131058098870991,-0.0012131058098870991,-0.0012131058098870991,-0.0012131058098870991,-0.0012131058098870991,-0.0012131058098870991,-0.0012131058098870991,-0.0012131058098870991,-0.0012131058098870991,-0.0012131058098870991,-0.0012131058098870991,-0.0012131058098870991,-0.0012131058098870991,-0.0012131058098870991,-0.0012131058098870991,-0.0012131135119606007,-0.0012131135119606007,-0.0012131135119606007,-0.0012131135119606007,-0.0012131135119606007,-0.0012131135119606007],\"type\":\"scatter\"}],                        {\"template\":{\"data\":{\"barpolar\":[{\"marker\":{\"line\":{\"color\":\"white\",\"width\":0.5},\"pattern\":{\"fillmode\":\"overlay\",\"size\":10,\"solidity\":0.2}},\"type\":\"barpolar\"}],\"bar\":[{\"error_x\":{\"color\":\"#2a3f5f\"},\"error_y\":{\"color\":\"#2a3f5f\"},\"marker\":{\"line\":{\"color\":\"white\",\"width\":0.5},\"pattern\":{\"fillmode\":\"overlay\",\"size\":10,\"solidity\":0.2}},\"type\":\"bar\"}],\"carpet\":[{\"aaxis\":{\"endlinecolor\":\"#2a3f5f\",\"gridcolor\":\"#C8D4E3\",\"linecolor\":\"#C8D4E3\",\"minorgridcolor\":\"#C8D4E3\",\"startlinecolor\":\"#2a3f5f\"},\"baxis\":{\"endlinecolor\":\"#2a3f5f\",\"gridcolor\":\"#C8D4E3\",\"linecolor\":\"#C8D4E3\",\"minorgridcolor\":\"#C8D4E3\",\"startlinecolor\":\"#2a3f5f\"},\"type\":\"carpet\"}],\"choropleth\":[{\"colorbar\":{\"outlinewidth\":0,\"ticks\":\"\"},\"type\":\"choropleth\"}],\"contourcarpet\":[{\"colorbar\":{\"outlinewidth\":0,\"ticks\":\"\"},\"type\":\"contourcarpet\"}],\"contour\":[{\"colorbar\":{\"outlinewidth\":0,\"ticks\":\"\"},\"colorscale\":[[0.0,\"#0d0887\"],[0.1111111111111111,\"#46039f\"],[0.2222222222222222,\"#7201a8\"],[0.3333333333333333,\"#9c179e\"],[0.4444444444444444,\"#bd3786\"],[0.5555555555555556,\"#d8576b\"],[0.6666666666666666,\"#ed7953\"],[0.7777777777777778,\"#fb9f3a\"],[0.8888888888888888,\"#fdca26\"],[1.0,\"#f0f921\"]],\"type\":\"contour\"}],\"heatmapgl\":[{\"colorbar\":{\"outlinewidth\":0,\"ticks\":\"\"},\"colorscale\":[[0.0,\"#0d0887\"],[0.1111111111111111,\"#46039f\"],[0.2222222222222222,\"#7201a8\"],[0.3333333333333333,\"#9c179e\"],[0.4444444444444444,\"#bd3786\"],[0.5555555555555556,\"#d8576b\"],[0.6666666666666666,\"#ed7953\"],[0.7777777777777778,\"#fb9f3a\"],[0.8888888888888888,\"#fdca26\"],[1.0,\"#f0f921\"]],\"type\":\"heatmapgl\"}],\"heatmap\":[{\"colorbar\":{\"outlinewidth\":0,\"ticks\":\"\"},\"colorscale\":[[0.0,\"#0d0887\"],[0.1111111111111111,\"#46039f\"],[0.2222222222222222,\"#7201a8\"],[0.3333333333333333,\"#9c179e\"],[0.4444444444444444,\"#bd3786\"],[0.5555555555555556,\"#d8576b\"],[0.6666666666666666,\"#ed7953\"],[0.7777777777777778,\"#fb9f3a\"],[0.8888888888888888,\"#fdca26\"],[1.0,\"#f0f921\"]],\"type\":\"heatmap\"}],\"histogram2dcontour\":[{\"colorbar\":{\"outlinewidth\":0,\"ticks\":\"\"},\"colorscale\":[[0.0,\"#0d0887\"],[0.1111111111111111,\"#46039f\"],[0.2222222222222222,\"#7201a8\"],[0.3333333333333333,\"#9c179e\"],[0.4444444444444444,\"#bd3786\"],[0.5555555555555556,\"#d8576b\"],[0.6666666666666666,\"#ed7953\"],[0.7777777777777778,\"#fb9f3a\"],[0.8888888888888888,\"#fdca26\"],[1.0,\"#f0f921\"]],\"type\":\"histogram2dcontour\"}],\"histogram2d\":[{\"colorbar\":{\"outlinewidth\":0,\"ticks\":\"\"},\"colorscale\":[[0.0,\"#0d0887\"],[0.1111111111111111,\"#46039f\"],[0.2222222222222222,\"#7201a8\"],[0.3333333333333333,\"#9c179e\"],[0.4444444444444444,\"#bd3786\"],[0.5555555555555556,\"#d8576b\"],[0.6666666666666666,\"#ed7953\"],[0.7777777777777778,\"#fb9f3a\"],[0.8888888888888888,\"#fdca26\"],[1.0,\"#f0f921\"]],\"type\":\"histogram2d\"}],\"histogram\":[{\"marker\":{\"pattern\":{\"fillmode\":\"overlay\",\"size\":10,\"solidity\":0.2}},\"type\":\"histogram\"}],\"mesh3d\":[{\"colorbar\":{\"outlinewidth\":0,\"ticks\":\"\"},\"type\":\"mesh3d\"}],\"parcoords\":[{\"line\":{\"colorbar\":{\"outlinewidth\":0,\"ticks\":\"\"}},\"type\":\"parcoords\"}],\"pie\":[{\"automargin\":true,\"type\":\"pie\"}],\"scatter3d\":[{\"line\":{\"colorbar\":{\"outlinewidth\":0,\"ticks\":\"\"}},\"marker\":{\"colorbar\":{\"outlinewidth\":0,\"ticks\":\"\"}},\"type\":\"scatter3d\"}],\"scattercarpet\":[{\"marker\":{\"colorbar\":{\"outlinewidth\":0,\"ticks\":\"\"}},\"type\":\"scattercarpet\"}],\"scattergeo\":[{\"marker\":{\"colorbar\":{\"outlinewidth\":0,\"ticks\":\"\"}},\"type\":\"scattergeo\"}],\"scattergl\":[{\"marker\":{\"colorbar\":{\"outlinewidth\":0,\"ticks\":\"\"}},\"type\":\"scattergl\"}],\"scattermapbox\":[{\"marker\":{\"colorbar\":{\"outlinewidth\":0,\"ticks\":\"\"}},\"type\":\"scattermapbox\"}],\"scatterpolargl\":[{\"marker\":{\"colorbar\":{\"outlinewidth\":0,\"ticks\":\"\"}},\"type\":\"scatterpolargl\"}],\"scatterpolar\":[{\"marker\":{\"colorbar\":{\"outlinewidth\":0,\"ticks\":\"\"}},\"type\":\"scatterpolar\"}],\"scatter\":[{\"fillpattern\":{\"fillmode\":\"overlay\",\"size\":10,\"solidity\":0.2},\"type\":\"scatter\"}],\"scatterternary\":[{\"marker\":{\"colorbar\":{\"outlinewidth\":0,\"ticks\":\"\"}},\"type\":\"scatterternary\"}],\"surface\":[{\"colorbar\":{\"outlinewidth\":0,\"ticks\":\"\"},\"colorscale\":[[0.0,\"#0d0887\"],[0.1111111111111111,\"#46039f\"],[0.2222222222222222,\"#7201a8\"],[0.3333333333333333,\"#9c179e\"],[0.4444444444444444,\"#bd3786\"],[0.5555555555555556,\"#d8576b\"],[0.6666666666666666,\"#ed7953\"],[0.7777777777777778,\"#fb9f3a\"],[0.8888888888888888,\"#fdca26\"],[1.0,\"#f0f921\"]],\"type\":\"surface\"}],\"table\":[{\"cells\":{\"fill\":{\"color\":\"#EBF0F8\"},\"line\":{\"color\":\"white\"}},\"header\":{\"fill\":{\"color\":\"#C8D4E3\"},\"line\":{\"color\":\"white\"}},\"type\":\"table\"}]},\"layout\":{\"annotationdefaults\":{\"arrowcolor\":\"#2a3f5f\",\"arrowhead\":0,\"arrowwidth\":1},\"autotypenumbers\":\"strict\",\"coloraxis\":{\"colorbar\":{\"outlinewidth\":0,\"ticks\":\"\"}},\"colorscale\":{\"diverging\":[[0,\"#8e0152\"],[0.1,\"#c51b7d\"],[0.2,\"#de77ae\"],[0.3,\"#f1b6da\"],[0.4,\"#fde0ef\"],[0.5,\"#f7f7f7\"],[0.6,\"#e6f5d0\"],[0.7,\"#b8e186\"],[0.8,\"#7fbc41\"],[0.9,\"#4d9221\"],[1,\"#276419\"]],\"sequential\":[[0.0,\"#0d0887\"],[0.1111111111111111,\"#46039f\"],[0.2222222222222222,\"#7201a8\"],[0.3333333333333333,\"#9c179e\"],[0.4444444444444444,\"#bd3786\"],[0.5555555555555556,\"#d8576b\"],[0.6666666666666666,\"#ed7953\"],[0.7777777777777778,\"#fb9f3a\"],[0.8888888888888888,\"#fdca26\"],[1.0,\"#f0f921\"]],\"sequentialminus\":[[0.0,\"#0d0887\"],[0.1111111111111111,\"#46039f\"],[0.2222222222222222,\"#7201a8\"],[0.3333333333333333,\"#9c179e\"],[0.4444444444444444,\"#bd3786\"],[0.5555555555555556,\"#d8576b\"],[0.6666666666666666,\"#ed7953\"],[0.7777777777777778,\"#fb9f3a\"],[0.8888888888888888,\"#fdca26\"],[1.0,\"#f0f921\"]]},\"colorway\":[\"#636efa\",\"#EF553B\",\"#00cc96\",\"#ab63fa\",\"#FFA15A\",\"#19d3f3\",\"#FF6692\",\"#B6E880\",\"#FF97FF\",\"#FECB52\"],\"font\":{\"color\":\"#2a3f5f\"},\"geo\":{\"bgcolor\":\"white\",\"lakecolor\":\"white\",\"landcolor\":\"white\",\"showlakes\":true,\"showland\":true,\"subunitcolor\":\"#C8D4E3\"},\"hoverlabel\":{\"align\":\"left\"},\"hovermode\":\"closest\",\"mapbox\":{\"style\":\"light\"},\"paper_bgcolor\":\"white\",\"plot_bgcolor\":\"white\",\"polar\":{\"angularaxis\":{\"gridcolor\":\"#EBF0F8\",\"linecolor\":\"#EBF0F8\",\"ticks\":\"\"},\"bgcolor\":\"white\",\"radialaxis\":{\"gridcolor\":\"#EBF0F8\",\"linecolor\":\"#EBF0F8\",\"ticks\":\"\"}},\"scene\":{\"xaxis\":{\"backgroundcolor\":\"white\",\"gridcolor\":\"#DFE8F3\",\"gridwidth\":2,\"linecolor\":\"#EBF0F8\",\"showbackground\":true,\"ticks\":\"\",\"zerolinecolor\":\"#EBF0F8\"},\"yaxis\":{\"backgroundcolor\":\"white\",\"gridcolor\":\"#DFE8F3\",\"gridwidth\":2,\"linecolor\":\"#EBF0F8\",\"showbackground\":true,\"ticks\":\"\",\"zerolinecolor\":\"#EBF0F8\"},\"zaxis\":{\"backgroundcolor\":\"white\",\"gridcolor\":\"#DFE8F3\",\"gridwidth\":2,\"linecolor\":\"#EBF0F8\",\"showbackground\":true,\"ticks\":\"\",\"zerolinecolor\":\"#EBF0F8\"}},\"shapedefaults\":{\"line\":{\"color\":\"#2a3f5f\"}},\"ternary\":{\"aaxis\":{\"gridcolor\":\"#DFE8F3\",\"linecolor\":\"#A2B1C6\",\"ticks\":\"\"},\"baxis\":{\"gridcolor\":\"#DFE8F3\",\"linecolor\":\"#A2B1C6\",\"ticks\":\"\"},\"bgcolor\":\"white\",\"caxis\":{\"gridcolor\":\"#DFE8F3\",\"linecolor\":\"#A2B1C6\",\"ticks\":\"\"}},\"title\":{\"x\":0.05},\"xaxis\":{\"automargin\":true,\"gridcolor\":\"#EBF0F8\",\"linecolor\":\"#EBF0F8\",\"ticks\":\"\",\"title\":{\"standoff\":15},\"zerolinecolor\":\"#EBF0F8\",\"zerolinewidth\":2},\"yaxis\":{\"automargin\":true,\"gridcolor\":\"#EBF0F8\",\"linecolor\":\"#EBF0F8\",\"ticks\":\"\",\"title\":{\"standoff\":15},\"zerolinecolor\":\"#EBF0F8\",\"zerolinewidth\":2}}},\"title\":{\"text\":\"Cross-Validation (N=5) Mean Logloss with Error Bands\"},\"xaxis\":{\"title\":{\"text\":\"Training Steps\"}},\"yaxis\":{\"title\":{\"text\":\"Logloss\"}}},                        {\"responsive\": true}                    ).then(function(){\n",
       "                            \n",
       "var gd = document.getElementById('fbb271e6-4e42-4f01-80fa-c8347a9d72d3');\n",
       "var x = new MutationObserver(function (mutations, observer) {{\n",
       "        var display = window.getComputedStyle(gd).display;\n",
       "        if (!display || display === 'none') {{\n",
       "            console.log([gd, 'removed!']);\n",
       "            Plotly.purge(gd);\n",
       "            observer.disconnect();\n",
       "        }}\n",
       "}});\n",
       "\n",
       "// Listen for the removal of the full notebook cells\n",
       "var notebookContainer = gd.closest('#notebook-container');\n",
       "if (notebookContainer) {{\n",
       "    x.observe(notebookContainer, {childList: true});\n",
       "}}\n",
       "\n",
       "// Listen for the clearing of the current output cell\n",
       "var outputEl = gd.closest('.output');\n",
       "if (outputEl) {{\n",
       "    x.observe(outputEl, {childList: true});\n",
       "}}\n",
       "\n",
       "                        })                };                });            </script>        </div>"
      ]
     },
     "metadata": {},
     "output_type": "display_data"
    }
   ],
   "source": [
    "plot_error_scatter(\n",
    "    df_plot=cv_results,\n",
    "    x=\"iterations\",\n",
    "    y=\"test-Logloss-mean\",\n",
    "    err=\"test-Logloss-std\",\n",
    "    name=\"Mean logloss\",\n",
    "    title=\"Cross-Validation (N=5) Mean Logloss with Error Bands\",\n",
    "    xtitle=\"Training Steps\",\n",
    "    ytitle=\"Logloss\",\n",
    ")"
   ]
  },
  {
   "cell_type": "code",
   "execution_count": 29,
   "metadata": {},
   "outputs": [
    {
     "data": {
      "application/vnd.jupyter.widget-view+json": {
       "model_id": "d1c3e7b6acce4c859708a891ab20bd9d",
       "version_major": 2,
       "version_minor": 0
      },
      "text/plain": [
       "MetricVisualizer(layout=Layout(align_self='stretch', height='500px'))"
      ]
     },
     "metadata": {},
     "output_type": "display_data"
    },
    {
     "name": "stderr",
     "output_type": "stream",
     "text": [
      "\u001b[32m2025-05-08 20:13:45.330\u001b[0m | \u001b[33m\u001b[1mWARNING \u001b[0m | \u001b[36mARISA_DSML.train\u001b[0m:\u001b[36mtrain\u001b[0m:\u001b[36m150\u001b[0m - \u001b[33m\u001b[1mcv_results is not a DataFrame. Skipping cv metrics and plots.\u001b[0m\n"
     ]
    },
    {
     "name": "stdout",
     "output_type": "stream",
     "text": [
      "0:\tlearn: 0.9747899\ttotal: 1.36ms\tremaining: 168ms\n",
      "50:\tlearn: 1.0000000\ttotal: 30ms\tremaining: 42.9ms\n",
      "100:\tlearn: 1.0000000\ttotal: 56.6ms\tremaining: 12.9ms\n",
      "123:\tlearn: 1.0000000\ttotal: 68.5ms\tremaining: 0us\n"
     ]
    },
    {
     "name": "stderr",
     "output_type": "stream",
     "text": [
      "/home/codespace/.python/current/lib/python3.12/site-packages/mlflow/types/utils.py:452: UserWarning:\n",
      "\n",
      "Hint: Inferred schema contains integer column(s). Integer columns in Python cannot represent missing values. If your input data contains missing values at inference time, it will be encoded as floats and will cause a schema enforcement error. The best way to avoid this problem is to infer the model schema based on a realistic data sample (training dataset) that includes missing values. Alternatively, you can declare integer columns as doubles (float64) whenever these columns may have missing values. See `Handling Integers With Missing Values <https://www.mlflow.org/docs/latest/models.html#handling-integers-with-missing-values>`_ for more details.\n",
      "\n",
      "Registered model 'cholesterol-pred-bclass' already exists. Creating a new version of this model...\n",
      "Created version '14' of model 'cholesterol-pred-bclass'.\n",
      "/workspaces/Predict_cholesterol/ARISA_MLOps-Structure/ARISA_DSML/train.py:160: FutureWarning:\n",
      "\n",
      "``mlflow.tracking.client.MlflowClient.get_latest_versions`` is deprecated since 2.9.0. Model registry stages will be removed in a future major release. To learn more about the deprecation of model registry stages, see our migration guide here: https://mlflow.org/docs/latest/model-registry.html#migrating-from-stages\n",
      "\n",
      "/home/codespace/.python/current/lib/python3.12/site-packages/nannyml/chunk.py:181: UserWarning:\n",
      "\n",
      "The resulting number of chunks is too low. Please consider splitting your data in a different way or continue at your own risk.\n",
      "\n",
      "/home/codespace/.python/current/lib/python3.12/site-packages/nannyml/chunk.py:181: UserWarning:\n",
      "\n",
      "The resulting number of chunks is too low. Please consider splitting your data in a different way or continue at your own risk.\n",
      "\n",
      "/home/codespace/.python/current/lib/python3.12/site-packages/nannyml/chunk.py:181: UserWarning:\n",
      "\n",
      "The resulting number of chunks is too low. Please consider splitting your data in a different way or continue at your own risk.\n",
      "\n",
      "/home/codespace/.python/current/lib/python3.12/site-packages/nannyml/chunk.py:181: UserWarning:\n",
      "\n",
      "The resulting number of chunks is too low. Please consider splitting your data in a different way or continue at your own risk.\n",
      "\n",
      "/home/codespace/.python/current/lib/python3.12/site-packages/nannyml/chunk.py:181: UserWarning:\n",
      "\n",
      "The resulting number of chunks is too low. Please consider splitting your data in a different way or continue at your own risk.\n",
      "\n",
      "/home/codespace/.python/current/lib/python3.12/site-packages/nannyml/chunk.py:181: UserWarning:\n",
      "\n",
      "The resulting number of chunks is too low. Please consider splitting your data in a different way or continue at your own risk.\n",
      "\n",
      "/home/codespace/.python/current/lib/python3.12/site-packages/nannyml/chunk.py:181: UserWarning:\n",
      "\n",
      "The resulting number of chunks is too low. Please consider splitting your data in a different way or continue at your own risk.\n",
      "\n",
      "/home/codespace/.python/current/lib/python3.12/site-packages/nannyml/chunk.py:181: UserWarning:\n",
      "\n",
      "The resulting number of chunks is too low. Please consider splitting your data in a different way or continue at your own risk.\n",
      "\n",
      "/home/codespace/.python/current/lib/python3.12/site-packages/nannyml/chunk.py:181: UserWarning:\n",
      "\n",
      "The resulting number of chunks is too low. Please consider splitting your data in a different way or continue at your own risk.\n",
      "\n",
      "/home/codespace/.python/current/lib/python3.12/site-packages/nannyml/chunk.py:181: UserWarning:\n",
      "\n",
      "The resulting number of chunks is too low. Please consider splitting your data in a different way or continue at your own risk.\n",
      "\n",
      "/home/codespace/.python/current/lib/python3.12/site-packages/nannyml/chunk.py:181: UserWarning:\n",
      "\n",
      "The resulting number of chunks is too low. Please consider splitting your data in a different way or continue at your own risk.\n",
      "\n",
      "INFO:nannyml.base:fitting nannyml.performance_estimation.confidence_based.cbpe.CBPE\n",
      "/home/codespace/.python/current/lib/python3.12/site-packages/nannyml/chunk.py:181: UserWarning:\n",
      "\n",
      "The resulting number of chunks is too low. Please consider splitting your data in a different way or continue at your own risk.\n",
      "\n",
      "WARNING:nannyml.performance_estimation.confidence_based.metrics:roc_auc upper threshold value 1.0 overridden by upper threshold value limit 1\n",
      "/home/codespace/.python/current/lib/python3.12/site-packages/nannyml/chunk.py:181: UserWarning:\n",
      "\n",
      "The resulting number of chunks is too low. Please consider splitting your data in a different way or continue at your own risk.\n",
      "\n",
      "INFO:nannyml.io.store.base:storing object \"<nannyml.drift.univariate.calculator.UnivariateDriftCalculator object at 0x780c30e82810>\" to store \"nannyml.io.store.file_store.FilesystemStore\"\n",
      "INFO:nannyml.io.store.base:storing object \"nannyml.performance_estimation.confidence_based.cbpe.CBPE\" to store \"nannyml.io.store.file_store.FilesystemStore\"\n"
     ]
    }
   ],
   "source": [
    "from ARISA_DSML.train import train\n",
    "\n",
    "model_path, model_params_path = train(X_train, y_train, params)"
   ]
  },
  {
   "cell_type": "code",
   "execution_count": 30,
   "metadata": {},
   "outputs": [],
   "source": [
    "dataset_test_path = RAW_DATA_DIR / \"test_cholesterol.xlsx\"\n",
    "preprocced_test_path = preprocess_df(dataset_test_path)\n",
    "df_test = pd.read_csv(preprocced_test_path)\n"
   ]
  },
  {
   "cell_type": "code",
   "execution_count": 31,
   "metadata": {},
   "outputs": [
    {
     "data": {
      "text/plain": [
       "{'depth': 5,\n",
       " 'learning_rate': 0.2995567111497413,\n",
       " 'iterations': 124,\n",
       " 'l2_leaf_reg': 0.11084080958223169,\n",
       " 'bagging_temperature': 0.9921093034173206,\n",
       " 'random_strength': 0.19224056696382372,\n",
       " 'eval_metric': 'F1',\n",
       " 'loss_function': 'Logloss'}"
      ]
     },
     "metadata": {},
     "output_type": "display_data"
    },
    {
     "data": {
      "image/png": "[encoded data removed]",
      "text/plain": [
       "<Figure size 800x590 with 2 Axes>"
      ]
     },
     "metadata": {},
     "output_type": "display_data"
    }
   ],
   "source": [
    "from ARISA_DSML.predict import predict\n",
    "from catboost import CatBoostClassifier\n",
    "\n",
    "params = joblib.load(model_params_path)\n",
    "display(params)\n",
    "from_file = CatBoostClassifier()\n",
    "model = from_file.load_model(str(model_path))\n",
    "preds_path = predict(model, df_test, params)"
   ]
  }
 ],
 "metadata": {
  "kernelspec": {
   "display_name": "Python 3",
   "language": "python",
   "name": "python3"
  },
  "language_info": {
   "codemirror_mode": {
    "name": "ipython",
    "version": 3
   },
   "file_extension": ".py",
   "mimetype": "text/x-python",
   "name": "python",
   "nbconvert_exporter": "python",
   "pygments_lexer": "ipython3",
   "version": "3.12.1"
  }
 },
 "nbformat": 4,
 "nbformat_minor": 2
}

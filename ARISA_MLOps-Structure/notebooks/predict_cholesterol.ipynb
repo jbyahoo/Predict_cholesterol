{
 "cells": [
  {
   "cell_type": "code",
   "execution_count": 19,
   "metadata": {},
   "outputs": [
    {
     "name": "stdout",
     "output_type": "stream",
     "text": [
      "The autoreload extension is already loaded. To reload it, use:\n",
      "  %reload_ext autoreload\n"
     ]
    }
   ],
   "source": [
    "%load_ext autoreload\n",
    "%autoreload 2"
   ]
  },
  {
   "cell_type": "code",
   "execution_count": 20,
   "metadata": {},
   "outputs": [],
   "source": [
    "import sys\n",
    "import os\n",
    "\n",
    "sys.path.append(os.path.abspath(\"..\"))\n",
    "\n",
    "from ARISA_DSML.preproc import get_raw_data\n",
    "from ARISA_DSML.config import RAW_DATA_DIR, target, categorical"
   ]
  },
  {
   "cell_type": "code",
   "execution_count": 21,
   "metadata": {},
   "outputs": [],
   "source": [
    "import os\n",
    "from pathlib import Path\n",
    "container_check = os.getenv(\"iscontainer\")\n",
    "if container_check==\"y\":\n",
    "    config_dir = Path(\"/home/vscode/.config/kaggle\")\n",
    "    config_dir.mkdir(parents=True, exist_ok=True)\n",
    "\n",
    "    with open(config_dir / \"kaggle.json\", \"w\") as dst:\n",
    "        with open(\"../kaggle.json\", \"r\") as src:\n",
    "            dst.write(src.read())"
   ]
  },
  {
   "cell_type": "code",
   "execution_count": 22,
   "metadata": {},
   "outputs": [
    {
     "name": "stderr",
     "output_type": "stream",
     "text": [
      "\u001b[32m2025-05-06 20:54:21.806\u001b[0m | \u001b[1mINFO    \u001b[0m | \u001b[36mARISA_DSML.preproc\u001b[0m:\u001b[36mget_raw_data\u001b[0m:\u001b[36m21\u001b[0m - \u001b[1mDownloading data to: /workspaces/Predict_cholesterol/ARISA_MLOps-Structure/data/raw\u001b[0m\n"
     ]
    },
    {
     "name": "stdout",
     "output_type": "stream",
     "text": [
      "Dataset URL: https://www.kaggle.com/datasets/joannborkowska/cholesterol-supplementation-classification\n"
     ]
    },
    {
     "name": "stderr",
     "output_type": "stream",
     "text": [
      "\u001b[32m2025-05-06 20:54:22.319\u001b[0m | \u001b[1mINFO    \u001b[0m | \u001b[36mARISA_DSML.preproc\u001b[0m:\u001b[36mget_raw_data\u001b[0m:\u001b[36m33\u001b[0m - \u001b[1mDataset download and extraction completed successfully\u001b[0m\n"
     ]
    },
    {
     "name": "stdout",
     "output_type": "stream",
     "text": [
      "test_cholesterol.xlsx  train_choloesterol.xlsx\n"
     ]
    }
   ],
   "source": [
    "get_raw_data()\n",
    "!dir \"{RAW_DATA_DIR}\""
   ]
  },
  {
   "cell_type": "code",
   "execution_count": 28,
   "metadata": {},
   "outputs": [],
   "source": [
    "from ARISA_DSML.preproc import preprocess_df\n",
    "\n",
    "train_path = preprocess_df(RAW_DATA_DIR / \"train_choloesterol.xlsx\")"
   ]
  },
  {
   "cell_type": "code",
   "execution_count": 29,
   "metadata": {},
   "outputs": [],
   "source": [
    "import pandas as pd\n",
    "df_train = pd.read_csv(train_path)"
   ]
  },
  {
   "cell_type": "code",
   "execution_count": 30,
   "metadata": {},
   "outputs": [],
   "source": [
    "y_train = df_train.pop(target)\n",
    "X_train = df_train"
   ]
  },
  {
   "cell_type": "code",
   "execution_count": 31,
   "metadata": {},
   "outputs": [
    {
     "name": "stderr",
     "output_type": "stream",
     "text": [
      "\u001b[32m2025-05-06 20:55:02.515\u001b[0m | \u001b[1mINFO    \u001b[0m | \u001b[36mARISA_DSML.train\u001b[0m:\u001b[36mrun_hyperopt\u001b[0m:\u001b[36m69\u001b[0m - \u001b[1mBest Parameters: {'depth': 5, 'learning_rate': 0.2995567111497413, 'iterations': 124, 'l2_leaf_reg': 0.11084080958223169, 'bagging_temperature': 0.9921093034173206, 'random_strength': 0.19224056696382372}\u001b[0m\n"
     ]
    }
   ],
   "source": [
    "from ARISA_DSML.train import run_hyperopt\n",
    "\n",
    "best_params_path = run_hyperopt(X_train, y_train)"
   ]
  },
  {
   "cell_type": "code",
   "execution_count": 32,
   "metadata": {},
   "outputs": [],
   "source": [
    "%reload_ext autoreload"
   ]
  },
  {
   "cell_type": "code",
   "execution_count": 49,
   "metadata": {},
   "outputs": [
    {
     "data": {
      "text/plain": [
       "{'depth': 5,\n",
       " 'learning_rate': 0.2995567111497413,\n",
       " 'iterations': 124,\n",
       " 'l2_leaf_reg': 0.11084080958223169,\n",
       " 'bagging_temperature': 0.9921093034173206,\n",
       " 'random_strength': 0.19224056696382372}"
      ]
     },
     "metadata": {},
     "output_type": "display_data"
    },
    {
     "data": {
      "application/vnd.jupyter.widget-view+json": {
       "model_id": "25e8c839fe2648529f8b2ae7e0eac17c",
       "version_major": 2,
       "version_minor": 0
      },
      "text/plain": [
       "MetricVisualizer(layout=Layout(align_self='stretch', height='500px'))"
      ]
     },
     "metadata": {},
     "output_type": "display_data"
    },
    {
     "name": "stdout",
     "output_type": "stream",
     "text": [
      "Training on fold [0/5]\n",
      "0:\tlearn: 0.9890110\ttest: 0.8000000\tbest: 0.8000000 (0)\ttotal: 3.34ms\tremaining: 411ms\n",
      "1:\tlearn: 1.0000000\ttest: 0.8000000\tbest: 0.8000000 (0)\ttotal: 5.04ms\tremaining: 308ms\n",
      "2:\tlearn: 1.0000000\ttest: 1.0000000\tbest: 1.0000000 (2)\ttotal: 6.5ms\tremaining: 262ms\n",
      "3:\tlearn: 1.0000000\ttest: 1.0000000\tbest: 1.0000000 (2)\ttotal: 7.93ms\tremaining: 238ms\n",
      "4:\tlearn: 1.0000000\ttest: 1.0000000\tbest: 1.0000000 (2)\ttotal: 9.98ms\tremaining: 238ms\n",
      "5:\tlearn: 1.0000000\ttest: 1.0000000\tbest: 1.0000000 (2)\ttotal: 11.4ms\tremaining: 224ms\n",
      "6:\tlearn: 1.0000000\ttest: 1.0000000\tbest: 1.0000000 (2)\ttotal: 12.9ms\tremaining: 215ms\n",
      "7:\tlearn: 1.0000000\ttest: 1.0000000\tbest: 1.0000000 (2)\ttotal: 14.3ms\tremaining: 207ms\n",
      "8:\tlearn: 1.0000000\ttest: 1.0000000\tbest: 1.0000000 (2)\ttotal: 15.2ms\tremaining: 194ms\n",
      "9:\tlearn: 1.0000000\ttest: 1.0000000\tbest: 1.0000000 (2)\ttotal: 17.2ms\tremaining: 196ms\n",
      "10:\tlearn: 1.0000000\ttest: 1.0000000\tbest: 1.0000000 (2)\ttotal: 19ms\tremaining: 195ms\n",
      "11:\tlearn: 1.0000000\ttest: 1.0000000\tbest: 1.0000000 (2)\ttotal: 20.1ms\tremaining: 188ms\n",
      "12:\tlearn: 1.0000000\ttest: 1.0000000\tbest: 1.0000000 (2)\ttotal: 21.7ms\tremaining: 185ms\n",
      "13:\tlearn: 1.0000000\ttest: 1.0000000\tbest: 1.0000000 (2)\ttotal: 23.1ms\tremaining: 182ms\n",
      "14:\tlearn: 1.0000000\ttest: 1.0000000\tbest: 1.0000000 (2)\ttotal: 24.1ms\tremaining: 175ms\n",
      "15:\tlearn: 1.0000000\ttest: 1.0000000\tbest: 1.0000000 (2)\ttotal: 25.1ms\tremaining: 170ms\n",
      "16:\tlearn: 1.0000000\ttest: 1.0000000\tbest: 1.0000000 (2)\ttotal: 26.1ms\tremaining: 164ms\n",
      "17:\tlearn: 1.0000000\ttest: 1.0000000\tbest: 1.0000000 (2)\ttotal: 26.7ms\tremaining: 157ms\n",
      "18:\tlearn: 1.0000000\ttest: 1.0000000\tbest: 1.0000000 (2)\ttotal: 27.3ms\tremaining: 151ms\n",
      "19:\tlearn: 1.0000000\ttest: 1.0000000\tbest: 1.0000000 (2)\ttotal: 27.8ms\tremaining: 144ms\n",
      "20:\tlearn: 1.0000000\ttest: 1.0000000\tbest: 1.0000000 (2)\ttotal: 28.2ms\tremaining: 138ms\n",
      "21:\tlearn: 1.0000000\ttest: 1.0000000\tbest: 1.0000000 (2)\ttotal: 28.8ms\tremaining: 134ms\n",
      "22:\tlearn: 1.0000000\ttest: 1.0000000\tbest: 1.0000000 (2)\ttotal: 29.4ms\tremaining: 129ms\n",
      "23:\tlearn: 1.0000000\ttest: 1.0000000\tbest: 1.0000000 (2)\ttotal: 29.9ms\tremaining: 124ms\n",
      "24:\tlearn: 1.0000000\ttest: 1.0000000\tbest: 1.0000000 (2)\ttotal: 30.3ms\tremaining: 120ms\n",
      "25:\tlearn: 1.0000000\ttest: 1.0000000\tbest: 1.0000000 (2)\ttotal: 33.5ms\tremaining: 126ms\n",
      "26:\tlearn: 1.0000000\ttest: 1.0000000\tbest: 1.0000000 (2)\ttotal: 33.9ms\tremaining: 122ms\n",
      "27:\tlearn: 1.0000000\ttest: 1.0000000\tbest: 1.0000000 (2)\ttotal: 34.4ms\tremaining: 118ms\n",
      "28:\tlearn: 1.0000000\ttest: 1.0000000\tbest: 1.0000000 (2)\ttotal: 34.8ms\tremaining: 114ms\n",
      "29:\tlearn: 1.0000000\ttest: 1.0000000\tbest: 1.0000000 (2)\ttotal: 35.3ms\tremaining: 111ms\n",
      "30:\tlearn: 1.0000000\ttest: 1.0000000\tbest: 1.0000000 (2)\ttotal: 35.8ms\tremaining: 107ms\n",
      "31:\tlearn: 1.0000000\ttest: 1.0000000\tbest: 1.0000000 (2)\ttotal: 36.3ms\tremaining: 105ms\n",
      "32:\tlearn: 1.0000000\ttest: 1.0000000\tbest: 1.0000000 (2)\ttotal: 37ms\tremaining: 102ms\n",
      "33:\tlearn: 1.0000000\ttest: 1.0000000\tbest: 1.0000000 (2)\ttotal: 37.9ms\tremaining: 100ms\n",
      "34:\tlearn: 1.0000000\ttest: 1.0000000\tbest: 1.0000000 (2)\ttotal: 38.3ms\tremaining: 97.4ms\n",
      "35:\tlearn: 1.0000000\ttest: 1.0000000\tbest: 1.0000000 (2)\ttotal: 38.8ms\tremaining: 94.7ms\n",
      "36:\tlearn: 1.0000000\ttest: 1.0000000\tbest: 1.0000000 (2)\ttotal: 42.7ms\tremaining: 100ms\n",
      "37:\tlearn: 1.0000000\ttest: 1.0000000\tbest: 1.0000000 (2)\ttotal: 43.2ms\tremaining: 97.7ms\n",
      "38:\tlearn: 1.0000000\ttest: 1.0000000\tbest: 1.0000000 (2)\ttotal: 43.6ms\tremaining: 95.1ms\n",
      "39:\tlearn: 1.0000000\ttest: 1.0000000\tbest: 1.0000000 (2)\ttotal: 44.1ms\tremaining: 92.6ms\n",
      "40:\tlearn: 1.0000000\ttest: 1.0000000\tbest: 1.0000000 (2)\ttotal: 44.5ms\tremaining: 90.2ms\n",
      "41:\tlearn: 1.0000000\ttest: 1.0000000\tbest: 1.0000000 (2)\ttotal: 45ms\tremaining: 87.9ms\n",
      "42:\tlearn: 1.0000000\ttest: 1.0000000\tbest: 1.0000000 (2)\ttotal: 47.9ms\tremaining: 90.3ms\n",
      "43:\tlearn: 1.0000000\ttest: 1.0000000\tbest: 1.0000000 (2)\ttotal: 48.4ms\tremaining: 87.9ms\n",
      "44:\tlearn: 1.0000000\ttest: 1.0000000\tbest: 1.0000000 (2)\ttotal: 48.8ms\tremaining: 85.7ms\n",
      "45:\tlearn: 1.0000000\ttest: 1.0000000\tbest: 1.0000000 (2)\ttotal: 49.3ms\tremaining: 83.6ms\n",
      "46:\tlearn: 1.0000000\ttest: 1.0000000\tbest: 1.0000000 (2)\ttotal: 49.7ms\tremaining: 81.5ms\n",
      "47:\tlearn: 1.0000000\ttest: 1.0000000\tbest: 1.0000000 (2)\ttotal: 50.3ms\tremaining: 79.7ms\n",
      "48:\tlearn: 1.0000000\ttest: 1.0000000\tbest: 1.0000000 (2)\ttotal: 50.9ms\tremaining: 77.9ms\n",
      "49:\tlearn: 1.0000000\ttest: 1.0000000\tbest: 1.0000000 (2)\ttotal: 51.5ms\tremaining: 76.2ms\n",
      "50:\tlearn: 1.0000000\ttest: 1.0000000\tbest: 1.0000000 (2)\ttotal: 52.1ms\tremaining: 74.6ms\n",
      "51:\tlearn: 1.0000000\ttest: 1.0000000\tbest: 1.0000000 (2)\ttotal: 52.6ms\tremaining: 72.8ms\n",
      "52:\tlearn: 1.0000000\ttest: 1.0000000\tbest: 1.0000000 (2)\ttotal: 53ms\tremaining: 71ms\n",
      "53:\tlearn: 1.0000000\ttest: 1.0000000\tbest: 1.0000000 (2)\ttotal: 55.6ms\tremaining: 72.1ms\n",
      "54:\tlearn: 1.0000000\ttest: 1.0000000\tbest: 1.0000000 (2)\ttotal: 58ms\tremaining: 72.7ms\n",
      "55:\tlearn: 1.0000000\ttest: 1.0000000\tbest: 1.0000000 (2)\ttotal: 61.6ms\tremaining: 74.9ms\n",
      "56:\tlearn: 1.0000000\ttest: 1.0000000\tbest: 1.0000000 (2)\ttotal: 62.6ms\tremaining: 73.6ms\n",
      "57:\tlearn: 1.0000000\ttest: 1.0000000\tbest: 1.0000000 (2)\ttotal: 65.5ms\tremaining: 74.6ms\n",
      "58:\tlearn: 1.0000000\ttest: 1.0000000\tbest: 1.0000000 (2)\ttotal: 68.1ms\tremaining: 75ms\n",
      "59:\tlearn: 1.0000000\ttest: 1.0000000\tbest: 1.0000000 (2)\ttotal: 70.5ms\tremaining: 75.3ms\n",
      "60:\tlearn: 1.0000000\ttest: 1.0000000\tbest: 1.0000000 (2)\ttotal: 74.1ms\tremaining: 76.5ms\n",
      "61:\tlearn: 1.0000000\ttest: 1.0000000\tbest: 1.0000000 (2)\ttotal: 77.6ms\tremaining: 77.6ms\n",
      "62:\tlearn: 1.0000000\ttest: 1.0000000\tbest: 1.0000000 (2)\ttotal: 79.9ms\tremaining: 77.4ms\n",
      "63:\tlearn: 1.0000000\ttest: 1.0000000\tbest: 1.0000000 (2)\ttotal: 82.9ms\tremaining: 77.7ms\n",
      "64:\tlearn: 1.0000000\ttest: 1.0000000\tbest: 1.0000000 (2)\ttotal: 85.7ms\tremaining: 77.8ms\n",
      "65:\tlearn: 1.0000000\ttest: 1.0000000\tbest: 1.0000000 (2)\ttotal: 88.1ms\tremaining: 77.5ms\n",
      "66:\tlearn: 1.0000000\ttest: 1.0000000\tbest: 1.0000000 (2)\ttotal: 88.8ms\tremaining: 75.5ms\n",
      "67:\tlearn: 1.0000000\ttest: 1.0000000\tbest: 1.0000000 (2)\ttotal: 91.6ms\tremaining: 75.4ms\n",
      "68:\tlearn: 1.0000000\ttest: 1.0000000\tbest: 1.0000000 (2)\ttotal: 92.9ms\tremaining: 74ms\n",
      "69:\tlearn: 1.0000000\ttest: 1.0000000\tbest: 1.0000000 (2)\ttotal: 93.6ms\tremaining: 72.2ms\n",
      "70:\tlearn: 1.0000000\ttest: 1.0000000\tbest: 1.0000000 (2)\ttotal: 94.4ms\tremaining: 70.5ms\n",
      "71:\tlearn: 1.0000000\ttest: 1.0000000\tbest: 1.0000000 (2)\ttotal: 95.2ms\tremaining: 68.7ms\n",
      "72:\tlearn: 1.0000000\ttest: 1.0000000\tbest: 1.0000000 (2)\ttotal: 95.9ms\tremaining: 67ms\n",
      "73:\tlearn: 1.0000000\ttest: 1.0000000\tbest: 1.0000000 (2)\ttotal: 96.7ms\tremaining: 65.3ms\n",
      "74:\tlearn: 1.0000000\ttest: 1.0000000\tbest: 1.0000000 (2)\ttotal: 97.5ms\tremaining: 63.7ms\n",
      "75:\tlearn: 1.0000000\ttest: 1.0000000\tbest: 1.0000000 (2)\ttotal: 98.2ms\tremaining: 62ms\n",
      "76:\tlearn: 1.0000000\ttest: 1.0000000\tbest: 1.0000000 (2)\ttotal: 99ms\tremaining: 60.4ms\n",
      "77:\tlearn: 1.0000000\ttest: 1.0000000\tbest: 1.0000000 (2)\ttotal: 99.8ms\tremaining: 58.8ms\n",
      "78:\tlearn: 1.0000000\ttest: 1.0000000\tbest: 1.0000000 (2)\ttotal: 101ms\tremaining: 57.3ms\n",
      "79:\tlearn: 1.0000000\ttest: 1.0000000\tbest: 1.0000000 (2)\ttotal: 101ms\tremaining: 55.7ms\n",
      "80:\tlearn: 1.0000000\ttest: 1.0000000\tbest: 1.0000000 (2)\ttotal: 102ms\tremaining: 54.2ms\n",
      "81:\tlearn: 1.0000000\ttest: 1.0000000\tbest: 1.0000000 (2)\ttotal: 103ms\tremaining: 52.7ms\n",
      "82:\tlearn: 1.0000000\ttest: 1.0000000\tbest: 1.0000000 (2)\ttotal: 104ms\tremaining: 51.2ms\n",
      "83:\tlearn: 1.0000000\ttest: 1.0000000\tbest: 1.0000000 (2)\ttotal: 104ms\tremaining: 49.7ms\n",
      "84:\tlearn: 1.0000000\ttest: 1.0000000\tbest: 1.0000000 (2)\ttotal: 105ms\tremaining: 48.3ms\n",
      "85:\tlearn: 1.0000000\ttest: 1.0000000\tbest: 1.0000000 (2)\ttotal: 106ms\tremaining: 46.8ms\n",
      "86:\tlearn: 1.0000000\ttest: 1.0000000\tbest: 1.0000000 (2)\ttotal: 107ms\tremaining: 45.4ms\n",
      "87:\tlearn: 1.0000000\ttest: 1.0000000\tbest: 1.0000000 (2)\ttotal: 107ms\tremaining: 44ms\n",
      "88:\tlearn: 1.0000000\ttest: 1.0000000\tbest: 1.0000000 (2)\ttotal: 108ms\tremaining: 42.6ms\n",
      "89:\tlearn: 1.0000000\ttest: 1.0000000\tbest: 1.0000000 (2)\ttotal: 109ms\tremaining: 41.2ms\n",
      "90:\tlearn: 1.0000000\ttest: 1.0000000\tbest: 1.0000000 (2)\ttotal: 110ms\tremaining: 39.8ms\n",
      "91:\tlearn: 1.0000000\ttest: 1.0000000\tbest: 1.0000000 (2)\ttotal: 111ms\tremaining: 38.5ms\n",
      "92:\tlearn: 1.0000000\ttest: 1.0000000\tbest: 1.0000000 (2)\ttotal: 111ms\tremaining: 37.1ms\n",
      "93:\tlearn: 1.0000000\ttest: 1.0000000\tbest: 1.0000000 (2)\ttotal: 112ms\tremaining: 35.8ms\n",
      "94:\tlearn: 1.0000000\ttest: 1.0000000\tbest: 1.0000000 (2)\ttotal: 113ms\tremaining: 34.5ms\n",
      "95:\tlearn: 1.0000000\ttest: 1.0000000\tbest: 1.0000000 (2)\ttotal: 114ms\tremaining: 33.1ms\n",
      "96:\tlearn: 1.0000000\ttest: 1.0000000\tbest: 1.0000000 (2)\ttotal: 115ms\tremaining: 31.9ms\n",
      "97:\tlearn: 1.0000000\ttest: 1.0000000\tbest: 1.0000000 (2)\ttotal: 116ms\tremaining: 30.7ms\n",
      "98:\tlearn: 1.0000000\ttest: 1.0000000\tbest: 1.0000000 (2)\ttotal: 117ms\tremaining: 29.6ms\n",
      "99:\tlearn: 1.0000000\ttest: 1.0000000\tbest: 1.0000000 (2)\ttotal: 118ms\tremaining: 28.3ms\n",
      "100:\tlearn: 1.0000000\ttest: 1.0000000\tbest: 1.0000000 (2)\ttotal: 119ms\tremaining: 27.2ms\n",
      "101:\tlearn: 1.0000000\ttest: 1.0000000\tbest: 1.0000000 (2)\ttotal: 120ms\tremaining: 25.9ms\n",
      "102:\tlearn: 1.0000000\ttest: 1.0000000\tbest: 1.0000000 (2)\ttotal: 120ms\tremaining: 24.6ms\n",
      "103:\tlearn: 1.0000000\ttest: 1.0000000\tbest: 1.0000000 (2)\ttotal: 121ms\tremaining: 23.3ms\n",
      "104:\tlearn: 1.0000000\ttest: 1.0000000\tbest: 1.0000000 (2)\ttotal: 121ms\tremaining: 22ms\n",
      "105:\tlearn: 1.0000000\ttest: 1.0000000\tbest: 1.0000000 (2)\ttotal: 122ms\tremaining: 20.7ms\n",
      "106:\tlearn: 1.0000000\ttest: 1.0000000\tbest: 1.0000000 (2)\ttotal: 125ms\tremaining: 19.9ms\n",
      "107:\tlearn: 1.0000000\ttest: 1.0000000\tbest: 1.0000000 (2)\ttotal: 126ms\tremaining: 18.6ms\n",
      "108:\tlearn: 1.0000000\ttest: 1.0000000\tbest: 1.0000000 (2)\ttotal: 126ms\tremaining: 17.4ms\n",
      "109:\tlearn: 1.0000000\ttest: 1.0000000\tbest: 1.0000000 (2)\ttotal: 127ms\tremaining: 16.1ms\n",
      "110:\tlearn: 1.0000000\ttest: 1.0000000\tbest: 1.0000000 (2)\ttotal: 129ms\tremaining: 15.1ms\n",
      "111:\tlearn: 1.0000000\ttest: 1.0000000\tbest: 1.0000000 (2)\ttotal: 130ms\tremaining: 13.9ms\n",
      "112:\tlearn: 1.0000000\ttest: 1.0000000\tbest: 1.0000000 (2)\ttotal: 131ms\tremaining: 12.8ms\n",
      "113:\tlearn: 1.0000000\ttest: 1.0000000\tbest: 1.0000000 (2)\ttotal: 135ms\tremaining: 11.9ms\n",
      "114:\tlearn: 1.0000000\ttest: 1.0000000\tbest: 1.0000000 (2)\ttotal: 137ms\tremaining: 10.7ms\n",
      "115:\tlearn: 1.0000000\ttest: 1.0000000\tbest: 1.0000000 (2)\ttotal: 139ms\tremaining: 9.61ms\n",
      "116:\tlearn: 1.0000000\ttest: 1.0000000\tbest: 1.0000000 (2)\ttotal: 141ms\tremaining: 8.41ms\n",
      "117:\tlearn: 1.0000000\ttest: 1.0000000\tbest: 1.0000000 (2)\ttotal: 143ms\tremaining: 7.25ms\n",
      "118:\tlearn: 1.0000000\ttest: 1.0000000\tbest: 1.0000000 (2)\ttotal: 144ms\tremaining: 6.05ms\n",
      "119:\tlearn: 1.0000000\ttest: 1.0000000\tbest: 1.0000000 (2)\ttotal: 145ms\tremaining: 4.82ms\n",
      "120:\tlearn: 1.0000000\ttest: 1.0000000\tbest: 1.0000000 (2)\ttotal: 146ms\tremaining: 3.63ms\n",
      "121:\tlearn: 1.0000000\ttest: 1.0000000\tbest: 1.0000000 (2)\ttotal: 148ms\tremaining: 2.42ms\n",
      "122:\tlearn: 1.0000000\ttest: 1.0000000\tbest: 1.0000000 (2)\ttotal: 149ms\tremaining: 1.21ms\n",
      "123:\tlearn: 1.0000000\ttest: 1.0000000\tbest: 1.0000000 (2)\ttotal: 150ms\tremaining: 0us\n",
      "\n",
      "bestTest = 1\n",
      "bestIteration = 2\n",
      "\n",
      "Training on fold [1/5]\n",
      "0:\tlearn: 0.9777778\ttest: 0.9090909\tbest: 0.9090909 (0)\ttotal: 2ms\tremaining: 246ms\n",
      "1:\tlearn: 1.0000000\ttest: 1.0000000\tbest: 1.0000000 (1)\ttotal: 2.64ms\tremaining: 161ms\n",
      "2:\tlearn: 1.0000000\ttest: 1.0000000\tbest: 1.0000000 (1)\ttotal: 3.28ms\tremaining: 132ms\n",
      "3:\tlearn: 1.0000000\ttest: 1.0000000\tbest: 1.0000000 (1)\ttotal: 5.43ms\tremaining: 163ms\n",
      "4:\tlearn: 1.0000000\ttest: 1.0000000\tbest: 1.0000000 (1)\ttotal: 6.04ms\tremaining: 144ms\n",
      "5:\tlearn: 1.0000000\ttest: 1.0000000\tbest: 1.0000000 (1)\ttotal: 6.67ms\tremaining: 131ms\n",
      "6:\tlearn: 1.0000000\ttest: 1.0000000\tbest: 1.0000000 (1)\ttotal: 7.3ms\tremaining: 122ms\n",
      "7:\tlearn: 1.0000000\ttest: 1.0000000\tbest: 1.0000000 (1)\ttotal: 10.2ms\tremaining: 147ms\n",
      "8:\tlearn: 1.0000000\ttest: 1.0000000\tbest: 1.0000000 (1)\ttotal: 11.3ms\tremaining: 144ms\n",
      "9:\tlearn: 1.0000000\ttest: 1.0000000\tbest: 1.0000000 (1)\ttotal: 12.3ms\tremaining: 140ms\n",
      "10:\tlearn: 1.0000000\ttest: 1.0000000\tbest: 1.0000000 (1)\ttotal: 13.2ms\tremaining: 136ms\n",
      "11:\tlearn: 1.0000000\ttest: 1.0000000\tbest: 1.0000000 (1)\ttotal: 14.2ms\tremaining: 132ms\n",
      "12:\tlearn: 1.0000000\ttest: 1.0000000\tbest: 1.0000000 (1)\ttotal: 15.3ms\tremaining: 131ms\n",
      "13:\tlearn: 1.0000000\ttest: 1.0000000\tbest: 1.0000000 (1)\ttotal: 16.3ms\tremaining: 128ms\n",
      "14:\tlearn: 1.0000000\ttest: 1.0000000\tbest: 1.0000000 (1)\ttotal: 17.2ms\tremaining: 125ms\n",
      "15:\tlearn: 1.0000000\ttest: 1.0000000\tbest: 1.0000000 (1)\ttotal: 18.1ms\tremaining: 122ms\n",
      "16:\tlearn: 1.0000000\ttest: 1.0000000\tbest: 1.0000000 (1)\ttotal: 19.2ms\tremaining: 121ms\n",
      "17:\tlearn: 1.0000000\ttest: 1.0000000\tbest: 1.0000000 (1)\ttotal: 20.1ms\tremaining: 118ms\n",
      "18:\tlearn: 1.0000000\ttest: 1.0000000\tbest: 1.0000000 (1)\ttotal: 20.9ms\tremaining: 116ms\n",
      "19:\tlearn: 1.0000000\ttest: 1.0000000\tbest: 1.0000000 (1)\ttotal: 21.7ms\tremaining: 113ms\n",
      "20:\tlearn: 1.0000000\ttest: 1.0000000\tbest: 1.0000000 (1)\ttotal: 22.6ms\tremaining: 111ms\n",
      "21:\tlearn: 1.0000000\ttest: 1.0000000\tbest: 1.0000000 (1)\ttotal: 23.4ms\tremaining: 108ms\n",
      "22:\tlearn: 1.0000000\ttest: 1.0000000\tbest: 1.0000000 (1)\ttotal: 24.2ms\tremaining: 106ms\n",
      "23:\tlearn: 1.0000000\ttest: 1.0000000\tbest: 1.0000000 (1)\ttotal: 25ms\tremaining: 104ms\n",
      "24:\tlearn: 1.0000000\ttest: 1.0000000\tbest: 1.0000000 (1)\ttotal: 25.8ms\tremaining: 102ms\n",
      "25:\tlearn: 1.0000000\ttest: 1.0000000\tbest: 1.0000000 (1)\ttotal: 26.5ms\tremaining: 100ms\n",
      "26:\tlearn: 1.0000000\ttest: 1.0000000\tbest: 1.0000000 (1)\ttotal: 27.3ms\tremaining: 98.1ms\n",
      "27:\tlearn: 1.0000000\ttest: 1.0000000\tbest: 1.0000000 (1)\ttotal: 28.1ms\tremaining: 96.3ms\n",
      "28:\tlearn: 1.0000000\ttest: 1.0000000\tbest: 1.0000000 (1)\ttotal: 28.9ms\tremaining: 94.6ms\n",
      "29:\tlearn: 1.0000000\ttest: 1.0000000\tbest: 1.0000000 (1)\ttotal: 29.7ms\tremaining: 92.9ms\n",
      "30:\tlearn: 1.0000000\ttest: 1.0000000\tbest: 1.0000000 (1)\ttotal: 30.5ms\tremaining: 91.4ms\n",
      "31:\tlearn: 1.0000000\ttest: 1.0000000\tbest: 1.0000000 (1)\ttotal: 31.2ms\tremaining: 89.7ms\n",
      "32:\tlearn: 1.0000000\ttest: 1.0000000\tbest: 1.0000000 (1)\ttotal: 32ms\tremaining: 88.3ms\n",
      "33:\tlearn: 1.0000000\ttest: 1.0000000\tbest: 1.0000000 (1)\ttotal: 32.9ms\tremaining: 87ms\n",
      "34:\tlearn: 1.0000000\ttest: 1.0000000\tbest: 1.0000000 (1)\ttotal: 33.7ms\tremaining: 85.7ms\n",
      "35:\tlearn: 1.0000000\ttest: 1.0000000\tbest: 1.0000000 (1)\ttotal: 36.7ms\tremaining: 89.6ms\n",
      "36:\tlearn: 1.0000000\ttest: 1.0000000\tbest: 1.0000000 (1)\ttotal: 37.5ms\tremaining: 88.2ms\n",
      "37:\tlearn: 1.0000000\ttest: 1.0000000\tbest: 1.0000000 (1)\ttotal: 38.2ms\tremaining: 86.4ms\n",
      "38:\tlearn: 1.0000000\ttest: 1.0000000\tbest: 1.0000000 (1)\ttotal: 38.9ms\tremaining: 84.8ms\n",
      "39:\tlearn: 1.0000000\ttest: 1.0000000\tbest: 1.0000000 (1)\ttotal: 39.7ms\tremaining: 83.3ms\n",
      "40:\tlearn: 1.0000000\ttest: 1.0000000\tbest: 1.0000000 (1)\ttotal: 40.4ms\tremaining: 81.9ms\n",
      "41:\tlearn: 1.0000000\ttest: 1.0000000\tbest: 1.0000000 (1)\ttotal: 41.2ms\tremaining: 80.4ms\n",
      "42:\tlearn: 1.0000000\ttest: 1.0000000\tbest: 1.0000000 (1)\ttotal: 42ms\tremaining: 79.1ms\n",
      "43:\tlearn: 1.0000000\ttest: 1.0000000\tbest: 1.0000000 (1)\ttotal: 42.7ms\tremaining: 77.7ms\n",
      "44:\tlearn: 1.0000000\ttest: 1.0000000\tbest: 1.0000000 (1)\ttotal: 43.5ms\tremaining: 76.4ms\n",
      "45:\tlearn: 1.0000000\ttest: 1.0000000\tbest: 1.0000000 (1)\ttotal: 44.3ms\tremaining: 75.1ms\n",
      "46:\tlearn: 1.0000000\ttest: 1.0000000\tbest: 1.0000000 (1)\ttotal: 45.1ms\tremaining: 73.8ms\n",
      "47:\tlearn: 1.0000000\ttest: 1.0000000\tbest: 1.0000000 (1)\ttotal: 45.8ms\tremaining: 72.5ms\n",
      "48:\tlearn: 1.0000000\ttest: 1.0000000\tbest: 1.0000000 (1)\ttotal: 46.6ms\tremaining: 71.3ms\n",
      "49:\tlearn: 1.0000000\ttest: 1.0000000\tbest: 1.0000000 (1)\ttotal: 47.3ms\tremaining: 70.1ms\n",
      "50:\tlearn: 1.0000000\ttest: 1.0000000\tbest: 1.0000000 (1)\ttotal: 48.1ms\tremaining: 68.9ms\n",
      "51:\tlearn: 1.0000000\ttest: 1.0000000\tbest: 1.0000000 (1)\ttotal: 48.9ms\tremaining: 67.7ms\n",
      "52:\tlearn: 1.0000000\ttest: 1.0000000\tbest: 1.0000000 (1)\ttotal: 49.7ms\tremaining: 66.6ms\n",
      "53:\tlearn: 1.0000000\ttest: 1.0000000\tbest: 1.0000000 (1)\ttotal: 50.5ms\tremaining: 65.4ms\n",
      "54:\tlearn: 1.0000000\ttest: 1.0000000\tbest: 1.0000000 (1)\ttotal: 51.2ms\tremaining: 64.3ms\n",
      "55:\tlearn: 1.0000000\ttest: 1.0000000\tbest: 1.0000000 (1)\ttotal: 52ms\tremaining: 63.1ms\n",
      "56:\tlearn: 1.0000000\ttest: 1.0000000\tbest: 1.0000000 (1)\ttotal: 53.8ms\tremaining: 63.2ms\n",
      "57:\tlearn: 1.0000000\ttest: 1.0000000\tbest: 1.0000000 (1)\ttotal: 54.6ms\tremaining: 62.2ms\n",
      "58:\tlearn: 1.0000000\ttest: 1.0000000\tbest: 1.0000000 (1)\ttotal: 56ms\tremaining: 61.7ms\n",
      "59:\tlearn: 1.0000000\ttest: 1.0000000\tbest: 1.0000000 (1)\ttotal: 57.6ms\tremaining: 61.4ms\n",
      "60:\tlearn: 1.0000000\ttest: 1.0000000\tbest: 1.0000000 (1)\ttotal: 59.4ms\tremaining: 61.3ms\n",
      "61:\tlearn: 1.0000000\ttest: 1.0000000\tbest: 1.0000000 (1)\ttotal: 60.3ms\tremaining: 60.3ms\n",
      "62:\tlearn: 1.0000000\ttest: 1.0000000\tbest: 1.0000000 (1)\ttotal: 63.4ms\tremaining: 61.4ms\n",
      "63:\tlearn: 1.0000000\ttest: 1.0000000\tbest: 1.0000000 (1)\ttotal: 64.2ms\tremaining: 60.2ms\n",
      "64:\tlearn: 1.0000000\ttest: 1.0000000\tbest: 1.0000000 (1)\ttotal: 65.1ms\tremaining: 59.1ms\n",
      "65:\tlearn: 1.0000000\ttest: 1.0000000\tbest: 1.0000000 (1)\ttotal: 66ms\tremaining: 58ms\n",
      "66:\tlearn: 1.0000000\ttest: 1.0000000\tbest: 1.0000000 (1)\ttotal: 69.1ms\tremaining: 58.8ms\n",
      "67:\tlearn: 1.0000000\ttest: 1.0000000\tbest: 1.0000000 (1)\ttotal: 70ms\tremaining: 57.6ms\n",
      "68:\tlearn: 1.0000000\ttest: 1.0000000\tbest: 1.0000000 (1)\ttotal: 70.8ms\tremaining: 56.4ms\n",
      "69:\tlearn: 1.0000000\ttest: 1.0000000\tbest: 1.0000000 (1)\ttotal: 71.5ms\tremaining: 55.1ms\n",
      "70:\tlearn: 1.0000000\ttest: 1.0000000\tbest: 1.0000000 (1)\ttotal: 72.6ms\tremaining: 54.2ms\n",
      "71:\tlearn: 1.0000000\ttest: 1.0000000\tbest: 1.0000000 (1)\ttotal: 73.6ms\tremaining: 53.2ms\n",
      "72:\tlearn: 1.0000000\ttest: 1.0000000\tbest: 1.0000000 (1)\ttotal: 74.5ms\tremaining: 52ms\n",
      "73:\tlearn: 1.0000000\ttest: 1.0000000\tbest: 1.0000000 (1)\ttotal: 75.3ms\tremaining: 50.9ms\n",
      "74:\tlearn: 1.0000000\ttest: 1.0000000\tbest: 1.0000000 (1)\ttotal: 78ms\tremaining: 51ms\n",
      "75:\tlearn: 1.0000000\ttest: 1.0000000\tbest: 1.0000000 (1)\ttotal: 81ms\tremaining: 51.2ms\n",
      "76:\tlearn: 1.0000000\ttest: 1.0000000\tbest: 1.0000000 (1)\ttotal: 82.4ms\tremaining: 50.3ms\n",
      "77:\tlearn: 1.0000000\ttest: 1.0000000\tbest: 1.0000000 (1)\ttotal: 83.7ms\tremaining: 49.4ms\n",
      "78:\tlearn: 1.0000000\ttest: 1.0000000\tbest: 1.0000000 (1)\ttotal: 86.1ms\tremaining: 49.1ms\n",
      "79:\tlearn: 1.0000000\ttest: 1.0000000\tbest: 1.0000000 (1)\ttotal: 88.7ms\tremaining: 48.8ms\n",
      "80:\tlearn: 1.0000000\ttest: 1.0000000\tbest: 1.0000000 (1)\ttotal: 90.8ms\tremaining: 48.2ms\n",
      "81:\tlearn: 1.0000000\ttest: 1.0000000\tbest: 1.0000000 (1)\ttotal: 93.4ms\tremaining: 47.8ms\n",
      "82:\tlearn: 1.0000000\ttest: 1.0000000\tbest: 1.0000000 (1)\ttotal: 95.7ms\tremaining: 47.3ms\n",
      "83:\tlearn: 1.0000000\ttest: 1.0000000\tbest: 1.0000000 (1)\ttotal: 96.5ms\tremaining: 46ms\n",
      "84:\tlearn: 1.0000000\ttest: 1.0000000\tbest: 1.0000000 (1)\ttotal: 97.3ms\tremaining: 44.6ms\n",
      "85:\tlearn: 1.0000000\ttest: 1.0000000\tbest: 1.0000000 (1)\ttotal: 98.1ms\tremaining: 43.3ms\n",
      "86:\tlearn: 1.0000000\ttest: 1.0000000\tbest: 1.0000000 (1)\ttotal: 98.9ms\tremaining: 42.1ms\n",
      "87:\tlearn: 1.0000000\ttest: 1.0000000\tbest: 1.0000000 (1)\ttotal: 99.7ms\tremaining: 40.8ms\n",
      "88:\tlearn: 1.0000000\ttest: 1.0000000\tbest: 1.0000000 (1)\ttotal: 100ms\tremaining: 39.5ms\n",
      "89:\tlearn: 1.0000000\ttest: 1.0000000\tbest: 1.0000000 (1)\ttotal: 101ms\tremaining: 38.2ms\n",
      "90:\tlearn: 1.0000000\ttest: 1.0000000\tbest: 1.0000000 (1)\ttotal: 102ms\tremaining: 37ms\n",
      "91:\tlearn: 1.0000000\ttest: 1.0000000\tbest: 1.0000000 (1)\ttotal: 103ms\tremaining: 35.7ms\n",
      "92:\tlearn: 1.0000000\ttest: 1.0000000\tbest: 1.0000000 (1)\ttotal: 103ms\tremaining: 34.5ms\n",
      "93:\tlearn: 1.0000000\ttest: 1.0000000\tbest: 1.0000000 (1)\ttotal: 104ms\tremaining: 33.3ms\n",
      "94:\tlearn: 1.0000000\ttest: 1.0000000\tbest: 1.0000000 (1)\ttotal: 105ms\tremaining: 32.1ms\n",
      "95:\tlearn: 1.0000000\ttest: 1.0000000\tbest: 1.0000000 (1)\ttotal: 106ms\tremaining: 30.9ms\n",
      "96:\tlearn: 1.0000000\ttest: 1.0000000\tbest: 1.0000000 (1)\ttotal: 107ms\tremaining: 29.7ms\n",
      "97:\tlearn: 1.0000000\ttest: 1.0000000\tbest: 1.0000000 (1)\ttotal: 107ms\tremaining: 28.5ms\n",
      "98:\tlearn: 1.0000000\ttest: 1.0000000\tbest: 1.0000000 (1)\ttotal: 108ms\tremaining: 27.3ms\n",
      "99:\tlearn: 1.0000000\ttest: 1.0000000\tbest: 1.0000000 (1)\ttotal: 109ms\tremaining: 26.1ms\n",
      "100:\tlearn: 1.0000000\ttest: 1.0000000\tbest: 1.0000000 (1)\ttotal: 110ms\tremaining: 25ms\n",
      "101:\tlearn: 1.0000000\ttest: 1.0000000\tbest: 1.0000000 (1)\ttotal: 110ms\tremaining: 23.8ms\n",
      "102:\tlearn: 1.0000000\ttest: 1.0000000\tbest: 1.0000000 (1)\ttotal: 111ms\tremaining: 22.7ms\n",
      "103:\tlearn: 1.0000000\ttest: 1.0000000\tbest: 1.0000000 (1)\ttotal: 112ms\tremaining: 21.5ms\n",
      "104:\tlearn: 1.0000000\ttest: 1.0000000\tbest: 1.0000000 (1)\ttotal: 113ms\tremaining: 20.4ms\n",
      "105:\tlearn: 1.0000000\ttest: 1.0000000\tbest: 1.0000000 (1)\ttotal: 114ms\tremaining: 19.3ms\n",
      "106:\tlearn: 1.0000000\ttest: 1.0000000\tbest: 1.0000000 (1)\ttotal: 114ms\tremaining: 18.2ms\n",
      "107:\tlearn: 1.0000000\ttest: 1.0000000\tbest: 1.0000000 (1)\ttotal: 115ms\tremaining: 17.1ms\n",
      "108:\tlearn: 1.0000000\ttest: 1.0000000\tbest: 1.0000000 (1)\ttotal: 116ms\tremaining: 16ms\n",
      "109:\tlearn: 1.0000000\ttest: 1.0000000\tbest: 1.0000000 (1)\ttotal: 117ms\tremaining: 14.9ms\n",
      "110:\tlearn: 1.0000000\ttest: 1.0000000\tbest: 1.0000000 (1)\ttotal: 117ms\tremaining: 13.8ms\n",
      "111:\tlearn: 1.0000000\ttest: 1.0000000\tbest: 1.0000000 (1)\ttotal: 118ms\tremaining: 12.7ms\n",
      "112:\tlearn: 1.0000000\ttest: 1.0000000\tbest: 1.0000000 (1)\ttotal: 119ms\tremaining: 11.6ms\n",
      "113:\tlearn: 1.0000000\ttest: 1.0000000\tbest: 1.0000000 (1)\ttotal: 120ms\tremaining: 10.5ms\n",
      "114:\tlearn: 1.0000000\ttest: 1.0000000\tbest: 1.0000000 (1)\ttotal: 121ms\tremaining: 9.43ms\n",
      "115:\tlearn: 1.0000000\ttest: 1.0000000\tbest: 1.0000000 (1)\ttotal: 121ms\tremaining: 8.37ms\n",
      "116:\tlearn: 1.0000000\ttest: 1.0000000\tbest: 1.0000000 (1)\ttotal: 122ms\tremaining: 7.3ms\n",
      "117:\tlearn: 1.0000000\ttest: 1.0000000\tbest: 1.0000000 (1)\ttotal: 123ms\tremaining: 6.25ms\n",
      "118:\tlearn: 1.0000000\ttest: 1.0000000\tbest: 1.0000000 (1)\ttotal: 124ms\tremaining: 5.19ms\n",
      "119:\tlearn: 1.0000000\ttest: 1.0000000\tbest: 1.0000000 (1)\ttotal: 124ms\tremaining: 4.15ms\n",
      "120:\tlearn: 1.0000000\ttest: 1.0000000\tbest: 1.0000000 (1)\ttotal: 125ms\tremaining: 3.1ms\n",
      "121:\tlearn: 1.0000000\ttest: 1.0000000\tbest: 1.0000000 (1)\ttotal: 126ms\tremaining: 2.06ms\n",
      "122:\tlearn: 1.0000000\ttest: 1.0000000\tbest: 1.0000000 (1)\ttotal: 127ms\tremaining: 1.03ms\n",
      "123:\tlearn: 1.0000000\ttest: 1.0000000\tbest: 1.0000000 (1)\ttotal: 127ms\tremaining: 0us\n",
      "\n",
      "bestTest = 1\n",
      "bestIteration = 1\n",
      "\n",
      "Training on fold [2/5]\n",
      "0:\tlearn: 1.0000000\ttest: 0.8571429\tbest: 0.8571429 (0)\ttotal: 1.04ms\tremaining: 128ms\n",
      "1:\tlearn: 1.0000000\ttest: 0.9565217\tbest: 0.9565217 (1)\ttotal: 1.98ms\tremaining: 121ms\n",
      "2:\tlearn: 1.0000000\ttest: 1.0000000\tbest: 1.0000000 (2)\ttotal: 2.94ms\tremaining: 119ms\n",
      "3:\tlearn: 1.0000000\ttest: 1.0000000\tbest: 1.0000000 (2)\ttotal: 3.84ms\tremaining: 115ms\n",
      "4:\tlearn: 1.0000000\ttest: 1.0000000\tbest: 1.0000000 (2)\ttotal: 4.72ms\tremaining: 112ms\n",
      "5:\tlearn: 1.0000000\ttest: 1.0000000\tbest: 1.0000000 (2)\ttotal: 5.64ms\tremaining: 111ms\n",
      "6:\tlearn: 1.0000000\ttest: 1.0000000\tbest: 1.0000000 (2)\ttotal: 6.58ms\tremaining: 110ms\n",
      "7:\tlearn: 1.0000000\ttest: 1.0000000\tbest: 1.0000000 (2)\ttotal: 7.5ms\tremaining: 109ms\n",
      "8:\tlearn: 1.0000000\ttest: 1.0000000\tbest: 1.0000000 (2)\ttotal: 8.4ms\tremaining: 107ms\n",
      "9:\tlearn: 1.0000000\ttest: 1.0000000\tbest: 1.0000000 (2)\ttotal: 9.31ms\tremaining: 106ms\n",
      "10:\tlearn: 1.0000000\ttest: 1.0000000\tbest: 1.0000000 (2)\ttotal: 12ms\tremaining: 124ms\n",
      "11:\tlearn: 1.0000000\ttest: 1.0000000\tbest: 1.0000000 (2)\ttotal: 13ms\tremaining: 121ms\n",
      "12:\tlearn: 1.0000000\ttest: 1.0000000\tbest: 1.0000000 (2)\ttotal: 14ms\tremaining: 119ms\n",
      "13:\tlearn: 1.0000000\ttest: 1.0000000\tbest: 1.0000000 (2)\ttotal: 15ms\tremaining: 118ms\n",
      "14:\tlearn: 1.0000000\ttest: 1.0000000\tbest: 1.0000000 (2)\ttotal: 16.1ms\tremaining: 117ms\n",
      "15:\tlearn: 1.0000000\ttest: 1.0000000\tbest: 1.0000000 (2)\ttotal: 16.8ms\tremaining: 114ms\n",
      "16:\tlearn: 1.0000000\ttest: 1.0000000\tbest: 1.0000000 (2)\ttotal: 17.6ms\tremaining: 111ms\n",
      "17:\tlearn: 1.0000000\ttest: 1.0000000\tbest: 1.0000000 (2)\ttotal: 18.4ms\tremaining: 108ms\n",
      "18:\tlearn: 1.0000000\ttest: 1.0000000\tbest: 1.0000000 (2)\ttotal: 19.2ms\tremaining: 106ms\n",
      "19:\tlearn: 1.0000000\ttest: 1.0000000\tbest: 1.0000000 (2)\ttotal: 19.9ms\tremaining: 104ms\n",
      "20:\tlearn: 1.0000000\ttest: 1.0000000\tbest: 1.0000000 (2)\ttotal: 20.7ms\tremaining: 101ms\n",
      "21:\tlearn: 1.0000000\ttest: 1.0000000\tbest: 1.0000000 (2)\ttotal: 21.5ms\tremaining: 99.5ms\n",
      "22:\tlearn: 1.0000000\ttest: 1.0000000\tbest: 1.0000000 (2)\ttotal: 22.2ms\tremaining: 97.6ms\n",
      "23:\tlearn: 1.0000000\ttest: 1.0000000\tbest: 1.0000000 (2)\ttotal: 23ms\tremaining: 95.8ms\n",
      "24:\tlearn: 1.0000000\ttest: 1.0000000\tbest: 1.0000000 (2)\ttotal: 23.8ms\tremaining: 94.1ms\n",
      "25:\tlearn: 1.0000000\ttest: 1.0000000\tbest: 1.0000000 (2)\ttotal: 24.5ms\tremaining: 92.5ms\n",
      "26:\tlearn: 1.0000000\ttest: 1.0000000\tbest: 1.0000000 (2)\ttotal: 25.3ms\tremaining: 90.8ms\n",
      "27:\tlearn: 1.0000000\ttest: 1.0000000\tbest: 1.0000000 (2)\ttotal: 26ms\tremaining: 89.3ms\n",
      "28:\tlearn: 1.0000000\ttest: 1.0000000\tbest: 1.0000000 (2)\ttotal: 26.8ms\tremaining: 87.8ms\n",
      "29:\tlearn: 1.0000000\ttest: 1.0000000\tbest: 1.0000000 (2)\ttotal: 27.6ms\tremaining: 86.4ms\n",
      "30:\tlearn: 1.0000000\ttest: 1.0000000\tbest: 1.0000000 (2)\ttotal: 28.3ms\tremaining: 84.9ms\n",
      "31:\tlearn: 1.0000000\ttest: 1.0000000\tbest: 1.0000000 (2)\ttotal: 29.1ms\tremaining: 83.6ms\n",
      "32:\tlearn: 1.0000000\ttest: 1.0000000\tbest: 1.0000000 (2)\ttotal: 29.9ms\tremaining: 82.3ms\n",
      "33:\tlearn: 1.0000000\ttest: 1.0000000\tbest: 1.0000000 (2)\ttotal: 30.6ms\tremaining: 81.1ms\n",
      "34:\tlearn: 1.0000000\ttest: 1.0000000\tbest: 1.0000000 (2)\ttotal: 31.4ms\tremaining: 79.8ms\n",
      "35:\tlearn: 1.0000000\ttest: 1.0000000\tbest: 1.0000000 (2)\ttotal: 32.1ms\tremaining: 78.6ms\n",
      "36:\tlearn: 1.0000000\ttest: 1.0000000\tbest: 1.0000000 (2)\ttotal: 32.9ms\tremaining: 77.3ms\n",
      "37:\tlearn: 1.0000000\ttest: 1.0000000\tbest: 1.0000000 (2)\ttotal: 33.8ms\tremaining: 76.6ms\n",
      "38:\tlearn: 1.0000000\ttest: 1.0000000\tbest: 1.0000000 (2)\ttotal: 34.6ms\tremaining: 75.4ms\n",
      "39:\tlearn: 1.0000000\ttest: 1.0000000\tbest: 1.0000000 (2)\ttotal: 35.3ms\tremaining: 74.2ms\n",
      "40:\tlearn: 1.0000000\ttest: 1.0000000\tbest: 1.0000000 (2)\ttotal: 36.1ms\tremaining: 73ms\n",
      "41:\tlearn: 1.0000000\ttest: 1.0000000\tbest: 1.0000000 (2)\ttotal: 36.9ms\tremaining: 71.9ms\n",
      "42:\tlearn: 1.0000000\ttest: 1.0000000\tbest: 1.0000000 (2)\ttotal: 37.6ms\tremaining: 70.9ms\n",
      "43:\tlearn: 1.0000000\ttest: 1.0000000\tbest: 1.0000000 (2)\ttotal: 38.4ms\tremaining: 69.8ms\n",
      "44:\tlearn: 1.0000000\ttest: 1.0000000\tbest: 1.0000000 (2)\ttotal: 39.2ms\tremaining: 68.7ms\n",
      "45:\tlearn: 1.0000000\ttest: 1.0000000\tbest: 1.0000000 (2)\ttotal: 39.9ms\tremaining: 67.7ms\n",
      "46:\tlearn: 1.0000000\ttest: 1.0000000\tbest: 1.0000000 (2)\ttotal: 40.6ms\tremaining: 66.6ms\n",
      "47:\tlearn: 1.0000000\ttest: 1.0000000\tbest: 1.0000000 (2)\ttotal: 41.4ms\tremaining: 65.6ms\n",
      "48:\tlearn: 1.0000000\ttest: 1.0000000\tbest: 1.0000000 (2)\ttotal: 42.2ms\tremaining: 64.6ms\n",
      "49:\tlearn: 1.0000000\ttest: 1.0000000\tbest: 1.0000000 (2)\ttotal: 42.9ms\tremaining: 63.6ms\n",
      "50:\tlearn: 1.0000000\ttest: 1.0000000\tbest: 1.0000000 (2)\ttotal: 43.7ms\tremaining: 62.6ms\n",
      "51:\tlearn: 1.0000000\ttest: 1.0000000\tbest: 1.0000000 (2)\ttotal: 44.5ms\tremaining: 61.6ms\n",
      "52:\tlearn: 1.0000000\ttest: 1.0000000\tbest: 1.0000000 (2)\ttotal: 45.2ms\tremaining: 60.6ms\n",
      "53:\tlearn: 1.0000000\ttest: 1.0000000\tbest: 1.0000000 (2)\ttotal: 46ms\tremaining: 59.6ms\n",
      "54:\tlearn: 1.0000000\ttest: 1.0000000\tbest: 1.0000000 (2)\ttotal: 46.8ms\tremaining: 58.7ms\n",
      "55:\tlearn: 1.0000000\ttest: 1.0000000\tbest: 1.0000000 (2)\ttotal: 47.6ms\tremaining: 57.8ms\n",
      "56:\tlearn: 1.0000000\ttest: 1.0000000\tbest: 1.0000000 (2)\ttotal: 48.3ms\tremaining: 56.8ms\n",
      "57:\tlearn: 1.0000000\ttest: 1.0000000\tbest: 1.0000000 (2)\ttotal: 49.1ms\tremaining: 55.9ms\n",
      "58:\tlearn: 1.0000000\ttest: 1.0000000\tbest: 1.0000000 (2)\ttotal: 49.8ms\tremaining: 54.9ms\n",
      "59:\tlearn: 1.0000000\ttest: 1.0000000\tbest: 1.0000000 (2)\ttotal: 50.6ms\tremaining: 54ms\n",
      "60:\tlearn: 1.0000000\ttest: 1.0000000\tbest: 1.0000000 (2)\ttotal: 51.4ms\tremaining: 53.1ms\n",
      "61:\tlearn: 1.0000000\ttest: 1.0000000\tbest: 1.0000000 (2)\ttotal: 52.1ms\tremaining: 52.1ms\n",
      "62:\tlearn: 1.0000000\ttest: 1.0000000\tbest: 1.0000000 (2)\ttotal: 52.9ms\tremaining: 51.3ms\n",
      "63:\tlearn: 1.0000000\ttest: 1.0000000\tbest: 1.0000000 (2)\ttotal: 53.7ms\tremaining: 50.4ms\n",
      "64:\tlearn: 1.0000000\ttest: 1.0000000\tbest: 1.0000000 (2)\ttotal: 54.5ms\tremaining: 49.5ms\n",
      "65:\tlearn: 1.0000000\ttest: 1.0000000\tbest: 1.0000000 (2)\ttotal: 55.3ms\tremaining: 48.6ms\n",
      "66:\tlearn: 1.0000000\ttest: 1.0000000\tbest: 1.0000000 (2)\ttotal: 56.9ms\tremaining: 48.4ms\n",
      "67:\tlearn: 1.0000000\ttest: 1.0000000\tbest: 1.0000000 (2)\ttotal: 58.8ms\tremaining: 48.4ms\n",
      "68:\tlearn: 1.0000000\ttest: 1.0000000\tbest: 1.0000000 (2)\ttotal: 59.4ms\tremaining: 47.4ms\n",
      "69:\tlearn: 1.0000000\ttest: 1.0000000\tbest: 1.0000000 (2)\ttotal: 61.6ms\tremaining: 47.5ms\n",
      "70:\tlearn: 1.0000000\ttest: 1.0000000\tbest: 1.0000000 (2)\ttotal: 62.7ms\tremaining: 46.8ms\n",
      "71:\tlearn: 1.0000000\ttest: 1.0000000\tbest: 1.0000000 (2)\ttotal: 63.4ms\tremaining: 45.8ms\n",
      "72:\tlearn: 1.0000000\ttest: 1.0000000\tbest: 1.0000000 (2)\ttotal: 65.5ms\tremaining: 45.7ms\n",
      "73:\tlearn: 1.0000000\ttest: 1.0000000\tbest: 1.0000000 (2)\ttotal: 66.3ms\tremaining: 44.8ms\n",
      "74:\tlearn: 1.0000000\ttest: 1.0000000\tbest: 1.0000000 (2)\ttotal: 67.8ms\tremaining: 44.3ms\n",
      "75:\tlearn: 1.0000000\ttest: 1.0000000\tbest: 1.0000000 (2)\ttotal: 68.7ms\tremaining: 43.4ms\n",
      "76:\tlearn: 1.0000000\ttest: 1.0000000\tbest: 1.0000000 (2)\ttotal: 70.6ms\tremaining: 43.1ms\n",
      "77:\tlearn: 1.0000000\ttest: 1.0000000\tbest: 1.0000000 (2)\ttotal: 71.4ms\tremaining: 42.1ms\n",
      "78:\tlearn: 1.0000000\ttest: 1.0000000\tbest: 1.0000000 (2)\ttotal: 72.1ms\tremaining: 41.1ms\n",
      "79:\tlearn: 1.0000000\ttest: 1.0000000\tbest: 1.0000000 (2)\ttotal: 74.4ms\tremaining: 40.9ms\n",
      "80:\tlearn: 1.0000000\ttest: 1.0000000\tbest: 1.0000000 (2)\ttotal: 75.2ms\tremaining: 39.9ms\n",
      "81:\tlearn: 1.0000000\ttest: 1.0000000\tbest: 1.0000000 (2)\ttotal: 76ms\tremaining: 38.9ms\n",
      "82:\tlearn: 1.0000000\ttest: 1.0000000\tbest: 1.0000000 (2)\ttotal: 78.4ms\tremaining: 38.7ms\n",
      "83:\tlearn: 1.0000000\ttest: 1.0000000\tbest: 1.0000000 (2)\ttotal: 79.1ms\tremaining: 37.7ms\n",
      "84:\tlearn: 1.0000000\ttest: 1.0000000\tbest: 1.0000000 (2)\ttotal: 79.9ms\tremaining: 36.6ms\n",
      "85:\tlearn: 1.0000000\ttest: 1.0000000\tbest: 1.0000000 (2)\ttotal: 80.7ms\tremaining: 35.6ms\n",
      "86:\tlearn: 1.0000000\ttest: 1.0000000\tbest: 1.0000000 (2)\ttotal: 81.4ms\tremaining: 34.6ms\n",
      "87:\tlearn: 1.0000000\ttest: 1.0000000\tbest: 1.0000000 (2)\ttotal: 82.2ms\tremaining: 33.6ms\n",
      "88:\tlearn: 1.0000000\ttest: 1.0000000\tbest: 1.0000000 (2)\ttotal: 84.3ms\tremaining: 33.1ms\n",
      "89:\tlearn: 1.0000000\ttest: 1.0000000\tbest: 1.0000000 (2)\ttotal: 85ms\tremaining: 32.1ms\n",
      "90:\tlearn: 1.0000000\ttest: 1.0000000\tbest: 1.0000000 (2)\ttotal: 85.8ms\tremaining: 31.1ms\n",
      "91:\tlearn: 1.0000000\ttest: 1.0000000\tbest: 1.0000000 (2)\ttotal: 86.6ms\tremaining: 30.1ms\n",
      "92:\tlearn: 1.0000000\ttest: 1.0000000\tbest: 1.0000000 (2)\ttotal: 87.3ms\tremaining: 29.1ms\n",
      "93:\tlearn: 1.0000000\ttest: 1.0000000\tbest: 1.0000000 (2)\ttotal: 88ms\tremaining: 28.1ms\n",
      "94:\tlearn: 1.0000000\ttest: 1.0000000\tbest: 1.0000000 (2)\ttotal: 90.1ms\tremaining: 27.5ms\n",
      "95:\tlearn: 1.0000000\ttest: 1.0000000\tbest: 1.0000000 (2)\ttotal: 90.7ms\tremaining: 26.5ms\n",
      "96:\tlearn: 1.0000000\ttest: 1.0000000\tbest: 1.0000000 (2)\ttotal: 91.2ms\tremaining: 25.4ms\n",
      "97:\tlearn: 1.0000000\ttest: 1.0000000\tbest: 1.0000000 (2)\ttotal: 91.8ms\tremaining: 24.4ms\n",
      "98:\tlearn: 1.0000000\ttest: 1.0000000\tbest: 1.0000000 (2)\ttotal: 92.4ms\tremaining: 23.3ms\n",
      "99:\tlearn: 1.0000000\ttest: 1.0000000\tbest: 1.0000000 (2)\ttotal: 92.9ms\tremaining: 22.3ms\n",
      "100:\tlearn: 1.0000000\ttest: 1.0000000\tbest: 1.0000000 (2)\ttotal: 93.3ms\tremaining: 21.2ms\n",
      "101:\tlearn: 1.0000000\ttest: 1.0000000\tbest: 1.0000000 (2)\ttotal: 93.9ms\tremaining: 20.3ms\n",
      "102:\tlearn: 1.0000000\ttest: 1.0000000\tbest: 1.0000000 (2)\ttotal: 94.5ms\tremaining: 19.3ms\n",
      "103:\tlearn: 1.0000000\ttest: 1.0000000\tbest: 1.0000000 (2)\ttotal: 95ms\tremaining: 18.3ms\n",
      "104:\tlearn: 1.0000000\ttest: 1.0000000\tbest: 1.0000000 (2)\ttotal: 95.4ms\tremaining: 17.3ms\n",
      "105:\tlearn: 1.0000000\ttest: 1.0000000\tbest: 1.0000000 (2)\ttotal: 99.6ms\tremaining: 16.9ms\n",
      "106:\tlearn: 1.0000000\ttest: 1.0000000\tbest: 1.0000000 (2)\ttotal: 100ms\tremaining: 15.9ms\n",
      "107:\tlearn: 1.0000000\ttest: 1.0000000\tbest: 1.0000000 (2)\ttotal: 100ms\tremaining: 14.9ms\n",
      "108:\tlearn: 1.0000000\ttest: 1.0000000\tbest: 1.0000000 (2)\ttotal: 101ms\tremaining: 13.9ms\n",
      "109:\tlearn: 1.0000000\ttest: 1.0000000\tbest: 1.0000000 (2)\ttotal: 101ms\tremaining: 12.9ms\n",
      "110:\tlearn: 1.0000000\ttest: 1.0000000\tbest: 1.0000000 (2)\ttotal: 102ms\tremaining: 11.9ms\n",
      "111:\tlearn: 1.0000000\ttest: 1.0000000\tbest: 1.0000000 (2)\ttotal: 102ms\tremaining: 11ms\n",
      "112:\tlearn: 1.0000000\ttest: 1.0000000\tbest: 1.0000000 (2)\ttotal: 105ms\tremaining: 10.2ms\n",
      "113:\tlearn: 1.0000000\ttest: 1.0000000\tbest: 1.0000000 (2)\ttotal: 105ms\tremaining: 9.24ms\n",
      "114:\tlearn: 1.0000000\ttest: 1.0000000\tbest: 1.0000000 (2)\ttotal: 106ms\tremaining: 8.28ms\n",
      "115:\tlearn: 1.0000000\ttest: 1.0000000\tbest: 1.0000000 (2)\ttotal: 106ms\tremaining: 7.33ms\n",
      "116:\tlearn: 1.0000000\ttest: 1.0000000\tbest: 1.0000000 (2)\ttotal: 107ms\tremaining: 6.38ms\n",
      "117:\tlearn: 1.0000000\ttest: 1.0000000\tbest: 1.0000000 (2)\ttotal: 107ms\tremaining: 5.46ms\n",
      "118:\tlearn: 1.0000000\ttest: 1.0000000\tbest: 1.0000000 (2)\ttotal: 108ms\tremaining: 4.54ms\n",
      "119:\tlearn: 1.0000000\ttest: 1.0000000\tbest: 1.0000000 (2)\ttotal: 109ms\tremaining: 3.62ms\n",
      "120:\tlearn: 1.0000000\ttest: 1.0000000\tbest: 1.0000000 (2)\ttotal: 109ms\tremaining: 2.71ms\n",
      "121:\tlearn: 1.0000000\ttest: 1.0000000\tbest: 1.0000000 (2)\ttotal: 110ms\tremaining: 1.8ms\n",
      "122:\tlearn: 1.0000000\ttest: 1.0000000\tbest: 1.0000000 (2)\ttotal: 110ms\tremaining: 898us\n",
      "123:\tlearn: 1.0000000\ttest: 1.0000000\tbest: 1.0000000 (2)\ttotal: 111ms\tremaining: 0us\n",
      "\n",
      "bestTest = 1\n",
      "bestIteration = 2\n",
      "\n",
      "Training on fold [3/5]\n",
      "0:\tlearn: 1.0000000\ttest: 1.0000000\tbest: 1.0000000 (0)\ttotal: 1.31ms\tremaining: 161ms\n",
      "1:\tlearn: 1.0000000\ttest: 1.0000000\tbest: 1.0000000 (0)\ttotal: 2.07ms\tremaining: 126ms\n",
      "2:\tlearn: 1.0000000\ttest: 1.0000000\tbest: 1.0000000 (0)\ttotal: 2.79ms\tremaining: 113ms\n",
      "3:\tlearn: 1.0000000\ttest: 1.0000000\tbest: 1.0000000 (0)\ttotal: 3.5ms\tremaining: 105ms\n",
      "4:\tlearn: 1.0000000\ttest: 1.0000000\tbest: 1.0000000 (0)\ttotal: 4.15ms\tremaining: 98.8ms\n",
      "5:\tlearn: 1.0000000\ttest: 1.0000000\tbest: 1.0000000 (0)\ttotal: 4.66ms\tremaining: 91.6ms\n",
      "6:\tlearn: 1.0000000\ttest: 1.0000000\tbest: 1.0000000 (0)\ttotal: 5.77ms\tremaining: 96.5ms\n",
      "7:\tlearn: 1.0000000\ttest: 1.0000000\tbest: 1.0000000 (0)\ttotal: 12.6ms\tremaining: 183ms\n",
      "8:\tlearn: 1.0000000\ttest: 1.0000000\tbest: 1.0000000 (0)\ttotal: 15.5ms\tremaining: 198ms\n",
      "9:\tlearn: 1.0000000\ttest: 1.0000000\tbest: 1.0000000 (0)\ttotal: 21.3ms\tremaining: 242ms\n",
      "10:\tlearn: 1.0000000\ttest: 1.0000000\tbest: 1.0000000 (0)\ttotal: 23.6ms\tremaining: 242ms\n",
      "11:\tlearn: 1.0000000\ttest: 1.0000000\tbest: 1.0000000 (0)\ttotal: 24.1ms\tremaining: 225ms\n",
      "12:\tlearn: 1.0000000\ttest: 1.0000000\tbest: 1.0000000 (0)\ttotal: 24.9ms\tremaining: 213ms\n",
      "13:\tlearn: 1.0000000\ttest: 1.0000000\tbest: 1.0000000 (0)\ttotal: 25.4ms\tremaining: 200ms\n",
      "14:\tlearn: 1.0000000\ttest: 1.0000000\tbest: 1.0000000 (0)\ttotal: 26ms\tremaining: 189ms\n",
      "15:\tlearn: 1.0000000\ttest: 1.0000000\tbest: 1.0000000 (0)\ttotal: 26.6ms\tremaining: 180ms\n",
      "16:\tlearn: 1.0000000\ttest: 1.0000000\tbest: 1.0000000 (0)\ttotal: 27.3ms\tremaining: 172ms\n",
      "17:\tlearn: 1.0000000\ttest: 1.0000000\tbest: 1.0000000 (0)\ttotal: 37.2ms\tremaining: 219ms\n",
      "18:\tlearn: 1.0000000\ttest: 1.0000000\tbest: 1.0000000 (0)\ttotal: 37.7ms\tremaining: 209ms\n",
      "19:\tlearn: 1.0000000\ttest: 1.0000000\tbest: 1.0000000 (0)\ttotal: 38.2ms\tremaining: 199ms\n",
      "20:\tlearn: 1.0000000\ttest: 1.0000000\tbest: 1.0000000 (0)\ttotal: 38.7ms\tremaining: 190ms\n",
      "21:\tlearn: 1.0000000\ttest: 1.0000000\tbest: 1.0000000 (0)\ttotal: 39.2ms\tremaining: 182ms\n",
      "22:\tlearn: 1.0000000\ttest: 1.0000000\tbest: 1.0000000 (0)\ttotal: 39.6ms\tremaining: 174ms\n",
      "23:\tlearn: 1.0000000\ttest: 1.0000000\tbest: 1.0000000 (0)\ttotal: 40.1ms\tremaining: 167ms\n",
      "24:\tlearn: 1.0000000\ttest: 1.0000000\tbest: 1.0000000 (0)\ttotal: 40.5ms\tremaining: 161ms\n",
      "25:\tlearn: 1.0000000\ttest: 1.0000000\tbest: 1.0000000 (0)\ttotal: 41ms\tremaining: 155ms\n",
      "26:\tlearn: 1.0000000\ttest: 1.0000000\tbest: 1.0000000 (0)\ttotal: 41.5ms\tremaining: 149ms\n",
      "27:\tlearn: 1.0000000\ttest: 1.0000000\tbest: 1.0000000 (0)\ttotal: 41.9ms\tremaining: 144ms\n",
      "28:\tlearn: 1.0000000\ttest: 1.0000000\tbest: 1.0000000 (0)\ttotal: 42.5ms\tremaining: 139ms\n",
      "29:\tlearn: 1.0000000\ttest: 1.0000000\tbest: 1.0000000 (0)\ttotal: 43.1ms\tremaining: 135ms\n",
      "30:\tlearn: 1.0000000\ttest: 1.0000000\tbest: 1.0000000 (0)\ttotal: 43.7ms\tremaining: 131ms\n",
      "31:\tlearn: 1.0000000\ttest: 1.0000000\tbest: 1.0000000 (0)\ttotal: 44.7ms\tremaining: 129ms\n",
      "32:\tlearn: 1.0000000\ttest: 1.0000000\tbest: 1.0000000 (0)\ttotal: 45.2ms\tremaining: 125ms\n",
      "33:\tlearn: 1.0000000\ttest: 1.0000000\tbest: 1.0000000 (0)\ttotal: 45.7ms\tremaining: 121ms\n",
      "34:\tlearn: 1.0000000\ttest: 1.0000000\tbest: 1.0000000 (0)\ttotal: 46.3ms\tremaining: 118ms\n",
      "35:\tlearn: 1.0000000\ttest: 1.0000000\tbest: 1.0000000 (0)\ttotal: 46.9ms\tremaining: 115ms\n",
      "36:\tlearn: 1.0000000\ttest: 1.0000000\tbest: 1.0000000 (0)\ttotal: 47.4ms\tremaining: 111ms\n",
      "37:\tlearn: 1.0000000\ttest: 1.0000000\tbest: 1.0000000 (0)\ttotal: 47.8ms\tremaining: 108ms\n",
      "38:\tlearn: 1.0000000\ttest: 1.0000000\tbest: 1.0000000 (0)\ttotal: 51.2ms\tremaining: 111ms\n",
      "39:\tlearn: 1.0000000\ttest: 1.0000000\tbest: 1.0000000 (0)\ttotal: 51.6ms\tremaining: 108ms\n",
      "40:\tlearn: 1.0000000\ttest: 1.0000000\tbest: 1.0000000 (0)\ttotal: 52.1ms\tremaining: 105ms\n",
      "41:\tlearn: 1.0000000\ttest: 1.0000000\tbest: 1.0000000 (0)\ttotal: 52.5ms\tremaining: 103ms\n",
      "42:\tlearn: 1.0000000\ttest: 1.0000000\tbest: 1.0000000 (0)\ttotal: 53ms\tremaining: 99.8ms\n",
      "43:\tlearn: 1.0000000\ttest: 1.0000000\tbest: 1.0000000 (0)\ttotal: 53.4ms\tremaining: 97.1ms\n",
      "44:\tlearn: 1.0000000\ttest: 1.0000000\tbest: 1.0000000 (0)\ttotal: 58.8ms\tremaining: 103ms\n",
      "45:\tlearn: 1.0000000\ttest: 1.0000000\tbest: 1.0000000 (0)\ttotal: 59.2ms\tremaining: 100ms\n",
      "46:\tlearn: 1.0000000\ttest: 1.0000000\tbest: 1.0000000 (0)\ttotal: 59.7ms\tremaining: 97.8ms\n",
      "47:\tlearn: 1.0000000\ttest: 1.0000000\tbest: 1.0000000 (0)\ttotal: 60.1ms\tremaining: 95.2ms\n",
      "48:\tlearn: 1.0000000\ttest: 1.0000000\tbest: 1.0000000 (0)\ttotal: 60.6ms\tremaining: 92.7ms\n",
      "49:\tlearn: 1.0000000\ttest: 1.0000000\tbest: 1.0000000 (0)\ttotal: 61ms\tremaining: 90.3ms\n",
      "50:\tlearn: 1.0000000\ttest: 1.0000000\tbest: 1.0000000 (0)\ttotal: 61.5ms\tremaining: 88ms\n",
      "51:\tlearn: 1.0000000\ttest: 1.0000000\tbest: 1.0000000 (0)\ttotal: 62ms\tremaining: 85.8ms\n",
      "52:\tlearn: 1.0000000\ttest: 1.0000000\tbest: 1.0000000 (0)\ttotal: 62.4ms\tremaining: 83.6ms\n",
      "53:\tlearn: 1.0000000\ttest: 1.0000000\tbest: 1.0000000 (0)\ttotal: 65.4ms\tremaining: 84.7ms\n",
      "54:\tlearn: 1.0000000\ttest: 1.0000000\tbest: 1.0000000 (0)\ttotal: 67.3ms\tremaining: 84.4ms\n",
      "55:\tlearn: 1.0000000\ttest: 1.0000000\tbest: 1.0000000 (0)\ttotal: 67.8ms\tremaining: 82.3ms\n",
      "56:\tlearn: 1.0000000\ttest: 1.0000000\tbest: 1.0000000 (0)\ttotal: 68.2ms\tremaining: 80.2ms\n",
      "57:\tlearn: 1.0000000\ttest: 1.0000000\tbest: 1.0000000 (0)\ttotal: 68.8ms\tremaining: 78.3ms\n",
      "58:\tlearn: 1.0000000\ttest: 1.0000000\tbest: 1.0000000 (0)\ttotal: 71ms\tremaining: 78.2ms\n",
      "59:\tlearn: 1.0000000\ttest: 1.0000000\tbest: 1.0000000 (0)\ttotal: 71.6ms\tremaining: 76.4ms\n",
      "60:\tlearn: 1.0000000\ttest: 1.0000000\tbest: 1.0000000 (0)\ttotal: 75.3ms\tremaining: 77.7ms\n",
      "61:\tlearn: 1.0000000\ttest: 1.0000000\tbest: 1.0000000 (0)\ttotal: 75.7ms\tremaining: 75.7ms\n",
      "62:\tlearn: 1.0000000\ttest: 1.0000000\tbest: 1.0000000 (0)\ttotal: 76.2ms\tremaining: 73.8ms\n",
      "63:\tlearn: 1.0000000\ttest: 1.0000000\tbest: 1.0000000 (0)\ttotal: 76.6ms\tremaining: 71.9ms\n",
      "64:\tlearn: 1.0000000\ttest: 1.0000000\tbest: 1.0000000 (0)\ttotal: 77.1ms\tremaining: 70ms\n",
      "65:\tlearn: 1.0000000\ttest: 1.0000000\tbest: 1.0000000 (0)\ttotal: 77.6ms\tremaining: 68.2ms\n",
      "66:\tlearn: 1.0000000\ttest: 1.0000000\tbest: 1.0000000 (0)\ttotal: 78ms\tremaining: 66.4ms\n",
      "67:\tlearn: 1.0000000\ttest: 1.0000000\tbest: 1.0000000 (0)\ttotal: 78.6ms\tremaining: 64.8ms\n",
      "68:\tlearn: 1.0000000\ttest: 1.0000000\tbest: 1.0000000 (0)\ttotal: 79.2ms\tremaining: 63.2ms\n",
      "69:\tlearn: 1.0000000\ttest: 1.0000000\tbest: 1.0000000 (0)\ttotal: 79.8ms\tremaining: 61.6ms\n",
      "70:\tlearn: 1.0000000\ttest: 1.0000000\tbest: 1.0000000 (0)\ttotal: 82.2ms\tremaining: 61.4ms\n",
      "71:\tlearn: 1.0000000\ttest: 1.0000000\tbest: 1.0000000 (0)\ttotal: 82.7ms\tremaining: 59.7ms\n",
      "72:\tlearn: 1.0000000\ttest: 1.0000000\tbest: 1.0000000 (0)\ttotal: 83.3ms\tremaining: 58.2ms\n",
      "73:\tlearn: 1.0000000\ttest: 1.0000000\tbest: 1.0000000 (0)\ttotal: 86.2ms\tremaining: 58.2ms\n",
      "74:\tlearn: 1.0000000\ttest: 1.0000000\tbest: 1.0000000 (0)\ttotal: 86.7ms\tremaining: 56.6ms\n",
      "75:\tlearn: 1.0000000\ttest: 1.0000000\tbest: 1.0000000 (0)\ttotal: 87.1ms\tremaining: 55ms\n",
      "76:\tlearn: 1.0000000\ttest: 1.0000000\tbest: 1.0000000 (0)\ttotal: 87.6ms\tremaining: 53.5ms\n",
      "77:\tlearn: 1.0000000\ttest: 1.0000000\tbest: 1.0000000 (0)\ttotal: 88.7ms\tremaining: 52.3ms\n",
      "78:\tlearn: 1.0000000\ttest: 1.0000000\tbest: 1.0000000 (0)\ttotal: 93.3ms\tremaining: 53.2ms\n",
      "79:\tlearn: 1.0000000\ttest: 1.0000000\tbest: 1.0000000 (0)\ttotal: 95.4ms\tremaining: 52.4ms\n",
      "80:\tlearn: 1.0000000\ttest: 1.0000000\tbest: 1.0000000 (0)\ttotal: 96ms\tremaining: 50.9ms\n",
      "81:\tlearn: 1.0000000\ttest: 1.0000000\tbest: 1.0000000 (0)\ttotal: 99.6ms\tremaining: 51ms\n",
      "82:\tlearn: 1.0000000\ttest: 1.0000000\tbest: 1.0000000 (0)\ttotal: 100ms\tremaining: 49.4ms\n",
      "83:\tlearn: 1.0000000\ttest: 1.0000000\tbest: 1.0000000 (0)\ttotal: 100ms\tremaining: 47.9ms\n",
      "84:\tlearn: 1.0000000\ttest: 1.0000000\tbest: 1.0000000 (0)\ttotal: 101ms\tremaining: 46.3ms\n",
      "85:\tlearn: 1.0000000\ttest: 1.0000000\tbest: 1.0000000 (0)\ttotal: 103ms\tremaining: 45.6ms\n",
      "86:\tlearn: 1.0000000\ttest: 1.0000000\tbest: 1.0000000 (0)\ttotal: 104ms\tremaining: 44ms\n",
      "87:\tlearn: 1.0000000\ttest: 1.0000000\tbest: 1.0000000 (0)\ttotal: 104ms\tremaining: 42.5ms\n",
      "88:\tlearn: 1.0000000\ttest: 1.0000000\tbest: 1.0000000 (0)\ttotal: 107ms\tremaining: 42.1ms\n",
      "89:\tlearn: 1.0000000\ttest: 1.0000000\tbest: 1.0000000 (0)\ttotal: 107ms\tremaining: 40.6ms\n",
      "90:\tlearn: 1.0000000\ttest: 1.0000000\tbest: 1.0000000 (0)\ttotal: 108ms\tremaining: 39.1ms\n",
      "91:\tlearn: 1.0000000\ttest: 1.0000000\tbest: 1.0000000 (0)\ttotal: 108ms\tremaining: 37.7ms\n",
      "92:\tlearn: 1.0000000\ttest: 1.0000000\tbest: 1.0000000 (0)\ttotal: 110ms\tremaining: 36.8ms\n",
      "93:\tlearn: 1.0000000\ttest: 1.0000000\tbest: 1.0000000 (0)\ttotal: 114ms\tremaining: 36.5ms\n",
      "94:\tlearn: 1.0000000\ttest: 1.0000000\tbest: 1.0000000 (0)\ttotal: 115ms\tremaining: 35.1ms\n",
      "95:\tlearn: 1.0000000\ttest: 1.0000000\tbest: 1.0000000 (0)\ttotal: 116ms\tremaining: 34ms\n",
      "96:\tlearn: 1.0000000\ttest: 1.0000000\tbest: 1.0000000 (0)\ttotal: 118ms\tremaining: 32.8ms\n",
      "97:\tlearn: 1.0000000\ttest: 1.0000000\tbest: 1.0000000 (0)\ttotal: 119ms\tremaining: 31.5ms\n",
      "98:\tlearn: 1.0000000\ttest: 1.0000000\tbest: 1.0000000 (0)\ttotal: 119ms\tremaining: 30.2ms\n",
      "99:\tlearn: 1.0000000\ttest: 1.0000000\tbest: 1.0000000 (0)\ttotal: 120ms\tremaining: 28.9ms\n",
      "100:\tlearn: 1.0000000\ttest: 1.0000000\tbest: 1.0000000 (0)\ttotal: 121ms\tremaining: 27.6ms\n",
      "101:\tlearn: 1.0000000\ttest: 1.0000000\tbest: 1.0000000 (0)\ttotal: 122ms\tremaining: 26.3ms\n",
      "102:\tlearn: 1.0000000\ttest: 1.0000000\tbest: 1.0000000 (0)\ttotal: 123ms\tremaining: 25ms\n",
      "103:\tlearn: 1.0000000\ttest: 1.0000000\tbest: 1.0000000 (0)\ttotal: 123ms\tremaining: 23.7ms\n",
      "104:\tlearn: 1.0000000\ttest: 1.0000000\tbest: 1.0000000 (0)\ttotal: 124ms\tremaining: 22.5ms\n",
      "105:\tlearn: 1.0000000\ttest: 1.0000000\tbest: 1.0000000 (0)\ttotal: 125ms\tremaining: 21.2ms\n",
      "106:\tlearn: 1.0000000\ttest: 1.0000000\tbest: 1.0000000 (0)\ttotal: 126ms\tremaining: 20ms\n",
      "107:\tlearn: 1.0000000\ttest: 1.0000000\tbest: 1.0000000 (0)\ttotal: 128ms\tremaining: 19ms\n",
      "108:\tlearn: 1.0000000\ttest: 1.0000000\tbest: 1.0000000 (0)\ttotal: 129ms\tremaining: 17.8ms\n",
      "109:\tlearn: 1.0000000\ttest: 1.0000000\tbest: 1.0000000 (0)\ttotal: 130ms\tremaining: 16.6ms\n",
      "110:\tlearn: 1.0000000\ttest: 1.0000000\tbest: 1.0000000 (0)\ttotal: 131ms\tremaining: 15.4ms\n",
      "111:\tlearn: 1.0000000\ttest: 1.0000000\tbest: 1.0000000 (0)\ttotal: 132ms\tremaining: 14.2ms\n",
      "112:\tlearn: 1.0000000\ttest: 1.0000000\tbest: 1.0000000 (0)\ttotal: 133ms\tremaining: 12.9ms\n",
      "113:\tlearn: 1.0000000\ttest: 1.0000000\tbest: 1.0000000 (0)\ttotal: 134ms\tremaining: 11.7ms\n",
      "114:\tlearn: 1.0000000\ttest: 1.0000000\tbest: 1.0000000 (0)\ttotal: 134ms\tremaining: 10.5ms\n",
      "115:\tlearn: 1.0000000\ttest: 1.0000000\tbest: 1.0000000 (0)\ttotal: 135ms\tremaining: 9.33ms\n",
      "116:\tlearn: 1.0000000\ttest: 1.0000000\tbest: 1.0000000 (0)\ttotal: 136ms\tremaining: 8.14ms\n",
      "117:\tlearn: 1.0000000\ttest: 1.0000000\tbest: 1.0000000 (0)\ttotal: 137ms\tremaining: 6.96ms\n",
      "118:\tlearn: 1.0000000\ttest: 1.0000000\tbest: 1.0000000 (0)\ttotal: 138ms\tremaining: 5.79ms\n",
      "119:\tlearn: 1.0000000\ttest: 1.0000000\tbest: 1.0000000 (0)\ttotal: 139ms\tremaining: 4.62ms\n",
      "120:\tlearn: 1.0000000\ttest: 1.0000000\tbest: 1.0000000 (0)\ttotal: 139ms\tremaining: 3.46ms\n",
      "121:\tlearn: 1.0000000\ttest: 1.0000000\tbest: 1.0000000 (0)\ttotal: 140ms\tremaining: 2.3ms\n",
      "122:\tlearn: 1.0000000\ttest: 1.0000000\tbest: 1.0000000 (0)\ttotal: 141ms\tremaining: 1.15ms\n",
      "123:\tlearn: 1.0000000\ttest: 1.0000000\tbest: 1.0000000 (0)\ttotal: 142ms\tremaining: 0us\n",
      "\n",
      "bestTest = 1\n",
      "bestIteration = 0\n",
      "\n",
      "Training on fold [4/5]\n",
      "0:\tlearn: 0.9894737\ttest: 1.0000000\tbest: 1.0000000 (0)\ttotal: 1.4ms\tremaining: 173ms\n",
      "1:\tlearn: 1.0000000\ttest: 1.0000000\tbest: 1.0000000 (0)\ttotal: 2.89ms\tremaining: 176ms\n",
      "2:\tlearn: 1.0000000\ttest: 1.0000000\tbest: 1.0000000 (0)\ttotal: 4.07ms\tremaining: 164ms\n",
      "3:\tlearn: 1.0000000\ttest: 1.0000000\tbest: 1.0000000 (0)\ttotal: 5.11ms\tremaining: 153ms\n",
      "4:\tlearn: 1.0000000\ttest: 1.0000000\tbest: 1.0000000 (0)\ttotal: 7.47ms\tremaining: 178ms\n",
      "5:\tlearn: 1.0000000\ttest: 1.0000000\tbest: 1.0000000 (0)\ttotal: 8.52ms\tremaining: 168ms\n",
      "6:\tlearn: 1.0000000\ttest: 1.0000000\tbest: 1.0000000 (0)\ttotal: 9.61ms\tremaining: 161ms\n",
      "7:\tlearn: 1.0000000\ttest: 1.0000000\tbest: 1.0000000 (0)\ttotal: 11.2ms\tremaining: 162ms\n",
      "8:\tlearn: 1.0000000\ttest: 1.0000000\tbest: 1.0000000 (0)\ttotal: 12.3ms\tremaining: 157ms\n",
      "9:\tlearn: 1.0000000\ttest: 1.0000000\tbest: 1.0000000 (0)\ttotal: 14.7ms\tremaining: 168ms\n",
      "10:\tlearn: 1.0000000\ttest: 1.0000000\tbest: 1.0000000 (0)\ttotal: 15.8ms\tremaining: 162ms\n",
      "11:\tlearn: 1.0000000\ttest: 1.0000000\tbest: 1.0000000 (0)\ttotal: 16.7ms\tremaining: 156ms\n",
      "12:\tlearn: 1.0000000\ttest: 1.0000000\tbest: 1.0000000 (0)\ttotal: 18.6ms\tremaining: 159ms\n",
      "13:\tlearn: 1.0000000\ttest: 1.0000000\tbest: 1.0000000 (0)\ttotal: 19.6ms\tremaining: 154ms\n",
      "14:\tlearn: 1.0000000\ttest: 1.0000000\tbest: 1.0000000 (0)\ttotal: 20.3ms\tremaining: 147ms\n",
      "15:\tlearn: 1.0000000\ttest: 1.0000000\tbest: 1.0000000 (0)\ttotal: 20.9ms\tremaining: 141ms\n",
      "16:\tlearn: 1.0000000\ttest: 1.0000000\tbest: 1.0000000 (0)\ttotal: 23.1ms\tremaining: 146ms\n",
      "17:\tlearn: 1.0000000\ttest: 1.0000000\tbest: 1.0000000 (0)\ttotal: 23.8ms\tremaining: 140ms\n",
      "18:\tlearn: 1.0000000\ttest: 1.0000000\tbest: 1.0000000 (0)\ttotal: 24.3ms\tremaining: 135ms\n",
      "19:\tlearn: 1.0000000\ttest: 1.0000000\tbest: 1.0000000 (0)\ttotal: 25ms\tremaining: 130ms\n",
      "20:\tlearn: 1.0000000\ttest: 1.0000000\tbest: 1.0000000 (0)\ttotal: 25.7ms\tremaining: 126ms\n",
      "21:\tlearn: 1.0000000\ttest: 1.0000000\tbest: 1.0000000 (0)\ttotal: 26.3ms\tremaining: 122ms\n",
      "22:\tlearn: 1.0000000\ttest: 1.0000000\tbest: 1.0000000 (0)\ttotal: 26.9ms\tremaining: 118ms\n",
      "23:\tlearn: 1.0000000\ttest: 1.0000000\tbest: 1.0000000 (0)\ttotal: 27.4ms\tremaining: 114ms\n",
      "24:\tlearn: 1.0000000\ttest: 1.0000000\tbest: 1.0000000 (0)\ttotal: 28ms\tremaining: 111ms\n",
      "25:\tlearn: 1.0000000\ttest: 1.0000000\tbest: 1.0000000 (0)\ttotal: 28.6ms\tremaining: 108ms\n",
      "26:\tlearn: 1.0000000\ttest: 1.0000000\tbest: 1.0000000 (0)\ttotal: 29.2ms\tremaining: 105ms\n",
      "27:\tlearn: 1.0000000\ttest: 1.0000000\tbest: 1.0000000 (0)\ttotal: 29.7ms\tremaining: 102ms\n",
      "28:\tlearn: 1.0000000\ttest: 1.0000000\tbest: 1.0000000 (0)\ttotal: 30.1ms\tremaining: 98.6ms\n",
      "29:\tlearn: 1.0000000\ttest: 1.0000000\tbest: 1.0000000 (0)\ttotal: 32.9ms\tremaining: 103ms\n",
      "30:\tlearn: 1.0000000\ttest: 1.0000000\tbest: 1.0000000 (0)\ttotal: 33.3ms\tremaining: 99.9ms\n",
      "31:\tlearn: 1.0000000\ttest: 1.0000000\tbest: 1.0000000 (0)\ttotal: 33.8ms\tremaining: 97.1ms\n",
      "32:\tlearn: 1.0000000\ttest: 1.0000000\tbest: 1.0000000 (0)\ttotal: 36.2ms\tremaining: 99.8ms\n",
      "33:\tlearn: 1.0000000\ttest: 1.0000000\tbest: 1.0000000 (0)\ttotal: 36.7ms\tremaining: 97ms\n",
      "34:\tlearn: 1.0000000\ttest: 1.0000000\tbest: 1.0000000 (0)\ttotal: 37.1ms\tremaining: 94.4ms\n",
      "35:\tlearn: 1.0000000\ttest: 1.0000000\tbest: 1.0000000 (0)\ttotal: 37.6ms\tremaining: 91.9ms\n",
      "36:\tlearn: 1.0000000\ttest: 1.0000000\tbest: 1.0000000 (0)\ttotal: 40.3ms\tremaining: 94.7ms\n",
      "37:\tlearn: 1.0000000\ttest: 1.0000000\tbest: 1.0000000 (0)\ttotal: 41.3ms\tremaining: 93.4ms\n",
      "38:\tlearn: 1.0000000\ttest: 1.0000000\tbest: 1.0000000 (0)\ttotal: 41.8ms\tremaining: 91ms\n",
      "39:\tlearn: 1.0000000\ttest: 1.0000000\tbest: 1.0000000 (0)\ttotal: 42.4ms\tremaining: 88.9ms\n",
      "40:\tlearn: 1.0000000\ttest: 1.0000000\tbest: 1.0000000 (0)\ttotal: 43ms\tremaining: 87ms\n",
      "41:\tlearn: 1.0000000\ttest: 1.0000000\tbest: 1.0000000 (0)\ttotal: 43.6ms\tremaining: 85ms\n",
      "42:\tlearn: 1.0000000\ttest: 1.0000000\tbest: 1.0000000 (0)\ttotal: 44.1ms\tremaining: 83.2ms\n",
      "43:\tlearn: 1.0000000\ttest: 1.0000000\tbest: 1.0000000 (0)\ttotal: 45.6ms\tremaining: 83ms\n",
      "44:\tlearn: 1.0000000\ttest: 1.0000000\tbest: 1.0000000 (0)\ttotal: 46.1ms\tremaining: 80.9ms\n",
      "45:\tlearn: 1.0000000\ttest: 1.0000000\tbest: 1.0000000 (0)\ttotal: 46.5ms\tremaining: 78.9ms\n",
      "46:\tlearn: 1.0000000\ttest: 1.0000000\tbest: 1.0000000 (0)\ttotal: 47ms\tremaining: 77ms\n",
      "47:\tlearn: 1.0000000\ttest: 1.0000000\tbest: 1.0000000 (0)\ttotal: 47.5ms\tremaining: 75.1ms\n",
      "48:\tlearn: 1.0000000\ttest: 1.0000000\tbest: 1.0000000 (0)\ttotal: 47.9ms\tremaining: 73.4ms\n",
      "49:\tlearn: 1.0000000\ttest: 1.0000000\tbest: 1.0000000 (0)\ttotal: 48.5ms\tremaining: 71.8ms\n",
      "50:\tlearn: 1.0000000\ttest: 1.0000000\tbest: 1.0000000 (0)\ttotal: 49.1ms\tremaining: 70.3ms\n",
      "51:\tlearn: 1.0000000\ttest: 1.0000000\tbest: 1.0000000 (0)\ttotal: 49.6ms\tremaining: 68.7ms\n",
      "52:\tlearn: 1.0000000\ttest: 1.0000000\tbest: 1.0000000 (0)\ttotal: 50ms\tremaining: 67ms\n",
      "53:\tlearn: 1.0000000\ttest: 1.0000000\tbest: 1.0000000 (0)\ttotal: 52.6ms\tremaining: 68.2ms\n",
      "54:\tlearn: 1.0000000\ttest: 1.0000000\tbest: 1.0000000 (0)\ttotal: 60.2ms\tremaining: 75.6ms\n",
      "55:\tlearn: 1.0000000\ttest: 1.0000000\tbest: 1.0000000 (0)\ttotal: 61.1ms\tremaining: 74.2ms\n",
      "56:\tlearn: 1.0000000\ttest: 1.0000000\tbest: 1.0000000 (0)\ttotal: 62ms\tremaining: 72.9ms\n",
      "57:\tlearn: 1.0000000\ttest: 1.0000000\tbest: 1.0000000 (0)\ttotal: 62.9ms\tremaining: 71.5ms\n",
      "58:\tlearn: 1.0000000\ttest: 1.0000000\tbest: 1.0000000 (0)\ttotal: 63.6ms\tremaining: 70.1ms\n",
      "59:\tlearn: 1.0000000\ttest: 1.0000000\tbest: 1.0000000 (0)\ttotal: 64.4ms\tremaining: 68.7ms\n",
      "60:\tlearn: 1.0000000\ttest: 1.0000000\tbest: 1.0000000 (0)\ttotal: 65.2ms\tremaining: 67.4ms\n",
      "61:\tlearn: 1.0000000\ttest: 1.0000000\tbest: 1.0000000 (0)\ttotal: 66ms\tremaining: 66ms\n",
      "62:\tlearn: 1.0000000\ttest: 1.0000000\tbest: 1.0000000 (0)\ttotal: 66.8ms\tremaining: 64.7ms\n",
      "63:\tlearn: 1.0000000\ttest: 1.0000000\tbest: 1.0000000 (0)\ttotal: 67.6ms\tremaining: 63.4ms\n",
      "64:\tlearn: 1.0000000\ttest: 1.0000000\tbest: 1.0000000 (0)\ttotal: 68.4ms\tremaining: 62.1ms\n",
      "65:\tlearn: 1.0000000\ttest: 1.0000000\tbest: 1.0000000 (0)\ttotal: 69.1ms\tremaining: 60.8ms\n",
      "66:\tlearn: 1.0000000\ttest: 1.0000000\tbest: 1.0000000 (0)\ttotal: 69.9ms\tremaining: 59.5ms\n",
      "67:\tlearn: 1.0000000\ttest: 1.0000000\tbest: 1.0000000 (0)\ttotal: 70.7ms\tremaining: 58.2ms\n",
      "68:\tlearn: 1.0000000\ttest: 1.0000000\tbest: 1.0000000 (0)\ttotal: 71.5ms\tremaining: 57ms\n",
      "69:\tlearn: 1.0000000\ttest: 1.0000000\tbest: 1.0000000 (0)\ttotal: 72.3ms\tremaining: 55.8ms\n",
      "70:\tlearn: 1.0000000\ttest: 1.0000000\tbest: 1.0000000 (0)\ttotal: 73.1ms\tremaining: 54.5ms\n",
      "71:\tlearn: 1.0000000\ttest: 1.0000000\tbest: 1.0000000 (0)\ttotal: 73.9ms\tremaining: 53.3ms\n",
      "72:\tlearn: 1.0000000\ttest: 1.0000000\tbest: 1.0000000 (0)\ttotal: 74.7ms\tremaining: 52.2ms\n",
      "73:\tlearn: 1.0000000\ttest: 1.0000000\tbest: 1.0000000 (0)\ttotal: 75.5ms\tremaining: 51ms\n",
      "74:\tlearn: 1.0000000\ttest: 1.0000000\tbest: 1.0000000 (0)\ttotal: 76.3ms\tremaining: 49.8ms\n",
      "75:\tlearn: 1.0000000\ttest: 1.0000000\tbest: 1.0000000 (0)\ttotal: 77ms\tremaining: 48.7ms\n",
      "76:\tlearn: 1.0000000\ttest: 1.0000000\tbest: 1.0000000 (0)\ttotal: 77.8ms\tremaining: 47.5ms\n",
      "77:\tlearn: 1.0000000\ttest: 1.0000000\tbest: 1.0000000 (0)\ttotal: 78.6ms\tremaining: 46.3ms\n",
      "78:\tlearn: 1.0000000\ttest: 1.0000000\tbest: 1.0000000 (0)\ttotal: 79.4ms\tremaining: 45.2ms\n",
      "79:\tlearn: 1.0000000\ttest: 1.0000000\tbest: 1.0000000 (0)\ttotal: 80.1ms\tremaining: 44.1ms\n",
      "80:\tlearn: 1.0000000\ttest: 1.0000000\tbest: 1.0000000 (0)\ttotal: 80.9ms\tremaining: 43ms\n",
      "81:\tlearn: 1.0000000\ttest: 1.0000000\tbest: 1.0000000 (0)\ttotal: 81.7ms\tremaining: 41.8ms\n",
      "82:\tlearn: 1.0000000\ttest: 1.0000000\tbest: 1.0000000 (0)\ttotal: 82.5ms\tremaining: 40.7ms\n",
      "83:\tlearn: 1.0000000\ttest: 1.0000000\tbest: 1.0000000 (0)\ttotal: 83.3ms\tremaining: 39.6ms\n",
      "84:\tlearn: 1.0000000\ttest: 1.0000000\tbest: 1.0000000 (0)\ttotal: 84.1ms\tremaining: 38.6ms\n",
      "85:\tlearn: 1.0000000\ttest: 1.0000000\tbest: 1.0000000 (0)\ttotal: 84.9ms\tremaining: 37.5ms\n",
      "86:\tlearn: 1.0000000\ttest: 1.0000000\tbest: 1.0000000 (0)\ttotal: 85.7ms\tremaining: 36.4ms\n",
      "87:\tlearn: 1.0000000\ttest: 1.0000000\tbest: 1.0000000 (0)\ttotal: 86.4ms\tremaining: 35.4ms\n",
      "88:\tlearn: 1.0000000\ttest: 1.0000000\tbest: 1.0000000 (0)\ttotal: 87.2ms\tremaining: 34.3ms\n",
      "89:\tlearn: 1.0000000\ttest: 1.0000000\tbest: 1.0000000 (0)\ttotal: 88ms\tremaining: 33.3ms\n",
      "90:\tlearn: 1.0000000\ttest: 1.0000000\tbest: 1.0000000 (0)\ttotal: 88.8ms\tremaining: 32.2ms\n",
      "91:\tlearn: 1.0000000\ttest: 1.0000000\tbest: 1.0000000 (0)\ttotal: 89.6ms\tremaining: 31.2ms\n",
      "92:\tlearn: 1.0000000\ttest: 1.0000000\tbest: 1.0000000 (0)\ttotal: 90.4ms\tremaining: 30.1ms\n",
      "93:\tlearn: 1.0000000\ttest: 1.0000000\tbest: 1.0000000 (0)\ttotal: 91.5ms\tremaining: 29.2ms\n",
      "94:\tlearn: 1.0000000\ttest: 1.0000000\tbest: 1.0000000 (0)\ttotal: 92.4ms\tremaining: 28.2ms\n",
      "95:\tlearn: 1.0000000\ttest: 1.0000000\tbest: 1.0000000 (0)\ttotal: 93.2ms\tremaining: 27.2ms\n",
      "96:\tlearn: 1.0000000\ttest: 1.0000000\tbest: 1.0000000 (0)\ttotal: 94ms\tremaining: 26.2ms\n",
      "97:\tlearn: 1.0000000\ttest: 1.0000000\tbest: 1.0000000 (0)\ttotal: 94.8ms\tremaining: 25.2ms\n",
      "98:\tlearn: 1.0000000\ttest: 1.0000000\tbest: 1.0000000 (0)\ttotal: 95.6ms\tremaining: 24.1ms\n",
      "99:\tlearn: 1.0000000\ttest: 1.0000000\tbest: 1.0000000 (0)\ttotal: 96.4ms\tremaining: 23.1ms\n",
      "100:\tlearn: 1.0000000\ttest: 1.0000000\tbest: 1.0000000 (0)\ttotal: 97.2ms\tremaining: 22.1ms\n",
      "101:\tlearn: 1.0000000\ttest: 1.0000000\tbest: 1.0000000 (0)\ttotal: 98ms\tremaining: 21.1ms\n",
      "102:\tlearn: 1.0000000\ttest: 1.0000000\tbest: 1.0000000 (0)\ttotal: 98.7ms\tremaining: 20.1ms\n",
      "103:\tlearn: 1.0000000\ttest: 1.0000000\tbest: 1.0000000 (0)\ttotal: 99.5ms\tremaining: 19.1ms\n",
      "104:\tlearn: 1.0000000\ttest: 1.0000000\tbest: 1.0000000 (0)\ttotal: 100ms\tremaining: 18.1ms\n",
      "105:\tlearn: 1.0000000\ttest: 1.0000000\tbest: 1.0000000 (0)\ttotal: 101ms\tremaining: 17.2ms\n",
      "106:\tlearn: 1.0000000\ttest: 1.0000000\tbest: 1.0000000 (0)\ttotal: 102ms\tremaining: 16.2ms\n",
      "107:\tlearn: 1.0000000\ttest: 1.0000000\tbest: 1.0000000 (0)\ttotal: 103ms\tremaining: 15.2ms\n",
      "108:\tlearn: 1.0000000\ttest: 1.0000000\tbest: 1.0000000 (0)\ttotal: 103ms\tremaining: 14.2ms\n",
      "109:\tlearn: 1.0000000\ttest: 1.0000000\tbest: 1.0000000 (0)\ttotal: 104ms\tremaining: 13.3ms\n",
      "110:\tlearn: 1.0000000\ttest: 1.0000000\tbest: 1.0000000 (0)\ttotal: 105ms\tremaining: 12.3ms\n",
      "111:\tlearn: 1.0000000\ttest: 1.0000000\tbest: 1.0000000 (0)\ttotal: 106ms\tremaining: 11.3ms\n",
      "112:\tlearn: 1.0000000\ttest: 1.0000000\tbest: 1.0000000 (0)\ttotal: 107ms\tremaining: 10.4ms\n",
      "113:\tlearn: 1.0000000\ttest: 1.0000000\tbest: 1.0000000 (0)\ttotal: 107ms\tremaining: 9.41ms\n",
      "114:\tlearn: 1.0000000\ttest: 1.0000000\tbest: 1.0000000 (0)\ttotal: 108ms\tremaining: 8.46ms\n",
      "115:\tlearn: 1.0000000\ttest: 1.0000000\tbest: 1.0000000 (0)\ttotal: 109ms\tremaining: 7.51ms\n",
      "116:\tlearn: 1.0000000\ttest: 1.0000000\tbest: 1.0000000 (0)\ttotal: 110ms\tremaining: 6.57ms\n",
      "117:\tlearn: 1.0000000\ttest: 1.0000000\tbest: 1.0000000 (0)\ttotal: 110ms\tremaining: 5.62ms\n",
      "118:\tlearn: 1.0000000\ttest: 1.0000000\tbest: 1.0000000 (0)\ttotal: 111ms\tremaining: 4.67ms\n",
      "119:\tlearn: 1.0000000\ttest: 1.0000000\tbest: 1.0000000 (0)\ttotal: 112ms\tremaining: 3.73ms\n",
      "120:\tlearn: 1.0000000\ttest: 1.0000000\tbest: 1.0000000 (0)\ttotal: 113ms\tremaining: 2.8ms\n",
      "121:\tlearn: 1.0000000\ttest: 1.0000000\tbest: 1.0000000 (0)\ttotal: 114ms\tremaining: 1.86ms\n",
      "122:\tlearn: 1.0000000\ttest: 1.0000000\tbest: 1.0000000 (0)\ttotal: 115ms\tremaining: 931us\n",
      "123:\tlearn: 1.0000000\ttest: 1.0000000\tbest: 1.0000000 (0)\ttotal: 116ms\tremaining: 0us\n",
      "\n",
      "bestTest = 1\n",
      "bestIteration = 0\n",
      "\n"
     ]
    }
   ],
   "source": [
    "import joblib\n",
    "from ARISA_DSML.train import train_cv\n",
    "params = joblib.load(best_params_path)\n",
    "display(params)\n",
    "n_folds = 5\n",
    "cv_output_path = train_cv(X_train, y_train, params, n=n_folds)\n"
   ]
  },
  {
   "cell_type": "code",
   "execution_count": 34,
   "metadata": {},
   "outputs": [
    {
     "data": {
      "application/vnd.plotly.v1+json": {
       "config": {
        "plotlyServerURL": "https://plot.ly"
       },
       "data": [
        {
         "line": {
          "color": "blue"
         },
         "mode": "lines",
         "name": "Mean F1 Score",
         "type": "scatter",
         "x": [
          0,
          1,
          2,
          3,
          4,
          5,
          6,
          7,
          8,
          9,
          10,
          11,
          12,
          13,
          14,
          15,
          16,
          17,
          18,
          19,
          20,
          21,
          22,
          23,
          24,
          25,
          26,
          27,
          28,
          29,
          30,
          31,
          32,
          33,
          34,
          35,
          36,
          37,
          38,
          39,
          40,
          41,
          42,
          43,
          44,
          45,
          46,
          47,
          48,
          49,
          50,
          51,
          52,
          53,
          54,
          55,
          56,
          57,
          58,
          59,
          60,
          61,
          62,
          63,
          64,
          65,
          66,
          67,
          68,
          69,
          70,
          71,
          72,
          73,
          74,
          75,
          76,
          77,
          78,
          79,
          80,
          81,
          82,
          83,
          84,
          85,
          86,
          87,
          88,
          89,
          90,
          91,
          92,
          93,
          94,
          95,
          96,
          97,
          98,
          99,
          100,
          101,
          102,
          103,
          104,
          105,
          106,
          107,
          108,
          109,
          110,
          111,
          112,
          113,
          114,
          115,
          116,
          117,
          118,
          119,
          120,
          121,
          122,
          123
         ],
         "y": [
          0.9132467532467532,
          0.9513043478260867,
          1,
          1,
          1,
          1,
          1,
          1,
          1,
          1,
          1,
          1,
          1,
          1,
          1,
          1,
          1,
          1,
          1,
          1,
          1,
          1,
          1,
          1,
          1,
          1,
          1,
          1,
          1,
          1,
          1,
          1,
          1,
          1,
          1,
          1,
          1,
          1,
          1,
          1,
          1,
          1,
          1,
          1,
          1,
          1,
          1,
          1,
          1,
          1,
          1,
          1,
          1,
          1,
          1,
          1,
          1,
          1,
          1,
          1,
          1,
          1,
          1,
          1,
          1,
          1,
          1,
          1,
          1,
          1,
          1,
          1,
          1,
          1,
          1,
          1,
          1,
          1,
          1,
          1,
          1,
          1,
          1,
          1,
          1,
          1,
          1,
          1,
          1,
          1,
          1,
          1,
          1,
          1,
          1,
          1,
          1,
          1,
          1,
          1,
          1,
          1,
          1,
          1,
          1,
          1,
          1,
          1,
          1,
          1,
          1,
          1,
          1,
          1,
          1,
          1,
          1,
          1,
          1,
          1,
          1,
          1,
          1,
          1
         ]
        },
        {
         "fill": "toself",
         "fillcolor": "rgba(0, 0, 255, 0.2)",
         "line": {
          "color": "rgba(255, 255, 255, 0)"
         },
         "showlegend": false,
         "type": "scatter",
         "x": [
          0.9132467532467532,
          0.9513043478260867,
          1,
          1,
          1,
          1,
          1,
          1,
          1,
          1,
          1,
          1,
          1,
          1,
          1,
          1,
          1,
          1,
          1,
          1,
          1,
          1,
          1,
          1,
          1,
          1,
          1,
          1,
          1,
          1,
          1,
          1,
          1,
          1,
          1,
          1,
          1,
          1,
          1,
          1,
          1,
          1,
          1,
          1,
          1,
          1,
          1,
          1,
          1,
          1,
          1,
          1,
          1,
          1,
          1,
          1,
          1,
          1,
          1,
          1,
          1,
          1,
          1,
          1,
          1,
          1,
          1,
          1,
          1,
          1,
          1,
          1,
          1,
          1,
          1,
          1,
          1,
          1,
          1,
          1,
          1,
          1,
          1,
          1,
          1,
          1,
          1,
          1,
          1,
          1,
          1,
          1,
          1,
          1,
          1,
          1,
          1,
          1,
          1,
          1,
          1,
          1,
          1,
          1,
          1,
          1,
          1,
          1,
          1,
          1,
          1,
          1,
          1,
          1,
          1,
          1,
          1,
          1,
          1,
          1,
          1,
          1,
          1,
          1,
          123,
          122,
          121,
          120,
          119,
          118,
          117,
          116,
          115,
          114,
          113,
          112,
          111,
          110,
          109,
          108,
          107,
          106,
          105,
          104,
          103,
          102,
          101,
          100,
          99,
          98,
          97,
          96,
          95,
          94,
          93,
          92,
          91,
          90,
          89,
          88,
          87,
          86,
          85,
          84,
          83,
          82,
          81,
          80,
          79,
          78,
          77,
          76,
          75,
          74,
          73,
          72,
          71,
          70,
          69,
          68,
          67,
          66,
          65,
          64,
          63,
          62,
          61,
          60,
          59,
          58,
          57,
          56,
          55,
          54,
          53,
          52,
          51,
          50,
          49,
          48,
          47,
          46,
          45,
          44,
          43,
          42,
          41,
          40,
          39,
          38,
          37,
          36,
          35,
          34,
          33,
          32,
          31,
          30,
          29,
          28,
          27,
          26,
          25,
          24,
          23,
          22,
          21,
          20,
          19,
          18,
          17,
          16,
          15,
          14,
          13,
          12,
          11,
          10,
          9,
          8,
          7,
          6,
          5,
          4,
          3,
          2,
          1,
          0
         ],
         "y": [
          1.0013404490542213,
          1.0379559872581083,
          1,
          1,
          1,
          1,
          1,
          1,
          1,
          1,
          1,
          1,
          1,
          1,
          1,
          1,
          1,
          1,
          1,
          1,
          1,
          1,
          1,
          1,
          1,
          1,
          1,
          1,
          1,
          1,
          1,
          1,
          1,
          1,
          1,
          1,
          1,
          1,
          1,
          1,
          1,
          1,
          1,
          1,
          1,
          1,
          1,
          1,
          1,
          1,
          1,
          1,
          1,
          1,
          1,
          1,
          1,
          1,
          1,
          1,
          1,
          1,
          1,
          1,
          1,
          1,
          1,
          1,
          1,
          1,
          1,
          1,
          1,
          1,
          1,
          1,
          1,
          1,
          1,
          1,
          1,
          1,
          1,
          1,
          1,
          1,
          1,
          1,
          1,
          1,
          1,
          1,
          1,
          1,
          1,
          1,
          1,
          1,
          1,
          1,
          1,
          1,
          1,
          1,
          1,
          1,
          1,
          1,
          1,
          1,
          1,
          1,
          1,
          1,
          1,
          1,
          1,
          1,
          1,
          1,
          1,
          1,
          1,
          1,
          0.8251530574392852,
          0.8646527083940652,
          1,
          1,
          1,
          1,
          1,
          1,
          1,
          1,
          1,
          1,
          1,
          1,
          1,
          1,
          1,
          1,
          1,
          1,
          1,
          1,
          1,
          1,
          1,
          1,
          1,
          1,
          1,
          1,
          1,
          1,
          1,
          1,
          1,
          1,
          1,
          1,
          1,
          1,
          1,
          1,
          1,
          1,
          1,
          1,
          1,
          1,
          1,
          1,
          1,
          1,
          1,
          1,
          1,
          1,
          1,
          1,
          1,
          1,
          1,
          1,
          1,
          1,
          1,
          1,
          1,
          1,
          1,
          1,
          1,
          1,
          1,
          1,
          1,
          1,
          1,
          1,
          1,
          1,
          1,
          1,
          1,
          1,
          1,
          1,
          1,
          1,
          1,
          1,
          1,
          1,
          1,
          1,
          1,
          1,
          1,
          1,
          1,
          1,
          1,
          1,
          1,
          1,
          1,
          1,
          1,
          1,
          1,
          1,
          1,
          1,
          1,
          1,
          1,
          1,
          1,
          1,
          1,
          1,
          1,
          1,
          1,
          1
         ]
        }
       ],
       "layout": {
        "template": {
         "data": {
          "bar": [
           {
            "error_x": {
             "color": "#2a3f5f"
            },
            "error_y": {
             "color": "#2a3f5f"
            },
            "marker": {
             "line": {
              "color": "white",
              "width": 0.5
             },
             "pattern": {
              "fillmode": "overlay",
              "size": 10,
              "solidity": 0.2
             }
            },
            "type": "bar"
           }
          ],
          "barpolar": [
           {
            "marker": {
             "line": {
              "color": "white",
              "width": 0.5
             },
             "pattern": {
              "fillmode": "overlay",
              "size": 10,
              "solidity": 0.2
             }
            },
            "type": "barpolar"
           }
          ],
          "carpet": [
           {
            "aaxis": {
             "endlinecolor": "#2a3f5f",
             "gridcolor": "#C8D4E3",
             "linecolor": "#C8D4E3",
             "minorgridcolor": "#C8D4E3",
             "startlinecolor": "#2a3f5f"
            },
            "baxis": {
             "endlinecolor": "#2a3f5f",
             "gridcolor": "#C8D4E3",
             "linecolor": "#C8D4E3",
             "minorgridcolor": "#C8D4E3",
             "startlinecolor": "#2a3f5f"
            },
            "type": "carpet"
           }
          ],
          "choropleth": [
           {
            "colorbar": {
             "outlinewidth": 0,
             "ticks": ""
            },
            "type": "choropleth"
           }
          ],
          "contour": [
           {
            "colorbar": {
             "outlinewidth": 0,
             "ticks": ""
            },
            "colorscale": [
             [
              0,
              "#0d0887"
             ],
             [
              0.1111111111111111,
              "#46039f"
             ],
             [
              0.2222222222222222,
              "#7201a8"
             ],
             [
              0.3333333333333333,
              "#9c179e"
             ],
             [
              0.4444444444444444,
              "#bd3786"
             ],
             [
              0.5555555555555556,
              "#d8576b"
             ],
             [
              0.6666666666666666,
              "#ed7953"
             ],
             [
              0.7777777777777778,
              "#fb9f3a"
             ],
             [
              0.8888888888888888,
              "#fdca26"
             ],
             [
              1,
              "#f0f921"
             ]
            ],
            "type": "contour"
           }
          ],
          "contourcarpet": [
           {
            "colorbar": {
             "outlinewidth": 0,
             "ticks": ""
            },
            "type": "contourcarpet"
           }
          ],
          "heatmap": [
           {
            "colorbar": {
             "outlinewidth": 0,
             "ticks": ""
            },
            "colorscale": [
             [
              0,
              "#0d0887"
             ],
             [
              0.1111111111111111,
              "#46039f"
             ],
             [
              0.2222222222222222,
              "#7201a8"
             ],
             [
              0.3333333333333333,
              "#9c179e"
             ],
             [
              0.4444444444444444,
              "#bd3786"
             ],
             [
              0.5555555555555556,
              "#d8576b"
             ],
             [
              0.6666666666666666,
              "#ed7953"
             ],
             [
              0.7777777777777778,
              "#fb9f3a"
             ],
             [
              0.8888888888888888,
              "#fdca26"
             ],
             [
              1,
              "#f0f921"
             ]
            ],
            "type": "heatmap"
           }
          ],
          "heatmapgl": [
           {
            "colorbar": {
             "outlinewidth": 0,
             "ticks": ""
            },
            "colorscale": [
             [
              0,
              "#0d0887"
             ],
             [
              0.1111111111111111,
              "#46039f"
             ],
             [
              0.2222222222222222,
              "#7201a8"
             ],
             [
              0.3333333333333333,
              "#9c179e"
             ],
             [
              0.4444444444444444,
              "#bd3786"
             ],
             [
              0.5555555555555556,
              "#d8576b"
             ],
             [
              0.6666666666666666,
              "#ed7953"
             ],
             [
              0.7777777777777778,
              "#fb9f3a"
             ],
             [
              0.8888888888888888,
              "#fdca26"
             ],
             [
              1,
              "#f0f921"
             ]
            ],
            "type": "heatmapgl"
           }
          ],
          "histogram": [
           {
            "marker": {
             "pattern": {
              "fillmode": "overlay",
              "size": 10,
              "solidity": 0.2
             }
            },
            "type": "histogram"
           }
          ],
          "histogram2d": [
           {
            "colorbar": {
             "outlinewidth": 0,
             "ticks": ""
            },
            "colorscale": [
             [
              0,
              "#0d0887"
             ],
             [
              0.1111111111111111,
              "#46039f"
             ],
             [
              0.2222222222222222,
              "#7201a8"
             ],
             [
              0.3333333333333333,
              "#9c179e"
             ],
             [
              0.4444444444444444,
              "#bd3786"
             ],
             [
              0.5555555555555556,
              "#d8576b"
             ],
             [
              0.6666666666666666,
              "#ed7953"
             ],
             [
              0.7777777777777778,
              "#fb9f3a"
             ],
             [
              0.8888888888888888,
              "#fdca26"
             ],
             [
              1,
              "#f0f921"
             ]
            ],
            "type": "histogram2d"
           }
          ],
          "histogram2dcontour": [
           {
            "colorbar": {
             "outlinewidth": 0,
             "ticks": ""
            },
            "colorscale": [
             [
              0,
              "#0d0887"
             ],
             [
              0.1111111111111111,
              "#46039f"
             ],
             [
              0.2222222222222222,
              "#7201a8"
             ],
             [
              0.3333333333333333,
              "#9c179e"
             ],
             [
              0.4444444444444444,
              "#bd3786"
             ],
             [
              0.5555555555555556,
              "#d8576b"
             ],
             [
              0.6666666666666666,
              "#ed7953"
             ],
             [
              0.7777777777777778,
              "#fb9f3a"
             ],
             [
              0.8888888888888888,
              "#fdca26"
             ],
             [
              1,
              "#f0f921"
             ]
            ],
            "type": "histogram2dcontour"
           }
          ],
          "mesh3d": [
           {
            "colorbar": {
             "outlinewidth": 0,
             "ticks": ""
            },
            "type": "mesh3d"
           }
          ],
          "parcoords": [
           {
            "line": {
             "colorbar": {
              "outlinewidth": 0,
              "ticks": ""
             }
            },
            "type": "parcoords"
           }
          ],
          "pie": [
           {
            "automargin": true,
            "type": "pie"
           }
          ],
          "scatter": [
           {
            "fillpattern": {
             "fillmode": "overlay",
             "size": 10,
             "solidity": 0.2
            },
            "type": "scatter"
           }
          ],
          "scatter3d": [
           {
            "line": {
             "colorbar": {
              "outlinewidth": 0,
              "ticks": ""
             }
            },
            "marker": {
             "colorbar": {
              "outlinewidth": 0,
              "ticks": ""
             }
            },
            "type": "scatter3d"
           }
          ],
          "scattercarpet": [
           {
            "marker": {
             "colorbar": {
              "outlinewidth": 0,
              "ticks": ""
             }
            },
            "type": "scattercarpet"
           }
          ],
          "scattergeo": [
           {
            "marker": {
             "colorbar": {
              "outlinewidth": 0,
              "ticks": ""
             }
            },
            "type": "scattergeo"
           }
          ],
          "scattergl": [
           {
            "marker": {
             "colorbar": {
              "outlinewidth": 0,
              "ticks": ""
             }
            },
            "type": "scattergl"
           }
          ],
          "scattermapbox": [
           {
            "marker": {
             "colorbar": {
              "outlinewidth": 0,
              "ticks": ""
             }
            },
            "type": "scattermapbox"
           }
          ],
          "scatterpolar": [
           {
            "marker": {
             "colorbar": {
              "outlinewidth": 0,
              "ticks": ""
             }
            },
            "type": "scatterpolar"
           }
          ],
          "scatterpolargl": [
           {
            "marker": {
             "colorbar": {
              "outlinewidth": 0,
              "ticks": ""
             }
            },
            "type": "scatterpolargl"
           }
          ],
          "scatterternary": [
           {
            "marker": {
             "colorbar": {
              "outlinewidth": 0,
              "ticks": ""
             }
            },
            "type": "scatterternary"
           }
          ],
          "surface": [
           {
            "colorbar": {
             "outlinewidth": 0,
             "ticks": ""
            },
            "colorscale": [
             [
              0,
              "#0d0887"
             ],
             [
              0.1111111111111111,
              "#46039f"
             ],
             [
              0.2222222222222222,
              "#7201a8"
             ],
             [
              0.3333333333333333,
              "#9c179e"
             ],
             [
              0.4444444444444444,
              "#bd3786"
             ],
             [
              0.5555555555555556,
              "#d8576b"
             ],
             [
              0.6666666666666666,
              "#ed7953"
             ],
             [
              0.7777777777777778,
              "#fb9f3a"
             ],
             [
              0.8888888888888888,
              "#fdca26"
             ],
             [
              1,
              "#f0f921"
             ]
            ],
            "type": "surface"
           }
          ],
          "table": [
           {
            "cells": {
             "fill": {
              "color": "#EBF0F8"
             },
             "line": {
              "color": "white"
             }
            },
            "header": {
             "fill": {
              "color": "#C8D4E3"
             },
             "line": {
              "color": "white"
             }
            },
            "type": "table"
           }
          ]
         },
         "layout": {
          "annotationdefaults": {
           "arrowcolor": "#2a3f5f",
           "arrowhead": 0,
           "arrowwidth": 1
          },
          "autotypenumbers": "strict",
          "coloraxis": {
           "colorbar": {
            "outlinewidth": 0,
            "ticks": ""
           }
          },
          "colorscale": {
           "diverging": [
            [
             0,
             "#8e0152"
            ],
            [
             0.1,
             "#c51b7d"
            ],
            [
             0.2,
             "#de77ae"
            ],
            [
             0.3,
             "#f1b6da"
            ],
            [
             0.4,
             "#fde0ef"
            ],
            [
             0.5,
             "#f7f7f7"
            ],
            [
             0.6,
             "#e6f5d0"
            ],
            [
             0.7,
             "#b8e186"
            ],
            [
             0.8,
             "#7fbc41"
            ],
            [
             0.9,
             "#4d9221"
            ],
            [
             1,
             "#276419"
            ]
           ],
           "sequential": [
            [
             0,
             "#0d0887"
            ],
            [
             0.1111111111111111,
             "#46039f"
            ],
            [
             0.2222222222222222,
             "#7201a8"
            ],
            [
             0.3333333333333333,
             "#9c179e"
            ],
            [
             0.4444444444444444,
             "#bd3786"
            ],
            [
             0.5555555555555556,
             "#d8576b"
            ],
            [
             0.6666666666666666,
             "#ed7953"
            ],
            [
             0.7777777777777778,
             "#fb9f3a"
            ],
            [
             0.8888888888888888,
             "#fdca26"
            ],
            [
             1,
             "#f0f921"
            ]
           ],
           "sequentialminus": [
            [
             0,
             "#0d0887"
            ],
            [
             0.1111111111111111,
             "#46039f"
            ],
            [
             0.2222222222222222,
             "#7201a8"
            ],
            [
             0.3333333333333333,
             "#9c179e"
            ],
            [
             0.4444444444444444,
             "#bd3786"
            ],
            [
             0.5555555555555556,
             "#d8576b"
            ],
            [
             0.6666666666666666,
             "#ed7953"
            ],
            [
             0.7777777777777778,
             "#fb9f3a"
            ],
            [
             0.8888888888888888,
             "#fdca26"
            ],
            [
             1,
             "#f0f921"
            ]
           ]
          },
          "colorway": [
           "#636efa",
           "#EF553B",
           "#00cc96",
           "#ab63fa",
           "#FFA15A",
           "#19d3f3",
           "#FF6692",
           "#B6E880",
           "#FF97FF",
           "#FECB52"
          ],
          "font": {
           "color": "#2a3f5f"
          },
          "geo": {
           "bgcolor": "white",
           "lakecolor": "white",
           "landcolor": "white",
           "showlakes": true,
           "showland": true,
           "subunitcolor": "#C8D4E3"
          },
          "hoverlabel": {
           "align": "left"
          },
          "hovermode": "closest",
          "mapbox": {
           "style": "light"
          },
          "paper_bgcolor": "white",
          "plot_bgcolor": "white",
          "polar": {
           "angularaxis": {
            "gridcolor": "#EBF0F8",
            "linecolor": "#EBF0F8",
            "ticks": ""
           },
           "bgcolor": "white",
           "radialaxis": {
            "gridcolor": "#EBF0F8",
            "linecolor": "#EBF0F8",
            "ticks": ""
           }
          },
          "scene": {
           "xaxis": {
            "backgroundcolor": "white",
            "gridcolor": "#DFE8F3",
            "gridwidth": 2,
            "linecolor": "#EBF0F8",
            "showbackground": true,
            "ticks": "",
            "zerolinecolor": "#EBF0F8"
           },
           "yaxis": {
            "backgroundcolor": "white",
            "gridcolor": "#DFE8F3",
            "gridwidth": 2,
            "linecolor": "#EBF0F8",
            "showbackground": true,
            "ticks": "",
            "zerolinecolor": "#EBF0F8"
           },
           "zaxis": {
            "backgroundcolor": "white",
            "gridcolor": "#DFE8F3",
            "gridwidth": 2,
            "linecolor": "#EBF0F8",
            "showbackground": true,
            "ticks": "",
            "zerolinecolor": "#EBF0F8"
           }
          },
          "shapedefaults": {
           "line": {
            "color": "#2a3f5f"
           }
          },
          "ternary": {
           "aaxis": {
            "gridcolor": "#DFE8F3",
            "linecolor": "#A2B1C6",
            "ticks": ""
           },
           "baxis": {
            "gridcolor": "#DFE8F3",
            "linecolor": "#A2B1C6",
            "ticks": ""
           },
           "bgcolor": "white",
           "caxis": {
            "gridcolor": "#DFE8F3",
            "linecolor": "#A2B1C6",
            "ticks": ""
           }
          },
          "title": {
           "x": 0.05
          },
          "xaxis": {
           "automargin": true,
           "gridcolor": "#EBF0F8",
           "linecolor": "#EBF0F8",
           "ticks": "",
           "title": {
            "standoff": 15
           },
           "zerolinecolor": "#EBF0F8",
           "zerolinewidth": 2
          },
          "yaxis": {
           "automargin": true,
           "gridcolor": "#EBF0F8",
           "linecolor": "#EBF0F8",
           "ticks": "",
           "title": {
            "standoff": 15
           },
           "zerolinecolor": "#EBF0F8",
           "zerolinewidth": 2
          }
         }
        },
        "title": {
         "text": "Cross-Validation (N=5) Mean F1 score with Error Bands"
        },
        "xaxis": {
         "title": {
          "text": "Training Steps"
         }
        },
        "yaxis": {
         "range": [
          0.5,
          1
         ],
         "title": {
          "text": "Performance Score"
         }
        }
       }
      },
      "text/html": [
       "<div>                            <div id=\"63f85318-2a4f-4f8d-84c4-4169f5c71b05\" class=\"plotly-graph-div\" style=\"height:525px; width:100%;\"></div>            <script type=\"text/javascript\">                require([\"plotly\"], function(Plotly) {                    window.PLOTLYENV=window.PLOTLYENV || {};                                    if (document.getElementById(\"63f85318-2a4f-4f8d-84c4-4169f5c71b05\")) {                    Plotly.newPlot(                        \"63f85318-2a4f-4f8d-84c4-4169f5c71b05\",                        [{\"line\":{\"color\":\"blue\"},\"mode\":\"lines\",\"name\":\"Mean F1 Score\",\"x\":[0,1,2,3,4,5,6,7,8,9,10,11,12,13,14,15,16,17,18,19,20,21,22,23,24,25,26,27,28,29,30,31,32,33,34,35,36,37,38,39,40,41,42,43,44,45,46,47,48,49,50,51,52,53,54,55,56,57,58,59,60,61,62,63,64,65,66,67,68,69,70,71,72,73,74,75,76,77,78,79,80,81,82,83,84,85,86,87,88,89,90,91,92,93,94,95,96,97,98,99,100,101,102,103,104,105,106,107,108,109,110,111,112,113,114,115,116,117,118,119,120,121,122,123],\"y\":[0.9132467532467532,0.9513043478260867,1.0,1.0,1.0,1.0,1.0,1.0,1.0,1.0,1.0,1.0,1.0,1.0,1.0,1.0,1.0,1.0,1.0,1.0,1.0,1.0,1.0,1.0,1.0,1.0,1.0,1.0,1.0,1.0,1.0,1.0,1.0,1.0,1.0,1.0,1.0,1.0,1.0,1.0,1.0,1.0,1.0,1.0,1.0,1.0,1.0,1.0,1.0,1.0,1.0,1.0,1.0,1.0,1.0,1.0,1.0,1.0,1.0,1.0,1.0,1.0,1.0,1.0,1.0,1.0,1.0,1.0,1.0,1.0,1.0,1.0,1.0,1.0,1.0,1.0,1.0,1.0,1.0,1.0,1.0,1.0,1.0,1.0,1.0,1.0,1.0,1.0,1.0,1.0,1.0,1.0,1.0,1.0,1.0,1.0,1.0,1.0,1.0,1.0,1.0,1.0,1.0,1.0,1.0,1.0,1.0,1.0,1.0,1.0,1.0,1.0,1.0,1.0,1.0,1.0,1.0,1.0,1.0,1.0,1.0,1.0,1.0,1.0],\"type\":\"scatter\"},{\"fill\":\"toself\",\"fillcolor\":\"rgba(0, 0, 255, 0.2)\",\"line\":{\"color\":\"rgba(255, 255, 255, 0)\"},\"showlegend\":false,\"x\":[0.9132467532467532,0.9513043478260867,1.0,1.0,1.0,1.0,1.0,1.0,1.0,1.0,1.0,1.0,1.0,1.0,1.0,1.0,1.0,1.0,1.0,1.0,1.0,1.0,1.0,1.0,1.0,1.0,1.0,1.0,1.0,1.0,1.0,1.0,1.0,1.0,1.0,1.0,1.0,1.0,1.0,1.0,1.0,1.0,1.0,1.0,1.0,1.0,1.0,1.0,1.0,1.0,1.0,1.0,1.0,1.0,1.0,1.0,1.0,1.0,1.0,1.0,1.0,1.0,1.0,1.0,1.0,1.0,1.0,1.0,1.0,1.0,1.0,1.0,1.0,1.0,1.0,1.0,1.0,1.0,1.0,1.0,1.0,1.0,1.0,1.0,1.0,1.0,1.0,1.0,1.0,1.0,1.0,1.0,1.0,1.0,1.0,1.0,1.0,1.0,1.0,1.0,1.0,1.0,1.0,1.0,1.0,1.0,1.0,1.0,1.0,1.0,1.0,1.0,1.0,1.0,1.0,1.0,1.0,1.0,1.0,1.0,1.0,1.0,1.0,1.0,123.0,122.0,121.0,120.0,119.0,118.0,117.0,116.0,115.0,114.0,113.0,112.0,111.0,110.0,109.0,108.0,107.0,106.0,105.0,104.0,103.0,102.0,101.0,100.0,99.0,98.0,97.0,96.0,95.0,94.0,93.0,92.0,91.0,90.0,89.0,88.0,87.0,86.0,85.0,84.0,83.0,82.0,81.0,80.0,79.0,78.0,77.0,76.0,75.0,74.0,73.0,72.0,71.0,70.0,69.0,68.0,67.0,66.0,65.0,64.0,63.0,62.0,61.0,60.0,59.0,58.0,57.0,56.0,55.0,54.0,53.0,52.0,51.0,50.0,49.0,48.0,47.0,46.0,45.0,44.0,43.0,42.0,41.0,40.0,39.0,38.0,37.0,36.0,35.0,34.0,33.0,32.0,31.0,30.0,29.0,28.0,27.0,26.0,25.0,24.0,23.0,22.0,21.0,20.0,19.0,18.0,17.0,16.0,15.0,14.0,13.0,12.0,11.0,10.0,9.0,8.0,7.0,6.0,5.0,4.0,3.0,2.0,1.0,0.0],\"y\":[1.0013404490542213,1.0379559872581083,1.0,1.0,1.0,1.0,1.0,1.0,1.0,1.0,1.0,1.0,1.0,1.0,1.0,1.0,1.0,1.0,1.0,1.0,1.0,1.0,1.0,1.0,1.0,1.0,1.0,1.0,1.0,1.0,1.0,1.0,1.0,1.0,1.0,1.0,1.0,1.0,1.0,1.0,1.0,1.0,1.0,1.0,1.0,1.0,1.0,1.0,1.0,1.0,1.0,1.0,1.0,1.0,1.0,1.0,1.0,1.0,1.0,1.0,1.0,1.0,1.0,1.0,1.0,1.0,1.0,1.0,1.0,1.0,1.0,1.0,1.0,1.0,1.0,1.0,1.0,1.0,1.0,1.0,1.0,1.0,1.0,1.0,1.0,1.0,1.0,1.0,1.0,1.0,1.0,1.0,1.0,1.0,1.0,1.0,1.0,1.0,1.0,1.0,1.0,1.0,1.0,1.0,1.0,1.0,1.0,1.0,1.0,1.0,1.0,1.0,1.0,1.0,1.0,1.0,1.0,1.0,1.0,1.0,1.0,1.0,1.0,1.0,0.8251530574392852,0.8646527083940652,1.0,1.0,1.0,1.0,1.0,1.0,1.0,1.0,1.0,1.0,1.0,1.0,1.0,1.0,1.0,1.0,1.0,1.0,1.0,1.0,1.0,1.0,1.0,1.0,1.0,1.0,1.0,1.0,1.0,1.0,1.0,1.0,1.0,1.0,1.0,1.0,1.0,1.0,1.0,1.0,1.0,1.0,1.0,1.0,1.0,1.0,1.0,1.0,1.0,1.0,1.0,1.0,1.0,1.0,1.0,1.0,1.0,1.0,1.0,1.0,1.0,1.0,1.0,1.0,1.0,1.0,1.0,1.0,1.0,1.0,1.0,1.0,1.0,1.0,1.0,1.0,1.0,1.0,1.0,1.0,1.0,1.0,1.0,1.0,1.0,1.0,1.0,1.0,1.0,1.0,1.0,1.0,1.0,1.0,1.0,1.0,1.0,1.0,1.0,1.0,1.0,1.0,1.0,1.0,1.0,1.0,1.0,1.0,1.0,1.0,1.0,1.0,1.0,1.0,1.0,1.0,1.0,1.0,1.0,1.0,1.0,1.0],\"type\":\"scatter\"}],                        {\"template\":{\"data\":{\"barpolar\":[{\"marker\":{\"line\":{\"color\":\"white\",\"width\":0.5},\"pattern\":{\"fillmode\":\"overlay\",\"size\":10,\"solidity\":0.2}},\"type\":\"barpolar\"}],\"bar\":[{\"error_x\":{\"color\":\"#2a3f5f\"},\"error_y\":{\"color\":\"#2a3f5f\"},\"marker\":{\"line\":{\"color\":\"white\",\"width\":0.5},\"pattern\":{\"fillmode\":\"overlay\",\"size\":10,\"solidity\":0.2}},\"type\":\"bar\"}],\"carpet\":[{\"aaxis\":{\"endlinecolor\":\"#2a3f5f\",\"gridcolor\":\"#C8D4E3\",\"linecolor\":\"#C8D4E3\",\"minorgridcolor\":\"#C8D4E3\",\"startlinecolor\":\"#2a3f5f\"},\"baxis\":{\"endlinecolor\":\"#2a3f5f\",\"gridcolor\":\"#C8D4E3\",\"linecolor\":\"#C8D4E3\",\"minorgridcolor\":\"#C8D4E3\",\"startlinecolor\":\"#2a3f5f\"},\"type\":\"carpet\"}],\"choropleth\":[{\"colorbar\":{\"outlinewidth\":0,\"ticks\":\"\"},\"type\":\"choropleth\"}],\"contourcarpet\":[{\"colorbar\":{\"outlinewidth\":0,\"ticks\":\"\"},\"type\":\"contourcarpet\"}],\"contour\":[{\"colorbar\":{\"outlinewidth\":0,\"ticks\":\"\"},\"colorscale\":[[0.0,\"#0d0887\"],[0.1111111111111111,\"#46039f\"],[0.2222222222222222,\"#7201a8\"],[0.3333333333333333,\"#9c179e\"],[0.4444444444444444,\"#bd3786\"],[0.5555555555555556,\"#d8576b\"],[0.6666666666666666,\"#ed7953\"],[0.7777777777777778,\"#fb9f3a\"],[0.8888888888888888,\"#fdca26\"],[1.0,\"#f0f921\"]],\"type\":\"contour\"}],\"heatmapgl\":[{\"colorbar\":{\"outlinewidth\":0,\"ticks\":\"\"},\"colorscale\":[[0.0,\"#0d0887\"],[0.1111111111111111,\"#46039f\"],[0.2222222222222222,\"#7201a8\"],[0.3333333333333333,\"#9c179e\"],[0.4444444444444444,\"#bd3786\"],[0.5555555555555556,\"#d8576b\"],[0.6666666666666666,\"#ed7953\"],[0.7777777777777778,\"#fb9f3a\"],[0.8888888888888888,\"#fdca26\"],[1.0,\"#f0f921\"]],\"type\":\"heatmapgl\"}],\"heatmap\":[{\"colorbar\":{\"outlinewidth\":0,\"ticks\":\"\"},\"colorscale\":[[0.0,\"#0d0887\"],[0.1111111111111111,\"#46039f\"],[0.2222222222222222,\"#7201a8\"],[0.3333333333333333,\"#9c179e\"],[0.4444444444444444,\"#bd3786\"],[0.5555555555555556,\"#d8576b\"],[0.6666666666666666,\"#ed7953\"],[0.7777777777777778,\"#fb9f3a\"],[0.8888888888888888,\"#fdca26\"],[1.0,\"#f0f921\"]],\"type\":\"heatmap\"}],\"histogram2dcontour\":[{\"colorbar\":{\"outlinewidth\":0,\"ticks\":\"\"},\"colorscale\":[[0.0,\"#0d0887\"],[0.1111111111111111,\"#46039f\"],[0.2222222222222222,\"#7201a8\"],[0.3333333333333333,\"#9c179e\"],[0.4444444444444444,\"#bd3786\"],[0.5555555555555556,\"#d8576b\"],[0.6666666666666666,\"#ed7953\"],[0.7777777777777778,\"#fb9f3a\"],[0.8888888888888888,\"#fdca26\"],[1.0,\"#f0f921\"]],\"type\":\"histogram2dcontour\"}],\"histogram2d\":[{\"colorbar\":{\"outlinewidth\":0,\"ticks\":\"\"},\"colorscale\":[[0.0,\"#0d0887\"],[0.1111111111111111,\"#46039f\"],[0.2222222222222222,\"#7201a8\"],[0.3333333333333333,\"#9c179e\"],[0.4444444444444444,\"#bd3786\"],[0.5555555555555556,\"#d8576b\"],[0.6666666666666666,\"#ed7953\"],[0.7777777777777778,\"#fb9f3a\"],[0.8888888888888888,\"#fdca26\"],[1.0,\"#f0f921\"]],\"type\":\"histogram2d\"}],\"histogram\":[{\"marker\":{\"pattern\":{\"fillmode\":\"overlay\",\"size\":10,\"solidity\":0.2}},\"type\":\"histogram\"}],\"mesh3d\":[{\"colorbar\":{\"outlinewidth\":0,\"ticks\":\"\"},\"type\":\"mesh3d\"}],\"parcoords\":[{\"line\":{\"colorbar\":{\"outlinewidth\":0,\"ticks\":\"\"}},\"type\":\"parcoords\"}],\"pie\":[{\"automargin\":true,\"type\":\"pie\"}],\"scatter3d\":[{\"line\":{\"colorbar\":{\"outlinewidth\":0,\"ticks\":\"\"}},\"marker\":{\"colorbar\":{\"outlinewidth\":0,\"ticks\":\"\"}},\"type\":\"scatter3d\"}],\"scattercarpet\":[{\"marker\":{\"colorbar\":{\"outlinewidth\":0,\"ticks\":\"\"}},\"type\":\"scattercarpet\"}],\"scattergeo\":[{\"marker\":{\"colorbar\":{\"outlinewidth\":0,\"ticks\":\"\"}},\"type\":\"scattergeo\"}],\"scattergl\":[{\"marker\":{\"colorbar\":{\"outlinewidth\":0,\"ticks\":\"\"}},\"type\":\"scattergl\"}],\"scattermapbox\":[{\"marker\":{\"colorbar\":{\"outlinewidth\":0,\"ticks\":\"\"}},\"type\":\"scattermapbox\"}],\"scatterpolargl\":[{\"marker\":{\"colorbar\":{\"outlinewidth\":0,\"ticks\":\"\"}},\"type\":\"scatterpolargl\"}],\"scatterpolar\":[{\"marker\":{\"colorbar\":{\"outlinewidth\":0,\"ticks\":\"\"}},\"type\":\"scatterpolar\"}],\"scatter\":[{\"fillpattern\":{\"fillmode\":\"overlay\",\"size\":10,\"solidity\":0.2},\"type\":\"scatter\"}],\"scatterternary\":[{\"marker\":{\"colorbar\":{\"outlinewidth\":0,\"ticks\":\"\"}},\"type\":\"scatterternary\"}],\"surface\":[{\"colorbar\":{\"outlinewidth\":0,\"ticks\":\"\"},\"colorscale\":[[0.0,\"#0d0887\"],[0.1111111111111111,\"#46039f\"],[0.2222222222222222,\"#7201a8\"],[0.3333333333333333,\"#9c179e\"],[0.4444444444444444,\"#bd3786\"],[0.5555555555555556,\"#d8576b\"],[0.6666666666666666,\"#ed7953\"],[0.7777777777777778,\"#fb9f3a\"],[0.8888888888888888,\"#fdca26\"],[1.0,\"#f0f921\"]],\"type\":\"surface\"}],\"table\":[{\"cells\":{\"fill\":{\"color\":\"#EBF0F8\"},\"line\":{\"color\":\"white\"}},\"header\":{\"fill\":{\"color\":\"#C8D4E3\"},\"line\":{\"color\":\"white\"}},\"type\":\"table\"}]},\"layout\":{\"annotationdefaults\":{\"arrowcolor\":\"#2a3f5f\",\"arrowhead\":0,\"arrowwidth\":1},\"autotypenumbers\":\"strict\",\"coloraxis\":{\"colorbar\":{\"outlinewidth\":0,\"ticks\":\"\"}},\"colorscale\":{\"diverging\":[[0,\"#8e0152\"],[0.1,\"#c51b7d\"],[0.2,\"#de77ae\"],[0.3,\"#f1b6da\"],[0.4,\"#fde0ef\"],[0.5,\"#f7f7f7\"],[0.6,\"#e6f5d0\"],[0.7,\"#b8e186\"],[0.8,\"#7fbc41\"],[0.9,\"#4d9221\"],[1,\"#276419\"]],\"sequential\":[[0.0,\"#0d0887\"],[0.1111111111111111,\"#46039f\"],[0.2222222222222222,\"#7201a8\"],[0.3333333333333333,\"#9c179e\"],[0.4444444444444444,\"#bd3786\"],[0.5555555555555556,\"#d8576b\"],[0.6666666666666666,\"#ed7953\"],[0.7777777777777778,\"#fb9f3a\"],[0.8888888888888888,\"#fdca26\"],[1.0,\"#f0f921\"]],\"sequentialminus\":[[0.0,\"#0d0887\"],[0.1111111111111111,\"#46039f\"],[0.2222222222222222,\"#7201a8\"],[0.3333333333333333,\"#9c179e\"],[0.4444444444444444,\"#bd3786\"],[0.5555555555555556,\"#d8576b\"],[0.6666666666666666,\"#ed7953\"],[0.7777777777777778,\"#fb9f3a\"],[0.8888888888888888,\"#fdca26\"],[1.0,\"#f0f921\"]]},\"colorway\":[\"#636efa\",\"#EF553B\",\"#00cc96\",\"#ab63fa\",\"#FFA15A\",\"#19d3f3\",\"#FF6692\",\"#B6E880\",\"#FF97FF\",\"#FECB52\"],\"font\":{\"color\":\"#2a3f5f\"},\"geo\":{\"bgcolor\":\"white\",\"lakecolor\":\"white\",\"landcolor\":\"white\",\"showlakes\":true,\"showland\":true,\"subunitcolor\":\"#C8D4E3\"},\"hoverlabel\":{\"align\":\"left\"},\"hovermode\":\"closest\",\"mapbox\":{\"style\":\"light\"},\"paper_bgcolor\":\"white\",\"plot_bgcolor\":\"white\",\"polar\":{\"angularaxis\":{\"gridcolor\":\"#EBF0F8\",\"linecolor\":\"#EBF0F8\",\"ticks\":\"\"},\"bgcolor\":\"white\",\"radialaxis\":{\"gridcolor\":\"#EBF0F8\",\"linecolor\":\"#EBF0F8\",\"ticks\":\"\"}},\"scene\":{\"xaxis\":{\"backgroundcolor\":\"white\",\"gridcolor\":\"#DFE8F3\",\"gridwidth\":2,\"linecolor\":\"#EBF0F8\",\"showbackground\":true,\"ticks\":\"\",\"zerolinecolor\":\"#EBF0F8\"},\"yaxis\":{\"backgroundcolor\":\"white\",\"gridcolor\":\"#DFE8F3\",\"gridwidth\":2,\"linecolor\":\"#EBF0F8\",\"showbackground\":true,\"ticks\":\"\",\"zerolinecolor\":\"#EBF0F8\"},\"zaxis\":{\"backgroundcolor\":\"white\",\"gridcolor\":\"#DFE8F3\",\"gridwidth\":2,\"linecolor\":\"#EBF0F8\",\"showbackground\":true,\"ticks\":\"\",\"zerolinecolor\":\"#EBF0F8\"}},\"shapedefaults\":{\"line\":{\"color\":\"#2a3f5f\"}},\"ternary\":{\"aaxis\":{\"gridcolor\":\"#DFE8F3\",\"linecolor\":\"#A2B1C6\",\"ticks\":\"\"},\"baxis\":{\"gridcolor\":\"#DFE8F3\",\"linecolor\":\"#A2B1C6\",\"ticks\":\"\"},\"bgcolor\":\"white\",\"caxis\":{\"gridcolor\":\"#DFE8F3\",\"linecolor\":\"#A2B1C6\",\"ticks\":\"\"}},\"title\":{\"x\":0.05},\"xaxis\":{\"automargin\":true,\"gridcolor\":\"#EBF0F8\",\"linecolor\":\"#EBF0F8\",\"ticks\":\"\",\"title\":{\"standoff\":15},\"zerolinecolor\":\"#EBF0F8\",\"zerolinewidth\":2},\"yaxis\":{\"automargin\":true,\"gridcolor\":\"#EBF0F8\",\"linecolor\":\"#EBF0F8\",\"ticks\":\"\",\"title\":{\"standoff\":15},\"zerolinecolor\":\"#EBF0F8\",\"zerolinewidth\":2}}},\"title\":{\"text\":\"Cross-Validation (N=5) Mean F1 score with Error Bands\"},\"xaxis\":{\"title\":{\"text\":\"Training Steps\"}},\"yaxis\":{\"title\":{\"text\":\"Performance Score\"},\"range\":[0.5,1]}},                        {\"responsive\": true}                    ).then(function(){\n",
       "                            \n",
       "var gd = document.getElementById('63f85318-2a4f-4f8d-84c4-4169f5c71b05');\n",
       "var x = new MutationObserver(function (mutations, observer) {{\n",
       "        var display = window.getComputedStyle(gd).display;\n",
       "        if (!display || display === 'none') {{\n",
       "            console.log([gd, 'removed!']);\n",
       "            Plotly.purge(gd);\n",
       "            observer.disconnect();\n",
       "        }}\n",
       "}});\n",
       "\n",
       "// Listen for the removal of the full notebook cells\n",
       "var notebookContainer = gd.closest('#notebook-container');\n",
       "if (notebookContainer) {{\n",
       "    x.observe(notebookContainer, {childList: true});\n",
       "}}\n",
       "\n",
       "// Listen for the clearing of the current output cell\n",
       "var outputEl = gd.closest('.output');\n",
       "if (outputEl) {{\n",
       "    x.observe(outputEl, {childList: true});\n",
       "}}\n",
       "\n",
       "                        })                };                });            </script>        </div>"
      ]
     },
     "metadata": {},
     "output_type": "display_data"
    },
    {
     "data": {
      "application/vnd.plotly.v1+json": {
       "config": {
        "plotlyServerURL": "https://plot.ly"
       },
       "data": [
        {
         "line": {
          "color": "blue"
         },
         "mode": "lines",
         "name": "Mean F1 Score",
         "type": "scatter",
         "x": [
          0,
          1,
          2,
          3,
          4,
          5,
          6,
          7,
          8,
          9,
          10,
          11,
          12,
          13,
          14,
          15,
          16,
          17,
          18,
          19,
          20,
          21,
          22,
          23,
          24,
          25,
          26,
          27,
          28,
          29,
          30,
          31,
          32,
          33,
          34,
          35,
          36,
          37,
          38,
          39,
          40,
          41,
          42,
          43,
          44,
          45,
          46,
          47,
          48,
          49,
          50,
          51,
          52,
          53,
          54,
          55,
          56,
          57,
          58,
          59,
          60,
          61,
          62,
          63,
          64,
          65,
          66,
          67,
          68,
          69,
          70,
          71,
          72,
          73,
          74,
          75,
          76,
          77,
          78,
          79,
          80,
          81,
          82,
          83,
          84,
          85,
          86,
          87,
          88,
          89,
          90,
          91,
          92,
          93,
          94,
          95,
          96,
          97,
          98,
          99,
          100,
          101,
          102,
          103,
          104,
          105,
          106,
          107,
          108,
          109,
          110,
          111,
          112,
          113,
          114,
          115,
          116,
          117,
          118,
          119,
          120,
          121,
          122,
          123
         ],
         "y": [
          0.9132467532467532,
          0.9513043478260867,
          1,
          1,
          1,
          1,
          1,
          1,
          1,
          1,
          1,
          1,
          1,
          1,
          1,
          1,
          1,
          1,
          1,
          1,
          1,
          1,
          1,
          1,
          1,
          1,
          1,
          1,
          1,
          1,
          1,
          1,
          1,
          1,
          1,
          1,
          1,
          1,
          1,
          1,
          1,
          1,
          1,
          1,
          1,
          1,
          1,
          1,
          1,
          1,
          1,
          1,
          1,
          1,
          1,
          1,
          1,
          1,
          1,
          1,
          1,
          1,
          1,
          1,
          1,
          1,
          1,
          1,
          1,
          1,
          1,
          1,
          1,
          1,
          1,
          1,
          1,
          1,
          1,
          1,
          1,
          1,
          1,
          1,
          1,
          1,
          1,
          1,
          1,
          1,
          1,
          1,
          1,
          1,
          1,
          1,
          1,
          1,
          1,
          1,
          1,
          1,
          1,
          1,
          1,
          1,
          1,
          1,
          1,
          1,
          1,
          1,
          1,
          1,
          1,
          1,
          1,
          1,
          1,
          1,
          1,
          1,
          1,
          1
         ]
        },
        {
         "fill": "toself",
         "fillcolor": "rgba(0, 0, 255, 0.2)",
         "line": {
          "color": "rgba(255, 255, 255, 0)"
         },
         "showlegend": false,
         "type": "scatter",
         "x": [
          0.9132467532467532,
          0.9513043478260867,
          1,
          1,
          1,
          1,
          1,
          1,
          1,
          1,
          1,
          1,
          1,
          1,
          1,
          1,
          1,
          1,
          1,
          1,
          1,
          1,
          1,
          1,
          1,
          1,
          1,
          1,
          1,
          1,
          1,
          1,
          1,
          1,
          1,
          1,
          1,
          1,
          1,
          1,
          1,
          1,
          1,
          1,
          1,
          1,
          1,
          1,
          1,
          1,
          1,
          1,
          1,
          1,
          1,
          1,
          1,
          1,
          1,
          1,
          1,
          1,
          1,
          1,
          1,
          1,
          1,
          1,
          1,
          1,
          1,
          1,
          1,
          1,
          1,
          1,
          1,
          1,
          1,
          1,
          1,
          1,
          1,
          1,
          1,
          1,
          1,
          1,
          1,
          1,
          1,
          1,
          1,
          1,
          1,
          1,
          1,
          1,
          1,
          1,
          1,
          1,
          1,
          1,
          1,
          1,
          1,
          1,
          1,
          1,
          1,
          1,
          1,
          1,
          1,
          1,
          1,
          1,
          1,
          1,
          1,
          1,
          1,
          1,
          123,
          122,
          121,
          120,
          119,
          118,
          117,
          116,
          115,
          114,
          113,
          112,
          111,
          110,
          109,
          108,
          107,
          106,
          105,
          104,
          103,
          102,
          101,
          100,
          99,
          98,
          97,
          96,
          95,
          94,
          93,
          92,
          91,
          90,
          89,
          88,
          87,
          86,
          85,
          84,
          83,
          82,
          81,
          80,
          79,
          78,
          77,
          76,
          75,
          74,
          73,
          72,
          71,
          70,
          69,
          68,
          67,
          66,
          65,
          64,
          63,
          62,
          61,
          60,
          59,
          58,
          57,
          56,
          55,
          54,
          53,
          52,
          51,
          50,
          49,
          48,
          47,
          46,
          45,
          44,
          43,
          42,
          41,
          40,
          39,
          38,
          37,
          36,
          35,
          34,
          33,
          32,
          31,
          30,
          29,
          28,
          27,
          26,
          25,
          24,
          23,
          22,
          21,
          20,
          19,
          18,
          17,
          16,
          15,
          14,
          13,
          12,
          11,
          10,
          9,
          8,
          7,
          6,
          5,
          4,
          3,
          2,
          1,
          0
         ],
         "y": [
          1.0013404490542213,
          1.0379559872581083,
          1,
          1,
          1,
          1,
          1,
          1,
          1,
          1,
          1,
          1,
          1,
          1,
          1,
          1,
          1,
          1,
          1,
          1,
          1,
          1,
          1,
          1,
          1,
          1,
          1,
          1,
          1,
          1,
          1,
          1,
          1,
          1,
          1,
          1,
          1,
          1,
          1,
          1,
          1,
          1,
          1,
          1,
          1,
          1,
          1,
          1,
          1,
          1,
          1,
          1,
          1,
          1,
          1,
          1,
          1,
          1,
          1,
          1,
          1,
          1,
          1,
          1,
          1,
          1,
          1,
          1,
          1,
          1,
          1,
          1,
          1,
          1,
          1,
          1,
          1,
          1,
          1,
          1,
          1,
          1,
          1,
          1,
          1,
          1,
          1,
          1,
          1,
          1,
          1,
          1,
          1,
          1,
          1,
          1,
          1,
          1,
          1,
          1,
          1,
          1,
          1,
          1,
          1,
          1,
          1,
          1,
          1,
          1,
          1,
          1,
          1,
          1,
          1,
          1,
          1,
          1,
          1,
          1,
          1,
          1,
          1,
          1,
          0.8251530574392852,
          0.8646527083940652,
          1,
          1,
          1,
          1,
          1,
          1,
          1,
          1,
          1,
          1,
          1,
          1,
          1,
          1,
          1,
          1,
          1,
          1,
          1,
          1,
          1,
          1,
          1,
          1,
          1,
          1,
          1,
          1,
          1,
          1,
          1,
          1,
          1,
          1,
          1,
          1,
          1,
          1,
          1,
          1,
          1,
          1,
          1,
          1,
          1,
          1,
          1,
          1,
          1,
          1,
          1,
          1,
          1,
          1,
          1,
          1,
          1,
          1,
          1,
          1,
          1,
          1,
          1,
          1,
          1,
          1,
          1,
          1,
          1,
          1,
          1,
          1,
          1,
          1,
          1,
          1,
          1,
          1,
          1,
          1,
          1,
          1,
          1,
          1,
          1,
          1,
          1,
          1,
          1,
          1,
          1,
          1,
          1,
          1,
          1,
          1,
          1,
          1,
          1,
          1,
          1,
          1,
          1,
          1,
          1,
          1,
          1,
          1,
          1,
          1,
          1,
          1,
          1,
          1,
          1,
          1,
          1,
          1,
          1,
          1,
          1,
          1
         ]
        }
       ],
       "layout": {
        "template": {
         "data": {
          "bar": [
           {
            "error_x": {
             "color": "#2a3f5f"
            },
            "error_y": {
             "color": "#2a3f5f"
            },
            "marker": {
             "line": {
              "color": "white",
              "width": 0.5
             },
             "pattern": {
              "fillmode": "overlay",
              "size": 10,
              "solidity": 0.2
             }
            },
            "type": "bar"
           }
          ],
          "barpolar": [
           {
            "marker": {
             "line": {
              "color": "white",
              "width": 0.5
             },
             "pattern": {
              "fillmode": "overlay",
              "size": 10,
              "solidity": 0.2
             }
            },
            "type": "barpolar"
           }
          ],
          "carpet": [
           {
            "aaxis": {
             "endlinecolor": "#2a3f5f",
             "gridcolor": "#C8D4E3",
             "linecolor": "#C8D4E3",
             "minorgridcolor": "#C8D4E3",
             "startlinecolor": "#2a3f5f"
            },
            "baxis": {
             "endlinecolor": "#2a3f5f",
             "gridcolor": "#C8D4E3",
             "linecolor": "#C8D4E3",
             "minorgridcolor": "#C8D4E3",
             "startlinecolor": "#2a3f5f"
            },
            "type": "carpet"
           }
          ],
          "choropleth": [
           {
            "colorbar": {
             "outlinewidth": 0,
             "ticks": ""
            },
            "type": "choropleth"
           }
          ],
          "contour": [
           {
            "colorbar": {
             "outlinewidth": 0,
             "ticks": ""
            },
            "colorscale": [
             [
              0,
              "#0d0887"
             ],
             [
              0.1111111111111111,
              "#46039f"
             ],
             [
              0.2222222222222222,
              "#7201a8"
             ],
             [
              0.3333333333333333,
              "#9c179e"
             ],
             [
              0.4444444444444444,
              "#bd3786"
             ],
             [
              0.5555555555555556,
              "#d8576b"
             ],
             [
              0.6666666666666666,
              "#ed7953"
             ],
             [
              0.7777777777777778,
              "#fb9f3a"
             ],
             [
              0.8888888888888888,
              "#fdca26"
             ],
             [
              1,
              "#f0f921"
             ]
            ],
            "type": "contour"
           }
          ],
          "contourcarpet": [
           {
            "colorbar": {
             "outlinewidth": 0,
             "ticks": ""
            },
            "type": "contourcarpet"
           }
          ],
          "heatmap": [
           {
            "colorbar": {
             "outlinewidth": 0,
             "ticks": ""
            },
            "colorscale": [
             [
              0,
              "#0d0887"
             ],
             [
              0.1111111111111111,
              "#46039f"
             ],
             [
              0.2222222222222222,
              "#7201a8"
             ],
             [
              0.3333333333333333,
              "#9c179e"
             ],
             [
              0.4444444444444444,
              "#bd3786"
             ],
             [
              0.5555555555555556,
              "#d8576b"
             ],
             [
              0.6666666666666666,
              "#ed7953"
             ],
             [
              0.7777777777777778,
              "#fb9f3a"
             ],
             [
              0.8888888888888888,
              "#fdca26"
             ],
             [
              1,
              "#f0f921"
             ]
            ],
            "type": "heatmap"
           }
          ],
          "heatmapgl": [
           {
            "colorbar": {
             "outlinewidth": 0,
             "ticks": ""
            },
            "colorscale": [
             [
              0,
              "#0d0887"
             ],
             [
              0.1111111111111111,
              "#46039f"
             ],
             [
              0.2222222222222222,
              "#7201a8"
             ],
             [
              0.3333333333333333,
              "#9c179e"
             ],
             [
              0.4444444444444444,
              "#bd3786"
             ],
             [
              0.5555555555555556,
              "#d8576b"
             ],
             [
              0.6666666666666666,
              "#ed7953"
             ],
             [
              0.7777777777777778,
              "#fb9f3a"
             ],
             [
              0.8888888888888888,
              "#fdca26"
             ],
             [
              1,
              "#f0f921"
             ]
            ],
            "type": "heatmapgl"
           }
          ],
          "histogram": [
           {
            "marker": {
             "pattern": {
              "fillmode": "overlay",
              "size": 10,
              "solidity": 0.2
             }
            },
            "type": "histogram"
           }
          ],
          "histogram2d": [
           {
            "colorbar": {
             "outlinewidth": 0,
             "ticks": ""
            },
            "colorscale": [
             [
              0,
              "#0d0887"
             ],
             [
              0.1111111111111111,
              "#46039f"
             ],
             [
              0.2222222222222222,
              "#7201a8"
             ],
             [
              0.3333333333333333,
              "#9c179e"
             ],
             [
              0.4444444444444444,
              "#bd3786"
             ],
             [
              0.5555555555555556,
              "#d8576b"
             ],
             [
              0.6666666666666666,
              "#ed7953"
             ],
             [
              0.7777777777777778,
              "#fb9f3a"
             ],
             [
              0.8888888888888888,
              "#fdca26"
             ],
             [
              1,
              "#f0f921"
             ]
            ],
            "type": "histogram2d"
           }
          ],
          "histogram2dcontour": [
           {
            "colorbar": {
             "outlinewidth": 0,
             "ticks": ""
            },
            "colorscale": [
             [
              0,
              "#0d0887"
             ],
             [
              0.1111111111111111,
              "#46039f"
             ],
             [
              0.2222222222222222,
              "#7201a8"
             ],
             [
              0.3333333333333333,
              "#9c179e"
             ],
             [
              0.4444444444444444,
              "#bd3786"
             ],
             [
              0.5555555555555556,
              "#d8576b"
             ],
             [
              0.6666666666666666,
              "#ed7953"
             ],
             [
              0.7777777777777778,
              "#fb9f3a"
             ],
             [
              0.8888888888888888,
              "#fdca26"
             ],
             [
              1,
              "#f0f921"
             ]
            ],
            "type": "histogram2dcontour"
           }
          ],
          "mesh3d": [
           {
            "colorbar": {
             "outlinewidth": 0,
             "ticks": ""
            },
            "type": "mesh3d"
           }
          ],
          "parcoords": [
           {
            "line": {
             "colorbar": {
              "outlinewidth": 0,
              "ticks": ""
             }
            },
            "type": "parcoords"
           }
          ],
          "pie": [
           {
            "automargin": true,
            "type": "pie"
           }
          ],
          "scatter": [
           {
            "fillpattern": {
             "fillmode": "overlay",
             "size": 10,
             "solidity": 0.2
            },
            "type": "scatter"
           }
          ],
          "scatter3d": [
           {
            "line": {
             "colorbar": {
              "outlinewidth": 0,
              "ticks": ""
             }
            },
            "marker": {
             "colorbar": {
              "outlinewidth": 0,
              "ticks": ""
             }
            },
            "type": "scatter3d"
           }
          ],
          "scattercarpet": [
           {
            "marker": {
             "colorbar": {
              "outlinewidth": 0,
              "ticks": ""
             }
            },
            "type": "scattercarpet"
           }
          ],
          "scattergeo": [
           {
            "marker": {
             "colorbar": {
              "outlinewidth": 0,
              "ticks": ""
             }
            },
            "type": "scattergeo"
           }
          ],
          "scattergl": [
           {
            "marker": {
             "colorbar": {
              "outlinewidth": 0,
              "ticks": ""
             }
            },
            "type": "scattergl"
           }
          ],
          "scattermapbox": [
           {
            "marker": {
             "colorbar": {
              "outlinewidth": 0,
              "ticks": ""
             }
            },
            "type": "scattermapbox"
           }
          ],
          "scatterpolar": [
           {
            "marker": {
             "colorbar": {
              "outlinewidth": 0,
              "ticks": ""
             }
            },
            "type": "scatterpolar"
           }
          ],
          "scatterpolargl": [
           {
            "marker": {
             "colorbar": {
              "outlinewidth": 0,
              "ticks": ""
             }
            },
            "type": "scatterpolargl"
           }
          ],
          "scatterternary": [
           {
            "marker": {
             "colorbar": {
              "outlinewidth": 0,
              "ticks": ""
             }
            },
            "type": "scatterternary"
           }
          ],
          "surface": [
           {
            "colorbar": {
             "outlinewidth": 0,
             "ticks": ""
            },
            "colorscale": [
             [
              0,
              "#0d0887"
             ],
             [
              0.1111111111111111,
              "#46039f"
             ],
             [
              0.2222222222222222,
              "#7201a8"
             ],
             [
              0.3333333333333333,
              "#9c179e"
             ],
             [
              0.4444444444444444,
              "#bd3786"
             ],
             [
              0.5555555555555556,
              "#d8576b"
             ],
             [
              0.6666666666666666,
              "#ed7953"
             ],
             [
              0.7777777777777778,
              "#fb9f3a"
             ],
             [
              0.8888888888888888,
              "#fdca26"
             ],
             [
              1,
              "#f0f921"
             ]
            ],
            "type": "surface"
           }
          ],
          "table": [
           {
            "cells": {
             "fill": {
              "color": "#EBF0F8"
             },
             "line": {
              "color": "white"
             }
            },
            "header": {
             "fill": {
              "color": "#C8D4E3"
             },
             "line": {
              "color": "white"
             }
            },
            "type": "table"
           }
          ]
         },
         "layout": {
          "annotationdefaults": {
           "arrowcolor": "#2a3f5f",
           "arrowhead": 0,
           "arrowwidth": 1
          },
          "autotypenumbers": "strict",
          "coloraxis": {
           "colorbar": {
            "outlinewidth": 0,
            "ticks": ""
           }
          },
          "colorscale": {
           "diverging": [
            [
             0,
             "#8e0152"
            ],
            [
             0.1,
             "#c51b7d"
            ],
            [
             0.2,
             "#de77ae"
            ],
            [
             0.3,
             "#f1b6da"
            ],
            [
             0.4,
             "#fde0ef"
            ],
            [
             0.5,
             "#f7f7f7"
            ],
            [
             0.6,
             "#e6f5d0"
            ],
            [
             0.7,
             "#b8e186"
            ],
            [
             0.8,
             "#7fbc41"
            ],
            [
             0.9,
             "#4d9221"
            ],
            [
             1,
             "#276419"
            ]
           ],
           "sequential": [
            [
             0,
             "#0d0887"
            ],
            [
             0.1111111111111111,
             "#46039f"
            ],
            [
             0.2222222222222222,
             "#7201a8"
            ],
            [
             0.3333333333333333,
             "#9c179e"
            ],
            [
             0.4444444444444444,
             "#bd3786"
            ],
            [
             0.5555555555555556,
             "#d8576b"
            ],
            [
             0.6666666666666666,
             "#ed7953"
            ],
            [
             0.7777777777777778,
             "#fb9f3a"
            ],
            [
             0.8888888888888888,
             "#fdca26"
            ],
            [
             1,
             "#f0f921"
            ]
           ],
           "sequentialminus": [
            [
             0,
             "#0d0887"
            ],
            [
             0.1111111111111111,
             "#46039f"
            ],
            [
             0.2222222222222222,
             "#7201a8"
            ],
            [
             0.3333333333333333,
             "#9c179e"
            ],
            [
             0.4444444444444444,
             "#bd3786"
            ],
            [
             0.5555555555555556,
             "#d8576b"
            ],
            [
             0.6666666666666666,
             "#ed7953"
            ],
            [
             0.7777777777777778,
             "#fb9f3a"
            ],
            [
             0.8888888888888888,
             "#fdca26"
            ],
            [
             1,
             "#f0f921"
            ]
           ]
          },
          "colorway": [
           "#636efa",
           "#EF553B",
           "#00cc96",
           "#ab63fa",
           "#FFA15A",
           "#19d3f3",
           "#FF6692",
           "#B6E880",
           "#FF97FF",
           "#FECB52"
          ],
          "font": {
           "color": "#2a3f5f"
          },
          "geo": {
           "bgcolor": "white",
           "lakecolor": "white",
           "landcolor": "white",
           "showlakes": true,
           "showland": true,
           "subunitcolor": "#C8D4E3"
          },
          "hoverlabel": {
           "align": "left"
          },
          "hovermode": "closest",
          "mapbox": {
           "style": "light"
          },
          "paper_bgcolor": "white",
          "plot_bgcolor": "white",
          "polar": {
           "angularaxis": {
            "gridcolor": "#EBF0F8",
            "linecolor": "#EBF0F8",
            "ticks": ""
           },
           "bgcolor": "white",
           "radialaxis": {
            "gridcolor": "#EBF0F8",
            "linecolor": "#EBF0F8",
            "ticks": ""
           }
          },
          "scene": {
           "xaxis": {
            "backgroundcolor": "white",
            "gridcolor": "#DFE8F3",
            "gridwidth": 2,
            "linecolor": "#EBF0F8",
            "showbackground": true,
            "ticks": "",
            "zerolinecolor": "#EBF0F8"
           },
           "yaxis": {
            "backgroundcolor": "white",
            "gridcolor": "#DFE8F3",
            "gridwidth": 2,
            "linecolor": "#EBF0F8",
            "showbackground": true,
            "ticks": "",
            "zerolinecolor": "#EBF0F8"
           },
           "zaxis": {
            "backgroundcolor": "white",
            "gridcolor": "#DFE8F3",
            "gridwidth": 2,
            "linecolor": "#EBF0F8",
            "showbackground": true,
            "ticks": "",
            "zerolinecolor": "#EBF0F8"
           }
          },
          "shapedefaults": {
           "line": {
            "color": "#2a3f5f"
           }
          },
          "ternary": {
           "aaxis": {
            "gridcolor": "#DFE8F3",
            "linecolor": "#A2B1C6",
            "ticks": ""
           },
           "baxis": {
            "gridcolor": "#DFE8F3",
            "linecolor": "#A2B1C6",
            "ticks": ""
           },
           "bgcolor": "white",
           "caxis": {
            "gridcolor": "#DFE8F3",
            "linecolor": "#A2B1C6",
            "ticks": ""
           }
          },
          "title": {
           "x": 0.05
          },
          "xaxis": {
           "automargin": true,
           "gridcolor": "#EBF0F8",
           "linecolor": "#EBF0F8",
           "ticks": "",
           "title": {
            "standoff": 15
           },
           "zerolinecolor": "#EBF0F8",
           "zerolinewidth": 2
          },
          "yaxis": {
           "automargin": true,
           "gridcolor": "#EBF0F8",
           "linecolor": "#EBF0F8",
           "ticks": "",
           "title": {
            "standoff": 15
           },
           "zerolinecolor": "#EBF0F8",
           "zerolinewidth": 2
          }
         }
        },
        "title": {
         "text": "Cross-Validation (N=5) Mean F1 score with Error Bands"
        },
        "xaxis": {
         "title": {
          "text": "Training Steps"
         }
        },
        "yaxis": {
         "range": [
          0.5,
          1
         ],
         "title": {
          "text": "Performance Score"
         }
        }
       }
      },
      "text/html": [
       "<div>                            <div id=\"e56ffdb4-83a4-4e5b-830b-c6bcce9e372b\" class=\"plotly-graph-div\" style=\"height:525px; width:100%;\"></div>            <script type=\"text/javascript\">                require([\"plotly\"], function(Plotly) {                    window.PLOTLYENV=window.PLOTLYENV || {};                                    if (document.getElementById(\"e56ffdb4-83a4-4e5b-830b-c6bcce9e372b\")) {                    Plotly.newPlot(                        \"e56ffdb4-83a4-4e5b-830b-c6bcce9e372b\",                        [{\"line\":{\"color\":\"blue\"},\"mode\":\"lines\",\"name\":\"Mean F1 Score\",\"x\":[0,1,2,3,4,5,6,7,8,9,10,11,12,13,14,15,16,17,18,19,20,21,22,23,24,25,26,27,28,29,30,31,32,33,34,35,36,37,38,39,40,41,42,43,44,45,46,47,48,49,50,51,52,53,54,55,56,57,58,59,60,61,62,63,64,65,66,67,68,69,70,71,72,73,74,75,76,77,78,79,80,81,82,83,84,85,86,87,88,89,90,91,92,93,94,95,96,97,98,99,100,101,102,103,104,105,106,107,108,109,110,111,112,113,114,115,116,117,118,119,120,121,122,123],\"y\":[0.9132467532467532,0.9513043478260867,1.0,1.0,1.0,1.0,1.0,1.0,1.0,1.0,1.0,1.0,1.0,1.0,1.0,1.0,1.0,1.0,1.0,1.0,1.0,1.0,1.0,1.0,1.0,1.0,1.0,1.0,1.0,1.0,1.0,1.0,1.0,1.0,1.0,1.0,1.0,1.0,1.0,1.0,1.0,1.0,1.0,1.0,1.0,1.0,1.0,1.0,1.0,1.0,1.0,1.0,1.0,1.0,1.0,1.0,1.0,1.0,1.0,1.0,1.0,1.0,1.0,1.0,1.0,1.0,1.0,1.0,1.0,1.0,1.0,1.0,1.0,1.0,1.0,1.0,1.0,1.0,1.0,1.0,1.0,1.0,1.0,1.0,1.0,1.0,1.0,1.0,1.0,1.0,1.0,1.0,1.0,1.0,1.0,1.0,1.0,1.0,1.0,1.0,1.0,1.0,1.0,1.0,1.0,1.0,1.0,1.0,1.0,1.0,1.0,1.0,1.0,1.0,1.0,1.0,1.0,1.0,1.0,1.0,1.0,1.0,1.0,1.0],\"type\":\"scatter\"},{\"fill\":\"toself\",\"fillcolor\":\"rgba(0, 0, 255, 0.2)\",\"line\":{\"color\":\"rgba(255, 255, 255, 0)\"},\"showlegend\":false,\"x\":[0.9132467532467532,0.9513043478260867,1.0,1.0,1.0,1.0,1.0,1.0,1.0,1.0,1.0,1.0,1.0,1.0,1.0,1.0,1.0,1.0,1.0,1.0,1.0,1.0,1.0,1.0,1.0,1.0,1.0,1.0,1.0,1.0,1.0,1.0,1.0,1.0,1.0,1.0,1.0,1.0,1.0,1.0,1.0,1.0,1.0,1.0,1.0,1.0,1.0,1.0,1.0,1.0,1.0,1.0,1.0,1.0,1.0,1.0,1.0,1.0,1.0,1.0,1.0,1.0,1.0,1.0,1.0,1.0,1.0,1.0,1.0,1.0,1.0,1.0,1.0,1.0,1.0,1.0,1.0,1.0,1.0,1.0,1.0,1.0,1.0,1.0,1.0,1.0,1.0,1.0,1.0,1.0,1.0,1.0,1.0,1.0,1.0,1.0,1.0,1.0,1.0,1.0,1.0,1.0,1.0,1.0,1.0,1.0,1.0,1.0,1.0,1.0,1.0,1.0,1.0,1.0,1.0,1.0,1.0,1.0,1.0,1.0,1.0,1.0,1.0,1.0,123.0,122.0,121.0,120.0,119.0,118.0,117.0,116.0,115.0,114.0,113.0,112.0,111.0,110.0,109.0,108.0,107.0,106.0,105.0,104.0,103.0,102.0,101.0,100.0,99.0,98.0,97.0,96.0,95.0,94.0,93.0,92.0,91.0,90.0,89.0,88.0,87.0,86.0,85.0,84.0,83.0,82.0,81.0,80.0,79.0,78.0,77.0,76.0,75.0,74.0,73.0,72.0,71.0,70.0,69.0,68.0,67.0,66.0,65.0,64.0,63.0,62.0,61.0,60.0,59.0,58.0,57.0,56.0,55.0,54.0,53.0,52.0,51.0,50.0,49.0,48.0,47.0,46.0,45.0,44.0,43.0,42.0,41.0,40.0,39.0,38.0,37.0,36.0,35.0,34.0,33.0,32.0,31.0,30.0,29.0,28.0,27.0,26.0,25.0,24.0,23.0,22.0,21.0,20.0,19.0,18.0,17.0,16.0,15.0,14.0,13.0,12.0,11.0,10.0,9.0,8.0,7.0,6.0,5.0,4.0,3.0,2.0,1.0,0.0],\"y\":[1.0013404490542213,1.0379559872581083,1.0,1.0,1.0,1.0,1.0,1.0,1.0,1.0,1.0,1.0,1.0,1.0,1.0,1.0,1.0,1.0,1.0,1.0,1.0,1.0,1.0,1.0,1.0,1.0,1.0,1.0,1.0,1.0,1.0,1.0,1.0,1.0,1.0,1.0,1.0,1.0,1.0,1.0,1.0,1.0,1.0,1.0,1.0,1.0,1.0,1.0,1.0,1.0,1.0,1.0,1.0,1.0,1.0,1.0,1.0,1.0,1.0,1.0,1.0,1.0,1.0,1.0,1.0,1.0,1.0,1.0,1.0,1.0,1.0,1.0,1.0,1.0,1.0,1.0,1.0,1.0,1.0,1.0,1.0,1.0,1.0,1.0,1.0,1.0,1.0,1.0,1.0,1.0,1.0,1.0,1.0,1.0,1.0,1.0,1.0,1.0,1.0,1.0,1.0,1.0,1.0,1.0,1.0,1.0,1.0,1.0,1.0,1.0,1.0,1.0,1.0,1.0,1.0,1.0,1.0,1.0,1.0,1.0,1.0,1.0,1.0,1.0,0.8251530574392852,0.8646527083940652,1.0,1.0,1.0,1.0,1.0,1.0,1.0,1.0,1.0,1.0,1.0,1.0,1.0,1.0,1.0,1.0,1.0,1.0,1.0,1.0,1.0,1.0,1.0,1.0,1.0,1.0,1.0,1.0,1.0,1.0,1.0,1.0,1.0,1.0,1.0,1.0,1.0,1.0,1.0,1.0,1.0,1.0,1.0,1.0,1.0,1.0,1.0,1.0,1.0,1.0,1.0,1.0,1.0,1.0,1.0,1.0,1.0,1.0,1.0,1.0,1.0,1.0,1.0,1.0,1.0,1.0,1.0,1.0,1.0,1.0,1.0,1.0,1.0,1.0,1.0,1.0,1.0,1.0,1.0,1.0,1.0,1.0,1.0,1.0,1.0,1.0,1.0,1.0,1.0,1.0,1.0,1.0,1.0,1.0,1.0,1.0,1.0,1.0,1.0,1.0,1.0,1.0,1.0,1.0,1.0,1.0,1.0,1.0,1.0,1.0,1.0,1.0,1.0,1.0,1.0,1.0,1.0,1.0,1.0,1.0,1.0,1.0],\"type\":\"scatter\"}],                        {\"template\":{\"data\":{\"barpolar\":[{\"marker\":{\"line\":{\"color\":\"white\",\"width\":0.5},\"pattern\":{\"fillmode\":\"overlay\",\"size\":10,\"solidity\":0.2}},\"type\":\"barpolar\"}],\"bar\":[{\"error_x\":{\"color\":\"#2a3f5f\"},\"error_y\":{\"color\":\"#2a3f5f\"},\"marker\":{\"line\":{\"color\":\"white\",\"width\":0.5},\"pattern\":{\"fillmode\":\"overlay\",\"size\":10,\"solidity\":0.2}},\"type\":\"bar\"}],\"carpet\":[{\"aaxis\":{\"endlinecolor\":\"#2a3f5f\",\"gridcolor\":\"#C8D4E3\",\"linecolor\":\"#C8D4E3\",\"minorgridcolor\":\"#C8D4E3\",\"startlinecolor\":\"#2a3f5f\"},\"baxis\":{\"endlinecolor\":\"#2a3f5f\",\"gridcolor\":\"#C8D4E3\",\"linecolor\":\"#C8D4E3\",\"minorgridcolor\":\"#C8D4E3\",\"startlinecolor\":\"#2a3f5f\"},\"type\":\"carpet\"}],\"choropleth\":[{\"colorbar\":{\"outlinewidth\":0,\"ticks\":\"\"},\"type\":\"choropleth\"}],\"contourcarpet\":[{\"colorbar\":{\"outlinewidth\":0,\"ticks\":\"\"},\"type\":\"contourcarpet\"}],\"contour\":[{\"colorbar\":{\"outlinewidth\":0,\"ticks\":\"\"},\"colorscale\":[[0.0,\"#0d0887\"],[0.1111111111111111,\"#46039f\"],[0.2222222222222222,\"#7201a8\"],[0.3333333333333333,\"#9c179e\"],[0.4444444444444444,\"#bd3786\"],[0.5555555555555556,\"#d8576b\"],[0.6666666666666666,\"#ed7953\"],[0.7777777777777778,\"#fb9f3a\"],[0.8888888888888888,\"#fdca26\"],[1.0,\"#f0f921\"]],\"type\":\"contour\"}],\"heatmapgl\":[{\"colorbar\":{\"outlinewidth\":0,\"ticks\":\"\"},\"colorscale\":[[0.0,\"#0d0887\"],[0.1111111111111111,\"#46039f\"],[0.2222222222222222,\"#7201a8\"],[0.3333333333333333,\"#9c179e\"],[0.4444444444444444,\"#bd3786\"],[0.5555555555555556,\"#d8576b\"],[0.6666666666666666,\"#ed7953\"],[0.7777777777777778,\"#fb9f3a\"],[0.8888888888888888,\"#fdca26\"],[1.0,\"#f0f921\"]],\"type\":\"heatmapgl\"}],\"heatmap\":[{\"colorbar\":{\"outlinewidth\":0,\"ticks\":\"\"},\"colorscale\":[[0.0,\"#0d0887\"],[0.1111111111111111,\"#46039f\"],[0.2222222222222222,\"#7201a8\"],[0.3333333333333333,\"#9c179e\"],[0.4444444444444444,\"#bd3786\"],[0.5555555555555556,\"#d8576b\"],[0.6666666666666666,\"#ed7953\"],[0.7777777777777778,\"#fb9f3a\"],[0.8888888888888888,\"#fdca26\"],[1.0,\"#f0f921\"]],\"type\":\"heatmap\"}],\"histogram2dcontour\":[{\"colorbar\":{\"outlinewidth\":0,\"ticks\":\"\"},\"colorscale\":[[0.0,\"#0d0887\"],[0.1111111111111111,\"#46039f\"],[0.2222222222222222,\"#7201a8\"],[0.3333333333333333,\"#9c179e\"],[0.4444444444444444,\"#bd3786\"],[0.5555555555555556,\"#d8576b\"],[0.6666666666666666,\"#ed7953\"],[0.7777777777777778,\"#fb9f3a\"],[0.8888888888888888,\"#fdca26\"],[1.0,\"#f0f921\"]],\"type\":\"histogram2dcontour\"}],\"histogram2d\":[{\"colorbar\":{\"outlinewidth\":0,\"ticks\":\"\"},\"colorscale\":[[0.0,\"#0d0887\"],[0.1111111111111111,\"#46039f\"],[0.2222222222222222,\"#7201a8\"],[0.3333333333333333,\"#9c179e\"],[0.4444444444444444,\"#bd3786\"],[0.5555555555555556,\"#d8576b\"],[0.6666666666666666,\"#ed7953\"],[0.7777777777777778,\"#fb9f3a\"],[0.8888888888888888,\"#fdca26\"],[1.0,\"#f0f921\"]],\"type\":\"histogram2d\"}],\"histogram\":[{\"marker\":{\"pattern\":{\"fillmode\":\"overlay\",\"size\":10,\"solidity\":0.2}},\"type\":\"histogram\"}],\"mesh3d\":[{\"colorbar\":{\"outlinewidth\":0,\"ticks\":\"\"},\"type\":\"mesh3d\"}],\"parcoords\":[{\"line\":{\"colorbar\":{\"outlinewidth\":0,\"ticks\":\"\"}},\"type\":\"parcoords\"}],\"pie\":[{\"automargin\":true,\"type\":\"pie\"}],\"scatter3d\":[{\"line\":{\"colorbar\":{\"outlinewidth\":0,\"ticks\":\"\"}},\"marker\":{\"colorbar\":{\"outlinewidth\":0,\"ticks\":\"\"}},\"type\":\"scatter3d\"}],\"scattercarpet\":[{\"marker\":{\"colorbar\":{\"outlinewidth\":0,\"ticks\":\"\"}},\"type\":\"scattercarpet\"}],\"scattergeo\":[{\"marker\":{\"colorbar\":{\"outlinewidth\":0,\"ticks\":\"\"}},\"type\":\"scattergeo\"}],\"scattergl\":[{\"marker\":{\"colorbar\":{\"outlinewidth\":0,\"ticks\":\"\"}},\"type\":\"scattergl\"}],\"scattermapbox\":[{\"marker\":{\"colorbar\":{\"outlinewidth\":0,\"ticks\":\"\"}},\"type\":\"scattermapbox\"}],\"scatterpolargl\":[{\"marker\":{\"colorbar\":{\"outlinewidth\":0,\"ticks\":\"\"}},\"type\":\"scatterpolargl\"}],\"scatterpolar\":[{\"marker\":{\"colorbar\":{\"outlinewidth\":0,\"ticks\":\"\"}},\"type\":\"scatterpolar\"}],\"scatter\":[{\"fillpattern\":{\"fillmode\":\"overlay\",\"size\":10,\"solidity\":0.2},\"type\":\"scatter\"}],\"scatterternary\":[{\"marker\":{\"colorbar\":{\"outlinewidth\":0,\"ticks\":\"\"}},\"type\":\"scatterternary\"}],\"surface\":[{\"colorbar\":{\"outlinewidth\":0,\"ticks\":\"\"},\"colorscale\":[[0.0,\"#0d0887\"],[0.1111111111111111,\"#46039f\"],[0.2222222222222222,\"#7201a8\"],[0.3333333333333333,\"#9c179e\"],[0.4444444444444444,\"#bd3786\"],[0.5555555555555556,\"#d8576b\"],[0.6666666666666666,\"#ed7953\"],[0.7777777777777778,\"#fb9f3a\"],[0.8888888888888888,\"#fdca26\"],[1.0,\"#f0f921\"]],\"type\":\"surface\"}],\"table\":[{\"cells\":{\"fill\":{\"color\":\"#EBF0F8\"},\"line\":{\"color\":\"white\"}},\"header\":{\"fill\":{\"color\":\"#C8D4E3\"},\"line\":{\"color\":\"white\"}},\"type\":\"table\"}]},\"layout\":{\"annotationdefaults\":{\"arrowcolor\":\"#2a3f5f\",\"arrowhead\":0,\"arrowwidth\":1},\"autotypenumbers\":\"strict\",\"coloraxis\":{\"colorbar\":{\"outlinewidth\":0,\"ticks\":\"\"}},\"colorscale\":{\"diverging\":[[0,\"#8e0152\"],[0.1,\"#c51b7d\"],[0.2,\"#de77ae\"],[0.3,\"#f1b6da\"],[0.4,\"#fde0ef\"],[0.5,\"#f7f7f7\"],[0.6,\"#e6f5d0\"],[0.7,\"#b8e186\"],[0.8,\"#7fbc41\"],[0.9,\"#4d9221\"],[1,\"#276419\"]],\"sequential\":[[0.0,\"#0d0887\"],[0.1111111111111111,\"#46039f\"],[0.2222222222222222,\"#7201a8\"],[0.3333333333333333,\"#9c179e\"],[0.4444444444444444,\"#bd3786\"],[0.5555555555555556,\"#d8576b\"],[0.6666666666666666,\"#ed7953\"],[0.7777777777777778,\"#fb9f3a\"],[0.8888888888888888,\"#fdca26\"],[1.0,\"#f0f921\"]],\"sequentialminus\":[[0.0,\"#0d0887\"],[0.1111111111111111,\"#46039f\"],[0.2222222222222222,\"#7201a8\"],[0.3333333333333333,\"#9c179e\"],[0.4444444444444444,\"#bd3786\"],[0.5555555555555556,\"#d8576b\"],[0.6666666666666666,\"#ed7953\"],[0.7777777777777778,\"#fb9f3a\"],[0.8888888888888888,\"#fdca26\"],[1.0,\"#f0f921\"]]},\"colorway\":[\"#636efa\",\"#EF553B\",\"#00cc96\",\"#ab63fa\",\"#FFA15A\",\"#19d3f3\",\"#FF6692\",\"#B6E880\",\"#FF97FF\",\"#FECB52\"],\"font\":{\"color\":\"#2a3f5f\"},\"geo\":{\"bgcolor\":\"white\",\"lakecolor\":\"white\",\"landcolor\":\"white\",\"showlakes\":true,\"showland\":true,\"subunitcolor\":\"#C8D4E3\"},\"hoverlabel\":{\"align\":\"left\"},\"hovermode\":\"closest\",\"mapbox\":{\"style\":\"light\"},\"paper_bgcolor\":\"white\",\"plot_bgcolor\":\"white\",\"polar\":{\"angularaxis\":{\"gridcolor\":\"#EBF0F8\",\"linecolor\":\"#EBF0F8\",\"ticks\":\"\"},\"bgcolor\":\"white\",\"radialaxis\":{\"gridcolor\":\"#EBF0F8\",\"linecolor\":\"#EBF0F8\",\"ticks\":\"\"}},\"scene\":{\"xaxis\":{\"backgroundcolor\":\"white\",\"gridcolor\":\"#DFE8F3\",\"gridwidth\":2,\"linecolor\":\"#EBF0F8\",\"showbackground\":true,\"ticks\":\"\",\"zerolinecolor\":\"#EBF0F8\"},\"yaxis\":{\"backgroundcolor\":\"white\",\"gridcolor\":\"#DFE8F3\",\"gridwidth\":2,\"linecolor\":\"#EBF0F8\",\"showbackground\":true,\"ticks\":\"\",\"zerolinecolor\":\"#EBF0F8\"},\"zaxis\":{\"backgroundcolor\":\"white\",\"gridcolor\":\"#DFE8F3\",\"gridwidth\":2,\"linecolor\":\"#EBF0F8\",\"showbackground\":true,\"ticks\":\"\",\"zerolinecolor\":\"#EBF0F8\"}},\"shapedefaults\":{\"line\":{\"color\":\"#2a3f5f\"}},\"ternary\":{\"aaxis\":{\"gridcolor\":\"#DFE8F3\",\"linecolor\":\"#A2B1C6\",\"ticks\":\"\"},\"baxis\":{\"gridcolor\":\"#DFE8F3\",\"linecolor\":\"#A2B1C6\",\"ticks\":\"\"},\"bgcolor\":\"white\",\"caxis\":{\"gridcolor\":\"#DFE8F3\",\"linecolor\":\"#A2B1C6\",\"ticks\":\"\"}},\"title\":{\"x\":0.05},\"xaxis\":{\"automargin\":true,\"gridcolor\":\"#EBF0F8\",\"linecolor\":\"#EBF0F8\",\"ticks\":\"\",\"title\":{\"standoff\":15},\"zerolinecolor\":\"#EBF0F8\",\"zerolinewidth\":2},\"yaxis\":{\"automargin\":true,\"gridcolor\":\"#EBF0F8\",\"linecolor\":\"#EBF0F8\",\"ticks\":\"\",\"title\":{\"standoff\":15},\"zerolinecolor\":\"#EBF0F8\",\"zerolinewidth\":2}}},\"title\":{\"text\":\"Cross-Validation (N=5) Mean F1 score with Error Bands\"},\"xaxis\":{\"title\":{\"text\":\"Training Steps\"}},\"yaxis\":{\"title\":{\"text\":\"Performance Score\"},\"range\":[0.5,1]}},                        {\"responsive\": true}                    ).then(function(){\n",
       "                            \n",
       "var gd = document.getElementById('e56ffdb4-83a4-4e5b-830b-c6bcce9e372b');\n",
       "var x = new MutationObserver(function (mutations, observer) {{\n",
       "        var display = window.getComputedStyle(gd).display;\n",
       "        if (!display || display === 'none') {{\n",
       "            console.log([gd, 'removed!']);\n",
       "            Plotly.purge(gd);\n",
       "            observer.disconnect();\n",
       "        }}\n",
       "}});\n",
       "\n",
       "// Listen for the removal of the full notebook cells\n",
       "var notebookContainer = gd.closest('#notebook-container');\n",
       "if (notebookContainer) {{\n",
       "    x.observe(notebookContainer, {childList: true});\n",
       "}}\n",
       "\n",
       "// Listen for the clearing of the current output cell\n",
       "var outputEl = gd.closest('.output');\n",
       "if (outputEl) {{\n",
       "    x.observe(outputEl, {childList: true});\n",
       "}}\n",
       "\n",
       "                        })                };                });            </script>        </div>"
      ]
     },
     "metadata": {},
     "output_type": "display_data"
    }
   ],
   "source": [
    "from ARISA_DSML.train import plot_error_scatter\n",
    "cv_results = pd.read_csv(cv_output_path)\n",
    "plot_error_scatter(\n",
    "    df_plot=cv_results,\n",
    "    name=\"Mean F1 Score\",\n",
    "    title=\"Cross-Validation (N=5) Mean F1 score with Error Bands\",\n",
    "    xtitle=\"Training Steps\",\n",
    "    ytitle=\"Performance Score\",\n",
    "    yaxis_range=[0.5, 1],\n",
    ")"
   ]
  },
  {
   "cell_type": "code",
   "execution_count": 35,
   "metadata": {},
   "outputs": [
    {
     "data": {
      "application/vnd.plotly.v1+json": {
       "config": {
        "plotlyServerURL": "https://plot.ly"
       },
       "data": [
        {
         "line": {
          "color": "blue"
         },
         "mode": "lines",
         "name": "Mean logloss",
         "type": "scatter",
         "x": [
          0,
          1,
          2,
          3,
          4,
          5,
          6,
          7,
          8,
          9,
          10,
          11,
          12,
          13,
          14,
          15,
          16,
          17,
          18,
          19,
          20,
          21,
          22,
          23,
          24,
          25,
          26,
          27,
          28,
          29,
          30,
          31,
          32,
          33,
          34,
          35,
          36,
          37,
          38,
          39,
          40,
          41,
          42,
          43,
          44,
          45,
          46,
          47,
          48,
          49,
          50,
          51,
          52,
          53,
          54,
          55,
          56,
          57,
          58,
          59,
          60,
          61,
          62,
          63,
          64,
          65,
          66,
          67,
          68,
          69,
          70,
          71,
          72,
          73,
          74,
          75,
          76,
          77,
          78,
          79,
          80,
          81,
          82,
          83,
          84,
          85,
          86,
          87,
          88,
          89,
          90,
          91,
          92,
          93,
          94,
          95,
          96,
          97,
          98,
          99,
          100,
          101,
          102,
          103,
          104,
          105,
          106,
          107,
          108,
          109,
          110,
          111,
          112,
          113,
          114,
          115,
          116,
          117,
          118,
          119,
          120,
          121,
          122,
          123
         ],
         "y": [
          0.2711255577636066,
          0.1222877357253707,
          0.0645381935276502,
          0.0377379165038937,
          0.0310291872701033,
          0.0240783027968858,
          0.0207127871001906,
          0.017967443705339,
          0.0161011503043023,
          0.0151830295644431,
          0.0144819874391178,
          0.0133409127832384,
          0.0122430061546699,
          0.0118320830386068,
          0.0116050316300795,
          0.0113148043429019,
          0.0112036347748444,
          0.0112034498202727,
          0.0111842788712399,
          0.0111660585252188,
          0.011056481916448,
          0.0110563598160969,
          0.0110562069226778,
          0.0110561612429767,
          0.011056056835009,
          0.0110560352211583,
          0.0110559962306547,
          0.0110559766734119,
          0.0110559576733145,
          0.0110559576733145,
          0.0110559410233232,
          0.0110559410233232,
          0.0110558680567089,
          0.0110557951085161,
          0.0110557951085161,
          0.0110557951085161,
          0.0110557951085161,
          0.0110557951085161,
          0.0110557951085161,
          0.0110557951085161,
          0.0110557951085161,
          0.0110557951085161,
          0.0110557951085161,
          0.0110557951085161,
          0.0110557951085161,
          0.0110557951085161,
          0.0110557951085161,
          0.0110557951085161,
          0.0110557951085161,
          0.0110557951085161,
          0.0110557951085161,
          0.0110557951085161,
          0.0110557951085161,
          0.0110557951085161,
          0.0110557726928863,
          0.0110557531494158,
          0.0110557414738292,
          0.0110557414738292,
          0.0110557414738292,
          0.0110557414738292,
          0.0110557414738292,
          0.0110557414738292,
          0.0110557414738292,
          0.0110557304664051,
          0.0110557304664051,
          0.0110557304664051,
          0.0110557304664051,
          0.0110557304664051,
          0.0110557304664051,
          0.0110557304664051,
          0.0110557304664051,
          0.0110557304664051,
          0.0110557304664051,
          0.0110557304664051,
          0.0110557304664051,
          0.0110557304664051,
          0.0110557304664051,
          0.0110557304664051,
          0.0110557304664051,
          0.0110557304664051,
          0.0110557304664051,
          0.0110557304664051,
          0.0110557304664051,
          0.0110557304664051,
          0.0110557304664051,
          0.0110557304664051,
          0.0110557304664051,
          0.0110557304664051,
          0.0110557304664051,
          0.0110557304664051,
          0.0110557304664051,
          0.0110557304664051,
          0.0110557304664051,
          0.0110557304664051,
          0.0110557304664051,
          0.0110557304664051,
          0.0110557304664051,
          0.0110557304664051,
          0.0110557304664051,
          0.0110557304664051,
          0.0110557304664051,
          0.0110557304664051,
          0.0110557304664051,
          0.0110557304664051,
          0.0110557304664051,
          0.0110557304664051,
          0.0110557304664051,
          0.0110557304664051,
          0.0110557304664051,
          0.0110557304664051,
          0.0110557304664051,
          0.0110557304664051,
          0.0110557304664051,
          0.0110557304664051,
          0.0110557304664051,
          0.0110557304664051,
          0.0110557304664051,
          0.0110557304664051,
          0.0110557266311488,
          0.0110557266311488,
          0.0110557266311488,
          0.0110557266311488,
          0.0110557266311488,
          0.0110557266311488
         ]
        },
        {
         "fill": "toself",
         "fillcolor": "rgba(0, 0, 255, 0.2)",
         "line": {
          "color": "rgba(255, 255, 255, 0)"
         },
         "showlegend": false,
         "type": "scatter",
         "x": [
          0.2711255577636066,
          0.1222877357253707,
          0.0645381935276502,
          0.0377379165038937,
          0.0310291872701033,
          0.0240783027968858,
          0.0207127871001906,
          0.017967443705339,
          0.0161011503043023,
          0.0151830295644431,
          0.0144819874391178,
          0.0133409127832384,
          0.0122430061546699,
          0.0118320830386068,
          0.0116050316300795,
          0.0113148043429019,
          0.0112036347748444,
          0.0112034498202727,
          0.0111842788712399,
          0.0111660585252188,
          0.011056481916448,
          0.0110563598160969,
          0.0110562069226778,
          0.0110561612429767,
          0.011056056835009,
          0.0110560352211583,
          0.0110559962306547,
          0.0110559766734119,
          0.0110559576733145,
          0.0110559576733145,
          0.0110559410233232,
          0.0110559410233232,
          0.0110558680567089,
          0.0110557951085161,
          0.0110557951085161,
          0.0110557951085161,
          0.0110557951085161,
          0.0110557951085161,
          0.0110557951085161,
          0.0110557951085161,
          0.0110557951085161,
          0.0110557951085161,
          0.0110557951085161,
          0.0110557951085161,
          0.0110557951085161,
          0.0110557951085161,
          0.0110557951085161,
          0.0110557951085161,
          0.0110557951085161,
          0.0110557951085161,
          0.0110557951085161,
          0.0110557951085161,
          0.0110557951085161,
          0.0110557951085161,
          0.0110557726928863,
          0.0110557531494158,
          0.0110557414738292,
          0.0110557414738292,
          0.0110557414738292,
          0.0110557414738292,
          0.0110557414738292,
          0.0110557414738292,
          0.0110557414738292,
          0.0110557304664051,
          0.0110557304664051,
          0.0110557304664051,
          0.0110557304664051,
          0.0110557304664051,
          0.0110557304664051,
          0.0110557304664051,
          0.0110557304664051,
          0.0110557304664051,
          0.0110557304664051,
          0.0110557304664051,
          0.0110557304664051,
          0.0110557304664051,
          0.0110557304664051,
          0.0110557304664051,
          0.0110557304664051,
          0.0110557304664051,
          0.0110557304664051,
          0.0110557304664051,
          0.0110557304664051,
          0.0110557304664051,
          0.0110557304664051,
          0.0110557304664051,
          0.0110557304664051,
          0.0110557304664051,
          0.0110557304664051,
          0.0110557304664051,
          0.0110557304664051,
          0.0110557304664051,
          0.0110557304664051,
          0.0110557304664051,
          0.0110557304664051,
          0.0110557304664051,
          0.0110557304664051,
          0.0110557304664051,
          0.0110557304664051,
          0.0110557304664051,
          0.0110557304664051,
          0.0110557304664051,
          0.0110557304664051,
          0.0110557304664051,
          0.0110557304664051,
          0.0110557304664051,
          0.0110557304664051,
          0.0110557304664051,
          0.0110557304664051,
          0.0110557304664051,
          0.0110557304664051,
          0.0110557304664051,
          0.0110557304664051,
          0.0110557304664051,
          0.0110557304664051,
          0.0110557304664051,
          0.0110557304664051,
          0.0110557304664051,
          0.0110557266311488,
          0.0110557266311488,
          0.0110557266311488,
          0.0110557266311488,
          0.0110557266311488,
          0.0110557266311488,
          123,
          122,
          121,
          120,
          119,
          118,
          117,
          116,
          115,
          114,
          113,
          112,
          111,
          110,
          109,
          108,
          107,
          106,
          105,
          104,
          103,
          102,
          101,
          100,
          99,
          98,
          97,
          96,
          95,
          94,
          93,
          92,
          91,
          90,
          89,
          88,
          87,
          86,
          85,
          84,
          83,
          82,
          81,
          80,
          79,
          78,
          77,
          76,
          75,
          74,
          73,
          72,
          71,
          70,
          69,
          68,
          67,
          66,
          65,
          64,
          63,
          62,
          61,
          60,
          59,
          58,
          57,
          56,
          55,
          54,
          53,
          52,
          51,
          50,
          49,
          48,
          47,
          46,
          45,
          44,
          43,
          42,
          41,
          40,
          39,
          38,
          37,
          36,
          35,
          34,
          33,
          32,
          31,
          30,
          29,
          28,
          27,
          26,
          25,
          24,
          23,
          22,
          21,
          20,
          19,
          18,
          17,
          16,
          15,
          14,
          13,
          12,
          11,
          10,
          9,
          8,
          7,
          6,
          5,
          4,
          3,
          2,
          1,
          0
         ],
         "y": [
          0.36265961597441837,
          0.1997519773321335,
          0.1049813065971815,
          0.0639840545898802,
          0.056785605662561606,
          0.044639448248445,
          0.0394797899017279,
          0.0347982709289168,
          0.0318362516392482,
          0.0306298349088956,
          0.0293524822738066,
          0.0270497336457531,
          0.024975708084852,
          0.0243864125747994,
          0.0239548031883304,
          0.0234187741981755,
          0.0233845609264019,
          0.0233843711573811,
          0.0233613498717683,
          0.023362111666865498,
          0.023325221636693,
          0.0233249953042668,
          0.0233246858502499,
          0.0233246835697852,
          0.0233246114319556,
          0.023324611609113602,
          0.0233246119290832,
          0.0233246120897627,
          0.0233246122459835,
          0.0233246122459835,
          0.023324612382978,
          0.023324612382978,
          0.0233245892933244,
          0.0233245662114663,
          0.0233245662114663,
          0.0233245662114663,
          0.0233245662114663,
          0.0233245662114663,
          0.0233245662114663,
          0.0233245662114663,
          0.0233245662114663,
          0.0233245662114663,
          0.0233245662114663,
          0.0233245662114663,
          0.0233245662114663,
          0.0233245662114663,
          0.0233245662114663,
          0.0233245662114663,
          0.0233245662114663,
          0.0233245662114663,
          0.0233245662114663,
          0.0233245662114663,
          0.0233245662114663,
          0.0233245662114663,
          0.0233245663955251,
          0.023324566556133103,
          0.0233245666521422,
          0.0233245666521422,
          0.0233245666521422,
          0.0233245666521422,
          0.0233245666521422,
          0.0233245666521422,
          0.0233245666521422,
          0.023324566742697297,
          0.023324566742697297,
          0.023324566742697297,
          0.023324566742697297,
          0.023324566742697297,
          0.023324566742697297,
          0.023324566742697297,
          0.023324566742697297,
          0.023324566742697297,
          0.023324566742697297,
          0.023324566742697297,
          0.023324566742697297,
          0.023324566742697297,
          0.023324566742697297,
          0.023324566742697297,
          0.023324566742697297,
          0.023324566742697297,
          0.023324566742697297,
          0.023324566742697297,
          0.023324566742697297,
          0.023324566742697297,
          0.023324566742697297,
          0.023324566742697297,
          0.023324566742697297,
          0.023324566742697297,
          0.023324566742697297,
          0.023324566742697297,
          0.023324566742697297,
          0.023324566742697297,
          0.023324566742697297,
          0.023324566742697297,
          0.023324566742697297,
          0.023324566742697297,
          0.023324566742697297,
          0.023324566742697297,
          0.023324566742697297,
          0.023324566742697297,
          0.023324566742697297,
          0.023324566742697297,
          0.023324566742697297,
          0.023324566742697297,
          0.023324566742697297,
          0.023324566742697297,
          0.023324566742697297,
          0.023324566742697297,
          0.023324566742697297,
          0.023324566742697297,
          0.023324566742697297,
          0.023324566742697297,
          0.023324566742697297,
          0.023324566742697297,
          0.023324566742697297,
          0.023324566742697297,
          0.023324566742697297,
          0.023324566742697297,
          0.0233245667742582,
          0.0233245667742582,
          0.0233245667742582,
          0.0233245667742582,
          0.0233245667742582,
          0.0233245667742582,
          0.1795914995527948,
          0.04482349411860791,
          0.024095080458118895,
          0.0114917784179072,
          0.005272768877644999,
          0.0035171573453266006,
          0.001945784298653299,
          0.001136616481761197,
          0.00036604896935640147,
          -0.0002637757800093999,
          -0.00038850739557100104,
          -0.0003679080792763009,
          -0.0004896957755122014,
          -0.0007222464975858,
          -0.0007447399281713986,
          -0.0007891655123716985,
          -0.0009772913767131016,
          -0.0009774715168356998,
          -0.0009927921292884993,
          -0.0010299946164278994,
          -0.001212257803796999,
          -0.0012122756720730002,
          -0.0012122720048943006,
          -0.0012123610838318012,
          -0.0012124977619376014,
          -0.001212541166796999,
          -0.0012126194677737987,
          -0.0012126587429388998,
          -0.0012126968993544998,
          -0.0012126968993544998,
          -0.0012127303363316001,
          -0.0012127303363316001,
          -0.0012128531799065999,
          -0.0012129759944340991,
          -0.0012129759944340991,
          -0.0012129759944340991,
          -0.0012129759944340991,
          -0.0012129759944340991,
          -0.0012129759944340991,
          -0.0012129759944340991,
          -0.0012129759944340991,
          -0.0012129759944340991,
          -0.0012129759944340991,
          -0.0012129759944340991,
          -0.0012129759944340991,
          -0.0012129759944340991,
          -0.0012129759944340991,
          -0.0012129759944340991,
          -0.0012129759944340991,
          -0.0012129759944340991,
          -0.0012129759944340991,
          -0.0012129759944340991,
          -0.0012129759944340991,
          -0.0012129759944340991,
          -0.001213021009752499,
          -0.0012130602573014997,
          -0.0012130837044837996,
          -0.0012130837044837996,
          -0.0012130837044837996,
          -0.0012130837044837996,
          -0.0012130837044837996,
          -0.0012130837044837996,
          -0.0012130837044837996,
          -0.0012131058098870991,
          -0.0012131058098870991,
          -0.0012131058098870991,
          -0.0012131058098870991,
          -0.0012131058098870991,
          -0.0012131058098870991,
          -0.0012131058098870991,
          -0.0012131058098870991,
          -0.0012131058098870991,
          -0.0012131058098870991,
          -0.0012131058098870991,
          -0.0012131058098870991,
          -0.0012131058098870991,
          -0.0012131058098870991,
          -0.0012131058098870991,
          -0.0012131058098870991,
          -0.0012131058098870991,
          -0.0012131058098870991,
          -0.0012131058098870991,
          -0.0012131058098870991,
          -0.0012131058098870991,
          -0.0012131058098870991,
          -0.0012131058098870991,
          -0.0012131058098870991,
          -0.0012131058098870991,
          -0.0012131058098870991,
          -0.0012131058098870991,
          -0.0012131058098870991,
          -0.0012131058098870991,
          -0.0012131058098870991,
          -0.0012131058098870991,
          -0.0012131058098870991,
          -0.0012131058098870991,
          -0.0012131058098870991,
          -0.0012131058098870991,
          -0.0012131058098870991,
          -0.0012131058098870991,
          -0.0012131058098870991,
          -0.0012131058098870991,
          -0.0012131058098870991,
          -0.0012131058098870991,
          -0.0012131058098870991,
          -0.0012131058098870991,
          -0.0012131058098870991,
          -0.0012131058098870991,
          -0.0012131058098870991,
          -0.0012131058098870991,
          -0.0012131058098870991,
          -0.0012131058098870991,
          -0.0012131058098870991,
          -0.0012131058098870991,
          -0.0012131058098870991,
          -0.0012131058098870991,
          -0.0012131058098870991,
          -0.0012131058098870991,
          -0.0012131135119606007,
          -0.0012131135119606007,
          -0.0012131135119606007,
          -0.0012131135119606007,
          -0.0012131135119606007,
          -0.0012131135119606007
         ]
        }
       ],
       "layout": {
        "template": {
         "data": {
          "bar": [
           {
            "error_x": {
             "color": "#2a3f5f"
            },
            "error_y": {
             "color": "#2a3f5f"
            },
            "marker": {
             "line": {
              "color": "white",
              "width": 0.5
             },
             "pattern": {
              "fillmode": "overlay",
              "size": 10,
              "solidity": 0.2
             }
            },
            "type": "bar"
           }
          ],
          "barpolar": [
           {
            "marker": {
             "line": {
              "color": "white",
              "width": 0.5
             },
             "pattern": {
              "fillmode": "overlay",
              "size": 10,
              "solidity": 0.2
             }
            },
            "type": "barpolar"
           }
          ],
          "carpet": [
           {
            "aaxis": {
             "endlinecolor": "#2a3f5f",
             "gridcolor": "#C8D4E3",
             "linecolor": "#C8D4E3",
             "minorgridcolor": "#C8D4E3",
             "startlinecolor": "#2a3f5f"
            },
            "baxis": {
             "endlinecolor": "#2a3f5f",
             "gridcolor": "#C8D4E3",
             "linecolor": "#C8D4E3",
             "minorgridcolor": "#C8D4E3",
             "startlinecolor": "#2a3f5f"
            },
            "type": "carpet"
           }
          ],
          "choropleth": [
           {
            "colorbar": {
             "outlinewidth": 0,
             "ticks": ""
            },
            "type": "choropleth"
           }
          ],
          "contour": [
           {
            "colorbar": {
             "outlinewidth": 0,
             "ticks": ""
            },
            "colorscale": [
             [
              0,
              "#0d0887"
             ],
             [
              0.1111111111111111,
              "#46039f"
             ],
             [
              0.2222222222222222,
              "#7201a8"
             ],
             [
              0.3333333333333333,
              "#9c179e"
             ],
             [
              0.4444444444444444,
              "#bd3786"
             ],
             [
              0.5555555555555556,
              "#d8576b"
             ],
             [
              0.6666666666666666,
              "#ed7953"
             ],
             [
              0.7777777777777778,
              "#fb9f3a"
             ],
             [
              0.8888888888888888,
              "#fdca26"
             ],
             [
              1,
              "#f0f921"
             ]
            ],
            "type": "contour"
           }
          ],
          "contourcarpet": [
           {
            "colorbar": {
             "outlinewidth": 0,
             "ticks": ""
            },
            "type": "contourcarpet"
           }
          ],
          "heatmap": [
           {
            "colorbar": {
             "outlinewidth": 0,
             "ticks": ""
            },
            "colorscale": [
             [
              0,
              "#0d0887"
             ],
             [
              0.1111111111111111,
              "#46039f"
             ],
             [
              0.2222222222222222,
              "#7201a8"
             ],
             [
              0.3333333333333333,
              "#9c179e"
             ],
             [
              0.4444444444444444,
              "#bd3786"
             ],
             [
              0.5555555555555556,
              "#d8576b"
             ],
             [
              0.6666666666666666,
              "#ed7953"
             ],
             [
              0.7777777777777778,
              "#fb9f3a"
             ],
             [
              0.8888888888888888,
              "#fdca26"
             ],
             [
              1,
              "#f0f921"
             ]
            ],
            "type": "heatmap"
           }
          ],
          "heatmapgl": [
           {
            "colorbar": {
             "outlinewidth": 0,
             "ticks": ""
            },
            "colorscale": [
             [
              0,
              "#0d0887"
             ],
             [
              0.1111111111111111,
              "#46039f"
             ],
             [
              0.2222222222222222,
              "#7201a8"
             ],
             [
              0.3333333333333333,
              "#9c179e"
             ],
             [
              0.4444444444444444,
              "#bd3786"
             ],
             [
              0.5555555555555556,
              "#d8576b"
             ],
             [
              0.6666666666666666,
              "#ed7953"
             ],
             [
              0.7777777777777778,
              "#fb9f3a"
             ],
             [
              0.8888888888888888,
              "#fdca26"
             ],
             [
              1,
              "#f0f921"
             ]
            ],
            "type": "heatmapgl"
           }
          ],
          "histogram": [
           {
            "marker": {
             "pattern": {
              "fillmode": "overlay",
              "size": 10,
              "solidity": 0.2
             }
            },
            "type": "histogram"
           }
          ],
          "histogram2d": [
           {
            "colorbar": {
             "outlinewidth": 0,
             "ticks": ""
            },
            "colorscale": [
             [
              0,
              "#0d0887"
             ],
             [
              0.1111111111111111,
              "#46039f"
             ],
             [
              0.2222222222222222,
              "#7201a8"
             ],
             [
              0.3333333333333333,
              "#9c179e"
             ],
             [
              0.4444444444444444,
              "#bd3786"
             ],
             [
              0.5555555555555556,
              "#d8576b"
             ],
             [
              0.6666666666666666,
              "#ed7953"
             ],
             [
              0.7777777777777778,
              "#fb9f3a"
             ],
             [
              0.8888888888888888,
              "#fdca26"
             ],
             [
              1,
              "#f0f921"
             ]
            ],
            "type": "histogram2d"
           }
          ],
          "histogram2dcontour": [
           {
            "colorbar": {
             "outlinewidth": 0,
             "ticks": ""
            },
            "colorscale": [
             [
              0,
              "#0d0887"
             ],
             [
              0.1111111111111111,
              "#46039f"
             ],
             [
              0.2222222222222222,
              "#7201a8"
             ],
             [
              0.3333333333333333,
              "#9c179e"
             ],
             [
              0.4444444444444444,
              "#bd3786"
             ],
             [
              0.5555555555555556,
              "#d8576b"
             ],
             [
              0.6666666666666666,
              "#ed7953"
             ],
             [
              0.7777777777777778,
              "#fb9f3a"
             ],
             [
              0.8888888888888888,
              "#fdca26"
             ],
             [
              1,
              "#f0f921"
             ]
            ],
            "type": "histogram2dcontour"
           }
          ],
          "mesh3d": [
           {
            "colorbar": {
             "outlinewidth": 0,
             "ticks": ""
            },
            "type": "mesh3d"
           }
          ],
          "parcoords": [
           {
            "line": {
             "colorbar": {
              "outlinewidth": 0,
              "ticks": ""
             }
            },
            "type": "parcoords"
           }
          ],
          "pie": [
           {
            "automargin": true,
            "type": "pie"
           }
          ],
          "scatter": [
           {
            "fillpattern": {
             "fillmode": "overlay",
             "size": 10,
             "solidity": 0.2
            },
            "type": "scatter"
           }
          ],
          "scatter3d": [
           {
            "line": {
             "colorbar": {
              "outlinewidth": 0,
              "ticks": ""
             }
            },
            "marker": {
             "colorbar": {
              "outlinewidth": 0,
              "ticks": ""
             }
            },
            "type": "scatter3d"
           }
          ],
          "scattercarpet": [
           {
            "marker": {
             "colorbar": {
              "outlinewidth": 0,
              "ticks": ""
             }
            },
            "type": "scattercarpet"
           }
          ],
          "scattergeo": [
           {
            "marker": {
             "colorbar": {
              "outlinewidth": 0,
              "ticks": ""
             }
            },
            "type": "scattergeo"
           }
          ],
          "scattergl": [
           {
            "marker": {
             "colorbar": {
              "outlinewidth": 0,
              "ticks": ""
             }
            },
            "type": "scattergl"
           }
          ],
          "scattermapbox": [
           {
            "marker": {
             "colorbar": {
              "outlinewidth": 0,
              "ticks": ""
             }
            },
            "type": "scattermapbox"
           }
          ],
          "scatterpolar": [
           {
            "marker": {
             "colorbar": {
              "outlinewidth": 0,
              "ticks": ""
             }
            },
            "type": "scatterpolar"
           }
          ],
          "scatterpolargl": [
           {
            "marker": {
             "colorbar": {
              "outlinewidth": 0,
              "ticks": ""
             }
            },
            "type": "scatterpolargl"
           }
          ],
          "scatterternary": [
           {
            "marker": {
             "colorbar": {
              "outlinewidth": 0,
              "ticks": ""
             }
            },
            "type": "scatterternary"
           }
          ],
          "surface": [
           {
            "colorbar": {
             "outlinewidth": 0,
             "ticks": ""
            },
            "colorscale": [
             [
              0,
              "#0d0887"
             ],
             [
              0.1111111111111111,
              "#46039f"
             ],
             [
              0.2222222222222222,
              "#7201a8"
             ],
             [
              0.3333333333333333,
              "#9c179e"
             ],
             [
              0.4444444444444444,
              "#bd3786"
             ],
             [
              0.5555555555555556,
              "#d8576b"
             ],
             [
              0.6666666666666666,
              "#ed7953"
             ],
             [
              0.7777777777777778,
              "#fb9f3a"
             ],
             [
              0.8888888888888888,
              "#fdca26"
             ],
             [
              1,
              "#f0f921"
             ]
            ],
            "type": "surface"
           }
          ],
          "table": [
           {
            "cells": {
             "fill": {
              "color": "#EBF0F8"
             },
             "line": {
              "color": "white"
             }
            },
            "header": {
             "fill": {
              "color": "#C8D4E3"
             },
             "line": {
              "color": "white"
             }
            },
            "type": "table"
           }
          ]
         },
         "layout": {
          "annotationdefaults": {
           "arrowcolor": "#2a3f5f",
           "arrowhead": 0,
           "arrowwidth": 1
          },
          "autotypenumbers": "strict",
          "coloraxis": {
           "colorbar": {
            "outlinewidth": 0,
            "ticks": ""
           }
          },
          "colorscale": {
           "diverging": [
            [
             0,
             "#8e0152"
            ],
            [
             0.1,
             "#c51b7d"
            ],
            [
             0.2,
             "#de77ae"
            ],
            [
             0.3,
             "#f1b6da"
            ],
            [
             0.4,
             "#fde0ef"
            ],
            [
             0.5,
             "#f7f7f7"
            ],
            [
             0.6,
             "#e6f5d0"
            ],
            [
             0.7,
             "#b8e186"
            ],
            [
             0.8,
             "#7fbc41"
            ],
            [
             0.9,
             "#4d9221"
            ],
            [
             1,
             "#276419"
            ]
           ],
           "sequential": [
            [
             0,
             "#0d0887"
            ],
            [
             0.1111111111111111,
             "#46039f"
            ],
            [
             0.2222222222222222,
             "#7201a8"
            ],
            [
             0.3333333333333333,
             "#9c179e"
            ],
            [
             0.4444444444444444,
             "#bd3786"
            ],
            [
             0.5555555555555556,
             "#d8576b"
            ],
            [
             0.6666666666666666,
             "#ed7953"
            ],
            [
             0.7777777777777778,
             "#fb9f3a"
            ],
            [
             0.8888888888888888,
             "#fdca26"
            ],
            [
             1,
             "#f0f921"
            ]
           ],
           "sequentialminus": [
            [
             0,
             "#0d0887"
            ],
            [
             0.1111111111111111,
             "#46039f"
            ],
            [
             0.2222222222222222,
             "#7201a8"
            ],
            [
             0.3333333333333333,
             "#9c179e"
            ],
            [
             0.4444444444444444,
             "#bd3786"
            ],
            [
             0.5555555555555556,
             "#d8576b"
            ],
            [
             0.6666666666666666,
             "#ed7953"
            ],
            [
             0.7777777777777778,
             "#fb9f3a"
            ],
            [
             0.8888888888888888,
             "#fdca26"
            ],
            [
             1,
             "#f0f921"
            ]
           ]
          },
          "colorway": [
           "#636efa",
           "#EF553B",
           "#00cc96",
           "#ab63fa",
           "#FFA15A",
           "#19d3f3",
           "#FF6692",
           "#B6E880",
           "#FF97FF",
           "#FECB52"
          ],
          "font": {
           "color": "#2a3f5f"
          },
          "geo": {
           "bgcolor": "white",
           "lakecolor": "white",
           "landcolor": "white",
           "showlakes": true,
           "showland": true,
           "subunitcolor": "#C8D4E3"
          },
          "hoverlabel": {
           "align": "left"
          },
          "hovermode": "closest",
          "mapbox": {
           "style": "light"
          },
          "paper_bgcolor": "white",
          "plot_bgcolor": "white",
          "polar": {
           "angularaxis": {
            "gridcolor": "#EBF0F8",
            "linecolor": "#EBF0F8",
            "ticks": ""
           },
           "bgcolor": "white",
           "radialaxis": {
            "gridcolor": "#EBF0F8",
            "linecolor": "#EBF0F8",
            "ticks": ""
           }
          },
          "scene": {
           "xaxis": {
            "backgroundcolor": "white",
            "gridcolor": "#DFE8F3",
            "gridwidth": 2,
            "linecolor": "#EBF0F8",
            "showbackground": true,
            "ticks": "",
            "zerolinecolor": "#EBF0F8"
           },
           "yaxis": {
            "backgroundcolor": "white",
            "gridcolor": "#DFE8F3",
            "gridwidth": 2,
            "linecolor": "#EBF0F8",
            "showbackground": true,
            "ticks": "",
            "zerolinecolor": "#EBF0F8"
           },
           "zaxis": {
            "backgroundcolor": "white",
            "gridcolor": "#DFE8F3",
            "gridwidth": 2,
            "linecolor": "#EBF0F8",
            "showbackground": true,
            "ticks": "",
            "zerolinecolor": "#EBF0F8"
           }
          },
          "shapedefaults": {
           "line": {
            "color": "#2a3f5f"
           }
          },
          "ternary": {
           "aaxis": {
            "gridcolor": "#DFE8F3",
            "linecolor": "#A2B1C6",
            "ticks": ""
           },
           "baxis": {
            "gridcolor": "#DFE8F3",
            "linecolor": "#A2B1C6",
            "ticks": ""
           },
           "bgcolor": "white",
           "caxis": {
            "gridcolor": "#DFE8F3",
            "linecolor": "#A2B1C6",
            "ticks": ""
           }
          },
          "title": {
           "x": 0.05
          },
          "xaxis": {
           "automargin": true,
           "gridcolor": "#EBF0F8",
           "linecolor": "#EBF0F8",
           "ticks": "",
           "title": {
            "standoff": 15
           },
           "zerolinecolor": "#EBF0F8",
           "zerolinewidth": 2
          },
          "yaxis": {
           "automargin": true,
           "gridcolor": "#EBF0F8",
           "linecolor": "#EBF0F8",
           "ticks": "",
           "title": {
            "standoff": 15
           },
           "zerolinecolor": "#EBF0F8",
           "zerolinewidth": 2
          }
         }
        },
        "title": {
         "text": "Cross-Validation (N=5) Mean Logloss with Error Bands"
        },
        "xaxis": {
         "title": {
          "text": "Training Steps"
         }
        },
        "yaxis": {
         "title": {
          "text": "Logloss"
         }
        }
       }
      },
      "text/html": [
       "<div>                            <div id=\"6ea368d0-139d-412a-a072-a0a5adb8bfec\" class=\"plotly-graph-div\" style=\"height:525px; width:100%;\"></div>            <script type=\"text/javascript\">                require([\"plotly\"], function(Plotly) {                    window.PLOTLYENV=window.PLOTLYENV || {};                                    if (document.getElementById(\"6ea368d0-139d-412a-a072-a0a5adb8bfec\")) {                    Plotly.newPlot(                        \"6ea368d0-139d-412a-a072-a0a5adb8bfec\",                        [{\"line\":{\"color\":\"blue\"},\"mode\":\"lines\",\"name\":\"Mean logloss\",\"x\":[0,1,2,3,4,5,6,7,8,9,10,11,12,13,14,15,16,17,18,19,20,21,22,23,24,25,26,27,28,29,30,31,32,33,34,35,36,37,38,39,40,41,42,43,44,45,46,47,48,49,50,51,52,53,54,55,56,57,58,59,60,61,62,63,64,65,66,67,68,69,70,71,72,73,74,75,76,77,78,79,80,81,82,83,84,85,86,87,88,89,90,91,92,93,94,95,96,97,98,99,100,101,102,103,104,105,106,107,108,109,110,111,112,113,114,115,116,117,118,119,120,121,122,123],\"y\":[0.2711255577636066,0.1222877357253707,0.0645381935276502,0.0377379165038937,0.0310291872701033,0.0240783027968858,0.0207127871001906,0.017967443705339,0.0161011503043023,0.0151830295644431,0.0144819874391178,0.0133409127832384,0.0122430061546699,0.0118320830386068,0.0116050316300795,0.0113148043429019,0.0112036347748444,0.0112034498202727,0.0111842788712399,0.0111660585252188,0.011056481916448,0.0110563598160969,0.0110562069226778,0.0110561612429767,0.011056056835009,0.0110560352211583,0.0110559962306547,0.0110559766734119,0.0110559576733145,0.0110559576733145,0.0110559410233232,0.0110559410233232,0.0110558680567089,0.0110557951085161,0.0110557951085161,0.0110557951085161,0.0110557951085161,0.0110557951085161,0.0110557951085161,0.0110557951085161,0.0110557951085161,0.0110557951085161,0.0110557951085161,0.0110557951085161,0.0110557951085161,0.0110557951085161,0.0110557951085161,0.0110557951085161,0.0110557951085161,0.0110557951085161,0.0110557951085161,0.0110557951085161,0.0110557951085161,0.0110557951085161,0.0110557726928863,0.0110557531494158,0.0110557414738292,0.0110557414738292,0.0110557414738292,0.0110557414738292,0.0110557414738292,0.0110557414738292,0.0110557414738292,0.0110557304664051,0.0110557304664051,0.0110557304664051,0.0110557304664051,0.0110557304664051,0.0110557304664051,0.0110557304664051,0.0110557304664051,0.0110557304664051,0.0110557304664051,0.0110557304664051,0.0110557304664051,0.0110557304664051,0.0110557304664051,0.0110557304664051,0.0110557304664051,0.0110557304664051,0.0110557304664051,0.0110557304664051,0.0110557304664051,0.0110557304664051,0.0110557304664051,0.0110557304664051,0.0110557304664051,0.0110557304664051,0.0110557304664051,0.0110557304664051,0.0110557304664051,0.0110557304664051,0.0110557304664051,0.0110557304664051,0.0110557304664051,0.0110557304664051,0.0110557304664051,0.0110557304664051,0.0110557304664051,0.0110557304664051,0.0110557304664051,0.0110557304664051,0.0110557304664051,0.0110557304664051,0.0110557304664051,0.0110557304664051,0.0110557304664051,0.0110557304664051,0.0110557304664051,0.0110557304664051,0.0110557304664051,0.0110557304664051,0.0110557304664051,0.0110557304664051,0.0110557304664051,0.0110557304664051,0.0110557304664051,0.0110557304664051,0.0110557266311488,0.0110557266311488,0.0110557266311488,0.0110557266311488,0.0110557266311488,0.0110557266311488],\"type\":\"scatter\"},{\"fill\":\"toself\",\"fillcolor\":\"rgba(0, 0, 255, 0.2)\",\"line\":{\"color\":\"rgba(255, 255, 255, 0)\"},\"showlegend\":false,\"x\":[0.2711255577636066,0.1222877357253707,0.0645381935276502,0.0377379165038937,0.0310291872701033,0.0240783027968858,0.0207127871001906,0.017967443705339,0.0161011503043023,0.0151830295644431,0.0144819874391178,0.0133409127832384,0.0122430061546699,0.0118320830386068,0.0116050316300795,0.0113148043429019,0.0112036347748444,0.0112034498202727,0.0111842788712399,0.0111660585252188,0.011056481916448,0.0110563598160969,0.0110562069226778,0.0110561612429767,0.011056056835009,0.0110560352211583,0.0110559962306547,0.0110559766734119,0.0110559576733145,0.0110559576733145,0.0110559410233232,0.0110559410233232,0.0110558680567089,0.0110557951085161,0.0110557951085161,0.0110557951085161,0.0110557951085161,0.0110557951085161,0.0110557951085161,0.0110557951085161,0.0110557951085161,0.0110557951085161,0.0110557951085161,0.0110557951085161,0.0110557951085161,0.0110557951085161,0.0110557951085161,0.0110557951085161,0.0110557951085161,0.0110557951085161,0.0110557951085161,0.0110557951085161,0.0110557951085161,0.0110557951085161,0.0110557726928863,0.0110557531494158,0.0110557414738292,0.0110557414738292,0.0110557414738292,0.0110557414738292,0.0110557414738292,0.0110557414738292,0.0110557414738292,0.0110557304664051,0.0110557304664051,0.0110557304664051,0.0110557304664051,0.0110557304664051,0.0110557304664051,0.0110557304664051,0.0110557304664051,0.0110557304664051,0.0110557304664051,0.0110557304664051,0.0110557304664051,0.0110557304664051,0.0110557304664051,0.0110557304664051,0.0110557304664051,0.0110557304664051,0.0110557304664051,0.0110557304664051,0.0110557304664051,0.0110557304664051,0.0110557304664051,0.0110557304664051,0.0110557304664051,0.0110557304664051,0.0110557304664051,0.0110557304664051,0.0110557304664051,0.0110557304664051,0.0110557304664051,0.0110557304664051,0.0110557304664051,0.0110557304664051,0.0110557304664051,0.0110557304664051,0.0110557304664051,0.0110557304664051,0.0110557304664051,0.0110557304664051,0.0110557304664051,0.0110557304664051,0.0110557304664051,0.0110557304664051,0.0110557304664051,0.0110557304664051,0.0110557304664051,0.0110557304664051,0.0110557304664051,0.0110557304664051,0.0110557304664051,0.0110557304664051,0.0110557304664051,0.0110557304664051,0.0110557304664051,0.0110557304664051,0.0110557266311488,0.0110557266311488,0.0110557266311488,0.0110557266311488,0.0110557266311488,0.0110557266311488,123.0,122.0,121.0,120.0,119.0,118.0,117.0,116.0,115.0,114.0,113.0,112.0,111.0,110.0,109.0,108.0,107.0,106.0,105.0,104.0,103.0,102.0,101.0,100.0,99.0,98.0,97.0,96.0,95.0,94.0,93.0,92.0,91.0,90.0,89.0,88.0,87.0,86.0,85.0,84.0,83.0,82.0,81.0,80.0,79.0,78.0,77.0,76.0,75.0,74.0,73.0,72.0,71.0,70.0,69.0,68.0,67.0,66.0,65.0,64.0,63.0,62.0,61.0,60.0,59.0,58.0,57.0,56.0,55.0,54.0,53.0,52.0,51.0,50.0,49.0,48.0,47.0,46.0,45.0,44.0,43.0,42.0,41.0,40.0,39.0,38.0,37.0,36.0,35.0,34.0,33.0,32.0,31.0,30.0,29.0,28.0,27.0,26.0,25.0,24.0,23.0,22.0,21.0,20.0,19.0,18.0,17.0,16.0,15.0,14.0,13.0,12.0,11.0,10.0,9.0,8.0,7.0,6.0,5.0,4.0,3.0,2.0,1.0,0.0],\"y\":[0.36265961597441837,0.1997519773321335,0.1049813065971815,0.0639840545898802,0.056785605662561606,0.044639448248445,0.0394797899017279,0.0347982709289168,0.0318362516392482,0.0306298349088956,0.0293524822738066,0.0270497336457531,0.024975708084852,0.0243864125747994,0.0239548031883304,0.0234187741981755,0.0233845609264019,0.0233843711573811,0.0233613498717683,0.023362111666865498,0.023325221636693,0.0233249953042668,0.0233246858502499,0.0233246835697852,0.0233246114319556,0.023324611609113602,0.0233246119290832,0.0233246120897627,0.0233246122459835,0.0233246122459835,0.023324612382978,0.023324612382978,0.0233245892933244,0.0233245662114663,0.0233245662114663,0.0233245662114663,0.0233245662114663,0.0233245662114663,0.0233245662114663,0.0233245662114663,0.0233245662114663,0.0233245662114663,0.0233245662114663,0.0233245662114663,0.0233245662114663,0.0233245662114663,0.0233245662114663,0.0233245662114663,0.0233245662114663,0.0233245662114663,0.0233245662114663,0.0233245662114663,0.0233245662114663,0.0233245662114663,0.0233245663955251,0.023324566556133103,0.0233245666521422,0.0233245666521422,0.0233245666521422,0.0233245666521422,0.0233245666521422,0.0233245666521422,0.0233245666521422,0.023324566742697297,0.023324566742697297,0.023324566742697297,0.023324566742697297,0.023324566742697297,0.023324566742697297,0.023324566742697297,0.023324566742697297,0.023324566742697297,0.023324566742697297,0.023324566742697297,0.023324566742697297,0.023324566742697297,0.023324566742697297,0.023324566742697297,0.023324566742697297,0.023324566742697297,0.023324566742697297,0.023324566742697297,0.023324566742697297,0.023324566742697297,0.023324566742697297,0.023324566742697297,0.023324566742697297,0.023324566742697297,0.023324566742697297,0.023324566742697297,0.023324566742697297,0.023324566742697297,0.023324566742697297,0.023324566742697297,0.023324566742697297,0.023324566742697297,0.023324566742697297,0.023324566742697297,0.023324566742697297,0.023324566742697297,0.023324566742697297,0.023324566742697297,0.023324566742697297,0.023324566742697297,0.023324566742697297,0.023324566742697297,0.023324566742697297,0.023324566742697297,0.023324566742697297,0.023324566742697297,0.023324566742697297,0.023324566742697297,0.023324566742697297,0.023324566742697297,0.023324566742697297,0.023324566742697297,0.023324566742697297,0.023324566742697297,0.0233245667742582,0.0233245667742582,0.0233245667742582,0.0233245667742582,0.0233245667742582,0.0233245667742582,0.1795914995527948,0.04482349411860791,0.024095080458118895,0.0114917784179072,0.005272768877644999,0.0035171573453266006,0.001945784298653299,0.001136616481761197,0.00036604896935640147,-0.0002637757800093999,-0.00038850739557100104,-0.0003679080792763009,-0.0004896957755122014,-0.0007222464975858,-0.0007447399281713986,-0.0007891655123716985,-0.0009772913767131016,-0.0009774715168356998,-0.0009927921292884993,-0.0010299946164278994,-0.001212257803796999,-0.0012122756720730002,-0.0012122720048943006,-0.0012123610838318012,-0.0012124977619376014,-0.001212541166796999,-0.0012126194677737987,-0.0012126587429388998,-0.0012126968993544998,-0.0012126968993544998,-0.0012127303363316001,-0.0012127303363316001,-0.0012128531799065999,-0.0012129759944340991,-0.0012129759944340991,-0.0012129759944340991,-0.0012129759944340991,-0.0012129759944340991,-0.0012129759944340991,-0.0012129759944340991,-0.0012129759944340991,-0.0012129759944340991,-0.0012129759944340991,-0.0012129759944340991,-0.0012129759944340991,-0.0012129759944340991,-0.0012129759944340991,-0.0012129759944340991,-0.0012129759944340991,-0.0012129759944340991,-0.0012129759944340991,-0.0012129759944340991,-0.0012129759944340991,-0.0012129759944340991,-0.001213021009752499,-0.0012130602573014997,-0.0012130837044837996,-0.0012130837044837996,-0.0012130837044837996,-0.0012130837044837996,-0.0012130837044837996,-0.0012130837044837996,-0.0012130837044837996,-0.0012131058098870991,-0.0012131058098870991,-0.0012131058098870991,-0.0012131058098870991,-0.0012131058098870991,-0.0012131058098870991,-0.0012131058098870991,-0.0012131058098870991,-0.0012131058098870991,-0.0012131058098870991,-0.0012131058098870991,-0.0012131058098870991,-0.0012131058098870991,-0.0012131058098870991,-0.0012131058098870991,-0.0012131058098870991,-0.0012131058098870991,-0.0012131058098870991,-0.0012131058098870991,-0.0012131058098870991,-0.0012131058098870991,-0.0012131058098870991,-0.0012131058098870991,-0.0012131058098870991,-0.0012131058098870991,-0.0012131058098870991,-0.0012131058098870991,-0.0012131058098870991,-0.0012131058098870991,-0.0012131058098870991,-0.0012131058098870991,-0.0012131058098870991,-0.0012131058098870991,-0.0012131058098870991,-0.0012131058098870991,-0.0012131058098870991,-0.0012131058098870991,-0.0012131058098870991,-0.0012131058098870991,-0.0012131058098870991,-0.0012131058098870991,-0.0012131058098870991,-0.0012131058098870991,-0.0012131058098870991,-0.0012131058098870991,-0.0012131058098870991,-0.0012131058098870991,-0.0012131058098870991,-0.0012131058098870991,-0.0012131058098870991,-0.0012131058098870991,-0.0012131058098870991,-0.0012131058098870991,-0.0012131058098870991,-0.0012131058098870991,-0.0012131135119606007,-0.0012131135119606007,-0.0012131135119606007,-0.0012131135119606007,-0.0012131135119606007,-0.0012131135119606007],\"type\":\"scatter\"}],                        {\"template\":{\"data\":{\"barpolar\":[{\"marker\":{\"line\":{\"color\":\"white\",\"width\":0.5},\"pattern\":{\"fillmode\":\"overlay\",\"size\":10,\"solidity\":0.2}},\"type\":\"barpolar\"}],\"bar\":[{\"error_x\":{\"color\":\"#2a3f5f\"},\"error_y\":{\"color\":\"#2a3f5f\"},\"marker\":{\"line\":{\"color\":\"white\",\"width\":0.5},\"pattern\":{\"fillmode\":\"overlay\",\"size\":10,\"solidity\":0.2}},\"type\":\"bar\"}],\"carpet\":[{\"aaxis\":{\"endlinecolor\":\"#2a3f5f\",\"gridcolor\":\"#C8D4E3\",\"linecolor\":\"#C8D4E3\",\"minorgridcolor\":\"#C8D4E3\",\"startlinecolor\":\"#2a3f5f\"},\"baxis\":{\"endlinecolor\":\"#2a3f5f\",\"gridcolor\":\"#C8D4E3\",\"linecolor\":\"#C8D4E3\",\"minorgridcolor\":\"#C8D4E3\",\"startlinecolor\":\"#2a3f5f\"},\"type\":\"carpet\"}],\"choropleth\":[{\"colorbar\":{\"outlinewidth\":0,\"ticks\":\"\"},\"type\":\"choropleth\"}],\"contourcarpet\":[{\"colorbar\":{\"outlinewidth\":0,\"ticks\":\"\"},\"type\":\"contourcarpet\"}],\"contour\":[{\"colorbar\":{\"outlinewidth\":0,\"ticks\":\"\"},\"colorscale\":[[0.0,\"#0d0887\"],[0.1111111111111111,\"#46039f\"],[0.2222222222222222,\"#7201a8\"],[0.3333333333333333,\"#9c179e\"],[0.4444444444444444,\"#bd3786\"],[0.5555555555555556,\"#d8576b\"],[0.6666666666666666,\"#ed7953\"],[0.7777777777777778,\"#fb9f3a\"],[0.8888888888888888,\"#fdca26\"],[1.0,\"#f0f921\"]],\"type\":\"contour\"}],\"heatmapgl\":[{\"colorbar\":{\"outlinewidth\":0,\"ticks\":\"\"},\"colorscale\":[[0.0,\"#0d0887\"],[0.1111111111111111,\"#46039f\"],[0.2222222222222222,\"#7201a8\"],[0.3333333333333333,\"#9c179e\"],[0.4444444444444444,\"#bd3786\"],[0.5555555555555556,\"#d8576b\"],[0.6666666666666666,\"#ed7953\"],[0.7777777777777778,\"#fb9f3a\"],[0.8888888888888888,\"#fdca26\"],[1.0,\"#f0f921\"]],\"type\":\"heatmapgl\"}],\"heatmap\":[{\"colorbar\":{\"outlinewidth\":0,\"ticks\":\"\"},\"colorscale\":[[0.0,\"#0d0887\"],[0.1111111111111111,\"#46039f\"],[0.2222222222222222,\"#7201a8\"],[0.3333333333333333,\"#9c179e\"],[0.4444444444444444,\"#bd3786\"],[0.5555555555555556,\"#d8576b\"],[0.6666666666666666,\"#ed7953\"],[0.7777777777777778,\"#fb9f3a\"],[0.8888888888888888,\"#fdca26\"],[1.0,\"#f0f921\"]],\"type\":\"heatmap\"}],\"histogram2dcontour\":[{\"colorbar\":{\"outlinewidth\":0,\"ticks\":\"\"},\"colorscale\":[[0.0,\"#0d0887\"],[0.1111111111111111,\"#46039f\"],[0.2222222222222222,\"#7201a8\"],[0.3333333333333333,\"#9c179e\"],[0.4444444444444444,\"#bd3786\"],[0.5555555555555556,\"#d8576b\"],[0.6666666666666666,\"#ed7953\"],[0.7777777777777778,\"#fb9f3a\"],[0.8888888888888888,\"#fdca26\"],[1.0,\"#f0f921\"]],\"type\":\"histogram2dcontour\"}],\"histogram2d\":[{\"colorbar\":{\"outlinewidth\":0,\"ticks\":\"\"},\"colorscale\":[[0.0,\"#0d0887\"],[0.1111111111111111,\"#46039f\"],[0.2222222222222222,\"#7201a8\"],[0.3333333333333333,\"#9c179e\"],[0.4444444444444444,\"#bd3786\"],[0.5555555555555556,\"#d8576b\"],[0.6666666666666666,\"#ed7953\"],[0.7777777777777778,\"#fb9f3a\"],[0.8888888888888888,\"#fdca26\"],[1.0,\"#f0f921\"]],\"type\":\"histogram2d\"}],\"histogram\":[{\"marker\":{\"pattern\":{\"fillmode\":\"overlay\",\"size\":10,\"solidity\":0.2}},\"type\":\"histogram\"}],\"mesh3d\":[{\"colorbar\":{\"outlinewidth\":0,\"ticks\":\"\"},\"type\":\"mesh3d\"}],\"parcoords\":[{\"line\":{\"colorbar\":{\"outlinewidth\":0,\"ticks\":\"\"}},\"type\":\"parcoords\"}],\"pie\":[{\"automargin\":true,\"type\":\"pie\"}],\"scatter3d\":[{\"line\":{\"colorbar\":{\"outlinewidth\":0,\"ticks\":\"\"}},\"marker\":{\"colorbar\":{\"outlinewidth\":0,\"ticks\":\"\"}},\"type\":\"scatter3d\"}],\"scattercarpet\":[{\"marker\":{\"colorbar\":{\"outlinewidth\":0,\"ticks\":\"\"}},\"type\":\"scattercarpet\"}],\"scattergeo\":[{\"marker\":{\"colorbar\":{\"outlinewidth\":0,\"ticks\":\"\"}},\"type\":\"scattergeo\"}],\"scattergl\":[{\"marker\":{\"colorbar\":{\"outlinewidth\":0,\"ticks\":\"\"}},\"type\":\"scattergl\"}],\"scattermapbox\":[{\"marker\":{\"colorbar\":{\"outlinewidth\":0,\"ticks\":\"\"}},\"type\":\"scattermapbox\"}],\"scatterpolargl\":[{\"marker\":{\"colorbar\":{\"outlinewidth\":0,\"ticks\":\"\"}},\"type\":\"scatterpolargl\"}],\"scatterpolar\":[{\"marker\":{\"colorbar\":{\"outlinewidth\":0,\"ticks\":\"\"}},\"type\":\"scatterpolar\"}],\"scatter\":[{\"fillpattern\":{\"fillmode\":\"overlay\",\"size\":10,\"solidity\":0.2},\"type\":\"scatter\"}],\"scatterternary\":[{\"marker\":{\"colorbar\":{\"outlinewidth\":0,\"ticks\":\"\"}},\"type\":\"scatterternary\"}],\"surface\":[{\"colorbar\":{\"outlinewidth\":0,\"ticks\":\"\"},\"colorscale\":[[0.0,\"#0d0887\"],[0.1111111111111111,\"#46039f\"],[0.2222222222222222,\"#7201a8\"],[0.3333333333333333,\"#9c179e\"],[0.4444444444444444,\"#bd3786\"],[0.5555555555555556,\"#d8576b\"],[0.6666666666666666,\"#ed7953\"],[0.7777777777777778,\"#fb9f3a\"],[0.8888888888888888,\"#fdca26\"],[1.0,\"#f0f921\"]],\"type\":\"surface\"}],\"table\":[{\"cells\":{\"fill\":{\"color\":\"#EBF0F8\"},\"line\":{\"color\":\"white\"}},\"header\":{\"fill\":{\"color\":\"#C8D4E3\"},\"line\":{\"color\":\"white\"}},\"type\":\"table\"}]},\"layout\":{\"annotationdefaults\":{\"arrowcolor\":\"#2a3f5f\",\"arrowhead\":0,\"arrowwidth\":1},\"autotypenumbers\":\"strict\",\"coloraxis\":{\"colorbar\":{\"outlinewidth\":0,\"ticks\":\"\"}},\"colorscale\":{\"diverging\":[[0,\"#8e0152\"],[0.1,\"#c51b7d\"],[0.2,\"#de77ae\"],[0.3,\"#f1b6da\"],[0.4,\"#fde0ef\"],[0.5,\"#f7f7f7\"],[0.6,\"#e6f5d0\"],[0.7,\"#b8e186\"],[0.8,\"#7fbc41\"],[0.9,\"#4d9221\"],[1,\"#276419\"]],\"sequential\":[[0.0,\"#0d0887\"],[0.1111111111111111,\"#46039f\"],[0.2222222222222222,\"#7201a8\"],[0.3333333333333333,\"#9c179e\"],[0.4444444444444444,\"#bd3786\"],[0.5555555555555556,\"#d8576b\"],[0.6666666666666666,\"#ed7953\"],[0.7777777777777778,\"#fb9f3a\"],[0.8888888888888888,\"#fdca26\"],[1.0,\"#f0f921\"]],\"sequentialminus\":[[0.0,\"#0d0887\"],[0.1111111111111111,\"#46039f\"],[0.2222222222222222,\"#7201a8\"],[0.3333333333333333,\"#9c179e\"],[0.4444444444444444,\"#bd3786\"],[0.5555555555555556,\"#d8576b\"],[0.6666666666666666,\"#ed7953\"],[0.7777777777777778,\"#fb9f3a\"],[0.8888888888888888,\"#fdca26\"],[1.0,\"#f0f921\"]]},\"colorway\":[\"#636efa\",\"#EF553B\",\"#00cc96\",\"#ab63fa\",\"#FFA15A\",\"#19d3f3\",\"#FF6692\",\"#B6E880\",\"#FF97FF\",\"#FECB52\"],\"font\":{\"color\":\"#2a3f5f\"},\"geo\":{\"bgcolor\":\"white\",\"lakecolor\":\"white\",\"landcolor\":\"white\",\"showlakes\":true,\"showland\":true,\"subunitcolor\":\"#C8D4E3\"},\"hoverlabel\":{\"align\":\"left\"},\"hovermode\":\"closest\",\"mapbox\":{\"style\":\"light\"},\"paper_bgcolor\":\"white\",\"plot_bgcolor\":\"white\",\"polar\":{\"angularaxis\":{\"gridcolor\":\"#EBF0F8\",\"linecolor\":\"#EBF0F8\",\"ticks\":\"\"},\"bgcolor\":\"white\",\"radialaxis\":{\"gridcolor\":\"#EBF0F8\",\"linecolor\":\"#EBF0F8\",\"ticks\":\"\"}},\"scene\":{\"xaxis\":{\"backgroundcolor\":\"white\",\"gridcolor\":\"#DFE8F3\",\"gridwidth\":2,\"linecolor\":\"#EBF0F8\",\"showbackground\":true,\"ticks\":\"\",\"zerolinecolor\":\"#EBF0F8\"},\"yaxis\":{\"backgroundcolor\":\"white\",\"gridcolor\":\"#DFE8F3\",\"gridwidth\":2,\"linecolor\":\"#EBF0F8\",\"showbackground\":true,\"ticks\":\"\",\"zerolinecolor\":\"#EBF0F8\"},\"zaxis\":{\"backgroundcolor\":\"white\",\"gridcolor\":\"#DFE8F3\",\"gridwidth\":2,\"linecolor\":\"#EBF0F8\",\"showbackground\":true,\"ticks\":\"\",\"zerolinecolor\":\"#EBF0F8\"}},\"shapedefaults\":{\"line\":{\"color\":\"#2a3f5f\"}},\"ternary\":{\"aaxis\":{\"gridcolor\":\"#DFE8F3\",\"linecolor\":\"#A2B1C6\",\"ticks\":\"\"},\"baxis\":{\"gridcolor\":\"#DFE8F3\",\"linecolor\":\"#A2B1C6\",\"ticks\":\"\"},\"bgcolor\":\"white\",\"caxis\":{\"gridcolor\":\"#DFE8F3\",\"linecolor\":\"#A2B1C6\",\"ticks\":\"\"}},\"title\":{\"x\":0.05},\"xaxis\":{\"automargin\":true,\"gridcolor\":\"#EBF0F8\",\"linecolor\":\"#EBF0F8\",\"ticks\":\"\",\"title\":{\"standoff\":15},\"zerolinecolor\":\"#EBF0F8\",\"zerolinewidth\":2},\"yaxis\":{\"automargin\":true,\"gridcolor\":\"#EBF0F8\",\"linecolor\":\"#EBF0F8\",\"ticks\":\"\",\"title\":{\"standoff\":15},\"zerolinecolor\":\"#EBF0F8\",\"zerolinewidth\":2}}},\"title\":{\"text\":\"Cross-Validation (N=5) Mean Logloss with Error Bands\"},\"xaxis\":{\"title\":{\"text\":\"Training Steps\"}},\"yaxis\":{\"title\":{\"text\":\"Logloss\"}}},                        {\"responsive\": true}                    ).then(function(){\n",
       "                            \n",
       "var gd = document.getElementById('6ea368d0-139d-412a-a072-a0a5adb8bfec');\n",
       "var x = new MutationObserver(function (mutations, observer) {{\n",
       "        var display = window.getComputedStyle(gd).display;\n",
       "        if (!display || display === 'none') {{\n",
       "            console.log([gd, 'removed!']);\n",
       "            Plotly.purge(gd);\n",
       "            observer.disconnect();\n",
       "        }}\n",
       "}});\n",
       "\n",
       "// Listen for the removal of the full notebook cells\n",
       "var notebookContainer = gd.closest('#notebook-container');\n",
       "if (notebookContainer) {{\n",
       "    x.observe(notebookContainer, {childList: true});\n",
       "}}\n",
       "\n",
       "// Listen for the clearing of the current output cell\n",
       "var outputEl = gd.closest('.output');\n",
       "if (outputEl) {{\n",
       "    x.observe(outputEl, {childList: true});\n",
       "}}\n",
       "\n",
       "                        })                };                });            </script>        </div>"
      ]
     },
     "metadata": {},
     "output_type": "display_data"
    },
    {
     "data": {
      "application/vnd.plotly.v1+json": {
       "config": {
        "plotlyServerURL": "https://plot.ly"
       },
       "data": [
        {
         "line": {
          "color": "blue"
         },
         "mode": "lines",
         "name": "Mean logloss",
         "type": "scatter",
         "x": [
          0,
          1,
          2,
          3,
          4,
          5,
          6,
          7,
          8,
          9,
          10,
          11,
          12,
          13,
          14,
          15,
          16,
          17,
          18,
          19,
          20,
          21,
          22,
          23,
          24,
          25,
          26,
          27,
          28,
          29,
          30,
          31,
          32,
          33,
          34,
          35,
          36,
          37,
          38,
          39,
          40,
          41,
          42,
          43,
          44,
          45,
          46,
          47,
          48,
          49,
          50,
          51,
          52,
          53,
          54,
          55,
          56,
          57,
          58,
          59,
          60,
          61,
          62,
          63,
          64,
          65,
          66,
          67,
          68,
          69,
          70,
          71,
          72,
          73,
          74,
          75,
          76,
          77,
          78,
          79,
          80,
          81,
          82,
          83,
          84,
          85,
          86,
          87,
          88,
          89,
          90,
          91,
          92,
          93,
          94,
          95,
          96,
          97,
          98,
          99,
          100,
          101,
          102,
          103,
          104,
          105,
          106,
          107,
          108,
          109,
          110,
          111,
          112,
          113,
          114,
          115,
          116,
          117,
          118,
          119,
          120,
          121,
          122,
          123
         ],
         "y": [
          0.2711255577636066,
          0.1222877357253707,
          0.0645381935276502,
          0.0377379165038937,
          0.0310291872701033,
          0.0240783027968858,
          0.0207127871001906,
          0.017967443705339,
          0.0161011503043023,
          0.0151830295644431,
          0.0144819874391178,
          0.0133409127832384,
          0.0122430061546699,
          0.0118320830386068,
          0.0116050316300795,
          0.0113148043429019,
          0.0112036347748444,
          0.0112034498202727,
          0.0111842788712399,
          0.0111660585252188,
          0.011056481916448,
          0.0110563598160969,
          0.0110562069226778,
          0.0110561612429767,
          0.011056056835009,
          0.0110560352211583,
          0.0110559962306547,
          0.0110559766734119,
          0.0110559576733145,
          0.0110559576733145,
          0.0110559410233232,
          0.0110559410233232,
          0.0110558680567089,
          0.0110557951085161,
          0.0110557951085161,
          0.0110557951085161,
          0.0110557951085161,
          0.0110557951085161,
          0.0110557951085161,
          0.0110557951085161,
          0.0110557951085161,
          0.0110557951085161,
          0.0110557951085161,
          0.0110557951085161,
          0.0110557951085161,
          0.0110557951085161,
          0.0110557951085161,
          0.0110557951085161,
          0.0110557951085161,
          0.0110557951085161,
          0.0110557951085161,
          0.0110557951085161,
          0.0110557951085161,
          0.0110557951085161,
          0.0110557726928863,
          0.0110557531494158,
          0.0110557414738292,
          0.0110557414738292,
          0.0110557414738292,
          0.0110557414738292,
          0.0110557414738292,
          0.0110557414738292,
          0.0110557414738292,
          0.0110557304664051,
          0.0110557304664051,
          0.0110557304664051,
          0.0110557304664051,
          0.0110557304664051,
          0.0110557304664051,
          0.0110557304664051,
          0.0110557304664051,
          0.0110557304664051,
          0.0110557304664051,
          0.0110557304664051,
          0.0110557304664051,
          0.0110557304664051,
          0.0110557304664051,
          0.0110557304664051,
          0.0110557304664051,
          0.0110557304664051,
          0.0110557304664051,
          0.0110557304664051,
          0.0110557304664051,
          0.0110557304664051,
          0.0110557304664051,
          0.0110557304664051,
          0.0110557304664051,
          0.0110557304664051,
          0.0110557304664051,
          0.0110557304664051,
          0.0110557304664051,
          0.0110557304664051,
          0.0110557304664051,
          0.0110557304664051,
          0.0110557304664051,
          0.0110557304664051,
          0.0110557304664051,
          0.0110557304664051,
          0.0110557304664051,
          0.0110557304664051,
          0.0110557304664051,
          0.0110557304664051,
          0.0110557304664051,
          0.0110557304664051,
          0.0110557304664051,
          0.0110557304664051,
          0.0110557304664051,
          0.0110557304664051,
          0.0110557304664051,
          0.0110557304664051,
          0.0110557304664051,
          0.0110557304664051,
          0.0110557304664051,
          0.0110557304664051,
          0.0110557304664051,
          0.0110557304664051,
          0.0110557304664051,
          0.0110557304664051,
          0.0110557266311488,
          0.0110557266311488,
          0.0110557266311488,
          0.0110557266311488,
          0.0110557266311488,
          0.0110557266311488
         ]
        },
        {
         "fill": "toself",
         "fillcolor": "rgba(0, 0, 255, 0.2)",
         "line": {
          "color": "rgba(255, 255, 255, 0)"
         },
         "showlegend": false,
         "type": "scatter",
         "x": [
          0.2711255577636066,
          0.1222877357253707,
          0.0645381935276502,
          0.0377379165038937,
          0.0310291872701033,
          0.0240783027968858,
          0.0207127871001906,
          0.017967443705339,
          0.0161011503043023,
          0.0151830295644431,
          0.0144819874391178,
          0.0133409127832384,
          0.0122430061546699,
          0.0118320830386068,
          0.0116050316300795,
          0.0113148043429019,
          0.0112036347748444,
          0.0112034498202727,
          0.0111842788712399,
          0.0111660585252188,
          0.011056481916448,
          0.0110563598160969,
          0.0110562069226778,
          0.0110561612429767,
          0.011056056835009,
          0.0110560352211583,
          0.0110559962306547,
          0.0110559766734119,
          0.0110559576733145,
          0.0110559576733145,
          0.0110559410233232,
          0.0110559410233232,
          0.0110558680567089,
          0.0110557951085161,
          0.0110557951085161,
          0.0110557951085161,
          0.0110557951085161,
          0.0110557951085161,
          0.0110557951085161,
          0.0110557951085161,
          0.0110557951085161,
          0.0110557951085161,
          0.0110557951085161,
          0.0110557951085161,
          0.0110557951085161,
          0.0110557951085161,
          0.0110557951085161,
          0.0110557951085161,
          0.0110557951085161,
          0.0110557951085161,
          0.0110557951085161,
          0.0110557951085161,
          0.0110557951085161,
          0.0110557951085161,
          0.0110557726928863,
          0.0110557531494158,
          0.0110557414738292,
          0.0110557414738292,
          0.0110557414738292,
          0.0110557414738292,
          0.0110557414738292,
          0.0110557414738292,
          0.0110557414738292,
          0.0110557304664051,
          0.0110557304664051,
          0.0110557304664051,
          0.0110557304664051,
          0.0110557304664051,
          0.0110557304664051,
          0.0110557304664051,
          0.0110557304664051,
          0.0110557304664051,
          0.0110557304664051,
          0.0110557304664051,
          0.0110557304664051,
          0.0110557304664051,
          0.0110557304664051,
          0.0110557304664051,
          0.0110557304664051,
          0.0110557304664051,
          0.0110557304664051,
          0.0110557304664051,
          0.0110557304664051,
          0.0110557304664051,
          0.0110557304664051,
          0.0110557304664051,
          0.0110557304664051,
          0.0110557304664051,
          0.0110557304664051,
          0.0110557304664051,
          0.0110557304664051,
          0.0110557304664051,
          0.0110557304664051,
          0.0110557304664051,
          0.0110557304664051,
          0.0110557304664051,
          0.0110557304664051,
          0.0110557304664051,
          0.0110557304664051,
          0.0110557304664051,
          0.0110557304664051,
          0.0110557304664051,
          0.0110557304664051,
          0.0110557304664051,
          0.0110557304664051,
          0.0110557304664051,
          0.0110557304664051,
          0.0110557304664051,
          0.0110557304664051,
          0.0110557304664051,
          0.0110557304664051,
          0.0110557304664051,
          0.0110557304664051,
          0.0110557304664051,
          0.0110557304664051,
          0.0110557304664051,
          0.0110557304664051,
          0.0110557304664051,
          0.0110557266311488,
          0.0110557266311488,
          0.0110557266311488,
          0.0110557266311488,
          0.0110557266311488,
          0.0110557266311488,
          123,
          122,
          121,
          120,
          119,
          118,
          117,
          116,
          115,
          114,
          113,
          112,
          111,
          110,
          109,
          108,
          107,
          106,
          105,
          104,
          103,
          102,
          101,
          100,
          99,
          98,
          97,
          96,
          95,
          94,
          93,
          92,
          91,
          90,
          89,
          88,
          87,
          86,
          85,
          84,
          83,
          82,
          81,
          80,
          79,
          78,
          77,
          76,
          75,
          74,
          73,
          72,
          71,
          70,
          69,
          68,
          67,
          66,
          65,
          64,
          63,
          62,
          61,
          60,
          59,
          58,
          57,
          56,
          55,
          54,
          53,
          52,
          51,
          50,
          49,
          48,
          47,
          46,
          45,
          44,
          43,
          42,
          41,
          40,
          39,
          38,
          37,
          36,
          35,
          34,
          33,
          32,
          31,
          30,
          29,
          28,
          27,
          26,
          25,
          24,
          23,
          22,
          21,
          20,
          19,
          18,
          17,
          16,
          15,
          14,
          13,
          12,
          11,
          10,
          9,
          8,
          7,
          6,
          5,
          4,
          3,
          2,
          1,
          0
         ],
         "y": [
          0.36265961597441837,
          0.1997519773321335,
          0.1049813065971815,
          0.0639840545898802,
          0.056785605662561606,
          0.044639448248445,
          0.0394797899017279,
          0.0347982709289168,
          0.0318362516392482,
          0.0306298349088956,
          0.0293524822738066,
          0.0270497336457531,
          0.024975708084852,
          0.0243864125747994,
          0.0239548031883304,
          0.0234187741981755,
          0.0233845609264019,
          0.0233843711573811,
          0.0233613498717683,
          0.023362111666865498,
          0.023325221636693,
          0.0233249953042668,
          0.0233246858502499,
          0.0233246835697852,
          0.0233246114319556,
          0.023324611609113602,
          0.0233246119290832,
          0.0233246120897627,
          0.0233246122459835,
          0.0233246122459835,
          0.023324612382978,
          0.023324612382978,
          0.0233245892933244,
          0.0233245662114663,
          0.0233245662114663,
          0.0233245662114663,
          0.0233245662114663,
          0.0233245662114663,
          0.0233245662114663,
          0.0233245662114663,
          0.0233245662114663,
          0.0233245662114663,
          0.0233245662114663,
          0.0233245662114663,
          0.0233245662114663,
          0.0233245662114663,
          0.0233245662114663,
          0.0233245662114663,
          0.0233245662114663,
          0.0233245662114663,
          0.0233245662114663,
          0.0233245662114663,
          0.0233245662114663,
          0.0233245662114663,
          0.0233245663955251,
          0.023324566556133103,
          0.0233245666521422,
          0.0233245666521422,
          0.0233245666521422,
          0.0233245666521422,
          0.0233245666521422,
          0.0233245666521422,
          0.0233245666521422,
          0.023324566742697297,
          0.023324566742697297,
          0.023324566742697297,
          0.023324566742697297,
          0.023324566742697297,
          0.023324566742697297,
          0.023324566742697297,
          0.023324566742697297,
          0.023324566742697297,
          0.023324566742697297,
          0.023324566742697297,
          0.023324566742697297,
          0.023324566742697297,
          0.023324566742697297,
          0.023324566742697297,
          0.023324566742697297,
          0.023324566742697297,
          0.023324566742697297,
          0.023324566742697297,
          0.023324566742697297,
          0.023324566742697297,
          0.023324566742697297,
          0.023324566742697297,
          0.023324566742697297,
          0.023324566742697297,
          0.023324566742697297,
          0.023324566742697297,
          0.023324566742697297,
          0.023324566742697297,
          0.023324566742697297,
          0.023324566742697297,
          0.023324566742697297,
          0.023324566742697297,
          0.023324566742697297,
          0.023324566742697297,
          0.023324566742697297,
          0.023324566742697297,
          0.023324566742697297,
          0.023324566742697297,
          0.023324566742697297,
          0.023324566742697297,
          0.023324566742697297,
          0.023324566742697297,
          0.023324566742697297,
          0.023324566742697297,
          0.023324566742697297,
          0.023324566742697297,
          0.023324566742697297,
          0.023324566742697297,
          0.023324566742697297,
          0.023324566742697297,
          0.023324566742697297,
          0.023324566742697297,
          0.023324566742697297,
          0.023324566742697297,
          0.0233245667742582,
          0.0233245667742582,
          0.0233245667742582,
          0.0233245667742582,
          0.0233245667742582,
          0.0233245667742582,
          0.1795914995527948,
          0.04482349411860791,
          0.024095080458118895,
          0.0114917784179072,
          0.005272768877644999,
          0.0035171573453266006,
          0.001945784298653299,
          0.001136616481761197,
          0.00036604896935640147,
          -0.0002637757800093999,
          -0.00038850739557100104,
          -0.0003679080792763009,
          -0.0004896957755122014,
          -0.0007222464975858,
          -0.0007447399281713986,
          -0.0007891655123716985,
          -0.0009772913767131016,
          -0.0009774715168356998,
          -0.0009927921292884993,
          -0.0010299946164278994,
          -0.001212257803796999,
          -0.0012122756720730002,
          -0.0012122720048943006,
          -0.0012123610838318012,
          -0.0012124977619376014,
          -0.001212541166796999,
          -0.0012126194677737987,
          -0.0012126587429388998,
          -0.0012126968993544998,
          -0.0012126968993544998,
          -0.0012127303363316001,
          -0.0012127303363316001,
          -0.0012128531799065999,
          -0.0012129759944340991,
          -0.0012129759944340991,
          -0.0012129759944340991,
          -0.0012129759944340991,
          -0.0012129759944340991,
          -0.0012129759944340991,
          -0.0012129759944340991,
          -0.0012129759944340991,
          -0.0012129759944340991,
          -0.0012129759944340991,
          -0.0012129759944340991,
          -0.0012129759944340991,
          -0.0012129759944340991,
          -0.0012129759944340991,
          -0.0012129759944340991,
          -0.0012129759944340991,
          -0.0012129759944340991,
          -0.0012129759944340991,
          -0.0012129759944340991,
          -0.0012129759944340991,
          -0.0012129759944340991,
          -0.001213021009752499,
          -0.0012130602573014997,
          -0.0012130837044837996,
          -0.0012130837044837996,
          -0.0012130837044837996,
          -0.0012130837044837996,
          -0.0012130837044837996,
          -0.0012130837044837996,
          -0.0012130837044837996,
          -0.0012131058098870991,
          -0.0012131058098870991,
          -0.0012131058098870991,
          -0.0012131058098870991,
          -0.0012131058098870991,
          -0.0012131058098870991,
          -0.0012131058098870991,
          -0.0012131058098870991,
          -0.0012131058098870991,
          -0.0012131058098870991,
          -0.0012131058098870991,
          -0.0012131058098870991,
          -0.0012131058098870991,
          -0.0012131058098870991,
          -0.0012131058098870991,
          -0.0012131058098870991,
          -0.0012131058098870991,
          -0.0012131058098870991,
          -0.0012131058098870991,
          -0.0012131058098870991,
          -0.0012131058098870991,
          -0.0012131058098870991,
          -0.0012131058098870991,
          -0.0012131058098870991,
          -0.0012131058098870991,
          -0.0012131058098870991,
          -0.0012131058098870991,
          -0.0012131058098870991,
          -0.0012131058098870991,
          -0.0012131058098870991,
          -0.0012131058098870991,
          -0.0012131058098870991,
          -0.0012131058098870991,
          -0.0012131058098870991,
          -0.0012131058098870991,
          -0.0012131058098870991,
          -0.0012131058098870991,
          -0.0012131058098870991,
          -0.0012131058098870991,
          -0.0012131058098870991,
          -0.0012131058098870991,
          -0.0012131058098870991,
          -0.0012131058098870991,
          -0.0012131058098870991,
          -0.0012131058098870991,
          -0.0012131058098870991,
          -0.0012131058098870991,
          -0.0012131058098870991,
          -0.0012131058098870991,
          -0.0012131058098870991,
          -0.0012131058098870991,
          -0.0012131058098870991,
          -0.0012131058098870991,
          -0.0012131058098870991,
          -0.0012131058098870991,
          -0.0012131135119606007,
          -0.0012131135119606007,
          -0.0012131135119606007,
          -0.0012131135119606007,
          -0.0012131135119606007,
          -0.0012131135119606007
         ]
        }
       ],
       "layout": {
        "template": {
         "data": {
          "bar": [
           {
            "error_x": {
             "color": "#2a3f5f"
            },
            "error_y": {
             "color": "#2a3f5f"
            },
            "marker": {
             "line": {
              "color": "white",
              "width": 0.5
             },
             "pattern": {
              "fillmode": "overlay",
              "size": 10,
              "solidity": 0.2
             }
            },
            "type": "bar"
           }
          ],
          "barpolar": [
           {
            "marker": {
             "line": {
              "color": "white",
              "width": 0.5
             },
             "pattern": {
              "fillmode": "overlay",
              "size": 10,
              "solidity": 0.2
             }
            },
            "type": "barpolar"
           }
          ],
          "carpet": [
           {
            "aaxis": {
             "endlinecolor": "#2a3f5f",
             "gridcolor": "#C8D4E3",
             "linecolor": "#C8D4E3",
             "minorgridcolor": "#C8D4E3",
             "startlinecolor": "#2a3f5f"
            },
            "baxis": {
             "endlinecolor": "#2a3f5f",
             "gridcolor": "#C8D4E3",
             "linecolor": "#C8D4E3",
             "minorgridcolor": "#C8D4E3",
             "startlinecolor": "#2a3f5f"
            },
            "type": "carpet"
           }
          ],
          "choropleth": [
           {
            "colorbar": {
             "outlinewidth": 0,
             "ticks": ""
            },
            "type": "choropleth"
           }
          ],
          "contour": [
           {
            "colorbar": {
             "outlinewidth": 0,
             "ticks": ""
            },
            "colorscale": [
             [
              0,
              "#0d0887"
             ],
             [
              0.1111111111111111,
              "#46039f"
             ],
             [
              0.2222222222222222,
              "#7201a8"
             ],
             [
              0.3333333333333333,
              "#9c179e"
             ],
             [
              0.4444444444444444,
              "#bd3786"
             ],
             [
              0.5555555555555556,
              "#d8576b"
             ],
             [
              0.6666666666666666,
              "#ed7953"
             ],
             [
              0.7777777777777778,
              "#fb9f3a"
             ],
             [
              0.8888888888888888,
              "#fdca26"
             ],
             [
              1,
              "#f0f921"
             ]
            ],
            "type": "contour"
           }
          ],
          "contourcarpet": [
           {
            "colorbar": {
             "outlinewidth": 0,
             "ticks": ""
            },
            "type": "contourcarpet"
           }
          ],
          "heatmap": [
           {
            "colorbar": {
             "outlinewidth": 0,
             "ticks": ""
            },
            "colorscale": [
             [
              0,
              "#0d0887"
             ],
             [
              0.1111111111111111,
              "#46039f"
             ],
             [
              0.2222222222222222,
              "#7201a8"
             ],
             [
              0.3333333333333333,
              "#9c179e"
             ],
             [
              0.4444444444444444,
              "#bd3786"
             ],
             [
              0.5555555555555556,
              "#d8576b"
             ],
             [
              0.6666666666666666,
              "#ed7953"
             ],
             [
              0.7777777777777778,
              "#fb9f3a"
             ],
             [
              0.8888888888888888,
              "#fdca26"
             ],
             [
              1,
              "#f0f921"
             ]
            ],
            "type": "heatmap"
           }
          ],
          "heatmapgl": [
           {
            "colorbar": {
             "outlinewidth": 0,
             "ticks": ""
            },
            "colorscale": [
             [
              0,
              "#0d0887"
             ],
             [
              0.1111111111111111,
              "#46039f"
             ],
             [
              0.2222222222222222,
              "#7201a8"
             ],
             [
              0.3333333333333333,
              "#9c179e"
             ],
             [
              0.4444444444444444,
              "#bd3786"
             ],
             [
              0.5555555555555556,
              "#d8576b"
             ],
             [
              0.6666666666666666,
              "#ed7953"
             ],
             [
              0.7777777777777778,
              "#fb9f3a"
             ],
             [
              0.8888888888888888,
              "#fdca26"
             ],
             [
              1,
              "#f0f921"
             ]
            ],
            "type": "heatmapgl"
           }
          ],
          "histogram": [
           {
            "marker": {
             "pattern": {
              "fillmode": "overlay",
              "size": 10,
              "solidity": 0.2
             }
            },
            "type": "histogram"
           }
          ],
          "histogram2d": [
           {
            "colorbar": {
             "outlinewidth": 0,
             "ticks": ""
            },
            "colorscale": [
             [
              0,
              "#0d0887"
             ],
             [
              0.1111111111111111,
              "#46039f"
             ],
             [
              0.2222222222222222,
              "#7201a8"
             ],
             [
              0.3333333333333333,
              "#9c179e"
             ],
             [
              0.4444444444444444,
              "#bd3786"
             ],
             [
              0.5555555555555556,
              "#d8576b"
             ],
             [
              0.6666666666666666,
              "#ed7953"
             ],
             [
              0.7777777777777778,
              "#fb9f3a"
             ],
             [
              0.8888888888888888,
              "#fdca26"
             ],
             [
              1,
              "#f0f921"
             ]
            ],
            "type": "histogram2d"
           }
          ],
          "histogram2dcontour": [
           {
            "colorbar": {
             "outlinewidth": 0,
             "ticks": ""
            },
            "colorscale": [
             [
              0,
              "#0d0887"
             ],
             [
              0.1111111111111111,
              "#46039f"
             ],
             [
              0.2222222222222222,
              "#7201a8"
             ],
             [
              0.3333333333333333,
              "#9c179e"
             ],
             [
              0.4444444444444444,
              "#bd3786"
             ],
             [
              0.5555555555555556,
              "#d8576b"
             ],
             [
              0.6666666666666666,
              "#ed7953"
             ],
             [
              0.7777777777777778,
              "#fb9f3a"
             ],
             [
              0.8888888888888888,
              "#fdca26"
             ],
             [
              1,
              "#f0f921"
             ]
            ],
            "type": "histogram2dcontour"
           }
          ],
          "mesh3d": [
           {
            "colorbar": {
             "outlinewidth": 0,
             "ticks": ""
            },
            "type": "mesh3d"
           }
          ],
          "parcoords": [
           {
            "line": {
             "colorbar": {
              "outlinewidth": 0,
              "ticks": ""
             }
            },
            "type": "parcoords"
           }
          ],
          "pie": [
           {
            "automargin": true,
            "type": "pie"
           }
          ],
          "scatter": [
           {
            "fillpattern": {
             "fillmode": "overlay",
             "size": 10,
             "solidity": 0.2
            },
            "type": "scatter"
           }
          ],
          "scatter3d": [
           {
            "line": {
             "colorbar": {
              "outlinewidth": 0,
              "ticks": ""
             }
            },
            "marker": {
             "colorbar": {
              "outlinewidth": 0,
              "ticks": ""
             }
            },
            "type": "scatter3d"
           }
          ],
          "scattercarpet": [
           {
            "marker": {
             "colorbar": {
              "outlinewidth": 0,
              "ticks": ""
             }
            },
            "type": "scattercarpet"
           }
          ],
          "scattergeo": [
           {
            "marker": {
             "colorbar": {
              "outlinewidth": 0,
              "ticks": ""
             }
            },
            "type": "scattergeo"
           }
          ],
          "scattergl": [
           {
            "marker": {
             "colorbar": {
              "outlinewidth": 0,
              "ticks": ""
             }
            },
            "type": "scattergl"
           }
          ],
          "scattermapbox": [
           {
            "marker": {
             "colorbar": {
              "outlinewidth": 0,
              "ticks": ""
             }
            },
            "type": "scattermapbox"
           }
          ],
          "scatterpolar": [
           {
            "marker": {
             "colorbar": {
              "outlinewidth": 0,
              "ticks": ""
             }
            },
            "type": "scatterpolar"
           }
          ],
          "scatterpolargl": [
           {
            "marker": {
             "colorbar": {
              "outlinewidth": 0,
              "ticks": ""
             }
            },
            "type": "scatterpolargl"
           }
          ],
          "scatterternary": [
           {
            "marker": {
             "colorbar": {
              "outlinewidth": 0,
              "ticks": ""
             }
            },
            "type": "scatterternary"
           }
          ],
          "surface": [
           {
            "colorbar": {
             "outlinewidth": 0,
             "ticks": ""
            },
            "colorscale": [
             [
              0,
              "#0d0887"
             ],
             [
              0.1111111111111111,
              "#46039f"
             ],
             [
              0.2222222222222222,
              "#7201a8"
             ],
             [
              0.3333333333333333,
              "#9c179e"
             ],
             [
              0.4444444444444444,
              "#bd3786"
             ],
             [
              0.5555555555555556,
              "#d8576b"
             ],
             [
              0.6666666666666666,
              "#ed7953"
             ],
             [
              0.7777777777777778,
              "#fb9f3a"
             ],
             [
              0.8888888888888888,
              "#fdca26"
             ],
             [
              1,
              "#f0f921"
             ]
            ],
            "type": "surface"
           }
          ],
          "table": [
           {
            "cells": {
             "fill": {
              "color": "#EBF0F8"
             },
             "line": {
              "color": "white"
             }
            },
            "header": {
             "fill": {
              "color": "#C8D4E3"
             },
             "line": {
              "color": "white"
             }
            },
            "type": "table"
           }
          ]
         },
         "layout": {
          "annotationdefaults": {
           "arrowcolor": "#2a3f5f",
           "arrowhead": 0,
           "arrowwidth": 1
          },
          "autotypenumbers": "strict",
          "coloraxis": {
           "colorbar": {
            "outlinewidth": 0,
            "ticks": ""
           }
          },
          "colorscale": {
           "diverging": [
            [
             0,
             "#8e0152"
            ],
            [
             0.1,
             "#c51b7d"
            ],
            [
             0.2,
             "#de77ae"
            ],
            [
             0.3,
             "#f1b6da"
            ],
            [
             0.4,
             "#fde0ef"
            ],
            [
             0.5,
             "#f7f7f7"
            ],
            [
             0.6,
             "#e6f5d0"
            ],
            [
             0.7,
             "#b8e186"
            ],
            [
             0.8,
             "#7fbc41"
            ],
            [
             0.9,
             "#4d9221"
            ],
            [
             1,
             "#276419"
            ]
           ],
           "sequential": [
            [
             0,
             "#0d0887"
            ],
            [
             0.1111111111111111,
             "#46039f"
            ],
            [
             0.2222222222222222,
             "#7201a8"
            ],
            [
             0.3333333333333333,
             "#9c179e"
            ],
            [
             0.4444444444444444,
             "#bd3786"
            ],
            [
             0.5555555555555556,
             "#d8576b"
            ],
            [
             0.6666666666666666,
             "#ed7953"
            ],
            [
             0.7777777777777778,
             "#fb9f3a"
            ],
            [
             0.8888888888888888,
             "#fdca26"
            ],
            [
             1,
             "#f0f921"
            ]
           ],
           "sequentialminus": [
            [
             0,
             "#0d0887"
            ],
            [
             0.1111111111111111,
             "#46039f"
            ],
            [
             0.2222222222222222,
             "#7201a8"
            ],
            [
             0.3333333333333333,
             "#9c179e"
            ],
            [
             0.4444444444444444,
             "#bd3786"
            ],
            [
             0.5555555555555556,
             "#d8576b"
            ],
            [
             0.6666666666666666,
             "#ed7953"
            ],
            [
             0.7777777777777778,
             "#fb9f3a"
            ],
            [
             0.8888888888888888,
             "#fdca26"
            ],
            [
             1,
             "#f0f921"
            ]
           ]
          },
          "colorway": [
           "#636efa",
           "#EF553B",
           "#00cc96",
           "#ab63fa",
           "#FFA15A",
           "#19d3f3",
           "#FF6692",
           "#B6E880",
           "#FF97FF",
           "#FECB52"
          ],
          "font": {
           "color": "#2a3f5f"
          },
          "geo": {
           "bgcolor": "white",
           "lakecolor": "white",
           "landcolor": "white",
           "showlakes": true,
           "showland": true,
           "subunitcolor": "#C8D4E3"
          },
          "hoverlabel": {
           "align": "left"
          },
          "hovermode": "closest",
          "mapbox": {
           "style": "light"
          },
          "paper_bgcolor": "white",
          "plot_bgcolor": "white",
          "polar": {
           "angularaxis": {
            "gridcolor": "#EBF0F8",
            "linecolor": "#EBF0F8",
            "ticks": ""
           },
           "bgcolor": "white",
           "radialaxis": {
            "gridcolor": "#EBF0F8",
            "linecolor": "#EBF0F8",
            "ticks": ""
           }
          },
          "scene": {
           "xaxis": {
            "backgroundcolor": "white",
            "gridcolor": "#DFE8F3",
            "gridwidth": 2,
            "linecolor": "#EBF0F8",
            "showbackground": true,
            "ticks": "",
            "zerolinecolor": "#EBF0F8"
           },
           "yaxis": {
            "backgroundcolor": "white",
            "gridcolor": "#DFE8F3",
            "gridwidth": 2,
            "linecolor": "#EBF0F8",
            "showbackground": true,
            "ticks": "",
            "zerolinecolor": "#EBF0F8"
           },
           "zaxis": {
            "backgroundcolor": "white",
            "gridcolor": "#DFE8F3",
            "gridwidth": 2,
            "linecolor": "#EBF0F8",
            "showbackground": true,
            "ticks": "",
            "zerolinecolor": "#EBF0F8"
           }
          },
          "shapedefaults": {
           "line": {
            "color": "#2a3f5f"
           }
          },
          "ternary": {
           "aaxis": {
            "gridcolor": "#DFE8F3",
            "linecolor": "#A2B1C6",
            "ticks": ""
           },
           "baxis": {
            "gridcolor": "#DFE8F3",
            "linecolor": "#A2B1C6",
            "ticks": ""
           },
           "bgcolor": "white",
           "caxis": {
            "gridcolor": "#DFE8F3",
            "linecolor": "#A2B1C6",
            "ticks": ""
           }
          },
          "title": {
           "x": 0.05
          },
          "xaxis": {
           "automargin": true,
           "gridcolor": "#EBF0F8",
           "linecolor": "#EBF0F8",
           "ticks": "",
           "title": {
            "standoff": 15
           },
           "zerolinecolor": "#EBF0F8",
           "zerolinewidth": 2
          },
          "yaxis": {
           "automargin": true,
           "gridcolor": "#EBF0F8",
           "linecolor": "#EBF0F8",
           "ticks": "",
           "title": {
            "standoff": 15
           },
           "zerolinecolor": "#EBF0F8",
           "zerolinewidth": 2
          }
         }
        },
        "title": {
         "text": "Cross-Validation (N=5) Mean Logloss with Error Bands"
        },
        "xaxis": {
         "title": {
          "text": "Training Steps"
         }
        },
        "yaxis": {
         "title": {
          "text": "Logloss"
         }
        }
       }
      },
      "text/html": [
       "<div>                            <div id=\"f9c3bfe6-6590-4cfe-8c8d-57e1a0dd83a0\" class=\"plotly-graph-div\" style=\"height:525px; width:100%;\"></div>            <script type=\"text/javascript\">                require([\"plotly\"], function(Plotly) {                    window.PLOTLYENV=window.PLOTLYENV || {};                                    if (document.getElementById(\"f9c3bfe6-6590-4cfe-8c8d-57e1a0dd83a0\")) {                    Plotly.newPlot(                        \"f9c3bfe6-6590-4cfe-8c8d-57e1a0dd83a0\",                        [{\"line\":{\"color\":\"blue\"},\"mode\":\"lines\",\"name\":\"Mean logloss\",\"x\":[0,1,2,3,4,5,6,7,8,9,10,11,12,13,14,15,16,17,18,19,20,21,22,23,24,25,26,27,28,29,30,31,32,33,34,35,36,37,38,39,40,41,42,43,44,45,46,47,48,49,50,51,52,53,54,55,56,57,58,59,60,61,62,63,64,65,66,67,68,69,70,71,72,73,74,75,76,77,78,79,80,81,82,83,84,85,86,87,88,89,90,91,92,93,94,95,96,97,98,99,100,101,102,103,104,105,106,107,108,109,110,111,112,113,114,115,116,117,118,119,120,121,122,123],\"y\":[0.2711255577636066,0.1222877357253707,0.0645381935276502,0.0377379165038937,0.0310291872701033,0.0240783027968858,0.0207127871001906,0.017967443705339,0.0161011503043023,0.0151830295644431,0.0144819874391178,0.0133409127832384,0.0122430061546699,0.0118320830386068,0.0116050316300795,0.0113148043429019,0.0112036347748444,0.0112034498202727,0.0111842788712399,0.0111660585252188,0.011056481916448,0.0110563598160969,0.0110562069226778,0.0110561612429767,0.011056056835009,0.0110560352211583,0.0110559962306547,0.0110559766734119,0.0110559576733145,0.0110559576733145,0.0110559410233232,0.0110559410233232,0.0110558680567089,0.0110557951085161,0.0110557951085161,0.0110557951085161,0.0110557951085161,0.0110557951085161,0.0110557951085161,0.0110557951085161,0.0110557951085161,0.0110557951085161,0.0110557951085161,0.0110557951085161,0.0110557951085161,0.0110557951085161,0.0110557951085161,0.0110557951085161,0.0110557951085161,0.0110557951085161,0.0110557951085161,0.0110557951085161,0.0110557951085161,0.0110557951085161,0.0110557726928863,0.0110557531494158,0.0110557414738292,0.0110557414738292,0.0110557414738292,0.0110557414738292,0.0110557414738292,0.0110557414738292,0.0110557414738292,0.0110557304664051,0.0110557304664051,0.0110557304664051,0.0110557304664051,0.0110557304664051,0.0110557304664051,0.0110557304664051,0.0110557304664051,0.0110557304664051,0.0110557304664051,0.0110557304664051,0.0110557304664051,0.0110557304664051,0.0110557304664051,0.0110557304664051,0.0110557304664051,0.0110557304664051,0.0110557304664051,0.0110557304664051,0.0110557304664051,0.0110557304664051,0.0110557304664051,0.0110557304664051,0.0110557304664051,0.0110557304664051,0.0110557304664051,0.0110557304664051,0.0110557304664051,0.0110557304664051,0.0110557304664051,0.0110557304664051,0.0110557304664051,0.0110557304664051,0.0110557304664051,0.0110557304664051,0.0110557304664051,0.0110557304664051,0.0110557304664051,0.0110557304664051,0.0110557304664051,0.0110557304664051,0.0110557304664051,0.0110557304664051,0.0110557304664051,0.0110557304664051,0.0110557304664051,0.0110557304664051,0.0110557304664051,0.0110557304664051,0.0110557304664051,0.0110557304664051,0.0110557304664051,0.0110557304664051,0.0110557304664051,0.0110557304664051,0.0110557266311488,0.0110557266311488,0.0110557266311488,0.0110557266311488,0.0110557266311488,0.0110557266311488],\"type\":\"scatter\"},{\"fill\":\"toself\",\"fillcolor\":\"rgba(0, 0, 255, 0.2)\",\"line\":{\"color\":\"rgba(255, 255, 255, 0)\"},\"showlegend\":false,\"x\":[0.2711255577636066,0.1222877357253707,0.0645381935276502,0.0377379165038937,0.0310291872701033,0.0240783027968858,0.0207127871001906,0.017967443705339,0.0161011503043023,0.0151830295644431,0.0144819874391178,0.0133409127832384,0.0122430061546699,0.0118320830386068,0.0116050316300795,0.0113148043429019,0.0112036347748444,0.0112034498202727,0.0111842788712399,0.0111660585252188,0.011056481916448,0.0110563598160969,0.0110562069226778,0.0110561612429767,0.011056056835009,0.0110560352211583,0.0110559962306547,0.0110559766734119,0.0110559576733145,0.0110559576733145,0.0110559410233232,0.0110559410233232,0.0110558680567089,0.0110557951085161,0.0110557951085161,0.0110557951085161,0.0110557951085161,0.0110557951085161,0.0110557951085161,0.0110557951085161,0.0110557951085161,0.0110557951085161,0.0110557951085161,0.0110557951085161,0.0110557951085161,0.0110557951085161,0.0110557951085161,0.0110557951085161,0.0110557951085161,0.0110557951085161,0.0110557951085161,0.0110557951085161,0.0110557951085161,0.0110557951085161,0.0110557726928863,0.0110557531494158,0.0110557414738292,0.0110557414738292,0.0110557414738292,0.0110557414738292,0.0110557414738292,0.0110557414738292,0.0110557414738292,0.0110557304664051,0.0110557304664051,0.0110557304664051,0.0110557304664051,0.0110557304664051,0.0110557304664051,0.0110557304664051,0.0110557304664051,0.0110557304664051,0.0110557304664051,0.0110557304664051,0.0110557304664051,0.0110557304664051,0.0110557304664051,0.0110557304664051,0.0110557304664051,0.0110557304664051,0.0110557304664051,0.0110557304664051,0.0110557304664051,0.0110557304664051,0.0110557304664051,0.0110557304664051,0.0110557304664051,0.0110557304664051,0.0110557304664051,0.0110557304664051,0.0110557304664051,0.0110557304664051,0.0110557304664051,0.0110557304664051,0.0110557304664051,0.0110557304664051,0.0110557304664051,0.0110557304664051,0.0110557304664051,0.0110557304664051,0.0110557304664051,0.0110557304664051,0.0110557304664051,0.0110557304664051,0.0110557304664051,0.0110557304664051,0.0110557304664051,0.0110557304664051,0.0110557304664051,0.0110557304664051,0.0110557304664051,0.0110557304664051,0.0110557304664051,0.0110557304664051,0.0110557304664051,0.0110557304664051,0.0110557304664051,0.0110557304664051,0.0110557266311488,0.0110557266311488,0.0110557266311488,0.0110557266311488,0.0110557266311488,0.0110557266311488,123.0,122.0,121.0,120.0,119.0,118.0,117.0,116.0,115.0,114.0,113.0,112.0,111.0,110.0,109.0,108.0,107.0,106.0,105.0,104.0,103.0,102.0,101.0,100.0,99.0,98.0,97.0,96.0,95.0,94.0,93.0,92.0,91.0,90.0,89.0,88.0,87.0,86.0,85.0,84.0,83.0,82.0,81.0,80.0,79.0,78.0,77.0,76.0,75.0,74.0,73.0,72.0,71.0,70.0,69.0,68.0,67.0,66.0,65.0,64.0,63.0,62.0,61.0,60.0,59.0,58.0,57.0,56.0,55.0,54.0,53.0,52.0,51.0,50.0,49.0,48.0,47.0,46.0,45.0,44.0,43.0,42.0,41.0,40.0,39.0,38.0,37.0,36.0,35.0,34.0,33.0,32.0,31.0,30.0,29.0,28.0,27.0,26.0,25.0,24.0,23.0,22.0,21.0,20.0,19.0,18.0,17.0,16.0,15.0,14.0,13.0,12.0,11.0,10.0,9.0,8.0,7.0,6.0,5.0,4.0,3.0,2.0,1.0,0.0],\"y\":[0.36265961597441837,0.1997519773321335,0.1049813065971815,0.0639840545898802,0.056785605662561606,0.044639448248445,0.0394797899017279,0.0347982709289168,0.0318362516392482,0.0306298349088956,0.0293524822738066,0.0270497336457531,0.024975708084852,0.0243864125747994,0.0239548031883304,0.0234187741981755,0.0233845609264019,0.0233843711573811,0.0233613498717683,0.023362111666865498,0.023325221636693,0.0233249953042668,0.0233246858502499,0.0233246835697852,0.0233246114319556,0.023324611609113602,0.0233246119290832,0.0233246120897627,0.0233246122459835,0.0233246122459835,0.023324612382978,0.023324612382978,0.0233245892933244,0.0233245662114663,0.0233245662114663,0.0233245662114663,0.0233245662114663,0.0233245662114663,0.0233245662114663,0.0233245662114663,0.0233245662114663,0.0233245662114663,0.0233245662114663,0.0233245662114663,0.0233245662114663,0.0233245662114663,0.0233245662114663,0.0233245662114663,0.0233245662114663,0.0233245662114663,0.0233245662114663,0.0233245662114663,0.0233245662114663,0.0233245662114663,0.0233245663955251,0.023324566556133103,0.0233245666521422,0.0233245666521422,0.0233245666521422,0.0233245666521422,0.0233245666521422,0.0233245666521422,0.0233245666521422,0.023324566742697297,0.023324566742697297,0.023324566742697297,0.023324566742697297,0.023324566742697297,0.023324566742697297,0.023324566742697297,0.023324566742697297,0.023324566742697297,0.023324566742697297,0.023324566742697297,0.023324566742697297,0.023324566742697297,0.023324566742697297,0.023324566742697297,0.023324566742697297,0.023324566742697297,0.023324566742697297,0.023324566742697297,0.023324566742697297,0.023324566742697297,0.023324566742697297,0.023324566742697297,0.023324566742697297,0.023324566742697297,0.023324566742697297,0.023324566742697297,0.023324566742697297,0.023324566742697297,0.023324566742697297,0.023324566742697297,0.023324566742697297,0.023324566742697297,0.023324566742697297,0.023324566742697297,0.023324566742697297,0.023324566742697297,0.023324566742697297,0.023324566742697297,0.023324566742697297,0.023324566742697297,0.023324566742697297,0.023324566742697297,0.023324566742697297,0.023324566742697297,0.023324566742697297,0.023324566742697297,0.023324566742697297,0.023324566742697297,0.023324566742697297,0.023324566742697297,0.023324566742697297,0.023324566742697297,0.023324566742697297,0.023324566742697297,0.0233245667742582,0.0233245667742582,0.0233245667742582,0.0233245667742582,0.0233245667742582,0.0233245667742582,0.1795914995527948,0.04482349411860791,0.024095080458118895,0.0114917784179072,0.005272768877644999,0.0035171573453266006,0.001945784298653299,0.001136616481761197,0.00036604896935640147,-0.0002637757800093999,-0.00038850739557100104,-0.0003679080792763009,-0.0004896957755122014,-0.0007222464975858,-0.0007447399281713986,-0.0007891655123716985,-0.0009772913767131016,-0.0009774715168356998,-0.0009927921292884993,-0.0010299946164278994,-0.001212257803796999,-0.0012122756720730002,-0.0012122720048943006,-0.0012123610838318012,-0.0012124977619376014,-0.001212541166796999,-0.0012126194677737987,-0.0012126587429388998,-0.0012126968993544998,-0.0012126968993544998,-0.0012127303363316001,-0.0012127303363316001,-0.0012128531799065999,-0.0012129759944340991,-0.0012129759944340991,-0.0012129759944340991,-0.0012129759944340991,-0.0012129759944340991,-0.0012129759944340991,-0.0012129759944340991,-0.0012129759944340991,-0.0012129759944340991,-0.0012129759944340991,-0.0012129759944340991,-0.0012129759944340991,-0.0012129759944340991,-0.0012129759944340991,-0.0012129759944340991,-0.0012129759944340991,-0.0012129759944340991,-0.0012129759944340991,-0.0012129759944340991,-0.0012129759944340991,-0.0012129759944340991,-0.001213021009752499,-0.0012130602573014997,-0.0012130837044837996,-0.0012130837044837996,-0.0012130837044837996,-0.0012130837044837996,-0.0012130837044837996,-0.0012130837044837996,-0.0012130837044837996,-0.0012131058098870991,-0.0012131058098870991,-0.0012131058098870991,-0.0012131058098870991,-0.0012131058098870991,-0.0012131058098870991,-0.0012131058098870991,-0.0012131058098870991,-0.0012131058098870991,-0.0012131058098870991,-0.0012131058098870991,-0.0012131058098870991,-0.0012131058098870991,-0.0012131058098870991,-0.0012131058098870991,-0.0012131058098870991,-0.0012131058098870991,-0.0012131058098870991,-0.0012131058098870991,-0.0012131058098870991,-0.0012131058098870991,-0.0012131058098870991,-0.0012131058098870991,-0.0012131058098870991,-0.0012131058098870991,-0.0012131058098870991,-0.0012131058098870991,-0.0012131058098870991,-0.0012131058098870991,-0.0012131058098870991,-0.0012131058098870991,-0.0012131058098870991,-0.0012131058098870991,-0.0012131058098870991,-0.0012131058098870991,-0.0012131058098870991,-0.0012131058098870991,-0.0012131058098870991,-0.0012131058098870991,-0.0012131058098870991,-0.0012131058098870991,-0.0012131058098870991,-0.0012131058098870991,-0.0012131058098870991,-0.0012131058098870991,-0.0012131058098870991,-0.0012131058098870991,-0.0012131058098870991,-0.0012131058098870991,-0.0012131058098870991,-0.0012131058098870991,-0.0012131058098870991,-0.0012131058098870991,-0.0012131058098870991,-0.0012131058098870991,-0.0012131135119606007,-0.0012131135119606007,-0.0012131135119606007,-0.0012131135119606007,-0.0012131135119606007,-0.0012131135119606007],\"type\":\"scatter\"}],                        {\"template\":{\"data\":{\"barpolar\":[{\"marker\":{\"line\":{\"color\":\"white\",\"width\":0.5},\"pattern\":{\"fillmode\":\"overlay\",\"size\":10,\"solidity\":0.2}},\"type\":\"barpolar\"}],\"bar\":[{\"error_x\":{\"color\":\"#2a3f5f\"},\"error_y\":{\"color\":\"#2a3f5f\"},\"marker\":{\"line\":{\"color\":\"white\",\"width\":0.5},\"pattern\":{\"fillmode\":\"overlay\",\"size\":10,\"solidity\":0.2}},\"type\":\"bar\"}],\"carpet\":[{\"aaxis\":{\"endlinecolor\":\"#2a3f5f\",\"gridcolor\":\"#C8D4E3\",\"linecolor\":\"#C8D4E3\",\"minorgridcolor\":\"#C8D4E3\",\"startlinecolor\":\"#2a3f5f\"},\"baxis\":{\"endlinecolor\":\"#2a3f5f\",\"gridcolor\":\"#C8D4E3\",\"linecolor\":\"#C8D4E3\",\"minorgridcolor\":\"#C8D4E3\",\"startlinecolor\":\"#2a3f5f\"},\"type\":\"carpet\"}],\"choropleth\":[{\"colorbar\":{\"outlinewidth\":0,\"ticks\":\"\"},\"type\":\"choropleth\"}],\"contourcarpet\":[{\"colorbar\":{\"outlinewidth\":0,\"ticks\":\"\"},\"type\":\"contourcarpet\"}],\"contour\":[{\"colorbar\":{\"outlinewidth\":0,\"ticks\":\"\"},\"colorscale\":[[0.0,\"#0d0887\"],[0.1111111111111111,\"#46039f\"],[0.2222222222222222,\"#7201a8\"],[0.3333333333333333,\"#9c179e\"],[0.4444444444444444,\"#bd3786\"],[0.5555555555555556,\"#d8576b\"],[0.6666666666666666,\"#ed7953\"],[0.7777777777777778,\"#fb9f3a\"],[0.8888888888888888,\"#fdca26\"],[1.0,\"#f0f921\"]],\"type\":\"contour\"}],\"heatmapgl\":[{\"colorbar\":{\"outlinewidth\":0,\"ticks\":\"\"},\"colorscale\":[[0.0,\"#0d0887\"],[0.1111111111111111,\"#46039f\"],[0.2222222222222222,\"#7201a8\"],[0.3333333333333333,\"#9c179e\"],[0.4444444444444444,\"#bd3786\"],[0.5555555555555556,\"#d8576b\"],[0.6666666666666666,\"#ed7953\"],[0.7777777777777778,\"#fb9f3a\"],[0.8888888888888888,\"#fdca26\"],[1.0,\"#f0f921\"]],\"type\":\"heatmapgl\"}],\"heatmap\":[{\"colorbar\":{\"outlinewidth\":0,\"ticks\":\"\"},\"colorscale\":[[0.0,\"#0d0887\"],[0.1111111111111111,\"#46039f\"],[0.2222222222222222,\"#7201a8\"],[0.3333333333333333,\"#9c179e\"],[0.4444444444444444,\"#bd3786\"],[0.5555555555555556,\"#d8576b\"],[0.6666666666666666,\"#ed7953\"],[0.7777777777777778,\"#fb9f3a\"],[0.8888888888888888,\"#fdca26\"],[1.0,\"#f0f921\"]],\"type\":\"heatmap\"}],\"histogram2dcontour\":[{\"colorbar\":{\"outlinewidth\":0,\"ticks\":\"\"},\"colorscale\":[[0.0,\"#0d0887\"],[0.1111111111111111,\"#46039f\"],[0.2222222222222222,\"#7201a8\"],[0.3333333333333333,\"#9c179e\"],[0.4444444444444444,\"#bd3786\"],[0.5555555555555556,\"#d8576b\"],[0.6666666666666666,\"#ed7953\"],[0.7777777777777778,\"#fb9f3a\"],[0.8888888888888888,\"#fdca26\"],[1.0,\"#f0f921\"]],\"type\":\"histogram2dcontour\"}],\"histogram2d\":[{\"colorbar\":{\"outlinewidth\":0,\"ticks\":\"\"},\"colorscale\":[[0.0,\"#0d0887\"],[0.1111111111111111,\"#46039f\"],[0.2222222222222222,\"#7201a8\"],[0.3333333333333333,\"#9c179e\"],[0.4444444444444444,\"#bd3786\"],[0.5555555555555556,\"#d8576b\"],[0.6666666666666666,\"#ed7953\"],[0.7777777777777778,\"#fb9f3a\"],[0.8888888888888888,\"#fdca26\"],[1.0,\"#f0f921\"]],\"type\":\"histogram2d\"}],\"histogram\":[{\"marker\":{\"pattern\":{\"fillmode\":\"overlay\",\"size\":10,\"solidity\":0.2}},\"type\":\"histogram\"}],\"mesh3d\":[{\"colorbar\":{\"outlinewidth\":0,\"ticks\":\"\"},\"type\":\"mesh3d\"}],\"parcoords\":[{\"line\":{\"colorbar\":{\"outlinewidth\":0,\"ticks\":\"\"}},\"type\":\"parcoords\"}],\"pie\":[{\"automargin\":true,\"type\":\"pie\"}],\"scatter3d\":[{\"line\":{\"colorbar\":{\"outlinewidth\":0,\"ticks\":\"\"}},\"marker\":{\"colorbar\":{\"outlinewidth\":0,\"ticks\":\"\"}},\"type\":\"scatter3d\"}],\"scattercarpet\":[{\"marker\":{\"colorbar\":{\"outlinewidth\":0,\"ticks\":\"\"}},\"type\":\"scattercarpet\"}],\"scattergeo\":[{\"marker\":{\"colorbar\":{\"outlinewidth\":0,\"ticks\":\"\"}},\"type\":\"scattergeo\"}],\"scattergl\":[{\"marker\":{\"colorbar\":{\"outlinewidth\":0,\"ticks\":\"\"}},\"type\":\"scattergl\"}],\"scattermapbox\":[{\"marker\":{\"colorbar\":{\"outlinewidth\":0,\"ticks\":\"\"}},\"type\":\"scattermapbox\"}],\"scatterpolargl\":[{\"marker\":{\"colorbar\":{\"outlinewidth\":0,\"ticks\":\"\"}},\"type\":\"scatterpolargl\"}],\"scatterpolar\":[{\"marker\":{\"colorbar\":{\"outlinewidth\":0,\"ticks\":\"\"}},\"type\":\"scatterpolar\"}],\"scatter\":[{\"fillpattern\":{\"fillmode\":\"overlay\",\"size\":10,\"solidity\":0.2},\"type\":\"scatter\"}],\"scatterternary\":[{\"marker\":{\"colorbar\":{\"outlinewidth\":0,\"ticks\":\"\"}},\"type\":\"scatterternary\"}],\"surface\":[{\"colorbar\":{\"outlinewidth\":0,\"ticks\":\"\"},\"colorscale\":[[0.0,\"#0d0887\"],[0.1111111111111111,\"#46039f\"],[0.2222222222222222,\"#7201a8\"],[0.3333333333333333,\"#9c179e\"],[0.4444444444444444,\"#bd3786\"],[0.5555555555555556,\"#d8576b\"],[0.6666666666666666,\"#ed7953\"],[0.7777777777777778,\"#fb9f3a\"],[0.8888888888888888,\"#fdca26\"],[1.0,\"#f0f921\"]],\"type\":\"surface\"}],\"table\":[{\"cells\":{\"fill\":{\"color\":\"#EBF0F8\"},\"line\":{\"color\":\"white\"}},\"header\":{\"fill\":{\"color\":\"#C8D4E3\"},\"line\":{\"color\":\"white\"}},\"type\":\"table\"}]},\"layout\":{\"annotationdefaults\":{\"arrowcolor\":\"#2a3f5f\",\"arrowhead\":0,\"arrowwidth\":1},\"autotypenumbers\":\"strict\",\"coloraxis\":{\"colorbar\":{\"outlinewidth\":0,\"ticks\":\"\"}},\"colorscale\":{\"diverging\":[[0,\"#8e0152\"],[0.1,\"#c51b7d\"],[0.2,\"#de77ae\"],[0.3,\"#f1b6da\"],[0.4,\"#fde0ef\"],[0.5,\"#f7f7f7\"],[0.6,\"#e6f5d0\"],[0.7,\"#b8e186\"],[0.8,\"#7fbc41\"],[0.9,\"#4d9221\"],[1,\"#276419\"]],\"sequential\":[[0.0,\"#0d0887\"],[0.1111111111111111,\"#46039f\"],[0.2222222222222222,\"#7201a8\"],[0.3333333333333333,\"#9c179e\"],[0.4444444444444444,\"#bd3786\"],[0.5555555555555556,\"#d8576b\"],[0.6666666666666666,\"#ed7953\"],[0.7777777777777778,\"#fb9f3a\"],[0.8888888888888888,\"#fdca26\"],[1.0,\"#f0f921\"]],\"sequentialminus\":[[0.0,\"#0d0887\"],[0.1111111111111111,\"#46039f\"],[0.2222222222222222,\"#7201a8\"],[0.3333333333333333,\"#9c179e\"],[0.4444444444444444,\"#bd3786\"],[0.5555555555555556,\"#d8576b\"],[0.6666666666666666,\"#ed7953\"],[0.7777777777777778,\"#fb9f3a\"],[0.8888888888888888,\"#fdca26\"],[1.0,\"#f0f921\"]]},\"colorway\":[\"#636efa\",\"#EF553B\",\"#00cc96\",\"#ab63fa\",\"#FFA15A\",\"#19d3f3\",\"#FF6692\",\"#B6E880\",\"#FF97FF\",\"#FECB52\"],\"font\":{\"color\":\"#2a3f5f\"},\"geo\":{\"bgcolor\":\"white\",\"lakecolor\":\"white\",\"landcolor\":\"white\",\"showlakes\":true,\"showland\":true,\"subunitcolor\":\"#C8D4E3\"},\"hoverlabel\":{\"align\":\"left\"},\"hovermode\":\"closest\",\"mapbox\":{\"style\":\"light\"},\"paper_bgcolor\":\"white\",\"plot_bgcolor\":\"white\",\"polar\":{\"angularaxis\":{\"gridcolor\":\"#EBF0F8\",\"linecolor\":\"#EBF0F8\",\"ticks\":\"\"},\"bgcolor\":\"white\",\"radialaxis\":{\"gridcolor\":\"#EBF0F8\",\"linecolor\":\"#EBF0F8\",\"ticks\":\"\"}},\"scene\":{\"xaxis\":{\"backgroundcolor\":\"white\",\"gridcolor\":\"#DFE8F3\",\"gridwidth\":2,\"linecolor\":\"#EBF0F8\",\"showbackground\":true,\"ticks\":\"\",\"zerolinecolor\":\"#EBF0F8\"},\"yaxis\":{\"backgroundcolor\":\"white\",\"gridcolor\":\"#DFE8F3\",\"gridwidth\":2,\"linecolor\":\"#EBF0F8\",\"showbackground\":true,\"ticks\":\"\",\"zerolinecolor\":\"#EBF0F8\"},\"zaxis\":{\"backgroundcolor\":\"white\",\"gridcolor\":\"#DFE8F3\",\"gridwidth\":2,\"linecolor\":\"#EBF0F8\",\"showbackground\":true,\"ticks\":\"\",\"zerolinecolor\":\"#EBF0F8\"}},\"shapedefaults\":{\"line\":{\"color\":\"#2a3f5f\"}},\"ternary\":{\"aaxis\":{\"gridcolor\":\"#DFE8F3\",\"linecolor\":\"#A2B1C6\",\"ticks\":\"\"},\"baxis\":{\"gridcolor\":\"#DFE8F3\",\"linecolor\":\"#A2B1C6\",\"ticks\":\"\"},\"bgcolor\":\"white\",\"caxis\":{\"gridcolor\":\"#DFE8F3\",\"linecolor\":\"#A2B1C6\",\"ticks\":\"\"}},\"title\":{\"x\":0.05},\"xaxis\":{\"automargin\":true,\"gridcolor\":\"#EBF0F8\",\"linecolor\":\"#EBF0F8\",\"ticks\":\"\",\"title\":{\"standoff\":15},\"zerolinecolor\":\"#EBF0F8\",\"zerolinewidth\":2},\"yaxis\":{\"automargin\":true,\"gridcolor\":\"#EBF0F8\",\"linecolor\":\"#EBF0F8\",\"ticks\":\"\",\"title\":{\"standoff\":15},\"zerolinecolor\":\"#EBF0F8\",\"zerolinewidth\":2}}},\"title\":{\"text\":\"Cross-Validation (N=5) Mean Logloss with Error Bands\"},\"xaxis\":{\"title\":{\"text\":\"Training Steps\"}},\"yaxis\":{\"title\":{\"text\":\"Logloss\"}}},                        {\"responsive\": true}                    ).then(function(){\n",
       "                            \n",
       "var gd = document.getElementById('f9c3bfe6-6590-4cfe-8c8d-57e1a0dd83a0');\n",
       "var x = new MutationObserver(function (mutations, observer) {{\n",
       "        var display = window.getComputedStyle(gd).display;\n",
       "        if (!display || display === 'none') {{\n",
       "            console.log([gd, 'removed!']);\n",
       "            Plotly.purge(gd);\n",
       "            observer.disconnect();\n",
       "        }}\n",
       "}});\n",
       "\n",
       "// Listen for the removal of the full notebook cells\n",
       "var notebookContainer = gd.closest('#notebook-container');\n",
       "if (notebookContainer) {{\n",
       "    x.observe(notebookContainer, {childList: true});\n",
       "}}\n",
       "\n",
       "// Listen for the clearing of the current output cell\n",
       "var outputEl = gd.closest('.output');\n",
       "if (outputEl) {{\n",
       "    x.observe(outputEl, {childList: true});\n",
       "}}\n",
       "\n",
       "                        })                };                });            </script>        </div>"
      ]
     },
     "metadata": {},
     "output_type": "display_data"
    }
   ],
   "source": [
    "plot_error_scatter(\n",
    "    df_plot=cv_results,\n",
    "    x=\"iterations\",\n",
    "    y=\"test-Logloss-mean\",\n",
    "    err=\"test-Logloss-std\",\n",
    "    name=\"Mean logloss\",\n",
    "    title=\"Cross-Validation (N=5) Mean Logloss with Error Bands\",\n",
    "    xtitle=\"Training Steps\",\n",
    "    ytitle=\"Logloss\",\n",
    ")"
   ]
  },
  {
   "cell_type": "code",
   "execution_count": 57,
   "metadata": {},
   "outputs": [],
   "source": [
    "%reload_ext autoreload"
   ]
  },
  {
   "cell_type": "code",
   "execution_count": 58,
   "metadata": {},
   "outputs": [
    {
     "data": {
      "application/vnd.jupyter.widget-view+json": {
       "model_id": "52851dbc305546e2af552f110567d8bc",
       "version_major": 2,
       "version_minor": 0
      },
      "text/plain": [
       "MetricVisualizer(layout=Layout(align_self='stretch', height='500px'))"
      ]
     },
     "metadata": {},
     "output_type": "display_data"
    },
    {
     "name": "stderr",
     "output_type": "stream",
     "text": [
      "\u001b[32m2025-05-06 21:39:36.096\u001b[0m | \u001b[33m\u001b[1mWARNING \u001b[0m | \u001b[36mARISA_DSML.train\u001b[0m:\u001b[36mtrain\u001b[0m:\u001b[36m35\u001b[0m - \u001b[33m\u001b[1mcv_results is not a DataFrame. Skipping cv metrics and plots.\u001b[0m\n"
     ]
    },
    {
     "name": "stdout",
     "output_type": "stream",
     "text": [
      "0:\tlearn: 0.9747899\ttotal: 2.19ms\tremaining: 270ms\n",
      "50:\tlearn: 1.0000000\ttotal: 35ms\tremaining: 50.1ms\n",
      "100:\tlearn: 1.0000000\ttotal: 60.6ms\tremaining: 13.8ms\n",
      "123:\tlearn: 1.0000000\ttotal: 83ms\tremaining: 0us\n"
     ]
    },
    {
     "name": "stderr",
     "output_type": "stream",
     "text": [
      "/home/codespace/.python/current/lib/python3.12/site-packages/mlflow/types/utils.py:452: UserWarning:\n",
      "\n",
      "Hint: Inferred schema contains integer column(s). Integer columns in Python cannot represent missing values. If your input data contains missing values at inference time, it will be encoded as floats and will cause a schema enforcement error. The best way to avoid this problem is to infer the model schema based on a realistic data sample (training dataset) that includes missing values. Alternatively, you can declare integer columns as doubles (float64) whenever these columns may have missing values. See `Handling Integers With Missing Values <https://www.mlflow.org/docs/latest/models.html#handling-integers-with-missing-values>`_ for more details.\n",
      "\n",
      "Registered model 'cholesterol-pred-bclass' already exists. Creating a new version of this model...\n",
      "Created version '4' of model 'cholesterol-pred-bclass'.\n",
      "<string>:38: FutureWarning:\n",
      "\n",
      "``mlflow.tracking.client.MlflowClient.get_latest_versions`` is deprecated since 2.9.0. Model registry stages will be removed in a future major release. To learn more about the deprecation of model registry stages, see our migration guide here: https://mlflow.org/docs/latest/model-registry.html#migrating-from-stages\n",
      "\n",
      "/home/codespace/.python/current/lib/python3.12/site-packages/nannyml/chunk.py:181: UserWarning:\n",
      "\n",
      "The resulting number of chunks is too low. Please consider splitting your data in a different way or continue at your own risk.\n",
      "\n",
      "/home/codespace/.python/current/lib/python3.12/site-packages/nannyml/chunk.py:181: UserWarning:\n",
      "\n",
      "The resulting number of chunks is too low. Please consider splitting your data in a different way or continue at your own risk.\n",
      "\n",
      "/home/codespace/.python/current/lib/python3.12/site-packages/nannyml/chunk.py:181: UserWarning:\n",
      "\n",
      "The resulting number of chunks is too low. Please consider splitting your data in a different way or continue at your own risk.\n",
      "\n",
      "/home/codespace/.python/current/lib/python3.12/site-packages/nannyml/chunk.py:181: UserWarning:\n",
      "\n",
      "The resulting number of chunks is too low. Please consider splitting your data in a different way or continue at your own risk.\n",
      "\n",
      "/home/codespace/.python/current/lib/python3.12/site-packages/nannyml/chunk.py:181: UserWarning:\n",
      "\n",
      "The resulting number of chunks is too low. Please consider splitting your data in a different way or continue at your own risk.\n",
      "\n",
      "/home/codespace/.python/current/lib/python3.12/site-packages/nannyml/chunk.py:181: UserWarning:\n",
      "\n",
      "The resulting number of chunks is too low. Please consider splitting your data in a different way or continue at your own risk.\n",
      "\n",
      "/home/codespace/.python/current/lib/python3.12/site-packages/nannyml/chunk.py:181: UserWarning:\n",
      "\n",
      "The resulting number of chunks is too low. Please consider splitting your data in a different way or continue at your own risk.\n",
      "\n",
      "/home/codespace/.python/current/lib/python3.12/site-packages/nannyml/chunk.py:181: UserWarning:\n",
      "\n",
      "The resulting number of chunks is too low. Please consider splitting your data in a different way or continue at your own risk.\n",
      "\n",
      "/home/codespace/.python/current/lib/python3.12/site-packages/nannyml/chunk.py:181: UserWarning:\n",
      "\n",
      "The resulting number of chunks is too low. Please consider splitting your data in a different way or continue at your own risk.\n",
      "\n",
      "/home/codespace/.python/current/lib/python3.12/site-packages/nannyml/chunk.py:181: UserWarning:\n",
      "\n",
      "The resulting number of chunks is too low. Please consider splitting your data in a different way or continue at your own risk.\n",
      "\n",
      "/home/codespace/.python/current/lib/python3.12/site-packages/nannyml/chunk.py:181: UserWarning:\n",
      "\n",
      "The resulting number of chunks is too low. Please consider splitting your data in a different way or continue at your own risk.\n",
      "\n",
      "INFO:nannyml.base:fitting nannyml.performance_estimation.confidence_based.cbpe.CBPE\n",
      "/home/codespace/.python/current/lib/python3.12/site-packages/nannyml/chunk.py:181: UserWarning:\n",
      "\n",
      "The resulting number of chunks is too low. Please consider splitting your data in a different way or continue at your own risk.\n",
      "\n",
      "WARNING:nannyml.performance_estimation.confidence_based.metrics:roc_auc upper threshold value 1.0 overridden by upper threshold value limit 1\n",
      "/home/codespace/.python/current/lib/python3.12/site-packages/nannyml/chunk.py:181: UserWarning:\n",
      "\n",
      "The resulting number of chunks is too low. Please consider splitting your data in a different way or continue at your own risk.\n",
      "\n",
      "INFO:nannyml.io.store.base:storing object \"<nannyml.drift.univariate.calculator.UnivariateDriftCalculator object at 0x75f7774488f0>\" to store \"nannyml.io.store.file_store.FilesystemStore\"\n",
      "INFO:nannyml.io.store.base:storing object \"nannyml.performance_estimation.confidence_based.cbpe.CBPE\" to store \"nannyml.io.store.file_store.FilesystemStore\"\n"
     ]
    }
   ],
   "source": [
    "from ARISA_DSML.train import train\n",
    "\n",
    "model_path, model_params_path = train(X_train, y_train, params)"
   ]
  },
  {
   "cell_type": "code",
   "execution_count": 52,
   "metadata": {},
   "outputs": [],
   "source": [
    "dataset_test_path = RAW_DATA_DIR / \"test_cholesterol.xlsx\"\n",
    "preprocced_test_path = preprocess_df(dataset_test_path)\n",
    "df_test = pd.read_csv(preprocced_test_path)\n"
   ]
  },
  {
   "cell_type": "code",
   "execution_count": 53,
   "metadata": {},
   "outputs": [
    {
     "ename": "NameError",
     "evalue": "name 'model_params_path' is not defined",
     "output_type": "error",
     "traceback": [
      "\u001b[31m---------------------------------------------------------------------------\u001b[39m",
      "\u001b[31mNameError\u001b[39m                                 Traceback (most recent call last)",
      "\u001b[36mCell\u001b[39m\u001b[36m \u001b[39m\u001b[32mIn[53]\u001b[39m\u001b[32m, line 4\u001b[39m\n\u001b[32m      1\u001b[39m \u001b[38;5;28;01mfrom\u001b[39;00m\u001b[38;5;250m \u001b[39m\u001b[34;01mARISA_DSML\u001b[39;00m\u001b[34;01m.\u001b[39;00m\u001b[34;01mpredict\u001b[39;00m\u001b[38;5;250m \u001b[39m\u001b[38;5;28;01mimport\u001b[39;00m predict\n\u001b[32m      2\u001b[39m \u001b[38;5;28;01mfrom\u001b[39;00m\u001b[38;5;250m \u001b[39m\u001b[34;01mcatboost\u001b[39;00m\u001b[38;5;250m \u001b[39m\u001b[38;5;28;01mimport\u001b[39;00m CatBoostClassifier\n\u001b[32m----> \u001b[39m\u001b[32m4\u001b[39m params = joblib.load(\u001b[43mmodel_params_path\u001b[49m)\n\u001b[32m      5\u001b[39m display(params)\n\u001b[32m      6\u001b[39m from_file = CatBoostClassifier()\n",
      "\u001b[31mNameError\u001b[39m: name 'model_params_path' is not defined"
     ]
    }
   ],
   "source": [
    "from ARISA_DSML.predict import predict\n",
    "from catboost import CatBoostClassifier\n",
    "\n",
    "params = joblib.load(model_params_path)\n",
    "display(params)\n",
    "from_file = CatBoostClassifier()\n",
    "model = from_file.load_model(str(model_path))\n",
    "preds_path = predict(model, df_test, params)"
   ]
  }
 ],
 "metadata": {
  "kernelspec": {
   "display_name": "Python 3",
   "language": "python",
   "name": "python3"
  },
  "language_info": {
   "codemirror_mode": {
    "name": "ipython",
    "version": 3
   },
   "file_extension": ".py",
   "mimetype": "text/x-python",
   "name": "python",
   "nbconvert_exporter": "python",
   "pygments_lexer": "ipython3",
   "version": "3.12.1"
  }
 },
 "nbformat": 4,
 "nbformat_minor": 2
}

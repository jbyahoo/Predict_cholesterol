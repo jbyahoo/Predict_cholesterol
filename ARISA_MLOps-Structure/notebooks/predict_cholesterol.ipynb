{
 "cells": [
  {
   "cell_type": "code",
   "execution_count": 112,
   "metadata": {},
   "outputs": [],
   "source": [
    "import pandas as pd\n",
    "import openpyxl as opxl\n",
    "import os\n",
    "# from tabpfn import TabPFNClassifier - don't have the CPU.\n",
    "import numpy as np"
   ]
  },
  {
   "cell_type": "code",
   "execution_count": null,
   "metadata": {},
   "outputs": [],
   "source": [
    "# Importing scikit-learn\n",
    "from sklearn.preprocessing import StandardScaler\n",
    "from sklearn.model_selection import train_test_split, GridSearchCV, RepeatedStratifiedKFold, cross_val_score \n",
    "from sklearn.linear_model import LogisticRegression\n",
    "from sklearn.ensemble import RandomForestClassifier\n",
    "from sklearn.metrics import accuracy_score, f1_score\n",
    "from sklearn.svm import SVC"
   ]
  },
  {
   "cell_type": "code",
   "execution_count": 114,
   "metadata": {},
   "outputs": [],
   "source": [
    "# Checking if the file exists and the directory\n",
    "# os.listdir()"
   ]
  },
  {
   "cell_type": "code",
   "execution_count": 115,
   "metadata": {},
   "outputs": [
    {
     "name": "stdout",
     "output_type": "stream",
     "text": [
      "100\n"
     ]
    }
   ],
   "source": [
    "# Load data from the Excel file\n",
    "df_cholesterol = pd.read_excel('train_cholesterol.xlsx', sheet_name='Sheet1')\n",
    "df_cholesterol.head()\n",
    "print(df_cholesterol.shape[0])"
   ]
  },
  {
   "cell_type": "code",
   "execution_count": 116,
   "metadata": {},
   "outputs": [
    {
     "name": "stdout",
     "output_type": "stream",
     "text": [
      "['Female' 'Male']\n",
      "['Healthy' 'Moderate' 'Unhealthy']\n",
      "['No' 'Yes']\n",
      "['Low' 'High' 'Moderate']\n"
     ]
    }
   ],
   "source": [
    "unique_gender = df_cholesterol['Gender'].unique()\n",
    "unique_habits = df_cholesterol['Dietary_Habits'].unique()\n",
    "unique_familiyhist = df_cholesterol['Family_History'].unique()\n",
    "unique_physical_activity = df_cholesterol['Physical_Activity'].unique()\n",
    "print(unique_gender)\n",
    "print(unique_habits)\n",
    "print(unique_familiyhist)\n",
    "print(unique_physical_activity)"
   ]
  },
  {
   "cell_type": "code",
   "execution_count": 117,
   "metadata": {},
   "outputs": [],
   "source": [
    "# Creating function to change the text to numerical values\n",
    "def preprocess_categorical_data(df, mappings, one_hot_columns):\n",
    "# Apply mappings for categorical variables\n",
    "    for column, mapping in mappings.items():\n",
    "        if column in df.columns:\n",
    "            df[column] = df[column].map(mapping)\n",
    "\n",
    "    # Apply one-hot encoding\n",
    "    df = pd.get_dummies(df, columns=one_hot_columns)\n",
    "\n",
    "    return df\n",
    "\n",
    "mappings = {\n",
    "    'Physical_Activity': {'Low': 3, 'Moderate': 2, 'High': 1},\n",
    "    'Dietary_Habits': {'Unhealthy': 3, 'Moderate': 2, 'Healthy': 1},\n",
    "    'Family_History': {'No': 0, 'Yes': 1}\n",
    "}\n",
    "\n",
    "# Define the columns for one-hot encoding\n",
    "one_hot_columns = ['Gender']"
   ]
  },
  {
   "cell_type": "code",
   "execution_count": 118,
   "metadata": {},
   "outputs": [],
   "source": [
    "def scale_features(X):\n",
    "    # Remove zero-variance columns\n",
    "    std_devs = X.std()\n",
    "    zero_variance_cols = std_devs[std_devs == 0].index.tolist()\n",
    "    if zero_variance_cols:\n",
    "        X = X.drop(columns=zero_variance_cols)\n",
    "        print(f\"Removed zero-variance columns: {zero_variance_cols}\")\n",
    "\n",
    "    # Handle NaN/Inf values (replace with 0 or drop rows/columns)\n",
    "    X = X.fillna(0)  # Replace NaNs with 0; adjust as needed\n",
    "    X = X.replace([np.inf, -np.inf], 0)\n",
    "\n",
    "    # Scale features\n",
    "    scaler = StandardScaler()\n",
    "    X_scaled_array = scaler.fit_transform(X)\n",
    "    \n",
    "    # Convert to DataFrame\n",
    "    X_scaled = pd.DataFrame(X_scaled_array, columns=X.columns)\n",
    "    \n",
    "    return X_scaled, scaler"
   ]
  },
  {
   "cell_type": "code",
   "execution_count": 119,
   "metadata": {},
   "outputs": [
    {
     "data": {
      "text/html": [
       "<div>\n",
       "<style scoped>\n",
       "    .dataframe tbody tr th:only-of-type {\n",
       "        vertical-align: middle;\n",
       "    }\n",
       "\n",
       "    .dataframe tbody tr th {\n",
       "        vertical-align: top;\n",
       "    }\n",
       "\n",
       "    .dataframe thead th {\n",
       "        text-align: right;\n",
       "    }\n",
       "</style>\n",
       "<table border=\"1\" class=\"dataframe\">\n",
       "  <thead>\n",
       "    <tr style=\"text-align: right;\">\n",
       "      <th></th>\n",
       "      <th>id</th>\n",
       "      <th>Age</th>\n",
       "      <th>Gender</th>\n",
       "      <th>BMI</th>\n",
       "      <th>Total_Cholesterol</th>\n",
       "      <th>LDL_Cholesterol</th>\n",
       "      <th>HDL_Cholesterol</th>\n",
       "      <th>Triglycerides</th>\n",
       "      <th>Physical_Activity</th>\n",
       "      <th>Dietary_Habits</th>\n",
       "      <th>Family_History</th>\n",
       "      <th>Need_Supplement</th>\n",
       "    </tr>\n",
       "  </thead>\n",
       "  <tbody>\n",
       "    <tr>\n",
       "      <th>0</th>\n",
       "      <td>t1</td>\n",
       "      <td>68</td>\n",
       "      <td>Female</td>\n",
       "      <td>30.0</td>\n",
       "      <td>203.8</td>\n",
       "      <td>111.8</td>\n",
       "      <td>44.0</td>\n",
       "      <td>157.3</td>\n",
       "      <td>Low</td>\n",
       "      <td>Healthy</td>\n",
       "      <td>No</td>\n",
       "      <td>0</td>\n",
       "    </tr>\n",
       "    <tr>\n",
       "      <th>1</th>\n",
       "      <td>t2</td>\n",
       "      <td>58</td>\n",
       "      <td>Female</td>\n",
       "      <td>30.3</td>\n",
       "      <td>188.1</td>\n",
       "      <td>182.4</td>\n",
       "      <td>50.6</td>\n",
       "      <td>234.8</td>\n",
       "      <td>High</td>\n",
       "      <td>Moderate</td>\n",
       "      <td>No</td>\n",
       "      <td>1</td>\n",
       "    </tr>\n",
       "    <tr>\n",
       "      <th>2</th>\n",
       "      <td>t3</td>\n",
       "      <td>44</td>\n",
       "      <td>Male</td>\n",
       "      <td>20.9</td>\n",
       "      <td>194.3</td>\n",
       "      <td>74.7</td>\n",
       "      <td>60.1</td>\n",
       "      <td>97.2</td>\n",
       "      <td>High</td>\n",
       "      <td>Healthy</td>\n",
       "      <td>Yes</td>\n",
       "      <td>0</td>\n",
       "    </tr>\n",
       "    <tr>\n",
       "      <th>3</th>\n",
       "      <td>t4</td>\n",
       "      <td>72</td>\n",
       "      <td>Female</td>\n",
       "      <td>35.0</td>\n",
       "      <td>198.4</td>\n",
       "      <td>120.2</td>\n",
       "      <td>43.5</td>\n",
       "      <td>202.0</td>\n",
       "      <td>High</td>\n",
       "      <td>Healthy</td>\n",
       "      <td>No</td>\n",
       "      <td>1</td>\n",
       "    </tr>\n",
       "    <tr>\n",
       "      <th>4</th>\n",
       "      <td>t5</td>\n",
       "      <td>37</td>\n",
       "      <td>Male</td>\n",
       "      <td>22.9</td>\n",
       "      <td>277.3</td>\n",
       "      <td>186.1</td>\n",
       "      <td>36.7</td>\n",
       "      <td>156.3</td>\n",
       "      <td>Low</td>\n",
       "      <td>Moderate</td>\n",
       "      <td>Yes</td>\n",
       "      <td>1</td>\n",
       "    </tr>\n",
       "  </tbody>\n",
       "</table>\n",
       "</div>"
      ],
      "text/plain": [
       "   id  Age  Gender   BMI  Total_Cholesterol  LDL_Cholesterol  HDL_Cholesterol  \\\n",
       "0  t1   68  Female  30.0              203.8            111.8             44.0   \n",
       "1  t2   58  Female  30.3              188.1            182.4             50.6   \n",
       "2  t3   44    Male  20.9              194.3             74.7             60.1   \n",
       "3  t4   72  Female  35.0              198.4            120.2             43.5   \n",
       "4  t5   37    Male  22.9              277.3            186.1             36.7   \n",
       "\n",
       "   Triglycerides Physical_Activity Dietary_Habits Family_History  \\\n",
       "0          157.3               Low        Healthy             No   \n",
       "1          234.8              High       Moderate             No   \n",
       "2           97.2              High        Healthy            Yes   \n",
       "3          202.0              High        Healthy             No   \n",
       "4          156.3               Low       Moderate            Yes   \n",
       "\n",
       "   Need_Supplement  \n",
       "0                0  \n",
       "1                1  \n",
       "2                0  \n",
       "3                1  \n",
       "4                1  "
      ]
     },
     "execution_count": 119,
     "metadata": {},
     "output_type": "execute_result"
    }
   ],
   "source": [
    "df_cholesterol.head()"
   ]
  },
  {
   "cell_type": "code",
   "execution_count": 120,
   "metadata": {},
   "outputs": [],
   "source": [
    "mappings = {\n",
    "    'Physical_Activity': {'Low': 3, 'Moderate': 2, 'High': 1},\n",
    "    'Dietary_Habits': {'Unhealthy': 3, 'Moderate': 2, 'Healthy': 1},\n",
    "    'Family_History': {'No': 0, 'Yes': 1}\n",
    "}\n",
    "\n",
    "# Define the columns for one-hot encoding\n",
    "one_hot_columns = ['Gender']"
   ]
  },
  {
   "cell_type": "code",
   "execution_count": 121,
   "metadata": {},
   "outputs": [],
   "source": [
    "df_cholesterol = preprocess_categorical_data(df_cholesterol,mappings, one_hot_columns)"
   ]
  },
  {
   "cell_type": "code",
   "execution_count": 122,
   "metadata": {},
   "outputs": [],
   "source": [
    "X = df_cholesterol.drop(columns=['id','Need_Supplement'])\n",
    "y = df_cholesterol['Need_Supplement']\n",
    "X_scaled, scaler = scale_features(X)"
   ]
  },
  {
   "cell_type": "code",
   "execution_count": 123,
   "metadata": {},
   "outputs": [],
   "source": [
    "# Splitting the data into training and validation sets (80% train, 20% vailidation)\n",
    "X_train, X_test, y_train, y_test = train_test_split(X_scaled, y, test_size=0.2, random_state=42)"
   ]
  },
  {
   "cell_type": "code",
   "execution_count": 124,
   "metadata": {},
   "outputs": [
    {
     "name": "stdout",
     "output_type": "stream",
     "text": [
      "Fitting 15 folds for each of 12 candidates, totalling 180 fits\n"
     ]
    },
    {
     "name": "stdout",
     "output_type": "stream",
     "text": [
      "Random Forest Classifier - Best Parameters: {'max_depth': None, 'min_samples_split': 2, 'n_estimators': 50}\n",
      "Random Forest Classifier - CV Accuracy (trening): 0.9708333333333333\n",
      "\n",
      "Cross-Validation Results (RepeatedStratifiedKFold):\n",
      "Mean Accuracy: 0.971\n",
      "Standard Deviation: 0.039\n",
      "Random Forest Classifier - Accuracy (validation): 0.95\n",
      "Random Forest Classifier - F1 (validation): 0.9090909090909091\n"
     ]
    }
   ],
   "source": [
    "# 4. Hyperparameter tuning using GridSearchCV for Rundom Forest Classifier\n",
    "param_grid = {\n",
    "    \"n_estimators\": [50, 200],\n",
    "    \"max_depth\": [None, 10, 20],\n",
    "    \"min_samples_split\": [2, 5],\n",
    "}\n",
    "\n",
    "cv = RepeatedStratifiedKFold(n_splits=5, n_repeats=3, random_state=42)\n",
    "\n",
    "grid_rf = GridSearchCV(\n",
    "    estimator=RandomForestClassifier(random_state=42),\n",
    "    param_grid=param_grid,\n",
    "    cv=cv,\n",
    "    scoring=\"accuracy\",\n",
    "    n_jobs=-1,\n",
    "    verbose=1,\n",
    ")\n",
    "\n",
    "grid_rf.fit(X_train, y_train)\n",
    "\n",
    "print(\"Random Forest Classifier - Best Parameters:\", grid_rf.best_params_)\n",
    "print(\"Random Forest Classifier - CV Accuracy (trening):\", grid_rf.best_score_)\n",
    "\n",
    "grid_rf_best_model = grid_rf.best_estimator_\n",
    "cv_scores_grid_rf = cross_val_score(\n",
    "    grid_rf_best_model,\n",
    "    X_train, \n",
    "    y_train,\n",
    "    cv=cv,  # Same RepeatedStratifiedKFold object\n",
    "    scoring='accuracy',\n",
    "    n_jobs=-1\n",
    ")\n",
    "\n",
    "print(\"\\nCross-Validation Results (RepeatedStratifiedKFold):\")\n",
    "print(f\"Mean Accuracy: {cv_scores_grid_rf.mean():.3f}\")\n",
    "print(f\"Standard Deviation: {cv_scores_grid_rf.std():.3f}\")\n",
    "\n",
    "\n",
    "y_pred_rf = grid_rf_best_model.predict(X_test)\n",
    "print(\"Random Forest Classifier - Accuracy (validation):\", accuracy_score(y_test, y_pred_rf))\n",
    "print(\"Random Forest Classifier - F1 (validation):\", f1_score(y_test, y_pred_rf))\n",
    "\n"
   ]
  },
  {
   "cell_type": "code",
   "execution_count": 125,
   "metadata": {},
   "outputs": [
    {
     "name": "stdout",
     "output_type": "stream",
     "text": [
      "Fitting 50 folds for each of 12 candidates, totalling 600 fits\n",
      "Logistic Regression - Best parameters {'C': 0.1, 'penalty': 'l2', 'solver': 'saga'}\n",
      "Logistic Regression - CV Accuracy (trening): 0.7325\n",
      "\n",
      "Cross-Validation Results (RepeatedStratifiedKFold):\n",
      "Mean Accuracy: 0.733\n",
      "Standard Deviation: 0.095\n",
      "Logistic Regression - Accuracy (validation): 0.6\n",
      "Logistic Regression - F1 (validation): 0.6\n"
     ]
    }
   ],
   "source": [
    "# Defining model and hyperparameters for Logistic Regression\n",
    "model_lr = LogisticRegression(max_iter=1000)\n",
    "param_grid_lr = {\n",
    "    'C': [0.1, 1, 10],            \n",
    "    'penalty': ['l1', 'l2'],       \n",
    "    'solver': ['liblinear', 'saga']  \n",
    "}\n",
    "\n",
    "cv = RepeatedStratifiedKFold(\n",
    "    n_splits=5,       # Number of folds per repetition\n",
    "    n_repeats=10,     # Number of repetitions\n",
    "    random_state=42   # Seed for reproducibility\n",
    ")\n",
    "\n",
    "# GridSearchCV configuration\n",
    "grid_lr = GridSearchCV(\n",
    "    estimator=model_lr,\n",
    "    param_grid=param_grid_lr,\n",
    "    cv=cv,                          \n",
    "    scoring='accuracy',\n",
    "    n_jobs=-1,\n",
    "    verbose=1\n",
    ")\n",
    "\n",
    "# Fit for training\n",
    "grid_lr.fit(X_train, y_train)\n",
    "\n",
    "#Accuracy (trening)\n",
    "print(\"Logistic Regression - Best parameters\", grid_lr.best_params_)\n",
    "print(\"Logistic Regression - CV Accuracy (trening):\", grid_lr.best_score_)\n",
    "\n",
    "grid_lr_best_model = grid_lr.best_estimator_\n",
    "cv_scores_grid_lr = cross_val_score(\n",
    "    grid_lr_best_model,\n",
    "    X_train,\n",
    "    y_train,\n",
    "    cv=cv,            # Same cross-validation strategy\n",
    "    scoring='accuracy',\n",
    "    n_jobs=-1\n",
    ")\n",
    "\n",
    "print(\"\\nCross-Validation Results (RepeatedStratifiedKFold):\")\n",
    "print(f\"Mean Accuracy: {cv_scores_grid_lr.mean():.3f}\")\n",
    "print(f\"Standard Deviation: {cv_scores_grid_lr.std():.3f}\")\n",
    "\n",
    "# Test accuracy\n",
    "y_pred_lr = grid_lr_best_model.predict(X_test)\n",
    "print(\"Logistic Regression - Accuracy (validation):\", accuracy_score(y_test, y_pred_lr))\n",
    "print(\"Logistic Regression - F1 (validation):\", f1_score(y_test, y_pred_lr))\n"
   ]
  },
  {
   "cell_type": "code",
   "execution_count": 126,
   "metadata": {},
   "outputs": [
    {
     "name": "stdout",
     "output_type": "stream",
     "text": [
      "Fitting 10 folds for each of 84 candidates, totalling 840 fits\n",
      "\n",
      "SVM - Best parameters: {'C': 10, 'class_weight': None, 'gamma': 'scale'}\n",
      "SVM - Accuracy (trening): 0.8375\n",
      "\n",
      "Cross-Validation Results (RepeatedStratifiedKFold):\n",
      "Mean Accuracy: 0.842\n",
      "Standard Deviation: 0.096\n",
      "SVM - Accuracy (test): 0.85\n",
      "SVM - F1 (test): 0.7692307692307693\n"
     ]
    }
   ],
   "source": [
    "# Defining model and hyperparameters for SVM with  RBF\n",
    "model_svm = SVC(kernel='rbf')\n",
    "param_grid_svm = {\n",
    "    'C': [0.01, 0.1, 1, 10, 100, 1000],       \n",
    "    'gamma': ['scale', 'auto', 0.001, 0.01, 0.1, 1, 10],\n",
    "    'class_weight': [None, 'balanced']\n",
    "}\n",
    "\n",
    "cv = RepeatedStratifiedKFold(\n",
    "    n_splits=10,      # Liczba foldów w każdej iteracji\n",
    "    n_repeats=3,      # Liczba powtórzeń walidacji krzyżowej\n",
    "    random_state=42   # Ziarno losowości dla reprodukowalności\n",
    ")\n",
    "\n",
    "# GridSearchCV config\n",
    "grid_svm = GridSearchCV(\n",
    "    estimator=model_svm,\n",
    "    param_grid=param_grid_svm,\n",
    "    cv=10,\n",
    "    scoring='accuracy',\n",
    "    n_jobs=-1,\n",
    "    verbose=1\n",
    ")\n",
    "\n",
    "# Fit for training\n",
    "grid_svm.fit(X_train, y_train)\n",
    "\n",
    "# Accuracy (trening)\n",
    "print(\"\\nSVM - Best parameters:\", grid_svm.best_params_)\n",
    "print(\"SVM - Accuracy (trening):\", grid_svm.best_score_)\n",
    "\n",
    "grid_svm_best_model = grid_svm.best_estimator_\n",
    "cv_scores_grid_svm = cross_val_score(\n",
    "    grid_svm_best_model,\n",
    "    X_train,\n",
    "    y_train,\n",
    "    cv=cv,\n",
    "    scoring='accuracy',\n",
    "    n_jobs=-1\n",
    ")\n",
    "\n",
    "print(\"\\nCross-Validation Results (RepeatedStratifiedKFold):\")\n",
    "print(f\"Mean Accuracy: {cv_scores_grid_svm.mean():.3f}\")\n",
    "print(f\"Standard Deviation: {cv_scores_grid_svm.std():.3f}\")\n",
    "\n",
    "# Test accuracy\n",
    "y_pred_svm = grid_svm_best_model.predict(X_test)\n",
    "print(\"SVM - Accuracy (test):\", accuracy_score(y_test, y_pred_svm))\n",
    "print(\"SVM - F1 (test):\", f1_score(y_test, y_pred_svm))\n"
   ]
  },
  {
   "cell_type": "code",
   "execution_count": 127,
   "metadata": {},
   "outputs": [],
   "source": [
    "# Load data from the Excel file\n",
    "df_predict_cholesterol = pd.read_excel('predict_cholesterol.xlsx', sheet_name='Sheet1')\n",
    "df_predict_cholesterol = preprocess_categorical_data(df_predict_cholesterol,mappings, one_hot_columns)\n"
   ]
  },
  {
   "cell_type": "code",
   "execution_count": 128,
   "metadata": {},
   "outputs": [],
   "source": [
    "X_val = df_predict_cholesterol.drop(columns=['id'])\n",
    "X_val_scaled, scaler = scale_features(X_val)"
   ]
  },
  {
   "cell_type": "code",
   "execution_count": 129,
   "metadata": {},
   "outputs": [],
   "source": [
    "# Function to predict using multiple models\n",
    "def predict_with_models(models, X):\n",
    "    predictions = {}\n",
    "    \n",
    "    for model_name, model in models.items():\n",
    "        # Generate predictions for each model\n",
    "        predictions[model_name] = model.predict(X)\n",
    "    \n",
    "    return predictions"
   ]
  },
  {
   "cell_type": "code",
   "execution_count": 130,
   "metadata": {},
   "outputs": [
    {
     "name": "stdout",
     "output_type": "stream",
     "text": [
      "Random Forest Classifier Predictions:\n",
      "[0 1 1 1 1 1 1 0 0 0 0 1 1 1 0 1 0 0 1 1]\n",
      "Logistic Regression Predictions:\n",
      "[0 1 1 1 1 1 1 1 0 0 0 1 1 1 1 1 1 0 1 1]\n",
      "AVM Predictions:\n",
      "[0 1 1 1 1 1 1 0 1 0 0 1 1 1 0 1 0 0 0 1]\n"
     ]
    }
   ],
   "source": [
    "# Define models\n",
    "models = {\n",
    "    'Random Forest Classifier': grid_rf,\n",
    "    'Logistic Regression' : grid_lr,\n",
    "    'AVM': grid_svm\n",
    "\n",
    "}\n",
    "# Generate predictions for all models\n",
    "predictions = predict_with_models(models, X_val_scaled)\n",
    "\n",
    "# Display the predictions\n",
    "for model_name, preds in predictions.items():\n",
    "    print(f\"{model_name} Predictions:\")\n",
    "    print(preds)"
   ]
  },
  {
   "cell_type": "code",
   "execution_count": 131,
   "metadata": {},
   "outputs": [],
   "source": [
    "def write_predictions_to_excel(models, predictions, input_file, output_file):\n",
    "    # Load the original dataset\n",
    "    df = pd.read_excel(input_file) # 'predict_cholesterol.xlsx'\n",
    "\n",
    "    # Add predictions to the DataFrame\n",
    "    for model_name, preds in predictions.items():\n",
    "        df[model_name + '_Predictions'] = preds\n",
    "    # Save the updated DataFrame to a new Excel file\n",
    "    df.to_excel(output_file, index=False)"
   ]
  },
  {
   "cell_type": "code",
   "execution_count": 132,
   "metadata": {},
   "outputs": [
    {
     "name": "stdout",
     "output_type": "stream",
     "text": [
      "Predictions written to predict_cholesterol_borkowska_joanna.xlsx\n"
     ]
    }
   ],
   "source": [
    "# Write predictions to the new Excel with my surname and name\n",
    "write_predictions_to_excel(models, predictions, 'predict_cholesterol.xlsx', 'predict_cholesterol_borkowska_joanna.xlsx')\n",
    "\n",
    "print(\"Predictions written to predict_cholesterol_borkowska_joanna.xlsx\")\n",
    "\n"
   ]
  }
 ],
 "metadata": {
  "kernelspec": {
   "display_name": "Python 3",
   "language": "python",
   "name": "python3"
  },
  "language_info": {
   "codemirror_mode": {
    "name": "ipython",
    "version": 3
   },
   "file_extension": ".py",
   "mimetype": "text/x-python",
   "name": "python",
   "nbconvert_exporter": "python",
   "pygments_lexer": "ipython3",
   "version": "3.12.9"
  }
 },
 "nbformat": 4,
 "nbformat_minor": 2
}
